{
 "cells": [
  {
   "cell_type": "markdown",
   "metadata": {},
   "source": [
    "## First Run with v0.6.2"
   ]
  },
  {
   "cell_type": "code",
   "execution_count": 24,
   "metadata": {},
   "outputs": [
    {
     "data": {
      "text/plain": [
       "fullm (generic function with 1 method)"
      ]
     },
     "execution_count": 24,
     "metadata": {},
     "output_type": "execute_result"
    }
   ],
   "source": [
    "using ForwardDiff, BenchmarkTools, StaticArrays\n",
    "import Base.zero, Base.+, Base.-, Base.*, Base./\n",
    "\n",
    "struct Sindx{N,P} end\n",
    "struct StencilPoint{T,N,P}\n",
    "        value::NTuple{P,T}\n",
    "end\n",
    "struct Stencil{T,N,P,A}\n",
    "    v::A #Array{StencilPoint{T,N,P},N}\n",
    "end\n",
    "struct Grid{T,N,P,S<:AbstractArray}<:AbstractArray{T,N}\n",
    "    A::S\n",
    "end\n",
    "\n",
    "Stencil(x::Array{StencilPoint{T,N,P},N}) where {T,N,P} = Stencil{T,N,P,typeof(x)}(x)\n",
    "\n",
    "(::Sindx{3,7})() = ((-1,0,0),(0,-1,0),(0,0,-1),(0,0,0),(0,0,1),(0,1,0),(1,0,0))\n",
    "\n",
    "Base.start(S::StencilPoint)                                      = 1\n",
    "@inbounds Base.next(S::StencilPoint{T,N,P}, state) where {T,N,P} = ((Sindx{N,P}()()[state], S.value[state]), state + 1)\n",
    "Base.done(S::StencilPoint{T,N,P}, state) where {T,N,P}           = state > P\n",
    "\n",
    "Base.eltype(::Type{StencilPoint{T,N,P}}) where {T,N,P} = T\n",
    "Base.getindex(g::Grid{T,3,7}, i, j, k) where {T}       = g.A[i+1,j+1,k+1]\n",
    "Base.getindex(S::Stencil{T,3},i,j,k) where {T}         = S.v[i, j, k]\n",
    "Base.setindex!(g::Grid{T,3,7}, a, i, j, k) where {T} = setindex!(g.A, a, i+1, j+1, k+1)\n",
    "zero(x::Grid{T,N,P}) where {T,N,P}              = Grid{T,N,P,typeof(x.A)}(zero(x.A))\n",
    "Base.size(g::Grid{T,3,7}) where {T} = (size(g.A, 1)-2, size(g.A, 2)-2, size(g.A, 3)-2)\n",
    "Base.size(S::Stencil)               = size(S.v)\n",
    "\n",
    "function makegrid(x::Array{T,3},P) where {T}\n",
    "    r = Grid{T,3,P,Array{T,3}}(zeros(eltype(x),size(x,1)+2,size(x,2)+2,size(x,3)+2))\n",
    "    r.A[2:end-1, 2:end-1, 2:end-1] = x\n",
    "    r\n",
    "end\n",
    "\n",
    "## A*b version\n",
    "function A_mul_B!(S::Stencil{TS,3,7}, x::Grid{Txy,3,7}, y::Grid{Txy,3,7}) where {Txy,TS}\n",
    "    for k in 1:size(S.v,3), j in 1:size(S.v,2), i in 1:size(S.v,1)\n",
    "        tmp = zero(Txy)\n",
    "        @inbounds for (idx, value) in S.v[i,j,k] # @inbounds S[i,j,k] takes 0.8 ms, iterator takes 0.3ms\n",
    "            ix, jy, kz = idx\n",
    "            tmp += value*x[i+ix, j+jy, k+kz] # with inbounds - 0.3 ms\n",
    "        end\n",
    "        y[i,j,k] += tmp\n",
    "    end\n",
    "    return y\n",
    "end\n",
    "function fullm(S::Stencil{TS,3,7}, G) where {TS}\n",
    "    nx, ny, nz = size(S)\n",
    "    SS = spzeros(nx*ny*nz, nx*ny*nz)\n",
    "    GG = zeros(nx*ny*nz)\n",
    "    for i in 1:nx, j in 1:ny, k in 1:nz\n",
    "        nd = (i-1)*ny*nz+(j-1)*nz+k\n",
    "        Sv = S.v[i,j,k]\n",
    "        SS[nd,nd] += Sv.value[4]\n",
    "        GG[nd] += G[i,j,k]\n",
    "        if i!=1  SS[nd,nd-ny*nz] = Sv.value[1] end\n",
    "        if i!=nx SS[nd,nd+ny*nz] = Sv.value[7] end\n",
    "        if j!=1  SS[nd,nd-nz] = Sv.value[2] end\n",
    "        if j!=nx SS[nd,nd+nz] = Sv.value[6] end\n",
    "        if k!=1  SS[nd,nd-1]  = Sv.value[3] end\n",
    "        if k!=ny SS[nd,nd+1]  = Sv.value[5] end\n",
    "    end\n",
    "    return SS, GG\n",
    "end"
   ]
  },
  {
   "cell_type": "code",
   "execution_count": 17,
   "metadata": {},
   "outputs": [
    {
     "data": {
      "text/plain": [
       "0.49979302325581393"
      ]
     },
     "execution_count": 17,
     "metadata": {},
     "output_type": "execute_result"
    }
   ],
   "source": [
    "N = 50\n",
    "Sarray = Array{StencilPoint{Float64,3,7},3}(N, N, N);\n",
    "for i in 1:N, j in 1:N, k in 1:N\n",
    "    spt = randn(7).*rand([zeros(1);randn()],7)\n",
    "    if i==1 spt[1] = 0.0 end\n",
    "    if j==1 spt[2] = 0.0 end\n",
    "    if k==1 spt[3] = 0.0 end\n",
    "    if k==N spt[5] = 0.0 end\n",
    "    if j==N spt[6] = 0.0 end\n",
    "    if i==N spt[7] = 0.0 end\n",
    "    spt = Tuple(spt)\n",
    "    Sarray[i,j,k] = StencilPoint{Float64,3,7}(spt)\n",
    "end\n",
    "S1 = Stencil{Float64,3,7,typeof(Sarray)}(Sarray);\n",
    "G1 = makegrid(randn(N,N,N),7)\n",
    "SA, GA = fullm(S1, G1);\n",
    "length(SA.nzval)/(N*N*N*7-6*N*N)"
   ]
  },
  {
   "cell_type": "code",
   "execution_count": 18,
   "metadata": {},
   "outputs": [
    {
     "name": "stdout",
     "output_type": "stream",
     "text": [
      "  1.559 ms (3 allocations: 1.07 MiB)\n"
     ]
    }
   ],
   "source": [
    "function A_mul_B2!(S::Stencil{TS,3,P}, x::Grid{Txy,3,P}, y::Grid{Txy,3,P}) where {Txy,TS,P}\n",
    "    @inbounds for k in 1:size(S.v,3), j in 1:size(S.v,2), i in 1:size(S.v,1)\n",
    "        tmp = zero(Txy)\n",
    "        Sijk = S[i,j,k].value\n",
    "        for count in 1:P\n",
    "            #ix, jy, kz = Sindx{3,P}()()[count]\n",
    "            tmp += Sijk[count]*x[i+Sindx{3,P}()()[count][1], j+Sindx{3,P}()()[count][2], k+Sindx{3,P}()()[count][3]]\n",
    "        end\n",
    "        y[i,j,k] += tmp\n",
    "    end\n",
    "    return y\n",
    "end\n",
    "@btime A_mul_B2!(S1, G1, zero(G1));"
   ]
  },
  {
   "cell_type": "code",
   "execution_count": 28,
   "metadata": {},
   "outputs": [
    {
     "name": "stdout",
     "output_type": "stream",
     "text": [
      "  1.859 ms (3 allocations: 1.07 MiB)\n"
     ]
    }
   ],
   "source": [
    "function A_mul_B2!(S::Stencil{TS,3,P}, x::Grid{Txy,3,P}, y::Grid{Txy,3,P}) where {Txy,TS,P}\n",
    "    Sid = Sindx{3,P}()()\n",
    "    @inbounds for k in 1:size(S.v,3), j in 1:size(S.v,2), i in 1:size(S.v,1)\n",
    "        tmp = zero(Txy)\n",
    "        Sijk = S.v[i,j,k].value # with inbounds -0.3ms\n",
    "        for c in 1:P\n",
    "            tmp += Sijk[c]*getindex(x, i+Sid[c][1], j+Sid[c][2], k+Sid[c][3])\n",
    "        end\n",
    "        y[i,j,k] += tmp\n",
    "    end\n",
    "    return ysS\n",
    "end\n",
    "@btime A_mul_B2!(S1, G1, zero(G1));"
   ]
  },
  {
   "cell_type": "code",
   "execution_count": 25,
   "metadata": {},
   "outputs": [
    {
     "name": "stdout",
     "output_type": "stream",
     "text": [
      "  1.073 ms (3 allocations: 1.07 MiB)\n"
     ]
    }
   ],
   "source": [
    "@btime A_mul_B!(S1, G1, zero(G1));"
   ]
  },
  {
   "cell_type": "code",
   "execution_count": 15,
   "metadata": {},
   "outputs": [
    {
     "data": {
      "text/plain": [
       "BenchmarkTools.Trial: \n",
       "  memory estimate:  1.65 MiB\n",
       "  allocs estimate:  2\n",
       "  --------------\n",
       "  minimum time:     2.587 ms (0.00% GC)\n",
       "  median time:      2.883 ms (0.00% GC)\n",
       "  mean time:        3.011 ms (4.29% GC)\n",
       "  maximum time:     6.234 ms (30.83% GC)\n",
       "  --------------\n",
       "  samples:          1652\n",
       "  evals/sample:     1"
      ]
     },
     "execution_count": 15,
     "metadata": {},
     "output_type": "execute_result"
    }
   ],
   "source": [
    "@benchmark SA*GA"
   ]
  },
  {
   "cell_type": "code",
   "execution_count": 16,
   "metadata": {},
   "outputs": [
    {
     "data": {
      "text/plain": [
       "BenchmarkTools.Trial: \n",
       "  memory estimate:  1.82 MiB\n",
       "  allocs estimate:  3\n",
       "  --------------\n",
       "  minimum time:     2.635 ms (0.00% GC)\n",
       "  median time:      3.100 ms (0.00% GC)\n",
       "  mean time:        3.242 ms (4.60% GC)\n",
       "  maximum time:     6.507 ms (30.56% GC)\n",
       "  --------------\n",
       "  samples:          1535\n",
       "  evals/sample:     1"
      ]
     },
     "execution_count": 16,
     "metadata": {},
     "output_type": "execute_result"
    }
   ],
   "source": [
    "@benchmark A_mul_B2!(S1, G1, zero(G1))"
   ]
  },
  {
   "cell_type": "markdown",
   "metadata": {},
   "source": [
    "# Then run with v1.0.0 "
   ]
  },
  {
   "cell_type": "code",
   "execution_count": 11,
   "metadata": {},
   "outputs": [
    {
     "data": {
      "text/plain": [
       "fullm (generic function with 1 method)"
      ]
     },
     "execution_count": 11,
     "metadata": {},
     "output_type": "execute_result"
    }
   ],
   "source": [
    "using ForwardDiff, BenchmarkTools, StaticArrays, SparseArrays, LinearAlgebra\n",
    "\n",
    "import Base.zero\n",
    "import Base.+\n",
    "import Base.-\n",
    "import Base.*\n",
    "import Base./\n",
    "\n",
    "struct Sindx{N,P} end\n",
    "struct StencilPoint{T,N,P}\n",
    "        value::NTuple{P,T}\n",
    "end\n",
    "struct Stencil{T,N,P,A}\n",
    "    v::A #Array{StencilPoint{T,N,P},N}\n",
    "end\n",
    "struct Grid{T,N,P,S<:AbstractArray}<:AbstractArray{T,N}\n",
    "    A::S\n",
    "end\n",
    "\n",
    "Stencil(x::Array{StencilPoint{T,N,P},N}) where {T,N,P} = Stencil{T,N,P,typeof(x)}(x)\n",
    "\n",
    "(::Sindx{3,7})() = ((-1,0,0),(0,-1,0),(0,0,-1),(0,0,0),(0,0,1),(0,1,0),(1,0,0))\n",
    "\n",
    "Base.iterate(S::StencilPoint{T,N,P}, state = 1) where {T,N,P} = state > P ? nothing : ((Sindx{N,P}()()[state], S.value[state]), state + 1)\n",
    "\n",
    "\n",
    "Base.eltype(::Type{StencilPoint{T,N,P}}) where {T,N,P} = T\n",
    "Base.getindex(g::Grid{T,3,7}, i, j, k) where {T}       = g.A[i+1,j+1,k+1]\n",
    "Base.getindex(S::Stencil{T,3},i,j,k) where {T}         = S.v[i, j, k]\n",
    "Base.setindex!(g::Grid{T,3,7}, a, i, j, k) where {T} = setindex!(g.A, a, i+1, j+1, k+1)\n",
    "zero(x::Grid{T,N,P}) where {T,N,P}              = Grid{T,N,P,typeof(x.A)}(zero(x.A))\n",
    "Base.size(g::Grid{T,3,7}) where {T} = (size(g.A, 1)-2, size(g.A, 2)-2, size(g.A, 3)-2)\n",
    "Base.size(S::Stencil)               = size(S.v)\n",
    "\n",
    "function makegrid(x::Array{T,3},P) where {T}\n",
    "    r = Grid{T,3,P,Array{T,3}}(zeros(eltype(x),size(x,1)+2,size(x,2)+2,size(x,3)+2))\n",
    "    r.A[2:end-1, 2:end-1, 2:end-1] = x\n",
    "    r\n",
    "end\n",
    "\n",
    "## A*b version\n",
    "function A_mul_B!(S::Stencil{TS,3,7}, x::Grid{Txy,3,7}, y::Grid{Txy,3,7}) where {Txy,TS}\n",
    "    for k in 1:size(S.v,3), j in 1:size(S.v,2), i in 1:size(S.v,1)\n",
    "        tmp = zero(Txy)\n",
    "        @inbounds for (idx, value) in S[i,j,k]\n",
    "            ix, jy, kz = idx\n",
    "            tmp += value*x[i+ix, j+jy, k+kz]\n",
    "        end\n",
    "        y[i,j,k] += tmp\n",
    "    end\n",
    "    return y\n",
    "end\n",
    "function fullm(S::Stencil{TS,3,7}, G) where {TS}\n",
    "    nx, ny, nz = size(S)\n",
    "    SS = spzeros(nx*ny*nz, nx*ny*nz)\n",
    "    GG = zeros(nx*ny*nz)\n",
    "    for i in 1:nx, j in 1:ny, k in 1:nz\n",
    "        nd = (i-1)*ny*nz+(j-1)*nz+k\n",
    "        Sv = S.v[i,j,k]\n",
    "        SS[nd,nd] += Sv.value[4]\n",
    "        GG[nd] += G[i,j,k]\n",
    "        if i!=1  SS[nd,nd-ny*nz] = Sv.value[1] end\n",
    "        if i!=nx SS[nd,nd+ny*nz] = Sv.value[7] end\n",
    "        if j!=1  SS[nd,nd-nz] = Sv.value[2] end\n",
    "        if j!=nx SS[nd,nd+nz] = Sv.value[6] end\n",
    "        if k!=1  SS[nd,nd-1]  = Sv.value[3] end\n",
    "        if k!=ny SS[nd,nd+1]  = Sv.value[5] end\n",
    "    end\n",
    "    return SS, GG\n",
    "end"
   ]
  },
  {
   "cell_type": "code",
   "execution_count": 12,
   "metadata": {},
   "outputs": [
    {
     "data": {
      "text/plain": [
       "0.4996697674418605"
      ]
     },
     "execution_count": 12,
     "metadata": {},
     "output_type": "execute_result"
    }
   ],
   "source": [
    "N = 50\n",
    "Sarray = Array{StencilPoint{Float64,3,7},3}(undef,N, N, N);\n",
    "for i in 1:N, j in 1:N, k in 1:N\n",
    "    spt = randn(7).*rand([zeros(1);randn()],7)\n",
    "    if i==1 spt[1] = 0.0 end\n",
    "    if j==1 spt[2] = 0.0 end\n",
    "    if k==1 spt[3] = 0.0 end\n",
    "    if k==N spt[5] = 0.0 end\n",
    "    if j==N spt[6] = 0.0 end\n",
    "    if i==N spt[7] = 0.0 end\n",
    "    spt = Tuple(spt)\n",
    "    Sarray[i,j,k] = StencilPoint{Float64,3,7}(spt)\n",
    "end\n",
    "S1 = Stencil{Float64,3,7,typeof(Sarray)}(Sarray);\n",
    "G1 = makegrid(randn(N,N,N),7)\n",
    "SA, GA = fullm(S1, G1);\n",
    "length(SA.nzval)/(N*N*N*7-6*N*N)"
   ]
  },
  {
   "cell_type": "code",
   "execution_count": 13,
   "metadata": {},
   "outputs": [
    {
     "name": "stdout",
     "output_type": "stream",
     "text": [
      "  325.678 μs (3 allocations: 1.07 MiB)\n"
     ]
    }
   ],
   "source": [
    "@btime A_mul_B!(S1, G1, zero(G1));"
   ]
  },
  {
   "cell_type": "code",
   "execution_count": 6,
   "metadata": {},
   "outputs": [
    {
     "name": "stdout",
     "output_type": "stream",
     "text": [
      "  1.358 ms (2 allocations: 976.64 KiB)\n"
     ]
    }
   ],
   "source": [
    "@btime SA*GA;"
   ]
  },
  {
   "cell_type": "markdown",
   "metadata": {},
   "source": [
    "# Compare kernels for different iteration task : Hadamard product-like task"
   ]
  },
  {
   "cell_type": "markdown",
   "metadata": {},
   "source": [
    "# For Julia 0.6"
   ]
  },
  {
   "cell_type": "code",
   "execution_count": 9,
   "metadata": {},
   "outputs": [
    {
     "data": {
      "text/html": [
       "@inbounds(__source__::<b>LineNumberNode</b>, __module__::<b>Module</b>, blk) in Base at <a href=\"https://github.com/JuliaLang/julia/tree/5d4eaca0c9fa3d555c79dbacdccb9169fdf64b65/base/essentials.jl#L527\" target=\"_blank\">essentials.jl:527</a>"
      ],
      "text/plain": [
       "@inbounds(__source__::LineNumberNode, __module__::Module, blk) in Base at essentials.jl:527"
      ]
     },
     "execution_count": 9,
     "metadata": {},
     "output_type": "execute_result"
    }
   ],
   "source": [
    "@which @inbounds(1)"
   ]
  },
  {
   "cell_type": "code",
   "execution_count": 7,
   "metadata": {},
   "outputs": [
    {
     "data": {
      "text/plain": [
       "775.75"
      ]
     },
     "execution_count": 7,
     "metadata": {},
     "output_type": "execute_result"
    }
   ],
   "source": [
    "## Task\n",
    "for "
   ]
  },
  {
   "cell_type": "code",
   "execution_count": 7,
   "metadata": {},
   "outputs": [
    {
     "data": {
      "text/markdown": [
       "No documentation found.\n",
       "\n",
       "Binding `@Propagate_inbounds` does not exist.\n"
      ],
      "text/plain": [
       "  No documentation found.\n",
       "\n",
       "  Binding \u001b[36m@Propagate_inbounds\u001b[39m does not exist."
      ]
     },
     "execution_count": 7,
     "metadata": {},
     "output_type": "execute_result"
    }
   ],
   "source": [
    "? @Propagate_inbounds"
   ]
  },
  {
   "cell_type": "code",
   "execution_count": 18,
   "metadata": {},
   "outputs": [
    {
     "ename": "LoadError",
     "evalue": "LoadError: UndefVarError: @propagate_inbounds_meta not defined\nin expression starting at In[18]:1",
     "output_type": "error",
     "traceback": [
      "LoadError: UndefVarError: @propagate_inbounds_meta not defined\nin expression starting at In[18]:1",
      ""
     ]
    }
   ],
   "source": [
    "@propagate_inbounds_meta"
   ]
  },
  {
   "cell_type": "code",
   "execution_count": null,
   "metadata": {},
   "outputs": [],
   "source": []
  }
 ],
 "metadata": {
  "kernelspec": {
   "display_name": "Julia 0.6.2",
   "language": "julia",
   "name": "julia-0.6"
  },
  "language_info": {
   "file_extension": ".jl",
   "mimetype": "application/julia",
   "name": "julia",
   "version": "0.6.2"
  }
 },
 "nbformat": 4,
 "nbformat_minor": 2
}
