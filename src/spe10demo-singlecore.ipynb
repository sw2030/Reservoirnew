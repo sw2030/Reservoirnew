{
 "cells": [
  {
   "cell_type": "code",
   "execution_count": 1,
   "metadata": {
    "collapsed": true
   },
   "outputs": [],
   "source": [
    "#addprocs(4);\n",
    "using DistributedArrays\n",
    "@everywhere using DistributedArrays\n",
    "using ForwardDiff\n",
    "@everywhere using ForwardDiff\n",
    "using StaticArrays\n",
    "@everywhere using StaticArrays\n",
    "@everywhere include(\"Stencil.jl\")\n",
    "@everywhere include(\"stencilgmres.jl\")\n",
    "@everywhere include(\"reservoirfunc.jl\")\n",
    "@everywhere include(\"distributed.jl\")\n",
    "@everywhere include(\"res3d.jl\")\n",
    "@everywhere include(\"preconditioning.jl\")\n",
    "using BenchmarkTools"
   ]
  },
  {
   "cell_type": "code",
   "execution_count": 2,
   "metadata": {
    "collapsed": true
   },
   "outputs": [],
   "source": [
    "permdata = open(\"spe_perm.dat\")\n",
    "phidata  = open(\"spe_phi.dat\")\n",
    "raw1 = readdlm(phidata)\n",
    "raw2 = readdlm(permdata)\n",
    "close(permdata)\n",
    "close(phidata)\n",
    "porosity = reshape(raw1', 60, 220, 85)\n",
    "lineperm = reshape(raw2', 3366000, 1)\n",
    "kx = reshape(lineperm[1:1122000]', 60, 220, 85)\n",
    "ky = reshape(lineperm[1122001:2244000]', 60, 220, 85)\n",
    "kz = reshape(lineperm[2244001:end]', 60, 220, 85)\n",
    "savepor = copy(porosity)\n",
    "saveper = (kx.+ky.+kz)./3\n",
    "## Porosity pre-processing\n",
    "for id in eachindex(porosity)\n",
    "    if abs(porosity[id])<1e-3\n",
    "        porosity[id] = 0.2\n",
    "        kx[id], ky[id], kz[id] = 1e-10, 1e-10, 1e-10\n",
    "    end\n",
    "end\n",
    "kraw = [SVector{3,Float64}([kx[i,j,k], ky[i,j,k], kz[i,j,k]]) for i in 1:60, j in 1:220, k in 1:85];"
   ]
  },
  {
   "cell_type": "code",
   "execution_count": 24,
   "metadata": {
    "collapsed": true
   },
   "outputs": [],
   "source": [
    "Nx = 40\n",
    "Ny = 40\n",
    "Nz = 40\n",
    "offset = 1;"
   ]
  },
  {
   "cell_type": "code",
   "execution_count": 25,
   "metadata": {
    "collapsed": true
   },
   "outputs": [],
   "source": [
    "@everywhere p_ref = 14.7 \n",
    "@everywhere C_r   = 3e-6\n",
    "@everywhere ϕ_ref = 0.2\n",
    "#=everywhere=# ϕ     = porosity[offset:(Nx+offset-1), offset:(Ny+offset-1), offset:(Nz+offset-1)]\n",
    "@everywhere S_wc, S_or = 0.2, 0.2\n",
    "@everywhere k_r_w(x)   = ((x-S_wc)/(1-S_wc-S_or))^2\n",
    "@everywhere k_r_o(x)   = (1 - (x-S_wc)/(1-S_wc-S_or))^2\n",
    "@everywhere p_cow(x)   = 0\n",
    "@everywhere C_water    = 3e-6\n",
    "@everywhere C_oil      = 3e-6\n",
    "@everywhere ρ_water(p) = 64.0*exp(C_water*(p-p_ref)) \n",
    "@everywhere ρ_oil(p)   = 53.0*exp(C_oil*(p-p_ref))   \n",
    "@everywhere μ_water = 0.3 # cp\n",
    "@everywhere μ_oil   = 3.0 # cp"
   ]
  },
  {
   "cell_type": "code",
   "execution_count": 26,
   "metadata": {
    "collapsed": true
   },
   "outputs": [],
   "source": [
    "## 3d model\n",
    "Lx = 1200\n",
    "Ly = 2200\n",
    "Lz = 170\n",
    "Δt = 0.01\n",
    "Tf = 2000.0\n",
    "Δx = (fill(Lx/Nx, Nx, Ny, Nz))\n",
    "Δy = (fill(Ly/Ny, Nx, Ny, Nz))\n",
    "Δz = fill(Lz/Nz, Nx, Ny, Nz)\n",
    "z  = fill(12000.0, Nx, Ny, Nz)\n",
    "k = makegrid(kraw[(offset):(Nx+offset-1), offset:(Ny+offset-1), offset:(Nz+offset-1)],7)\n",
    "model = Reservoirmodel(Δt, Tf, (Δx, Δy, Δz), z, k, p_ref, C_r, ϕ_ref, ϕ, \n",
    "                k_r_w, k_r_o, p_cow, C_water, C_oil, ρ_water, ρ_oil, μ_water, μ_oil);"
   ]
  },
  {
   "cell_type": "code",
   "execution_count": 27,
   "metadata": {
    "collapsed": true
   },
   "outputs": [],
   "source": [
    "## Porosity proportional control\n",
    "Total = 5000.0\n",
    "q = zeros(Nx, Ny, Nz, 2)\n",
    "for i in (1,Nx), j in (1,Ny), k in 1:Nz\n",
    "    q[i,j,k,2] = Total*(saveper[i,j,k]/sum(saveper[i,j,:]))/4\n",
    "end\n",
    "halfx, halfy = round(Int, Nx/2),round(Int, Ny/2)\n",
    "for k in 1:Nz\n",
    "    q[halfx,halfy,k,1] = -Total*(saveper[halfx,halfy,k]/sum(saveper[halfx,halfy,:]))\n",
    "end \n",
    "#=## Constant rate well control\n",
    "Total = 1000.0\n",
    "q = zeros(Nx, Ny, Nz, 2)\n",
    "for x in (1,Nx), y in (1,Ny), z in 1:Nz\n",
    "    q[x, y, z, 1] = Total/4/Nz\n",
    "end\n",
    "for z in 1:Nz\n",
    "    q[round(Int, Nx/2),round(Int, Ny/2),z,2] = -Total/Nz\n",
    "end\n",
    "q_d = distribute(q);=#"
   ]
  },
  {
   "cell_type": "code",
   "execution_count": 28,
   "metadata": {
    "collapsed": true
   },
   "outputs": [],
   "source": [
    "init       = [SVector{2,Float64}([6000.0,0.2]) for i in 1:Nx, j in 1:Ny, k in 1:Nz]\n",
    "testgrid   = makegrid(init, 7);\n",
    "g_guess   = testgrid;"
   ]
  },
  {
   "cell_type": "code",
   "execution_count": 29,
   "metadata": {},
   "outputs": [],
   "source": [
    "S = getstencil(model, q, g_guess, testgrid)\n",
    "res = getresidual(model, q, g_guess, testgrid);"
   ]
  },
  {
   "cell_type": "code",
   "execution_count": 30,
   "metadata": {
    "collapsed": true
   },
   "outputs": [],
   "source": [
    "psps = solveprec1(model, fill(q,2), testgrid, 2);"
   ]
  },
  {
   "cell_type": "code",
   "execution_count": 31,
   "metadata": {},
   "outputs": [
    {
     "name": "stdout",
     "output_type": "stream",
     "text": [
      "1\n",
      "2\n",
      "3\n",
      "4\n",
      "5\n",
      "6\n",
      "7\n",
      "8\n",
      "9\n",
      "10\n",
      "11\n",
      "12\n",
      "13\n",
      "14\n",
      "15\n",
      "16\n",
      "17\n",
      "18\n",
      "19\n"
     ]
    }
   ],
   "source": [
    "psps = solveprec1(model, fill(q,20), testgrid, 20, printt=true);"
   ]
  },
  {
   "cell_type": "code",
   "execution_count": 22,
   "metadata": {},
   "outputs": [
    {
     "data": {
      "image/png": "[encoded data removed]",
      "text/plain": [
       "PyPlot.Figure(PyObject <matplotlib.figure.Figure object at 0x146e9d810>)"
      ]
     },
     "metadata": {},
     "output_type": "display_data"
    },
    {
     "data": {
      "text/plain": [
       "PyObject <matplotlib.image.AxesImage object at 0x146fa0d90>"
      ]
     },
     "execution_count": 22,
     "metadata": {},
     "output_type": "execute_result"
    }
   ],
   "source": [
    "imshow([psps[20][i,j,20][1] for i in 1:Nx, j in 1:Ny])"
   ]
  },
  {
   "cell_type": "code",
   "execution_count": 23,
   "metadata": {},
   "outputs": [
    {
     "data": {
      "text/plain": [
       "50×50 Array{Float64,2}:\n",
       " 5963.31  5982.96  5993.7   5997.93  …  5992.37  5984.06  5970.42  5943.43\n",
       " 5974.91  5985.82  5994.26  5997.9      5992.87  5985.5   5975.02  5957.37\n",
       " 5982.88  5989.52  5995.58  5998.28     5994.83  5988.95  5981.0   5972.23\n",
       " 5989.78  5993.94  5997.38  5998.88     5996.62  5992.62  5987.44  5982.79\n",
       " 5994.56  5996.69  5998.3   5999.34     5997.14  5994.93  5991.51  5988.4 \n",
       " 5997.19  5998.15  5998.97  5999.66  …  5996.99  5996.06  5993.74  5991.48\n",
       " 5998.67  5999.05  5999.39  5999.78     5996.96  5996.38  5995.24  5993.78\n",
       " 5999.1   5999.24  5999.57  5999.84     5996.89  5996.48  5995.91  5995.43\n",
       " 5999.25  5999.39  5999.69  5999.88     5996.75  5996.37  5996.07  5995.95\n",
       " 5999.43  5999.51  5999.77  5999.91     5996.47  5996.07  5996.01  5996.08\n",
       " 5999.66  5999.72  5999.87  5999.94  …  5995.93  5995.64  5995.85  5996.09\n",
       " 5999.83  5999.89  5999.93  5999.97     5995.21  5995.06  5995.74  5996.13\n",
       " 5999.9   5999.94  5999.97  5999.99     5994.44  5994.32  5995.65  5996.23\n",
       "    ⋮                                ⋱                                    \n",
       " 5996.03  5995.29  5993.24  5991.51     5985.23  5983.69  5982.69  5982.24\n",
       " 5992.87  5991.81  5990.09  5989.36     5984.34  5982.64  5981.75  5981.19\n",
       " 5986.66  5986.66  5986.76  5987.68  …  5983.2   5981.92  5980.79  5980.21\n",
       " 5981.63  5982.66  5982.49  5983.74     5981.75  5980.78  5979.49  5978.89\n",
       " 5977.85  5978.63  5977.59  5979.12     5980.53  5979.29  5977.81  5977.1 \n",
       " 5974.45  5973.01  5973.99  5976.6      5979.79  5978.37  5976.22  5975.34\n",
       " 5970.63  5969.0   5971.74  5974.41     5979.53  5977.71  5975.0   5974.2 \n",
       " 5967.88  5967.66  5970.22  5972.55  …  5978.77  5976.89  5973.66  5973.09\n",
       " 5959.96  5965.34  5969.22  5971.42     5977.9   5976.8   5972.7   5971.45\n",
       " 5951.29  5962.08  5966.71  5971.02     5977.56  5975.46  5972.19  5969.8 \n",
       " 5941.66  5954.39  5963.09  5970.02     5977.43  5975.01  5971.95  5967.86\n",
       " 5921.09  5947.85  5961.02  5969.06     5977.75  5974.91  5971.07  5960.55"
      ]
     },
     "execution_count": 23,
     "metadata": {},
     "output_type": "execute_result"
    }
   ],
   "source": [
    "[psps[20][i,j,20][1] for i in 1:Nx, j in 1:Ny]"
   ]
  },
  {
   "cell_type": "code",
   "execution_count": 35,
   "metadata": {},
   "outputs": [
    {
     "name": "stdout",
     "output_type": "stream",
     "text": [
      "1"
     ]
    },
    {
     "data": {
      "text/plain": [
       "9.659478136779173e-6"
      ]
     },
     "execution_count": 35,
     "metadata": {},
     "output_type": "execute_result"
    }
   ],
   "source": [
    "result_g = stencilgmres(S, res, 100;ifprint=true,M=(t->precond_1(P,E,t)))[4]"
   ]
  },
  {
   "cell_type": "code",
   "execution_count": 41,
   "metadata": {},
   "outputs": [
    {
     "name": "stdout",
     "output_type": "stream",
     "text": [
      "123456789101112131415161718192021222324252627282930313233343536373839404142434445464748495051525354555657585960"
     ]
    }
   ],
   "source": [
    "N = Nx*Ny*Nz\n",
    "Nxy = Nx*Ny\n",
    "A = spzeros(2N,2N)\n",
    "b = zeros(2N)\n",
    "bb = zeros(2N)\n",
    "for i in 1:Nx, j in 1:Ny, k in 1:Nz\n",
    "    nd = (k-1)*Nxy+(j-1)*Nx+i\n",
    "    A[(2*nd-1):2*nd, (2*nd-1):2*nd] = S[i,j,k].value[4]\n",
    "    if i!=1  A[(2*nd-1):2*nd, (2*nd-3):(2*nd-2)]           = S[i,j,k].value[1] end\n",
    "    if j!=1  A[(2*nd-1):2*nd, (2*nd-2*Nx-1):(2*nd-2*Nx)]   = S[i,j,k].value[2] end  \n",
    "    if k!=1  A[(2*nd-1):2*nd, (2*nd-2*Nxy-1):(2*nd-2*Nxy)] = S[i,j,k].value[3] end\n",
    "    if k!=Nz A[(2*nd-1):2*nd, (2*nd+2*Nxy-1):(2*nd+2*Nxy)] = S[i,j,k].value[5] end\n",
    "    if j!=Ny A[(2*nd-1):2*nd, (2*nd+2*Nx-1):(2*nd+2*Nx)]   = S[i,j,k].value[6] end\n",
    "    if i!=Nx A[(2*nd-1):2*nd, (2*nd+1):(2*nd+2)]           = S[i,j,k].value[7] end\n",
    "    b[(2*nd-1):(2*nd)] = res[i,j,k]\n",
    "    bb[(2*nd-1):(2*nd)] = result_g[i,j,k]\n",
    "    if (j==1)&&(k==1) print(i) end\n",
    "end    \n",
    "#ab = (A\\b)"
   ]
  },
  {
   "cell_type": "code",
   "execution_count": 29,
   "metadata": {
    "collapsed": true
   },
   "outputs": [],
   "source": [
    "PrecondP = zeros(A)\n",
    "for i in 1:size(A,1), j in 1:size(A,2)\n",
    "    if abs(i-j)<3.5 PrecondP[i,j] = A[i,j] end\n",
    "end\n",
    "E = A-PrecondP\n",
    "P_A = inv(inv(full(PrecondP))*(eye(A)-E*inv(full(PrecondP))));\n",
    "P_A_inv = (inv(full(PrecondP))*eye(A)-E*inv(full(PrecondP)));"
   ]
  },
  {
   "cell_type": "code",
   "execution_count": 30,
   "metadata": {},
   "outputs": [
    {
     "data": {
      "text/plain": [
       "([0.0115155, -6.56368e-9, 1.50236e-5, -1.02709e-11, 2.06247e-8, -1.5587e-14, 3.39189e-11, -3.21048e-17, 4.13656e-14, -4.35804e-20  …  2.61436e-6, -5.12135e-11, 1.2998e-5, -1.60616e-10, 5.15291e-5, -7.022e-11, 0.000294822, -4.07073e-10, 0.0429689, -2.91515e-8], Not converged after 8192 iterations.)"
      ]
     },
     "execution_count": 30,
     "metadata": {},
     "output_type": "execute_result"
    }
   ],
   "source": [
    "IterativeSolvers.gmres(A, b;log=true, restart = 100)"
   ]
  },
  {
   "cell_type": "code",
   "execution_count": 31,
   "metadata": {},
   "outputs": [
    {
     "data": {
      "text/plain": [
       "([0.0115504, -6.93026e-9, 1.54878e-5, -9.29268e-12, 2.23621e-8, -1.34173e-14, 4.10156e-11, -2.46094e-17, 5.79026e-14, -3.47416e-20  …  1.17908e-5, -7.0745e-12, 3.23859e-5, -1.94315e-11, 7.39067e-5, -4.4344e-11, 0.000349556, -2.09734e-10, 0.0440842, -2.64505e-8], Converged after 27 iterations.)"
      ]
     },
     "execution_count": 31,
     "metadata": {},
     "output_type": "execute_result"
    }
   ],
   "source": [
    "IterativeSolvers.gmres(A, b; Pl=lufact!(full(P_A)),log=true,restart=100)"
   ]
  },
  {
   "cell_type": "code",
   "execution_count": 32,
   "metadata": {
    "collapsed": true
   },
   "outputs": [],
   "source": [
    "N = Nx*Ny*Nz\n",
    "Nxy = Nx*Ny\n",
    "stencilarray_P = Array{StencilPoint{typeof(@SMatrix(randn(2,2))),3,7},3}(Nx,Ny,Nz)\n",
    "for i in 1:Nx, j in 1:Ny, k in 1:Nz\n",
    "    temp = [@SMatrix(zeros(2,2)) for xxx in 1:7]\n",
    "    nd = (k-1)*Nxy+(j-1)*Nx+i\n",
    "    temp[4] = P_A_inv[(2*nd-1):2*nd, (2*nd-1):2*nd]\n",
    "    if i!=1  temp[1] = SMatrix{2,2}(P_A_inv[(2*nd-1):2*nd, (2*nd-3):(2*nd-2)])           end\n",
    "    if j!=1  temp[2] = SMatrix{2,2}(P_A_inv[(2*nd-1):2*nd, (2*nd-2*Nx-1):(2*nd-2*Nx)])   end  \n",
    "    if k!=1  temp[3] = SMatrix{2,2}(P_A_inv[(2*nd-1):2*nd, (2*nd-2*Nxy-1):(2*nd-2*Nxy)]) end\n",
    "    if k!=Nz temp[5] = SMatrix{2,2}(P_A_inv[(2*nd-1):2*nd, (2*nd+2*Nxy-1):(2*nd+2*Nxy)]) end\n",
    "    if j!=Ny temp[6] = SMatrix{2,2}(P_A_inv[(2*nd-1):2*nd, (2*nd+2*Nx-1):(2*nd+2*Nx)])   end\n",
    "    if i!=Nx temp[7] = SMatrix{2,2}(P_A_inv[(2*nd-1):2*nd, (2*nd+1):(2*nd+2)])           end  \n",
    "    stencilarray_P[i,j,k] = StencilPoint{eltype(temp),3,7}(Tuple(temp))\n",
    "end  \n",
    "P_A_Stencil = Stencil{typeof(stencilarray_P[1,1,1].value[1]),3,7,typeof(stencilarray_P)}(stencilarray_P);"
   ]
  },
  {
   "cell_type": "code",
   "execution_count": 33,
   "metadata": {},
   "outputs": [
    {
     "name": "stdout",
     "output_type": "stream",
     "text": [
      "123456789101112131415161718192021222324252627"
     ]
    },
    {
     "data": {
      "text/plain": [
       "16×16×16 Grid{StaticArrays.SArray{Tuple{2},Float64,1,2},3,7,Array{StaticArrays.SArray{Tuple{2},Float64,1,2},3}}:\n",
       "[:, :, 1] =\n",
       " [0.0115504, -6.93026e-9]     …  [0.0486194, -2.91719e-8]   \n",
       " [1.54878e-5, -9.29269e-12]      [0.000250807, -1.50485e-10]\n",
       " [2.23621e-8, -1.3403e-14]       [1.18658e-6, -7.11492e-13] \n",
       " [4.10156e-11, -2.57871e-17]     [2.55198e-9, -1.52975e-15] \n",
       " [5.79026e-14, -1.01312e-18]     [2.24175e-12, -4.52068e-19]\n",
       " [1.19567e-16, 2.49023e-19]   …  [1.25604e-15, 2.51088e-20] \n",
       " [2.50101e-18, 4.67675e-19]      [1.61989e-17, 1.12865e-19] \n",
       " [3.24755e-20, 4.93713e-20]      [6.9593e-15, 2.38987e-18]  \n",
       " [8.57212e-21, 2.89745e-19]      [1.78068e-12, 1.96307e-16] \n",
       " [3.7637e-20, 3.74101e-21]       [2.59303e-10, -4.63816e-15]\n",
       " [2.4294e-17, -3.17708e-23]   …  [2.93724e-8, -6.23282e-15] \n",
       " [1.87968e-14, -1.11333e-20]     [2.74296e-6, -2.09077e-12] \n",
       " [5.18497e-11, -3.11096e-17]     [9.00098e-5, -5.35543e-11] \n",
       " [1.1075e-7, -6.64498e-14]       [0.00163789, -9.82581e-10] \n",
       " [7.5718e-5, -4.54308e-11]       [0.0346502, -2.07986e-8]   \n",
       " [0.0326305, -1.95783e-8]     …  [0.638801, -3.83413e-7]    \n",
       "\n",
       "[:, :, 2] =\n",
       " [0.0123088, -7.38531e-9]     …  [0.128325, -7.69966e-8]    \n",
       " [1.5762e-5, -9.44596e-12]       [0.000902616, -5.41574e-10]\n",
       " [7.35319e-8, -5.676e-14]        [3.98295e-6, -2.39073e-12] \n",
       " [3.50663e-9, -5.39687e-15]      [1.29481e-8, -7.54445e-15] \n",
       " [1.01686e-10, -2.12576e-15]     [4.02838e-11, 3.55482e-16] \n",
       " [4.91269e-12, 5.71999e-17]   …  [1.5376e-13, 6.04873e-16]  \n",
       " [2.07682e-13, -2.86915e-15]     [2.6551e-14, 1.11565e-16]  \n",
       " [3.75017e-15, 1.8841e-16]       [8.11186e-12, 5.47372e-15] \n",
       " [4.01331e-16, 1.75388e-16]      [1.27795e-9, -2.07841e-14] \n",
       " [1.43755e-17, 3.42994e-18]      [7.85905e-8, 3.4074e-14]   \n",
       " [7.01014e-17, 3.04664e-18]   …  [1.28058e-6, -4.13754e-12] \n",
       " [5.36826e-14, 7.14805e-19]      [9.42918e-6, -8.82386e-12] \n",
       " [6.19731e-11, -3.70753e-17]     [0.000102793, -6.80134e-11]\n",
       " [7.09185e-8, -4.35886e-14]      [0.00147109, -8.81876e-10] \n",
       " [4.24317e-5, -2.54588e-11]      [0.0244032, -1.46428e-8]   \n",
       " [0.0229306, -1.37584e-8]     …  [0.540612, -3.24416e-7]    \n",
       "\n",
       "[:, :, 3] =\n",
       " [1.66673, -1.0002e-6]        …  [0.271617, -1.62994e-7]    \n",
       " [0.11709, -7.02519e-8]          [0.00390711, -2.34431e-9]  \n",
       " [0.00523489, -3.11438e-9]       [8.32848e-5, -4.94066e-11] \n",
       " [0.000416451, -2.621e-10]       [2.83581e-6, -1.47356e-12] \n",
       " [1.00269e-5, -5.83727e-12]      [1.21782e-7, 6.29766e-14]  \n",
       " [3.2059e-7, -8.57254e-13]    …  [6.24897e-9, -2.81622e-15] \n",
       " [1.7135e-8, -5.05523e-13]       [7.69313e-10, -4.06976e-14]\n",
       " [4.7453e-10, 2.70792e-13]       [1.04077e-8, -5.41461e-12] \n",
       " [2.21538e-11, 2.94806e-13]      [4.71347e-7, 3.71726e-12]  \n",
       " [9.15496e-13, -9.48333e-17]     [1.55582e-5, -1.7672e-11]  \n",
       " [6.45469e-13, 9.40103e-18]   …  [0.000289973, -2.1215e-10] \n",
       " [1.66145e-10, 5.22302e-16]      [0.0021344, -9.59232e-10]  \n",
       " [9.58381e-8, -5.70187e-14]      [0.0123242, -7.62173e-9]   \n",
       " [4.58233e-5, -2.75145e-11]      [0.0684091, -4.14535e-8]   \n",
       " [0.00557965, -3.34776e-9]       [0.464484, -2.78931e-7]    \n",
       " [0.293301, -1.76018e-7]      …  [3.18314, -1.9109e-6]      \n",
       "\n",
       "...\n",
       "\n",
       "[:, :, 14] =\n",
       " [25.8535, -1.56666e-5]       …  [2.63481, -1.58178e-6]     \n",
       " [9.47404, -5.68154e-6]          [1.30298, -8.17469e-7]     \n",
       " [1.1674, -7.76473e-7]           [0.00476827, -2.86096e-9]  \n",
       " [0.382093, -2.45055e-7]         [1.45215e-5, -8.71291e-12] \n",
       " [0.155673, -9.52469e-8]         [1.21013e-8, -7.26017e-15] \n",
       " [0.0701796, -6.79976e-8]     …  [6.26012e-12, -3.75434e-18]\n",
       " [0.0422967, 6.28175e-10]        [-1.93604e-12, 1.53392e-18]\n",
       " [0.0309097, 3.00811e-8]         [-2.17949e-9, 1.02652e-15] \n",
       " [0.0304491, -1.29754e-8]        [-1.09606e-6, 1.96104e-11] \n",
       " [7.67412e-5, -1.9153e-11]       [-9.54497e-7, 2.05473e-11] \n",
       " [0.000130123, -7.61517e-11]  …  [-1.39679e-5, 2.53047e-9]  \n",
       " [0.000545527, -3.32074e-10]     [-4.95563e-6, 6.54094e-10] \n",
       " [0.0228799, -1.3623e-8]         [-1.44982e-6, -3.34286e-12]\n",
       " [8.93204, -5.37278e-6]          [7.4201e-7, -1.4529e-11]   \n",
       " [13.1106, -7.79691e-6]          [2.87119e-6, 1.17734e-10]  \n",
       " [21.8933, -1.40098e-5]       …  [0.00541876, -3.25129e-9]  \n",
       "\n",
       "[:, :, 15] =\n",
       " [17.6342, -1.05647e-5]      …  [9.22944, -5.55919e-6]      \n",
       " [11.5832, -6.94494e-6]         [24.8361, -3.28805e-5]      \n",
       " [8.18737, -4.97815e-6]         [0.0319223, -1.91535e-8]    \n",
       " [4.64737, -2.79179e-6]         [3.40868e-5, -2.04521e-11]  \n",
       " [2.57263, -1.52834e-6]         [3.34695e-8, -2.00792e-14]  \n",
       " [1.48699, -8.24476e-7]      …  [3.69614e-11, -2.22146e-17] \n",
       " [0.885669, -6.74218e-7]        [1.43889e-14, 1.60728e-16]  \n",
       " [0.648657, -2.36461e-7]        [-1.54662e-11, -8.94136e-16]\n",
       " [0.532524, -5.91633e-7]        [-5.65355e-9, 2.65397e-12]  \n",
       " [0.00186493, -9.63528e-10]     [-7.27369e-9, -2.81773e-13] \n",
       " [0.00202834, -1.44628e-9]   …  [-1.48125e-6, 3.12525e-10]  \n",
       " [0.491703, -3.14622e-7]        [1.60134e-6, 4.12149e-10]   \n",
       " [1.21699, -7.72543e-7]         [7.01404e-6, -1.30863e-11]  \n",
       " [2.19364, -1.31405e-6]         [2.26785e-5, -1.3692e-11]   \n",
       " [5.69075, -3.41753e-6]         [6.3724e-5, -4.15263e-11]   \n",
       " [14.7077, -8.86278e-6]      …  [0.0256205, -1.53724e-8]    \n",
       "\n",
       "[:, :, 16] =\n",
       " [24.0319, -1.43784e-5]      …  [92.5331, -5.55397e-5]     \n",
       " [14.7688, -8.85605e-6]         [31.7765, -3.52735e-5]     \n",
       " [6.11952, -3.63763e-6]         [0.462839, -2.77703e-7]    \n",
       " [2.291, -1.39038e-6]           [0.000199135, -1.19481e-10]\n",
       " [1.03134, -5.19087e-7]         [4.57684e-7, -2.74609e-13] \n",
       " [0.619209, -4.04469e-7]     …  [2.34998e-9, -1.40183e-15] \n",
       " [0.33822, -1.3709e-7]          [8.54218e-11, 2.26508e-16] \n",
       " [0.195759, -1.34907e-7]        [1.0258e-12, 7.80408e-14]  \n",
       " [0.152056, -9.0534e-8]         [4.22995e-18, 2.58735e-20] \n",
       " [0.000297291, -7.7091e-10]     [1.22521e-6, 3.47796e-12]  \n",
       " [0.00215216, 3.89339e-10]   …  [7.52613e-6, -5.48647e-11] \n",
       " [0.766387, -8.60053e-7]        [1.17909e-5, -9.27329e-11] \n",
       " [1.36487, -6.58004e-7]         [3.23859e-5, -2.00952e-11] \n",
       " [2.89394, -2.1999e-6]          [7.39067e-5, -4.93757e-11] \n",
       " [4.09497, -2.05904e-6]         [0.000349556, -2.03277e-10]\n",
       " [7.44523, -4.53339e-6]      …  [0.0440842, -2.64505e-8]   "
      ]
     },
     "execution_count": 33,
     "metadata": {},
     "output_type": "execute_result"
    }
   ],
   "source": [
    "result_g2 = stencilgmres(S, res, 20;maxiter=100,ifprint=true, M = (t->P_A_Stencil*t),tol=1e-9)[1]"
   ]
  },
  {
   "cell_type": "code",
   "execution_count": 34,
   "metadata": {},
   "outputs": [
    {
     "name": "stdout",
     "output_type": "stream",
     "text": [
      "12345678910111213141516"
     ]
    },
    {
     "data": {
      "text/plain": [
       "8192-element Array{Float64,1}:\n",
       "  0.0115504  \n",
       " -6.93026e-9 \n",
       "  1.54878e-5 \n",
       " -9.29268e-12\n",
       "  2.23621e-8 \n",
       " -1.34173e-14\n",
       "  4.10156e-11\n",
       " -2.46094e-17\n",
       "  5.79026e-14\n",
       " -3.47416e-20\n",
       "  1.19564e-16\n",
       " -7.17382e-23\n",
       "  2.49444e-18\n",
       "  ⋮          \n",
       "  7.52614e-6 \n",
       " -4.51568e-12\n",
       "  1.17909e-5 \n",
       " -7.07453e-12\n",
       "  3.23859e-5 \n",
       " -1.94315e-11\n",
       "  7.39067e-5 \n",
       " -4.4344e-11 \n",
       "  0.000349556\n",
       " -2.09734e-10\n",
       "  0.0440842  \n",
       " -2.64505e-8 "
      ]
     },
     "execution_count": 34,
     "metadata": {},
     "output_type": "execute_result"
    }
   ],
   "source": [
    "N = Nx*Ny*Nz\n",
    "Nxy = Nx*Ny\n",
    "A = spzeros(2N,2N)\n",
    "b = zeros(2N)\n",
    "bb = zeros(2N)\n",
    "bbb = zeros(2N)\n",
    "for i in 1:Nx, j in 1:Ny, k in 1:Nz\n",
    "    nd = (k-1)*Nxy+(j-1)*Nx+i\n",
    "    A[(2*nd-1):2*nd, (2*nd-1):2*nd] = S[i,j,k].value[4]\n",
    "    if i!=1  A[(2*nd-1):2*nd, (2*nd-3):(2*nd-2)]           = S[i,j,k].value[1] end\n",
    "    if j!=1  A[(2*nd-1):2*nd, (2*nd-2*Nx-1):(2*nd-2*Nx)]   = S[i,j,k].value[2] end  \n",
    "    if k!=1  A[(2*nd-1):2*nd, (2*nd-2*Nxy-1):(2*nd-2*Nxy)] = S[i,j,k].value[3] end\n",
    "    if k!=Nz A[(2*nd-1):2*nd, (2*nd+2*Nxy-1):(2*nd+2*Nxy)] = S[i,j,k].value[5] end\n",
    "    if j!=Ny A[(2*nd-1):2*nd, (2*nd+2*Nx-1):(2*nd+2*Nx)]   = S[i,j,k].value[6] end\n",
    "    if i!=Nx A[(2*nd-1):2*nd, (2*nd+1):(2*nd+2)]           = S[i,j,k].value[7] end\n",
    "    b[(2*nd-1):(2*nd)] = res[i,j,k]\n",
    "    bb[(2*nd-1):(2*nd)] = result_g[i,j,k]\n",
    "    bbb[(2*nd-1):(2*nd)] = result_g2[i,j,k]\n",
    "    if (j==1)&&(k==1) print(i) end\n",
    "end    \n",
    "ab = (A\\b)"
   ]
  },
  {
   "cell_type": "code",
   "execution_count": 35,
   "metadata": {},
   "outputs": [
    {
     "data": {
      "text/plain": [
       "2.270991796764079"
      ]
     },
     "execution_count": 35,
     "metadata": {},
     "output_type": "execute_result"
    }
   ],
   "source": [
    "maximum(abs.(ab-bb))"
   ]
  },
  {
   "cell_type": "code",
   "execution_count": 36,
   "metadata": {},
   "outputs": [
    {
     "data": {
      "text/plain": [
       "0.00018114996381795025"
      ]
     },
     "execution_count": 36,
     "metadata": {},
     "output_type": "execute_result"
    }
   ],
   "source": [
    "maximum(abs.(ab-bbb))"
   ]
  },
  {
   "cell_type": "code",
   "execution_count": 37,
   "metadata": {},
   "outputs": [
    {
     "data": {
      "text/plain": [
       "(2.8959908930086975, 0.00033804160815213566)"
      ]
     },
     "execution_count": 37,
     "metadata": {},
     "output_type": "execute_result"
    }
   ],
   "source": [
    "norm(ab-bb), norm(ab-bbb)"
   ]
  },
  {
   "cell_type": "code",
   "execution_count": 43,
   "metadata": {},
   "outputs": [
    {
     "data": {
      "text/plain": [
       "16×16×16 Array{StencilPoint{StaticArrays.SArray{Tuple{2,2},Float64,2,4},3,7},3}:\n",
       "[:, :, 1] =\n",
       " StencilPoint{StaticArrays.SArray{Tuple{2,2},Float64,2,4},3,7}(([0.0 0.0; 0.0 0.0], [0.0 0.0; 0.0 0.0], [0.0 0.0; 0.0 0.0], [-12.7868 -2.13113e7; -42.4382 1.76485e7], [0.0 0.0; 0.000281267 0.0], [0.0 0.0; 0.0186915 0.0], [0.0 0.0; 0.0623274 0.0]))        …  StencilPoint{StaticArrays.SArray{Tuple{2,2},Float64,2,4},3,7}(([0.0 0.0; 0.0 0.0], [0.0 0.0; 0.0726078 0.0], [0.0 0.0; 0.0 0.0], [-18.6878 -3.11464e7; -62.3841 2.57931e7], [0.0 0.0; 0.00188046 0.0], [0.0 0.0; 0.0 0.0], [0.0 0.0; 0.402621 0.0]))        \n",
       " StencilPoint{StaticArrays.SArray{Tuple{2,2},Float64,2,4},3,7}(([0.0 0.0; 0.0623274 0.0], [0.0 0.0; 0.0 0.0], [0.0 0.0; 0.0 0.0], [-11.1865 -1.86442e7; -37.219 1.54397e7], [0.0 0.0; 0.000399631 0.0], [0.0 0.0; 0.0128286 0.0], [0.0 0.0; 0.0880639 0.0]))      StencilPoint{StaticArrays.SArray{Tuple{2,2},Float64,2,4},3,7}(([0.0 0.0; 0.402621 0.0], [0.0 0.0; 0.0854413 0.0], [0.0 0.0; 0.0 0.0], [-18.624 -3.104e7; -62.6338 2.5705e7], [0.0 0.0; 0.00159193 0.0], [0.0 0.0; 0.0 0.0], [0.0 0.0; 0.452199 0.0]))       \n",
       " StencilPoint{StaticArrays.SArray{Tuple{2,2},Float64,2,4},3,7}(([0.0 0.0; 0.0880639 0.0], [0.0 0.0; 0.0 0.0], [0.0 0.0; 0.0 0.0], [-14.6794 -2.44657e7; -48.8373 2.02607e7], [0.0 0.0; 0.000372521 0.0], [0.0 0.0; 0.0182043 0.0], [0.0 0.0; 0.105097 0.0]))      StencilPoint{StaticArrays.SArray{Tuple{2,2},Float64,2,4},3,7}(([0.0 0.0; 0.452199 0.0], [0.0 0.0; 0.144347 0.0], [0.0 0.0; 0.0 0.0], [-22.8877 -3.81462e7; -76.6323 3.15898e7], [0.0 0.0; 0.00116006 0.0], [0.0 0.0; 0.0 0.0], [0.0 0.0; 0.219037 0.0]))    \n",
       " StencilPoint{StaticArrays.SArray{Tuple{2,2},Float64,2,4},3,7}(([0.0 0.0; 0.105097 0.0], [0.0 0.0; 0.0 0.0], [0.0 0.0; 0.0 0.0], [-13.7909 -2.29849e7; -45.9077 1.90344e7], [0.0 0.0; 0.000332755 0.0], [0.0 0.0; 0.0209279 0.0], [0.0 0.0; 0.0988281 0.0]))      StencilPoint{StaticArrays.SArray{Tuple{2,2},Float64,2,4},3,7}(([0.0 0.0; 0.219037 0.0], [0.0 0.0; 0.0722988 0.0], [0.0 0.0; 0.0 0.0], [-24.5065 -4.08441e7; -81.5552 3.3824e7], [0.0 0.0; 0.000891841 0.0], [0.0 0.0; 0.0 0.0], [0.0 0.0; 0.0852963 0.0]))  \n",
       " StencilPoint{StaticArrays.SArray{Tuple{2,2},Float64,2,4},3,7}(([0.0 0.0; 0.0988281 0.0], [0.0 0.0; 0.0 0.0], [0.0 0.0; 0.0 0.0], [-17.0202 -2.8367e7; -56.6055 2.34914e7], [0.0 0.0; 0.00039543 0.0], [0.0 0.0; 0.0295144 0.0], [0.0 0.0; 0.0973521 0.0]))       StencilPoint{StaticArrays.SArray{Tuple{2,2},Float64,2,4},3,7}(([0.0 0.0; 0.0852963 0.0], [0.0 0.0; 0.028419 0.0], [0.0 0.0; 0.0 0.0], [-23.415 -3.90251e7; -77.7192 3.23176e7], [0.0 0.0; 0.00044185 0.0], [0.0 0.0; 0.0 0.0], [0.0 0.0; 0.0427716 0.0]))   \n",
       " StencilPoint{StaticArrays.SArray{Tuple{2,2},Float64,2,4},3,7}(([0.0 0.0; 0.0973521 0.0], [0.0 0.0; 0.0 0.0], [0.0 0.0; 0.0 0.0], [-16.991 -2.83183e7; -56.5665 2.34511e7], [0.0 0.0; 0.000571587 0.0], [0.0 0.0; 0.0467241 0.0], [0.0 0.0; 0.139286 0.0]))    …  StencilPoint{StaticArrays.SArray{Tuple{2,2},Float64,2,4},3,7}(([0.0 0.0; 0.0427716 0.0], [0.0 0.0; 0.0173433 0.0], [0.0 0.0; 0.0 0.0], [-18.4183 -3.06972e7; -61.1219 2.54211e7], [0.0 0.0; 0.000257038 0.0], [0.0 0.0; 0.0 0.0], [0.0 0.0; 0.0508877 0.0]))\n",
       " StencilPoint{StaticArrays.SArray{Tuple{2,2},Float64,2,4},3,7}(([0.0 0.0; 0.139286 0.0], [0.0 0.0; 0.0 0.0], [0.0 0.0; 0.0 0.0], [-16.08 -2.68e7; -53.6803 2.21937e7], [0.0 0.0; 0.000723413 0.0], [0.0 0.0; 0.0834978 0.0], [0.0 0.0; 0.191893 0.0]))            StencilPoint{StaticArrays.SArray{Tuple{2,2},Float64,2,4},3,7}(([0.0 0.0; 0.0508877 0.0], [0.0 0.0; 0.0392615 0.0], [0.0 0.0; 0.0 0.0], [-15.4498 -2.57497e7; -51.4063 2.1324e7], [0.0 0.0; 0.000533611 0.0], [0.0 0.0; 0.0 0.0], [0.0 0.0; 0.138141 0.0]))  \n",
       " StencilPoint{StaticArrays.SArray{Tuple{2,2},Float64,2,4},3,7}(([0.0 0.0; 0.191893 0.0], [0.0 0.0; 0.0 0.0], [0.0 0.0; 0.0 0.0], [-16.7851 -2.79751e7; -56.2281 2.31669e7], [0.0 0.0; 0.000462192 0.0], [0.0 0.0; 0.111307 0.0], [0.0 0.0; 0.323965 0.0]))        StencilPoint{StaticArrays.SArray{Tuple{2,2},Float64,2,4},3,7}(([0.0 0.0; 0.138141 0.0], [0.0 0.0; 0.0534433 0.0], [0.0 0.0; 0.0 0.0], [-16.5191 -2.75318e7; -55.1752 2.27998e7], [0.0 0.0; 0.00137501 0.0], [0.0 0.0; 0.0 0.0], [0.0 0.0; 0.26267 0.0]))    \n",
       " StencilPoint{StaticArrays.SArray{Tuple{2,2},Float64,2,4},3,7}(([0.0 0.0; 0.323965 0.0], [0.0 0.0; 0.0 0.0], [0.0 0.0; 0.0 0.0], [-19.0153 -3.16922e7; -63.6502 2.62451e7], [0.0 0.0; 0.000925887 0.0], [0.0 0.0; 0.136788 0.0], [0.0 0.0; 0.200218 0.0]))        StencilPoint{StaticArrays.SArray{Tuple{2,2},Float64,2,4},3,7}(([0.0 0.0; 0.26267 0.0], [0.0 0.0; 0.137955 0.0], [0.0 0.0; 0.0 0.0], [-18.2167 -3.03611e7; -61.257 2.51428e7], [0.0 0.0; 0.00248786 0.0], [0.0 0.0; 0.0 0.0], [0.0 0.0; 0.51121 0.0]))       \n",
       " StencilPoint{StaticArrays.SArray{Tuple{2,2},Float64,2,4},3,7}(([0.0 0.0; 0.200218 0.0], [0.0 0.0; 0.0 0.0], [0.0 0.0; 0.0 0.0], [-17.5448 -2.92413e7; -58.4708 2.42154e7], [0.0 0.0; 0.000486148 0.0], [0.0 0.0; 0.0405495 0.0], [0.0 0.0; 0.11257 0.0]))        StencilPoint{StaticArrays.SArray{Tuple{2,2},Float64,2,4},3,7}(([0.0 0.0; 0.51121 0.0], [0.0 0.0; 0.212207 0.0], [0.0 0.0; 0.0 0.0], [-15.3139 -2.55231e7; -52.0092 2.11363e7], [0.0 0.0; 0.00668302 0.0], [0.0 0.0; 0.0 0.0], [0.0 0.0; 0.551909 0.0]))     \n",
       " StencilPoint{StaticArrays.SArray{Tuple{2,2},Float64,2,4},3,7}(([0.0 0.0; 0.11257 0.0], [0.0 0.0; 0.0 0.0], [0.0 0.0; 0.0 0.0], [-9.96565 -1.66094e7; -33.2045 1.37547e7], [0.0 0.0; 0.000361097 0.0], [0.0 0.0; 0.0267884 0.0], [0.0 0.0; 0.0535801 0.0]))    …  StencilPoint{StaticArrays.SArray{Tuple{2,2},Float64,2,4},3,7}(([0.0 0.0; 0.551909 0.0], [0.0 0.0; 0.17903 0.0], [0.0 0.0; 0.0 0.0], [-13.5386 -2.25643e7; -46.1934 1.86861e7], [0.0 0.0; 0.00390006 0.0], [0.0 0.0; 0.0 0.0], [0.0 0.0; 0.612016 0.0]))     \n",
       " StencilPoint{StaticArrays.SArray{Tuple{2,2},Float64,2,4},3,7}(([0.0 0.0; 0.0535801 0.0], [0.0 0.0; 0.0 0.0], [0.0 0.0; 0.0 0.0], [-12.8494 -2.14157e7; -42.6467 1.77349e7], [0.0 0.0; 0.00024965 0.0], [0.0 0.0; 0.00981594 0.0], [0.0 0.0; 0.0193178 0.0]))     StencilPoint{StaticArrays.SArray{Tuple{2,2},Float64,2,4},3,7}(([0.0 0.0; 0.612016 0.0], [0.0 0.0; 0.59953 0.0], [0.0 0.0; 0.0 0.0], [-14.5878 -2.4313e7; -51.4768 2.01342e7], [0.0 0.0; 0.0101115 0.0], [0.0 0.0; 0.0 0.0], [0.0 0.0; 1.93309 0.0]))        \n",
       " StencilPoint{StaticArrays.SArray{Tuple{2,2},Float64,2,4},3,7}(([0.0 0.0; 0.0193178 0.0], [0.0 0.0; 0.0 0.0], [0.0 0.0; 0.0 0.0], [-10.6815 -1.78025e7; -35.4272 1.47427e7], [0.0 0.0; 9.02656e-5 0.0], [0.0 0.0; 0.00460588 0.0], [0.0 0.0; 0.0207271 0.0]))     StencilPoint{StaticArrays.SArray{Tuple{2,2},Float64,2,4},3,7}(([0.0 0.0; 1.93309 0.0], [0.0 0.0; 1.24351 0.0], [0.0 0.0; 0.0 0.0], [-13.0878 -2.18131e7; -49.88 1.8064e7], [0.0 0.0; 0.020611 0.0], [0.0 0.0; 0.0 0.0], [0.0 0.0; 3.3293 0.0]))             \n",
       " StencilPoint{StaticArrays.SArray{Tuple{2,2},Float64,2,4},3,7}(([0.0 0.0; 0.0207271 0.0], [0.0 0.0; 0.0 0.0], [0.0 0.0; 0.0 0.0], [-8.01939 -1.33657e7; -26.6453 1.10684e7], [0.0 0.0; 0.000318569 0.0], [0.0 0.0; 0.0113655 0.0], [0.0 0.0; 0.0486863 0.0]))     StencilPoint{StaticArrays.SArray{Tuple{2,2},Float64,2,4},3,7}(([0.0 0.0; 3.3293 0.0], [0.0 0.0; 0.396449 0.0], [0.0 0.0; 0.0 0.0], [-12.156 -2.02599e7; -46.6782 1.67778e7], [0.0 0.0; 0.0133605 0.0], [0.0 0.0; 0.0 0.0], [0.0 0.0; 2.67244 0.0]))         \n",
       " StencilPoint{StaticArrays.SArray{Tuple{2,2},Float64,2,4},3,7}(([0.0 0.0; 0.0486863 0.0], [0.0 0.0; 0.0 0.0], [0.0 0.0; 0.0 0.0], [-7.14899 -1.1915e7; -23.8096 9.86709e6], [0.0 0.0; 0.000340921 0.0], [0.0 0.0; 0.0105272 0.0], [0.0 0.0; 0.0689864 0.0]))      StencilPoint{StaticArrays.SArray{Tuple{2,2},Float64,2,4},3,7}(([0.0 0.0; 2.67244 0.0], [0.0 0.0; 0.719289 0.0], [0.0 0.0; 0.0 0.0], [-11.765 -1.96083e7; -45.3575 1.62381e7], [0.0 0.0; 0.0143823 0.0], [0.0 0.0; 0.0 0.0], [0.0 0.0; 2.97997 0.0]))        \n",
       " StencilPoint{StaticArrays.SArray{Tuple{2,2},Float64,2,4},3,7}(([0.0 0.0; 0.0689864 0.0], [0.0 0.0; 0.0 0.0], [0.0 0.0; 0.0 0.0], [-10.4661 -1.74435e7; -34.75 1.44454e7], [0.0 0.0; 0.000572796 0.0], [0.0 0.0; 0.0100885 0.0], [0.0 0.0; 0.0 0.0]))          …  StencilPoint{StaticArrays.SArray{Tuple{2,2},Float64,2,4},3,7}(([0.0 0.0; 2.97997 0.0], [0.0 0.0; 1.08416 0.0], [0.0 0.0; 0.0 0.0], [-13.9262 -2.32103e7; -50.2467 1.92211e7], [0.0 0.0; 0.0148124 0.0], [0.0 0.0; 0.0 0.0], [0.0 0.0; 0.0 0.0]))            \n",
       "\n",
       "[:, :, 2] =\n",
       " StencilPoint{StaticArrays.SArray{Tuple{2,2},Float64,2,4},3,7}(([0.0 0.0; 0.0 0.0], [0.0 0.0; 0.0 0.0], [0.0 0.0; 0.000281267 0.0], [-16.0574 -2.67623e7; -53.2875 2.21626e7], [0.0 0.0; 0.000651363 0.0], [0.0 0.0; 0.0249728 0.0], [0.0 0.0; 0.0707258 0.0]))        …  StencilPoint{StaticArrays.SArray{Tuple{2,2},Float64,2,4},3,7}(([0.0 0.0; 0.0 0.0], [0.0 0.0; 0.0996318 0.0], [0.0 0.0; 0.00188046 0.0], [-11.4654 -1.91091e7; -38.3936 1.58247e7], [0.0 0.0; 0.00356913 0.0], [0.0 0.0; 0.0 0.0], [0.0 0.0; 0.303401 0.0]))     \n",
       " StencilPoint{StaticArrays.SArray{Tuple{2,2},Float64,2,4},3,7}(([0.0 0.0; 0.0707258 0.0], [0.0 0.0; 0.0 0.0], [0.0 0.0; 0.000399631 0.0], [-14.6167 -2.43612e7; -48.5736 2.01741e7], [0.0 0.0; 0.000733191 0.0], [0.0 0.0; 0.0148589 0.0], [0.0 0.0; 0.0690204 0.0]))     StencilPoint{StaticArrays.SArray{Tuple{2,2},Float64,2,4},3,7}(([0.0 0.0; 0.303401 0.0], [0.0 0.0; 0.0758617 0.0], [0.0 0.0; 0.00159193 0.0], [-10.2809 -1.71348e7; -34.6298 1.41898e7], [0.0 0.0; 0.00170579 0.0], [0.0 0.0; 0.0 0.0], [0.0 0.0; 0.1918 0.0]))  \n",
       " StencilPoint{StaticArrays.SArray{Tuple{2,2},Float64,2,4},3,7}(([0.0 0.0; 0.0690204 0.0], [0.0 0.0; 0.0 0.0], [0.0 0.0; 0.000372521 0.0], [-14.0477 -2.34129e7; -46.6763 1.93888e7], [0.0 0.0; 0.000611184 0.0], [0.0 0.0; 0.0200489 0.0], [0.0 0.0; 0.0530936 0.0]))     StencilPoint{StaticArrays.SArray{Tuple{2,2},Float64,2,4},3,7}(([0.0 0.0; 0.1918 0.0], [0.0 0.0; 0.0471249 0.0], [0.0 0.0; 0.00116006 0.0], [-10.4019 -1.73365e7; -34.886 1.43568e7], [0.0 0.0; 0.0015828 0.0], [0.0 0.0; 0.0 0.0], [0.0 0.0; 0.188085 0.0]))    \n",
       " StencilPoint{StaticArrays.SArray{Tuple{2,2},Float64,2,4},3,7}(([0.0 0.0; 0.0530936 0.0], [0.0 0.0; 0.0 0.0], [0.0 0.0; 0.000332755 0.0], [-13.1657 -2.19428e7; -43.7372 1.81714e7], [0.0 0.0; 0.000450686 0.0], [0.0 0.0; 0.0147409 0.0], [0.0 0.0; 0.0572861 0.0]))     StencilPoint{StaticArrays.SArray{Tuple{2,2},Float64,2,4},3,7}(([0.0 0.0; 0.188085 0.0], [0.0 0.0; 0.0411756 0.0], [0.0 0.0; 0.000891841 0.0], [-13.9733 -2.32888e7; -46.7131 1.9286e7], [0.0 0.0; 0.00194967 0.0], [0.0 0.0; 0.0 0.0], [0.0 0.0; 0.194551 0.0]))\n",
       " StencilPoint{StaticArrays.SArray{Tuple{2,2},Float64,2,4},3,7}(([0.0 0.0; 0.0572861 0.0], [0.0 0.0; 0.0 0.0], [0.0 0.0; 0.00039543 0.0], [-15.8345 -2.63908e7; -52.6277 2.18549e7], [0.0 0.0; 0.000646519 0.0], [0.0 0.0; 0.0271459 0.0], [0.0 0.0; 0.0905303 0.0]))      StencilPoint{StaticArrays.SArray{Tuple{2,2},Float64,2,4},3,7}(([0.0 0.0; 0.194551 0.0], [0.0 0.0; 0.0293899 0.0], [0.0 0.0; 0.00044185 0.0], [-16.2706 -2.71177e7; -54.2599 2.24569e7], [0.0 0.0; 0.00172027 0.0], [0.0 0.0; 0.0 0.0], [0.0 0.0; 0.137326 0.0]))\n",
       " StencilPoint{StaticArrays.SArray{Tuple{2,2},Float64,2,4},3,7}(([0.0 0.0; 0.0905303 0.0], [0.0 0.0; 0.0 0.0], [0.0 0.0; 0.000571587 0.0], [-15.9546 -2.65911e7; -53.0845 2.20207e7], [0.0 0.0; 0.000987083 0.0], [0.0 0.0; 0.0240387 0.0], [0.0 0.0; 0.118686 0.0]))   …  StencilPoint{StaticArrays.SArray{Tuple{2,2},Float64,2,4},3,7}(([0.0 0.0; 0.137326 0.0], [0.0 0.0; 0.0423075 0.0], [0.0 0.0; 0.000257038 0.0], [-19.1329 -3.18882e7; -63.669 2.64074e7], [0.0 0.0; 0.00107063 0.0], [0.0 0.0; 0.0 0.0], [0.0 0.0; 0.110234 0.0]))\n",
       " StencilPoint{StaticArrays.SArray{Tuple{2,2},Float64,2,4},3,7}(([0.0 0.0; 0.118686 0.0], [0.0 0.0; 0.0 0.0], [0.0 0.0; 0.000723413 0.0], [-21.1201 -3.52002e7; -70.2039 2.91502e7], [0.0 0.0; 0.00102871 0.0], [0.0 0.0; 0.0427342 0.0], [0.0 0.0; 0.0802755 0.0]))       StencilPoint{StaticArrays.SArray{Tuple{2,2},Float64,2,4},3,7}(([0.0 0.0; 0.110234 0.0], [0.0 0.0; 0.0449352 0.0], [0.0 0.0; 0.000533611 0.0], [-20.4791 -3.41318e7; -68.1684 2.82654e7], [0.0 0.0; 0.00107288 0.0], [0.0 0.0; 0.0 0.0], [0.0 0.0; 0.17475 0.0]))\n",
       " StencilPoint{StaticArrays.SArray{Tuple{2,2},Float64,2,4},3,7}(([0.0 0.0; 0.0802755 0.0], [0.0 0.0; 0.0 0.0], [0.0 0.0; 0.000462192 0.0], [-18.2222 -3.03704e7; -60.5396 2.51505e7], [0.0 0.0; 0.00056198 0.0], [0.0 0.0; 0.0206992 0.0], [0.0 0.0; 0.0764797 0.0]))      StencilPoint{StaticArrays.SArray{Tuple{2,2},Float64,2,4},3,7}(([0.0 0.0; 0.17475 0.0], [0.0 0.0; 0.128807 0.0], [0.0 0.0; 0.00137501 0.0], [-21.8336 -3.63893e7; -73.182 3.01349e7], [0.0 0.0; 0.00363645 0.0], [0.0 0.0; 0.0 0.0], [0.0 0.0; 0.549604 0.0]))   \n",
       " StencilPoint{StaticArrays.SArray{Tuple{2,2},Float64,2,4},3,7}(([0.0 0.0; 0.0764797 0.0], [0.0 0.0; 0.0 0.0], [0.0 0.0; 0.000925887 0.0], [-14.6454 -2.4409e7; -48.7054 2.02137e7], [0.0 0.0; 0.00108022 0.0], [0.0 0.0; 0.0200111 0.0], [0.0 0.0; 0.0940174 0.0]))       StencilPoint{StaticArrays.SArray{Tuple{2,2},Float64,2,4},3,7}(([0.0 0.0; 0.549604 0.0], [0.0 0.0; 0.277173 0.0], [0.0 0.0; 0.00248786 0.0], [-18.7062 -3.1177e7; -64.061 2.58185e7], [0.0 0.0; 0.00517545 0.0], [0.0 0.0; 0.0 0.0], [0.0 0.0; 1.26225 0.0]))    \n",
       " StencilPoint{StaticArrays.SArray{Tuple{2,2},Float64,2,4},3,7}(([0.0 0.0; 0.0940174 0.0], [0.0 0.0; 0.0 0.0], [0.0 0.0; 0.000486148 0.0], [-12.6548 -2.10914e7; -42.0941 1.74663e7], [0.0 0.0; 0.000769853 0.0], [0.0 0.0; 0.013831 0.0], [0.0 0.0; 0.0659423 0.0]))      StencilPoint{StaticArrays.SArray{Tuple{2,2},Float64,2,4},3,7}(([0.0 0.0; 1.26225 0.0], [0.0 0.0; 0.735178 0.0], [0.0 0.0; 0.00668302 0.0], [-17.6832 -2.94719e7; -65.3268 2.44064e7], [0.0 0.0; 0.0141635 0.0], [0.0 0.0; 0.0 0.0], [0.0 0.0; 4.73306 0.0]))    \n",
       " StencilPoint{StaticArrays.SArray{Tuple{2,2},Float64,2,4},3,7}(([0.0 0.0; 0.0659423 0.0], [0.0 0.0; 0.0 0.0], [0.0 0.0; 0.000361097 0.0], [-13.3086 -2.21811e7; -44.2306 1.83687e7], [0.0 0.0; 0.000484273 0.0], [0.0 0.0; 0.0127292 0.0], [0.0 0.0; 0.066252 0.0]))   …  StencilPoint{StaticArrays.SArray{Tuple{2,2},Float64,2,4},3,7}(([0.0 0.0; 4.73306 0.0], [0.0 0.0; 0.963074 0.0], [0.0 0.0; 0.00390006 0.0], [-12.3339 -2.05566e7; -53.9296 1.70234e7], [0.0 0.0; 0.0434569 0.0], [0.0 0.0; 0.0 0.0], [0.0 0.0; 7.32989 0.0]))    \n",
       " StencilPoint{StaticArrays.SArray{Tuple{2,2},Float64,2,4},3,7}(([0.0 0.0; 0.066252 0.0], [0.0 0.0; 0.0 0.0], [0.0 0.0; 0.00024965 0.0], [-12.3146 -2.05244e7; -40.9165 1.69968e7], [0.0 0.0; 0.000570511 0.0], [0.0 0.0; 0.014448 0.0], [0.0 0.0; 0.042747 0.0]))         StencilPoint{StaticArrays.SArray{Tuple{2,2},Float64,2,4},3,7}(([0.0 0.0; 7.32989 0.0], [0.0 0.0; 1.79142 0.0], [0.0 0.0; 0.0101115 0.0], [-11.2672 -1.87787e7; -51.098 1.55511e7], [0.0 0.0; 0.0401422 0.0], [0.0 0.0; 0.0 0.0], [0.0 0.0; 4.60368 0.0]))       \n",
       " StencilPoint{StaticArrays.SArray{Tuple{2,2},Float64,2,4},3,7}(([0.0 0.0; 0.042747 0.0], [0.0 0.0; 0.0 0.0], [0.0 0.0; 9.02656e-5 0.0], [-12.2897 -2.04828e7; -40.8089 1.69623e7], [0.0 0.0; 0.000220582 0.0], [0.0 0.0; 0.0120168 0.0], [0.0 0.0; 0.0442569 0.0]))       StencilPoint{StaticArrays.SArray{Tuple{2,2},Float64,2,4},3,7}(([0.0 0.0; 4.60368 0.0], [0.0 0.0; 0.877404 0.0], [0.0 0.0; 0.020611 0.0], [-9.85487 -1.64248e7; -41.3565 1.36018e7], [0.0 0.0; 0.0291524 0.0], [0.0 0.0; 0.0 0.0], [0.0 0.0; 3.18138 0.0]))      \n",
       " StencilPoint{StaticArrays.SArray{Tuple{2,2},Float64,2,4},3,7}(([0.0 0.0; 0.0442569 0.0], [0.0 0.0; 0.0 0.0], [0.0 0.0; 0.000318569 0.0], [-14.9526 -2.49209e7; -49.6989 2.06376e7], [0.0 0.0; 0.000780585 0.0], [0.0 0.0; 0.0203065 0.0], [0.0 0.0; 0.102916 0.0]))      StencilPoint{StaticArrays.SArray{Tuple{2,2},Float64,2,4},3,7}(([0.0 0.0; 3.18138 0.0], [0.0 0.0; 0.823555 0.0], [0.0 0.0; 0.0133605 0.0], [-10.2529 -1.70881e7; -40.9008 1.41511e7], [0.0 0.0; 0.0229555 0.0], [0.0 0.0; 0.0 0.0], [0.0 0.0; 2.89688 0.0]))     \n",
       " StencilPoint{StaticArrays.SArray{Tuple{2,2},Float64,2,4},3,7}(([0.0 0.0; 0.102916 0.0], [0.0 0.0; 0.0 0.0], [0.0 0.0; 0.000340921 0.0], [-14.7707 -2.46178e7; -49.182 2.03866e7], [0.0 0.0; 0.00101169 0.0], [0.0 0.0; 0.0364679 0.0], [0.0 0.0; 0.113395 0.0]))         StencilPoint{StaticArrays.SArray{Tuple{2,2},Float64,2,4},3,7}(([0.0 0.0; 2.89688 0.0], [0.0 0.0; 0.600629 0.0], [0.0 0.0; 0.0143823 0.0], [-14.01 -2.335e7; -52.8216 1.93367e7], [0.0 0.0; 0.0220144 0.0], [0.0 0.0; 0.0 0.0], [0.0 0.0; 2.87969 0.0]))         \n",
       " StencilPoint{StaticArrays.SArray{Tuple{2,2},Float64,2,4},3,7}(([0.0 0.0; 0.113395 0.0], [0.0 0.0; 0.0 0.0], [0.0 0.0; 0.000572796 0.0], [-15.1014 -2.5169e7; -50.1849 2.08431e7], [0.0 0.0; 0.00109514 0.0], [0.0 0.0; 0.045119 0.0], [0.0 0.0; 0.0 0.0]))            …  StencilPoint{StaticArrays.SArray{Tuple{2,2},Float64,2,4},3,7}(([0.0 0.0; 2.87969 0.0], [0.0 0.0; 0.869626 0.0], [0.0 0.0; 0.0148124 0.0], [-14.6707 -2.44511e7; -52.4173 2.02486e7], [0.0 0.0; 0.0237463 0.0], [0.0 0.0; 0.0 0.0], [0.0 0.0; 0.0 0.0]))         \n",
       "\n",
       "[:, :, 3] =\n",
       " StencilPoint{StaticArrays.SArray{Tuple{2,2},Float64,2,4},3,7}(([0.0 0.0; 0.0 0.0], [0.0 0.0; 0.0 0.0], [0.0 0.0; 0.000651363 0.0], [-12.463 -2.07717e7; -45.305 1.72016e7], [0.0 0.0; 0.00116582 0.0], [0.0 0.0; 0.66894 0.0], [0.0 0.0; 3.26312 0.0]))             …  StencilPoint{StaticArrays.SArray{Tuple{2,2},Float64,2,4},3,7}(([0.0 0.0; 0.0 0.0], [0.0 0.0; 0.499474 0.0], [0.0 0.0; 0.00356913 0.0], [-13.9413 -2.32355e7; -47.6786 1.92419e7], [0.0 0.0; 0.000418137 0.0], [0.0 0.0; 0.0 0.0], [0.0 0.0; 0.979296 0.0]))   \n",
       " StencilPoint{StaticArrays.SArray{Tuple{2,2},Float64,2,4},3,7}(([0.0 0.0; 3.26312 0.0], [0.0 0.0; 0.0 0.0], [0.0 0.0; 0.000733191 0.0], [-9.80856 -1.63476e7; -38.4322 1.35379e7], [0.0 0.0; 0.00147437 0.0], [0.0 0.0; 0.502068 0.0], [0.0 0.0; 2.17398 0.0]))         StencilPoint{StaticArrays.SArray{Tuple{2,2},Float64,2,4},3,7}(([0.0 0.0; 0.979296 0.0], [0.0 0.0; 0.18147 0.0], [0.0 0.0; 0.00170579 0.0], [-15.8851 -2.64751e7; -54.9517 2.19247e7], [0.0 0.0; 0.000826763 0.0], [0.0 0.0; 0.0 0.0], [0.0 0.0; 1.16916 0.0]))\n",
       " StencilPoint{StaticArrays.SArray{Tuple{2,2},Float64,2,4},3,7}(([0.0 0.0; 2.17398 0.0], [0.0 0.0; 0.0 0.0], [0.0 0.0; 0.000611184 0.0], [-10.4488 -1.74147e7; -40.208 1.44215e7], [0.0 0.0; 0.00560579 0.0], [0.0 0.0; 0.740103 0.0], [0.0 0.0; 2.67604 0.0]))          StencilPoint{StaticArrays.SArray{Tuple{2,2},Float64,2,4},3,7}(([0.0 0.0; 1.16916 0.0], [0.0 0.0; 0.397921 0.0], [0.0 0.0; 0.0015828 0.0], [-12.2656 -2.04426e7; -44.7838 1.69291e7], [0.0 0.0; 0.00113851 0.0], [0.0 0.0; 0.0 0.0], [0.0 0.0; 2.58428 0.0]))  \n",
       " StencilPoint{StaticArrays.SArray{Tuple{2,2},Float64,2,4},3,7}(([0.0 0.0; 2.67604 0.0], [0.0 0.0; 0.0 0.0], [0.0 0.0; 0.000450686 0.0], [-7.0949 -1.18248e7; -27.8329 9.79244e6], [0.0 0.0; 0.0116416 0.0], [0.0 0.0; 0.877527 0.0], [0.0 0.0; 0.765369 0.0]))          StencilPoint{StaticArrays.SArray{Tuple{2,2},Float64,2,4},3,7}(([0.0 0.0; 2.58428 0.0], [0.0 0.0; 0.894489 0.0], [0.0 0.0; 0.00194967 0.0], [-16.7515 -2.79191e7; -62.1811 2.31205e7], [0.0 0.0; 0.00690602 0.0], [0.0 0.0; 0.0 0.0], [0.0 0.0; 3.20421 0.0])) \n",
       " StencilPoint{StaticArrays.SArray{Tuple{2,2},Float64,2,4},3,7}(([0.0 0.0; 0.765369 0.0], [0.0 0.0; 0.0 0.0], [0.0 0.0; 0.000646519 0.0], [-7.31889 -1.21981e7; -25.7935 1.01016e7], [0.0 0.0; 0.00291054 0.0], [0.0 0.0; 0.195552 0.0], [0.0 0.0; 0.585192 0.0]))       StencilPoint{StaticArrays.SArray{Tuple{2,2},Float64,2,4},3,7}(([0.0 0.0; 3.20421 0.0], [0.0 0.0; 0.710238 0.0], [0.0 0.0; 0.00172027 0.0], [-16.2241 -2.70402e7; -61.3853 2.23926e7], [0.0 0.0; 0.00255201 0.0], [0.0 0.0; 0.0 0.0], [0.0 0.0; 3.72426 0.0])) \n",
       " StencilPoint{StaticArrays.SArray{Tuple{2,2},Float64,2,4},3,7}(([0.0 0.0; 0.585192 0.0], [0.0 0.0; 0.0 0.0], [0.0 0.0; 0.000987083 0.0], [-4.07729 -6.79548e6; -15.0477 5.62751e6], [0.0 0.0; 0.00165257 0.0], [0.0 0.0; 0.271712 0.0], [0.0 0.0; 0.682146 0.0]))    …  StencilPoint{StaticArrays.SArray{Tuple{2,2},Float64,2,4},3,7}(([0.0 0.0; 3.72426 0.0], [0.0 0.0; 0.431335 0.0], [0.0 0.0; 0.00107063 0.0], [-15.5898 -2.5983e7; -60.2184 2.15172e7], [0.0 0.0; 0.00788428 0.0], [0.0 0.0; 0.0 0.0], [0.0 0.0; 4.4126 0.0]))   \n",
       " StencilPoint{StaticArrays.SArray{Tuple{2,2},Float64,2,4},3,7}(([0.0 0.0; 0.682146 0.0], [0.0 0.0; 0.0 0.0], [0.0 0.0; 0.00102871 0.0], [-2.6933 -4.48883e6; -10.6263 3.71731e6], [0.0 0.0; 0.00175252 0.0], [0.0 0.0; 0.221609 0.0], [0.0 0.0; 0.798172 0.0]))         StencilPoint{StaticArrays.SArray{Tuple{2,2},Float64,2,4},3,7}(([0.0 0.0; 4.4126 0.0], [0.0 0.0; 0.406082 0.0], [0.0 0.0; 0.00107288 0.0], [-17.8558 -2.97597e7; -67.4042 2.46447e7], [0.0 0.0; 0.0123165 0.0], [0.0 0.0; 0.0 0.0], [0.0 0.0; 3.42477 0.0]))   \n",
       " StencilPoint{StaticArrays.SArray{Tuple{2,2},Float64,2,4},3,7}(([0.0 0.0; 0.798172 0.0], [0.0 0.0; 0.0 0.0], [0.0 0.0; 0.00056198 0.0], [-6.14103 -1.02351e7; -24.1797 8.4759e6], [0.0 0.0; 0.00340861 0.0], [0.0 0.0; 0.557871 0.0], [0.0 0.0; 2.4775 0.0]))           StencilPoint{StaticArrays.SArray{Tuple{2,2},Float64,2,4},3,7}(([0.0 0.0; 3.42477 0.0], [0.0 0.0; 0.837101 0.0], [0.0 0.0; 0.00363645 0.0], [-19.8931 -3.31552e7; -72.1214 2.74567e7], [0.0 0.0; 0.0123054 0.0], [0.0 0.0; 0.0 0.0], [0.0 0.0; 1.94752 0.0]))  \n",
       " StencilPoint{StaticArrays.SArray{Tuple{2,2},Float64,2,4},3,7}(([0.0 0.0; 2.4775 0.0], [0.0 0.0; 0.0 0.0], [0.0 0.0; 0.00108022 0.0], [-11.6917 -1.94862e7; -45.044 1.6137e7], [0.0 0.0; 0.00298402 0.0], [0.0 0.0; 1.60451 0.0], [0.0 0.0; 2.22904 0.0]))              StencilPoint{StaticArrays.SArray{Tuple{2,2},Float64,2,4},3,7}(([0.0 0.0; 1.94752 0.0], [0.0 0.0; 0.625383 0.0], [0.0 0.0; 0.00517545 0.0], [-14.2007 -2.36678e7; -51.5375 1.95999e7], [0.0 0.0; 0.00508065 0.0], [0.0 0.0; 0.0 0.0], [0.0 0.0; 1.91453 0.0])) \n",
       " StencilPoint{StaticArrays.SArray{Tuple{2,2},Float64,2,4},3,7}(([0.0 0.0; 2.22904 0.0], [0.0 0.0; 0.0 0.0], [0.0 0.0; 0.000769853 0.0], [-12.4282 -2.07136e7; -44.2239 1.71535e7], [0.0 0.0; 0.000796087 0.0], [0.0 0.0; 0.198649 0.0], [0.0 0.0; 0.626363 0.0]))       StencilPoint{StaticArrays.SArray{Tuple{2,2},Float64,2,4},3,7}(([0.0 0.0; 1.91453 0.0], [0.0 0.0; 0.915795 0.0], [0.0 0.0; 0.0141635 0.0], [-16.0312 -2.67186e7; -59.8784 2.21263e7], [0.0 0.0; 0.0119387 0.0], [0.0 0.0; 0.0 0.0], [0.0 0.0; 3.91884 0.0]))   \n",
       " StencilPoint{StaticArrays.SArray{Tuple{2,2},Float64,2,4},3,7}(([0.0 0.0; 0.626363 0.0], [0.0 0.0; 0.0 0.0], [0.0 0.0; 0.000484273 0.0], [-16.1377 -2.68962e7; -54.4406 2.22734e7], [0.0 0.0; 0.00100198 0.0], [0.0 0.0; 0.102008 0.0], [0.0 0.0; 0.254524 0.0]))    …  StencilPoint{StaticArrays.SArray{Tuple{2,2},Float64,2,4},3,7}(([0.0 0.0; 3.91884 0.0], [0.0 0.0; 1.53315 0.0], [0.0 0.0; 0.0434569 0.0], [-13.7461 -2.29101e7; -60.8183 1.89725e7], [0.0 0.0; 0.0191911 0.0], [0.0 0.0; 0.0 0.0], [0.0 0.0; 9.76973 0.0]))    \n",
       " StencilPoint{StaticArrays.SArray{Tuple{2,2},Float64,2,4},3,7}(([0.0 0.0; 0.254524 0.0], [0.0 0.0; 0.0 0.0], [0.0 0.0; 0.000570511 0.0], [-18.1645 -3.02742e7; -60.6236 2.50709e7], [0.0 0.0; 0.00156222 0.0], [0.0 0.0; 0.0707209 0.0], [0.0 0.0; 0.126117 0.0]))      StencilPoint{StaticArrays.SArray{Tuple{2,2},Float64,2,4},3,7}(([0.0 0.0; 9.76973 0.0], [0.0 0.0; 2.0824 0.0], [0.0 0.0; 0.0401422 0.0], [-12.2966 -2.04944e7; -65.5041 1.69719e7], [0.0 0.0; 0.0303533 0.0], [0.0 0.0; 0.0 0.0], [0.0 0.0; 12.8489 0.0]))     \n",
       " StencilPoint{StaticArrays.SArray{Tuple{2,2},Float64,2,4},3,7}(([0.0 0.0; 0.126117 0.0], [0.0 0.0; 0.0 0.0], [0.0 0.0; 0.000220582 0.0], [-18.0902 -3.01503e7; -60.2422 2.49682e7], [0.0 0.0; 0.000857337 0.0], [0.0 0.0; 0.0344794 0.0], [0.0 0.0; 0.156819 0.0]))     StencilPoint{StaticArrays.SArray{Tuple{2,2},Float64,2,4},3,7}(([0.0 0.0; 12.8489 0.0], [0.0 0.0; 3.97549 0.0], [0.0 0.0; 0.0291524 0.0], [-11.4838 -1.91397e7; -68.4976 1.58501e7], [0.0 0.0; 0.0259927 0.0], [0.0 0.0; 0.0 0.0], [0.0 0.0; 13.5779 0.0]))    \n",
       " StencilPoint{StaticArrays.SArray{Tuple{2,2},Float64,2,4},3,7}(([0.0 0.0; 0.156819 0.0], [0.0 0.0; 0.0 0.0], [0.0 0.0; 0.000780585 0.0], [-18.2922 -3.0487e7; -61.5087 2.5247e7], [0.0 0.0; 0.00388872 0.0], [0.0 0.0; 0.12608 0.0], [0.0 0.0; 0.628234 0.0]))          StencilPoint{StaticArrays.SArray{Tuple{2,2},Float64,2,4},3,7}(([0.0 0.0; 13.5779 0.0], [0.0 0.0; 3.47831 0.0], [0.0 0.0; 0.0229555 0.0], [-10.7671 -1.79451e7; -62.9649 1.48608e7], [0.0 0.0; 0.0362552 0.0], [0.0 0.0; 0.0 0.0], [0.0 0.0; 10.1835 0.0]))    \n",
       " StencilPoint{StaticArrays.SArray{Tuple{2,2},Float64,2,4},3,7}(([0.0 0.0; 0.628234 0.0], [0.0 0.0; 0.0 0.0], [0.0 0.0; 0.00101169 0.0], [-18.7984 -3.13306e7; -64.6157 2.59457e7], [0.0 0.0; 0.00883286 0.0], [0.0 0.0; 0.184091 0.0], [0.0 0.0; 1.5239 0.0]))          StencilPoint{StaticArrays.SArray{Tuple{2,2},Float64,2,4},3,7}(([0.0 0.0; 10.1835 0.0], [0.0 0.0; 2.14201 0.0], [0.0 0.0; 0.0220144 0.0], [-13.302 -2.217e7; -67.6947 1.83595e7], [0.0 0.0; 0.0367584 0.0], [0.0 0.0; 0.0 0.0], [0.0 0.0; 11.2475 0.0]))       \n",
       " StencilPoint{StaticArrays.SArray{Tuple{2,2},Float64,2,4},3,7}(([0.0 0.0; 1.5239 0.0], [0.0 0.0; 0.0 0.0], [0.0 0.0; 0.00109514 0.0], [-21.5692 -3.59486e7; -73.5805 2.977e7], [0.0 0.0; 0.014287 0.0], [0.0 0.0; 0.56798 0.0], [0.0 0.0; 0.0 0.0]))                 …  StencilPoint{StaticArrays.SArray{Tuple{2,2},Float64,2,4},3,7}(([0.0 0.0; 11.2475 0.0], [0.0 0.0; 1.828 0.0], [0.0 0.0; 0.0237463 0.0], [-12.2895 -2.04824e7; -54.0464 1.6962e7], [0.0 0.0; 0.0501102 0.0], [0.0 0.0; 0.0 0.0], [0.0 0.0; 0.0 0.0]))           \n",
       "\n",
       "...\n",
       "\n",
       "[:, :, 14] =\n",
       " StencilPoint{StaticArrays.SArray{Tuple{2,2},Float64,2,4},3,7}(([0.0 0.0; 0.0 0.0], [0.0 0.0; 0.0 0.0], [0.0 0.0; 0.225991 0.0], [-15.9676 -2.66127e7; -206.578 2.20386e7], [0.0 0.0; 0.676947 0.0], [0.0 0.0; 92.1945 0.0], [0.0 0.0; 56.6269 0.0]))                  …  StencilPoint{StaticArrays.SArray{Tuple{2,2},Float64,2,4},3,7}(([0.0 0.0; 0.0 0.0], [0.0 0.0; 0.0208594 0.0], [0.0 0.0; 0.000345954 0.0], [-6.10716 -1.01786e7; -31.5268 8.42915e6], [0.0 0.0; 0.0652471 0.0], [0.0 0.0; 0.0 0.0], [0.0 0.0; 11.1335 0.0]))           \n",
       " StencilPoint{StaticArrays.SArray{Tuple{2,2},Float64,2,4},3,7}(([0.0 0.0; 56.6269 0.0], [0.0 0.0; 0.0 0.0], [0.0 0.0; 1.4244 0.0], [-15.0703 -2.51172e7; -153.367 2.08002e7], [0.0 0.0; 2.31289 0.0], [0.0 0.0; 9.65605 0.0], [0.0 0.0; 33.4264 0.0]))                    StencilPoint{StaticArrays.SArray{Tuple{2,2},Float64,2,4},3,7}(([0.0 0.0; 11.1335 0.0], [0.0 0.0; 0.0115635 0.0], [0.0 0.0; 0.00147863 0.0], [-4.33477 -7.22462e6; -25.9692 5.98289e6], [0.0 0.0; 0.3696 0.0], [0.0 0.0; 0.0 0.0], [0.0 0.0; 0.0940924 0.0]))         \n",
       " StencilPoint{StaticArrays.SArray{Tuple{2,2},Float64,2,4},3,7}(([0.0 0.0; 33.4264 0.0], [0.0 0.0; 0.0 0.0], [0.0 0.0; 956.227 0.0], [-13.8981 -2.31634e7; -1103.54 1.91822e7], [0.0 0.0; 1.22459 0.0], [0.0 0.0; 15.6277 0.0], [0.0 0.0; 50.9934 0.0]))                   StencilPoint{StaticArrays.SArray{Tuple{2,2},Float64,2,4},3,7}(([0.0 0.0; 0.0940924 0.0], [0.0 0.0; 0.00710504 0.0], [0.0 0.0; 0.000311834 0.0], [-6.17277 -1.02879e7; -20.601 8.51971e6], [0.0 0.0; 0.000148328 0.0], [0.0 0.0; 0.0 0.0], [0.0 0.0; 0.0520511 0.0])) \n",
       " StencilPoint{StaticArrays.SArray{Tuple{2,2},Float64,2,4},3,7}(([0.0 0.0; 50.9934 0.0], [0.0 0.0; 0.0 0.0], [0.0 0.0; 0.848587 0.0], [-13.1382 -2.1897e7; -205.759 1.81335e7], [0.0 0.0; 0.384285 0.0], [0.0 0.0; 22.8338 0.0], [0.0 0.0; 87.1787 0.0]))                  StencilPoint{StaticArrays.SArray{Tuple{2,2},Float64,2,4},3,7}(([0.0 0.0; 0.0520511 0.0], [0.0 0.0; 0.00840518 0.0], [0.0 0.0; 0.000139247 0.0], [-4.10681 -6.84469e6; -13.6909 5.66826e6], [0.0 0.0; 0.000148301 0.0], [0.0 0.0; 0.0 0.0], [0.0 0.0; 0.0263198 0.0]))\n",
       " StencilPoint{StaticArrays.SArray{Tuple{2,2},Float64,2,4},3,7}(([0.0 0.0; 87.1787 0.0], [0.0 0.0; 0.0 0.0], [0.0 0.0; 0.889561 0.0], [-15.1833 -2.53054e7; -293.75 2.09561e7], [0.0 0.0; 0.601702 0.0], [0.0 0.0; 29.6663 0.0], [0.0 0.0; 125.119 0.0]))                  StencilPoint{StaticArrays.SArray{Tuple{2,2},Float64,2,4},3,7}(([0.0 0.0; 0.0263198 0.0], [0.0 0.0; 0.00538867 0.0], [0.0 0.0; 7.87536e-5 0.0], [-7.61749 -1.26958e7; -25.2758 1.05137e7], [0.0 0.0; 0.000110374 0.0], [0.0 0.0; 0.0 0.0], [0.0 0.0; 0.0109299 0.0])) \n",
       " StencilPoint{StaticArrays.SArray{Tuple{2,2},Float64,2,4},3,7}(([0.0 0.0; 125.119 0.0], [0.0 0.0; 0.0 0.0], [0.0 0.0; 2.07868 0.0], [-14.538 -2.423e7; -499.055 2.00654e7], [0.0 0.0; 0.784791 0.0], [0.0 0.0; 69.1088 0.0], [0.0 0.0; 253.806 0.0]))                  …  StencilPoint{StaticArrays.SArray{Tuple{2,2},Float64,2,4},3,7}(([0.0 0.0; 0.0109299 0.0], [0.0 0.0; 0.00259524 0.0], [0.0 0.0; 6.26274e-5 0.0], [-5.09592 -8.49321e6; -16.9051 7.03344e6], [0.0 0.0; 6.16479e-5 0.0], [0.0 0.0; 0.0 0.0], [0.0 0.0; 0.0112175 0.0]))  \n",
       " StencilPoint{StaticArrays.SArray{Tuple{2,2},Float64,2,4},3,7}(([0.0 0.0; 253.806 0.0], [0.0 0.0; 0.0 0.0], [0.0 0.0; 3.17015 0.0], [-14.1322 -2.35537e7; -842.533 1.95054e7], [0.0 0.0; 1.73156 0.0], [0.0 0.0; 82.5981 0.0], [0.0 0.0; 454.413 0.0]))                   StencilPoint{StaticArrays.SArray{Tuple{2,2},Float64,2,4},3,7}(([0.0 0.0; 0.0112175 0.0], [0.0 0.0; 0.00556366 0.0], [0.0 0.0; 6.21586e-5 0.0], [-6.90303 -1.1505e7; -22.9081 9.52761e6], [0.0 0.0; 0.000100695 0.0], [0.0 0.0; 0.0 0.0], [0.0 0.0; 0.024865 0.0]))   \n",
       " StencilPoint{StaticArrays.SArray{Tuple{2,2},Float64,2,4},3,7}(([0.0 0.0; 454.413 0.0], [0.0 0.0; 0.0 0.0], [0.0 0.0; 0.110466 0.0], [-13.3617 -2.22694e7; -1982.89 1.84419e7], [0.0 0.0; 1.84867 0.0], [0.0 0.0; 347.236 0.0], [0.0 0.0; 1135.02 0.0]))                  StencilPoint{StaticArrays.SArray{Tuple{2,2},Float64,2,4},3,7}(([0.0 0.0; 0.024865 0.0], [0.0 0.0; 0.00508274 0.0], [0.0 0.0; 0.000236744 0.0], [-7.25785 -1.20964e7; -24.1294 1.00174e7], [0.0 0.0; 0.000227651 0.0], [0.0 0.0; 0.0 0.0], [0.0 0.0; 0.0573122 0.0])) \n",
       " StencilPoint{StaticArrays.SArray{Tuple{2,2},Float64,2,4},3,7}(([0.0 0.0; 1135.02 0.0], [0.0 0.0; 0.0 0.0], [0.0 0.0; 0.14182 0.0], [-15.976 -2.66267e7; -1191.12 2.20502e7], [0.0 0.0; 2.98223 0.0], [0.0 0.0; 0.0157681 0.0], [0.0 0.0; 0.0350393 0.0]))                StencilPoint{StaticArrays.SArray{Tuple{2,2},Float64,2,4},3,7}(([0.0 0.0; 0.0573122 0.0], [0.0 0.0; 0.0692068 0.0], [0.0 0.0; 0.000366046 0.0], [-9.97488 -1.66248e7; -33.253 1.37674e7], [0.0 0.0; 0.000334959 0.0], [0.0 0.0; 0.0 0.0], [0.0 0.0; 0.0840056 0.0]))  \n",
       " StencilPoint{StaticArrays.SArray{Tuple{2,2},Float64,2,4},3,7}(([0.0 0.0; 0.0350393 0.0], [0.0 0.0; 0.0 0.0], [0.0 0.0; 0.000114601 0.0], [-13.2972 -2.2162e7; -44.1133 1.83529e7], [0.0 0.0; 0.000138073 0.0], [0.0 0.0; 0.0104236 0.0], [0.0 0.0; 0.0206247 0.0]))      StencilPoint{StaticArrays.SArray{Tuple{2,2},Float64,2,4},3,7}(([0.0 0.0; 0.0840056 0.0], [0.0 0.0; 0.0388657 0.0], [0.0 0.0; 0.000246566 0.0], [-11.354 -1.89233e7; -37.8641 1.56709e7], [0.0 0.0; 0.000191488 0.0], [0.0 0.0; 0.0 0.0], [0.0 0.0; 0.130658 0.0]))   \n",
       " StencilPoint{StaticArrays.SArray{Tuple{2,2},Float64,2,4},3,7}(([0.0 0.0; 0.0206247 0.0], [0.0 0.0; 0.0 0.0], [0.0 0.0; 3.01172e-5 0.0], [-11.8321 -1.97202e7; -39.2652 1.63308e7], [0.0 0.0; 0.000201755 0.0], [0.0 0.0; 0.0149122 0.0], [0.0 0.0; 0.0356271 0.0]))   …  StencilPoint{StaticArrays.SArray{Tuple{2,2},Float64,2,4},3,7}(([0.0 0.0; 0.130658 0.0], [0.0 0.0; 4.93735 0.0], [0.0 0.0; 172.158 0.0], [-12.3822 -2.06369e7; -245.032 1.709e7], [0.0 0.0; 0.607922 0.0], [0.0 0.0; 0.0 0.0], [0.0 0.0; 26.1819 0.0]))               \n",
       " StencilPoint{StaticArrays.SArray{Tuple{2,2},Float64,2,4},3,7}(([0.0 0.0; 0.0356271 0.0], [0.0 0.0; 0.0 0.0], [0.0 0.0; 0.000287794 0.0], [-12.3397 -2.05661e7; -41.0152 1.70313e7], [0.0 0.0; 0.000612202 0.0], [0.0 0.0; 0.0366164 0.0], [0.0 0.0; 0.0669303 0.0]))     StencilPoint{StaticArrays.SArray{Tuple{2,2},Float64,2,4},3,7}(([0.0 0.0; 26.1819 0.0], [0.0 0.0; 8.56309 0.0], [0.0 0.0; 260.346 0.0], [-9.81802 -1.63634e7; -391.998 1.35509e7], [0.0 0.0; 0.281397 0.0], [0.0 0.0; 0.0 0.0], [0.0 0.0; 64.103 0.0]))               \n",
       " StencilPoint{StaticArrays.SArray{Tuple{2,2},Float64,2,4},3,7}(([0.0 0.0; 0.0669303 0.0], [0.0 0.0; 0.0 0.0], [0.0 0.0; 0.000383403 0.0], [-14.4589 -2.40981e7; -48.1532 1.99563e7], [0.0 0.0; 0.000730083 0.0], [0.0 0.0; 0.0435819 0.0], [0.0 0.0; 0.146596 0.0]))      StencilPoint{StaticArrays.SArray{Tuple{2,2},Float64,2,4},3,7}(([0.0 0.0; 64.103 0.0], [0.0 0.0; 0.0290045 0.0], [0.0 0.0; 0.322713 0.0], [-11.3171 -1.88618e7; -170.952 1.56199e7], [0.0 0.0; 0.840559 0.0], [0.0 0.0; 0.0 0.0], [0.0 0.0; 68.169 0.0]))             \n",
       " StencilPoint{StaticArrays.SArray{Tuple{2,2},Float64,2,4},3,7}(([0.0 0.0; 0.146596 0.0], [0.0 0.0; 0.0 0.0], [0.0 0.0; 0.000727817 0.0], [-12.2877 -2.04795e7; -250.455 1.69596e7], [0.0 0.0; 1.90708 0.0], [0.0 0.0; 41.8639 0.0], [0.0 0.0; 165.834 0.0]))              StencilPoint{StaticArrays.SArray{Tuple{2,2},Float64,2,4},3,7}(([0.0 0.0; 68.169 0.0], [0.0 0.0; 0.00908452 0.0], [0.0 0.0; 0.163303 0.0], [-11.8021 -1.96702e7; -192.562 1.62894e7], [0.0 0.0; 0.230302 0.0], [0.0 0.0; 0.0 0.0], [0.0 0.0; 84.8958 0.0]))           \n",
       " StencilPoint{StaticArrays.SArray{Tuple{2,2},Float64,2,4},3,7}(([0.0 0.0; 165.834 0.0], [0.0 0.0; 0.0 0.0], [0.0 0.0; 0.000735231 0.0], [-15.9719 -2.66198e7; -483.515 2.20445e7], [0.0 0.0; 1.45514 0.0], [0.0 0.0; 44.8651 0.0], [0.0 0.0; 218.454 0.0]))               StencilPoint{StaticArrays.SArray{Tuple{2,2},Float64,2,4},3,7}(([0.0 0.0; 84.8958 0.0], [0.0 0.0; 0.00674723 0.0], [0.0 0.0; 0.884314 0.0], [-13.8174 -2.3029e7; -132.974 1.90709e7], [0.0 0.0; 1.36822 0.0], [0.0 0.0; 0.0 0.0], [0.0 0.0; 0.0487321 0.0]))          \n",
       " StencilPoint{StaticArrays.SArray{Tuple{2,2},Float64,2,4},3,7}(([0.0 0.0; 218.454 0.0], [0.0 0.0; 0.0 0.0], [0.0 0.0; 0.000315151 0.0], [-17.2309 -2.87182e7; -416.442 2.37822e7], [0.0 0.0; 0.793347 0.0], [0.0 0.0; 135.05 0.0], [0.0 0.0; 0.0 0.0]))                …  StencilPoint{StaticArrays.SArray{Tuple{2,2},Float64,2,4},3,7}(([0.0 0.0; 0.0487321 0.0], [0.0 0.0; 0.00798427 0.0], [0.0 0.0; 6.60373e-5 0.0], [-13.4696 -2.24493e7; -44.6753 1.85909e7], [0.0 0.0; 0.000192518 0.0], [0.0 0.0; 0.0 0.0], [0.0 0.0; 0.0 0.0]))       \n",
       "\n",
       "[:, :, 15] =\n",
       " StencilPoint{StaticArrays.SArray{Tuple{2,2},Float64,2,4},3,7}(([0.0 0.0; 0.0 0.0], [0.0 0.0; 0.0 0.0], [0.0 0.0; 0.676947 0.0], [-1.28588 -2.14314e6; -149.804 1.77479e6], [0.0 0.0; 0.596773 0.0], [0.0 0.0; 18.6935 0.0], [0.0 0.0; 124.579 0.0]))                 …  StencilPoint{StaticArrays.SArray{Tuple{2,2},Float64,2,4},3,7}(([0.0 0.0; 0.0 0.0], [0.0 0.0; 0.00942151 0.0], [0.0 0.0; 0.0652471 0.0], [-11.9498 -1.99164e7; -52.8001 1.64932e7], [0.0 0.0; 1.4496 0.0], [0.0 0.0; 0.0 0.0], [0.0 0.0; 11.5429 0.0]))              \n",
       " StencilPoint{StaticArrays.SArray{Tuple{2,2},Float64,2,4},3,7}(([0.0 0.0; 124.579 0.0], [0.0 0.0; 0.0 0.0], [0.0 0.0; 2.31289 0.0], [-3.19987 -5.33311e6; -307.619 4.41648e6], [0.0 0.0; 2.3169 0.0], [0.0 0.0; 6.86267 0.0], [0.0 0.0; 160.948 0.0]))                   StencilPoint{StaticArrays.SArray{Tuple{2,2},Float64,2,4},3,7}(([0.0 0.0; 11.5429 0.0], [0.0 0.0; 0.00384775 0.0], [0.0 0.0; 0.3696 0.0], [-9.48173 -1.58029e7; -211.24 1.30868e7], [0.0 0.0; 167.872 0.0], [0.0 0.0; 0.0 0.0], [0.0 0.0; 0.0434416 0.0]))           \n",
       " StencilPoint{StaticArrays.SArray{Tuple{2,2},Float64,2,4},3,7}(([0.0 0.0; 160.948 0.0], [0.0 0.0; 0.0 0.0], [0.0 0.0; 1.22459 0.0], [-2.80193 -4.66989e6; -287.13 3.86725e6], [0.0 0.0; 1.22526 0.0], [0.0 0.0; 24.8416 0.0], [0.0 0.0; 89.6097 0.0]))                   StencilPoint{StaticArrays.SArray{Tuple{2,2},Float64,2,4},3,7}(([0.0 0.0; 0.0434416 0.0], [0.0 0.0; 0.00802569 0.0], [0.0 0.0; 0.000148328 0.0], [-8.14558 -1.3576e7; -27.0548 1.12426e7], [0.0 0.0; 0.00013632 0.0], [0.0 0.0; 0.0 0.0], [0.0 0.0; 0.0208424 0.0])) \n",
       " StencilPoint{StaticArrays.SArray{Tuple{2,2},Float64,2,4},3,7}(([0.0 0.0; 89.6097 0.0], [0.0 0.0; 0.0 0.0], [0.0 0.0; 0.384285 0.0], [-3.35581 -5.59301e6; -219.974 4.63171e6], [0.0 0.0; 0.331558 0.0], [0.0 0.0; 16.2463 0.0], [0.0 0.0; 102.286 0.0]))                StencilPoint{StaticArrays.SArray{Tuple{2,2},Float64,2,4},3,7}(([0.0 0.0; 0.0208424 0.0], [0.0 0.0; 0.00528505 0.0], [0.0 0.0; 0.000148301 0.0], [-4.70188 -7.83647e6; -15.6259 6.48958e6], [0.0 0.0; 0.000103418 0.0], [0.0 0.0; 0.0 0.0], [0.0 0.0; 0.024541 0.0]))\n",
       " StencilPoint{StaticArrays.SArray{Tuple{2,2},Float64,2,4},3,7}(([0.0 0.0; 102.286 0.0], [0.0 0.0; 0.0 0.0], [0.0 0.0; 0.601702 0.0], [-0.646489 -1.07748e6; -288.156 8.92289e5], [0.0 0.0; 1.85783 0.0], [0.0 0.0; 30.6144 0.0], [0.0 0.0; 150.654 0.0]))                StencilPoint{StaticArrays.SArray{Tuple{2,2},Float64,2,4},3,7}(([0.0 0.0; 0.024541 0.0], [0.0 0.0; 0.00544419 0.0], [0.0 0.0; 0.000110374 0.0], [-6.02248 -1.00375e7; -20.0087 8.31227e6], [0.0 0.0; 0.000168269 0.0], [0.0 0.0; 0.0 0.0], [0.0 0.0; 0.0290051 0.0]))\n",
       " StencilPoint{StaticArrays.SArray{Tuple{2,2},Float64,2,4},3,7}(([0.0 0.0; 150.654 0.0], [0.0 0.0; 0.0 0.0], [0.0 0.0; 0.784791 0.0], [-2.99289 -4.98815e6; -396.514 4.13081e6], [0.0 0.0; 1.25885 0.0], [0.0 0.0; 44.7458 0.0], [0.0 0.0; 189.156 0.0]))              …  StencilPoint{StaticArrays.SArray{Tuple{2,2},Float64,2,4},3,7}(([0.0 0.0; 0.0290051 0.0], [0.0 0.0; 0.00408989 0.0], [0.0 0.0; 6.16479e-5 0.0], [-6.33092 -1.05515e7; -21.0287 8.73799e6], [0.0 0.0; 0.000104352 0.0], [0.0 0.0; 0.0 0.0], [0.0 0.0; 0.0242943 0.0]))\n",
       " StencilPoint{StaticArrays.SArray{Tuple{2,2},Float64,2,4},3,7}(([0.0 0.0; 189.156 0.0], [0.0 0.0; 0.0 0.0], [0.0 0.0; 1.73156 0.0], [-4.06897 -6.78162e6; -602.218 5.61603e6], [0.0 0.0; 3.74236 0.0], [0.0 0.0; 97.5695 0.0], [0.0 0.0; 296.54 0.0]))                   StencilPoint{StaticArrays.SArray{Tuple{2,2},Float64,2,4},3,7}(([0.0 0.0; 0.0242943 0.0], [0.0 0.0; 0.00800809 0.0], [0.0 0.0; 0.000100695 0.0], [-4.47286 -7.45476e6; -14.881 6.17347e6], [0.0 0.0; 0.000117956 0.0], [0.0 0.0; 0.0 0.0], [0.0 0.0; 0.0320996 0.0]))\n",
       " StencilPoint{StaticArrays.SArray{Tuple{2,2},Float64,2,4},3,7}(([0.0 0.0; 296.54 0.0], [0.0 0.0; 0.0 0.0], [0.0 0.0; 1.84867 0.0], [-11.043 -1.8405e7; -664.287 1.52417e7], [0.0 0.0; 0.589254 0.0], [0.0 0.0; 59.3873 0.0], [0.0 0.0; 269.342 0.0]))                    StencilPoint{StaticArrays.SArray{Tuple{2,2},Float64,2,4},3,7}(([0.0 0.0; 0.0320996 0.0], [0.0 0.0; 0.0130867 0.0], [0.0 0.0; 0.000227651 0.0], [-7.49909 -1.24985e7; -24.9382 1.03503e7], [0.0 0.0; 0.000268958 0.0], [0.0 0.0; 0.0 0.0], [0.0 0.0; 0.0517742 0.0]))\n",
       " StencilPoint{StaticArrays.SArray{Tuple{2,2},Float64,2,4},3,7}(([0.0 0.0; 269.342 0.0], [0.0 0.0; 0.0 0.0], [0.0 0.0; 2.98223 0.0], [-13.401 -2.2335e7; -317.266 1.84962e7], [0.0 0.0; 0.394714 0.0], [0.0 0.0; 0.0237924 0.0], [0.0 0.0; 0.13245 0.0]))                 StencilPoint{StaticArrays.SArray{Tuple{2,2},Float64,2,4},3,7}(([0.0 0.0; 0.0517742 0.0], [0.0 0.0; 0.0280274 0.0], [0.0 0.0; 0.000334959 0.0], [-10.2704 -1.71174e7; -34.1354 1.41753e7], [0.0 0.0; 3.88186e-9 0.0], [0.0 0.0; 0.0 0.0], [0.0 0.0; 0.0344917 0.0])) \n",
       " StencilPoint{StaticArrays.SArray{Tuple{2,2},Float64,2,4},3,7}(([0.0 0.0; 0.13245 0.0], [0.0 0.0; 0.0 0.0], [0.0 0.0; 0.000138073 0.0], [-10.0957 -1.68262e7; -33.6955 1.39342e7], [0.0 0.0; 0.000150843 0.0], [0.0 0.0; 0.0394121 0.0], [0.0 0.0; 0.0813096 0.0]))      StencilPoint{StaticArrays.SArray{Tuple{2,2},Float64,2,4},3,7}(([0.0 0.0; 0.0344917 0.0], [0.0 0.0; 0.0161594 0.0], [0.0 0.0; 0.000191488 0.0], [-8.32478 -1.38746e7; -27.6812 1.14899e7], [0.0 0.0; 0.000220879 0.0], [0.0 0.0; 0.0 0.0], [0.0 0.0; 0.0543279 0.0]))\n",
       " StencilPoint{StaticArrays.SArray{Tuple{2,2},Float64,2,4},3,7}(([0.0 0.0; 0.0813096 0.0], [0.0 0.0; 0.0 0.0], [0.0 0.0; 0.000201755 0.0], [-13.7744 -2.29573e7; -45.9819 1.90115e7], [0.0 0.0; 0.000330332 0.0], [0.0 0.0; 0.0626145 0.0], [0.0 0.0; 0.209765 0.0]))  …  StencilPoint{StaticArrays.SArray{Tuple{2,2},Float64,2,4},3,7}(([0.0 0.0; 0.0543279 0.0], [0.0 0.0; 23.6562 0.0], [0.0 0.0; 0.607922 0.0], [-6.54316 -1.09053e7; -84.9649 9.03093e6], [0.0 0.0; 0.34813 0.0], [0.0 0.0; 0.0 0.0], [0.0 0.0; 38.6241 0.0]))           \n",
       " StencilPoint{StaticArrays.SArray{Tuple{2,2},Float64,2,4},3,7}(([0.0 0.0; 0.209765 0.0], [0.0 0.0; 0.0 0.0], [0.0 0.0; 0.000612202 0.0], [-14.4146 -2.40244e7; -105.114 1.98952e7], [0.0 0.0; 0.160348 0.0], [0.0 0.0; 13.3491 0.0], [0.0 0.0; 43.6454 0.0]))            StencilPoint{StaticArrays.SArray{Tuple{2,2},Float64,2,4},3,7}(([0.0 0.0; 38.6241 0.0], [0.0 0.0; 10.6075 0.0], [0.0 0.0; 0.281397 0.0], [-5.91163 -9.85271e6; -111.56 8.15928e6], [0.0 0.0; 0.144721 0.0], [0.0 0.0; 0.0 0.0], [0.0 0.0; 42.3197 0.0]))             \n",
       " StencilPoint{StaticArrays.SArray{Tuple{2,2},Float64,2,4},3,7}(([0.0 0.0; 43.6454 0.0], [0.0 0.0; 0.0 0.0], [0.0 0.0; 0.000730083 0.0], [-8.97173 -1.49529e7; -190.194 1.23829e7], [0.0 0.0; 0.2076 0.0], [0.0 0.0; 25.7746 0.0], [0.0 0.0; 90.8471 0.0]))               StencilPoint{StaticArrays.SArray{Tuple{2,2},Float64,2,4},3,7}(([0.0 0.0; 42.3197 0.0], [0.0 0.0; 0.0122258 0.0], [0.0 0.0; 0.840559 0.0], [-11.5114 -1.91856e7; -117.676 1.58881e7], [0.0 0.0; 0.0857199 0.0], [0.0 0.0; 0.0 0.0], [0.0 0.0; 36.2865 0.0]))         \n",
       " StencilPoint{StaticArrays.SArray{Tuple{2,2},Float64,2,4},3,7}(([0.0 0.0; 90.8471 0.0], [0.0 0.0; 0.0 0.0], [0.0 0.0; 1.90708 0.0], [-8.97684 -1.49614e7; -198.598 1.23899e7], [0.0 0.0; 1.40177 0.0], [0.0 0.0; 25.6765 0.0], [0.0 0.0; 49.03 0.0]))                    StencilPoint{StaticArrays.SArray{Tuple{2,2},Float64,2,4},3,7}(([0.0 0.0; 36.2865 0.0], [0.0 0.0; 0.00722667 0.0], [0.0 0.0; 0.230302 0.0], [-11.23 -1.87167e7; -113.371 1.54998e7], [0.0 0.0; 0.0799323 0.0], [0.0 0.0; 0.0 0.0], [0.0 0.0; 39.5674 0.0]))          \n",
       " StencilPoint{StaticArrays.SArray{Tuple{2,2},Float64,2,4},3,7}(([0.0 0.0; 49.03 0.0], [0.0 0.0; 0.0 0.0], [0.0 0.0; 1.45514 0.0], [-11.3694 -1.8949e7; -148.79 1.56921e7], [0.0 0.0; 2.47401 0.0], [0.0 0.0; 9.36829 0.0], [0.0 0.0; 48.801 0.0]))                       StencilPoint{StaticArrays.SArray{Tuple{2,2},Float64,2,4},3,7}(([0.0 0.0; 39.5674 0.0], [0.0 0.0; 0.0211987 0.0], [0.0 0.0; 1.36822 0.0], [-11.6454 -1.9409e7; -79.7985 1.60731e7], [0.0 0.0; 0.0800922 0.0], [0.0 0.0; 0.0 0.0], [0.0 0.0; 0.186193 0.0]))          \n",
       " StencilPoint{StaticArrays.SArray{Tuple{2,2},Float64,2,4},3,7}(([0.0 0.0; 48.801 0.0], [0.0 0.0; 0.0 0.0], [0.0 0.0; 0.793347 0.0], [-8.5162 -1.41937e7; -104.73 1.17541e7], [0.0 0.0; 0.441198 0.0], [0.0 0.0; 25.3381 0.0], [0.0 0.0; 0.0 0.0]))                    …  StencilPoint{StaticArrays.SArray{Tuple{2,2},Float64,2,4},3,7}(([0.0 0.0; 0.186193 0.0], [0.0 0.0; 2.31791e-11 0.0], [0.0 0.0; 0.000192518 0.0], [-10.8549 -1.80915e7; -36.1448 1.4982e7], [0.0 0.0; 0.000524784 0.0], [0.0 0.0; 0.0 0.0], [0.0 0.0; 0.0 0.0]))      \n",
       "\n",
       "[:, :, 16] =\n",
       " StencilPoint{StaticArrays.SArray{Tuple{2,2},Float64,2,4},3,7}(([0.0 0.0; 0.0 0.0], [0.0 0.0; 0.0 0.0], [0.0 0.0; 0.596773 0.0], [-1.95991 -3.26652e6; -219.371 2.70509e6], [0.0 0.0; 0.0 0.0], [0.0 0.0; 76.0361 0.0], [0.0 0.0; 133.87 0.0]))                …  StencilPoint{StaticArrays.SArray{Tuple{2,2},Float64,2,4},3,7}(([0.0 0.0; 0.0 0.0], [0.0 0.0; 0.0308802 0.0], [0.0 0.0; 1.4496 0.0], [-0.892985 -1.48831e6; -25.7238 1.2325e6], [0.0 0.0; 0.0 0.0], [0.0 0.0; 0.0 0.0], [0.0 0.0; 19.5697 0.0]))                  \n",
       " StencilPoint{StaticArrays.SArray{Tuple{2,2},Float64,2,4},3,7}(([0.0 0.0; 133.87 0.0], [0.0 0.0; 0.0 0.0], [0.0 0.0; 2.3169 0.0], [-5.43931 -9.06552e6; -261.967 7.50738e6], [0.0 0.0; 0.0 0.0], [0.0 0.0; 24.8636 0.0], [0.0 0.0; 82.8995 0.0]))                 StencilPoint{StaticArrays.SArray{Tuple{2,2},Float64,2,4},3,7}(([0.0 0.0; 19.5697 0.0], [0.0 0.0; 0.00498461 0.0], [0.0 0.0; 167.872 0.0], [-0.162957 -2.71595e5; -188.06 224915.0], [0.0 0.0; 0.0 0.0], [0.0 0.0; 0.0 0.0], [0.0 0.0; 0.073416 0.0]))            \n",
       " StencilPoint{StaticArrays.SArray{Tuple{2,2},Float64,2,4},3,7}(([0.0 0.0; 82.8995 0.0], [0.0 0.0; 0.0 0.0], [0.0 0.0; 1.22526 0.0], [-15.6843 -2.61404e7; -226.621 2.16475e7], [0.0 0.0; 0.0 0.0], [0.0 0.0; 23.8625 0.0], [0.0 0.0; 66.6798 0.0]))               StencilPoint{StaticArrays.SArray{Tuple{2,2},Float64,2,4},3,7}(([0.0 0.0; 0.073416 0.0], [0.0 0.0; 0.00892421 0.0], [0.0 0.0; 0.00013632 0.0], [-1.19082 -1.98471e6; -4.05429 1.64359e6], [0.0 0.0; 0.0 0.0], [0.0 0.0; 0.0 0.0], [0.0 0.0; 0.027209 0.0]))       \n",
       " StencilPoint{StaticArrays.SArray{Tuple{2,2},Float64,2,4},3,7}(([0.0 0.0; 66.6798 0.0], [0.0 0.0; 0.0 0.0], [0.0 0.0; 0.331558 0.0], [-11.7797 -1.96328e7; -230.786 1.62584e7], [0.0 0.0; 0.0 0.0], [0.0 0.0; 26.3165 0.0], [0.0 0.0; 98.4383 0.0]))              StencilPoint{StaticArrays.SArray{Tuple{2,2},Float64,2,4},3,7}(([0.0 0.0; 0.027209 0.0], [0.0 0.0; 0.00788694 0.0], [0.0 0.0; 0.000103418 0.0], [-15.2582 -2.54303e7; -50.6049 2.10595e7], [0.0 0.0; 0.0 0.0], [0.0 0.0; 0.0 0.0], [0.0 0.0; 0.0269951 0.0]))     \n",
       " StencilPoint{StaticArrays.SArray{Tuple{2,2},Float64,2,4},3,7}(([0.0 0.0; 98.4383 0.0], [0.0 0.0; 0.0 0.0], [0.0 0.0; 1.85783 0.0], [-14.6398 -2.43997e7; -355.257 2.0206e7], [0.0 0.0; 0.0 0.0], [0.0 0.0; 69.0109 0.0], [0.0 0.0; 137.456 0.0]))                StencilPoint{StaticArrays.SArray{Tuple{2,2},Float64,2,4},3,7}(([0.0 0.0; 0.0269951 0.0], [0.0 0.0; 0.00256045 0.0], [0.0 0.0; 0.000168269 0.0], [-2.82383 -4.70638e6; -9.40698 3.89747e6], [0.0 0.0; 0.0 0.0], [0.0 0.0; 0.0 0.0], [0.0 0.0; 0.0233189 0.0]))    \n",
       " StencilPoint{StaticArrays.SArray{Tuple{2,2},Float64,2,4},3,7}(([0.0 0.0; 137.456 0.0], [0.0 0.0; 0.0 0.0], [0.0 0.0; 1.25885 0.0], [-9.24126 -1.54021e7; -313.786 1.27549e7], [0.0 0.0; 0.0 0.0], [0.0 0.0; 30.4762 0.0], [0.0 0.0; 113.984 0.0]))            …  StencilPoint{StaticArrays.SArray{Tuple{2,2},Float64,2,4},3,7}(([0.0 0.0; 0.0233189 0.0], [0.0 0.0; 0.00456886 0.0], [0.0 0.0; 0.000104352 0.0], [-1.08531 -1.80886e6; -3.64357 1.49796e6], [0.0 0.0; 0.0 0.0], [0.0 0.0; 0.0 0.0], [0.0 0.0; 0.0204796 0.0]))    \n",
       " StencilPoint{StaticArrays.SArray{Tuple{2,2},Float64,2,4},3,7}(([0.0 0.0; 113.984 0.0], [0.0 0.0; 0.0 0.0], [0.0 0.0; 3.74236 0.0], [-13.2953 -2.21588e7; -289.006 1.83503e7], [0.0 0.0; 0.0 0.0], [0.0 0.0; 28.5978 0.0], [0.0 0.0; 98.6413 0.0]))               StencilPoint{StaticArrays.SArray{Tuple{2,2},Float64,2,4},3,7}(([0.0 0.0; 0.0204796 0.0], [0.0 0.0; 0.010876 0.0], [0.0 0.0; 0.000117956 0.0], [-0.120616 -2.01026e5; -0.46478 166475.0], [0.0 0.0; 0.0 0.0], [0.0 0.0; 0.0 0.0], [0.0 0.0; 0.0337667 0.0]))      \n",
       " StencilPoint{StaticArrays.SArray{Tuple{2,2},Float64,2,4},3,7}(([0.0 0.0; 98.6413 0.0], [0.0 0.0; 0.0 0.0], [0.0 0.0; 0.589254 0.0], [-13.5817 -2.26361e7; -227.573 1.87455e7], [0.0 0.0; 0.0 0.0], [0.0 0.0; 25.7722 0.0], [0.0 0.0; 57.5813 0.0]))              StencilPoint{StaticArrays.SArray{Tuple{2,2},Float64,2,4},3,7}(([0.0 0.0; 0.0337667 0.0], [0.0 0.0; 0.0180435 0.0], [0.0 0.0; 0.000268958 0.0], [-7.91327 -1.31888e7; -26.2648 1.0922e7], [0.0 0.0; 0.0 0.0], [0.0 0.0; 0.0 0.0], [0.0 0.0; 7.79074e-11 0.0]))    \n",
       " StencilPoint{StaticArrays.SArray{Tuple{2,2},Float64,2,4},3,7}(([0.0 0.0; 57.5813 0.0], [0.0 0.0; 0.0 0.0], [0.0 0.0; 0.394714 0.0], [-4.223 -7.03834e6; -72.0163 5.82863e6], [0.0 0.0; 0.0 0.0], [0.0 0.0; 0.0123646 0.0], [0.0 0.0; 0.0392235 0.0]))            StencilPoint{StaticArrays.SArray{Tuple{2,2},Float64,2,4},3,7}(([0.0 0.0; 7.79074e-11 0.0], [0.0 0.0; 2.31791e-11 0.0], [0.0 0.0; 3.88186e-9 0.0], [-4.86751 -8.11252e6; -16.1236 6.71818e6], [0.0 0.0; 0.0 0.0], [0.0 0.0; 0.0 0.0], [0.0 0.0; 7.79074e-11 0.0]))\n",
       " StencilPoint{StaticArrays.SArray{Tuple{2,2},Float64,2,4},3,7}(([0.0 0.0; 0.0392235 0.0], [0.0 0.0; 0.0 0.0], [0.0 0.0; 0.000150843 0.0], [-9.53094 -1.58849e7; -31.6502 1.31547e7], [0.0 0.0; 0.0 0.0], [0.0 0.0; 0.0116744 0.0], [0.0 0.0; 0.0279193 0.0]))     StencilPoint{StaticArrays.SArray{Tuple{2,2},Float64,2,4},3,7}(([0.0 0.0; 7.79074e-11 0.0], [0.0 0.0; 0.0714315 0.0], [0.0 0.0; 0.000220879 0.0], [-0.290973 -4.84956e5; -1.27554 4.01604e5], [0.0 0.0; 0.0 0.0], [0.0 0.0; 0.0 0.0], [0.0 0.0; 0.240036 0.0]))   \n",
       " StencilPoint{StaticArrays.SArray{Tuple{2,2},Float64,2,4},3,7}(([0.0 0.0; 0.0279193 0.0], [0.0 0.0; 0.0 0.0], [0.0 0.0; 0.000330332 0.0], [-10.0165 -1.66941e7; -33.3332 1.38248e7], [0.0 0.0; 0.0 0.0], [0.0 0.0; 0.0287895 0.0], [0.0 0.0; 0.0966396 0.0]))  …  StencilPoint{StaticArrays.SArray{Tuple{2,2},Float64,2,4},3,7}(([0.0 0.0; 0.240036 0.0], [0.0 0.0; 22.079 0.0], [0.0 0.0; 0.34813 0.0], [-1.5484 -2.58067e6; -71.5562 2.13711e6], [0.0 0.0; 0.0 0.0], [0.0 0.0; 0.0 0.0], [0.0 0.0; 43.76 0.0]))                  \n",
       " StencilPoint{StaticArrays.SArray{Tuple{2,2},Float64,2,4},3,7}(([0.0 0.0; 0.0966396 0.0], [0.0 0.0; 0.0 0.0], [0.0 0.0; 0.160348 0.0], [-5.87234 -9.78723e6; -66.9224 8.10505e6], [0.0 0.0; 0.0 0.0], [0.0 0.0; 16.1226 0.0], [0.0 0.0; 31.0908 0.0]))            StencilPoint{StaticArrays.SArray{Tuple{2,2},Float64,2,4},3,7}(([0.0 0.0; 43.76 0.0], [0.0 0.0; 7.48521 0.0], [0.0 0.0; 0.144721 0.0], [-0.877269 -1.46211e6; -68.8038 1.21081e6], [0.0 0.0; 0.0 0.0], [0.0 0.0; 0.0 0.0], [0.0 0.0; 14.5079 0.0]))               \n",
       " StencilPoint{StaticArrays.SArray{Tuple{2,2},Float64,2,4},3,7}(([0.0 0.0; 31.0908 0.0], [0.0 0.0; 0.0 0.0], [0.0 0.0; 0.2076 0.0], [-8.54946 -1.42491e7; -122.117 1.18e7], [0.0 0.0; 0.0 0.0], [0.0 0.0; 16.1448 0.0], [0.0 0.0; 46.3539 0.0]))                   StencilPoint{StaticArrays.SArray{Tuple{2,2},Float64,2,4},3,7}(([0.0 0.0; 14.5079 0.0], [0.0 0.0; 0.0107699 0.0], [0.0 0.0; 0.0857199 0.0], [-1.08577 -1.80962e6; -28.9647 1.49859e6], [0.0 0.0; 0.0 0.0], [0.0 0.0; 0.0 0.0], [0.0 0.0; 10.7636 0.0]))           \n",
       " StencilPoint{StaticArrays.SArray{Tuple{2,2},Float64,2,4},3,7}(([0.0 0.0; 46.3539 0.0], [0.0 0.0; 0.0 0.0], [0.0 0.0; 1.40177 0.0], [-4.58928 -7.64879e6; -303.527 6.33416e6], [0.0 0.0; 0.0 0.0], [0.0 0.0; 60.7709 0.0], [0.0 0.0; 179.798 0.0]))               StencilPoint{StaticArrays.SArray{Tuple{2,2},Float64,2,4},3,7}(([0.0 0.0; 10.7636 0.0], [0.0 0.0; 0.00910381 0.0], [0.0 0.0; 0.0799323 0.0], [-7.59735 -1.26622e7; -46.0919 1.04859e7], [0.0 0.0; 0.0 0.0], [0.0 0.0; 0.0 0.0], [0.0 0.0; 10.073 0.0]))           \n",
       " StencilPoint{StaticArrays.SArray{Tuple{2,2},Float64,2,4},3,7}(([0.0 0.0; 179.798 0.0], [0.0 0.0; 0.0 0.0], [0.0 0.0; 2.47401 0.0], [-0.584769 -9.74616e5; -392.5 8.07104e5], [0.0 0.0; 0.0 0.0], [0.0 0.0; 86.0473 0.0], [0.0 0.0; 122.243 0.0]))                StencilPoint{StaticArrays.SArray{Tuple{2,2},Float64,2,4},3,7}(([0.0 0.0; 10.073 0.0], [0.0 0.0; 0.0397626 0.0], [0.0 0.0; 0.0800922 0.0], [-5.27429 -8.79049e6; -27.9028 7.27962e6], [0.0 0.0; 0.0 0.0], [0.0 0.0; 0.0 0.0], [0.0 0.0; 0.23888 0.0]))            \n",
       " StencilPoint{StaticArrays.SArray{Tuple{2,2},Float64,2,4},3,7}(([0.0 0.0; 122.243 0.0], [0.0 0.0; 0.0 0.0], [0.0 0.0; 0.441198 0.0], [-15.2582 -2.54303e7; -198.292 2.10595e7], [0.0 0.0; 0.0 0.0], [0.0 0.0; 24.1129 0.0], [0.0 0.0; 0.0 0.0]))               …  StencilPoint{StaticArrays.SArray{Tuple{2,2},Float64,2,4},3,7}(([0.0 0.0; 0.23888 0.0], [0.0 0.0; 0.0169015 0.0], [0.0 0.0; 0.000524784 0.0], [-8.17533 -1.36255e7; -27.3385 1.12837e7], [0.0 0.0; 0.0 0.0], [0.0 0.0; 0.0 0.0], [0.0 0.0; 0.0 0.0]))             "
      ]
     },
     "execution_count": 43,
     "metadata": {},
     "output_type": "execute_result"
    }
   ],
   "source": [
    "SS"
   ]
  },
  {
   "cell_type": "code",
   "execution_count": 29,
   "metadata": {
    "collapsed": true
   },
   "outputs": [],
   "source": [
    "stencilarray = Array{StencilPoint{StaticArrays.SArray{Tuple{2,2},Float64,2,4},3,7},3}(Nx,Ny,Nz)\n",
    "for i in 1:Nx, j in 1:Ny, k in 1:Nz\n",
    "    temp = (@SMatrix(zeros(2,2)), @SMatrix(zeros(2,2)),@SMatrix(zeros(2,2)),@SMatrix([randn() 0; 0.0 randn()]),\n",
    "                        @SMatrix(zeros(2,2)),@SMatrix(zeros(2,2)),@SMatrix(zeros(2,2)))\n",
    "    stencilarray[i,j,k] = StencilPoint{StaticArrays.SArray{Tuple{2,2},Float64,2,4},3,7}(temp)\n",
    "end\n",
    "precond_M = Stencil{StaticArrays.SArray{Tuple{2,2},Float64,2,4},3,7,typeof(stencilarray)}(stencilarray);"
   ]
  },
  {
   "cell_type": "code",
   "execution_count": 35,
   "metadata": {},
   "outputs": [
    {
     "data": {
      "text/plain": [
       "StencilPoint{StaticArrays.SArray{Tuple{2,2},Float64,2,4},3,7}"
      ]
     },
     "execution_count": 35,
     "metadata": {},
     "output_type": "execute_result"
    }
   ],
   "source": [
    "eltype(S.v)"
   ]
  },
  {
   "cell_type": "code",
   "execution_count": 31,
   "metadata": {},
   "outputs": [
    {
     "name": "stdout",
     "output_type": "stream",
     "text": [
      "123456"
     ]
    }
   ],
   "source": [
    "N = Nx*Ny*Nz\n",
    "Nxy = Nx*Ny\n",
    "P_A = spzeros(2N,2N)\n",
    "for i in 1:Nx, j in 1:Ny, k in 1:Nz\n",
    "    nd = (k-1)*Nxy+(j-1)*Nx+i\n",
    "    P_A[(2*nd-1):2*nd, (2*nd-1):2*nd] = precond_M[i,j,k].value[4]\n",
    "    if i!=1  P_A[(2*nd-1):2*nd, (2*nd-3):(2*nd-2)]           = precond_M[i,j,k].value[1] end\n",
    "    if j!=1  P_A[(2*nd-1):2*nd, (2*nd-2*Nx-1):(2*nd-2*Nx)]   = precond_M[i,j,k].value[2] end  \n",
    "    if k!=1  P_A[(2*nd-1):2*nd, (2*nd-2*Nxy-1):(2*nd-2*Nxy)] = precond_M[i,j,k].value[3] end\n",
    "    if k!=Nz P_A[(2*nd-1):2*nd, (2*nd+2*Nxy-1):(2*nd+2*Nxy)] = precond_M[i,j,k].value[5] end\n",
    "    if j!=Ny P_A[(2*nd-1):2*nd, (2*nd+2*Nx-1):(2*nd+2*Nx)]   = precond_M[i,j,k].value[6] end\n",
    "    if i!=Nx P_A[(2*nd-1):2*nd, (2*nd+1):(2*nd+2)]           = precond_M[i,j,k].value[7] end\n",
    "    if (j==1)&&(k==1) print(i) end\n",
    "end   "
   ]
  },
  {
   "cell_type": "code",
   "execution_count": 38,
   "metadata": {},
   "outputs": [
    {
     "data": {
      "text/plain": [
       "432-element Array{Float64,1}:\n",
       " 2.79961   \n",
       " 2.7067    \n",
       " 2.58452   \n",
       " 2.32513   \n",
       " 2.28027   \n",
       " 2.26918   \n",
       " 2.21877   \n",
       " 2.21218   \n",
       " 2.18611   \n",
       " 2.1539    \n",
       " 2.13461   \n",
       " 2.08256   \n",
       " 2.04268   \n",
       " ⋮         \n",
       " 0.0245877 \n",
       " 0.0239329 \n",
       " 0.0225562 \n",
       " 0.0200639 \n",
       " 0.0190295 \n",
       " 0.0180838 \n",
       " 0.0117689 \n",
       " 0.0110942 \n",
       " 0.00939585\n",
       " 0.00766536\n",
       " 0.00698825\n",
       " 0.00507583"
      ]
     },
     "execution_count": 38,
     "metadata": {},
     "output_type": "execute_result"
    }
   ],
   "source": [
    "svdvals(full(P_A))"
   ]
  },
  {
   "cell_type": "code",
   "execution_count": 20,
   "metadata": {},
   "outputs": [
    {
     "name": "stderr",
     "output_type": "stream",
     "text": [
      "\u001b[1m\u001b[36mINFO: \u001b[39m\u001b[22m\u001b[36mRecompiling stale cache file /Users/sw2030/.julia/lib/v0.6/IterativeSolvers.ji for module IterativeSolvers.\n",
      "\u001b[39m"
     ]
    }
   ],
   "source": [
    "using IterativeSolvers"
   ]
  },
  {
   "cell_type": "code",
   "execution_count": 14,
   "metadata": {},
   "outputs": [
    {
     "ename": "LoadError",
     "evalue": "\u001b[91mMethodError: no method matching setindex!(::NTuple{7,StaticArrays.SArray{Tuple{2,2},Float64,2,4}}, ::Array{Float64,2}, ::Int64)\u001b[39m",
     "output_type": "error",
     "traceback": [
      "\u001b[91mMethodError: no method matching setindex!(::NTuple{7,StaticArrays.SArray{Tuple{2,2},Float64,2,4}}, ::Array{Float64,2}, ::Int64)\u001b[39m",
      "",
      "Stacktrace:",
      " [1] \u001b[1minclude_string\u001b[22m\u001b[22m\u001b[1m(\u001b[22m\u001b[22m::String, ::String\u001b[1m)\u001b[22m\u001b[22m at \u001b[1m./loading.jl:522\u001b[22m\u001b[22m"
     ]
    }
   ],
   "source": [
    "S.v[1,1,1].value[1] = zeros(2,2)"
   ]
  },
  {
   "cell_type": "code",
   "execution_count": 15,
   "metadata": {},
   "outputs": [
    {
     "data": {
      "text/plain": [
       "(1, 2, 3)"
      ]
     },
     "execution_count": 15,
     "metadata": {},
     "output_type": "execute_result"
    }
   ],
   "source": [
    "testa = (1,2,3)"
   ]
  },
  {
   "cell_type": "code",
   "execution_count": 20,
   "metadata": {},
   "outputs": [
    {
     "data": {
      "text/plain": [
       "(4.0, 2, 3)"
      ]
     },
     "execution_count": 20,
     "metadata": {},
     "output_type": "execute_result"
    }
   ],
   "source": [
    "Base.setindex(testa,4.0,1)"
   ]
  },
  {
   "cell_type": "code",
   "execution_count": 24,
   "metadata": {},
   "outputs": [
    {
     "ename": "LoadError",
     "evalue": "\u001b[91mMethodError: no method matching setindex!(::NTuple{7,StaticArrays.SArray{Tuple{2,2},Float64,2,4}}, ::StaticArrays.SArray{Tuple{2,2},Float64,2,4}, ::Int64)\u001b[39m",
     "output_type": "error",
     "traceback": [
      "\u001b[91mMethodError: no method matching setindex!(::NTuple{7,StaticArrays.SArray{Tuple{2,2},Float64,2,4}}, ::StaticArrays.SArray{Tuple{2,2},Float64,2,4}, ::Int64)\u001b[39m",
      "",
      "Stacktrace:",
      " [1] \u001b[1minclude_string\u001b[22m\u001b[22m\u001b[1m(\u001b[22m\u001b[22m::String, ::String\u001b[1m)\u001b[22m\u001b[22m at \u001b[1m./loading.jl:522\u001b[22m\u001b[22m"
     ]
    }
   ],
   "source": [
    "Base.setindex!(S[1,1,1].value, @SMatrix(randn(2,2)),4)"
   ]
  },
  {
   "cell_type": "code",
   "execution_count": 22,
   "metadata": {},
   "outputs": [
    {
     "data": {
      "text/plain": [
       "1000000"
      ]
     },
     "execution_count": 22,
     "metadata": {},
     "output_type": "execute_result"
    }
   ],
   "source": [
    "a = 0\n",
    "for i in 1:1000000\n",
    "    a += 1\n",
    "end\n",
    "a"
   ]
  },
  {
   "cell_type": "code",
   "execution_count": 34,
   "metadata": {},
   "outputs": [
    {
     "data": {
      "text/plain": [
       "StencilPoint{StaticArrays.SArray{Tuple{2,2},Float64,2,4},3,7}(([0.0 0.0; 0.0 0.0], [0.0 0.0; 0.0 0.0], [0.0 0.0; 0.0 0.0], [0.0806897 1.99648; -0.508091 0.692843], [0.0 0.0; 0.000450028 0.0], [0.0 0.0; 0.0299064 0.0], [0.0 0.0; 0.0997239 0.0]))"
      ]
     },
     "execution_count": 34,
     "metadata": {},
     "output_type": "execute_result"
    }
   ],
   "source": [
    "StencilPoint{StaticArrays.SArray{Tuple{2,2},Float64,2,4},3,7}(Base.setindex(S[1,1,1].value, @SMatrix(randn(2,2)),4))"
   ]
  },
  {
   "cell_type": "code",
   "execution_count": null,
   "metadata": {
    "collapsed": true
   },
   "outputs": [],
   "source": []
  }
 ],
 "metadata": {
  "kernelspec": {
   "display_name": "Julia 0.6.0",
   "language": "julia",
   "name": "julia-0.6"
  },
  "language_info": {
   "file_extension": ".jl",
   "mimetype": "application/julia",
   "name": "julia",
   "version": "0.6.2"
  }
 },
 "nbformat": 4,
 "nbformat_minor": 2
}
