{
 "cells": [
  {
   "cell_type": "code",
   "execution_count": 1,
   "metadata": {},
   "outputs": [],
   "source": [
    "#addprocs(4);\n",
    "using DistributedArrays\n",
    "using ForwardDiff\n",
    "using StaticArrays\n",
    "include(\"Stencil.jl\")\n",
    "include(\"stencilgmres.jl\")\n",
    "include(\"reservoirfunc.jl\")\n",
    "include(\"distributed.jl\")\n",
    "include(\"res3d.jl\")\n",
    "include(\"preconditioning.jl\")\n",
    "using BenchmarkTools"
   ]
  },
  {
   "cell_type": "code",
   "execution_count": 2,
   "metadata": {
    "collapsed": true
   },
   "outputs": [],
   "source": [
    "permdata = open(\"spe_perm.dat\")\n",
    "phidata  = open(\"spe_phi.dat\")\n",
    "raw1 = readdlm(phidata)\n",
    "raw2 = readdlm(permdata)\n",
    "close(permdata)\n",
    "close(phidata)\n",
    "porosity = reshape(raw1', 60, 220, 85)\n",
    "lineperm = reshape(raw2', 3366000, 1)\n",
    "kx = reshape(lineperm[1:1122000]', 60, 220, 85)\n",
    "ky = reshape(lineperm[1122001:2244000]', 60, 220, 85)\n",
    "kz = reshape(lineperm[2244001:end]', 60, 220, 85)\n",
    "savepor = copy(porosity)\n",
    "## Porosity pre-processing\n",
    "for id in eachindex(porosity)\n",
    "    if abs(porosity[id])<1e-3\n",
    "        porosity[id] = 0.2\n",
    "        kx[id], ky[id], kz[id] = 1e-10, 1e-10, 1e-10\n",
    "    end\n",
    "end\n",
    "kraw = [SVector{3,Float64}([kx[i,j,k], ky[i,j,k], kz[i,j,k]]) for i in 1:60, j in 1:220, k in 1:85];"
   ]
  },
  {
   "cell_type": "code",
   "execution_count": 15,
   "metadata": {
    "collapsed": true
   },
   "outputs": [],
   "source": [
    "Nx = 50\n",
    "Ny = 50\n",
    "Nz = 50\n",
    "offset = 1;"
   ]
  },
  {
   "cell_type": "code",
   "execution_count": 16,
   "metadata": {},
   "outputs": [],
   "source": [
    "p_ref = 14.7 \n",
    "C_r   = 3e-6\n",
    "ϕ_ref = 0.2\n",
    "#=everywhere=# ϕ     = porosity[offset:(Nx+offset-1), offset:(Ny+offset-1), offset:(Nz+offset-1)]\n",
    "S_wc, S_or = 0.2, 0.2\n",
    "k_r_w(x)   = ((x-S_wc)/(1-S_wc-S_or))^2\n",
    "k_r_o(x)   = (1 - (x-S_wc)/(1-S_wc-S_or))^2\n",
    "p_cow(x)   = 0\n",
    "C_water    = 3e-6\n",
    "C_oil      = 3e-6\n",
    "ρ_water(p) = 64.0*exp(C_water*(p-p_ref)) \n",
    "ρ_oil(p)   = 53.0*exp(C_oil*(p-p_ref))   \n",
    "μ_water = 0.3 # cp\n",
    "μ_oil   = 3.0; # cp\n",
    "saveper = (kx.+ky.+kz)./3\n",
    "saveper = saveper[offset:(Nx+offset-1), offset:(Ny+offset-1), offset:(Nz+offset-1)];"
   ]
  },
  {
   "cell_type": "code",
   "execution_count": 5,
   "metadata": {
    "collapsed": true
   },
   "outputs": [],
   "source": [
    "## 3d model\n",
    "Lx = 1200\n",
    "Ly = 2200\n",
    "Lz = 170\n",
    "Δt = 0.01\n",
    "Tf = 2000.0\n",
    "Δx = (fill(Lx/Nx, Nx, Ny, Nz))\n",
    "Δy = (fill(Ly/Ny, Nx, Ny, Nz))\n",
    "Δz = fill(Lz/Nz, Nx, Ny, Nz)\n",
    "z  = fill(12000.0, Nx, Ny, Nz)\n",
    "k = makegrid(kraw[(offset):(Nx+offset-1), offset:(Ny+offset-1), offset:(Nz+offset-1)],7)\n",
    "model = Reservoirmodel(Δt, Tf, (Δx, Δy, Δz), z, k, p_ref, C_r, ϕ_ref, ϕ, \n",
    "                k_r_w, k_r_o, p_cow, C_water, C_oil, ρ_water, ρ_oil, μ_water, μ_oil);"
   ]
  },
  {
   "cell_type": "code",
   "execution_count": 6,
   "metadata": {
    "collapsed": true
   },
   "outputs": [],
   "source": [
    "## Porosity proportional control\n",
    "Total = 40.0*Nx\n",
    "q = zeros(Nx, Ny, Nz, 2)\n",
    "for i in (1,Nx), j in (1,Ny), k in 1:Nz\n",
    "    q[i,j,k,2] = Total*(saveper[i,j,k]/sum(saveper[i,j,:]))/4\n",
    "end\n",
    "halfx, halfy = round(Int, Nx/2),round(Int, Ny/2)\n",
    "for k in 1:Nz\n",
    "    q[halfx,halfy,k,1] = -Total*(saveper[halfx,halfy,k]/sum(saveper[halfx,halfy,:]))\n",
    "end \n",
    "#=## Constant rate well control\n",
    "Total = 1000.0\n",
    "q = zeros(Nx, Ny, Nz, 2)\n",
    "for x in (1,Nx), y in (1,Ny), z in 1:Nz\n",
    "    q[x, y, z, 1] = Total/4/Nz\n",
    "end\n",
    "for z in 1:Nz\n",
    "    q[round(Int, Nx/2),round(Int, Ny/2),z,2] = -Total/Nz\n",
    "end\n",
    "q_d = distribute(q);=#"
   ]
  },
  {
   "cell_type": "code",
   "execution_count": 7,
   "metadata": {
    "collapsed": true
   },
   "outputs": [],
   "source": [
    "init       = [SVector{2,Float64}([6000.0,0.2]) for i in 1:Nx, j in 1:Ny, k in 1:Nz]\n",
    "testgrid   = makegrid(init, 7);\n",
    "g_guess   = testgrid;"
   ]
  },
  {
   "cell_type": "code",
   "execution_count": 8,
   "metadata": {},
   "outputs": [
    {
     "name": "stdout",
     "output_type": "stream",
     "text": [
      "day 1...\n"
     ]
    }
   ],
   "source": [
    "solveprec1(model, q, testgrid, 2, printt=true, gmrestol=1e-8); #compiling purpose"
   ]
  },
  {
   "cell_type": "code",
   "execution_count": 9,
   "metadata": {
    "scrolled": false
   },
   "outputs": [
    {
     "name": "stdout",
     "output_type": "stream",
     "text": [
      "day 1...\n",
      "day 2...\n",
      "day 3...\n",
      "day 4...\n",
      "day 5...\n",
      "day 6...\n",
      "day 7...\n",
      "day 8...\n",
      "day 9...\n"
     ]
    }
   ],
   "source": [
    "psps = solveprec1(model, q, testgrid, 10, printt=true, gmrestol=1e-8);"
   ]
  },
  {
   "cell_type": "code",
   "execution_count": 11,
   "metadata": {
    "collapsed": true
   },
   "outputs": [],
   "source": [
    "using Plots"
   ]
  },
  {
   "cell_type": "code",
   "execution_count": 14,
   "metadata": {
    "scrolled": false
   },
   "outputs": [
    {
     "name": "stderr",
     "output_type": "stream",
     "text": [
      "\u001b[1m\u001b[36mINFO: \u001b[39m\u001b[22m\u001b[36mSaved animation to /Users/sw2030/Desktop/gitrep/Reservoirnew/src/tmp.gif\n",
      "\u001b[39m"
     ]
    },
    {
     "data": {
      "text/html": [
       "<img src=\"tmp.gif?0.8837380277542637>\" />"
      ],
      "text/plain": [
       "Plots.AnimatedGif(\"/Users/sw2030/Desktop/gitrep/Reservoirnew/src/tmp.gif\")"
      ]
     },
     "execution_count": 14,
     "metadata": {},
     "output_type": "execute_result"
    }
   ],
   "source": [
    "anim = @animate for t in 1:10\n",
    "    heatmap([psps[t][i,j,1][1] for i in 1:Nx, j in 1:Ny])\n",
    "end\n",
    "gif(anim)"
   ]
  },
  {
   "cell_type": "code",
   "execution_count": null,
   "metadata": {
    "collapsed": true
   },
   "outputs": [],
   "source": []
  },
  {
   "cell_type": "code",
   "execution_count": null,
   "metadata": {
    "collapsed": true
   },
   "outputs": [],
   "source": []
  },
  {
   "cell_type": "code",
   "execution_count": null,
   "metadata": {
    "collapsed": true
   },
   "outputs": [],
   "source": []
  },
  {
   "cell_type": "code",
   "execution_count": null,
   "metadata": {
    "collapsed": true
   },
   "outputs": [],
   "source": []
  },
  {
   "cell_type": "code",
   "execution_count": null,
   "metadata": {
    "collapsed": true
   },
   "outputs": [],
   "source": []
  },
  {
   "cell_type": "code",
   "execution_count": null,
   "metadata": {
    "collapsed": true
   },
   "outputs": [],
   "source": []
  },
  {
   "cell_type": "code",
   "execution_count": 40,
   "metadata": {
    "collapsed": true
   },
   "outputs": [],
   "source": [
    "S = getstencil(model, q, g_guess, testgrid)\n",
    "res = getresidual(model, q, g_guess, testgrid);\n",
    "copyres = getresidual(model, q, g_guess, testgrid);"
   ]
  },
  {
   "cell_type": "code",
   "execution_count": 46,
   "metadata": {},
   "outputs": [
    {
     "data": {
      "text/plain": [
       "([0.0 0.0; 0.730047 0.0], [0.0 0.0; 0.263764 0.0], [0.0 0.0; 0.00247713 0.0], [0.0 0.0; 0.0 0.0], [0.0 0.0; 0.0 0.0], [0.0 0.0; 0.135921 0.0], [0.0 0.0; 0.523326 0.0])"
      ]
     },
     "execution_count": 46,
     "metadata": {},
     "output_type": "execute_result"
    }
   ],
   "source": [
    "tmp = Base.setindex(S[3,4,5].value,@SMatrix(zeros(2,2)),4)\n",
    "tmp = Base.setindex(tmp,@SMatrix(zeros(2,2)),5)"
   ]
  },
  {
   "cell_type": "code",
   "execution_count": 47,
   "metadata": {},
   "outputs": [
    {
     "data": {
      "text/plain": [
       "([0.0 0.0; 0.730047 0.0], [0.0 0.0; 0.263764 0.0], [0.0 0.0; 0.00247713 0.0], [-0.370505 -6.17508e5; -2.88643 5.11374e5], [0.0 0.0; 0.00359579 0.0], [0.0 0.0; 0.135921 0.0], [0.0 0.0; 0.523326 0.0])"
      ]
     },
     "execution_count": 47,
     "metadata": {},
     "output_type": "execute_result"
    }
   ],
   "source": [
    "S[3,4,5].value"
   ]
  },
  {
   "cell_type": "code",
   "execution_count": 9,
   "metadata": {},
   "outputs": [
    {
     "name": "stdout",
     "output_type": "stream",
     "text": [
      "1234567891011121314151617181920"
     ]
    }
   ],
   "source": [
    "N = Nx*Ny*Nz\n",
    "Nxy = Nx*Ny\n",
    "A = spzeros(2N,2N)\n",
    "A2= spzeros(StaticArrays.SArray{Tuple{2,2},Float64,2,4},N,N)\n",
    "b = zeros(2N)\n",
    "b2 = zeros(StaticArrays.SArray{Tuple{2},Float64,1,2},N)\n",
    "for i in 1:Nx, j in 1:Ny, k in 1:Nz\n",
    "    nd = (k-1)*Nxy+(j-1)*Nx+i\n",
    "    A[(2*nd-1):2*nd, (2*nd-1):2*nd] = S[i,j,k].value[4]\n",
    "    A2[nd,nd] = S[i,j,k].value[4]\n",
    "    if i!=1  \n",
    "        A[(2*nd-1):2*nd, (2*nd-3):(2*nd-2)]           = S[i,j,k].value[1] \n",
    "        A2[nd, nd-1] = S[i,j,k].value[1]\n",
    "    end\n",
    "    if j!=1  \n",
    "        A[(2*nd-1):2*nd, (2*nd-2*Nx-1):(2*nd-2*Nx)]   = S[i,j,k].value[2]\n",
    "        A2[nd,nd-Nx] = S[i,j,k].value[2]\n",
    "    end  \n",
    "    if k!=1  \n",
    "        A[(2*nd-1):2*nd, (2*nd-2*Nxy-1):(2*nd-2*Nxy)] = S[i,j,k].value[3] \n",
    "        A2[nd,nd-Nxy] = S[i,j,k].value[3]\n",
    "    end\n",
    "    if k!=Nz \n",
    "        A[(2*nd-1):2*nd, (2*nd+2*Nxy-1):(2*nd+2*Nxy)] = S[i,j,k].value[5] \n",
    "        A2[nd,nd+Nxy] = S[i,j,k].value[5]\n",
    "    end\n",
    "    if j!=Ny \n",
    "        A[(2*nd-1):2*nd, (2*nd+2*Nx-1):(2*nd+2*Nx)]   = S[i,j,k].value[6] \n",
    "        A2[nd,nd+Nx] = S[i,j,k].value[6]\n",
    "    end\n",
    "    if i!=Nx \n",
    "        A[(2*nd-1):2*nd, (2*nd+1):(2*nd+2)]           = S[i,j,k].value[7] \n",
    "        A2[nd,nd+1] = S[i,j,k].value[7]\n",
    "    end\n",
    "    b[(2*nd-1):(2*nd)] = res[i,j,k]\n",
    "    b2[nd] = res[i,j,k]\n",
    "    if (j==1)&&(k==1) print(i) end\n",
    "end    \n",
    "#ab = (A\\b)"
   ]
  },
  {
   "cell_type": "code",
   "execution_count": 10,
   "metadata": {
    "collapsed": true
   },
   "outputs": [],
   "source": [
    "b2copy = copy(b2)\n",
    "bcopy = copy(b);"
   ]
  },
  {
   "cell_type": "code",
   "execution_count": 29,
   "metadata": {},
   "outputs": [
    {
     "name": "stdout",
     "output_type": "stream",
     "text": [
      "  513.680 μs (0 allocations: 0 bytes)\n"
     ]
    }
   ],
   "source": [
    "mybench(S, res, copyres); # Stencil-grid A_mul_B"
   ]
  },
  {
   "cell_type": "code",
   "execution_count": 12,
   "metadata": {},
   "outputs": [
    {
     "name": "stdout",
     "output_type": "stream",
     "text": [
      "  511.951 μs (3 allocations: 166.47 KiB)\n"
     ]
    }
   ],
   "source": [
    "@btime S*res; # Stencil-grid Multiplication"
   ]
  },
  {
   "cell_type": "code",
   "execution_count": 13,
   "metadata": {},
   "outputs": [
    {
     "name": "stdout",
     "output_type": "stream",
     "text": [
      "  165.968 μs (0 allocations: 0 bytes)\n"
     ]
    }
   ],
   "source": [
    "@btime A_mul_B!(1, A2, b2, 2, b2copy); #Block sparse matrix A_mul_B"
   ]
  },
  {
   "cell_type": "code",
   "execution_count": 14,
   "metadata": {},
   "outputs": [
    {
     "name": "stdout",
     "output_type": "stream",
     "text": [
      "  107.770 μs (2 allocations: 125.08 KiB)\n"
     ]
    }
   ],
   "source": [
    "@btime A*b; # Sparse Matrix-vector multiplication"
   ]
  },
  {
   "cell_type": "code",
   "execution_count": 15,
   "metadata": {},
   "outputs": [
    {
     "name": "stdout",
     "output_type": "stream",
     "text": [
      "  105.617 μs (0 allocations: 0 bytes)\n"
     ]
    }
   ],
   "source": [
    "@btime A_mul_B!(1, A, b, 2, bcopy); # Sparse Matrix-vector A_mul_B!"
   ]
  },
  {
   "cell_type": "code",
   "execution_count": 27,
   "metadata": {},
   "outputs": [
    {
     "data": {
      "text/plain": [
       "mybench (generic function with 1 method)"
      ]
     },
     "execution_count": 27,
     "metadata": {},
     "output_type": "execute_result"
    }
   ],
   "source": [
    "function mybench(aaa, xxx, yyy)\n",
    "    @btime A_mul_B!(1.0, $aaa, $xxx, 2.0, $yyy);\n",
    "end"
   ]
  },
  {
   "cell_type": "code",
   "execution_count": 23,
   "metadata": {},
   "outputs": [
    {
     "data": {
      "text/plain": [
       "testme (generic function with 1 method)"
      ]
     },
     "execution_count": 23,
     "metadata": {},
     "output_type": "execute_result"
    }
   ],
   "source": [
    "function testme(afun)\n",
    "    @btime $afun(2) \n",
    "end"
   ]
  },
  {
   "cell_type": "code",
   "execution_count": 22,
   "metadata": {},
   "outputs": [
    {
     "name": "stdout",
     "output_type": "stream",
     "text": [
      "Variables:\n",
      "  #self# <optimized out>\n",
      "  S::Stencil{StaticArrays.SArray{Tuple{2,2},Float64,2,4},3,7,Array{StencilPoint{StaticArrays.SArray{Tuple{2,2},Float64,2,4},3,7},3}}\n",
      "  x::Grid{StaticArrays.SArray{Tuple{2},Float64,1,2},3,7,Array{StaticArrays.SArray{Tuple{2},Float64,1,2},3}}\n",
      "\n",
      "Body:\n",
      "  begin \n",
      "      SSAValue(0) = (Core.getfield)(x::Grid{StaticArrays.SArray{Tuple{2},Float64,1,2},3,7,Array{StaticArrays.SArray{Tuple{2},Float64,1,2},3}}, :A)::Array{StaticArrays.SArray{Tuple{2},Float64,1,2},3}\n",
      "      $(Expr(:inbounds, false))\n",
      "      # meta: location abstractarray.jl zero 751\n",
      "      SSAValue(4) = $(Expr(:invoke, MethodInstance for similar(::Array{StaticArrays.SArray{Tuple{2},Float64,1,2},3}, ::Type{StaticArrays.SArray{Tuple{2},Float64,1,2}}), :(Base.similar), SSAValue(0), StaticArrays.SArray{Tuple{2},Float64,1,2}))\n",
      "      # meta: location /Users/sw2030/.julia/v0.6/StaticArrays/src/linalg.jl zero 142\n",
      "      # meta: location /Users/sw2030/.julia/v0.6/StaticArrays/src/arraymath.jl zeros 3\n",
      "      # meta: location /Users/sw2030/.julia/v0.6/StaticArrays/src/arraymath.jl # line 12:\n",
      "      SSAValue(2) = (Base.sitofp)(Float64, 0)::Float64\n",
      "      # meta: location /Users/sw2030/.julia/v0.6/StaticArrays/src/arraymath.jl _fill 36\n",
      "      # meta: location /Users/sw2030/.julia/v0.6/StaticArrays/src/arraymath.jl # line 39:\n",
      "      SSAValue(3) = $(Expr(:new, StaticArrays.SArray{Tuple{2},Float64,1,2}, :((StaticArrays.tuple)(SSAValue(2), SSAValue(2))::Tuple{Float64,Float64})))\n",
      "      # meta: pop location\n",
      "      # meta: pop location\n",
      "      # meta: pop location\n",
      "      # meta: pop location\n",
      "      # meta: pop location\n",
      "      # meta: pop location\n",
      "      $(Expr(:inbounds, :pop))\n",
      "      SSAValue(5) = $(Expr(:invoke, MethodInstance for fill!(::Array{StaticArrays.SArray{Tuple{2},Float64,1,2},3}, ::StaticArrays.SArray{Tuple{2},Float64,1,2}), :(Base.fill!), SSAValue(4), SSAValue(3)))\n",
      "      SSAValue(6) = $(Expr(:new, Grid{StaticArrays.SArray{Tuple{2},Float64,1,2},3,7,Array{StaticArrays.SArray{Tuple{2},Float64,1,2},3}}, SSAValue(5)))\n",
      "      return $(Expr(:invoke, MethodInstance for A_mul_B!(::Float64, ::Stencil{StaticArrays.SArray{Tuple{2,2},Float64,2,4},3,7,Array{StencilPoint{StaticArrays.SArray{Tuple{2,2},Float64,2,4},3,7},3}}, ::Grid{StaticArrays.SArray{Tuple{2},Float64,1,2},3,7,Array{StaticArrays.SArray{Tuple{2},Float64,1,2},3}}, ::Float64, ::Grid{StaticArrays.SArray{Tuple{2},Float64,1,2},3,7,Array{StaticArrays.SArray{Tuple{2},Float64,1,2},3}}), :(Main.A_mul_B!), 1.0, :(S), :(x), 0.0, SSAValue(6)))\n",
      "  end::Grid{StaticArrays.SArray{Tuple{2},Float64,1,2},3,7,Array{StaticArrays.SArray{Tuple{2},Float64,1,2},3}}\n"
     ]
    }
   ],
   "source": [
    "@code_warntype S*res"
   ]
  },
  {
   "cell_type": "code",
   "execution_count": 23,
   "metadata": {},
   "outputs": [
    {
     "name": "stdout",
     "output_type": "stream",
     "text": [
      "Variables:\n",
      "  #self# <optimized out>\n",
      "  A::SparseMatrixCSC{Float64,Int64}\n",
      "  x::Array{Float64,1}\n",
      "  TS <optimized out>\n",
      "  #temp#::Int64\n",
      "\n",
      "Body:\n",
      "  begin  # line 79:\n",
      "      $(Expr(:inbounds, false))\n",
      "      # meta: location abstractarray.jl size 29\n",
      "      unless (Base.sle_int)(1, 2)::Bool goto 7\n",
      "      #temp#::Int64 = (Core.getfield)(A::SparseMatrixCSC{Float64,Int64}, :m)::Int64\n",
      "      goto 9\n",
      "      7: \n",
      "      #temp#::Int64 = 1\n",
      "      9: \n",
      "      # meta: pop location\n",
      "      $(Expr(:inbounds, :pop))\n",
      "      SSAValue(1) = $(Expr(:foreigncall, :(:jl_alloc_array_1d), Array{Float64,1}, svec(Any, Int64), Array{Float64,1}, 0, :(#temp#), 0))\n",
      "      return $(Expr(:invoke, MethodInstance for A_mul_B!(::Float64, ::SparseMatrixCSC{Float64,Int64}, ::Array{Float64,1}, ::Float64, ::Array{Float64,1}), :(Base.SparseArrays.A_mul_B!), :((Base.sitofp)(Float64, 1)::Float64), :(A), :(x), :((Base.sitofp)(Float64, 0)::Float64), SSAValue(1)))\n",
      "  end::Array{Float64,1}\n"
     ]
    }
   ],
   "source": [
    "@code_warntype A*b"
   ]
  },
  {
   "cell_type": "code",
   "execution_count": null,
   "metadata": {
    "collapsed": true
   },
   "outputs": [],
   "source": []
  },
  {
   "cell_type": "code",
   "execution_count": null,
   "metadata": {
    "collapsed": true
   },
   "outputs": [],
   "source": []
  },
  {
   "cell_type": "code",
   "execution_count": null,
   "metadata": {
    "collapsed": true
   },
   "outputs": [],
   "source": []
  },
  {
   "cell_type": "code",
   "execution_count": null,
   "metadata": {
    "collapsed": true
   },
   "outputs": [],
   "source": []
  },
  {
   "cell_type": "code",
   "execution_count": null,
   "metadata": {
    "collapsed": true
   },
   "outputs": [],
   "source": []
  },
  {
   "cell_type": "code",
   "execution_count": 69,
   "metadata": {},
   "outputs": [
    {
     "name": "stdout",
     "output_type": "stream",
     "text": [
      "  1.524 μs (2 allocations: 480 bytes)\n"
     ]
    }
   ],
   "source": [
    "@btime foo!(testA2, testx2, testy2);"
   ]
  },
  {
   "cell_type": "code",
   "execution_count": 40,
   "metadata": {},
   "outputs": [
    {
     "data": {
      "text/html": [
       "+(a::<b>StaticArrays.StaticArray</b>, b::<b>StaticArrays.StaticArray</b>) at <a href=\"https://github.com/JuliaArrays/StaticArrays.jl/tree/b454bc9131333da153f49182c7829c385fb2a6f5//src/linalg.jl#L10\" target=\"_blank\">/Users/sw2030/.julia/v0.6/StaticArrays/src/linalg.jl:10</a>"
      ],
      "text/plain": [
       "+(a::StaticArrays.StaticArray, b::StaticArrays.StaticArray) in StaticArrays at /Users/sw2030/.julia/v0.6/StaticArrays/src/linalg.jl:10"
      ]
     },
     "execution_count": 40,
     "metadata": {},
     "output_type": "execute_result"
    }
   ],
   "source": [
    "@which +(testx,testy)"
   ]
  },
  {
   "cell_type": "code",
   "execution_count": 61,
   "metadata": {},
   "outputs": [
    {
     "ename": "LoadError",
     "evalue": "\u001b[91mMethodError: no method matching gemm!(::Char, ::Char, ::Float64, ::StaticArrays.SArray{Tuple{2,2},Float64,2,4}, ::StaticArrays.SArray{Tuple{2},Float64,1,2}, ::Float64, ::StaticArrays.SArray{Tuple{2},Float64,1,2})\u001b[0m\nClosest candidates are:\n  gemm!(::Char, ::Char, ::Float64, \u001b[91m::Union{Union{Base.ReshapedArray{Float64,1,A,MI} where MI<:Tuple{Vararg{Base.MultiplicativeInverses.SignedMultiplicativeInverse{Int64},N} where N} where A<:Union{DenseArray, SubArray{T,N,P,I,true} where I<:Tuple{Union{Base.Slice, UnitRange},Vararg{Any,N} where N} where P where N where T}, DenseArray{Float64,1}, SubArray{Float64,1,A,I,L} where L} where I<:Tuple{Vararg{Union{Base.AbstractCartesianIndex, Int64, Range{Int64}},N} where N} where A<:Union{Base.ReshapedArray{T,N,A,MI} where MI<:Tuple{Vararg{Base.MultiplicativeInverses.SignedMultiplicativeInverse{Int64},N} where N} where A<:Union{DenseArray, SubArray{T,N,P,I,true} where I<:Tuple{Union{Base.Slice, UnitRange},Vararg{Any,N} where N} where P where N where T} where N where T, DenseArray}, Union{Base.ReshapedArray{Float64,2,A,MI} where MI<:Tuple{Vararg{Base.MultiplicativeInverses.SignedMultiplicativeInverse{Int64},N} where N} where A<:Union{DenseArray, SubArray{T,N,P,I,true} where I<:Tuple{Union{Base.Slice, UnitRange},Vararg{Any,N} where N} where P where N where T}, DenseArray{Float64,2}, SubArray{Float64,2,A,I,L} where L} where I<:Tuple{Vararg{Union{Base.AbstractCartesianIndex, Int64, Range{Int64}},N} where N} where A<:Union{Base.ReshapedArray{T,N,A,MI} where MI<:Tuple{Vararg{Base.MultiplicativeInverses.SignedMultiplicativeInverse{Int64},N} where N} where A<:Union{DenseArray, SubArray{T,N,P,I,true} where I<:Tuple{Union{Base.Slice, UnitRange},Vararg{Any,N} where N} where P where N where T} where N where T, DenseArray}}\u001b[39m, \u001b[91m::Union{Union{Base.ReshapedArray{Float64,1,A,MI} where MI<:Tuple{Vararg{Base.MultiplicativeInverses.SignedMultiplicativeInverse{Int64},N} where N} where A<:Union{DenseArray, SubArray{T,N,P,I,true} where I<:Tuple{Union{Base.Slice, UnitRange},Vararg{Any,N} where N} where P where N where T}, DenseArray{Float64,1}, SubArray{Float64,1,A,I,L} where L} where I<:Tuple{Vararg{Union{Base.AbstractCartesianIndex, Int64, Range{Int64}},N} where N} where A<:Union{Base.ReshapedArray{T,N,A,MI} where MI<:Tuple{Vararg{Base.MultiplicativeInverses.SignedMultiplicativeInverse{Int64},N} where N} where A<:Union{DenseArray, SubArray{T,N,P,I,true} where I<:Tuple{Union{Base.Slice, UnitRange},Vararg{Any,N} where N} where P where N where T} where N where T, DenseArray}, Union{Base.ReshapedArray{Float64,2,A,MI} where MI<:Tuple{Vararg{Base.MultiplicativeInverses.SignedMultiplicativeInverse{Int64},N} where N} where A<:Union{DenseArray, SubArray{T,N,P,I,true} where I<:Tuple{Union{Base.Slice, UnitRange},Vararg{Any,N} where N} where P where N where T}, DenseArray{Float64,2}, SubArray{Float64,2,A,I,L} where L} where I<:Tuple{Vararg{Union{Base.AbstractCartesianIndex, Int64, Range{Int64}},N} where N} where A<:Union{Base.ReshapedArray{T,N,A,MI} where MI<:Tuple{Vararg{Base.MultiplicativeInverses.SignedMultiplicativeInverse{Int64},N} where N} where A<:Union{DenseArray, SubArray{T,N,P,I,true} where I<:Tuple{Union{Base.Slice, UnitRange},Vararg{Any,N} where N} where P where N where T} where N where T, DenseArray}}\u001b[39m, ::Float64, \u001b[91m::Union{Union{Base.ReshapedArray{Float64,1,A,MI} where MI<:Tuple{Vararg{Base.MultiplicativeInverses.SignedMultiplicativeInverse{Int64},N} where N} where A<:Union{DenseArray, SubArray{T,N,P,I,true} where I<:Tuple{Union{Base.Slice, UnitRange},Vararg{Any,N} where N} where P where N where T}, DenseArray{Float64,1}, SubArray{Float64,1,A,I,L} where L} where I<:Tuple{Vararg{Union{Base.AbstractCartesianIndex, Int64, Range{Int64}},N} where N} where A<:Union{Base.ReshapedArray{T,N,A,MI} where MI<:Tuple{Vararg{Base.MultiplicativeInverses.SignedMultiplicativeInverse{Int64},N} where N} where A<:Union{DenseArray, SubArray{T,N,P,I,true} where I<:Tuple{Union{Base.Slice, UnitRange},Vararg{Any,N} where N} where P where N where T} where N where T, DenseArray}, Union{Base.ReshapedArray{Float64,2,A,MI} where MI<:Tuple{Vararg{Base.MultiplicativeInverses.SignedMultiplicativeInverse{Int64},N} where N} where A<:Union{DenseArray, SubArray{T,N,P,I,true} where I<:Tuple{Union{Base.Slice, UnitRange},Vararg{Any,N} where N} where P where N where T}, DenseArray{Float64,2}, SubArray{Float64,2,A,I,L} where L} where I<:Tuple{Vararg{Union{Base.AbstractCartesianIndex, Int64, Range{Int64}},N} where N} where A<:Union{Base.ReshapedArray{T,N,A,MI} where MI<:Tuple{Vararg{Base.MultiplicativeInverses.SignedMultiplicativeInverse{Int64},N} where N} where A<:Union{DenseArray, SubArray{T,N,P,I,true} where I<:Tuple{Union{Base.Slice, UnitRange},Vararg{Any,N} where N} where P where N where T} where N where T, DenseArray}}\u001b[39m) at linalg/blas.jl:1020\n  gemm!(::Char, ::Char, \u001b[91m::Float32\u001b[39m, \u001b[91m::Union{Union{Base.ReshapedArray{Float32,1,A,MI} where MI<:Tuple{Vararg{Base.MultiplicativeInverses.SignedMultiplicativeInverse{Int64},N} where N} where A<:Union{DenseArray, SubArray{T,N,P,I,true} where I<:Tuple{Union{Base.Slice, UnitRange},Vararg{Any,N} where N} where P where N where T}, DenseArray{Float32,1}, SubArray{Float32,1,A,I,L} where L} where I<:Tuple{Vararg{Union{Base.AbstractCartesianIndex, Int64, Range{Int64}},N} where N} where A<:Union{Base.ReshapedArray{T,N,A,MI} where MI<:Tuple{Vararg{Base.MultiplicativeInverses.SignedMultiplicativeInverse{Int64},N} where N} where A<:Union{DenseArray, SubArray{T,N,P,I,true} where I<:Tuple{Union{Base.Slice, UnitRange},Vararg{Any,N} where N} where P where N where T} where N where T, DenseArray}, Union{Base.ReshapedArray{Float32,2,A,MI} where MI<:Tuple{Vararg{Base.MultiplicativeInverses.SignedMultiplicativeInverse{Int64},N} where N} where A<:Union{DenseArray, SubArray{T,N,P,I,true} where I<:Tuple{Union{Base.Slice, UnitRange},Vararg{Any,N} where N} where P where N where T}, DenseArray{Float32,2}, SubArray{Float32,2,A,I,L} where L} where I<:Tuple{Vararg{Union{Base.AbstractCartesianIndex, Int64, Range{Int64}},N} where N} where A<:Union{Base.ReshapedArray{T,N,A,MI} where MI<:Tuple{Vararg{Base.MultiplicativeInverses.SignedMultiplicativeInverse{Int64},N} where N} where A<:Union{DenseArray, SubArray{T,N,P,I,true} where I<:Tuple{Union{Base.Slice, UnitRange},Vararg{Any,N} where N} where P where N where T} where N where T, DenseArray}}\u001b[39m, \u001b[91m::Union{Union{Base.ReshapedArray{Float32,1,A,MI} where MI<:Tuple{Vararg{Base.MultiplicativeInverses.SignedMultiplicativeInverse{Int64},N} where N} where A<:Union{DenseArray, SubArray{T,N,P,I,true} where I<:Tuple{Union{Base.Slice, UnitRange},Vararg{Any,N} where N} where P where N where T}, DenseArray{Float32,1}, SubArray{Float32,1,A,I,L} where L} where I<:Tuple{Vararg{Union{Base.AbstractCartesianIndex, Int64, Range{Int64}},N} where N} where A<:Union{Base.ReshapedArray{T,N,A,MI} where MI<:Tuple{Vararg{Base.MultiplicativeInverses.SignedMultiplicativeInverse{Int64},N} where N} where A<:Union{DenseArray, SubArray{T,N,P,I,true} where I<:Tuple{Union{Base.Slice, UnitRange},Vararg{Any,N} where N} where P where N where T} where N where T, DenseArray}, Union{Base.ReshapedArray{Float32,2,A,MI} where MI<:Tuple{Vararg{Base.MultiplicativeInverses.SignedMultiplicativeInverse{Int64},N} where N} where A<:Union{DenseArray, SubArray{T,N,P,I,true} where I<:Tuple{Union{Base.Slice, UnitRange},Vararg{Any,N} where N} where P where N where T}, DenseArray{Float32,2}, SubArray{Float32,2,A,I,L} where L} where I<:Tuple{Vararg{Union{Base.AbstractCartesianIndex, Int64, Range{Int64}},N} where N} where A<:Union{Base.ReshapedArray{T,N,A,MI} where MI<:Tuple{Vararg{Base.MultiplicativeInverses.SignedMultiplicativeInverse{Int64},N} where N} where A<:Union{DenseArray, SubArray{T,N,P,I,true} where I<:Tuple{Union{Base.Slice, UnitRange},Vararg{Any,N} where N} where P where N where T} where N where T, DenseArray}}\u001b[39m, \u001b[91m::Float32\u001b[39m, \u001b[91m::Union{Union{Base.ReshapedArray{Float32,1,A,MI} where MI<:Tuple{Vararg{Base.MultiplicativeInverses.SignedMultiplicativeInverse{Int64},N} where N} where A<:Union{DenseArray, SubArray{T,N,P,I,true} where I<:Tuple{Union{Base.Slice, UnitRange},Vararg{Any,N} where N} where P where N where T}, DenseArray{Float32,1}, SubArray{Float32,1,A,I,L} where L} where I<:Tuple{Vararg{Union{Base.AbstractCartesianIndex, Int64, Range{Int64}},N} where N} where A<:Union{Base.ReshapedArray{T,N,A,MI} where MI<:Tuple{Vararg{Base.MultiplicativeInverses.SignedMultiplicativeInverse{Int64},N} where N} where A<:Union{DenseArray, SubArray{T,N,P,I,true} where I<:Tuple{Union{Base.Slice, UnitRange},Vararg{Any,N} where N} where P where N where T} where N where T, DenseArray}, Union{Base.ReshapedArray{Float32,2,A,MI} where MI<:Tuple{Vararg{Base.MultiplicativeInverses.SignedMultiplicativeInverse{Int64},N} where N} where A<:Union{DenseArray, SubArray{T,N,P,I,true} where I<:Tuple{Union{Base.Slice, UnitRange},Vararg{Any,N} where N} where P where N where T}, DenseArray{Float32,2}, SubArray{Float32,2,A,I,L} where L} where I<:Tuple{Vararg{Union{Base.AbstractCartesianIndex, Int64, Range{Int64}},N} where N} where A<:Union{Base.ReshapedArray{T,N,A,MI} where MI<:Tuple{Vararg{Base.MultiplicativeInverses.SignedMultiplicativeInverse{Int64},N} where N} where A<:Union{DenseArray, SubArray{T,N,P,I,true} where I<:Tuple{Union{Base.Slice, UnitRange},Vararg{Any,N} where N} where P where N where T} where N where T, DenseArray}}\u001b[39m) at linalg/blas.jl:1020\n  gemm!(::Char, ::Char, \u001b[91m::Complex{Float64}\u001b[39m, \u001b[91m::Union{Union{Base.ReshapedArray{Complex{Float64},1,A,MI} where MI<:Tuple{Vararg{Base.MultiplicativeInverses.SignedMultiplicativeInverse{Int64},N} where N} where A<:Union{DenseArray, SubArray{T,N,P,I,true} where I<:Tuple{Union{Base.Slice, UnitRange},Vararg{Any,N} where N} where P where N where T}, DenseArray{Complex{Float64},1}, SubArray{Complex{Float64},1,A,I,L} where L} where I<:Tuple{Vararg{Union{Base.AbstractCartesianIndex, Int64, Range{Int64}},N} where N} where A<:Union{Base.ReshapedArray{T,N,A,MI} where MI<:Tuple{Vararg{Base.MultiplicativeInverses.SignedMultiplicativeInverse{Int64},N} where N} where A<:Union{DenseArray, SubArray{T,N,P,I,true} where I<:Tuple{Union{Base.Slice, UnitRange},Vararg{Any,N} where N} where P where N where T} where N where T, DenseArray}, Union{Base.ReshapedArray{Complex{Float64},2,A,MI} where MI<:Tuple{Vararg{Base.MultiplicativeInverses.SignedMultiplicativeInverse{Int64},N} where N} where A<:Union{DenseArray, SubArray{T,N,P,I,true} where I<:Tuple{Union{Base.Slice, UnitRange},Vararg{Any,N} where N} where P where N where T}, DenseArray{Complex{Float64},2}, SubArray{Complex{Float64},2,A,I,L} where L} where I<:Tuple{Vararg{Union{Base.AbstractCartesianIndex, Int64, Range{Int64}},N} where N} where A<:Union{Base.ReshapedArray{T,N,A,MI} where MI<:Tuple{Vararg{Base.MultiplicativeInverses.SignedMultiplicativeInverse{Int64},N} where N} where A<:Union{DenseArray, SubArray{T,N,P,I,true} where I<:Tuple{Union{Base.Slice, UnitRange},Vararg{Any,N} where N} where P where N where T} where N where T, DenseArray}}\u001b[39m, \u001b[91m::Union{Union{Base.ReshapedArray{Complex{Float64},1,A,MI} where MI<:Tuple{Vararg{Base.MultiplicativeInverses.SignedMultiplicativeInverse{Int64},N} where N} where A<:Union{DenseArray, SubArray{T,N,P,I,true} where I<:Tuple{Union{Base.Slice, UnitRange},Vararg{Any,N} where N} where P where N where T}, DenseArray{Complex{Float64},1}, SubArray{Complex{Float64},1,A,I,L} where L} where I<:Tuple{Vararg{Union{Base.AbstractCartesianIndex, Int64, Range{Int64}},N} where N} where A<:Union{Base.ReshapedArray{T,N,A,MI} where MI<:Tuple{Vararg{Base.MultiplicativeInverses.SignedMultiplicativeInverse{Int64},N} where N} where A<:Union{DenseArray, SubArray{T,N,P,I,true} where I<:Tuple{Union{Base.Slice, UnitRange},Vararg{Any,N} where N} where P where N where T} where N where T, DenseArray}, Union{Base.ReshapedArray{Complex{Float64},2,A,MI} where MI<:Tuple{Vararg{Base.MultiplicativeInverses.SignedMultiplicativeInverse{Int64},N} where N} where A<:Union{DenseArray, SubArray{T,N,P,I,true} where I<:Tuple{Union{Base.Slice, UnitRange},Vararg{Any,N} where N} where P where N where T}, DenseArray{Complex{Float64},2}, SubArray{Complex{Float64},2,A,I,L} where L} where I<:Tuple{Vararg{Union{Base.AbstractCartesianIndex, Int64, Range{Int64}},N} where N} where A<:Union{Base.ReshapedArray{T,N,A,MI} where MI<:Tuple{Vararg{Base.MultiplicativeInverses.SignedMultiplicativeInverse{Int64},N} where N} where A<:Union{DenseArray, SubArray{T,N,P,I,true} where I<:Tuple{Union{Base.Slice, UnitRange},Vararg{Any,N} where N} where P where N where T} where N where T, DenseArray}}\u001b[39m, \u001b[91m::Complex{Float64}\u001b[39m, \u001b[91m::Union{Union{Base.ReshapedArray{Complex{Float64},1,A,MI} where MI<:Tuple{Vararg{Base.MultiplicativeInverses.SignedMultiplicativeInverse{Int64},N} where N} where A<:Union{DenseArray, SubArray{T,N,P,I,true} where I<:Tuple{Union{Base.Slice, UnitRange},Vararg{Any,N} where N} where P where N where T}, DenseArray{Complex{Float64},1}, SubArray{Complex{Float64},1,A,I,L} where L} where I<:Tuple{Vararg{Union{Base.AbstractCartesianIndex, Int64, Range{Int64}},N} where N} where A<:Union{Base.ReshapedArray{T,N,A,MI} where MI<:Tuple{Vararg{Base.MultiplicativeInverses.SignedMultiplicativeInverse{Int64},N} where N} where A<:Union{DenseArray, SubArray{T,N,P,I,true} where I<:Tuple{Union{Base.Slice, UnitRange},Vararg{Any,N} where N} where P where N where T} where N where T, DenseArray}, Union{Base.ReshapedArray{Complex{Float64},2,A,MI} where MI<:Tuple{Vararg{Base.MultiplicativeInverses.SignedMultiplicativeInverse{Int64},N} where N} where A<:Union{DenseArray, SubArray{T,N,P,I,true} where I<:Tuple{Union{Base.Slice, UnitRange},Vararg{Any,N} where N} where P where N where T}, DenseArray{Complex{Float64},2}, SubArray{Complex{Float64},2,A,I,L} where L} where I<:Tuple{Vararg{Union{Base.AbstractCartesianIndex, Int64, Range{Int64}},N} where N} where A<:Union{Base.ReshapedArray{T,N,A,MI} where MI<:Tuple{Vararg{Base.MultiplicativeInverses.SignedMultiplicativeInverse{Int64},N} where N} where A<:Union{DenseArray, SubArray{T,N,P,I,true} where I<:Tuple{Union{Base.Slice, UnitRange},Vararg{Any,N} where N} where P where N where T} where N where T, DenseArray}}\u001b[39m) at linalg/blas.jl:1020\n  ...\u001b[39m",
     "output_type": "error",
     "traceback": [
      "\u001b[91mMethodError: no method matching gemm!(::Char, ::Char, ::Float64, ::StaticArrays.SArray{Tuple{2,2},Float64,2,4}, ::StaticArrays.SArray{Tuple{2},Float64,1,2}, ::Float64, ::StaticArrays.SArray{Tuple{2},Float64,1,2})\u001b[0m\nClosest candidates are:\n  gemm!(::Char, ::Char, ::Float64, \u001b[91m::Union{Union{Base.ReshapedArray{Float64,1,A,MI} where MI<:Tuple{Vararg{Base.MultiplicativeInverses.SignedMultiplicativeInverse{Int64},N} where N} where A<:Union{DenseArray, SubArray{T,N,P,I,true} where I<:Tuple{Union{Base.Slice, UnitRange},Vararg{Any,N} where N} where P where N where T}, DenseArray{Float64,1}, SubArray{Float64,1,A,I,L} where L} where I<:Tuple{Vararg{Union{Base.AbstractCartesianIndex, Int64, Range{Int64}},N} where N} where A<:Union{Base.ReshapedArray{T,N,A,MI} where MI<:Tuple{Vararg{Base.MultiplicativeInverses.SignedMultiplicativeInverse{Int64},N} where N} where A<:Union{DenseArray, SubArray{T,N,P,I,true} where I<:Tuple{Union{Base.Slice, UnitRange},Vararg{Any,N} where N} where P where N where T} where N where T, DenseArray}, Union{Base.ReshapedArray{Float64,2,A,MI} where MI<:Tuple{Vararg{Base.MultiplicativeInverses.SignedMultiplicativeInverse{Int64},N} where N} where A<:Union{DenseArray, SubArray{T,N,P,I,true} where I<:Tuple{Union{Base.Slice, UnitRange},Vararg{Any,N} where N} where P where N where T}, DenseArray{Float64,2}, SubArray{Float64,2,A,I,L} where L} where I<:Tuple{Vararg{Union{Base.AbstractCartesianIndex, Int64, Range{Int64}},N} where N} where A<:Union{Base.ReshapedArray{T,N,A,MI} where MI<:Tuple{Vararg{Base.MultiplicativeInverses.SignedMultiplicativeInverse{Int64},N} where N} where A<:Union{DenseArray, SubArray{T,N,P,I,true} where I<:Tuple{Union{Base.Slice, UnitRange},Vararg{Any,N} where N} where P where N where T} where N where T, DenseArray}}\u001b[39m, \u001b[91m::Union{Union{Base.ReshapedArray{Float64,1,A,MI} where MI<:Tuple{Vararg{Base.MultiplicativeInverses.SignedMultiplicativeInverse{Int64},N} where N} where A<:Union{DenseArray, SubArray{T,N,P,I,true} where I<:Tuple{Union{Base.Slice, UnitRange},Vararg{Any,N} where N} where P where N where T}, DenseArray{Float64,1}, SubArray{Float64,1,A,I,L} where L} where I<:Tuple{Vararg{Union{Base.AbstractCartesianIndex, Int64, Range{Int64}},N} where N} where A<:Union{Base.ReshapedArray{T,N,A,MI} where MI<:Tuple{Vararg{Base.MultiplicativeInverses.SignedMultiplicativeInverse{Int64},N} where N} where A<:Union{DenseArray, SubArray{T,N,P,I,true} where I<:Tuple{Union{Base.Slice, UnitRange},Vararg{Any,N} where N} where P where N where T} where N where T, DenseArray}, Union{Base.ReshapedArray{Float64,2,A,MI} where MI<:Tuple{Vararg{Base.MultiplicativeInverses.SignedMultiplicativeInverse{Int64},N} where N} where A<:Union{DenseArray, SubArray{T,N,P,I,true} where I<:Tuple{Union{Base.Slice, UnitRange},Vararg{Any,N} where N} where P where N where T}, DenseArray{Float64,2}, SubArray{Float64,2,A,I,L} where L} where I<:Tuple{Vararg{Union{Base.AbstractCartesianIndex, Int64, Range{Int64}},N} where N} where A<:Union{Base.ReshapedArray{T,N,A,MI} where MI<:Tuple{Vararg{Base.MultiplicativeInverses.SignedMultiplicativeInverse{Int64},N} where N} where A<:Union{DenseArray, SubArray{T,N,P,I,true} where I<:Tuple{Union{Base.Slice, UnitRange},Vararg{Any,N} where N} where P where N where T} where N where T, DenseArray}}\u001b[39m, ::Float64, \u001b[91m::Union{Union{Base.ReshapedArray{Float64,1,A,MI} where MI<:Tuple{Vararg{Base.MultiplicativeInverses.SignedMultiplicativeInverse{Int64},N} where N} where A<:Union{DenseArray, SubArray{T,N,P,I,true} where I<:Tuple{Union{Base.Slice, UnitRange},Vararg{Any,N} where N} where P where N where T}, DenseArray{Float64,1}, SubArray{Float64,1,A,I,L} where L} where I<:Tuple{Vararg{Union{Base.AbstractCartesianIndex, Int64, Range{Int64}},N} where N} where A<:Union{Base.ReshapedArray{T,N,A,MI} where MI<:Tuple{Vararg{Base.MultiplicativeInverses.SignedMultiplicativeInverse{Int64},N} where N} where A<:Union{DenseArray, SubArray{T,N,P,I,true} where I<:Tuple{Union{Base.Slice, UnitRange},Vararg{Any,N} where N} where P where N where T} where N where T, DenseArray}, Union{Base.ReshapedArray{Float64,2,A,MI} where MI<:Tuple{Vararg{Base.MultiplicativeInverses.SignedMultiplicativeInverse{Int64},N} where N} where A<:Union{DenseArray, SubArray{T,N,P,I,true} where I<:Tuple{Union{Base.Slice, UnitRange},Vararg{Any,N} where N} where P where N where T}, DenseArray{Float64,2}, SubArray{Float64,2,A,I,L} where L} where I<:Tuple{Vararg{Union{Base.AbstractCartesianIndex, Int64, Range{Int64}},N} where N} where A<:Union{Base.ReshapedArray{T,N,A,MI} where MI<:Tuple{Vararg{Base.MultiplicativeInverses.SignedMultiplicativeInverse{Int64},N} where N} where A<:Union{DenseArray, SubArray{T,N,P,I,true} where I<:Tuple{Union{Base.Slice, UnitRange},Vararg{Any,N} where N} where P where N where T} where N where T, DenseArray}}\u001b[39m) at linalg/blas.jl:1020\n  gemm!(::Char, ::Char, \u001b[91m::Float32\u001b[39m, \u001b[91m::Union{Union{Base.ReshapedArray{Float32,1,A,MI} where MI<:Tuple{Vararg{Base.MultiplicativeInverses.SignedMultiplicativeInverse{Int64},N} where N} where A<:Union{DenseArray, SubArray{T,N,P,I,true} where I<:Tuple{Union{Base.Slice, UnitRange},Vararg{Any,N} where N} where P where N where T}, DenseArray{Float32,1}, SubArray{Float32,1,A,I,L} where L} where I<:Tuple{Vararg{Union{Base.AbstractCartesianIndex, Int64, Range{Int64}},N} where N} where A<:Union{Base.ReshapedArray{T,N,A,MI} where MI<:Tuple{Vararg{Base.MultiplicativeInverses.SignedMultiplicativeInverse{Int64},N} where N} where A<:Union{DenseArray, SubArray{T,N,P,I,true} where I<:Tuple{Union{Base.Slice, UnitRange},Vararg{Any,N} where N} where P where N where T} where N where T, DenseArray}, Union{Base.ReshapedArray{Float32,2,A,MI} where MI<:Tuple{Vararg{Base.MultiplicativeInverses.SignedMultiplicativeInverse{Int64},N} where N} where A<:Union{DenseArray, SubArray{T,N,P,I,true} where I<:Tuple{Union{Base.Slice, UnitRange},Vararg{Any,N} where N} where P where N where T}, DenseArray{Float32,2}, SubArray{Float32,2,A,I,L} where L} where I<:Tuple{Vararg{Union{Base.AbstractCartesianIndex, Int64, Range{Int64}},N} where N} where A<:Union{Base.ReshapedArray{T,N,A,MI} where MI<:Tuple{Vararg{Base.MultiplicativeInverses.SignedMultiplicativeInverse{Int64},N} where N} where A<:Union{DenseArray, SubArray{T,N,P,I,true} where I<:Tuple{Union{Base.Slice, UnitRange},Vararg{Any,N} where N} where P where N where T} where N where T, DenseArray}}\u001b[39m, \u001b[91m::Union{Union{Base.ReshapedArray{Float32,1,A,MI} where MI<:Tuple{Vararg{Base.MultiplicativeInverses.SignedMultiplicativeInverse{Int64},N} where N} where A<:Union{DenseArray, SubArray{T,N,P,I,true} where I<:Tuple{Union{Base.Slice, UnitRange},Vararg{Any,N} where N} where P where N where T}, DenseArray{Float32,1}, SubArray{Float32,1,A,I,L} where L} where I<:Tuple{Vararg{Union{Base.AbstractCartesianIndex, Int64, Range{Int64}},N} where N} where A<:Union{Base.ReshapedArray{T,N,A,MI} where MI<:Tuple{Vararg{Base.MultiplicativeInverses.SignedMultiplicativeInverse{Int64},N} where N} where A<:Union{DenseArray, SubArray{T,N,P,I,true} where I<:Tuple{Union{Base.Slice, UnitRange},Vararg{Any,N} where N} where P where N where T} where N where T, DenseArray}, Union{Base.ReshapedArray{Float32,2,A,MI} where MI<:Tuple{Vararg{Base.MultiplicativeInverses.SignedMultiplicativeInverse{Int64},N} where N} where A<:Union{DenseArray, SubArray{T,N,P,I,true} where I<:Tuple{Union{Base.Slice, UnitRange},Vararg{Any,N} where N} where P where N where T}, DenseArray{Float32,2}, SubArray{Float32,2,A,I,L} where L} where I<:Tuple{Vararg{Union{Base.AbstractCartesianIndex, Int64, Range{Int64}},N} where N} where A<:Union{Base.ReshapedArray{T,N,A,MI} where MI<:Tuple{Vararg{Base.MultiplicativeInverses.SignedMultiplicativeInverse{Int64},N} where N} where A<:Union{DenseArray, SubArray{T,N,P,I,true} where I<:Tuple{Union{Base.Slice, UnitRange},Vararg{Any,N} where N} where P where N where T} where N where T, DenseArray}}\u001b[39m, \u001b[91m::Float32\u001b[39m, \u001b[91m::Union{Union{Base.ReshapedArray{Float32,1,A,MI} where MI<:Tuple{Vararg{Base.MultiplicativeInverses.SignedMultiplicativeInverse{Int64},N} where N} where A<:Union{DenseArray, SubArray{T,N,P,I,true} where I<:Tuple{Union{Base.Slice, UnitRange},Vararg{Any,N} where N} where P where N where T}, DenseArray{Float32,1}, SubArray{Float32,1,A,I,L} where L} where I<:Tuple{Vararg{Union{Base.AbstractCartesianIndex, Int64, Range{Int64}},N} where N} where A<:Union{Base.ReshapedArray{T,N,A,MI} where MI<:Tuple{Vararg{Base.MultiplicativeInverses.SignedMultiplicativeInverse{Int64},N} where N} where A<:Union{DenseArray, SubArray{T,N,P,I,true} where I<:Tuple{Union{Base.Slice, UnitRange},Vararg{Any,N} where N} where P where N where T} where N where T, DenseArray}, Union{Base.ReshapedArray{Float32,2,A,MI} where MI<:Tuple{Vararg{Base.MultiplicativeInverses.SignedMultiplicativeInverse{Int64},N} where N} where A<:Union{DenseArray, SubArray{T,N,P,I,true} where I<:Tuple{Union{Base.Slice, UnitRange},Vararg{Any,N} where N} where P where N where T}, DenseArray{Float32,2}, SubArray{Float32,2,A,I,L} where L} where I<:Tuple{Vararg{Union{Base.AbstractCartesianIndex, Int64, Range{Int64}},N} where N} where A<:Union{Base.ReshapedArray{T,N,A,MI} where MI<:Tuple{Vararg{Base.MultiplicativeInverses.SignedMultiplicativeInverse{Int64},N} where N} where A<:Union{DenseArray, SubArray{T,N,P,I,true} where I<:Tuple{Union{Base.Slice, UnitRange},Vararg{Any,N} where N} where P where N where T} where N where T, DenseArray}}\u001b[39m) at linalg/blas.jl:1020\n  gemm!(::Char, ::Char, \u001b[91m::Complex{Float64}\u001b[39m, \u001b[91m::Union{Union{Base.ReshapedArray{Complex{Float64},1,A,MI} where MI<:Tuple{Vararg{Base.MultiplicativeInverses.SignedMultiplicativeInverse{Int64},N} where N} where A<:Union{DenseArray, SubArray{T,N,P,I,true} where I<:Tuple{Union{Base.Slice, UnitRange},Vararg{Any,N} where N} where P where N where T}, DenseArray{Complex{Float64},1}, SubArray{Complex{Float64},1,A,I,L} where L} where I<:Tuple{Vararg{Union{Base.AbstractCartesianIndex, Int64, Range{Int64}},N} where N} where A<:Union{Base.ReshapedArray{T,N,A,MI} where MI<:Tuple{Vararg{Base.MultiplicativeInverses.SignedMultiplicativeInverse{Int64},N} where N} where A<:Union{DenseArray, SubArray{T,N,P,I,true} where I<:Tuple{Union{Base.Slice, UnitRange},Vararg{Any,N} where N} where P where N where T} where N where T, DenseArray}, Union{Base.ReshapedArray{Complex{Float64},2,A,MI} where MI<:Tuple{Vararg{Base.MultiplicativeInverses.SignedMultiplicativeInverse{Int64},N} where N} where A<:Union{DenseArray, SubArray{T,N,P,I,true} where I<:Tuple{Union{Base.Slice, UnitRange},Vararg{Any,N} where N} where P where N where T}, DenseArray{Complex{Float64},2}, SubArray{Complex{Float64},2,A,I,L} where L} where I<:Tuple{Vararg{Union{Base.AbstractCartesianIndex, Int64, Range{Int64}},N} where N} where A<:Union{Base.ReshapedArray{T,N,A,MI} where MI<:Tuple{Vararg{Base.MultiplicativeInverses.SignedMultiplicativeInverse{Int64},N} where N} where A<:Union{DenseArray, SubArray{T,N,P,I,true} where I<:Tuple{Union{Base.Slice, UnitRange},Vararg{Any,N} where N} where P where N where T} where N where T, DenseArray}}\u001b[39m, \u001b[91m::Union{Union{Base.ReshapedArray{Complex{Float64},1,A,MI} where MI<:Tuple{Vararg{Base.MultiplicativeInverses.SignedMultiplicativeInverse{Int64},N} where N} where A<:Union{DenseArray, SubArray{T,N,P,I,true} where I<:Tuple{Union{Base.Slice, UnitRange},Vararg{Any,N} where N} where P where N where T}, DenseArray{Complex{Float64},1}, SubArray{Complex{Float64},1,A,I,L} where L} where I<:Tuple{Vararg{Union{Base.AbstractCartesianIndex, Int64, Range{Int64}},N} where N} where A<:Union{Base.ReshapedArray{T,N,A,MI} where MI<:Tuple{Vararg{Base.MultiplicativeInverses.SignedMultiplicativeInverse{Int64},N} where N} where A<:Union{DenseArray, SubArray{T,N,P,I,true} where I<:Tuple{Union{Base.Slice, UnitRange},Vararg{Any,N} where N} where P where N where T} where N where T, DenseArray}, Union{Base.ReshapedArray{Complex{Float64},2,A,MI} where MI<:Tuple{Vararg{Base.MultiplicativeInverses.SignedMultiplicativeInverse{Int64},N} where N} where A<:Union{DenseArray, SubArray{T,N,P,I,true} where I<:Tuple{Union{Base.Slice, UnitRange},Vararg{Any,N} where N} where P where N where T}, DenseArray{Complex{Float64},2}, SubArray{Complex{Float64},2,A,I,L} where L} where I<:Tuple{Vararg{Union{Base.AbstractCartesianIndex, Int64, Range{Int64}},N} where N} where A<:Union{Base.ReshapedArray{T,N,A,MI} where MI<:Tuple{Vararg{Base.MultiplicativeInverses.SignedMultiplicativeInverse{Int64},N} where N} where A<:Union{DenseArray, SubArray{T,N,P,I,true} where I<:Tuple{Union{Base.Slice, UnitRange},Vararg{Any,N} where N} where P where N where T} where N where T, DenseArray}}\u001b[39m, \u001b[91m::Complex{Float64}\u001b[39m, \u001b[91m::Union{Union{Base.ReshapedArray{Complex{Float64},1,A,MI} where MI<:Tuple{Vararg{Base.MultiplicativeInverses.SignedMultiplicativeInverse{Int64},N} where N} where A<:Union{DenseArray, SubArray{T,N,P,I,true} where I<:Tuple{Union{Base.Slice, UnitRange},Vararg{Any,N} where N} where P where N where T}, DenseArray{Complex{Float64},1}, SubArray{Complex{Float64},1,A,I,L} where L} where I<:Tuple{Vararg{Union{Base.AbstractCartesianIndex, Int64, Range{Int64}},N} where N} where A<:Union{Base.ReshapedArray{T,N,A,MI} where MI<:Tuple{Vararg{Base.MultiplicativeInverses.SignedMultiplicativeInverse{Int64},N} where N} where A<:Union{DenseArray, SubArray{T,N,P,I,true} where I<:Tuple{Union{Base.Slice, UnitRange},Vararg{Any,N} where N} where P where N where T} where N where T, DenseArray}, Union{Base.ReshapedArray{Complex{Float64},2,A,MI} where MI<:Tuple{Vararg{Base.MultiplicativeInverses.SignedMultiplicativeInverse{Int64},N} where N} where A<:Union{DenseArray, SubArray{T,N,P,I,true} where I<:Tuple{Union{Base.Slice, UnitRange},Vararg{Any,N} where N} where P where N where T}, DenseArray{Complex{Float64},2}, SubArray{Complex{Float64},2,A,I,L} where L} where I<:Tuple{Vararg{Union{Base.AbstractCartesianIndex, Int64, Range{Int64}},N} where N} where A<:Union{Base.ReshapedArray{T,N,A,MI} where MI<:Tuple{Vararg{Base.MultiplicativeInverses.SignedMultiplicativeInverse{Int64},N} where N} where A<:Union{DenseArray, SubArray{T,N,P,I,true} where I<:Tuple{Union{Base.Slice, UnitRange},Vararg{Any,N} where N} where P where N where T} where N where T, DenseArray}}\u001b[39m) at linalg/blas.jl:1020\n  ...\u001b[39m",
      "",
      "Stacktrace:",
      " [1] \u001b[1minclude_string\u001b[22m\u001b[22m\u001b[1m(\u001b[22m\u001b[22m::String, ::String\u001b[1m)\u001b[22m\u001b[22m at \u001b[1m./loading.jl:522\u001b[22m\u001b[22m"
     ]
    }
   ],
   "source": [
    "BLAS.gemm!('N','N', 1.0, testA, testx, 1.0, testy)"
   ]
  },
  {
   "cell_type": "code",
   "execution_count": 62,
   "metadata": {},
   "outputs": [
    {
     "ename": "LoadError",
     "evalue": "\u001b[91mMethodError: no method matching A_mul_B!(::Float64, ::StaticArrays.SArray{Tuple{2,2},Float64,2,4}, ::StaticArrays.SArray{Tuple{2},Float64,1,2}, ::Float64, ::StaticArrays.SArray{Tuple{2},Float64,1,2})\u001b[0m\nClosest candidates are:\n  A_mul_B!(::Number, \u001b[91m::DistributedArrays.DArray{T,2,A} where A where T\u001b[39m, ::AbstractArray{T,1} where T, ::Number, \u001b[91m::DistributedArrays.DArray{T,1,A} where A where T\u001b[39m) at /Users/sw2030/.julia/v0.6/DistributedArrays/src/linalg.jl:89\n  A_mul_B!(\u001b[91m::Union{StaticArrays.StaticArray{Tuple{#s52,#s51},T,2} where #s51 where #s52, StaticArrays.StaticArray{Tuple{#s53},T,1} where #s53} where T\u001b[39m, ::StaticArrays.StaticArray{Tuple{N,M},T,2} where T where M where N, ::StaticArrays.StaticArray{Tuple{N},T,1} where T where N) at /Users/sw2030/.julia/v0.6/StaticArrays/src/matrix_multiply.jl:45\n  A_mul_B!(\u001b[91m::AbstractArray{T,1} where T\u001b[39m, ::Union{AbstractArray{T,1}, AbstractArray{T,2}} where T, ::AbstractArray{T,1} where T) at linalg/matmul.jl:100\n  ...\u001b[39m",
     "output_type": "error",
     "traceback": [
      "\u001b[91mMethodError: no method matching A_mul_B!(::Float64, ::StaticArrays.SArray{Tuple{2,2},Float64,2,4}, ::StaticArrays.SArray{Tuple{2},Float64,1,2}, ::Float64, ::StaticArrays.SArray{Tuple{2},Float64,1,2})\u001b[0m\nClosest candidates are:\n  A_mul_B!(::Number, \u001b[91m::DistributedArrays.DArray{T,2,A} where A where T\u001b[39m, ::AbstractArray{T,1} where T, ::Number, \u001b[91m::DistributedArrays.DArray{T,1,A} where A where T\u001b[39m) at /Users/sw2030/.julia/v0.6/DistributedArrays/src/linalg.jl:89\n  A_mul_B!(\u001b[91m::Union{StaticArrays.StaticArray{Tuple{#s52,#s51},T,2} where #s51 where #s52, StaticArrays.StaticArray{Tuple{#s53},T,1} where #s53} where T\u001b[39m, ::StaticArrays.StaticArray{Tuple{N,M},T,2} where T where M where N, ::StaticArrays.StaticArray{Tuple{N},T,1} where T where N) at /Users/sw2030/.julia/v0.6/StaticArrays/src/matrix_multiply.jl:45\n  A_mul_B!(\u001b[91m::AbstractArray{T,1} where T\u001b[39m, ::Union{AbstractArray{T,1}, AbstractArray{T,2}} where T, ::AbstractArray{T,1} where T) at linalg/matmul.jl:100\n  ...\u001b[39m",
      "",
      "Stacktrace:",
      " [1] \u001b[1minclude_string\u001b[22m\u001b[22m\u001b[1m(\u001b[22m\u001b[22m::String, ::String\u001b[1m)\u001b[22m\u001b[22m at \u001b[1m./loading.jl:522\u001b[22m\u001b[22m"
     ]
    }
   ],
   "source": [
    "A_mul_B!(1.0, testA, testx, 1.0, testy)"
   ]
  },
  {
   "cell_type": "code",
   "execution_count": 24,
   "metadata": {},
   "outputs": [
    {
     "data": {
      "text/plain": [
       "foo1! (generic function with 1 method)"
      ]
     },
     "execution_count": 24,
     "metadata": {},
     "output_type": "execute_result"
    }
   ],
   "source": [
    "function foo1!(a, x, y, n, s)\n",
    "    for i in 1:n\n",
    "        y[i*s] = a*x[i*s]+y[i*s]\n",
    "    end\n",
    "end"
   ]
  },
  {
   "cell_type": "code",
   "execution_count": 26,
   "metadata": {
    "collapsed": true
   },
   "outputs": [],
   "source": [
    "xx = randn(20000)\n",
    "yy = randn(20000)\n",
    "yy2 = randn(20000)\n",
    "a = 2.0;"
   ]
  },
  {
   "cell_type": "code",
   "execution_count": 35,
   "metadata": {},
   "outputs": [
    {
     "name": "stdout",
     "output_type": "stream",
     "text": [
      "  1.882 μs (0 allocations: 0 bytes)\n"
     ]
    }
   ],
   "source": [
    "@btime foo1!(a, xx, yy, 1000, 6)"
   ]
  },
  {
   "cell_type": "code",
   "execution_count": 32,
   "metadata": {},
   "outputs": [
    {
     "name": "stdout",
     "output_type": "stream",
     "text": [
      "  2.500 μs (0 allocations: 0 bytes)\n"
     ]
    }
   ],
   "source": [
    "@btime foo1!(a, xx, yy, 1000, 10)"
   ]
  },
  {
   "cell_type": "code",
   "execution_count": 39,
   "metadata": {},
   "outputs": [
    {
     "data": {
      "text/plain": [
       "StencilPoint{StaticArrays.SArray{Tuple{2,2},Float64,2,4},3,7}(([0.0 0.0; 6.95011 0.0], [0.0 0.0; 0.0 0.0], [0.0 0.0; 0.0 0.0], [-7.48794 -1.24799e7; -43.1777 1.03349e7], [0.0 0.0; 0.00518722 0.0], [0.0 0.0; 3.3063 0.0], [0.0 0.0; 8.11233 0.0]))"
      ]
     },
     "execution_count": 39,
     "metadata": {},
     "output_type": "execute_result"
    }
   ],
   "source": [
    "S.v[2]"
   ]
  },
  {
   "cell_type": "code",
   "execution_count": 22,
   "metadata": {
    "scrolled": false
   },
   "outputs": [
    {
     "name": "stdout",
     "output_type": "stream",
     "text": [
      "183 ./task.jl:335; (::IJulia.##14#17)()\n",
      " 183 ...Julia/src/eventloop.jl:8; eventloop(::ZMQ.Socket)\n",
      "  183 .../Compat/src/Compat.jl:385; (::Compat.#inner#17{Array{Any,1}...\n",
      "   183 ...rc/execute_request.jl:158; execute_request(::ZMQ.Socket, ::...\n",
      "    183 .../Compat/src/Compat.jl:71; include_string(::Module, ::Strin...\n",
      "     183 ./loading.jl:522; include_string(::String, ::String)\n",
      "      183 ./<missing>:?; anonymous\n",
      "       183 ./In[22]:3; macro expansion\n",
      "        183 ./profile.jl:23; macro expansion\n",
      "         183 ...new/src/Stencil.jl:143; *(::Stencil{StaticArrays.SAr...\n",
      "          1   ...new/src/Stencil.jl:130; A_mul_B!(::Float64, ::Stenc...\n",
      "          165 ...new/src/Stencil.jl:132; A_mul_B!(::Float64, ::Stenc...\n",
      "           3 ...rrays/src/linalg.jl:10; +\n",
      "            3 ...s/src/mapreduce.jl:11; map\n",
      "             3 ...s/src/mapreduce.jl:20; _map\n",
      "              3 .../src/mapreduce.jl:29; macro expansion\n",
      "           5 .../matrix_multiply.jl:39; *\n",
      "            5 ...matrix_multiply.jl:74; _mul\n",
      "             5 ...matrix_multiply.jl:87; macro expansion\n",
      "          17  ...new/src/Stencil.jl:138; A_mul_B!(::Float64, ::Stenc...\n",
      "           16 ...rays/src/linalg.jl:10; +\n",
      "            16 ...s/src/mapreduce.jl:11; map\n",
      "             16 .../src/mapreduce.jl:20; _map\n",
      "              16 .../src/mapreduce.jl:29; macro expansion\n",
      "           1  ...new/src/Stencil.jl:51; setindex!\n"
     ]
    }
   ],
   "source": [
    "Profile.clear()\n",
    "for i in 1:100\n",
    "    @profile S*res\n",
    "end\n",
    "Profile.print()"
   ]
  },
  {
   "cell_type": "code",
   "execution_count": 23,
   "metadata": {},
   "outputs": [
    {
     "name": "stdout",
     "output_type": "stream",
     "text": [
      "1169 ./task.jl:335; (::IJulia.##14#17)()\n",
      " 1169 ...Julia/src/eventloop.jl:8; eventloop(::ZMQ.Socket)\n",
      "  1169 .../Compat/src/Compat.jl:385; (::Compat.#inner#17{Array{Any,1}...\n",
      "   1169 ...c/execute_request.jl:158; execute_request(::ZMQ.Socket, :...\n",
      "    1169 ...Compat/src/Compat.jl:71; include_string(::Module, ::Stri...\n",
      "     1169 ./loading.jl:522; include_string(::String, ::String)\n",
      "      1168 ./<missing>:?; anonymous\n",
      "       1168 ./In[23]:3; macro expansion\n",
      "        1    ./profile.jl:19; macro expansion\n",
      "        1167 ./profile.jl:23; macro expansion\n",
      "         1164 ./linalg/matmul.jl:79; *(::SparseMatrixCSC{Float64,...\n",
      "          35  ./sparse/linalg.jl:62; A_mul_B!(::Float64, ::Sparse...\n",
      "           35 ./array.jl:228; fill!(::Array{Float64,1}, :...\n",
      "          48  ./sparse/linalg.jl:65; A_mul_B!(::Float64, ::Sparse...\n",
      "          8   ./sparse/linalg.jl:73; A_mul_B!(::Float64, ::Sparse...\n",
      "          237 ./sparse/linalg.jl:74; A_mul_B!(::Float64, ::Sparse...\n",
      "          645 ./sparse/linalg.jl:75; A_mul_B!(::Float64, ::Sparse...\n"
     ]
    }
   ],
   "source": [
    "Profile.clear()\n",
    "for i in 1:100\n",
    "    @profile A*b\n",
    "end\n",
    "Profile.print()"
   ]
  },
  {
   "cell_type": "code",
   "execution_count": 18,
   "metadata": {},
   "outputs": [
    {
     "ename": "LoadError",
     "evalue": "\u001b[91msyntax: invalid \"::\" syntax\u001b[39m",
     "output_type": "error",
     "traceback": [
      "\u001b[91msyntax: invalid \"::\" syntax\u001b[39m",
      "",
      "Stacktrace:",
      " [1] \u001b[1minclude_string\u001b[22m\u001b[22m\u001b[1m(\u001b[22m\u001b[22m::String, ::String\u001b[1m)\u001b[22m\u001b[22m at \u001b[1m./loading.jl:522\u001b[22m\u001b[22m"
     ]
    }
   ],
   "source": [
    "::Sindx{3,7}()()[1]"
   ]
  },
  {
   "cell_type": "code",
   "execution_count": 34,
   "metadata": {},
   "outputs": [
    {
     "name": "stdout",
     "output_type": "stream",
     "text": [
      "  131.031 ns (3 allocations: 528 bytes)\n"
     ]
    }
   ],
   "source": [
    "@btime S[1,1,1].value[1];"
   ]
  },
  {
   "cell_type": "code",
   "execution_count": 35,
   "metadata": {},
   "outputs": [
    {
     "name": "stdout",
     "output_type": "stream",
     "text": [
      "  126.191 ns (3 allocations: 528 bytes)\n"
     ]
    }
   ],
   "source": [
    "@btime S.v[1,1,1].value[1];"
   ]
  },
  {
   "cell_type": "code",
   "execution_count": 21,
   "metadata": {
    "collapsed": true
   },
   "outputs": [],
   "source": [
    "forheatmap = [[psps[t][i,j,20][1] for i in 1:Nx, j in 1:Ny] for t in 1:30];"
   ]
  },
  {
   "cell_type": "code",
   "execution_count": 25,
   "metadata": {},
   "outputs": [
    {
     "data": {
      "text/plain": [
       "30×30×30 Grid{StaticArrays.SArray{Tuple{2},Float64,1,2},3,7,Array{StaticArrays.SArray{Tuple{2},Float64,1,2},3}}:\n",
       "[:, :, 1] =\n",
       " [2.34294e8, -1.94025e8]  [0.0, 0.0]  …  [0.0, 0.0]  [3.53213e7, -2.92505e7]\n",
       " [0.0, 0.0]               [0.0, 0.0]     [0.0, 0.0]  [0.0, 0.0]             \n",
       " [0.0, 0.0]               [0.0, 0.0]     [0.0, 0.0]  [0.0, 0.0]             \n",
       " [0.0, 0.0]               [0.0, 0.0]     [0.0, 0.0]  [0.0, 0.0]             \n",
       " [0.0, 0.0]               [0.0, 0.0]     [0.0, 0.0]  [0.0, 0.0]             \n",
       " [0.0, 0.0]               [0.0, 0.0]  …  [0.0, 0.0]  [0.0, 0.0]             \n",
       " [0.0, 0.0]               [0.0, 0.0]     [0.0, 0.0]  [0.0, 0.0]             \n",
       " [0.0, 0.0]               [0.0, 0.0]     [0.0, 0.0]  [0.0, 0.0]             \n",
       " [0.0, 0.0]               [0.0, 0.0]     [0.0, 0.0]  [0.0, 0.0]             \n",
       " [0.0, 0.0]               [0.0, 0.0]     [0.0, 0.0]  [0.0, 0.0]             \n",
       " [0.0, 0.0]               [0.0, 0.0]  …  [0.0, 0.0]  [0.0, 0.0]             \n",
       " [0.0, 0.0]               [0.0, 0.0]     [0.0, 0.0]  [0.0, 0.0]             \n",
       " [0.0, 0.0]               [0.0, 0.0]     [0.0, 0.0]  [0.0, 0.0]             \n",
       " ⋮                                    ⋱                                     \n",
       " [0.0, 0.0]               [0.0, 0.0]     [0.0, 0.0]  [0.0, 0.0]             \n",
       " [0.0, 0.0]               [0.0, 0.0]     [0.0, 0.0]  [0.0, 0.0]             \n",
       " [0.0, 0.0]               [0.0, 0.0]  …  [0.0, 0.0]  [0.0, 0.0]             \n",
       " [0.0, 0.0]               [0.0, 0.0]     [0.0, 0.0]  [0.0, 0.0]             \n",
       " [0.0, 0.0]               [0.0, 0.0]     [0.0, 0.0]  [0.0, 0.0]             \n",
       " [0.0, 0.0]               [0.0, 0.0]     [0.0, 0.0]  [0.0, 0.0]             \n",
       " [0.0, 0.0]               [0.0, 0.0]     [0.0, 0.0]  [0.0, 0.0]             \n",
       " [0.0, 0.0]               [0.0, 0.0]  …  [0.0, 0.0]  [0.0, 0.0]             \n",
       " [0.0, 0.0]               [0.0, 0.0]     [0.0, 0.0]  [0.0, 0.0]             \n",
       " [0.0, 0.0]               [0.0, 0.0]     [0.0, 0.0]  [0.0, 0.0]             \n",
       " [0.0, 0.0]               [0.0, 0.0]     [0.0, 0.0]  [0.0, 0.0]             \n",
       " [1.28114e8, -1.06095e8]  [0.0, 0.0]     [0.0, 0.0]  [5.32623e5, -441078.0] \n",
       "\n",
       "[:, :, 2] =\n",
       " [1.80315e7, -1.49324e7]  [0.0, 0.0]  …  [0.0, 0.0]  [6.3164e6, -5.23077e6] \n",
       " [0.0, 0.0]               [0.0, 0.0]     [0.0, 0.0]  [0.0, 0.0]             \n",
       " [0.0, 0.0]               [0.0, 0.0]     [0.0, 0.0]  [0.0, 0.0]             \n",
       " [0.0, 0.0]               [0.0, 0.0]     [0.0, 0.0]  [0.0, 0.0]             \n",
       " [0.0, 0.0]               [0.0, 0.0]     [0.0, 0.0]  [0.0, 0.0]             \n",
       " [0.0, 0.0]               [0.0, 0.0]  …  [0.0, 0.0]  [0.0, 0.0]             \n",
       " [0.0, 0.0]               [0.0, 0.0]     [0.0, 0.0]  [0.0, 0.0]             \n",
       " [0.0, 0.0]               [0.0, 0.0]     [0.0, 0.0]  [0.0, 0.0]             \n",
       " [0.0, 0.0]               [0.0, 0.0]     [0.0, 0.0]  [0.0, 0.0]             \n",
       " [0.0, 0.0]               [0.0, 0.0]     [0.0, 0.0]  [0.0, 0.0]             \n",
       " [0.0, 0.0]               [0.0, 0.0]  …  [0.0, 0.0]  [0.0, 0.0]             \n",
       " [0.0, 0.0]               [0.0, 0.0]     [0.0, 0.0]  [0.0, 0.0]             \n",
       " [0.0, 0.0]               [0.0, 0.0]     [0.0, 0.0]  [0.0, 0.0]             \n",
       " ⋮                                    ⋱                                     \n",
       " [0.0, 0.0]               [0.0, 0.0]     [0.0, 0.0]  [0.0, 0.0]             \n",
       " [0.0, 0.0]               [0.0, 0.0]     [0.0, 0.0]  [0.0, 0.0]             \n",
       " [0.0, 0.0]               [0.0, 0.0]  …  [0.0, 0.0]  [0.0, 0.0]             \n",
       " [0.0, 0.0]               [0.0, 0.0]     [0.0, 0.0]  [0.0, 0.0]             \n",
       " [0.0, 0.0]               [0.0, 0.0]     [0.0, 0.0]  [0.0, 0.0]             \n",
       " [0.0, 0.0]               [0.0, 0.0]     [0.0, 0.0]  [0.0, 0.0]             \n",
       " [0.0, 0.0]               [0.0, 0.0]     [0.0, 0.0]  [0.0, 0.0]             \n",
       " [0.0, 0.0]               [0.0, 0.0]  …  [0.0, 0.0]  [0.0, 0.0]             \n",
       " [0.0, 0.0]               [0.0, 0.0]     [0.0, 0.0]  [0.0, 0.0]             \n",
       " [0.0, 0.0]               [0.0, 0.0]     [0.0, 0.0]  [0.0, 0.0]             \n",
       " [0.0, 0.0]               [0.0, 0.0]     [0.0, 0.0]  [0.0, 0.0]             \n",
       " [9.59551e7, -7.94628e7]  [0.0, 0.0]     [0.0, 0.0]  [4.13031e5, -3.42041e5]\n",
       "\n",
       "[:, :, 3] =\n",
       " [6.80848e7, -5.63827e7]  [0.0, 0.0]  …  [3.23332e7, -2.6776e7]   \n",
       " [0.0, 0.0]               [0.0, 0.0]     [0.0, 0.0]               \n",
       " [0.0, 0.0]               [0.0, 0.0]     [0.0, 0.0]               \n",
       " [0.0, 0.0]               [0.0, 0.0]     [0.0, 0.0]               \n",
       " [0.0, 0.0]               [0.0, 0.0]     [0.0, 0.0]               \n",
       " [0.0, 0.0]               [0.0, 0.0]  …  [0.0, 0.0]               \n",
       " [0.0, 0.0]               [0.0, 0.0]     [0.0, 0.0]               \n",
       " [0.0, 0.0]               [0.0, 0.0]     [0.0, 0.0]               \n",
       " [0.0, 0.0]               [0.0, 0.0]     [0.0, 0.0]               \n",
       " [0.0, 0.0]               [0.0, 0.0]     [0.0, 0.0]               \n",
       " [0.0, 0.0]               [0.0, 0.0]  …  [0.0, 0.0]               \n",
       " [0.0, 0.0]               [0.0, 0.0]     [0.0, 0.0]               \n",
       " [0.0, 0.0]               [0.0, 0.0]     [0.0, 0.0]               \n",
       " ⋮                                    ⋱                           \n",
       " [0.0, 0.0]               [0.0, 0.0]     [0.0, 0.0]               \n",
       " [0.0, 0.0]               [0.0, 0.0]     [0.0, 0.0]               \n",
       " [0.0, 0.0]               [0.0, 0.0]  …  [0.0, 0.0]               \n",
       " [0.0, 0.0]               [0.0, 0.0]     [0.0, 0.0]               \n",
       " [0.0, 0.0]               [0.0, 0.0]     [0.0, 0.0]               \n",
       " [0.0, 0.0]               [0.0, 0.0]     [0.0, 0.0]               \n",
       " [0.0, 0.0]               [0.0, 0.0]     [0.0, 0.0]               \n",
       " [0.0, 0.0]               [0.0, 0.0]  …  [0.0, 0.0]               \n",
       " [0.0, 0.0]               [0.0, 0.0]     [0.0, 0.0]               \n",
       " [0.0, 0.0]               [0.0, 0.0]     [0.0, 0.0]               \n",
       " [0.0, 0.0]               [0.0, 0.0]     [0.0, 0.0]               \n",
       " [1.8494e7, -1.53154e7]   [0.0, 0.0]     [1.31996e10, -1.09309e10]\n",
       "\n",
       "...\n",
       "\n",
       "[:, :, 28] =\n",
       " [8.9755e6, -7.43283e6]   [0.0, 0.0]  …  [0.0, 0.0]  [1.32258e7, -1.09526e7]\n",
       " [0.0, 0.0]               [0.0, 0.0]     [0.0, 0.0]  [0.0, 0.0]             \n",
       " [0.0, 0.0]               [0.0, 0.0]     [0.0, 0.0]  [0.0, 0.0]             \n",
       " [0.0, 0.0]               [0.0, 0.0]     [0.0, 0.0]  [0.0, 0.0]             \n",
       " [0.0, 0.0]               [0.0, 0.0]     [0.0, 0.0]  [0.0, 0.0]             \n",
       " [0.0, 0.0]               [0.0, 0.0]  …  [0.0, 0.0]  [0.0, 0.0]             \n",
       " [0.0, 0.0]               [0.0, 0.0]     [0.0, 0.0]  [0.0, 0.0]             \n",
       " [0.0, 0.0]               [0.0, 0.0]     [0.0, 0.0]  [0.0, 0.0]             \n",
       " [0.0, 0.0]               [0.0, 0.0]     [0.0, 0.0]  [0.0, 0.0]             \n",
       " [0.0, 0.0]               [0.0, 0.0]     [0.0, 0.0]  [0.0, 0.0]             \n",
       " [0.0, 0.0]               [0.0, 0.0]  …  [0.0, 0.0]  [0.0, 0.0]             \n",
       " [0.0, 0.0]               [0.0, 0.0]     [0.0, 0.0]  [0.0, 0.0]             \n",
       " [0.0, 0.0]               [0.0, 0.0]     [0.0, 0.0]  [0.0, 0.0]             \n",
       " ⋮                                    ⋱                                     \n",
       " [0.0, 0.0]               [0.0, 0.0]     [0.0, 0.0]  [0.0, 0.0]             \n",
       " [0.0, 0.0]               [0.0, 0.0]     [0.0, 0.0]  [0.0, 0.0]             \n",
       " [0.0, 0.0]               [0.0, 0.0]  …  [0.0, 0.0]  [0.0, 0.0]             \n",
       " [0.0, 0.0]               [0.0, 0.0]     [0.0, 0.0]  [0.0, 0.0]             \n",
       " [0.0, 0.0]               [0.0, 0.0]     [0.0, 0.0]  [0.0, 0.0]             \n",
       " [0.0, 0.0]               [0.0, 0.0]     [0.0, 0.0]  [0.0, 0.0]             \n",
       " [0.0, 0.0]               [0.0, 0.0]     [0.0, 0.0]  [0.0, 0.0]             \n",
       " [0.0, 0.0]               [0.0, 0.0]  …  [0.0, 0.0]  [0.0, 0.0]             \n",
       " [0.0, 0.0]               [0.0, 0.0]     [0.0, 0.0]  [0.0, 0.0]             \n",
       " [0.0, 0.0]               [0.0, 0.0]     [0.0, 0.0]  [0.0, 0.0]             \n",
       " [0.0, 0.0]               [0.0, 0.0]     [0.0, 0.0]  [0.0, 0.0]             \n",
       " [2.03033e7, -1.68137e7]  [0.0, 0.0]     [0.0, 0.0]  [1.79649e6, -1.48772e6]\n",
       "\n",
       "[:, :, 29] =\n",
       " [6.09725e7, -5.04929e7]  [0.0, 0.0]  …  [0.0, 0.0]  [1.80503e8, -1.49479e8]\n",
       " [0.0, 0.0]               [0.0, 0.0]     [0.0, 0.0]  [0.0, 0.0]             \n",
       " [0.0, 0.0]               [0.0, 0.0]     [0.0, 0.0]  [0.0, 0.0]             \n",
       " [0.0, 0.0]               [0.0, 0.0]     [0.0, 0.0]  [0.0, 0.0]             \n",
       " [0.0, 0.0]               [0.0, 0.0]     [0.0, 0.0]  [0.0, 0.0]             \n",
       " [0.0, 0.0]               [0.0, 0.0]  …  [0.0, 0.0]  [0.0, 0.0]             \n",
       " [0.0, 0.0]               [0.0, 0.0]     [0.0, 0.0]  [0.0, 0.0]             \n",
       " [0.0, 0.0]               [0.0, 0.0]     [0.0, 0.0]  [0.0, 0.0]             \n",
       " [0.0, 0.0]               [0.0, 0.0]     [0.0, 0.0]  [0.0, 0.0]             \n",
       " [0.0, 0.0]               [0.0, 0.0]     [0.0, 0.0]  [0.0, 0.0]             \n",
       " [0.0, 0.0]               [0.0, 0.0]  …  [0.0, 0.0]  [0.0, 0.0]             \n",
       " [0.0, 0.0]               [0.0, 0.0]     [0.0, 0.0]  [0.0, 0.0]             \n",
       " [0.0, 0.0]               [0.0, 0.0]     [0.0, 0.0]  [0.0, 0.0]             \n",
       " ⋮                                    ⋱                                     \n",
       " [0.0, 0.0]               [0.0, 0.0]     [0.0, 0.0]  [0.0, 0.0]             \n",
       " [0.0, 0.0]               [0.0, 0.0]     [0.0, 0.0]  [0.0, 0.0]             \n",
       " [0.0, 0.0]               [0.0, 0.0]  …  [0.0, 0.0]  [0.0, 0.0]             \n",
       " [0.0, 0.0]               [0.0, 0.0]     [0.0, 0.0]  [0.0, 0.0]             \n",
       " [0.0, 0.0]               [0.0, 0.0]     [0.0, 0.0]  [0.0, 0.0]             \n",
       " [0.0, 0.0]               [0.0, 0.0]     [0.0, 0.0]  [0.0, 0.0]             \n",
       " [0.0, 0.0]               [0.0, 0.0]     [0.0, 0.0]  [0.0, 0.0]             \n",
       " [0.0, 0.0]               [0.0, 0.0]  …  [0.0, 0.0]  [0.0, 0.0]             \n",
       " [0.0, 0.0]               [0.0, 0.0]     [0.0, 0.0]  [0.0, 0.0]             \n",
       " [0.0, 0.0]               [0.0, 0.0]     [0.0, 0.0]  [0.0, 0.0]             \n",
       " [0.0, 0.0]               [0.0, 0.0]     [0.0, 0.0]  [0.0, 0.0]             \n",
       " [7.51307e8, -6.22176e8]  [0.0, 0.0]     [0.0, 0.0]  [3.35888e6, -2.78157e6]\n",
       "\n",
       "[:, :, 30] =\n",
       " [2.12247e7, -1.75767e7]  [0.0, 0.0]  …  [0.0, 0.0]  [4.36742e8, -3.61677e8]\n",
       " [0.0, 0.0]               [0.0, 0.0]     [0.0, 0.0]  [0.0, 0.0]             \n",
       " [0.0, 0.0]               [0.0, 0.0]     [0.0, 0.0]  [0.0, 0.0]             \n",
       " [0.0, 0.0]               [0.0, 0.0]     [0.0, 0.0]  [0.0, 0.0]             \n",
       " [0.0, 0.0]               [0.0, 0.0]     [0.0, 0.0]  [0.0, 0.0]             \n",
       " [0.0, 0.0]               [0.0, 0.0]  …  [0.0, 0.0]  [0.0, 0.0]             \n",
       " [0.0, 0.0]               [0.0, 0.0]     [0.0, 0.0]  [0.0, 0.0]             \n",
       " [0.0, 0.0]               [0.0, 0.0]     [0.0, 0.0]  [0.0, 0.0]             \n",
       " [0.0, 0.0]               [0.0, 0.0]     [0.0, 0.0]  [0.0, 0.0]             \n",
       " [0.0, 0.0]               [0.0, 0.0]     [0.0, 0.0]  [0.0, 0.0]             \n",
       " [0.0, 0.0]               [0.0, 0.0]  …  [0.0, 0.0]  [0.0, 0.0]             \n",
       " [0.0, 0.0]               [0.0, 0.0]     [0.0, 0.0]  [0.0, 0.0]             \n",
       " [0.0, 0.0]               [0.0, 0.0]     [0.0, 0.0]  [0.0, 0.0]             \n",
       " ⋮                                    ⋱                                     \n",
       " [0.0, 0.0]               [0.0, 0.0]     [0.0, 0.0]  [0.0, 0.0]             \n",
       " [0.0, 0.0]               [0.0, 0.0]     [0.0, 0.0]  [0.0, 0.0]             \n",
       " [0.0, 0.0]               [0.0, 0.0]  …  [0.0, 0.0]  [0.0, 0.0]             \n",
       " [0.0, 0.0]               [0.0, 0.0]     [0.0, 0.0]  [0.0, 0.0]             \n",
       " [0.0, 0.0]               [0.0, 0.0]     [0.0, 0.0]  [0.0, 0.0]             \n",
       " [0.0, 0.0]               [0.0, 0.0]     [0.0, 0.0]  [0.0, 0.0]             \n",
       " [0.0, 0.0]               [0.0, 0.0]     [0.0, 0.0]  [0.0, 0.0]             \n",
       " [0.0, 0.0]               [0.0, 0.0]  …  [0.0, 0.0]  [0.0, 0.0]             \n",
       " [0.0, 0.0]               [0.0, 0.0]     [0.0, 0.0]  [0.0, 0.0]             \n",
       " [0.0, 0.0]               [0.0, 0.0]     [0.0, 0.0]  [0.0, 0.0]             \n",
       " [0.0, 0.0]               [0.0, 0.0]     [0.0, 0.0]  [0.0, 0.0]             \n",
       " [2.14895e8, -1.7796e8]   [0.0, 0.0]     [0.0, 0.0]  [1.60846e6, -1.332e6]  "
      ]
     },
     "execution_count": 25,
     "metadata": {},
     "output_type": "execute_result"
    }
   ],
   "source": [
    "S*res"
   ]
  },
  {
   "cell_type": "code",
   "execution_count": 29,
   "metadata": {
    "collapsed": true
   },
   "outputs": [],
   "source": [
    "init       = [SVector{2,Float64}([6000.0+randn(),0.2]) for i in 1:Nx, j in 1:Ny, k in 1:Nz]\n",
    "testgrid   = makegrid(init, 7);\n",
    "g_guess   = testgrid;\n",
    "S = getstencil(model, q, g_guess, testgrid)\n",
    "res = getresidual(model, q, g_guess, testgrid);"
   ]
  },
  {
   "cell_type": "code",
   "execution_count": 31,
   "metadata": {},
   "outputs": [
    {
     "data": {
      "text/plain": [
       "30×30×30 Grid{StaticArrays.SArray{Tuple{2},Float64,1,2},3,7,Array{StaticArrays.SArray{Tuple{2},Float64,1,2},3}}:\n",
       "[:, :, 1] =\n",
       " [2.30708e8, -1.91055e8]  [-8.33815e7, 6.90521e7]  …  [3.85506e7, -3.19248e7]\n",
       " [2.17404e7, -1.80037e7]  [1.02807e8, -8.51394e7]     [-4.08314e6, 3.38139e6]\n",
       " [-6.09498e7, 5.0475e7]   [6.782e7, -5.61647e7]       [1.7431e6, -1.4435e6]  \n",
       " [5.57118e7, -4.61375e7]  [-8.90947e7, 7.37832e7]     [3.66068e6, -3.03151e6]\n",
       " [-1.17452e7, 9.72688e6]  [1.76125e7, -1.45856e7]     [-2.40083e6, 1.98819e6]\n",
       " [-1.04178e7, 8.62724e6]  [4.69524e6, -3.88824e6]  …  [9.97566e5, -8.2611e5] \n",
       " [9.99622e6, -8.27818e6]  [3.02304e6, -2.50345e6]     [-9.19415e5, 7.61391e5]\n",
       " [-324817.0, 2.69005e5]   [-1.05563e7, 8.74195e6]     [69338.9, -57421.2]    \n",
       " [-5.4673e6, 4.52762e6]   [2.93322e6, -2.42907e6]     [-1.70154e5, 140909.0] \n",
       " [6.12402e6, -5.07148e6]  [5.36133e6, -4.43986e6]     [55343.0, -45830.9]    \n",
       " [-7.63526e5, 632313.0]   [-1.13776e6, 9.42223e5]  …  [126417.0, -1.04689e5] \n",
       " [-3.47187e7, 2.87517e7]  [-9.93961e6, 8.23122e6]     [-32059.9, 26549.6]    \n",
       " [4.05358e7, -3.35691e7]  [-6.19111e6, 5.12709e6]     [-10349.4, 8570.57]    \n",
       " ⋮                                                 ⋱                         \n",
       " [-2.06622e8, 1.71112e8]  [8.20238e6, -6.79256e6]     [43533.6, -36051.2]    \n",
       " [2.20834e8, -1.82884e8]  [-2.82778e7, 2.34182e7]     [-47068.0, 38978.2]    \n",
       " [-7.94693e7, 6.58124e7]  [-1.58424e7, 1.31195e7]  …  [51253.1, -42444.0]    \n",
       " [5.76195e7, -4.77167e7]  [9.70139e6, -8.03391e6]     [-8993.15, 7447.45]    \n",
       " [-1.52462e7, 1.2626e7]   [1.90133e7, -1.57455e7]     [-31979.7, 26483.2]    \n",
       " [1.71423e7, -1.4196e7]   [-2.01606e6, 1.6696e6]      [-86033.3, 71246.4]    \n",
       " [-2.51336e7, 2.08138e7]  [-1.38962e7, 1.15079e7]     [4.66643e5, -3.8644e5] \n",
       " [-1.17148e8, 9.70158e7]  [3.18387e7, -2.63666e7]  …  [-58123.3, 48133.5]    \n",
       " [1.42602e8, -1.18096e8]  [2.53202e6, -2.09641e6]     [-39243.2, 32498.3]    \n",
       " [-5.9866e7, 4.95777e7]   [-4.1401e7, 3.42854e7]      [8.59422e5, -7.1171e5] \n",
       " [9.79243e6, -8.1093e6]   [3.53195e7, -2.92492e7]     [-95921.8, 79435.0]    \n",
       " [1.32735e8, -1.09921e8]  [-3.71267e6, 3.07463e6]     [5.35921e5, -4.43809e5]\n",
       "\n",
       "[:, :, 2] =\n",
       " [1.99031e7, -1.64823e7]  …  [6.34411e6, -5.25372e6] \n",
       " [-1.65361e6, 1.36943e6]     [2.64554e5, -2.19083e5] \n",
       " [-1.50959e6, 1.25014e6]     [-2.50111e5, 207124.0]  \n",
       " [2.30746e6, -1.91088e6]     [4.23248e5, -3.50503e5] \n",
       " [3.59964e6, -2.98096e6]     [-64860.7, 53713.1]     \n",
       " [-2.64086e6, 2.18698e6]  …  [0.0103971, -0.00861007]\n",
       " [-5.39634e5, 4.46885e5]     [0.0343586, -0.0284532] \n",
       " [5.25479e5, -4.35164e5]     [-12849.5, 10641.1]     \n",
       " [3.35202e5, -2.77591e5]     [1.22883e5, -101763.0]  \n",
       " [-1.67633e6, 1.38821e6]     [-3.05415e6, 2.52922e6] \n",
       " [-3.4205e5, 283260.0]    …  [-5.46124e5, 4.52268e5] \n",
       " [-5.78504e5, 4.79078e5]     [9.90888e6, -8.20581e6] \n",
       " [-4.35495e5, 360647.0]      [-3.93734e6, 3.26063e6] \n",
       " ⋮                        ⋱                          \n",
       " [-40632.6, 33648.9]         [-1074.22, 889.592]     \n",
       " [2.70541e5, -2.24042e5]     [83633.2, -69258.7]     \n",
       " [47197.9, -39085.6]      …  [-1.05228e5, 87142.3]   \n",
       " [-8.29233e5, 6.86709e5]     [9842.02, -8149.3]      \n",
       " [7.1991e5, -5.96176e5]      [71882.2, -59527.4]     \n",
       " [-4.34523e5, 3.5984e5]      [-12941.3, 10717.0]     \n",
       " [1.28414e5, -106343.0]      [4.62437e5, -382956.0]  \n",
       " [9.54742e5, -7.90647e5]  …  [1.1469e5, -94977.7]    \n",
       " [-1.56143e6, 1.29308e6]     [-1.18857e7, 9.86267e6] \n",
       " [1.67055e7, -1.38344e7]     [2.33541e7, -1.93403e7] \n",
       " [-1.96742e7, 1.62931e7]     [-3.94089e6, 3.26496e6] \n",
       " [1.06779e8, -8.84264e7]     [4.09345e5, -338989.0]  \n",
       "\n",
       "[:, :, 3] =\n",
       " [6.98292e7, -5.78271e7]  …  [4.10769e7, -3.40171e7]  \n",
       " [-1.85411e7, 1.53546e7]     [-1.32916e6, 1.10093e6]  \n",
       " [1.49912e7, -1.24147e7]     [-2.655e7, 2.19869e7]    \n",
       " [-4.03306e6, 3.33993e6]     [1.94418e7, -1.61004e7]  \n",
       " [-6.45462e6, 5.34524e6]     [-9.79057e6, 8.10803e6]  \n",
       " [7.25001e6, -6.0039e6]   …  [2.90973e7, -2.40968e7]  \n",
       " [-1.6063e7, 1.33023e7]      [-2.67216e7, 2.21291e7]  \n",
       " [1.97455e7, -1.63519e7]     [6.87871e6, -5.69643e6]  \n",
       " [-3.91017e6, 3.23817e6]     [74297.2, -61531.2]      \n",
       " [-5.2167e6, 4.32008e6]      [-2.26701e7, 1.87738e7]  \n",
       " [2.19281e6, -1.81592e6]  …  [1.43598e7, -1.18917e7]  \n",
       " [1.75594e6, -1.45414e6]     [4.44488e7, -3.68096e7]  \n",
       " [-2.30622e6, 1.90984e6]     [-3.27386e7, 2.71121e7]  \n",
       " ⋮                        ⋱                           \n",
       " [8.31373e7, -6.88492e7]     [-8.36929e6, 6.93124e6]  \n",
       " [-1.01384e8, 8.39607e7]     [-1.41361e7, 1.17065e7]  \n",
       " [1.13651e8, -9.41195e7]  …  [-6.89283e7, 5.71372e7]  \n",
       " [-3.22272e7, 2.66889e7]     [3.79555e9, -3.14556e9]  \n",
       " [-8.07891e5, 6.69038e5]     [-2.17129e9, 1.80119e9]  \n",
       " [4.00553e6, -3.31709e6]     [-3.24633e9, 2.70036e9]  \n",
       " [-1.72603e6, 1.42937e6]     [-7.6753e9, 6.38894e9]   \n",
       " [5.42195e5, -4.49006e5]  …  [1.52345e9, -1.26186e9]  \n",
       " [-3.96615e5, 3.28448e5]     [6.38135e9, -5.2901e9]   \n",
       " [-2.39493e5, 1.98331e5]     [-2.54694e9, 2.11007e9]  \n",
       " [1.52691e6, -1.26447e6]     [1.12587e9, -9.32546e8]  \n",
       " [1.7473e7, -1.44698e7]      [1.25756e10, -1.04142e10]\n",
       "\n",
       "...\n",
       "\n",
       "[:, :, 28] =\n",
       " [9.8119e6, -8.12549e6]   …  [1.48862e7, -1.23277e7]  \n",
       " [-1.17206e6, 9.70624e5]     [-1.89404e6, 1.56852e6]  \n",
       " [2.88424e6, -2.38851e6]     [3.20877e5, -2.65726e5]  \n",
       " [-3.34405e7, 2.76936e7]     [9.00313e5, -7.45573e5]  \n",
       " [6.78997e7, -5.62306e7]     [-85985.7, 71207.4]      \n",
       " [-2.98294e7, 2.4703e7]   …  [1.09804e5, -90931.4]    \n",
       " [7.25822e6, -6.01073e6]     [6918.09, -5729.04]      \n",
       " [7.21798e5, -597736.0]      [-28417.4, 23533.2]      \n",
       " [-1.7576e6, 1.45551e6]      [-0.00542681, 0.00449408]\n",
       " [-5.34322e5, 442495.0]      [79559.2, -65885.0]      \n",
       " [3.16887e6, -2.62423e6]  …  [-83542.1, 69183.4]      \n",
       " [-1.38193e7, 1.14442e7]     [1.00727e5, -83414.2]    \n",
       " [-2.67183e6, 2.21289e6]     [1.36933e5, -113398.0]   \n",
       " ⋮                        ⋱                           \n",
       " [-3.48496e7, 2.88601e7]     [-0.00362717, 0.00300376]\n",
       " [4.81626e7, -3.98852e7]     [0.0282653, -0.0234072]  \n",
       " [-1.15292e7, 9.54777e6]  …  [58598.5, -48526.9]      \n",
       " [1.08132e5, -89547.2]       [-33782.9, 27976.5]      \n",
       " [11733.5, -9716.78]         [-34618.6, 28668.5]      \n",
       " [0.0234758, -0.0194409]     [-11822.7, 9790.67]      \n",
       " [46443.9, -38461.5]         [0.00589598, -0.00488261]\n",
       " [-104765.0, 86758.7]     …  [8241.73, -6825.19]      \n",
       " [2.22413e5, -1.84186e5]     [-1813.78, 1502.04]      \n",
       " [-29575.5, 24492.2]         [-0.037113, 0.0307342]   \n",
       " [-5.05869e5, 4.18933e5]     [-7316.11, 6058.78]      \n",
       " [2.15518e7, -1.78476e7]     [1.85566e6, -1.53672e6]  \n",
       "\n",
       "[:, :, 29] =\n",
       " [5.57556e7, -4.61726e7]  [7.4758e6, -6.19091e6]   …  [1.76413e8, -1.46092e8]\n",
       " [1.07622e7, -8.91251e6]  [-4.08414e7, 3.38223e7]     [5.76471e6, -4.77386e6]\n",
       " [-1.26074e7, 1.04406e7]  [2.87128e7, -2.37781e7]     [-6.23207e6, 5.16095e6]\n",
       " [8.0069e6, -6.63075e6]   [7.96926e6, -6.59956e6]     [1.48345e6, -1.22848e6]\n",
       " [-1.39415e7, 1.15455e7]  [-1.12405e7, 9.30852e6]     [-4.06925e5, 3.36988e5]\n",
       " [3.09962e7, -2.56693e7]  [-1.6932e7, 1.40277e7]   …  [1.69344e6, -1.40238e6]\n",
       " [-1.15156e8, 9.53745e7]  [7.35306e8, -6.0909e8]      [3.23656e6, -2.68028e6]\n",
       " [3.81478e8, -3.15935e8]  [-1.09721e8, 9.08806e7]     [-1.23814e7, 1.02533e7]\n",
       " [-6.53973e8, 5.4164e8]   [8.95073e8, -7.41245e8]     [9.67642e6, -8.0133e6] \n",
       " [9.94119e8, -8.23371e8]  [2.30802e9, -1.91197e9]     [-241801.0, 2.00241e5] \n",
       " [-2.72679e9, 2.25858e9]  [-5.29219e9, 4.38507e9]  …  [-1.22372e7, 1.01341e7]\n",
       " [2.07831e9, -1.72157e9]  [1.55255e9, -1.28602e9]     [4.11998e7, -3.41189e7]\n",
       " [8.39502e9, -6.96069e9]  [1.64057e9, -1.35902e9]     [-1.98979e7, 1.64781e7]\n",
       " ⋮                                                 ⋱                         \n",
       " [-6.11746e8, 5.06639e8]  [-6.25105e7, 5.17664e7]     [-3.719e6, 3.0798e6]   \n",
       " [2.98239e8, -2.46993e8]  [9.02601e6, -7.45716e6]     [-9.77118e5, 8.09176e5]\n",
       " [8.17598e8, -6.77212e8]  [1.05611e9, -8.74748e8]  …  [890875.0, -7.37757e5] \n",
       " [-8.26818e8, 6.8483e8]   [-3.43097e8, 2.84157e8]     [-1.84965e5, 1.53175e5]\n",
       " [4.36034e6, -3.61092e6]  [-7.05267e8, 5.84143e8]     [-4.48377e5, 3.71312e5]\n",
       " [1.00971e6, -8.35941e5]  [3.59072e8, -2.9739e8]      [2.23021e6, -1.8469e6] \n",
       " [-1.89978e7, 1.57326e7]  [-7.21822e6, 5.97877e6]     [-7.02881e6, 5.82074e6]\n",
       " [1.44525e7, -1.19685e7]  [-1.3123e7, 1.08675e7]   …  [4.48562e6, -3.71467e6]\n",
       " [-8.75124e6, 7.2472e6]   [1.92969e7, -1.59803e7]     [-1.92283e5, 1.59235e5]\n",
       " [3.40442e7, -2.81931e7]  [2.98191e7, -2.46942e7]     [1.63683e6, -1.3555e6] \n",
       " [-1.34871e8, 1.11698e8]  [-6.08895e8, 5.04279e8]     [-2.63503e5, 2.18215e5]\n",
       " [8.86542e8, -7.34187e8]  [5.97029e7, -4.94407e7]     [2.99799e6, -2.48271e6]\n",
       "\n",
       "[:, :, 30] =\n",
       " [2.18539e7, -1.80978e7]   …  [4.02341e8, -3.3319e8] \n",
       " [-3.81094e6, 3.15595e6]      [-2.18746e7, 1.81154e7]\n",
       " [5.23704e6, -4.33694e6]      [5.16593e7, -4.27808e7]\n",
       " [3.33581e6, -2.76247e6]      [-1.15703e7, 9.58201e6]\n",
       " [1.4091e8, -1.16695e8]       [1.02927e8, -8.52382e7]\n",
       " [-2.64376e8, 2.1894e8]    …  [-6.87766e7, 5.69567e7]\n",
       " [-5.87167e7, 4.86233e7]      [-6.76655e6, 5.60352e6]\n",
       " [7.18047e7, -5.94644e7]      [1.55149e6, -1.28444e6]\n",
       " [4.90956e7, -4.06579e7]      [1.94063e6, -1.60708e6]\n",
       " [2.91923e7, -2.41751e7]      [215938.0, -1.78825e5] \n",
       " [1.15438e9, -9.562e8]     …  [-4.56755e7, 3.78259e7]\n",
       " [-1.21487e9, 1.00651e9]      [9.45586e7, -7.8308e7] \n",
       " [-1.02525e10, 8.49881e9]     [-6.18466e7, 5.12175e7]\n",
       " ⋮                         ⋱                         \n",
       " [5.78373e8, -4.79002e8]      [3.80204e7, -3.1486e7] \n",
       " [-4.8072e8, 3.98117e8]       [2.15817e6, -1.78724e6]\n",
       " [-1.10958e9, 9.19005e8]   …  [-5.76024e5, 4.77021e5]\n",
       " [1.10606e9, -9.16077e8]      [-3.39185e6, 2.80888e6]\n",
       " [-2.74906e6, 2.27758e6]      [5.30743e6, -4.39522e6]\n",
       " [-3.17448e6, 2.62888e6]      [27681.3, -22919.6]    \n",
       " [1.31809e7, -1.09155e7]      [-1.26103e7, 1.04429e7]\n",
       " [-3.9384e7, 3.2615e7]     …  [7.56477e6, -6.2646e6] \n",
       " [1.5667e7, -1.29743e7]       [3.79673e5, -314416.0] \n",
       " [1.07918e7, -8.93701e6]      [-684565.0, 5.66906e5] \n",
       " [6.23745e7, -5.16543e7]      [-96860.8, 80213.2]    \n",
       " [1.61233e8, -1.3351e8]       [1.75591e6, -1.45411e6]"
      ]
     },
     "execution_count": 31,
     "metadata": {},
     "output_type": "execute_result"
    }
   ],
   "source": [
    "S*res"
   ]
  },
  {
   "cell_type": "code",
   "execution_count": null,
   "metadata": {
    "collapsed": true
   },
   "outputs": [],
   "source": []
  },
  {
   "cell_type": "code",
   "execution_count": null,
   "metadata": {
    "collapsed": true
   },
   "outputs": [],
   "source": []
  },
  {
   "cell_type": "code",
   "execution_count": null,
   "metadata": {
    "collapsed": true
   },
   "outputs": [],
   "source": []
  },
  {
   "cell_type": "code",
   "execution_count": 38,
   "metadata": {},
   "outputs": [
    {
     "name": "stdout",
     "output_type": "stream",
     "text": [
      "1234567891011121314151617181920"
     ]
    }
   ],
   "source": [
    "N = Nx*Ny*Nz\n",
    "Nxy = Nx*Ny\n",
    "A = spzeros(2N,2N)\n",
    "b = zeros(2N)\n",
    "for i in 1:Nx, j in 1:Ny, k in 1:Nz\n",
    "    nd = (k-1)*Nxy+(j-1)*Nx+i\n",
    "    A[(2*nd-1):2*nd, (2*nd-1):2*nd] = S[i,j,k].value[4]\n",
    "    if i!=1  A[(2*nd-1):2*nd, (2*nd-3):(2*nd-2)]           = S[i,j,k].value[1] end\n",
    "    if j!=1  A[(2*nd-1):2*nd, (2*nd-2*Nx-1):(2*nd-2*Nx)]   = S[i,j,k].value[2] end  \n",
    "    if k!=1  A[(2*nd-1):2*nd, (2*nd-2*Nxy-1):(2*nd-2*Nxy)] = S[i,j,k].value[3] end\n",
    "    if k!=Nz A[(2*nd-1):2*nd, (2*nd+2*Nxy-1):(2*nd+2*Nxy)] = S[i,j,k].value[5] end\n",
    "    if j!=Ny A[(2*nd-1):2*nd, (2*nd+2*Nx-1):(2*nd+2*Nx)]   = S[i,j,k].value[6] end\n",
    "    if i!=Nx A[(2*nd-1):2*nd, (2*nd+1):(2*nd+2)]           = S[i,j,k].value[7] end\n",
    "    b[(2*nd-1):(2*nd)] = res[i,j,k]\n",
    "    if (j==1)&&(k==1) print(i) end\n",
    "end    \n",
    "\n",
    "#ab = (A\\b)"
   ]
  },
  {
   "cell_type": "code",
   "execution_count": 43,
   "metadata": {},
   "outputs": [
    {
     "ename": "LoadError",
     "evalue": "\u001b[91mInterruptException:\u001b[39m",
     "output_type": "error",
     "traceback": [
      "\u001b[91mInterruptException:\u001b[39m",
      "",
      "Stacktrace:",
      " [1] \u001b[1manonymous\u001b[22m\u001b[22m at \u001b[1m./<missing>:?\u001b[22m\u001b[22m",
      " [2] \u001b[1minclude_string\u001b[22m\u001b[22m\u001b[1m(\u001b[22m\u001b[22m::String, ::String\u001b[1m)\u001b[22m\u001b[22m at \u001b[1m./loading.jl:522\u001b[22m\u001b[22m"
     ]
    }
   ],
   "source": [
    "PrecondP = zeros(A)\n",
    "for i in 1:size(A,1), j in 1:size(A,2)\n",
    "    if abs(i-j)<3.5 PrecondP[i,j] = A[i,j] end\n",
    "end\n",
    "E = A-PrecondP\n",
    "P_A = inv(inv(full(PrecondP))*(eye(A)-E*inv(full(PrecondP))));\n",
    "P_A_inv = (inv(full(PrecondP))*eye(A)-E*inv(full(PrecondP)));"
   ]
  },
  {
   "cell_type": "code",
   "execution_count": 14,
   "metadata": {
    "collapsed": true
   },
   "outputs": [],
   "source": [
    "using IterativeSolvers"
   ]
  },
  {
   "cell_type": "code",
   "execution_count": 19,
   "metadata": {},
   "outputs": [
    {
     "name": "stdout",
     "output_type": "stream",
     "text": [
      "  0.511913 seconds (6.73 k allocations: 42.808 MiB, 0.75% gc time)\n"
     ]
    },
    {
     "data": {
      "text/plain": [
       "([0.540215, -1.05917e-5, 0.00565015, -7.81858e-7, 2.74079e-5, -1.18236e-8, 6.44729e-8, -6.28496e-11, 4.49943e-11, -1.08009e-13  …  3.59529e-19, -6.10257e-22, 5.66507e-15, -7.47446e-18, 1.17551e-10, -9.7459e-14, 1.51884e-6, -4.77371e-10, 0.00864133, -3.8173e-6], Not converged after 100 iterations.)"
      ]
     },
     "execution_count": 19,
     "metadata": {},
     "output_type": "execute_result"
    }
   ],
   "source": [
    "@time IterativeSolvers.gmres(A, b;log=true, restart = 100, maxiter = 100,tol=1e-8)"
   ]
  },
  {
   "cell_type": "code",
   "execution_count": 42,
   "metadata": {},
   "outputs": [
    {
     "name": "stdout",
     "output_type": "stream",
     "text": [
      "123456789101112131415161718192021222324252627282930313233343536373839404142434445464748495051525354555657585960616263646566676869707172737475767778798081828384858687888990919293949596979899100Maxiter394.448557 seconds (5.13 M allocations: 410.679 GiB, 11.60% gc time)\n"
     ]
    }
   ],
   "source": [
    "@time stencilgmres(S, res, 100; maxiter=100,ifprint=true ,tol=1e-8);"
   ]
  },
  {
   "cell_type": "code",
   "execution_count": 36,
   "metadata": {
    "scrolled": false
   },
   "outputs": [
    {
     "name": "stdout",
     "output_type": "stream",
     "text": [
      "  91.453 μs (1 allocation: 16 bytes)\n"
     ]
    },
    {
     "data": {
      "text/plain": [
       "14027.35222122607"
      ]
     },
     "execution_count": 36,
     "metadata": {},
     "output_type": "execute_result"
    }
   ],
   "source": [
    "@btime Base.LinAlg.vecnorm2(res.A)"
   ]
  },
  {
   "cell_type": "code",
   "execution_count": 39,
   "metadata": {},
   "outputs": [
    {
     "name": "stdout",
     "output_type": "stream",
     "text": [
      "  2.680 ms (0 allocations: 0 bytes)\n"
     ]
    }
   ],
   "source": [
    "@btime A_mul_B!(-1.0, S, res, 1.0, res2);"
   ]
  },
  {
   "cell_type": "code",
   "execution_count": 41,
   "metadata": {},
   "outputs": [
    {
     "name": "stdout",
     "output_type": "stream",
     "text": [
      "  466.558 μs (0 allocations: 0 bytes)\n"
     ]
    }
   ],
   "source": [
    "@btime A_mul_B!(-1.0, A, b, 1.0, c);"
   ]
  },
  {
   "cell_type": "code",
   "execution_count": null,
   "metadata": {
    "collapsed": true
   },
   "outputs": [],
   "source": []
  },
  {
   "cell_type": "code",
   "execution_count": null,
   "metadata": {
    "collapsed": true
   },
   "outputs": [],
   "source": []
  },
  {
   "cell_type": "code",
   "execution_count": null,
   "metadata": {
    "collapsed": true
   },
   "outputs": [],
   "source": []
  },
  {
   "cell_type": "code",
   "execution_count": null,
   "metadata": {
    "collapsed": true
   },
   "outputs": [],
   "source": []
  },
  {
   "cell_type": "code",
   "execution_count": null,
   "metadata": {
    "collapsed": true
   },
   "outputs": [],
   "source": []
  },
  {
   "cell_type": "code",
   "execution_count": null,
   "metadata": {
    "collapsed": true
   },
   "outputs": [],
   "source": []
  },
  {
   "cell_type": "code",
   "execution_count": null,
   "metadata": {
    "collapsed": true
   },
   "outputs": [],
   "source": []
  },
  {
   "cell_type": "code",
   "execution_count": 31,
   "metadata": {},
   "outputs": [
    {
     "data": {
      "text/plain": [
       "([0.0115504, -6.93026e-9, 1.54878e-5, -9.29268e-12, 2.23621e-8, -1.34173e-14, 4.10156e-11, -2.46094e-17, 5.79026e-14, -3.47416e-20  …  1.17908e-5, -7.0745e-12, 3.23859e-5, -1.94315e-11, 7.39067e-5, -4.4344e-11, 0.000349556, -2.09734e-10, 0.0440842, -2.64505e-8], Converged after 27 iterations.)"
      ]
     },
     "execution_count": 31,
     "metadata": {},
     "output_type": "execute_result"
    }
   ],
   "source": [
    "@time IterativeSolvers.gmres(A, b; Pl=lufact!(full(P_A)),log=true,restart=100,tol=1e-8)"
   ]
  },
  {
   "cell_type": "code",
   "execution_count": 33,
   "metadata": {},
   "outputs": [
    {
     "name": "stdout",
     "output_type": "stream",
     "text": [
      "123456789101112131415161718192021222324252627"
     ]
    },
    {
     "data": {
      "text/plain": [
       "16×16×16 Grid{StaticArrays.SArray{Tuple{2},Float64,1,2},3,7,Array{StaticArrays.SArray{Tuple{2},Float64,1,2},3}}:\n",
       "[:, :, 1] =\n",
       " [0.0115504, -6.93026e-9]     …  [0.0486194, -2.91719e-8]   \n",
       " [1.54878e-5, -9.29269e-12]      [0.000250807, -1.50485e-10]\n",
       " [2.23621e-8, -1.3403e-14]       [1.18658e-6, -7.11492e-13] \n",
       " [4.10156e-11, -2.57871e-17]     [2.55198e-9, -1.52975e-15] \n",
       " [5.79026e-14, -1.01312e-18]     [2.24175e-12, -4.52068e-19]\n",
       " [1.19567e-16, 2.49023e-19]   …  [1.25604e-15, 2.51088e-20] \n",
       " [2.50101e-18, 4.67675e-19]      [1.61989e-17, 1.12865e-19] \n",
       " [3.24755e-20, 4.93713e-20]      [6.9593e-15, 2.38987e-18]  \n",
       " [8.57212e-21, 2.89745e-19]      [1.78068e-12, 1.96307e-16] \n",
       " [3.7637e-20, 3.74101e-21]       [2.59303e-10, -4.63816e-15]\n",
       " [2.4294e-17, -3.17708e-23]   …  [2.93724e-8, -6.23282e-15] \n",
       " [1.87968e-14, -1.11333e-20]     [2.74296e-6, -2.09077e-12] \n",
       " [5.18497e-11, -3.11096e-17]     [9.00098e-5, -5.35543e-11] \n",
       " [1.1075e-7, -6.64498e-14]       [0.00163789, -9.82581e-10] \n",
       " [7.5718e-5, -4.54308e-11]       [0.0346502, -2.07986e-8]   \n",
       " [0.0326305, -1.95783e-8]     …  [0.638801, -3.83413e-7]    \n",
       "\n",
       "[:, :, 2] =\n",
       " [0.0123088, -7.38531e-9]     …  [0.128325, -7.69966e-8]    \n",
       " [1.5762e-5, -9.44596e-12]       [0.000902616, -5.41574e-10]\n",
       " [7.35319e-8, -5.676e-14]        [3.98295e-6, -2.39073e-12] \n",
       " [3.50663e-9, -5.39687e-15]      [1.29481e-8, -7.54445e-15] \n",
       " [1.01686e-10, -2.12576e-15]     [4.02838e-11, 3.55482e-16] \n",
       " [4.91269e-12, 5.71999e-17]   …  [1.5376e-13, 6.04873e-16]  \n",
       " [2.07682e-13, -2.86915e-15]     [2.6551e-14, 1.11565e-16]  \n",
       " [3.75017e-15, 1.8841e-16]       [8.11186e-12, 5.47372e-15] \n",
       " [4.01331e-16, 1.75388e-16]      [1.27795e-9, -2.07841e-14] \n",
       " [1.43755e-17, 3.42994e-18]      [7.85905e-8, 3.4074e-14]   \n",
       " [7.01014e-17, 3.04664e-18]   …  [1.28058e-6, -4.13754e-12] \n",
       " [5.36826e-14, 7.14805e-19]      [9.42918e-6, -8.82386e-12] \n",
       " [6.19731e-11, -3.70753e-17]     [0.000102793, -6.80134e-11]\n",
       " [7.09185e-8, -4.35886e-14]      [0.00147109, -8.81876e-10] \n",
       " [4.24317e-5, -2.54588e-11]      [0.0244032, -1.46428e-8]   \n",
       " [0.0229306, -1.37584e-8]     …  [0.540612, -3.24416e-7]    \n",
       "\n",
       "[:, :, 3] =\n",
       " [1.66673, -1.0002e-6]        …  [0.271617, -1.62994e-7]    \n",
       " [0.11709, -7.02519e-8]          [0.00390711, -2.34431e-9]  \n",
       " [0.00523489, -3.11438e-9]       [8.32848e-5, -4.94066e-11] \n",
       " [0.000416451, -2.621e-10]       [2.83581e-6, -1.47356e-12] \n",
       " [1.00269e-5, -5.83727e-12]      [1.21782e-7, 6.29766e-14]  \n",
       " [3.2059e-7, -8.57254e-13]    …  [6.24897e-9, -2.81622e-15] \n",
       " [1.7135e-8, -5.05523e-13]       [7.69313e-10, -4.06976e-14]\n",
       " [4.7453e-10, 2.70792e-13]       [1.04077e-8, -5.41461e-12] \n",
       " [2.21538e-11, 2.94806e-13]      [4.71347e-7, 3.71726e-12]  \n",
       " [9.15496e-13, -9.48333e-17]     [1.55582e-5, -1.7672e-11]  \n",
       " [6.45469e-13, 9.40103e-18]   …  [0.000289973, -2.1215e-10] \n",
       " [1.66145e-10, 5.22302e-16]      [0.0021344, -9.59232e-10]  \n",
       " [9.58381e-8, -5.70187e-14]      [0.0123242, -7.62173e-9]   \n",
       " [4.58233e-5, -2.75145e-11]      [0.0684091, -4.14535e-8]   \n",
       " [0.00557965, -3.34776e-9]       [0.464484, -2.78931e-7]    \n",
       " [0.293301, -1.76018e-7]      …  [3.18314, -1.9109e-6]      \n",
       "\n",
       "...\n",
       "\n",
       "[:, :, 14] =\n",
       " [25.8535, -1.56666e-5]       …  [2.63481, -1.58178e-6]     \n",
       " [9.47404, -5.68154e-6]          [1.30298, -8.17469e-7]     \n",
       " [1.1674, -7.76473e-7]           [0.00476827, -2.86096e-9]  \n",
       " [0.382093, -2.45055e-7]         [1.45215e-5, -8.71291e-12] \n",
       " [0.155673, -9.52469e-8]         [1.21013e-8, -7.26017e-15] \n",
       " [0.0701796, -6.79976e-8]     …  [6.26012e-12, -3.75434e-18]\n",
       " [0.0422967, 6.28175e-10]        [-1.93604e-12, 1.53392e-18]\n",
       " [0.0309097, 3.00811e-8]         [-2.17949e-9, 1.02652e-15] \n",
       " [0.0304491, -1.29754e-8]        [-1.09606e-6, 1.96104e-11] \n",
       " [7.67412e-5, -1.9153e-11]       [-9.54497e-7, 2.05473e-11] \n",
       " [0.000130123, -7.61517e-11]  …  [-1.39679e-5, 2.53047e-9]  \n",
       " [0.000545527, -3.32074e-10]     [-4.95563e-6, 6.54094e-10] \n",
       " [0.0228799, -1.3623e-8]         [-1.44982e-6, -3.34286e-12]\n",
       " [8.93204, -5.37278e-6]          [7.4201e-7, -1.4529e-11]   \n",
       " [13.1106, -7.79691e-6]          [2.87119e-6, 1.17734e-10]  \n",
       " [21.8933, -1.40098e-5]       …  [0.00541876, -3.25129e-9]  \n",
       "\n",
       "[:, :, 15] =\n",
       " [17.6342, -1.05647e-5]      …  [9.22944, -5.55919e-6]      \n",
       " [11.5832, -6.94494e-6]         [24.8361, -3.28805e-5]      \n",
       " [8.18737, -4.97815e-6]         [0.0319223, -1.91535e-8]    \n",
       " [4.64737, -2.79179e-6]         [3.40868e-5, -2.04521e-11]  \n",
       " [2.57263, -1.52834e-6]         [3.34695e-8, -2.00792e-14]  \n",
       " [1.48699, -8.24476e-7]      …  [3.69614e-11, -2.22146e-17] \n",
       " [0.885669, -6.74218e-7]        [1.43889e-14, 1.60728e-16]  \n",
       " [0.648657, -2.36461e-7]        [-1.54662e-11, -8.94136e-16]\n",
       " [0.532524, -5.91633e-7]        [-5.65355e-9, 2.65397e-12]  \n",
       " [0.00186493, -9.63528e-10]     [-7.27369e-9, -2.81773e-13] \n",
       " [0.00202834, -1.44628e-9]   …  [-1.48125e-6, 3.12525e-10]  \n",
       " [0.491703, -3.14622e-7]        [1.60134e-6, 4.12149e-10]   \n",
       " [1.21699, -7.72543e-7]         [7.01404e-6, -1.30863e-11]  \n",
       " [2.19364, -1.31405e-6]         [2.26785e-5, -1.3692e-11]   \n",
       " [5.69075, -3.41753e-6]         [6.3724e-5, -4.15263e-11]   \n",
       " [14.7077, -8.86278e-6]      …  [0.0256205, -1.53724e-8]    \n",
       "\n",
       "[:, :, 16] =\n",
       " [24.0319, -1.43784e-5]      …  [92.5331, -5.55397e-5]     \n",
       " [14.7688, -8.85605e-6]         [31.7765, -3.52735e-5]     \n",
       " [6.11952, -3.63763e-6]         [0.462839, -2.77703e-7]    \n",
       " [2.291, -1.39038e-6]           [0.000199135, -1.19481e-10]\n",
       " [1.03134, -5.19087e-7]         [4.57684e-7, -2.74609e-13] \n",
       " [0.619209, -4.04469e-7]     …  [2.34998e-9, -1.40183e-15] \n",
       " [0.33822, -1.3709e-7]          [8.54218e-11, 2.26508e-16] \n",
       " [0.195759, -1.34907e-7]        [1.0258e-12, 7.80408e-14]  \n",
       " [0.152056, -9.0534e-8]         [4.22995e-18, 2.58735e-20] \n",
       " [0.000297291, -7.7091e-10]     [1.22521e-6, 3.47796e-12]  \n",
       " [0.00215216, 3.89339e-10]   …  [7.52613e-6, -5.48647e-11] \n",
       " [0.766387, -8.60053e-7]        [1.17909e-5, -9.27329e-11] \n",
       " [1.36487, -6.58004e-7]         [3.23859e-5, -2.00952e-11] \n",
       " [2.89394, -2.1999e-6]          [7.39067e-5, -4.93757e-11] \n",
       " [4.09497, -2.05904e-6]         [0.000349556, -2.03277e-10]\n",
       " [7.44523, -4.53339e-6]      …  [0.0440842, -2.64505e-8]   "
      ]
     },
     "execution_count": 33,
     "metadata": {},
     "output_type": "execute_result"
    }
   ],
   "source": [
    "@time result_g2 = stencilgmres(S, res, 100;maxiter=100,ifprint=true, M = (t->P_A_Stencil*t),tol=1e-8);"
   ]
  },
  {
   "cell_type": "code",
   "execution_count": 34,
   "metadata": {},
   "outputs": [
    {
     "name": "stdout",
     "output_type": "stream",
     "text": [
      "12345678910111213141516"
     ]
    },
    {
     "data": {
      "text/plain": [
       "8192-element Array{Float64,1}:\n",
       "  0.0115504  \n",
       " -6.93026e-9 \n",
       "  1.54878e-5 \n",
       " -9.29268e-12\n",
       "  2.23621e-8 \n",
       " -1.34173e-14\n",
       "  4.10156e-11\n",
       " -2.46094e-17\n",
       "  5.79026e-14\n",
       " -3.47416e-20\n",
       "  1.19564e-16\n",
       " -7.17382e-23\n",
       "  2.49444e-18\n",
       "  ⋮          \n",
       "  7.52614e-6 \n",
       " -4.51568e-12\n",
       "  1.17909e-5 \n",
       " -7.07453e-12\n",
       "  3.23859e-5 \n",
       " -1.94315e-11\n",
       "  7.39067e-5 \n",
       " -4.4344e-11 \n",
       "  0.000349556\n",
       " -2.09734e-10\n",
       "  0.0440842  \n",
       " -2.64505e-8 "
      ]
     },
     "execution_count": 34,
     "metadata": {},
     "output_type": "execute_result"
    }
   ],
   "source": [
    "N = Nx*Ny*Nz\n",
    "Nxy = Nx*Ny\n",
    "A = spzeros(2N,2N)\n",
    "b = zeros(2N)\n",
    "bb = zeros(2N)\n",
    "bbb = zeros(2N)\n",
    "for i in 1:Nx, j in 1:Ny, k in 1:Nz\n",
    "    nd = (k-1)*Nxy+(j-1)*Nx+i\n",
    "    A[(2*nd-1):2*nd, (2*nd-1):2*nd] = S[i,j,k].value[4]\n",
    "    if i!=1  A[(2*nd-1):2*nd, (2*nd-3):(2*nd-2)]           = S[i,j,k].value[1] end\n",
    "    if j!=1  A[(2*nd-1):2*nd, (2*nd-2*Nx-1):(2*nd-2*Nx)]   = S[i,j,k].value[2] end  \n",
    "    if k!=1  A[(2*nd-1):2*nd, (2*nd-2*Nxy-1):(2*nd-2*Nxy)] = S[i,j,k].value[3] end\n",
    "    if k!=Nz A[(2*nd-1):2*nd, (2*nd+2*Nxy-1):(2*nd+2*Nxy)] = S[i,j,k].value[5] end\n",
    "    if j!=Ny A[(2*nd-1):2*nd, (2*nd+2*Nx-1):(2*nd+2*Nx)]   = S[i,j,k].value[6] end\n",
    "    if i!=Nx A[(2*nd-1):2*nd, (2*nd+1):(2*nd+2)]           = S[i,j,k].value[7] end\n",
    "    b[(2*nd-1):(2*nd)] = res[i,j,k]\n",
    "    bb[(2*nd-1):(2*nd)] = result_g[i,j,k]\n",
    "    bbb[(2*nd-1):(2*nd)] = result_g2[i,j,k]\n",
    "    if (j==1)&&(k==1) print(i) end\n",
    "end    \n",
    "ab = (A\\b)"
   ]
  },
  {
   "cell_type": "code",
   "execution_count": 35,
   "metadata": {},
   "outputs": [
    {
     "data": {
      "text/plain": [
       "2.270991796764079"
      ]
     },
     "execution_count": 35,
     "metadata": {},
     "output_type": "execute_result"
    }
   ],
   "source": [
    "maximum(abs.(ab-bb))"
   ]
  },
  {
   "cell_type": "code",
   "execution_count": 36,
   "metadata": {},
   "outputs": [
    {
     "data": {
      "text/plain": [
       "0.00018114996381795025"
      ]
     },
     "execution_count": 36,
     "metadata": {},
     "output_type": "execute_result"
    }
   ],
   "source": [
    "maximum(abs.(ab-bbb))"
   ]
  },
  {
   "cell_type": "code",
   "execution_count": 37,
   "metadata": {},
   "outputs": [
    {
     "data": {
      "text/plain": [
       "(2.8959908930086975, 0.00033804160815213566)"
      ]
     },
     "execution_count": 37,
     "metadata": {},
     "output_type": "execute_result"
    }
   ],
   "source": [
    "norm(ab-bb), norm(ab-bbb)"
   ]
  },
  {
   "cell_type": "code",
   "execution_count": 43,
   "metadata": {},
   "outputs": [
    {
     "data": {
      "text/plain": [
       "16×16×16 Array{StencilPoint{StaticArrays.SArray{Tuple{2,2},Float64,2,4},3,7},3}:\n",
       "[:, :, 1] =\n",
       " StencilPoint{StaticArrays.SArray{Tuple{2,2},Float64,2,4},3,7}(([0.0 0.0; 0.0 0.0], [0.0 0.0; 0.0 0.0], [0.0 0.0; 0.0 0.0], [-12.7868 -2.13113e7; -42.4382 1.76485e7], [0.0 0.0; 0.000281267 0.0], [0.0 0.0; 0.0186915 0.0], [0.0 0.0; 0.0623274 0.0]))        …  StencilPoint{StaticArrays.SArray{Tuple{2,2},Float64,2,4},3,7}(([0.0 0.0; 0.0 0.0], [0.0 0.0; 0.0726078 0.0], [0.0 0.0; 0.0 0.0], [-18.6878 -3.11464e7; -62.3841 2.57931e7], [0.0 0.0; 0.00188046 0.0], [0.0 0.0; 0.0 0.0], [0.0 0.0; 0.402621 0.0]))        \n",
       " StencilPoint{StaticArrays.SArray{Tuple{2,2},Float64,2,4},3,7}(([0.0 0.0; 0.0623274 0.0], [0.0 0.0; 0.0 0.0], [0.0 0.0; 0.0 0.0], [-11.1865 -1.86442e7; -37.219 1.54397e7], [0.0 0.0; 0.000399631 0.0], [0.0 0.0; 0.0128286 0.0], [0.0 0.0; 0.0880639 0.0]))      StencilPoint{StaticArrays.SArray{Tuple{2,2},Float64,2,4},3,7}(([0.0 0.0; 0.402621 0.0], [0.0 0.0; 0.0854413 0.0], [0.0 0.0; 0.0 0.0], [-18.624 -3.104e7; -62.6338 2.5705e7], [0.0 0.0; 0.00159193 0.0], [0.0 0.0; 0.0 0.0], [0.0 0.0; 0.452199 0.0]))       \n",
       " StencilPoint{StaticArrays.SArray{Tuple{2,2},Float64,2,4},3,7}(([0.0 0.0; 0.0880639 0.0], [0.0 0.0; 0.0 0.0], [0.0 0.0; 0.0 0.0], [-14.6794 -2.44657e7; -48.8373 2.02607e7], [0.0 0.0; 0.000372521 0.0], [0.0 0.0; 0.0182043 0.0], [0.0 0.0; 0.105097 0.0]))      StencilPoint{StaticArrays.SArray{Tuple{2,2},Float64,2,4},3,7}(([0.0 0.0; 0.452199 0.0], [0.0 0.0; 0.144347 0.0], [0.0 0.0; 0.0 0.0], [-22.8877 -3.81462e7; -76.6323 3.15898e7], [0.0 0.0; 0.00116006 0.0], [0.0 0.0; 0.0 0.0], [0.0 0.0; 0.219037 0.0]))    \n",
       " StencilPoint{StaticArrays.SArray{Tuple{2,2},Float64,2,4},3,7}(([0.0 0.0; 0.105097 0.0], [0.0 0.0; 0.0 0.0], [0.0 0.0; 0.0 0.0], [-13.7909 -2.29849e7; -45.9077 1.90344e7], [0.0 0.0; 0.000332755 0.0], [0.0 0.0; 0.0209279 0.0], [0.0 0.0; 0.0988281 0.0]))      StencilPoint{StaticArrays.SArray{Tuple{2,2},Float64,2,4},3,7}(([0.0 0.0; 0.219037 0.0], [0.0 0.0; 0.0722988 0.0], [0.0 0.0; 0.0 0.0], [-24.5065 -4.08441e7; -81.5552 3.3824e7], [0.0 0.0; 0.000891841 0.0], [0.0 0.0; 0.0 0.0], [0.0 0.0; 0.0852963 0.0]))  \n",
       " StencilPoint{StaticArrays.SArray{Tuple{2,2},Float64,2,4},3,7}(([0.0 0.0; 0.0988281 0.0], [0.0 0.0; 0.0 0.0], [0.0 0.0; 0.0 0.0], [-17.0202 -2.8367e7; -56.6055 2.34914e7], [0.0 0.0; 0.00039543 0.0], [0.0 0.0; 0.0295144 0.0], [0.0 0.0; 0.0973521 0.0]))       StencilPoint{StaticArrays.SArray{Tuple{2,2},Float64,2,4},3,7}(([0.0 0.0; 0.0852963 0.0], [0.0 0.0; 0.028419 0.0], [0.0 0.0; 0.0 0.0], [-23.415 -3.90251e7; -77.7192 3.23176e7], [0.0 0.0; 0.00044185 0.0], [0.0 0.0; 0.0 0.0], [0.0 0.0; 0.0427716 0.0]))   \n",
       " StencilPoint{StaticArrays.SArray{Tuple{2,2},Float64,2,4},3,7}(([0.0 0.0; 0.0973521 0.0], [0.0 0.0; 0.0 0.0], [0.0 0.0; 0.0 0.0], [-16.991 -2.83183e7; -56.5665 2.34511e7], [0.0 0.0; 0.000571587 0.0], [0.0 0.0; 0.0467241 0.0], [0.0 0.0; 0.139286 0.0]))    …  StencilPoint{StaticArrays.SArray{Tuple{2,2},Float64,2,4},3,7}(([0.0 0.0; 0.0427716 0.0], [0.0 0.0; 0.0173433 0.0], [0.0 0.0; 0.0 0.0], [-18.4183 -3.06972e7; -61.1219 2.54211e7], [0.0 0.0; 0.000257038 0.0], [0.0 0.0; 0.0 0.0], [0.0 0.0; 0.0508877 0.0]))\n",
       " StencilPoint{StaticArrays.SArray{Tuple{2,2},Float64,2,4},3,7}(([0.0 0.0; 0.139286 0.0], [0.0 0.0; 0.0 0.0], [0.0 0.0; 0.0 0.0], [-16.08 -2.68e7; -53.6803 2.21937e7], [0.0 0.0; 0.000723413 0.0], [0.0 0.0; 0.0834978 0.0], [0.0 0.0; 0.191893 0.0]))            StencilPoint{StaticArrays.SArray{Tuple{2,2},Float64,2,4},3,7}(([0.0 0.0; 0.0508877 0.0], [0.0 0.0; 0.0392615 0.0], [0.0 0.0; 0.0 0.0], [-15.4498 -2.57497e7; -51.4063 2.1324e7], [0.0 0.0; 0.000533611 0.0], [0.0 0.0; 0.0 0.0], [0.0 0.0; 0.138141 0.0]))  \n",
       " StencilPoint{StaticArrays.SArray{Tuple{2,2},Float64,2,4},3,7}(([0.0 0.0; 0.191893 0.0], [0.0 0.0; 0.0 0.0], [0.0 0.0; 0.0 0.0], [-16.7851 -2.79751e7; -56.2281 2.31669e7], [0.0 0.0; 0.000462192 0.0], [0.0 0.0; 0.111307 0.0], [0.0 0.0; 0.323965 0.0]))        StencilPoint{StaticArrays.SArray{Tuple{2,2},Float64,2,4},3,7}(([0.0 0.0; 0.138141 0.0], [0.0 0.0; 0.0534433 0.0], [0.0 0.0; 0.0 0.0], [-16.5191 -2.75318e7; -55.1752 2.27998e7], [0.0 0.0; 0.00137501 0.0], [0.0 0.0; 0.0 0.0], [0.0 0.0; 0.26267 0.0]))    \n",
       " StencilPoint{StaticArrays.SArray{Tuple{2,2},Float64,2,4},3,7}(([0.0 0.0; 0.323965 0.0], [0.0 0.0; 0.0 0.0], [0.0 0.0; 0.0 0.0], [-19.0153 -3.16922e7; -63.6502 2.62451e7], [0.0 0.0; 0.000925887 0.0], [0.0 0.0; 0.136788 0.0], [0.0 0.0; 0.200218 0.0]))        StencilPoint{StaticArrays.SArray{Tuple{2,2},Float64,2,4},3,7}(([0.0 0.0; 0.26267 0.0], [0.0 0.0; 0.137955 0.0], [0.0 0.0; 0.0 0.0], [-18.2167 -3.03611e7; -61.257 2.51428e7], [0.0 0.0; 0.00248786 0.0], [0.0 0.0; 0.0 0.0], [0.0 0.0; 0.51121 0.0]))       \n",
       " StencilPoint{StaticArrays.SArray{Tuple{2,2},Float64,2,4},3,7}(([0.0 0.0; 0.200218 0.0], [0.0 0.0; 0.0 0.0], [0.0 0.0; 0.0 0.0], [-17.5448 -2.92413e7; -58.4708 2.42154e7], [0.0 0.0; 0.000486148 0.0], [0.0 0.0; 0.0405495 0.0], [0.0 0.0; 0.11257 0.0]))        StencilPoint{StaticArrays.SArray{Tuple{2,2},Float64,2,4},3,7}(([0.0 0.0; 0.51121 0.0], [0.0 0.0; 0.212207 0.0], [0.0 0.0; 0.0 0.0], [-15.3139 -2.55231e7; -52.0092 2.11363e7], [0.0 0.0; 0.00668302 0.0], [0.0 0.0; 0.0 0.0], [0.0 0.0; 0.551909 0.0]))     \n",
       " StencilPoint{StaticArrays.SArray{Tuple{2,2},Float64,2,4},3,7}(([0.0 0.0; 0.11257 0.0], [0.0 0.0; 0.0 0.0], [0.0 0.0; 0.0 0.0], [-9.96565 -1.66094e7; -33.2045 1.37547e7], [0.0 0.0; 0.000361097 0.0], [0.0 0.0; 0.0267884 0.0], [0.0 0.0; 0.0535801 0.0]))    …  StencilPoint{StaticArrays.SArray{Tuple{2,2},Float64,2,4},3,7}(([0.0 0.0; 0.551909 0.0], [0.0 0.0; 0.17903 0.0], [0.0 0.0; 0.0 0.0], [-13.5386 -2.25643e7; -46.1934 1.86861e7], [0.0 0.0; 0.00390006 0.0], [0.0 0.0; 0.0 0.0], [0.0 0.0; 0.612016 0.0]))     \n",
       " StencilPoint{StaticArrays.SArray{Tuple{2,2},Float64,2,4},3,7}(([0.0 0.0; 0.0535801 0.0], [0.0 0.0; 0.0 0.0], [0.0 0.0; 0.0 0.0], [-12.8494 -2.14157e7; -42.6467 1.77349e7], [0.0 0.0; 0.00024965 0.0], [0.0 0.0; 0.00981594 0.0], [0.0 0.0; 0.0193178 0.0]))     StencilPoint{StaticArrays.SArray{Tuple{2,2},Float64,2,4},3,7}(([0.0 0.0; 0.612016 0.0], [0.0 0.0; 0.59953 0.0], [0.0 0.0; 0.0 0.0], [-14.5878 -2.4313e7; -51.4768 2.01342e7], [0.0 0.0; 0.0101115 0.0], [0.0 0.0; 0.0 0.0], [0.0 0.0; 1.93309 0.0]))        \n",
       " StencilPoint{StaticArrays.SArray{Tuple{2,2},Float64,2,4},3,7}(([0.0 0.0; 0.0193178 0.0], [0.0 0.0; 0.0 0.0], [0.0 0.0; 0.0 0.0], [-10.6815 -1.78025e7; -35.4272 1.47427e7], [0.0 0.0; 9.02656e-5 0.0], [0.0 0.0; 0.00460588 0.0], [0.0 0.0; 0.0207271 0.0]))     StencilPoint{StaticArrays.SArray{Tuple{2,2},Float64,2,4},3,7}(([0.0 0.0; 1.93309 0.0], [0.0 0.0; 1.24351 0.0], [0.0 0.0; 0.0 0.0], [-13.0878 -2.18131e7; -49.88 1.8064e7], [0.0 0.0; 0.020611 0.0], [0.0 0.0; 0.0 0.0], [0.0 0.0; 3.3293 0.0]))             \n",
       " StencilPoint{StaticArrays.SArray{Tuple{2,2},Float64,2,4},3,7}(([0.0 0.0; 0.0207271 0.0], [0.0 0.0; 0.0 0.0], [0.0 0.0; 0.0 0.0], [-8.01939 -1.33657e7; -26.6453 1.10684e7], [0.0 0.0; 0.000318569 0.0], [0.0 0.0; 0.0113655 0.0], [0.0 0.0; 0.0486863 0.0]))     StencilPoint{StaticArrays.SArray{Tuple{2,2},Float64,2,4},3,7}(([0.0 0.0; 3.3293 0.0], [0.0 0.0; 0.396449 0.0], [0.0 0.0; 0.0 0.0], [-12.156 -2.02599e7; -46.6782 1.67778e7], [0.0 0.0; 0.0133605 0.0], [0.0 0.0; 0.0 0.0], [0.0 0.0; 2.67244 0.0]))         \n",
       " StencilPoint{StaticArrays.SArray{Tuple{2,2},Float64,2,4},3,7}(([0.0 0.0; 0.0486863 0.0], [0.0 0.0; 0.0 0.0], [0.0 0.0; 0.0 0.0], [-7.14899 -1.1915e7; -23.8096 9.86709e6], [0.0 0.0; 0.000340921 0.0], [0.0 0.0; 0.0105272 0.0], [0.0 0.0; 0.0689864 0.0]))      StencilPoint{StaticArrays.SArray{Tuple{2,2},Float64,2,4},3,7}(([0.0 0.0; 2.67244 0.0], [0.0 0.0; 0.719289 0.0], [0.0 0.0; 0.0 0.0], [-11.765 -1.96083e7; -45.3575 1.62381e7], [0.0 0.0; 0.0143823 0.0], [0.0 0.0; 0.0 0.0], [0.0 0.0; 2.97997 0.0]))        \n",
       " StencilPoint{StaticArrays.SArray{Tuple{2,2},Float64,2,4},3,7}(([0.0 0.0; 0.0689864 0.0], [0.0 0.0; 0.0 0.0], [0.0 0.0; 0.0 0.0], [-10.4661 -1.74435e7; -34.75 1.44454e7], [0.0 0.0; 0.000572796 0.0], [0.0 0.0; 0.0100885 0.0], [0.0 0.0; 0.0 0.0]))          …  StencilPoint{StaticArrays.SArray{Tuple{2,2},Float64,2,4},3,7}(([0.0 0.0; 2.97997 0.0], [0.0 0.0; 1.08416 0.0], [0.0 0.0; 0.0 0.0], [-13.9262 -2.32103e7; -50.2467 1.92211e7], [0.0 0.0; 0.0148124 0.0], [0.0 0.0; 0.0 0.0], [0.0 0.0; 0.0 0.0]))            \n",
       "\n",
       "[:, :, 2] =\n",
       " StencilPoint{StaticArrays.SArray{Tuple{2,2},Float64,2,4},3,7}(([0.0 0.0; 0.0 0.0], [0.0 0.0; 0.0 0.0], [0.0 0.0; 0.000281267 0.0], [-16.0574 -2.67623e7; -53.2875 2.21626e7], [0.0 0.0; 0.000651363 0.0], [0.0 0.0; 0.0249728 0.0], [0.0 0.0; 0.0707258 0.0]))        …  StencilPoint{StaticArrays.SArray{Tuple{2,2},Float64,2,4},3,7}(([0.0 0.0; 0.0 0.0], [0.0 0.0; 0.0996318 0.0], [0.0 0.0; 0.00188046 0.0], [-11.4654 -1.91091e7; -38.3936 1.58247e7], [0.0 0.0; 0.00356913 0.0], [0.0 0.0; 0.0 0.0], [0.0 0.0; 0.303401 0.0]))     \n",
       " StencilPoint{StaticArrays.SArray{Tuple{2,2},Float64,2,4},3,7}(([0.0 0.0; 0.0707258 0.0], [0.0 0.0; 0.0 0.0], [0.0 0.0; 0.000399631 0.0], [-14.6167 -2.43612e7; -48.5736 2.01741e7], [0.0 0.0; 0.000733191 0.0], [0.0 0.0; 0.0148589 0.0], [0.0 0.0; 0.0690204 0.0]))     StencilPoint{StaticArrays.SArray{Tuple{2,2},Float64,2,4},3,7}(([0.0 0.0; 0.303401 0.0], [0.0 0.0; 0.0758617 0.0], [0.0 0.0; 0.00159193 0.0], [-10.2809 -1.71348e7; -34.6298 1.41898e7], [0.0 0.0; 0.00170579 0.0], [0.0 0.0; 0.0 0.0], [0.0 0.0; 0.1918 0.0]))  \n",
       " StencilPoint{StaticArrays.SArray{Tuple{2,2},Float64,2,4},3,7}(([0.0 0.0; 0.0690204 0.0], [0.0 0.0; 0.0 0.0], [0.0 0.0; 0.000372521 0.0], [-14.0477 -2.34129e7; -46.6763 1.93888e7], [0.0 0.0; 0.000611184 0.0], [0.0 0.0; 0.0200489 0.0], [0.0 0.0; 0.0530936 0.0]))     StencilPoint{StaticArrays.SArray{Tuple{2,2},Float64,2,4},3,7}(([0.0 0.0; 0.1918 0.0], [0.0 0.0; 0.0471249 0.0], [0.0 0.0; 0.00116006 0.0], [-10.4019 -1.73365e7; -34.886 1.43568e7], [0.0 0.0; 0.0015828 0.0], [0.0 0.0; 0.0 0.0], [0.0 0.0; 0.188085 0.0]))    \n",
       " StencilPoint{StaticArrays.SArray{Tuple{2,2},Float64,2,4},3,7}(([0.0 0.0; 0.0530936 0.0], [0.0 0.0; 0.0 0.0], [0.0 0.0; 0.000332755 0.0], [-13.1657 -2.19428e7; -43.7372 1.81714e7], [0.0 0.0; 0.000450686 0.0], [0.0 0.0; 0.0147409 0.0], [0.0 0.0; 0.0572861 0.0]))     StencilPoint{StaticArrays.SArray{Tuple{2,2},Float64,2,4},3,7}(([0.0 0.0; 0.188085 0.0], [0.0 0.0; 0.0411756 0.0], [0.0 0.0; 0.000891841 0.0], [-13.9733 -2.32888e7; -46.7131 1.9286e7], [0.0 0.0; 0.00194967 0.0], [0.0 0.0; 0.0 0.0], [0.0 0.0; 0.194551 0.0]))\n",
       " StencilPoint{StaticArrays.SArray{Tuple{2,2},Float64,2,4},3,7}(([0.0 0.0; 0.0572861 0.0], [0.0 0.0; 0.0 0.0], [0.0 0.0; 0.00039543 0.0], [-15.8345 -2.63908e7; -52.6277 2.18549e7], [0.0 0.0; 0.000646519 0.0], [0.0 0.0; 0.0271459 0.0], [0.0 0.0; 0.0905303 0.0]))      StencilPoint{StaticArrays.SArray{Tuple{2,2},Float64,2,4},3,7}(([0.0 0.0; 0.194551 0.0], [0.0 0.0; 0.0293899 0.0], [0.0 0.0; 0.00044185 0.0], [-16.2706 -2.71177e7; -54.2599 2.24569e7], [0.0 0.0; 0.00172027 0.0], [0.0 0.0; 0.0 0.0], [0.0 0.0; 0.137326 0.0]))\n",
       " StencilPoint{StaticArrays.SArray{Tuple{2,2},Float64,2,4},3,7}(([0.0 0.0; 0.0905303 0.0], [0.0 0.0; 0.0 0.0], [0.0 0.0; 0.000571587 0.0], [-15.9546 -2.65911e7; -53.0845 2.20207e7], [0.0 0.0; 0.000987083 0.0], [0.0 0.0; 0.0240387 0.0], [0.0 0.0; 0.118686 0.0]))   …  StencilPoint{StaticArrays.SArray{Tuple{2,2},Float64,2,4},3,7}(([0.0 0.0; 0.137326 0.0], [0.0 0.0; 0.0423075 0.0], [0.0 0.0; 0.000257038 0.0], [-19.1329 -3.18882e7; -63.669 2.64074e7], [0.0 0.0; 0.00107063 0.0], [0.0 0.0; 0.0 0.0], [0.0 0.0; 0.110234 0.0]))\n",
       " StencilPoint{StaticArrays.SArray{Tuple{2,2},Float64,2,4},3,7}(([0.0 0.0; 0.118686 0.0], [0.0 0.0; 0.0 0.0], [0.0 0.0; 0.000723413 0.0], [-21.1201 -3.52002e7; -70.2039 2.91502e7], [0.0 0.0; 0.00102871 0.0], [0.0 0.0; 0.0427342 0.0], [0.0 0.0; 0.0802755 0.0]))       StencilPoint{StaticArrays.SArray{Tuple{2,2},Float64,2,4},3,7}(([0.0 0.0; 0.110234 0.0], [0.0 0.0; 0.0449352 0.0], [0.0 0.0; 0.000533611 0.0], [-20.4791 -3.41318e7; -68.1684 2.82654e7], [0.0 0.0; 0.00107288 0.0], [0.0 0.0; 0.0 0.0], [0.0 0.0; 0.17475 0.0]))\n",
       " StencilPoint{StaticArrays.SArray{Tuple{2,2},Float64,2,4},3,7}(([0.0 0.0; 0.0802755 0.0], [0.0 0.0; 0.0 0.0], [0.0 0.0; 0.000462192 0.0], [-18.2222 -3.03704e7; -60.5396 2.51505e7], [0.0 0.0; 0.00056198 0.0], [0.0 0.0; 0.0206992 0.0], [0.0 0.0; 0.0764797 0.0]))      StencilPoint{StaticArrays.SArray{Tuple{2,2},Float64,2,4},3,7}(([0.0 0.0; 0.17475 0.0], [0.0 0.0; 0.128807 0.0], [0.0 0.0; 0.00137501 0.0], [-21.8336 -3.63893e7; -73.182 3.01349e7], [0.0 0.0; 0.00363645 0.0], [0.0 0.0; 0.0 0.0], [0.0 0.0; 0.549604 0.0]))   \n",
       " StencilPoint{StaticArrays.SArray{Tuple{2,2},Float64,2,4},3,7}(([0.0 0.0; 0.0764797 0.0], [0.0 0.0; 0.0 0.0], [0.0 0.0; 0.000925887 0.0], [-14.6454 -2.4409e7; -48.7054 2.02137e7], [0.0 0.0; 0.00108022 0.0], [0.0 0.0; 0.0200111 0.0], [0.0 0.0; 0.0940174 0.0]))       StencilPoint{StaticArrays.SArray{Tuple{2,2},Float64,2,4},3,7}(([0.0 0.0; 0.549604 0.0], [0.0 0.0; 0.277173 0.0], [0.0 0.0; 0.00248786 0.0], [-18.7062 -3.1177e7; -64.061 2.58185e7], [0.0 0.0; 0.00517545 0.0], [0.0 0.0; 0.0 0.0], [0.0 0.0; 1.26225 0.0]))    \n",
       " StencilPoint{StaticArrays.SArray{Tuple{2,2},Float64,2,4},3,7}(([0.0 0.0; 0.0940174 0.0], [0.0 0.0; 0.0 0.0], [0.0 0.0; 0.000486148 0.0], [-12.6548 -2.10914e7; -42.0941 1.74663e7], [0.0 0.0; 0.000769853 0.0], [0.0 0.0; 0.013831 0.0], [0.0 0.0; 0.0659423 0.0]))      StencilPoint{StaticArrays.SArray{Tuple{2,2},Float64,2,4},3,7}(([0.0 0.0; 1.26225 0.0], [0.0 0.0; 0.735178 0.0], [0.0 0.0; 0.00668302 0.0], [-17.6832 -2.94719e7; -65.3268 2.44064e7], [0.0 0.0; 0.0141635 0.0], [0.0 0.0; 0.0 0.0], [0.0 0.0; 4.73306 0.0]))    \n",
       " StencilPoint{StaticArrays.SArray{Tuple{2,2},Float64,2,4},3,7}(([0.0 0.0; 0.0659423 0.0], [0.0 0.0; 0.0 0.0], [0.0 0.0; 0.000361097 0.0], [-13.3086 -2.21811e7; -44.2306 1.83687e7], [0.0 0.0; 0.000484273 0.0], [0.0 0.0; 0.0127292 0.0], [0.0 0.0; 0.066252 0.0]))   …  StencilPoint{StaticArrays.SArray{Tuple{2,2},Float64,2,4},3,7}(([0.0 0.0; 4.73306 0.0], [0.0 0.0; 0.963074 0.0], [0.0 0.0; 0.00390006 0.0], [-12.3339 -2.05566e7; -53.9296 1.70234e7], [0.0 0.0; 0.0434569 0.0], [0.0 0.0; 0.0 0.0], [0.0 0.0; 7.32989 0.0]))    \n",
       " StencilPoint{StaticArrays.SArray{Tuple{2,2},Float64,2,4},3,7}(([0.0 0.0; 0.066252 0.0], [0.0 0.0; 0.0 0.0], [0.0 0.0; 0.00024965 0.0], [-12.3146 -2.05244e7; -40.9165 1.69968e7], [0.0 0.0; 0.000570511 0.0], [0.0 0.0; 0.014448 0.0], [0.0 0.0; 0.042747 0.0]))         StencilPoint{StaticArrays.SArray{Tuple{2,2},Float64,2,4},3,7}(([0.0 0.0; 7.32989 0.0], [0.0 0.0; 1.79142 0.0], [0.0 0.0; 0.0101115 0.0], [-11.2672 -1.87787e7; -51.098 1.55511e7], [0.0 0.0; 0.0401422 0.0], [0.0 0.0; 0.0 0.0], [0.0 0.0; 4.60368 0.0]))       \n",
       " StencilPoint{StaticArrays.SArray{Tuple{2,2},Float64,2,4},3,7}(([0.0 0.0; 0.042747 0.0], [0.0 0.0; 0.0 0.0], [0.0 0.0; 9.02656e-5 0.0], [-12.2897 -2.04828e7; -40.8089 1.69623e7], [0.0 0.0; 0.000220582 0.0], [0.0 0.0; 0.0120168 0.0], [0.0 0.0; 0.0442569 0.0]))       StencilPoint{StaticArrays.SArray{Tuple{2,2},Float64,2,4},3,7}(([0.0 0.0; 4.60368 0.0], [0.0 0.0; 0.877404 0.0], [0.0 0.0; 0.020611 0.0], [-9.85487 -1.64248e7; -41.3565 1.36018e7], [0.0 0.0; 0.0291524 0.0], [0.0 0.0; 0.0 0.0], [0.0 0.0; 3.18138 0.0]))      \n",
       " StencilPoint{StaticArrays.SArray{Tuple{2,2},Float64,2,4},3,7}(([0.0 0.0; 0.0442569 0.0], [0.0 0.0; 0.0 0.0], [0.0 0.0; 0.000318569 0.0], [-14.9526 -2.49209e7; -49.6989 2.06376e7], [0.0 0.0; 0.000780585 0.0], [0.0 0.0; 0.0203065 0.0], [0.0 0.0; 0.102916 0.0]))      StencilPoint{StaticArrays.SArray{Tuple{2,2},Float64,2,4},3,7}(([0.0 0.0; 3.18138 0.0], [0.0 0.0; 0.823555 0.0], [0.0 0.0; 0.0133605 0.0], [-10.2529 -1.70881e7; -40.9008 1.41511e7], [0.0 0.0; 0.0229555 0.0], [0.0 0.0; 0.0 0.0], [0.0 0.0; 2.89688 0.0]))     \n",
       " StencilPoint{StaticArrays.SArray{Tuple{2,2},Float64,2,4},3,7}(([0.0 0.0; 0.102916 0.0], [0.0 0.0; 0.0 0.0], [0.0 0.0; 0.000340921 0.0], [-14.7707 -2.46178e7; -49.182 2.03866e7], [0.0 0.0; 0.00101169 0.0], [0.0 0.0; 0.0364679 0.0], [0.0 0.0; 0.113395 0.0]))         StencilPoint{StaticArrays.SArray{Tuple{2,2},Float64,2,4},3,7}(([0.0 0.0; 2.89688 0.0], [0.0 0.0; 0.600629 0.0], [0.0 0.0; 0.0143823 0.0], [-14.01 -2.335e7; -52.8216 1.93367e7], [0.0 0.0; 0.0220144 0.0], [0.0 0.0; 0.0 0.0], [0.0 0.0; 2.87969 0.0]))         \n",
       " StencilPoint{StaticArrays.SArray{Tuple{2,2},Float64,2,4},3,7}(([0.0 0.0; 0.113395 0.0], [0.0 0.0; 0.0 0.0], [0.0 0.0; 0.000572796 0.0], [-15.1014 -2.5169e7; -50.1849 2.08431e7], [0.0 0.0; 0.00109514 0.0], [0.0 0.0; 0.045119 0.0], [0.0 0.0; 0.0 0.0]))            …  StencilPoint{StaticArrays.SArray{Tuple{2,2},Float64,2,4},3,7}(([0.0 0.0; 2.87969 0.0], [0.0 0.0; 0.869626 0.0], [0.0 0.0; 0.0148124 0.0], [-14.6707 -2.44511e7; -52.4173 2.02486e7], [0.0 0.0; 0.0237463 0.0], [0.0 0.0; 0.0 0.0], [0.0 0.0; 0.0 0.0]))         \n",
       "\n",
       "[:, :, 3] =\n",
       " StencilPoint{StaticArrays.SArray{Tuple{2,2},Float64,2,4},3,7}(([0.0 0.0; 0.0 0.0], [0.0 0.0; 0.0 0.0], [0.0 0.0; 0.000651363 0.0], [-12.463 -2.07717e7; -45.305 1.72016e7], [0.0 0.0; 0.00116582 0.0], [0.0 0.0; 0.66894 0.0], [0.0 0.0; 3.26312 0.0]))             …  StencilPoint{StaticArrays.SArray{Tuple{2,2},Float64,2,4},3,7}(([0.0 0.0; 0.0 0.0], [0.0 0.0; 0.499474 0.0], [0.0 0.0; 0.00356913 0.0], [-13.9413 -2.32355e7; -47.6786 1.92419e7], [0.0 0.0; 0.000418137 0.0], [0.0 0.0; 0.0 0.0], [0.0 0.0; 0.979296 0.0]))   \n",
       " StencilPoint{StaticArrays.SArray{Tuple{2,2},Float64,2,4},3,7}(([0.0 0.0; 3.26312 0.0], [0.0 0.0; 0.0 0.0], [0.0 0.0; 0.000733191 0.0], [-9.80856 -1.63476e7; -38.4322 1.35379e7], [0.0 0.0; 0.00147437 0.0], [0.0 0.0; 0.502068 0.0], [0.0 0.0; 2.17398 0.0]))         StencilPoint{StaticArrays.SArray{Tuple{2,2},Float64,2,4},3,7}(([0.0 0.0; 0.979296 0.0], [0.0 0.0; 0.18147 0.0], [0.0 0.0; 0.00170579 0.0], [-15.8851 -2.64751e7; -54.9517 2.19247e7], [0.0 0.0; 0.000826763 0.0], [0.0 0.0; 0.0 0.0], [0.0 0.0; 1.16916 0.0]))\n",
       " StencilPoint{StaticArrays.SArray{Tuple{2,2},Float64,2,4},3,7}(([0.0 0.0; 2.17398 0.0], [0.0 0.0; 0.0 0.0], [0.0 0.0; 0.000611184 0.0], [-10.4488 -1.74147e7; -40.208 1.44215e7], [0.0 0.0; 0.00560579 0.0], [0.0 0.0; 0.740103 0.0], [0.0 0.0; 2.67604 0.0]))          StencilPoint{StaticArrays.SArray{Tuple{2,2},Float64,2,4},3,7}(([0.0 0.0; 1.16916 0.0], [0.0 0.0; 0.397921 0.0], [0.0 0.0; 0.0015828 0.0], [-12.2656 -2.04426e7; -44.7838 1.69291e7], [0.0 0.0; 0.00113851 0.0], [0.0 0.0; 0.0 0.0], [0.0 0.0; 2.58428 0.0]))  \n",
       " StencilPoint{StaticArrays.SArray{Tuple{2,2},Float64,2,4},3,7}(([0.0 0.0; 2.67604 0.0], [0.0 0.0; 0.0 0.0], [0.0 0.0; 0.000450686 0.0], [-7.0949 -1.18248e7; -27.8329 9.79244e6], [0.0 0.0; 0.0116416 0.0], [0.0 0.0; 0.877527 0.0], [0.0 0.0; 0.765369 0.0]))          StencilPoint{StaticArrays.SArray{Tuple{2,2},Float64,2,4},3,7}(([0.0 0.0; 2.58428 0.0], [0.0 0.0; 0.894489 0.0], [0.0 0.0; 0.00194967 0.0], [-16.7515 -2.79191e7; -62.1811 2.31205e7], [0.0 0.0; 0.00690602 0.0], [0.0 0.0; 0.0 0.0], [0.0 0.0; 3.20421 0.0])) \n",
       " StencilPoint{StaticArrays.SArray{Tuple{2,2},Float64,2,4},3,7}(([0.0 0.0; 0.765369 0.0], [0.0 0.0; 0.0 0.0], [0.0 0.0; 0.000646519 0.0], [-7.31889 -1.21981e7; -25.7935 1.01016e7], [0.0 0.0; 0.00291054 0.0], [0.0 0.0; 0.195552 0.0], [0.0 0.0; 0.585192 0.0]))       StencilPoint{StaticArrays.SArray{Tuple{2,2},Float64,2,4},3,7}(([0.0 0.0; 3.20421 0.0], [0.0 0.0; 0.710238 0.0], [0.0 0.0; 0.00172027 0.0], [-16.2241 -2.70402e7; -61.3853 2.23926e7], [0.0 0.0; 0.00255201 0.0], [0.0 0.0; 0.0 0.0], [0.0 0.0; 3.72426 0.0])) \n",
       " StencilPoint{StaticArrays.SArray{Tuple{2,2},Float64,2,4},3,7}(([0.0 0.0; 0.585192 0.0], [0.0 0.0; 0.0 0.0], [0.0 0.0; 0.000987083 0.0], [-4.07729 -6.79548e6; -15.0477 5.62751e6], [0.0 0.0; 0.00165257 0.0], [0.0 0.0; 0.271712 0.0], [0.0 0.0; 0.682146 0.0]))    …  StencilPoint{StaticArrays.SArray{Tuple{2,2},Float64,2,4},3,7}(([0.0 0.0; 3.72426 0.0], [0.0 0.0; 0.431335 0.0], [0.0 0.0; 0.00107063 0.0], [-15.5898 -2.5983e7; -60.2184 2.15172e7], [0.0 0.0; 0.00788428 0.0], [0.0 0.0; 0.0 0.0], [0.0 0.0; 4.4126 0.0]))   \n",
       " StencilPoint{StaticArrays.SArray{Tuple{2,2},Float64,2,4},3,7}(([0.0 0.0; 0.682146 0.0], [0.0 0.0; 0.0 0.0], [0.0 0.0; 0.00102871 0.0], [-2.6933 -4.48883e6; -10.6263 3.71731e6], [0.0 0.0; 0.00175252 0.0], [0.0 0.0; 0.221609 0.0], [0.0 0.0; 0.798172 0.0]))         StencilPoint{StaticArrays.SArray{Tuple{2,2},Float64,2,4},3,7}(([0.0 0.0; 4.4126 0.0], [0.0 0.0; 0.406082 0.0], [0.0 0.0; 0.00107288 0.0], [-17.8558 -2.97597e7; -67.4042 2.46447e7], [0.0 0.0; 0.0123165 0.0], [0.0 0.0; 0.0 0.0], [0.0 0.0; 3.42477 0.0]))   \n",
       " StencilPoint{StaticArrays.SArray{Tuple{2,2},Float64,2,4},3,7}(([0.0 0.0; 0.798172 0.0], [0.0 0.0; 0.0 0.0], [0.0 0.0; 0.00056198 0.0], [-6.14103 -1.02351e7; -24.1797 8.4759e6], [0.0 0.0; 0.00340861 0.0], [0.0 0.0; 0.557871 0.0], [0.0 0.0; 2.4775 0.0]))           StencilPoint{StaticArrays.SArray{Tuple{2,2},Float64,2,4},3,7}(([0.0 0.0; 3.42477 0.0], [0.0 0.0; 0.837101 0.0], [0.0 0.0; 0.00363645 0.0], [-19.8931 -3.31552e7; -72.1214 2.74567e7], [0.0 0.0; 0.0123054 0.0], [0.0 0.0; 0.0 0.0], [0.0 0.0; 1.94752 0.0]))  \n",
       " StencilPoint{StaticArrays.SArray{Tuple{2,2},Float64,2,4},3,7}(([0.0 0.0; 2.4775 0.0], [0.0 0.0; 0.0 0.0], [0.0 0.0; 0.00108022 0.0], [-11.6917 -1.94862e7; -45.044 1.6137e7], [0.0 0.0; 0.00298402 0.0], [0.0 0.0; 1.60451 0.0], [0.0 0.0; 2.22904 0.0]))              StencilPoint{StaticArrays.SArray{Tuple{2,2},Float64,2,4},3,7}(([0.0 0.0; 1.94752 0.0], [0.0 0.0; 0.625383 0.0], [0.0 0.0; 0.00517545 0.0], [-14.2007 -2.36678e7; -51.5375 1.95999e7], [0.0 0.0; 0.00508065 0.0], [0.0 0.0; 0.0 0.0], [0.0 0.0; 1.91453 0.0])) \n",
       " StencilPoint{StaticArrays.SArray{Tuple{2,2},Float64,2,4},3,7}(([0.0 0.0; 2.22904 0.0], [0.0 0.0; 0.0 0.0], [0.0 0.0; 0.000769853 0.0], [-12.4282 -2.07136e7; -44.2239 1.71535e7], [0.0 0.0; 0.000796087 0.0], [0.0 0.0; 0.198649 0.0], [0.0 0.0; 0.626363 0.0]))       StencilPoint{StaticArrays.SArray{Tuple{2,2},Float64,2,4},3,7}(([0.0 0.0; 1.91453 0.0], [0.0 0.0; 0.915795 0.0], [0.0 0.0; 0.0141635 0.0], [-16.0312 -2.67186e7; -59.8784 2.21263e7], [0.0 0.0; 0.0119387 0.0], [0.0 0.0; 0.0 0.0], [0.0 0.0; 3.91884 0.0]))   \n",
       " StencilPoint{StaticArrays.SArray{Tuple{2,2},Float64,2,4},3,7}(([0.0 0.0; 0.626363 0.0], [0.0 0.0; 0.0 0.0], [0.0 0.0; 0.000484273 0.0], [-16.1377 -2.68962e7; -54.4406 2.22734e7], [0.0 0.0; 0.00100198 0.0], [0.0 0.0; 0.102008 0.0], [0.0 0.0; 0.254524 0.0]))    …  StencilPoint{StaticArrays.SArray{Tuple{2,2},Float64,2,4},3,7}(([0.0 0.0; 3.91884 0.0], [0.0 0.0; 1.53315 0.0], [0.0 0.0; 0.0434569 0.0], [-13.7461 -2.29101e7; -60.8183 1.89725e7], [0.0 0.0; 0.0191911 0.0], [0.0 0.0; 0.0 0.0], [0.0 0.0; 9.76973 0.0]))    \n",
       " StencilPoint{StaticArrays.SArray{Tuple{2,2},Float64,2,4},3,7}(([0.0 0.0; 0.254524 0.0], [0.0 0.0; 0.0 0.0], [0.0 0.0; 0.000570511 0.0], [-18.1645 -3.02742e7; -60.6236 2.50709e7], [0.0 0.0; 0.00156222 0.0], [0.0 0.0; 0.0707209 0.0], [0.0 0.0; 0.126117 0.0]))      StencilPoint{StaticArrays.SArray{Tuple{2,2},Float64,2,4},3,7}(([0.0 0.0; 9.76973 0.0], [0.0 0.0; 2.0824 0.0], [0.0 0.0; 0.0401422 0.0], [-12.2966 -2.04944e7; -65.5041 1.69719e7], [0.0 0.0; 0.0303533 0.0], [0.0 0.0; 0.0 0.0], [0.0 0.0; 12.8489 0.0]))     \n",
       " StencilPoint{StaticArrays.SArray{Tuple{2,2},Float64,2,4},3,7}(([0.0 0.0; 0.126117 0.0], [0.0 0.0; 0.0 0.0], [0.0 0.0; 0.000220582 0.0], [-18.0902 -3.01503e7; -60.2422 2.49682e7], [0.0 0.0; 0.000857337 0.0], [0.0 0.0; 0.0344794 0.0], [0.0 0.0; 0.156819 0.0]))     StencilPoint{StaticArrays.SArray{Tuple{2,2},Float64,2,4},3,7}(([0.0 0.0; 12.8489 0.0], [0.0 0.0; 3.97549 0.0], [0.0 0.0; 0.0291524 0.0], [-11.4838 -1.91397e7; -68.4976 1.58501e7], [0.0 0.0; 0.0259927 0.0], [0.0 0.0; 0.0 0.0], [0.0 0.0; 13.5779 0.0]))    \n",
       " StencilPoint{StaticArrays.SArray{Tuple{2,2},Float64,2,4},3,7}(([0.0 0.0; 0.156819 0.0], [0.0 0.0; 0.0 0.0], [0.0 0.0; 0.000780585 0.0], [-18.2922 -3.0487e7; -61.5087 2.5247e7], [0.0 0.0; 0.00388872 0.0], [0.0 0.0; 0.12608 0.0], [0.0 0.0; 0.628234 0.0]))          StencilPoint{StaticArrays.SArray{Tuple{2,2},Float64,2,4},3,7}(([0.0 0.0; 13.5779 0.0], [0.0 0.0; 3.47831 0.0], [0.0 0.0; 0.0229555 0.0], [-10.7671 -1.79451e7; -62.9649 1.48608e7], [0.0 0.0; 0.0362552 0.0], [0.0 0.0; 0.0 0.0], [0.0 0.0; 10.1835 0.0]))    \n",
       " StencilPoint{StaticArrays.SArray{Tuple{2,2},Float64,2,4},3,7}(([0.0 0.0; 0.628234 0.0], [0.0 0.0; 0.0 0.0], [0.0 0.0; 0.00101169 0.0], [-18.7984 -3.13306e7; -64.6157 2.59457e7], [0.0 0.0; 0.00883286 0.0], [0.0 0.0; 0.184091 0.0], [0.0 0.0; 1.5239 0.0]))          StencilPoint{StaticArrays.SArray{Tuple{2,2},Float64,2,4},3,7}(([0.0 0.0; 10.1835 0.0], [0.0 0.0; 2.14201 0.0], [0.0 0.0; 0.0220144 0.0], [-13.302 -2.217e7; -67.6947 1.83595e7], [0.0 0.0; 0.0367584 0.0], [0.0 0.0; 0.0 0.0], [0.0 0.0; 11.2475 0.0]))       \n",
       " StencilPoint{StaticArrays.SArray{Tuple{2,2},Float64,2,4},3,7}(([0.0 0.0; 1.5239 0.0], [0.0 0.0; 0.0 0.0], [0.0 0.0; 0.00109514 0.0], [-21.5692 -3.59486e7; -73.5805 2.977e7], [0.0 0.0; 0.014287 0.0], [0.0 0.0; 0.56798 0.0], [0.0 0.0; 0.0 0.0]))                 …  StencilPoint{StaticArrays.SArray{Tuple{2,2},Float64,2,4},3,7}(([0.0 0.0; 11.2475 0.0], [0.0 0.0; 1.828 0.0], [0.0 0.0; 0.0237463 0.0], [-12.2895 -2.04824e7; -54.0464 1.6962e7], [0.0 0.0; 0.0501102 0.0], [0.0 0.0; 0.0 0.0], [0.0 0.0; 0.0 0.0]))           \n",
       "\n",
       "...\n",
       "\n",
       "[:, :, 14] =\n",
       " StencilPoint{StaticArrays.SArray{Tuple{2,2},Float64,2,4},3,7}(([0.0 0.0; 0.0 0.0], [0.0 0.0; 0.0 0.0], [0.0 0.0; 0.225991 0.0], [-15.9676 -2.66127e7; -206.578 2.20386e7], [0.0 0.0; 0.676947 0.0], [0.0 0.0; 92.1945 0.0], [0.0 0.0; 56.6269 0.0]))                  …  StencilPoint{StaticArrays.SArray{Tuple{2,2},Float64,2,4},3,7}(([0.0 0.0; 0.0 0.0], [0.0 0.0; 0.0208594 0.0], [0.0 0.0; 0.000345954 0.0], [-6.10716 -1.01786e7; -31.5268 8.42915e6], [0.0 0.0; 0.0652471 0.0], [0.0 0.0; 0.0 0.0], [0.0 0.0; 11.1335 0.0]))           \n",
       " StencilPoint{StaticArrays.SArray{Tuple{2,2},Float64,2,4},3,7}(([0.0 0.0; 56.6269 0.0], [0.0 0.0; 0.0 0.0], [0.0 0.0; 1.4244 0.0], [-15.0703 -2.51172e7; -153.367 2.08002e7], [0.0 0.0; 2.31289 0.0], [0.0 0.0; 9.65605 0.0], [0.0 0.0; 33.4264 0.0]))                    StencilPoint{StaticArrays.SArray{Tuple{2,2},Float64,2,4},3,7}(([0.0 0.0; 11.1335 0.0], [0.0 0.0; 0.0115635 0.0], [0.0 0.0; 0.00147863 0.0], [-4.33477 -7.22462e6; -25.9692 5.98289e6], [0.0 0.0; 0.3696 0.0], [0.0 0.0; 0.0 0.0], [0.0 0.0; 0.0940924 0.0]))         \n",
       " StencilPoint{StaticArrays.SArray{Tuple{2,2},Float64,2,4},3,7}(([0.0 0.0; 33.4264 0.0], [0.0 0.0; 0.0 0.0], [0.0 0.0; 956.227 0.0], [-13.8981 -2.31634e7; -1103.54 1.91822e7], [0.0 0.0; 1.22459 0.0], [0.0 0.0; 15.6277 0.0], [0.0 0.0; 50.9934 0.0]))                   StencilPoint{StaticArrays.SArray{Tuple{2,2},Float64,2,4},3,7}(([0.0 0.0; 0.0940924 0.0], [0.0 0.0; 0.00710504 0.0], [0.0 0.0; 0.000311834 0.0], [-6.17277 -1.02879e7; -20.601 8.51971e6], [0.0 0.0; 0.000148328 0.0], [0.0 0.0; 0.0 0.0], [0.0 0.0; 0.0520511 0.0])) \n",
       " StencilPoint{StaticArrays.SArray{Tuple{2,2},Float64,2,4},3,7}(([0.0 0.0; 50.9934 0.0], [0.0 0.0; 0.0 0.0], [0.0 0.0; 0.848587 0.0], [-13.1382 -2.1897e7; -205.759 1.81335e7], [0.0 0.0; 0.384285 0.0], [0.0 0.0; 22.8338 0.0], [0.0 0.0; 87.1787 0.0]))                  StencilPoint{StaticArrays.SArray{Tuple{2,2},Float64,2,4},3,7}(([0.0 0.0; 0.0520511 0.0], [0.0 0.0; 0.00840518 0.0], [0.0 0.0; 0.000139247 0.0], [-4.10681 -6.84469e6; -13.6909 5.66826e6], [0.0 0.0; 0.000148301 0.0], [0.0 0.0; 0.0 0.0], [0.0 0.0; 0.0263198 0.0]))\n",
       " StencilPoint{StaticArrays.SArray{Tuple{2,2},Float64,2,4},3,7}(([0.0 0.0; 87.1787 0.0], [0.0 0.0; 0.0 0.0], [0.0 0.0; 0.889561 0.0], [-15.1833 -2.53054e7; -293.75 2.09561e7], [0.0 0.0; 0.601702 0.0], [0.0 0.0; 29.6663 0.0], [0.0 0.0; 125.119 0.0]))                  StencilPoint{StaticArrays.SArray{Tuple{2,2},Float64,2,4},3,7}(([0.0 0.0; 0.0263198 0.0], [0.0 0.0; 0.00538867 0.0], [0.0 0.0; 7.87536e-5 0.0], [-7.61749 -1.26958e7; -25.2758 1.05137e7], [0.0 0.0; 0.000110374 0.0], [0.0 0.0; 0.0 0.0], [0.0 0.0; 0.0109299 0.0])) \n",
       " StencilPoint{StaticArrays.SArray{Tuple{2,2},Float64,2,4},3,7}(([0.0 0.0; 125.119 0.0], [0.0 0.0; 0.0 0.0], [0.0 0.0; 2.07868 0.0], [-14.538 -2.423e7; -499.055 2.00654e7], [0.0 0.0; 0.784791 0.0], [0.0 0.0; 69.1088 0.0], [0.0 0.0; 253.806 0.0]))                  …  StencilPoint{StaticArrays.SArray{Tuple{2,2},Float64,2,4},3,7}(([0.0 0.0; 0.0109299 0.0], [0.0 0.0; 0.00259524 0.0], [0.0 0.0; 6.26274e-5 0.0], [-5.09592 -8.49321e6; -16.9051 7.03344e6], [0.0 0.0; 6.16479e-5 0.0], [0.0 0.0; 0.0 0.0], [0.0 0.0; 0.0112175 0.0]))  \n",
       " StencilPoint{StaticArrays.SArray{Tuple{2,2},Float64,2,4},3,7}(([0.0 0.0; 253.806 0.0], [0.0 0.0; 0.0 0.0], [0.0 0.0; 3.17015 0.0], [-14.1322 -2.35537e7; -842.533 1.95054e7], [0.0 0.0; 1.73156 0.0], [0.0 0.0; 82.5981 0.0], [0.0 0.0; 454.413 0.0]))                   StencilPoint{StaticArrays.SArray{Tuple{2,2},Float64,2,4},3,7}(([0.0 0.0; 0.0112175 0.0], [0.0 0.0; 0.00556366 0.0], [0.0 0.0; 6.21586e-5 0.0], [-6.90303 -1.1505e7; -22.9081 9.52761e6], [0.0 0.0; 0.000100695 0.0], [0.0 0.0; 0.0 0.0], [0.0 0.0; 0.024865 0.0]))   \n",
       " StencilPoint{StaticArrays.SArray{Tuple{2,2},Float64,2,4},3,7}(([0.0 0.0; 454.413 0.0], [0.0 0.0; 0.0 0.0], [0.0 0.0; 0.110466 0.0], [-13.3617 -2.22694e7; -1982.89 1.84419e7], [0.0 0.0; 1.84867 0.0], [0.0 0.0; 347.236 0.0], [0.0 0.0; 1135.02 0.0]))                  StencilPoint{StaticArrays.SArray{Tuple{2,2},Float64,2,4},3,7}(([0.0 0.0; 0.024865 0.0], [0.0 0.0; 0.00508274 0.0], [0.0 0.0; 0.000236744 0.0], [-7.25785 -1.20964e7; -24.1294 1.00174e7], [0.0 0.0; 0.000227651 0.0], [0.0 0.0; 0.0 0.0], [0.0 0.0; 0.0573122 0.0])) \n",
       " StencilPoint{StaticArrays.SArray{Tuple{2,2},Float64,2,4},3,7}(([0.0 0.0; 1135.02 0.0], [0.0 0.0; 0.0 0.0], [0.0 0.0; 0.14182 0.0], [-15.976 -2.66267e7; -1191.12 2.20502e7], [0.0 0.0; 2.98223 0.0], [0.0 0.0; 0.0157681 0.0], [0.0 0.0; 0.0350393 0.0]))                StencilPoint{StaticArrays.SArray{Tuple{2,2},Float64,2,4},3,7}(([0.0 0.0; 0.0573122 0.0], [0.0 0.0; 0.0692068 0.0], [0.0 0.0; 0.000366046 0.0], [-9.97488 -1.66248e7; -33.253 1.37674e7], [0.0 0.0; 0.000334959 0.0], [0.0 0.0; 0.0 0.0], [0.0 0.0; 0.0840056 0.0]))  \n",
       " StencilPoint{StaticArrays.SArray{Tuple{2,2},Float64,2,4},3,7}(([0.0 0.0; 0.0350393 0.0], [0.0 0.0; 0.0 0.0], [0.0 0.0; 0.000114601 0.0], [-13.2972 -2.2162e7; -44.1133 1.83529e7], [0.0 0.0; 0.000138073 0.0], [0.0 0.0; 0.0104236 0.0], [0.0 0.0; 0.0206247 0.0]))      StencilPoint{StaticArrays.SArray{Tuple{2,2},Float64,2,4},3,7}(([0.0 0.0; 0.0840056 0.0], [0.0 0.0; 0.0388657 0.0], [0.0 0.0; 0.000246566 0.0], [-11.354 -1.89233e7; -37.8641 1.56709e7], [0.0 0.0; 0.000191488 0.0], [0.0 0.0; 0.0 0.0], [0.0 0.0; 0.130658 0.0]))   \n",
       " StencilPoint{StaticArrays.SArray{Tuple{2,2},Float64,2,4},3,7}(([0.0 0.0; 0.0206247 0.0], [0.0 0.0; 0.0 0.0], [0.0 0.0; 3.01172e-5 0.0], [-11.8321 -1.97202e7; -39.2652 1.63308e7], [0.0 0.0; 0.000201755 0.0], [0.0 0.0; 0.0149122 0.0], [0.0 0.0; 0.0356271 0.0]))   …  StencilPoint{StaticArrays.SArray{Tuple{2,2},Float64,2,4},3,7}(([0.0 0.0; 0.130658 0.0], [0.0 0.0; 4.93735 0.0], [0.0 0.0; 172.158 0.0], [-12.3822 -2.06369e7; -245.032 1.709e7], [0.0 0.0; 0.607922 0.0], [0.0 0.0; 0.0 0.0], [0.0 0.0; 26.1819 0.0]))               \n",
       " StencilPoint{StaticArrays.SArray{Tuple{2,2},Float64,2,4},3,7}(([0.0 0.0; 0.0356271 0.0], [0.0 0.0; 0.0 0.0], [0.0 0.0; 0.000287794 0.0], [-12.3397 -2.05661e7; -41.0152 1.70313e7], [0.0 0.0; 0.000612202 0.0], [0.0 0.0; 0.0366164 0.0], [0.0 0.0; 0.0669303 0.0]))     StencilPoint{StaticArrays.SArray{Tuple{2,2},Float64,2,4},3,7}(([0.0 0.0; 26.1819 0.0], [0.0 0.0; 8.56309 0.0], [0.0 0.0; 260.346 0.0], [-9.81802 -1.63634e7; -391.998 1.35509e7], [0.0 0.0; 0.281397 0.0], [0.0 0.0; 0.0 0.0], [0.0 0.0; 64.103 0.0]))               \n",
       " StencilPoint{StaticArrays.SArray{Tuple{2,2},Float64,2,4},3,7}(([0.0 0.0; 0.0669303 0.0], [0.0 0.0; 0.0 0.0], [0.0 0.0; 0.000383403 0.0], [-14.4589 -2.40981e7; -48.1532 1.99563e7], [0.0 0.0; 0.000730083 0.0], [0.0 0.0; 0.0435819 0.0], [0.0 0.0; 0.146596 0.0]))      StencilPoint{StaticArrays.SArray{Tuple{2,2},Float64,2,4},3,7}(([0.0 0.0; 64.103 0.0], [0.0 0.0; 0.0290045 0.0], [0.0 0.0; 0.322713 0.0], [-11.3171 -1.88618e7; -170.952 1.56199e7], [0.0 0.0; 0.840559 0.0], [0.0 0.0; 0.0 0.0], [0.0 0.0; 68.169 0.0]))             \n",
       " StencilPoint{StaticArrays.SArray{Tuple{2,2},Float64,2,4},3,7}(([0.0 0.0; 0.146596 0.0], [0.0 0.0; 0.0 0.0], [0.0 0.0; 0.000727817 0.0], [-12.2877 -2.04795e7; -250.455 1.69596e7], [0.0 0.0; 1.90708 0.0], [0.0 0.0; 41.8639 0.0], [0.0 0.0; 165.834 0.0]))              StencilPoint{StaticArrays.SArray{Tuple{2,2},Float64,2,4},3,7}(([0.0 0.0; 68.169 0.0], [0.0 0.0; 0.00908452 0.0], [0.0 0.0; 0.163303 0.0], [-11.8021 -1.96702e7; -192.562 1.62894e7], [0.0 0.0; 0.230302 0.0], [0.0 0.0; 0.0 0.0], [0.0 0.0; 84.8958 0.0]))           \n",
       " StencilPoint{StaticArrays.SArray{Tuple{2,2},Float64,2,4},3,7}(([0.0 0.0; 165.834 0.0], [0.0 0.0; 0.0 0.0], [0.0 0.0; 0.000735231 0.0], [-15.9719 -2.66198e7; -483.515 2.20445e7], [0.0 0.0; 1.45514 0.0], [0.0 0.0; 44.8651 0.0], [0.0 0.0; 218.454 0.0]))               StencilPoint{StaticArrays.SArray{Tuple{2,2},Float64,2,4},3,7}(([0.0 0.0; 84.8958 0.0], [0.0 0.0; 0.00674723 0.0], [0.0 0.0; 0.884314 0.0], [-13.8174 -2.3029e7; -132.974 1.90709e7], [0.0 0.0; 1.36822 0.0], [0.0 0.0; 0.0 0.0], [0.0 0.0; 0.0487321 0.0]))          \n",
       " StencilPoint{StaticArrays.SArray{Tuple{2,2},Float64,2,4},3,7}(([0.0 0.0; 218.454 0.0], [0.0 0.0; 0.0 0.0], [0.0 0.0; 0.000315151 0.0], [-17.2309 -2.87182e7; -416.442 2.37822e7], [0.0 0.0; 0.793347 0.0], [0.0 0.0; 135.05 0.0], [0.0 0.0; 0.0 0.0]))                …  StencilPoint{StaticArrays.SArray{Tuple{2,2},Float64,2,4},3,7}(([0.0 0.0; 0.0487321 0.0], [0.0 0.0; 0.00798427 0.0], [0.0 0.0; 6.60373e-5 0.0], [-13.4696 -2.24493e7; -44.6753 1.85909e7], [0.0 0.0; 0.000192518 0.0], [0.0 0.0; 0.0 0.0], [0.0 0.0; 0.0 0.0]))       \n",
       "\n",
       "[:, :, 15] =\n",
       " StencilPoint{StaticArrays.SArray{Tuple{2,2},Float64,2,4},3,7}(([0.0 0.0; 0.0 0.0], [0.0 0.0; 0.0 0.0], [0.0 0.0; 0.676947 0.0], [-1.28588 -2.14314e6; -149.804 1.77479e6], [0.0 0.0; 0.596773 0.0], [0.0 0.0; 18.6935 0.0], [0.0 0.0; 124.579 0.0]))                 …  StencilPoint{StaticArrays.SArray{Tuple{2,2},Float64,2,4},3,7}(([0.0 0.0; 0.0 0.0], [0.0 0.0; 0.00942151 0.0], [0.0 0.0; 0.0652471 0.0], [-11.9498 -1.99164e7; -52.8001 1.64932e7], [0.0 0.0; 1.4496 0.0], [0.0 0.0; 0.0 0.0], [0.0 0.0; 11.5429 0.0]))              \n",
       " StencilPoint{StaticArrays.SArray{Tuple{2,2},Float64,2,4},3,7}(([0.0 0.0; 124.579 0.0], [0.0 0.0; 0.0 0.0], [0.0 0.0; 2.31289 0.0], [-3.19987 -5.33311e6; -307.619 4.41648e6], [0.0 0.0; 2.3169 0.0], [0.0 0.0; 6.86267 0.0], [0.0 0.0; 160.948 0.0]))                   StencilPoint{StaticArrays.SArray{Tuple{2,2},Float64,2,4},3,7}(([0.0 0.0; 11.5429 0.0], [0.0 0.0; 0.00384775 0.0], [0.0 0.0; 0.3696 0.0], [-9.48173 -1.58029e7; -211.24 1.30868e7], [0.0 0.0; 167.872 0.0], [0.0 0.0; 0.0 0.0], [0.0 0.0; 0.0434416 0.0]))           \n",
       " StencilPoint{StaticArrays.SArray{Tuple{2,2},Float64,2,4},3,7}(([0.0 0.0; 160.948 0.0], [0.0 0.0; 0.0 0.0], [0.0 0.0; 1.22459 0.0], [-2.80193 -4.66989e6; -287.13 3.86725e6], [0.0 0.0; 1.22526 0.0], [0.0 0.0; 24.8416 0.0], [0.0 0.0; 89.6097 0.0]))                   StencilPoint{StaticArrays.SArray{Tuple{2,2},Float64,2,4},3,7}(([0.0 0.0; 0.0434416 0.0], [0.0 0.0; 0.00802569 0.0], [0.0 0.0; 0.000148328 0.0], [-8.14558 -1.3576e7; -27.0548 1.12426e7], [0.0 0.0; 0.00013632 0.0], [0.0 0.0; 0.0 0.0], [0.0 0.0; 0.0208424 0.0])) \n",
       " StencilPoint{StaticArrays.SArray{Tuple{2,2},Float64,2,4},3,7}(([0.0 0.0; 89.6097 0.0], [0.0 0.0; 0.0 0.0], [0.0 0.0; 0.384285 0.0], [-3.35581 -5.59301e6; -219.974 4.63171e6], [0.0 0.0; 0.331558 0.0], [0.0 0.0; 16.2463 0.0], [0.0 0.0; 102.286 0.0]))                StencilPoint{StaticArrays.SArray{Tuple{2,2},Float64,2,4},3,7}(([0.0 0.0; 0.0208424 0.0], [0.0 0.0; 0.00528505 0.0], [0.0 0.0; 0.000148301 0.0], [-4.70188 -7.83647e6; -15.6259 6.48958e6], [0.0 0.0; 0.000103418 0.0], [0.0 0.0; 0.0 0.0], [0.0 0.0; 0.024541 0.0]))\n",
       " StencilPoint{StaticArrays.SArray{Tuple{2,2},Float64,2,4},3,7}(([0.0 0.0; 102.286 0.0], [0.0 0.0; 0.0 0.0], [0.0 0.0; 0.601702 0.0], [-0.646489 -1.07748e6; -288.156 8.92289e5], [0.0 0.0; 1.85783 0.0], [0.0 0.0; 30.6144 0.0], [0.0 0.0; 150.654 0.0]))                StencilPoint{StaticArrays.SArray{Tuple{2,2},Float64,2,4},3,7}(([0.0 0.0; 0.024541 0.0], [0.0 0.0; 0.00544419 0.0], [0.0 0.0; 0.000110374 0.0], [-6.02248 -1.00375e7; -20.0087 8.31227e6], [0.0 0.0; 0.000168269 0.0], [0.0 0.0; 0.0 0.0], [0.0 0.0; 0.0290051 0.0]))\n",
       " StencilPoint{StaticArrays.SArray{Tuple{2,2},Float64,2,4},3,7}(([0.0 0.0; 150.654 0.0], [0.0 0.0; 0.0 0.0], [0.0 0.0; 0.784791 0.0], [-2.99289 -4.98815e6; -396.514 4.13081e6], [0.0 0.0; 1.25885 0.0], [0.0 0.0; 44.7458 0.0], [0.0 0.0; 189.156 0.0]))              …  StencilPoint{StaticArrays.SArray{Tuple{2,2},Float64,2,4},3,7}(([0.0 0.0; 0.0290051 0.0], [0.0 0.0; 0.00408989 0.0], [0.0 0.0; 6.16479e-5 0.0], [-6.33092 -1.05515e7; -21.0287 8.73799e6], [0.0 0.0; 0.000104352 0.0], [0.0 0.0; 0.0 0.0], [0.0 0.0; 0.0242943 0.0]))\n",
       " StencilPoint{StaticArrays.SArray{Tuple{2,2},Float64,2,4},3,7}(([0.0 0.0; 189.156 0.0], [0.0 0.0; 0.0 0.0], [0.0 0.0; 1.73156 0.0], [-4.06897 -6.78162e6; -602.218 5.61603e6], [0.0 0.0; 3.74236 0.0], [0.0 0.0; 97.5695 0.0], [0.0 0.0; 296.54 0.0]))                   StencilPoint{StaticArrays.SArray{Tuple{2,2},Float64,2,4},3,7}(([0.0 0.0; 0.0242943 0.0], [0.0 0.0; 0.00800809 0.0], [0.0 0.0; 0.000100695 0.0], [-4.47286 -7.45476e6; -14.881 6.17347e6], [0.0 0.0; 0.000117956 0.0], [0.0 0.0; 0.0 0.0], [0.0 0.0; 0.0320996 0.0]))\n",
       " StencilPoint{StaticArrays.SArray{Tuple{2,2},Float64,2,4},3,7}(([0.0 0.0; 296.54 0.0], [0.0 0.0; 0.0 0.0], [0.0 0.0; 1.84867 0.0], [-11.043 -1.8405e7; -664.287 1.52417e7], [0.0 0.0; 0.589254 0.0], [0.0 0.0; 59.3873 0.0], [0.0 0.0; 269.342 0.0]))                    StencilPoint{StaticArrays.SArray{Tuple{2,2},Float64,2,4},3,7}(([0.0 0.0; 0.0320996 0.0], [0.0 0.0; 0.0130867 0.0], [0.0 0.0; 0.000227651 0.0], [-7.49909 -1.24985e7; -24.9382 1.03503e7], [0.0 0.0; 0.000268958 0.0], [0.0 0.0; 0.0 0.0], [0.0 0.0; 0.0517742 0.0]))\n",
       " StencilPoint{StaticArrays.SArray{Tuple{2,2},Float64,2,4},3,7}(([0.0 0.0; 269.342 0.0], [0.0 0.0; 0.0 0.0], [0.0 0.0; 2.98223 0.0], [-13.401 -2.2335e7; -317.266 1.84962e7], [0.0 0.0; 0.394714 0.0], [0.0 0.0; 0.0237924 0.0], [0.0 0.0; 0.13245 0.0]))                 StencilPoint{StaticArrays.SArray{Tuple{2,2},Float64,2,4},3,7}(([0.0 0.0; 0.0517742 0.0], [0.0 0.0; 0.0280274 0.0], [0.0 0.0; 0.000334959 0.0], [-10.2704 -1.71174e7; -34.1354 1.41753e7], [0.0 0.0; 3.88186e-9 0.0], [0.0 0.0; 0.0 0.0], [0.0 0.0; 0.0344917 0.0])) \n",
       " StencilPoint{StaticArrays.SArray{Tuple{2,2},Float64,2,4},3,7}(([0.0 0.0; 0.13245 0.0], [0.0 0.0; 0.0 0.0], [0.0 0.0; 0.000138073 0.0], [-10.0957 -1.68262e7; -33.6955 1.39342e7], [0.0 0.0; 0.000150843 0.0], [0.0 0.0; 0.0394121 0.0], [0.0 0.0; 0.0813096 0.0]))      StencilPoint{StaticArrays.SArray{Tuple{2,2},Float64,2,4},3,7}(([0.0 0.0; 0.0344917 0.0], [0.0 0.0; 0.0161594 0.0], [0.0 0.0; 0.000191488 0.0], [-8.32478 -1.38746e7; -27.6812 1.14899e7], [0.0 0.0; 0.000220879 0.0], [0.0 0.0; 0.0 0.0], [0.0 0.0; 0.0543279 0.0]))\n",
       " StencilPoint{StaticArrays.SArray{Tuple{2,2},Float64,2,4},3,7}(([0.0 0.0; 0.0813096 0.0], [0.0 0.0; 0.0 0.0], [0.0 0.0; 0.000201755 0.0], [-13.7744 -2.29573e7; -45.9819 1.90115e7], [0.0 0.0; 0.000330332 0.0], [0.0 0.0; 0.0626145 0.0], [0.0 0.0; 0.209765 0.0]))  …  StencilPoint{StaticArrays.SArray{Tuple{2,2},Float64,2,4},3,7}(([0.0 0.0; 0.0543279 0.0], [0.0 0.0; 23.6562 0.0], [0.0 0.0; 0.607922 0.0], [-6.54316 -1.09053e7; -84.9649 9.03093e6], [0.0 0.0; 0.34813 0.0], [0.0 0.0; 0.0 0.0], [0.0 0.0; 38.6241 0.0]))           \n",
       " StencilPoint{StaticArrays.SArray{Tuple{2,2},Float64,2,4},3,7}(([0.0 0.0; 0.209765 0.0], [0.0 0.0; 0.0 0.0], [0.0 0.0; 0.000612202 0.0], [-14.4146 -2.40244e7; -105.114 1.98952e7], [0.0 0.0; 0.160348 0.0], [0.0 0.0; 13.3491 0.0], [0.0 0.0; 43.6454 0.0]))            StencilPoint{StaticArrays.SArray{Tuple{2,2},Float64,2,4},3,7}(([0.0 0.0; 38.6241 0.0], [0.0 0.0; 10.6075 0.0], [0.0 0.0; 0.281397 0.0], [-5.91163 -9.85271e6; -111.56 8.15928e6], [0.0 0.0; 0.144721 0.0], [0.0 0.0; 0.0 0.0], [0.0 0.0; 42.3197 0.0]))             \n",
       " StencilPoint{StaticArrays.SArray{Tuple{2,2},Float64,2,4},3,7}(([0.0 0.0; 43.6454 0.0], [0.0 0.0; 0.0 0.0], [0.0 0.0; 0.000730083 0.0], [-8.97173 -1.49529e7; -190.194 1.23829e7], [0.0 0.0; 0.2076 0.0], [0.0 0.0; 25.7746 0.0], [0.0 0.0; 90.8471 0.0]))               StencilPoint{StaticArrays.SArray{Tuple{2,2},Float64,2,4},3,7}(([0.0 0.0; 42.3197 0.0], [0.0 0.0; 0.0122258 0.0], [0.0 0.0; 0.840559 0.0], [-11.5114 -1.91856e7; -117.676 1.58881e7], [0.0 0.0; 0.0857199 0.0], [0.0 0.0; 0.0 0.0], [0.0 0.0; 36.2865 0.0]))         \n",
       " StencilPoint{StaticArrays.SArray{Tuple{2,2},Float64,2,4},3,7}(([0.0 0.0; 90.8471 0.0], [0.0 0.0; 0.0 0.0], [0.0 0.0; 1.90708 0.0], [-8.97684 -1.49614e7; -198.598 1.23899e7], [0.0 0.0; 1.40177 0.0], [0.0 0.0; 25.6765 0.0], [0.0 0.0; 49.03 0.0]))                    StencilPoint{StaticArrays.SArray{Tuple{2,2},Float64,2,4},3,7}(([0.0 0.0; 36.2865 0.0], [0.0 0.0; 0.00722667 0.0], [0.0 0.0; 0.230302 0.0], [-11.23 -1.87167e7; -113.371 1.54998e7], [0.0 0.0; 0.0799323 0.0], [0.0 0.0; 0.0 0.0], [0.0 0.0; 39.5674 0.0]))          \n",
       " StencilPoint{StaticArrays.SArray{Tuple{2,2},Float64,2,4},3,7}(([0.0 0.0; 49.03 0.0], [0.0 0.0; 0.0 0.0], [0.0 0.0; 1.45514 0.0], [-11.3694 -1.8949e7; -148.79 1.56921e7], [0.0 0.0; 2.47401 0.0], [0.0 0.0; 9.36829 0.0], [0.0 0.0; 48.801 0.0]))                       StencilPoint{StaticArrays.SArray{Tuple{2,2},Float64,2,4},3,7}(([0.0 0.0; 39.5674 0.0], [0.0 0.0; 0.0211987 0.0], [0.0 0.0; 1.36822 0.0], [-11.6454 -1.9409e7; -79.7985 1.60731e7], [0.0 0.0; 0.0800922 0.0], [0.0 0.0; 0.0 0.0], [0.0 0.0; 0.186193 0.0]))          \n",
       " StencilPoint{StaticArrays.SArray{Tuple{2,2},Float64,2,4},3,7}(([0.0 0.0; 48.801 0.0], [0.0 0.0; 0.0 0.0], [0.0 0.0; 0.793347 0.0], [-8.5162 -1.41937e7; -104.73 1.17541e7], [0.0 0.0; 0.441198 0.0], [0.0 0.0; 25.3381 0.0], [0.0 0.0; 0.0 0.0]))                    …  StencilPoint{StaticArrays.SArray{Tuple{2,2},Float64,2,4},3,7}(([0.0 0.0; 0.186193 0.0], [0.0 0.0; 2.31791e-11 0.0], [0.0 0.0; 0.000192518 0.0], [-10.8549 -1.80915e7; -36.1448 1.4982e7], [0.0 0.0; 0.000524784 0.0], [0.0 0.0; 0.0 0.0], [0.0 0.0; 0.0 0.0]))      \n",
       "\n",
       "[:, :, 16] =\n",
       " StencilPoint{StaticArrays.SArray{Tuple{2,2},Float64,2,4},3,7}(([0.0 0.0; 0.0 0.0], [0.0 0.0; 0.0 0.0], [0.0 0.0; 0.596773 0.0], [-1.95991 -3.26652e6; -219.371 2.70509e6], [0.0 0.0; 0.0 0.0], [0.0 0.0; 76.0361 0.0], [0.0 0.0; 133.87 0.0]))                …  StencilPoint{StaticArrays.SArray{Tuple{2,2},Float64,2,4},3,7}(([0.0 0.0; 0.0 0.0], [0.0 0.0; 0.0308802 0.0], [0.0 0.0; 1.4496 0.0], [-0.892985 -1.48831e6; -25.7238 1.2325e6], [0.0 0.0; 0.0 0.0], [0.0 0.0; 0.0 0.0], [0.0 0.0; 19.5697 0.0]))                  \n",
       " StencilPoint{StaticArrays.SArray{Tuple{2,2},Float64,2,4},3,7}(([0.0 0.0; 133.87 0.0], [0.0 0.0; 0.0 0.0], [0.0 0.0; 2.3169 0.0], [-5.43931 -9.06552e6; -261.967 7.50738e6], [0.0 0.0; 0.0 0.0], [0.0 0.0; 24.8636 0.0], [0.0 0.0; 82.8995 0.0]))                 StencilPoint{StaticArrays.SArray{Tuple{2,2},Float64,2,4},3,7}(([0.0 0.0; 19.5697 0.0], [0.0 0.0; 0.00498461 0.0], [0.0 0.0; 167.872 0.0], [-0.162957 -2.71595e5; -188.06 224915.0], [0.0 0.0; 0.0 0.0], [0.0 0.0; 0.0 0.0], [0.0 0.0; 0.073416 0.0]))            \n",
       " StencilPoint{StaticArrays.SArray{Tuple{2,2},Float64,2,4},3,7}(([0.0 0.0; 82.8995 0.0], [0.0 0.0; 0.0 0.0], [0.0 0.0; 1.22526 0.0], [-15.6843 -2.61404e7; -226.621 2.16475e7], [0.0 0.0; 0.0 0.0], [0.0 0.0; 23.8625 0.0], [0.0 0.0; 66.6798 0.0]))               StencilPoint{StaticArrays.SArray{Tuple{2,2},Float64,2,4},3,7}(([0.0 0.0; 0.073416 0.0], [0.0 0.0; 0.00892421 0.0], [0.0 0.0; 0.00013632 0.0], [-1.19082 -1.98471e6; -4.05429 1.64359e6], [0.0 0.0; 0.0 0.0], [0.0 0.0; 0.0 0.0], [0.0 0.0; 0.027209 0.0]))       \n",
       " StencilPoint{StaticArrays.SArray{Tuple{2,2},Float64,2,4},3,7}(([0.0 0.0; 66.6798 0.0], [0.0 0.0; 0.0 0.0], [0.0 0.0; 0.331558 0.0], [-11.7797 -1.96328e7; -230.786 1.62584e7], [0.0 0.0; 0.0 0.0], [0.0 0.0; 26.3165 0.0], [0.0 0.0; 98.4383 0.0]))              StencilPoint{StaticArrays.SArray{Tuple{2,2},Float64,2,4},3,7}(([0.0 0.0; 0.027209 0.0], [0.0 0.0; 0.00788694 0.0], [0.0 0.0; 0.000103418 0.0], [-15.2582 -2.54303e7; -50.6049 2.10595e7], [0.0 0.0; 0.0 0.0], [0.0 0.0; 0.0 0.0], [0.0 0.0; 0.0269951 0.0]))     \n",
       " StencilPoint{StaticArrays.SArray{Tuple{2,2},Float64,2,4},3,7}(([0.0 0.0; 98.4383 0.0], [0.0 0.0; 0.0 0.0], [0.0 0.0; 1.85783 0.0], [-14.6398 -2.43997e7; -355.257 2.0206e7], [0.0 0.0; 0.0 0.0], [0.0 0.0; 69.0109 0.0], [0.0 0.0; 137.456 0.0]))                StencilPoint{StaticArrays.SArray{Tuple{2,2},Float64,2,4},3,7}(([0.0 0.0; 0.0269951 0.0], [0.0 0.0; 0.00256045 0.0], [0.0 0.0; 0.000168269 0.0], [-2.82383 -4.70638e6; -9.40698 3.89747e6], [0.0 0.0; 0.0 0.0], [0.0 0.0; 0.0 0.0], [0.0 0.0; 0.0233189 0.0]))    \n",
       " StencilPoint{StaticArrays.SArray{Tuple{2,2},Float64,2,4},3,7}(([0.0 0.0; 137.456 0.0], [0.0 0.0; 0.0 0.0], [0.0 0.0; 1.25885 0.0], [-9.24126 -1.54021e7; -313.786 1.27549e7], [0.0 0.0; 0.0 0.0], [0.0 0.0; 30.4762 0.0], [0.0 0.0; 113.984 0.0]))            …  StencilPoint{StaticArrays.SArray{Tuple{2,2},Float64,2,4},3,7}(([0.0 0.0; 0.0233189 0.0], [0.0 0.0; 0.00456886 0.0], [0.0 0.0; 0.000104352 0.0], [-1.08531 -1.80886e6; -3.64357 1.49796e6], [0.0 0.0; 0.0 0.0], [0.0 0.0; 0.0 0.0], [0.0 0.0; 0.0204796 0.0]))    \n",
       " StencilPoint{StaticArrays.SArray{Tuple{2,2},Float64,2,4},3,7}(([0.0 0.0; 113.984 0.0], [0.0 0.0; 0.0 0.0], [0.0 0.0; 3.74236 0.0], [-13.2953 -2.21588e7; -289.006 1.83503e7], [0.0 0.0; 0.0 0.0], [0.0 0.0; 28.5978 0.0], [0.0 0.0; 98.6413 0.0]))               StencilPoint{StaticArrays.SArray{Tuple{2,2},Float64,2,4},3,7}(([0.0 0.0; 0.0204796 0.0], [0.0 0.0; 0.010876 0.0], [0.0 0.0; 0.000117956 0.0], [-0.120616 -2.01026e5; -0.46478 166475.0], [0.0 0.0; 0.0 0.0], [0.0 0.0; 0.0 0.0], [0.0 0.0; 0.0337667 0.0]))      \n",
       " StencilPoint{StaticArrays.SArray{Tuple{2,2},Float64,2,4},3,7}(([0.0 0.0; 98.6413 0.0], [0.0 0.0; 0.0 0.0], [0.0 0.0; 0.589254 0.0], [-13.5817 -2.26361e7; -227.573 1.87455e7], [0.0 0.0; 0.0 0.0], [0.0 0.0; 25.7722 0.0], [0.0 0.0; 57.5813 0.0]))              StencilPoint{StaticArrays.SArray{Tuple{2,2},Float64,2,4},3,7}(([0.0 0.0; 0.0337667 0.0], [0.0 0.0; 0.0180435 0.0], [0.0 0.0; 0.000268958 0.0], [-7.91327 -1.31888e7; -26.2648 1.0922e7], [0.0 0.0; 0.0 0.0], [0.0 0.0; 0.0 0.0], [0.0 0.0; 7.79074e-11 0.0]))    \n",
       " StencilPoint{StaticArrays.SArray{Tuple{2,2},Float64,2,4},3,7}(([0.0 0.0; 57.5813 0.0], [0.0 0.0; 0.0 0.0], [0.0 0.0; 0.394714 0.0], [-4.223 -7.03834e6; -72.0163 5.82863e6], [0.0 0.0; 0.0 0.0], [0.0 0.0; 0.0123646 0.0], [0.0 0.0; 0.0392235 0.0]))            StencilPoint{StaticArrays.SArray{Tuple{2,2},Float64,2,4},3,7}(([0.0 0.0; 7.79074e-11 0.0], [0.0 0.0; 2.31791e-11 0.0], [0.0 0.0; 3.88186e-9 0.0], [-4.86751 -8.11252e6; -16.1236 6.71818e6], [0.0 0.0; 0.0 0.0], [0.0 0.0; 0.0 0.0], [0.0 0.0; 7.79074e-11 0.0]))\n",
       " StencilPoint{StaticArrays.SArray{Tuple{2,2},Float64,2,4},3,7}(([0.0 0.0; 0.0392235 0.0], [0.0 0.0; 0.0 0.0], [0.0 0.0; 0.000150843 0.0], [-9.53094 -1.58849e7; -31.6502 1.31547e7], [0.0 0.0; 0.0 0.0], [0.0 0.0; 0.0116744 0.0], [0.0 0.0; 0.0279193 0.0]))     StencilPoint{StaticArrays.SArray{Tuple{2,2},Float64,2,4},3,7}(([0.0 0.0; 7.79074e-11 0.0], [0.0 0.0; 0.0714315 0.0], [0.0 0.0; 0.000220879 0.0], [-0.290973 -4.84956e5; -1.27554 4.01604e5], [0.0 0.0; 0.0 0.0], [0.0 0.0; 0.0 0.0], [0.0 0.0; 0.240036 0.0]))   \n",
       " StencilPoint{StaticArrays.SArray{Tuple{2,2},Float64,2,4},3,7}(([0.0 0.0; 0.0279193 0.0], [0.0 0.0; 0.0 0.0], [0.0 0.0; 0.000330332 0.0], [-10.0165 -1.66941e7; -33.3332 1.38248e7], [0.0 0.0; 0.0 0.0], [0.0 0.0; 0.0287895 0.0], [0.0 0.0; 0.0966396 0.0]))  …  StencilPoint{StaticArrays.SArray{Tuple{2,2},Float64,2,4},3,7}(([0.0 0.0; 0.240036 0.0], [0.0 0.0; 22.079 0.0], [0.0 0.0; 0.34813 0.0], [-1.5484 -2.58067e6; -71.5562 2.13711e6], [0.0 0.0; 0.0 0.0], [0.0 0.0; 0.0 0.0], [0.0 0.0; 43.76 0.0]))                  \n",
       " StencilPoint{StaticArrays.SArray{Tuple{2,2},Float64,2,4},3,7}(([0.0 0.0; 0.0966396 0.0], [0.0 0.0; 0.0 0.0], [0.0 0.0; 0.160348 0.0], [-5.87234 -9.78723e6; -66.9224 8.10505e6], [0.0 0.0; 0.0 0.0], [0.0 0.0; 16.1226 0.0], [0.0 0.0; 31.0908 0.0]))            StencilPoint{StaticArrays.SArray{Tuple{2,2},Float64,2,4},3,7}(([0.0 0.0; 43.76 0.0], [0.0 0.0; 7.48521 0.0], [0.0 0.0; 0.144721 0.0], [-0.877269 -1.46211e6; -68.8038 1.21081e6], [0.0 0.0; 0.0 0.0], [0.0 0.0; 0.0 0.0], [0.0 0.0; 14.5079 0.0]))               \n",
       " StencilPoint{StaticArrays.SArray{Tuple{2,2},Float64,2,4},3,7}(([0.0 0.0; 31.0908 0.0], [0.0 0.0; 0.0 0.0], [0.0 0.0; 0.2076 0.0], [-8.54946 -1.42491e7; -122.117 1.18e7], [0.0 0.0; 0.0 0.0], [0.0 0.0; 16.1448 0.0], [0.0 0.0; 46.3539 0.0]))                   StencilPoint{StaticArrays.SArray{Tuple{2,2},Float64,2,4},3,7}(([0.0 0.0; 14.5079 0.0], [0.0 0.0; 0.0107699 0.0], [0.0 0.0; 0.0857199 0.0], [-1.08577 -1.80962e6; -28.9647 1.49859e6], [0.0 0.0; 0.0 0.0], [0.0 0.0; 0.0 0.0], [0.0 0.0; 10.7636 0.0]))           \n",
       " StencilPoint{StaticArrays.SArray{Tuple{2,2},Float64,2,4},3,7}(([0.0 0.0; 46.3539 0.0], [0.0 0.0; 0.0 0.0], [0.0 0.0; 1.40177 0.0], [-4.58928 -7.64879e6; -303.527 6.33416e6], [0.0 0.0; 0.0 0.0], [0.0 0.0; 60.7709 0.0], [0.0 0.0; 179.798 0.0]))               StencilPoint{StaticArrays.SArray{Tuple{2,2},Float64,2,4},3,7}(([0.0 0.0; 10.7636 0.0], [0.0 0.0; 0.00910381 0.0], [0.0 0.0; 0.0799323 0.0], [-7.59735 -1.26622e7; -46.0919 1.04859e7], [0.0 0.0; 0.0 0.0], [0.0 0.0; 0.0 0.0], [0.0 0.0; 10.073 0.0]))           \n",
       " StencilPoint{StaticArrays.SArray{Tuple{2,2},Float64,2,4},3,7}(([0.0 0.0; 179.798 0.0], [0.0 0.0; 0.0 0.0], [0.0 0.0; 2.47401 0.0], [-0.584769 -9.74616e5; -392.5 8.07104e5], [0.0 0.0; 0.0 0.0], [0.0 0.0; 86.0473 0.0], [0.0 0.0; 122.243 0.0]))                StencilPoint{StaticArrays.SArray{Tuple{2,2},Float64,2,4},3,7}(([0.0 0.0; 10.073 0.0], [0.0 0.0; 0.0397626 0.0], [0.0 0.0; 0.0800922 0.0], [-5.27429 -8.79049e6; -27.9028 7.27962e6], [0.0 0.0; 0.0 0.0], [0.0 0.0; 0.0 0.0], [0.0 0.0; 0.23888 0.0]))            \n",
       " StencilPoint{StaticArrays.SArray{Tuple{2,2},Float64,2,4},3,7}(([0.0 0.0; 122.243 0.0], [0.0 0.0; 0.0 0.0], [0.0 0.0; 0.441198 0.0], [-15.2582 -2.54303e7; -198.292 2.10595e7], [0.0 0.0; 0.0 0.0], [0.0 0.0; 24.1129 0.0], [0.0 0.0; 0.0 0.0]))               …  StencilPoint{StaticArrays.SArray{Tuple{2,2},Float64,2,4},3,7}(([0.0 0.0; 0.23888 0.0], [0.0 0.0; 0.0169015 0.0], [0.0 0.0; 0.000524784 0.0], [-8.17533 -1.36255e7; -27.3385 1.12837e7], [0.0 0.0; 0.0 0.0], [0.0 0.0; 0.0 0.0], [0.0 0.0; 0.0 0.0]))             "
      ]
     },
     "execution_count": 43,
     "metadata": {},
     "output_type": "execute_result"
    }
   ],
   "source": [
    "SS"
   ]
  },
  {
   "cell_type": "code",
   "execution_count": 32,
   "metadata": {
    "collapsed": true
   },
   "outputs": [],
   "source": [
    "N = Nx*Ny*Nz\n",
    "Nxy = Nx*Ny\n",
    "stencilarray_P = Array{StencilPoint{typeof(@SMatrix(randn(2,2))),3,7},3}(Nx,Ny,Nz)\n",
    "for i in 1:Nx, j in 1:Ny, k in 1:Nz\n",
    "    temp = [@SMatrix(zeros(2,2)) for xxx in 1:7]\n",
    "    nd = (k-1)*Nxy+(j-1)*Nx+i\n",
    "    temp[4] = P_A_inv[(2*nd-1):2*nd, (2*nd-1):2*nd]\n",
    "    if i!=1  temp[1] = SMatrix{2,2}(P_A_inv[(2*nd-1):2*nd, (2*nd-3):(2*nd-2)])           end\n",
    "    if j!=1  temp[2] = SMatrix{2,2}(P_A_inv[(2*nd-1):2*nd, (2*nd-2*Nx-1):(2*nd-2*Nx)])   end  \n",
    "    if k!=1  temp[3] = SMatrix{2,2}(P_A_inv[(2*nd-1):2*nd, (2*nd-2*Nxy-1):(2*nd-2*Nxy)]) end\n",
    "    if k!=Nz temp[5] = SMatrix{2,2}(P_A_inv[(2*nd-1):2*nd, (2*nd+2*Nxy-1):(2*nd+2*Nxy)]) end\n",
    "    if j!=Ny temp[6] = SMatrix{2,2}(P_A_inv[(2*nd-1):2*nd, (2*nd+2*Nx-1):(2*nd+2*Nx)])   end\n",
    "    if i!=Nx temp[7] = SMatrix{2,2}(P_A_inv[(2*nd-1):2*nd, (2*nd+1):(2*nd+2)])           end  \n",
    "    stencilarray_P[i,j,k] = StencilPoint{eltype(temp),3,7}(Tuple(temp))\n",
    "end  \n",
    "P_A_Stencil = Stencil{typeof(stencilarray_P[1,1,1].value[1]),3,7,typeof(stencilarray_P)}(stencilarray_P);"
   ]
  },
  {
   "cell_type": "code",
   "execution_count": 29,
   "metadata": {
    "collapsed": true
   },
   "outputs": [],
   "source": [
    "stencilarray = Array{StencilPoint{StaticArrays.SArray{Tuple{2,2},Float64,2,4},3,7},3}(Nx,Ny,Nz)\n",
    "for i in 1:Nx, j in 1:Ny, k in 1:Nz\n",
    "    temp = (@SMatrix(zeros(2,2)), @SMatrix(zeros(2,2)),@SMatrix(zeros(2,2)),@SMatrix([randn() 0; 0.0 randn()]),\n",
    "                        @SMatrix(zeros(2,2)),@SMatrix(zeros(2,2)),@SMatrix(zeros(2,2)))\n",
    "    stencilarray[i,j,k] = StencilPoint{StaticArrays.SArray{Tuple{2,2},Float64,2,4},3,7}(temp)\n",
    "end\n",
    "precond_M = Stencil{StaticArrays.SArray{Tuple{2,2},Float64,2,4},3,7,typeof(stencilarray)}(stencilarray);"
   ]
  },
  {
   "cell_type": "code",
   "execution_count": 35,
   "metadata": {},
   "outputs": [
    {
     "data": {
      "text/plain": [
       "StencilPoint{StaticArrays.SArray{Tuple{2,2},Float64,2,4},3,7}"
      ]
     },
     "execution_count": 35,
     "metadata": {},
     "output_type": "execute_result"
    }
   ],
   "source": [
    "eltype(S.v)"
   ]
  },
  {
   "cell_type": "code",
   "execution_count": 31,
   "metadata": {},
   "outputs": [
    {
     "name": "stdout",
     "output_type": "stream",
     "text": [
      "123456"
     ]
    }
   ],
   "source": [
    "N = Nx*Ny*Nz\n",
    "Nxy = Nx*Ny\n",
    "P_A = spzeros(2N,2N)\n",
    "for i in 1:Nx, j in 1:Ny, k in 1:Nz\n",
    "    nd = (k-1)*Nxy+(j-1)*Nx+i\n",
    "    P_A[(2*nd-1):2*nd, (2*nd-1):2*nd] = precond_M[i,j,k].value[4]\n",
    "    if i!=1  P_A[(2*nd-1):2*nd, (2*nd-3):(2*nd-2)]           = precond_M[i,j,k].value[1] end\n",
    "    if j!=1  P_A[(2*nd-1):2*nd, (2*nd-2*Nx-1):(2*nd-2*Nx)]   = precond_M[i,j,k].value[2] end  \n",
    "    if k!=1  P_A[(2*nd-1):2*nd, (2*nd-2*Nxy-1):(2*nd-2*Nxy)] = precond_M[i,j,k].value[3] end\n",
    "    if k!=Nz P_A[(2*nd-1):2*nd, (2*nd+2*Nxy-1):(2*nd+2*Nxy)] = precond_M[i,j,k].value[5] end\n",
    "    if j!=Ny P_A[(2*nd-1):2*nd, (2*nd+2*Nx-1):(2*nd+2*Nx)]   = precond_M[i,j,k].value[6] end\n",
    "    if i!=Nx P_A[(2*nd-1):2*nd, (2*nd+1):(2*nd+2)]           = precond_M[i,j,k].value[7] end\n",
    "    if (j==1)&&(k==1) print(i) end\n",
    "end   "
   ]
  },
  {
   "cell_type": "code",
   "execution_count": 38,
   "metadata": {},
   "outputs": [
    {
     "data": {
      "text/plain": [
       "432-element Array{Float64,1}:\n",
       " 2.79961   \n",
       " 2.7067    \n",
       " 2.58452   \n",
       " 2.32513   \n",
       " 2.28027   \n",
       " 2.26918   \n",
       " 2.21877   \n",
       " 2.21218   \n",
       " 2.18611   \n",
       " 2.1539    \n",
       " 2.13461   \n",
       " 2.08256   \n",
       " 2.04268   \n",
       " ⋮         \n",
       " 0.0245877 \n",
       " 0.0239329 \n",
       " 0.0225562 \n",
       " 0.0200639 \n",
       " 0.0190295 \n",
       " 0.0180838 \n",
       " 0.0117689 \n",
       " 0.0110942 \n",
       " 0.00939585\n",
       " 0.00766536\n",
       " 0.00698825\n",
       " 0.00507583"
      ]
     },
     "execution_count": 38,
     "metadata": {},
     "output_type": "execute_result"
    }
   ],
   "source": [
    "svdvals(full(P_A))"
   ]
  },
  {
   "cell_type": "code",
   "execution_count": 20,
   "metadata": {},
   "outputs": [
    {
     "name": "stderr",
     "output_type": "stream",
     "text": [
      "\u001b[1m\u001b[36mINFO: \u001b[39m\u001b[22m\u001b[36mRecompiling stale cache file /Users/sw2030/.julia/lib/v0.6/IterativeSolvers.ji for module IterativeSolvers.\n",
      "\u001b[39m"
     ]
    }
   ],
   "source": [
    "using IterativeSolvers"
   ]
  },
  {
   "cell_type": "code",
   "execution_count": 14,
   "metadata": {},
   "outputs": [
    {
     "ename": "LoadError",
     "evalue": "\u001b[91mMethodError: no method matching setindex!(::NTuple{7,StaticArrays.SArray{Tuple{2,2},Float64,2,4}}, ::Array{Float64,2}, ::Int64)\u001b[39m",
     "output_type": "error",
     "traceback": [
      "\u001b[91mMethodError: no method matching setindex!(::NTuple{7,StaticArrays.SArray{Tuple{2,2},Float64,2,4}}, ::Array{Float64,2}, ::Int64)\u001b[39m",
      "",
      "Stacktrace:",
      " [1] \u001b[1minclude_string\u001b[22m\u001b[22m\u001b[1m(\u001b[22m\u001b[22m::String, ::String\u001b[1m)\u001b[22m\u001b[22m at \u001b[1m./loading.jl:522\u001b[22m\u001b[22m"
     ]
    }
   ],
   "source": [
    "S.v[1,1,1].value[1] = zeros(2,2)"
   ]
  },
  {
   "cell_type": "code",
   "execution_count": 15,
   "metadata": {},
   "outputs": [
    {
     "data": {
      "text/plain": [
       "(1, 2, 3)"
      ]
     },
     "execution_count": 15,
     "metadata": {},
     "output_type": "execute_result"
    }
   ],
   "source": [
    "testa = (1,2,3)"
   ]
  },
  {
   "cell_type": "code",
   "execution_count": 20,
   "metadata": {},
   "outputs": [
    {
     "data": {
      "text/plain": [
       "(4.0, 2, 3)"
      ]
     },
     "execution_count": 20,
     "metadata": {},
     "output_type": "execute_result"
    }
   ],
   "source": [
    "Base.setindex(testa,4.0,1)"
   ]
  },
  {
   "cell_type": "code",
   "execution_count": 24,
   "metadata": {},
   "outputs": [
    {
     "ename": "LoadError",
     "evalue": "\u001b[91mMethodError: no method matching setindex!(::NTuple{7,StaticArrays.SArray{Tuple{2,2},Float64,2,4}}, ::StaticArrays.SArray{Tuple{2,2},Float64,2,4}, ::Int64)\u001b[39m",
     "output_type": "error",
     "traceback": [
      "\u001b[91mMethodError: no method matching setindex!(::NTuple{7,StaticArrays.SArray{Tuple{2,2},Float64,2,4}}, ::StaticArrays.SArray{Tuple{2,2},Float64,2,4}, ::Int64)\u001b[39m",
      "",
      "Stacktrace:",
      " [1] \u001b[1minclude_string\u001b[22m\u001b[22m\u001b[1m(\u001b[22m\u001b[22m::String, ::String\u001b[1m)\u001b[22m\u001b[22m at \u001b[1m./loading.jl:522\u001b[22m\u001b[22m"
     ]
    }
   ],
   "source": [
    "Base.setindex!(S[1,1,1].value, @SMatrix(randn(2,2)),4)"
   ]
  },
  {
   "cell_type": "code",
   "execution_count": 22,
   "metadata": {},
   "outputs": [
    {
     "data": {
      "text/plain": [
       "1000000"
      ]
     },
     "execution_count": 22,
     "metadata": {},
     "output_type": "execute_result"
    }
   ],
   "source": [
    "a = 0\n",
    "for i in 1:1000000\n",
    "    a += 1\n",
    "end\n",
    "a"
   ]
  },
  {
   "cell_type": "code",
   "execution_count": 34,
   "metadata": {},
   "outputs": [
    {
     "data": {
      "text/plain": [
       "StencilPoint{StaticArrays.SArray{Tuple{2,2},Float64,2,4},3,7}(([0.0 0.0; 0.0 0.0], [0.0 0.0; 0.0 0.0], [0.0 0.0; 0.0 0.0], [0.0806897 1.99648; -0.508091 0.692843], [0.0 0.0; 0.000450028 0.0], [0.0 0.0; 0.0299064 0.0], [0.0 0.0; 0.0997239 0.0]))"
      ]
     },
     "execution_count": 34,
     "metadata": {},
     "output_type": "execute_result"
    }
   ],
   "source": [
    "StencilPoint{StaticArrays.SArray{Tuple{2,2},Float64,2,4},3,7}(Base.setindex(S[1,1,1].value, @SMatrix(randn(2,2)),4))"
   ]
  },
  {
   "cell_type": "code",
   "execution_count": 10,
   "metadata": {},
   "outputs": [
    {
     "name": "stdout",
     "output_type": "stream",
     "text": [
      "  109.203 μs (2 allocations: 125.08 KiB)\n"
     ]
    }
   ],
   "source": [
    "@btime A*b;"
   ]
  },
  {
   "cell_type": "code",
   "execution_count": 28,
   "metadata": {},
   "outputs": [
    {
     "data": {
      "text/plain": [
       "2×2 SparseMatrixCSC{StaticArrays.SArray{Tuple{2},Float64,1,2},Int64} with 0 stored entries"
      ]
     },
     "execution_count": 28,
     "metadata": {},
     "output_type": "execute_result"
    }
   ],
   "source": [
    "AA = spzeros(StaticArrays.SArray{Tuple{2},Float64,1,2},2,2)"
   ]
  },
  {
   "cell_type": "code",
   "execution_count": 29,
   "metadata": {},
   "outputs": [
    {
     "data": {
      "text/plain": [
       "2-element StaticArrays.SArray{Tuple{2},Float64,1,2}:\n",
       " -0.175136\n",
       " -0.72164 "
      ]
     },
     "execution_count": 29,
     "metadata": {},
     "output_type": "execute_result"
    }
   ],
   "source": [
    "AA[1] = @SVector(randn(2))"
   ]
  },
  {
   "cell_type": "code",
   "execution_count": 30,
   "metadata": {},
   "outputs": [
    {
     "data": {
      "text/plain": [
       "([0.0, 0.0], [0.0, 0.0], [0.0, 0.0])"
      ]
     },
     "execution_count": 30,
     "metadata": {},
     "output_type": "execute_result"
    }
   ],
   "source": [
    "AA[2], AA[3], AA[4] = @SVector(zeros(2)), @SVector(zeros(2)), @SVector(zeros(2))"
   ]
  },
  {
   "cell_type": "code",
   "execution_count": 31,
   "metadata": {},
   "outputs": [
    {
     "data": {
      "text/plain": [
       "2×2 SparseMatrixCSC{StaticArrays.SArray{Tuple{2},Float64,1,2},Int64} with 4 stored entries:\n",
       "  [1, 1]  =  [-0.175136, -0.72164]\n",
       "  [2, 1]  =  [0.0, 0.0]\n",
       "  [1, 2]  =  [0.0, 0.0]\n",
       "  [2, 2]  =  [0.0, 0.0]"
      ]
     },
     "execution_count": 31,
     "metadata": {},
     "output_type": "execute_result"
    }
   ],
   "source": [
    "AA"
   ]
  },
  {
   "cell_type": "code",
   "execution_count": 23,
   "metadata": {},
   "outputs": [
    {
     "data": {
      "text/plain": [
       "2×2 SparseMatrixCSC{StaticArrays.SArray{Tuple{2},Float64,1,2},Int64} with 4 stored entries:\n",
       "  [1, 1]  =  [0.597803, 0.0415162]\n",
       "  [2, 1]  =  [0.0, 0.0]\n",
       "  [1, 2]  =  [0.0, 0.0]\n",
       "  [2, 2]  =  [0.0, 0.0]"
      ]
     },
     "execution_count": 23,
     "metadata": {},
     "output_type": "execute_result"
    }
   ],
   "source": [
    "sparse(AA)"
   ]
  },
  {
   "cell_type": "code",
   "execution_count": 24,
   "metadata": {},
   "outputs": [
    {
     "ename": "LoadError",
     "evalue": "\u001b[91mMethodError: no method matching dropzeros(::Array{StaticArrays.SArray{Tuple{2},Float64,1,2},2})\u001b[0m\nClosest candidates are:\n  dropzeros(\u001b[91m::SparseMatrixCSC\u001b[39m) at sparse/sparsematrix.jl:1231\n  dropzeros(\u001b[91m::SparseMatrixCSC\u001b[39m, \u001b[91m::Bool\u001b[39m) at sparse/sparsematrix.jl:1231\n  dropzeros(\u001b[91m::SparseVector\u001b[39m) at sparse/sparsevector.jl:1953\n  ...\u001b[39m",
     "output_type": "error",
     "traceback": [
      "\u001b[91mMethodError: no method matching dropzeros(::Array{StaticArrays.SArray{Tuple{2},Float64,1,2},2})\u001b[0m\nClosest candidates are:\n  dropzeros(\u001b[91m::SparseMatrixCSC\u001b[39m) at sparse/sparsematrix.jl:1231\n  dropzeros(\u001b[91m::SparseMatrixCSC\u001b[39m, \u001b[91m::Bool\u001b[39m) at sparse/sparsematrix.jl:1231\n  dropzeros(\u001b[91m::SparseVector\u001b[39m) at sparse/sparsevector.jl:1953\n  ...\u001b[39m",
      "",
      "Stacktrace:",
      " [1] \u001b[1minclude_string\u001b[22m\u001b[22m\u001b[1m(\u001b[22m\u001b[22m::String, ::String\u001b[1m)\u001b[22m\u001b[22m at \u001b[1m./loading.jl:522\u001b[22m\u001b[22m"
     ]
    }
   ],
   "source": []
  },
  {
   "cell_type": "code",
   "execution_count": 11,
   "metadata": {},
   "outputs": [
    {
     "name": "stdout",
     "output_type": "stream",
     "text": [
      "  497.690 μs (3 allocations: 166.47 KiB)\n"
     ]
    }
   ],
   "source": [
    "@btime S*res;"
   ]
  },
  {
   "cell_type": "code",
   "execution_count": 21,
   "metadata": {},
   "outputs": [
    {
     "name": "stdout",
     "output_type": "stream",
     "text": [
      "Variables:\n",
      "  #self# <optimized out>\n",
      "  S::Stencil{StaticArrays.SArray{Tuple{2,2},Float64,2,4},3,7,Array{StencilPoint{StaticArrays.SArray{Tuple{2,2},Float64,2,4},3,7},3}}\n",
      "  x::Grid{StaticArrays.SArray{Tuple{2},Float64,1,2},3,7,Array{StaticArrays.SArray{Tuple{2},Float64,1,2},3}}\n",
      "\n",
      "Body:\n",
      "  begin \n",
      "      SSAValue(0) = (Core.getfield)(x::Grid{StaticArrays.SArray{Tuple{2},Float64,1,2},3,7,Array{StaticArrays.SArray{Tuple{2},Float64,1,2},3}}, :A)::Array{StaticArrays.SArray{Tuple{2},Float64,1,2},3}\n",
      "      $(Expr(:inbounds, false))\n",
      "      # meta: location abstractarray.jl zero 751\n",
      "      SSAValue(4) = $(Expr(:invoke, MethodInstance for similar(::Array{StaticArrays.SArray{Tuple{2},Float64,1,2},3}, ::Type{StaticArrays.SArray{Tuple{2},Float64,1,2}}), :(Base.similar), SSAValue(0), StaticArrays.SArray{Tuple{2},Float64,1,2}))\n",
      "      # meta: location /Users/sw2030/.julia/v0.6/StaticArrays/src/linalg.jl zero 142\n",
      "      # meta: location /Users/sw2030/.julia/v0.6/StaticArrays/src/arraymath.jl zeros 3\n",
      "      # meta: location /Users/sw2030/.julia/v0.6/StaticArrays/src/arraymath.jl # line 12:\n",
      "      SSAValue(2) = (Base.sitofp)(Float64, 0)::Float64\n",
      "      # meta: location /Users/sw2030/.julia/v0.6/StaticArrays/src/arraymath.jl _fill 36\n",
      "      # meta: location /Users/sw2030/.julia/v0.6/StaticArrays/src/arraymath.jl # line 39:\n",
      "      SSAValue(3) = $(Expr(:new, StaticArrays.SArray{Tuple{2},Float64,1,2}, :((StaticArrays.tuple)(SSAValue(2), SSAValue(2))::Tuple{Float64,Float64})))\n",
      "      # meta: pop location\n",
      "      # meta: pop location\n",
      "      # meta: pop location\n",
      "      # meta: pop location\n",
      "      # meta: pop location\n",
      "      # meta: pop location\n",
      "      $(Expr(:inbounds, :pop))\n",
      "      SSAValue(5) = $(Expr(:invoke, MethodInstance for fill!(::Array{StaticArrays.SArray{Tuple{2},Float64,1,2},3}, ::StaticArrays.SArray{Tuple{2},Float64,1,2}), :(Base.fill!), SSAValue(4), SSAValue(3)))\n",
      "      SSAValue(6) = $(Expr(:new, Grid{StaticArrays.SArray{Tuple{2},Float64,1,2},3,7,Array{StaticArrays.SArray{Tuple{2},Float64,1,2},3}}, SSAValue(5)))\n",
      "      return $(Expr(:invoke, MethodInstance for A_mul_B!(::Float64, ::Stencil{StaticArrays.SArray{Tuple{2,2},Float64,2,4},3,7,Array{StencilPoint{StaticArrays.SArray{Tuple{2,2},Float64,2,4},3,7},3}}, ::Grid{StaticArrays.SArray{Tuple{2},Float64,1,2},3,7,Array{StaticArrays.SArray{Tuple{2},Float64,1,2},3}}, ::Float64, ::Grid{StaticArrays.SArray{Tuple{2},Float64,1,2},3,7,Array{StaticArrays.SArray{Tuple{2},Float64,1,2},3}}), :(Main.A_mul_B!), 1.0, :(S), :(x), 0.0, SSAValue(6)))\n",
      "  end::Grid{StaticArrays.SArray{Tuple{2},Float64,1,2},3,7,Array{StaticArrays.SArray{Tuple{2},Float64,1,2},3}}\n"
     ]
    }
   ],
   "source": [
    "@code_warntype S*res"
   ]
  },
  {
   "cell_type": "code",
   "execution_count": 39,
   "metadata": {
    "collapsed": true
   },
   "outputs": [],
   "source": [
    "for i in 1:100\n",
    "    @profile S*res\n",
    "end"
   ]
  },
  {
   "cell_type": "code",
   "execution_count": 40,
   "metadata": {},
   "outputs": [
    {
     "name": "stdout",
     "output_type": "stream",
     "text": [
      "1135 ./task.jl:335; (::IJulia.##14#17)()\n",
      " 1135 ...Julia/src/eventloop.jl:8; eventloop(::ZMQ.Socket)\n",
      "  1135 .../Compat/src/Compat.jl:385; (::Compat.#inner#17{Array{Any,1}...\n",
      "   1055 ...c/execute_request.jl:158; execute_request(::ZMQ.Socket, :...\n",
      "    1055 ...Compat/src/Compat.jl:71; include_string(::Module, ::Stri...\n",
      "     1055 ./loading.jl:522; include_string(::String, ::String)\n",
      "      1055 ./<missing>:?; anonymous\n",
      "       1055 ./In[39]:2; macro expansion\n",
      "        1055 ./profile.jl:23; macro expansion\n",
      "         1055 ...new/src/Stencil.jl:139; *(::Stencil{StaticArrays.SA...\n",
      "          23  ./multidimensional.jl:843; fill!(::Array{StaticArrays....\n",
      "          2   ...s/src/mapreduce.jl:29; A_mul_B!(::Float64, ::Stenc...\n",
      "          9   ...new/src/Stencil.jl:126; A_mul_B!(::Float64, ::Stenc...\n",
      "           9 ./linalg/generic.jl:8; generic_scale!(::Array{Static...\n",
      "            4 ./simdloop.jl:71; macro expansion\n",
      "            5 ./simdloop.jl:73; macro expansion\n",
      "             5 ./linalg/generic.jl:9; macro expansion\n",
      "              4 ...ays/src/linalg.jl:26; *\n",
      "               4 ./broadcast.jl:455; broadcast\n",
      "                4 .../src/broadcast.jl:32; broadcast_c\n",
      "                 4 ...src/broadcast.jl:96; _broadcast\n",
      "                  4 ...rc/broadcast.jl:154; macro expansion\n",
      "          3   ...new/src/Stencil.jl:128; A_mul_B!(::Float64, ::Stenc...\n",
      "          352 ...new/src/Stencil.jl:130; A_mul_B!(::Float64, ::Stenc...\n",
      "          462 ...new/src/Stencil.jl:132; A_mul_B!(::Float64, ::Stenc...\n",
      "           45 ...rays/src/linalg.jl:10; +\n",
      "            45 ...s/src/mapreduce.jl:11; map\n",
      "             45 .../src/mapreduce.jl:20; _map\n",
      "              45 .../src/mapreduce.jl:29; macro expansion\n",
      "           41 ...matrix_multiply.jl:39; *\n",
      "            41 ...matrix_multiply.jl:74; _mul\n",
      "             41 ...atrix_multiply.jl:87; macro expansion\n",
      "          203 ...new/src/Stencil.jl:134; A_mul_B!(::Float64, ::Stenc...\n",
      "           2   ...rays/src/linalg.jl:25; *\n",
      "            2 ./broadcast.jl:455; broadcast\n",
      "             2 ...s/src/broadcast.jl:32; broadcast_c\n",
      "              2 .../src/broadcast.jl:96; _broadcast\n",
      "               2 .../src/broadcast.jl:154; macro expansion\n",
      "           178 ...rays/src/linalg.jl:10; +\n",
      "            178 .../src/mapreduce.jl:11; map\n",
      "             178 .../src/mapreduce.jl:20; _map\n",
      "              178 .../src/mapreduce.jl:29; macro expansion\n",
      "           5   ...new/src/Stencil.jl:51; setindex!\n",
      "   80   ...c/execute_request.jl:194; execute_request(::ZMQ.Socket, :...\n",
      "    22 ./dict.jl:118; Dict{String,Any}(::Tuple{Pair{St...\n",
      "    58 ...0.6/IJulia/src/msg.jl:51; send_ipython(::ZMQ.Socket, ::IJu...\n",
      "     6  ./strings/io.jl:0; #sprint#228(::Void, ::Function, ...\n",
      "     33 ./strings/io.jl:66; #sprint#228(::Void, ::Function, ...\n",
      "      31 ...6/JSON/src/Writer.jl:360; print(::Base.AbstractIOBuffer{...\n",
      "       31 .../JSON/src/Writer.jl:336; #show_json#3(::Void, ::Functio...\n",
      "        2  .../JSON/src/Writer.jl:280; show_json(::JSON.Writer.Compa...\n",
      "         2 .../JSON/src/Writer.jl:182; begin_object\n",
      "          2 .../JSON/src/Writer.jl:126; write(::JSON.Writer.CompactCo...\n",
      "           1 ./iobuffer.jl:347; write\n",
      "            1 ./iobuffer.jl:237; ensureroom\n",
      "           1 ./iobuffer.jl:352; write\n",
      "        29 .../JSON/src/Writer.jl:282; show_json(::JSON.Writer.Compa...\n",
      "         2  .../JSON/src/Writer.jl:0; show_json(::JSON.Writer.Compa...\n",
      "         10 .../JSON/src/Writer.jl:255; show_json(::JSON.Writer.Compa...\n",
      "          10 ...JSON/src/Writer.jl:202; show_string\n",
      "           10 ./strings/io.jl:122; print\n",
      "            7 ./io.jl:81; unsafe_write(::JSON.Writer.S...\n",
      "             6 ./io.jl:313; write(::JSON.Writer.Compact...\n",
      "              4 ./io.jl:81; unsafe_write(::JSON.Writer....\n",
      "               1 ...SON/src/Writer.jl:0; write(::JSON.Writer.Compac...\n",
      "               3 ...SON/src/Writer.jl:126; write(::JSON.Writer.Compac...\n",
      "                3 ./iobuffer.jl:347; write\n",
      "                 3 ./iobuffer.jl:237; ensureroom\n",
      "                  1 ./array.jl:0; resize!(::Array{UInt8,1}...\n",
      "                  2 ./array.jl:774; resize!(::Array{UInt8,1}...\n",
      "         13 .../JSON/src/Writer.jl:247; show_pair\n",
      "          13 ...JSON/src/Writer.jl:244; show_pair\n",
      "           2  ...JSON/src/Writer.jl:233; show_key(::JSON.Writer.Comp...\n",
      "            2 ...JSON/src/Writer.jl:202; show_string\n",
      "             2 ./strings/io.jl:122; print\n",
      "              2 ./io.jl:81; unsafe_write(::JSON.Writer....\n",
      "               2 ./io.jl:313; write(::JSON.Writer.Compac...\n",
      "                1 ./io.jl:81; unsafe_write(::JSON.Writer...\n",
      "                1 ./io.jl:83; unsafe_write(::JSON.Writer...\n",
      "           11 ...JSON/src/Writer.jl:234; show_key(::JSON.Writer.Comp...\n",
      "            1  ...SON/src/Writer.jl:0; write(::JSON.Writer.Compact...\n",
      "            10 ...SON/src/Writer.jl:126; write(::JSON.Writer.Compact...\n",
      "             10 ./iobuffer.jl:347; write\n",
      "              10 ./iobuffer.jl:237; ensureroom\n",
      "               6 ./array.jl:0; resize!(::Array{UInt8,1}, ...\n",
      "               3 ./array.jl:774; resize!(::Array{UInt8,1}, ...\n",
      "2    ....6/JSON/src/Writer.jl:0; show_json(::JSON.Writer.CompactCo...\n"
     ]
    }
   ],
   "source": [
    "Profile.print()"
   ]
  },
  {
   "cell_type": "code",
   "execution_count": null,
   "metadata": {
    "collapsed": true
   },
   "outputs": [],
   "source": []
  }
 ],
 "metadata": {
  "kernelspec": {
   "display_name": "Julia 0.6.0",
   "language": "julia",
   "name": "julia-0.6"
  },
  "language_info": {
   "file_extension": ".jl",
   "mimetype": "application/julia",
   "name": "julia",
   "version": "0.6.2"
  }
 },
 "nbformat": 4,
 "nbformat_minor": 2
}
