{
 "cells": [
  {
   "cell_type": "markdown",
   "metadata": {},
   "source": [
    "# SPE10 Demo - Single-core"
   ]
  },
  {
   "cell_type": "code",
   "execution_count": 1,
   "metadata": {
    "collapsed": true
   },
   "outputs": [],
   "source": [
    "#addprocs(4);\n",
    "using DistributedArrays\n",
    "using ForwardDiff\n",
    "using StaticArrays\n",
    "include(\"Stencil.jl\")\n",
    "include(\"stencilgmres.jl\")\n",
    "include(\"reservoirfunc.jl\")\n",
    "include(\"distributed.jl\")\n",
    "include(\"res3d.jl\")\n",
    "include(\"preconditioning.jl\")\n",
    "using BenchmarkTools"
   ]
  },
  {
   "cell_type": "code",
   "execution_count": 2,
   "metadata": {
    "collapsed": true
   },
   "outputs": [],
   "source": [
    "permdata = open(\"spe_perm.dat\")\n",
    "phidata  = open(\"spe_phi.dat\")\n",
    "raw1 = readdlm(phidata)\n",
    "raw2 = readdlm(permdata)\n",
    "close(permdata)\n",
    "close(phidata)\n",
    "porosity = reshape(raw1', 60, 220, 85)\n",
    "lineperm = reshape(raw2', 3366000, 1)\n",
    "kx = reshape(lineperm[1:1122000]', 60, 220, 85)\n",
    "ky = reshape(lineperm[1122001:2244000]', 60, 220, 85)\n",
    "kz = reshape(lineperm[2244001:end]', 60, 220, 85)\n",
    "savepor = copy(porosity)\n",
    "## Porosity pre-processing\n",
    "for id in eachindex(porosity)\n",
    "    if abs(porosity[id])<1e-3\n",
    "        porosity[id] = 0.2\n",
    "        kx[id], ky[id], kz[id] = 1e-10, 1e-10, 1e-10\n",
    "    end\n",
    "end\n",
    "kraw = [SVector{3,Float64}([kx[i,j,k], ky[i,j,k], kz[i,j,k]]) for i in 1:60, j in 1:220, k in 1:85];"
   ]
  },
  {
   "cell_type": "code",
   "execution_count": 3,
   "metadata": {
    "collapsed": true
   },
   "outputs": [],
   "source": [
    "Nx = 30\n",
    "Ny = 30\n",
    "Nz = 30\n",
    "offsetx = 1\n",
    "offsety = 1\n",
    "offsetz = 1;"
   ]
  },
  {
   "cell_type": "code",
   "execution_count": 4,
   "metadata": {
    "collapsed": true
   },
   "outputs": [],
   "source": [
    "p_ref = 14.7 \n",
    "C_r   = 3e-6\n",
    "ϕ_ref = 0.2\n",
    "#=everywhere=# ϕ     = porosity[offsetx:(Nx+offsetx-1), offsety:(Ny+offsety-1), offsetz:(Nz+offsetz-1)]\n",
    "S_wc, S_or = 0.2, 0.2\n",
    "k_r_w(x)   = ((x-S_wc)/(1-S_wc-S_or))^2\n",
    "k_r_o(x)   = (1 - (x-S_wc)/(1-S_wc-S_or))^2\n",
    "p_cow(x)   = 0\n",
    "C_water    = 3e-6\n",
    "C_oil      = 3e-6\n",
    "ρ_water(p) = 64.0*exp(C_water*(p-p_ref)) \n",
    "ρ_oil(p)   = 53.0*exp(C_oil*(p-p_ref))   \n",
    "μ_water = 0.3 # cp\n",
    "μ_oil   = 3.0; # cp\n",
    "saveper = (kx.+ky.+kz)./3\n",
    "saveper = saveper[offsetx:(Nx+offsetx-1), offsety:(Ny+offsety-1), offsetz:(Nz+offsetz-1)];"
   ]
  },
  {
   "cell_type": "code",
   "execution_count": 5,
   "metadata": {},
   "outputs": [],
   "source": [
    "## 3d model\n",
    "Lx = 1200\n",
    "Ly = 2200\n",
    "Lz = 170\n",
    "Δt = 1.0\n",
    "Tf = 2000.0\n",
    "Δx = fill(Lx/Nx, Nx, Ny, Nz)\n",
    "Δy = fill(Ly/Ny, Nx, Ny, Nz)\n",
    "Δz = fill(Lz/Nz, Nx, Ny, Nz)\n",
    "z  = fill(12000.0, Nx, Ny, Nz)\n",
    "k = makegrid(kraw[offsetx:(Nx+offsetx-1), offsety:(Ny+offsety-1), offsetz:(Nz+offsetz-1)],7)\n",
    "model = Reservoirmodel(Δt, Tf, (Δx, Δy, Δz), z, k, p_ref, C_r, ϕ_ref, ϕ, \n",
    "                k_r_w, k_r_o, p_cow, C_water, C_oil, ρ_water, ρ_oil, μ_water, μ_oil);"
   ]
  },
  {
   "cell_type": "code",
   "execution_count": 6,
   "metadata": {
    "collapsed": true
   },
   "outputs": [],
   "source": [
    "## Porosity proportional control\n",
    "Total = 40.0*Nx\n",
    "q = zeros(Nx, Ny, Nz, 2)\n",
    "for i in (1,Nx), j in (1,Ny), k in 1:Nz\n",
    "    q[i,j,k,2] = Total*(saveper[i,j,k]/sum(saveper[i,j,:]))/4\n",
    "end\n",
    "halfx, halfy = round(Int, Nx/2),round(Int, Ny/2)\n",
    "for k in 1:Nz\n",
    "    q[halfx,halfy,k,1] = -Total*(saveper[halfx,halfy,k]/sum(saveper[halfx,halfy,:]))\n",
    "end "
   ]
  },
  {
   "cell_type": "code",
   "execution_count": 7,
   "metadata": {
    "collapsed": true
   },
   "outputs": [],
   "source": [
    "init       = [SVector{2,Float64}([6000.0,0.2]) for i in 1:Nx, j in 1:Ny, k in 1:Nz]\n",
    "testgrid   = makegrid(init, 7);\n",
    "g_guess   = testgrid;"
   ]
  },
  {
   "cell_type": "code",
   "execution_count": 8,
   "metadata": {},
   "outputs": [],
   "source": [
    "S   = getstencil(model, q, g_guess, testgrid)\n",
    "res = getresidual(model, q, g_guess, testgrid);"
   ]
  },
  {
   "cell_type": "markdown",
   "metadata": {},
   "source": [
    "# Single-core benchmark (residual, jacobian)"
   ]
  },
  {
   "cell_type": "code",
   "execution_count": 9,
   "metadata": {},
   "outputs": [
    {
     "name": "stdout",
     "output_type": "stream",
     "text": [
      "  2.880 s (38097933 allocations: 2.06 GiB)\n"
     ]
    }
   ],
   "source": [
    "@btime getstencil(model, q, g_guess, testgrid);"
   ]
  },
  {
   "cell_type": "code",
   "execution_count": 10,
   "metadata": {},
   "outputs": [
    {
     "name": "stdout",
     "output_type": "stream",
     "text": [
      "  652.475 ms (18252022 allocations: 304.96 MiB)\n"
     ]
    }
   ],
   "source": [
    "@btime getresidual(model, q, g_guess, testgrid);"
   ]
  },
  {
   "cell_type": "code",
   "execution_count": null,
   "metadata": {
    "collapsed": true
   },
   "outputs": [],
   "source": []
  },
  {
   "cell_type": "code",
   "execution_count": 11,
   "metadata": {},
   "outputs": [
    {
     "data": {
      "text/plain": [
       "myfun (generic function with 1 method)"
      ]
     },
     "execution_count": 11,
     "metadata": {},
     "output_type": "execute_result"
    }
   ],
   "source": [
    "function myfun(x)\n",
    "    return x.^2\n",
    "end"
   ]
  },
  {
   "cell_type": "code",
   "execution_count": 12,
   "metadata": {},
   "outputs": [
    {
     "data": {
      "text/plain": [
       "10×10 Array{Float64,2}:\n",
       " 1.64452  0.0       0.0       0.0      0.0      …  0.0      0.0      0.0    \n",
       " 0.0      0.390997  0.0       0.0      0.0         0.0      0.0      0.0    \n",
       " 0.0      0.0       0.850188  0.0      0.0         0.0      0.0      0.0    \n",
       " 0.0      0.0       0.0       1.70125  0.0         0.0      0.0      0.0    \n",
       " 0.0      0.0       0.0       0.0      1.49894     0.0      0.0      0.0    \n",
       " 0.0      0.0       0.0       0.0      0.0      …  0.0      0.0      0.0    \n",
       " 0.0      0.0       0.0       0.0      0.0         0.0      0.0      0.0    \n",
       " 0.0      0.0       0.0       0.0      0.0         1.93977  0.0      0.0    \n",
       " 0.0      0.0       0.0       0.0      0.0         0.0      1.95787  0.0    \n",
       " 0.0      0.0       0.0       0.0      0.0         0.0      0.0      1.12034"
      ]
     },
     "execution_count": 12,
     "metadata": {},
     "output_type": "execute_result"
    }
   ],
   "source": [
    "ForwardDiff.jacobian(myfun, rand(10))"
   ]
  },
  {
   "cell_type": "code",
   "execution_count": null,
   "metadata": {
    "collapsed": true
   },
   "outputs": [],
   "source": []
  },
  {
   "cell_type": "code",
   "execution_count": null,
   "metadata": {
    "collapsed": true
   },
   "outputs": [],
   "source": []
  }
 ],
 "metadata": {
  "kernelspec": {
   "display_name": "Julia 1.0.0",
   "language": "julia",
   "name": "julia-1.0"
  },
  "language_info": {
   "file_extension": ".jl",
   "mimetype": "application/julia",
   "name": "julia",
   "version": "1.0.0"
  },
  "latex_envs": {
   "LaTeX_envs_menu_present": true,
   "autoclose": false,
   "autocomplete": true,
   "bibliofile": "biblio.bib",
   "cite_by": "apalike",
   "current_citInitial": 1,
   "eqLabelWithNumbers": true,
   "eqNumInitial": 1,
   "hotkeys": {
    "equation": "Ctrl-E",
    "itemize": "Ctrl-I"
   },
   "labels_anchors": false,
   "latex_user_defs": false,
   "report_style_numbering": false,
   "user_envs_cfg": false
  },
  "toc": {
   "base_numbering": 1,
   "nav_menu": {},
   "number_sections": true,
   "sideBar": true,
   "skip_h1_title": false,
   "title_cell": "Table of Contents",
   "title_sidebar": "Contents",
   "toc_cell": false,
   "toc_position": {},
   "toc_section_display": true,
   "toc_window_display": false
  },
  "varInspector": {
   "cols": {
    "lenName": 16,
    "lenType": 16,
    "lenVar": 40
   },
   "kernels_config": {
    "python": {
     "delete_cmd_postfix": "",
     "delete_cmd_prefix": "del ",
     "library": "var_list.py",
     "varRefreshCmd": "print(var_dic_list())"
    },
    "r": {
     "delete_cmd_postfix": ") ",
     "delete_cmd_prefix": "rm(",
     "library": "var_list.r",
     "varRefreshCmd": "cat(var_dic_list()) "
    }
   },
   "types_to_exclude": [
    "module",
    "function",
    "builtin_function_or_method",
    "instance",
    "_Feature"
   ],
   "window_display": false
  }
 },
 "nbformat": 4,
 "nbformat_minor": 2
}
