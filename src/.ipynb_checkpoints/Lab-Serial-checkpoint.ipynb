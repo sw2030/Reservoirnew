{
 "cells": [
  {
   "cell_type": "code",
   "execution_count": 1,
   "metadata": {
    "scrolled": true
   },
   "outputs": [
    {
     "name": "stderr",
     "output_type": "stream",
     "text": [
      "┌ Info: Recompiling stale cache file /Users/sw2030/.julia/compiled/v1.0/ForwardDiff/k0ETY.ji for ForwardDiff [f6369f11-7733-5829-9624-2563aa707210]\n",
      "└ @ Base loading.jl:1184\n"
     ]
    }
   ],
   "source": [
    "using ForwardDiff, BenchmarkTools, LinearAlgebra, StaticArrays, SparseArrays\n",
    "include(\"Stencil.jl\")\n",
    "include(\"stencilgmres.jl\")\n",
    "include(\"reservoirfunc.jl\")\n",
    "#include(\"distributed.jl\")\n",
    "include(\"res3d.jl\")\n",
    "include(\"preconditioning.jl\");"
   ]
  },
  {
   "cell_type": "code",
   "execution_count": 2,
   "metadata": {},
   "outputs": [],
   "source": [
    "using JLD2\n",
    "@load \"perm_phi_data.jld2\" raw1 raw2\n",
    "porosity = Array(reshape(raw1', 60, 220, 85))\n",
    "lineperm = Array(reshape(raw2', 3366000, 1))\n",
    "kx = reshape(lineperm[1:1122000]', 60, 220, 85)\n",
    "ky = reshape(lineperm[1122001:2244000]', 60, 220, 85)\n",
    "kz = reshape(lineperm[2244001:end]', 60, 220, 85)\n",
    "savepor = copy(porosity)\n",
    "## Porosity pre-processing\n",
    "for id in eachindex(porosity)\n",
    "    if abs(porosity[id])<1e-3\n",
    "        porosity[id] = 0.2\n",
    "        kx[id], ky[id], kz[id] = 1e-10, 1e-10, 1e-10\n",
    "    end\n",
    "end\n",
    "kraw = [@SVector([kx[i,j,k], ky[i,j,k], kz[i,j,k]]) for i in 1:60, j in 1:220, k in 1:85];"
   ]
  },
  {
   "cell_type": "code",
   "execution_count": 4,
   "metadata": {},
   "outputs": [],
   "source": [
    "mm = 50\n",
    "Nx = mm\n",
    "Ny = mm\n",
    "Nz = mm\n",
    "offsetx = 10\n",
    "offsety = 10\n",
    "offsetz = 10;"
   ]
  },
  {
   "cell_type": "code",
   "execution_count": 5,
   "metadata": {},
   "outputs": [],
   "source": [
    "p_ref, ϕ_ref = 14.7, 0.2\n",
    "#=@everywhere=# ϕ = porosity[offsetx:(Nx+offsetx-1), offsety:(Ny+offsety-1), offsetz:(Nz+offsetz-1)]\n",
    "S_wc, S_or = 0.2, 0.2\n",
    "k_r_w(x)   = ((x-S_wc)/(1-S_wc-S_or))^2\n",
    "k_r_o(x)   = (1 - (x-S_wc)/(1-S_wc-S_or))^2\n",
    "p_cow(x)   = 6.3/log(0.00001)*log(x + 0.00001) ## Make it 0\n",
    "C_r, C_water, C_oil = 3e-6, 3e-6, 3e-6\n",
    "ρ_water(p) = 64.0*exp(C_water*(p-p_ref)) \n",
    "ρ_oil(p)   = 53.0*exp(C_oil*(p-p_ref))   \n",
    "μ_water, μ_oil = 0.3, 3.0 # cp\n",
    "saveper = (kx.+ky.+kz)./3\n",
    "saveper = saveper[offsetx:(Nx+offsetx-1), offsety:(Ny+offsety-1), offsetz:(Nz+offsetz-1)];"
   ]
  },
  {
   "cell_type": "code",
   "execution_count": 21,
   "metadata": {
    "scrolled": true
   },
   "outputs": [],
   "source": [
    "## 3d model\n",
    "Lx, Ly, Lz = 1200, 2200, 170\n",
    "Δt = 0.1\n",
    "Tf = 2000.0\n",
    "Δx = fill(Lx/Nx, Nx, Ny, Nz)\n",
    "Δy = fill(Ly/Ny, Nx, Ny, Nz)\n",
    "Δz = fill(Lz/Nz, Nx, Ny, Nz)\n",
    "z  = fill(12000.0, Nx, Ny, Nz)\n",
    "k = makegrid(kraw[offsetx:(Nx+offsetx-1), offsety:(Ny+offsety-1), offsetz:(Nz+offsetz-1)],7)\n",
    "model = Reservoirmodel(Δt, Tf, (Δx, Δy, Δz), z, k, p_ref, C_r, ϕ_ref, ϕ, \n",
    "                k_r_w, k_r_o, p_cow, C_water, C_oil, ρ_water, ρ_oil, μ_water, μ_oil);"
   ]
  },
  {
   "cell_type": "code",
   "execution_count": 22,
   "metadata": {},
   "outputs": [],
   "source": [
    "## Porosity proportional control\n",
    "Total = 40.0*Nx*Δt\n",
    "q = zeros(Nx, Ny, Nz, 2)\n",
    "for i in (1,Nx), j in (1,Ny), kk in 1:Nz\n",
    "    q[i,j,kk,2] = Total*(saveper[i,j,kk]/sum(saveper[i,j,:]))/4\n",
    "end\n",
    "halfx, halfy = round(Int, Nx/2),round(Int, Ny/2)\n",
    "for i in 1:Nz\n",
    "    q[halfx,halfy,i,1] = -Total*(saveper[halfx,halfy,i]/sum(saveper[halfx,halfy,:]))\n",
    "end "
   ]
  },
  {
   "cell_type": "code",
   "execution_count": 13,
   "metadata": {},
   "outputs": [],
   "source": [
    "g_guess    = ((makegrid(fill(6000.0,Nx,Ny,Nz),7),makegrid(fill(0.2,Nx,Ny,Nz),7)));"
   ]
  },
  {
   "cell_type": "code",
   "execution_count": 14,
   "metadata": {},
   "outputs": [
    {
     "name": "stdout",
     "output_type": "stream",
     "text": [
      "day 1...\n",
      "12091.917485462682 261.20508359108936 7.0580895102788395 0.2102264854873707 day 2...\n",
      "5902.664000612925 95.6884581451048 2.572312479413205 0.061597121236904646 day 3...\n",
      "5733.893634695605 91.52371840017138 2.3686265744087383 0.06649290160311744 day 4...\n",
      "5506.548820761775 88.40339897220525 2.360846103920825 0.043894154133406714 day 5...\n",
      "5234.57934715915 83.16246751549771 2.095956934217263 0.047874625126081344 day 6...\n",
      "4947.669220814527 76.42030895203018 1.8602704394639795 0.04681750802970964 day 7...\n",
      "4669.536608038824 71.92078967849139 1.7299113193316376 0.04594073298658492 day 8...\n",
      "4414.336033477582 68.88555998190644 1.642625194123956 0.04549487234815522 day 9...\n",
      "4188.340839452607 64.85263045258253 1.613628543616895 0.04257690745668734 1751.917905 seconds (11.89 G allocations: 918.758 GiB, 8.56% gc time)\n"
     ]
    }
   ],
   "source": [
    "@time ps = solveprec1(model, q, g_guess, 10; printt=true, rstrt=50, printil=true, mi = 200, gmrestol = 1e-5);"
   ]
  },
  {
   "cell_type": "code",
   "execution_count": 23,
   "metadata": {},
   "outputs": [
    {
     "name": "stdout",
     "output_type": "stream",
     "text": [
      "day 1...\n",
      "3992.1585862763077 63.197470088697585 1.5441336678263606 0.04162490175571768 day 2...\n",
      "3824.0454090363396 60.206562327656165 1.4952904214952543 0.038411622465139766 day 3...\n",
      "3681.0477304850033 59.28750364446667 1.448891947668777 0.03700768797710528 day 4...\n",
      "3559.0557859790874 56.92532490609305 1.4667633964617934 0.02071707974075533 day 5...\n",
      "3454.061414901803 56.30541183915742 1.4349537941201813 0.019973021384865754 "
     ]
    },
    {
     "ename": "InterruptException",
     "evalue": "InterruptException:",
     "output_type": "error",
     "traceback": [
      "InterruptException:",
      "",
      "Stacktrace:",
      " [1] #res_f#12(::Bool, ::Float64, ::Float64, ::Function, ::Reservoirmodel{Array{Float64,3}}, ::Array{Float64,1}, ::Array{ForwardDiff.Dual{ForwardDiff.Tag{getfield(Main, Symbol(\"##23#24\")){Reservoirmodel{Array{Float64,3}},Array{Float64,4},Tuple{Grid{Float64,3,7,Array{Float64,3}},Grid{Float64,3,7,Array{Float64,3}}},Int64,Int64,Int64},Float64},Float64,7},2}, ::Tuple{Grid{Float64,3,7,Array{Float64,3}},Grid{Float64,3,7,Array{Float64,3}}}, ::Int64, ::Int64, ::Int64) at /Users/sw2030/Desktop/gitrep/Reservoirnew/src/res3d.jl:79",
      " [2] res_f at /Users/sw2030/Desktop/gitrep/Reservoirnew/src/res3d.jl:3 [inlined]",
      " [3] #23 at /Users/sw2030/Desktop/gitrep/Reservoirnew/src/res3d.jl:185 [inlined]",
      " [4] chunk_mode_jacobian(::getfield(Main, Symbol(\"##23#24\")){Reservoirmodel{Array{Float64,3}},Array{Float64,4},Tuple{Grid{Float64,3,7,Array{Float64,3}},Grid{Float64,3,7,Array{Float64,3}}},Int64,Int64,Int64}, ::Array{Float64,2}, ::ForwardDiff.JacobianConfig{ForwardDiff.Tag{getfield(Main, Symbol(\"##23#24\")){Reservoirmodel{Array{Float64,3}},Array{Float64,4},Tuple{Grid{Float64,3,7,Array{Float64,3}},Grid{Float64,3,7,Array{Float64,3}}},Int64,Int64,Int64},Float64},Float64,7,Array{ForwardDiff.Dual{ForwardDiff.Tag{getfield(Main, Symbol(\"##23#24\")){Reservoirmodel{Array{Float64,3}},Array{Float64,4},Tuple{Grid{Float64,3,7,Array{Float64,3}},Grid{Float64,3,7,Array{Float64,3}}},Int64,Int64,Int64},Float64},Float64,7},2}}) at /Users/sw2030/.julia/packages/ForwardDiff/hnKaN/src/jacobian.jl:229",
      " [5] jacobian(::Function, ::Array{Float64,2}, ::ForwardDiff.JacobianConfig{ForwardDiff.Tag{getfield(Main, Symbol(\"##23#24\")){Reservoirmodel{Array{Float64,3}},Array{Float64,4},Tuple{Grid{Float64,3,7,Array{Float64,3}},Grid{Float64,3,7,Array{Float64,3}}},Int64,Int64,Int64},Float64},Float64,7,Array{ForwardDiff.Dual{ForwardDiff.Tag{getfield(Main, Symbol(\"##23#24\")){Reservoirmodel{Array{Float64,3}},Array{Float64,4},Tuple{Grid{Float64,3,7,Array{Float64,3}},Grid{Float64,3,7,Array{Float64,3}}},Int64,Int64,Int64},Float64},Float64,7},2}}, ::Val{true}) at /Users/sw2030/.julia/packages/ForwardDiff/hnKaN/src/jacobian.jl:19",
      " [6] jacobian(::Function, ::Array{Float64,2}, ::ForwardDiff.JacobianConfig{ForwardDiff.Tag{getfield(Main, Symbol(\"##23#24\")){Reservoirmodel{Array{Float64,3}},Array{Float64,4},Tuple{Grid{Float64,3,7,Array{Float64,3}},Grid{Float64,3,7,Array{Float64,3}}},Int64,Int64,Int64},Float64},Float64,7,Array{ForwardDiff.Dual{ForwardDiff.Tag{getfield(Main, Symbol(\"##23#24\")){Reservoirmodel{Array{Float64,3}},Array{Float64,4},Tuple{Grid{Float64,3,7,Array{Float64,3}},Grid{Float64,3,7,Array{Float64,3}}},Int64,Int64,Int64},Float64},Float64,7},2}}) at /Users/sw2030/.julia/packages/ForwardDiff/hnKaN/src/jacobian.jl:15 (repeats 2 times)",
      " [7] getstencilArray(::Reservoirmodel{Array{Float64,3}}, ::Array{Float64,4}, ::Tuple{Grid{Float64,3,7,Array{Float64,3}},Grid{Float64,3,7,Array{Float64,3}}}, ::Tuple{Grid{Float64,3,7,Array{Float64,3}},Grid{Float64,3,7,Array{Float64,3}}}) at /Users/sw2030/Desktop/gitrep/Reservoirnew/src/res3d.jl:185",
      " [8] getstencil at /Users/sw2030/Desktop/gitrep/Reservoirnew/src/reservoirfunc.jl:234 [inlined]",
      " [9] #solveprec1#9(::Bool, ::Int64, ::Int64, ::Bool, ::Float64, ::typeof(make_P_E_precond_1), ::Function, ::Reservoirmodel{Array{Float64,3}}, ::Array{Float64,4}, ::Tuple{Grid{Float64,3,7,Array{Float64,3}},Grid{Float64,3,7,Array{Float64,3}}}, ::Int64) at /Users/sw2030/Desktop/gitrep/Reservoirnew/src/reservoirfunc.jl:218",
      " [10] (::getfield(Main, Symbol(\"#kw##solveprec1\")))(::NamedTuple{(:printt, :rstrt, :printil, :mi, :gmrestol),Tuple{Bool,Int64,Bool,Int64,Float64}}, ::typeof(solveprec1), ::Reservoirmodel{Array{Float64,3}}, ::Array{Float64,4}, ::Tuple{Grid{Float64,3,7,Array{Float64,3}},Grid{Float64,3,7,Array{Float64,3}}}, ::Int64) at ./none:0",
      " [11] top-level scope at In[23]:2"
     ]
    }
   ],
   "source": [
    "g_guess = copy(ps[10]);\n",
    "ps2  = solveprec1(model, q, g_guess, 20; printt=true, rstrt=50, printil=true, mi = 100, gmrestol = 1e-5);"
   ]
  },
  {
   "cell_type": "code",
   "execution_count": 39,
   "metadata": {},
   "outputs": [],
   "source": [
    "res   = getresidual(model, q, g_guess, g_guess)\n",
    "rescopy = copy(res)\n",
    "S     = getstencil(model, q, g_guess, g_guess);"
   ]
  },
  {
   "cell_type": "code",
   "execution_count": null,
   "metadata": {},
   "outputs": [],
   "source": []
  },
  {
   "cell_type": "code",
   "execution_count": 24,
   "metadata": {},
   "outputs": [],
   "source": [
    "psgrid1 = copy(g_guess)\n",
    "P1, E1 = make_P_E_precond_1(S)\n",
    "dg = stencilgmres(S, res, 100; M=(t->precond_1(P1,E1,t)))[1];\n",
    "psgrid2 = psgrid1-dg;"
   ]
  },
  {
   "cell_type": "code",
   "execution_count": 25,
   "metadata": {},
   "outputs": [
    {
     "name": "stdout",
     "output_type": "stream",
     "text": [
      "14887.423716895879\n"
     ]
    },
    {
     "ename": "InterruptException",
     "evalue": "InterruptException:",
     "output_type": "error",
     "traceback": [
      "InterruptException:",
      "",
      "Stacktrace:",
      " [1] ρ_water(::Float64) at ./In[15]:8",
      " [2] #res_f#12(::Bool, ::Float64, ::Float64, ::Function, ::Reservoirmodel{Array{Float64,3}}, ::Array{Float64,1}, ::Array{Float64,2}, ::Tuple{Grid{Float64,3,7,Array{Float64,3}},Grid{Float64,3,7,Array{Float64,3}}}, ::Int64, ::Int64, ::Int64) at /Users/sw2030/Desktop/gitrep/Reservoirnew/src/res3d.jl:138",
      " [3] res_f at /Users/sw2030/Desktop/gitrep/Reservoirnew/src/res3d.jl:3 [inlined]",
      " [4] res_each(::Reservoirmodel{Array{Float64,3}}, ::Array{Float64,4}, ::Tuple{Grid{Float64,3,7,Array{Float64,3}},Grid{Float64,3,7,Array{Float64,3}}}, ::Tuple{Grid{Float64,3,7,Array{Float64,3}},Grid{Float64,3,7,Array{Float64,3}}}, ::Int64, ::Int64, ::Int64) at /Users/sw2030/Desktop/gitrep/Reservoirnew/src/res3d.jl:164",
      " [5] iterate at ./none:0 [inlined]",
      " [6] collect_to!(::Array{Array{Float64,1},3}, ::Base.Generator{Base.Iterators.ProductIterator{Tuple{UnitRange{Int64},UnitRange{Int64},UnitRange{Int64}}},getfield(Main, Symbol(\"##15#18\")){Reservoirmodel{Array{Float64,3}},Array{Float64,4},Tuple{Grid{Float64,3,7,Array{Float64,3}},Grid{Float64,3,7,Array{Float64,3}}},Tuple{Grid{Float64,3,7,Array{Float64,3}},Grid{Float64,3,7,Array{Float64,3}}}}}, ::Int64, ::Tuple{Tuple{Int64,Int64},Tuple{Int64,Int64},Tuple{Int64,Int64}}) at ./array.jl:656",
      " [7] collect_to_with_first!(::Array{Array{Float64,1},3}, ::Array{Float64,1}, ::Base.Generator{Base.Iterators.ProductIterator{Tuple{UnitRange{Int64},UnitRange{Int64},UnitRange{Int64}}},getfield(Main, Symbol(\"##15#18\")){Reservoirmodel{Array{Float64,3}},Array{Float64,4},Tuple{Grid{Float64,3,7,Array{Float64,3}},Grid{Float64,3,7,Array{Float64,3}}},Tuple{Grid{Float64,3,7,Array{Float64,3}},Grid{Float64,3,7,Array{Float64,3}}}}}, ::Tuple{Tuple{Int64,Int64},Tuple{Int64,Int64},Tuple{Int64,Int64}}) at ./array.jl:643",
      " [8] collect(::Base.Generator{Base.Iterators.ProductIterator{Tuple{UnitRange{Int64},UnitRange{Int64},UnitRange{Int64}}},getfield(Main, Symbol(\"##15#18\")){Reservoirmodel{Array{Float64,3}},Array{Float64,4},Tuple{Grid{Float64,3,7,Array{Float64,3}},Grid{Float64,3,7,Array{Float64,3}}},Tuple{Grid{Float64,3,7,Array{Float64,3}},Grid{Float64,3,7,Array{Float64,3}}}}}) at ./array.jl:624",
      " [9] getresidual(::Reservoirmodel{Array{Float64,3}}, ::Array{Float64,4}, ::Tuple{Grid{Float64,3,7,Array{Float64,3}},Grid{Float64,3,7,Array{Float64,3}}}, ::Tuple{Grid{Float64,3,7,Array{Float64,3}},Grid{Float64,3,7,Array{Float64,3}}}) at /Users/sw2030/Desktop/gitrep/Reservoirnew/src/res3d.jl:171",
      " [10] top-level scope at In[25]:5"
     ]
    }
   ],
   "source": [
    "P1, E1 = make_P_E_precond_1(S)\n",
    "dg = stencilgmres(S, res, 100; M=(t->precond_1(P1,E1,t)))[1];\n",
    "println(norm(dg))\n",
    "psgrid2 -= dg;\n",
    "S, res = getstencil(model, q, psgrid2, psgrid1), getresidual(model, q, psgrid2, psgrid1);"
   ]
  },
  {
   "cell_type": "code",
   "execution_count": null,
   "metadata": {},
   "outputs": [],
   "source": []
  },
  {
   "cell_type": "code",
   "execution_count": null,
   "metadata": {},
   "outputs": [],
   "source": []
  },
  {
   "cell_type": "code",
   "execution_count": null,
   "metadata": {},
   "outputs": [],
   "source": []
  },
  {
   "cell_type": "code",
   "execution_count": null,
   "metadata": {},
   "outputs": [],
   "source": []
  },
  {
   "cell_type": "code",
   "execution_count": null,
   "metadata": {},
   "outputs": [],
   "source": []
  },
  {
   "cell_type": "code",
   "execution_count": null,
   "metadata": {},
   "outputs": [],
   "source": []
  },
  {
   "cell_type": "code",
   "execution_count": null,
   "metadata": {},
   "outputs": [],
   "source": []
  },
  {
   "cell_type": "code",
   "execution_count": null,
   "metadata": {},
   "outputs": [],
   "source": []
  },
  {
   "cell_type": "code",
   "execution_count": null,
   "metadata": {},
   "outputs": [],
   "source": []
  },
  {
   "cell_type": "code",
   "execution_count": null,
   "metadata": {},
   "outputs": [],
   "source": []
  },
  {
   "cell_type": "code",
   "execution_count": 17,
   "metadata": {},
   "outputs": [
    {
     "name": "stdout",
     "output_type": "stream",
     "text": [
      "day 1...\n",
      "day 2...\n",
      "day 3...\n",
      "day 4...\n",
      "day 5...\n",
      "day 6...\n",
      "day 7...\n",
      "day 8...\n",
      "day 9...\n",
      "  3.797527 seconds (72.86 M allocations: 2.769 GiB, 9.45% gc time)\n"
     ]
    }
   ],
   "source": [
    "@time solveprec1(model, q, g_guess, 10; printt=true, rstrt = 50, mi = 50);"
   ]
  },
  {
   "cell_type": "code",
   "execution_count": 36,
   "metadata": {},
   "outputs": [
    {
     "data": {
      "text/plain": [
       "Mfullm (generic function with 1 method)"
      ]
     },
     "execution_count": 36,
     "metadata": {},
     "output_type": "execute_result"
    }
   ],
   "source": [
    "function Mfullm(SS, res)\n",
    "    Nx, Ny, Nz = size(SS.stencils[1])\n",
    "    N = Nx*Ny*Nz\n",
    "    Nxy = Nx*Ny\n",
    "    A = spzeros(2N,2N)\n",
    "    b = zeros(2N)\n",
    "    for i in 1:Nx, j in 1:Ny, k in 1:Nz\n",
    "        nd = (k-1)*Nxy+(j-1)*Nx+i\n",
    "        A[(2*nd-1):2*nd, (2*nd-1):2*nd] .= [SS[(ix-1)*2+jy][i,j,k].value[4] for ix = 1:2, jy in 1:2]\n",
    "        if i!=1  \n",
    "            A[(2*nd-1):2*nd, (2*nd-3):(2*nd-2)]           .= [SS[(ix-1)*2+jy][i,j,k].value[1] for ix = 1:2, jy in 1:2]\n",
    "        end\n",
    "        if j!=1  \n",
    "            A[(2*nd-1):2*nd, (2*nd-2*Nx-1):(2*nd-2*Nx)]   .= [SS[(ix-1)*2+jy][i,j,k].value[2] for ix = 1:2, jy in 1:2]\n",
    "        end  \n",
    "        if k!=1  \n",
    "            A[(2*nd-1):2*nd, (2*nd-2*Nxy-1):(2*nd-2*Nxy)] .= [SS[(ix-1)*2+jy][i,j,k].value[3] for ix = 1:2, jy in 1:2]\n",
    "        end\n",
    "        if k!=Nz \n",
    "            A[(2*nd-1):2*nd, (2*nd+2*Nxy-1):(2*nd+2*Nxy)] .= [SS[(ix-1)*2+jy][i,j,k].value[5] for ix = 1:2, jy in 1:2]\n",
    "        end\n",
    "        if j!=Ny \n",
    "            A[(2*nd-1):2*nd, (2*nd+2*Nx-1):(2*nd+2*Nx)]   .= [SS[(ix-1)*2+jy][i,j,k].value[6] for ix = 1:2, jy in 1:2] \n",
    "        end\n",
    "        if i!=Nx \n",
    "            A[(2*nd-1):2*nd, (2*nd+1):(2*nd+2)]           .= [SS[(ix-1)*2+jy][i,j,k].value[7] for ix = 1:2, jy in 1:2] \n",
    "        end\n",
    "        b[(2*nd-1):(2*nd)] .= res[i,j,k]\n",
    "        if (j==1)&&(k==1) print(i) end\n",
    "    end    \n",
    "    return A, b\n",
    "end"
   ]
  },
  {
   "cell_type": "code",
   "execution_count": 32,
   "metadata": {},
   "outputs": [
    {
     "name": "stdout",
     "output_type": "stream",
     "text": [
      "123456789101112131415"
     ]
    }
   ],
   "source": [
    "SA, resA = Mfullm(S, res);"
   ]
  },
  {
   "cell_type": "code",
   "execution_count": 33,
   "metadata": {},
   "outputs": [
    {
     "data": {
      "text/plain": [
       "3.468206533884081e7"
      ]
     },
     "execution_count": 33,
     "metadata": {},
     "output_type": "execute_result"
    }
   ],
   "source": [
    "cond(Array(SA))"
   ]
  },
  {
   "cell_type": "code",
   "execution_count": 37,
   "metadata": {},
   "outputs": [],
   "source": [
    "nn = 40\n",
    "Sa = Array{Any,1}(undef,4)\n",
    "Sa[1] = Array{StencilPoint{Float64,3,7},3}(undef,nn,nn,nn)\n",
    "Sa[2] = Array{StencilPoint{Float64,3,7},3}(undef,nn,nn,nn)\n",
    "Sa[3] = Array{StencilPoint{Float64,3,7},3}(undef,nn,nn,nn)\n",
    "Sa[4] = Array{StencilPoint{Float64,3,7},3}(undef,nn,nn,nn)\n",
    "for i in 1:nn, j in 1:nn, lk in 1:nn\n",
    "    for c in 1:4\n",
    "        Sa[c][i,j,lk] = StencilPoint{Float64,3,7}(Tuple(randn(7).*rand([zeros(1);randn()],7)))\n",
    "    end\n",
    "end\n",
    "MS = MStencil{4,Float64,3,7,typeof(Sa[1])}(Tuple(Stencil{Float64,3,7,typeof(Sa[1])}.(Sa)))\n",
    "mg = randn(nn,nn,nn)\n",
    "MG = MGrid{2,Float64,3,7,Array{Float64,3}}(Tuple([makegrid(mg,7) for i in 1:2]));"
   ]
  },
  {
   "cell_type": "code",
   "execution_count": 38,
   "metadata": {},
   "outputs": [
    {
     "name": "stdout",
     "output_type": "stream",
     "text": [
      "12345678910111213141516171819202122232425262728293031323334353637383940"
     ]
    }
   ],
   "source": [
    "SA2, GA2 = Mfullm(MS, MG);"
   ]
  },
  {
   "cell_type": "code",
   "execution_count": 39,
   "metadata": {},
   "outputs": [
    {
     "name": "stdout",
     "output_type": "stream",
     "text": [
      "  1.896 ms (2 allocations: 1000.08 KiB)\n"
     ]
    }
   ],
   "source": [
    "@btime SA2*GA2;"
   ]
  },
  {
   "cell_type": "code",
   "execution_count": 40,
   "metadata": {},
   "outputs": [
    {
     "name": "stdout",
     "output_type": "stream",
     "text": [
      "  1.407 ms (7 allocations: 1.13 MiB)\n"
     ]
    }
   ],
   "source": [
    "@btime MS*MG;"
   ]
  },
  {
   "cell_type": "code",
   "execution_count": 41,
   "metadata": {},
   "outputs": [
    {
     "data": {
      "text/plain": [
       "1.1930174291938997"
      ]
     },
     "execution_count": 41,
     "metadata": {},
     "output_type": "execute_result"
    }
   ],
   "source": [
    "length(SA2.nzval)/(30*30*30*4*7-4*30*30*6)"
   ]
  },
  {
   "cell_type": "code",
   "execution_count": 2,
   "metadata": {},
   "outputs": [
    {
     "data": {
      "text/plain": [
       "fullm (generic function with 1 method)"
      ]
     },
     "execution_count": 2,
     "metadata": {},
     "output_type": "execute_result"
    }
   ],
   "source": [
    "function fullm(S::Stencil{TS,3,7}, G) where {TS}\n",
    "    nx, ny, nz = size(S)\n",
    "    SS = spzeros(nx*ny*nz, nx*ny*nz)\n",
    "    GG = zeros(nx*ny*nz)\n",
    "    for i in 1:nx, j in 1:ny, k in 1:nz\n",
    "        nd = (i-1)*ny*nz+(j-1)*nz+k\n",
    "        Sv = S.v[i,j,k]\n",
    "        SS[nd,nd] += Sv.value[4]\n",
    "        GG[nd] += G[i,j,k]\n",
    "        if i!=1  SS[nd,nd-ny*nz] = Sv.value[1] end\n",
    "        if i!=nx SS[nd,nd+ny*nz] = Sv.value[7] end\n",
    "        if j!=1  SS[nd,nd-nz] = Sv.value[2] end\n",
    "        if j!=nx SS[nd,nd+nz] = Sv.value[6] end\n",
    "        if k!=1  SS[nd,nd-1]  = Sv.value[3] end\n",
    "        if k!=ny SS[nd,nd+1]  = Sv.value[5] end\n",
    "    end\n",
    "    return SS, GG\n",
    "end"
   ]
  },
  {
   "cell_type": "code",
   "execution_count": 3,
   "metadata": {},
   "outputs": [
    {
     "data": {
      "text/plain": [
       "0.49934767441860467"
      ]
     },
     "execution_count": 3,
     "metadata": {},
     "output_type": "execute_result"
    }
   ],
   "source": [
    "N = 50\n",
    "Sarray = Array{StencilPoint{Float64,3,7},3}(undef, N, N, N);\n",
    "for i in 1:N, j in 1:N, k in 1:N\n",
    "    spt = randn(7).*rand([zeros(1);randn()],7)\n",
    "    if i==1 spt[1] = 0.0 end\n",
    "    if j==1 spt[2] = 0.0 end\n",
    "    if k==1 spt[3] = 0.0 end\n",
    "    if k==N spt[5] = 0.0 end\n",
    "    if j==N spt[6] = 0.0 end\n",
    "    if i==N spt[7] = 0.0 end\n",
    "    spt = Tuple(spt)\n",
    "    Sarray[i,j,k] = StencilPoint{Float64,3,7}(spt)\n",
    "end\n",
    "S1 = Stencil{Float64,3,7,typeof(Sarray)}(Sarray);\n",
    "G1 = makegrid(randn(N,N,N),7)\n",
    "SA, GA = fullm(S1, G1);\n",
    "length(SA.nzval)/(N*N*N*7-6*N*N)"
   ]
  },
  {
   "cell_type": "code",
   "execution_count": 42,
   "metadata": {},
   "outputs": [
    {
     "data": {
      "text/plain": [
       "2.3703703703703702"
      ]
     },
     "execution_count": 42,
     "metadata": {},
     "output_type": "execute_result"
    }
   ],
   "source": [
    "length(GA2)/(30*30*30*2)"
   ]
  },
  {
   "cell_type": "code",
   "execution_count": 22,
   "metadata": {},
   "outputs": [
    {
     "name": "stderr",
     "output_type": "stream",
     "text": [
      "WARNING: using PyPlot.axes in module Main conflicts with an existing identifier.\n"
     ]
    }
   ],
   "source": [
    "using PyPlot"
   ]
  },
  {
   "cell_type": "code",
   "execution_count": 24,
   "metadata": {},
   "outputs": [
    {
     "ename": "PyCall.PyError",
     "evalue": "PyError ($(Expr(:escape, :(ccall(#= /Users/sw2030/.julia/packages/PyCall/fiJ3o/src/PyCall.jl:709 =# @pysym(:PyObject_Call), PyPtr, (PyPtr, PyPtr, PyPtr), o, arg, C_NULL))))) <class 'RuntimeError'>\nRuntimeError('Julia exception: MethodError(iterate, (PyCall.PyDict{Symbol,PyCall.PyObject,true}(),), 0x0000000000006272)',)\n  File \"PyCall\", line 1, in <lambda>\n",
     "output_type": "error",
     "traceback": [
      "PyError ($(Expr(:escape, :(ccall(#= /Users/sw2030/.julia/packages/PyCall/fiJ3o/src/PyCall.jl:709 =# @pysym(:PyObject_Call), PyPtr, (PyPtr, PyPtr, PyPtr), o, arg, C_NULL))))) <class 'RuntimeError'>\nRuntimeError('Julia exception: MethodError(iterate, (PyCall.PyDict{Symbol,PyCall.PyObject,true}(),), 0x0000000000006272)',)\n  File \"PyCall\", line 1, in <lambda>\n",
      "",
      "Stacktrace:",
      " [1] pyerr_check at /Users/sw2030/.julia/packages/PyCall/fiJ3o/src/exception.jl:60 [inlined]",
      " [2] pyerr_check at /Users/sw2030/.julia/packages/PyCall/fiJ3o/src/exception.jl:64 [inlined]",
      " [3] macro expansion at /Users/sw2030/.julia/packages/PyCall/fiJ3o/src/exception.jl:81 [inlined]",
      " [4] macro expansion at /Users/sw2030/.julia/packages/PyCall/fiJ3o/src/exception.jl:82 [inlined]",
      " [5] #_pycall#82(::Base.Iterators.Pairs{Union{},Union{},Tuple{},NamedTuple{(),Tuple{}}}, ::Function, ::PyCall.PyObject, ::PyCall.PyObject, ::Vararg{PyCall.PyObject,N} where N) at /Users/sw2030/.julia/packages/PyCall/fiJ3o/src/PyCall.jl:701",
      " [6] _pycall at /Users/sw2030/.julia/packages/PyCall/fiJ3o/src/PyCall.jl:697 [inlined]",
      " [7] #pycall#86 at /Users/sw2030/.julia/packages/PyCall/fiJ3o/src/PyCall.jl:731 [inlined]",
      " [8] pycall at /Users/sw2030/.julia/packages/PyCall/fiJ3o/src/PyCall.jl:731 [inlined]",
      " [9] #call#87 at /Users/sw2030/.julia/packages/PyCall/fiJ3o/src/PyCall.jl:734 [inlined]",
      " [10] PyObject at /Users/sw2030/.julia/packages/PyCall/fiJ3o/src/PyCall.jl:734 [inlined]",
      " [11] Type at /Users/sw2030/.julia/packages/PyCall/fiJ3o/src/io.jl:126 [inlined]",
      " [12] map at ./tuple.jl:162 [inlined]",
      " [13] #_pycall#82(::Base.Iterators.Pairs{Symbol,String,Tuple{Symbol,Symbol},NamedTuple{(:format, :bbox_inches),Tuple{String,String}}}, ::Function, ::PyCall.PyObject, ::IOContext{Base.GenericIOBuffer{Array{UInt8,1}}}) at /Users/sw2030/.julia/packages/PyCall/fiJ3o/src/PyCall.jl:697",
      " [14] #_pycall at ./none:0 [inlined]",
      " [15] #pycall#86 at /Users/sw2030/.julia/packages/PyCall/fiJ3o/src/PyCall.jl:731 [inlined]",
      " [16] #pycall at ./none:0 [inlined]",
      " [17] #call#87 at /Users/sw2030/.julia/packages/PyCall/fiJ3o/src/PyCall.jl:734 [inlined]",
      " [18] PyObject at ./none:0 [inlined]",
      " [19] show(::IOContext{Base.GenericIOBuffer{Array{UInt8,1}}}, ::MIME{Symbol(\"image/svg+xml\")}, ::Figure) at /Users/sw2030/.julia/packages/PyPlot/jXCXB/src/PyPlot.jl:78",
      " [20] limitstringmime at /Users/sw2030/.julia/packages/IJulia/9RcVi/src/inline.jl:36 [inlined]",
      " [21] display_dict(::Figure) at /Users/sw2030/.julia/packages/IJulia/9RcVi/src/execute_request.jl:38",
      " [22] display(::IJulia.InlineDisplay, ::Figure) at /Users/sw2030/.julia/packages/IJulia/9RcVi/src/inline.jl:88",
      " [23] display(::Figure) at ./multimedia.jl:287",
      " [24] display_figs() at /Users/sw2030/.julia/packages/PyPlot/jXCXB/src/PyPlot.jl:114",
      " [25] #invokelatest#1 at ./essentials.jl:686 [inlined]",
      " [26] invokelatest at ./essentials.jl:685 [inlined]",
      " [27] execute_request(::ZMQ.Socket, ::IJulia.Msg) at /Users/sw2030/.julia/packages/IJulia/9RcVi/src/execute_request.jl:194",
      " [28] #invokelatest#1 at ./essentials.jl:686 [inlined]",
      " [29] invokelatest at ./essentials.jl:685 [inlined]",
      " [30] eventloop(::ZMQ.Socket) at /Users/sw2030/.julia/packages/IJulia/9RcVi/src/eventloop.jl:8",
      " [31] (::getfield(IJulia, Symbol(\"##15#18\")))() at ./task.jl:259"
     ]
    }
   ],
   "source": [
    "spy(Array(SA2[1:100, 1:100]))"
   ]
  },
  {
   "cell_type": "code",
   "execution_count": 9,
   "metadata": {},
   "outputs": [
    {
     "name": "stdout",
     "output_type": "stream",
     "text": [
      "day 1...\n",
      "day 2...\n",
      "day 1...\n",
      "day 2...\n"
     ]
    }
   ],
   "source": [
    "solveprec1(model, q, g_guess, 3; printt=true, rstrt = 10, mi = 10)\n",
    "solveprec1(model_d, q_d, g_guess_d, 3; printt=true, rstrt = 10, mi = 10);\n"
   ]
  },
  {
   "cell_type": "code",
   "execution_count": 18,
   "metadata": {},
   "outputs": [
    {
     "name": "stdout",
     "output_type": "stream",
     "text": [
      "day 1...\n",
      "day 2...\n",
      "day 3...\n",
      "day 4...\n",
      "480.842564 seconds (6.64 G allocations: 296.450 GiB, 7.53% gc time)\n"
     ]
    }
   ],
   "source": [
    "@time solveprec1(model, q, g_guess, 5; printt=true, rstrt = 20, mi = 100);"
   ]
  },
  {
   "cell_type": "code",
   "execution_count": 19,
   "metadata": {},
   "outputs": [
    {
     "name": "stdout",
     "output_type": "stream",
     "text": [
      "day 1...\n",
      "Maxiter"
     ]
    },
    {
     "ename": "LoadError",
     "evalue": "On worker 2:\nDomainError with log:\n-0.2091253517977868 will only return a complex result if called with a complex argument. Try -0.2091253517977868(Complex(x)).\nthrow_complex_domainerror at ./math.jl:31\nlog at ./special/log.jl:285\np_cow at ./In[13]:8\n#res_f#146 at /Users/sw2030/Desktop/gitrep/Reservoirnew/src/res3d.jl:66\nres_f at /Users/sw2030/Desktop/gitrep/Reservoirnew/src/res3d.jl:3 [inlined]\nres_each at /Users/sw2030/Desktop/gitrep/Reservoirnew/src/res3d.jl:164\niterate at ./none:0 [inlined]\ncollect_to! at ./array.jl:631\ncollect_to_with_first! at ./array.jl:618\ncollect at ./array.jl:599\n#100 at /Users/sw2030/Desktop/gitrep/Reservoirnew/src/res3d.jl:176\n#construct_localparts#3 at /Users/sw2030/.julia/packages/DistributedArrays/oz7Z/src/darray.jl:110\nconstruct_localparts at /Users/sw2030/.julia/packages/DistributedArrays/oz7Z/src/darray.jl:110\n#112 at /Users/osx/buildbot/slave/package_osx64/build/usr/share/julia/stdlib/v0.7/Distributed/src/process_messages.jl:269\nrun_work_thunk at /Users/osx/buildbot/slave/package_osx64/build/usr/share/julia/stdlib/v0.7/Distributed/src/process_messages.jl:56\nmacro expansion at /Users/osx/buildbot/slave/package_osx64/build/usr/share/julia/stdlib/v0.7/Distributed/src/process_messages.jl:269 [inlined]\n#111 at ./task.jl:262\n#remotecall_fetch#149(::Base.Iterators.Pairs{Union{},Union{},Tuple{},NamedTuple{(),Tuple{}}}, ::Function, ::Function, ::Distributed.Worker, ::Function, ::Vararg{Any,N} where N) at /Users/osx/buildbot/slave/package_osx64/build/usr/share/julia/stdlib/v0.7/Distributed/src/remotecall.jl:379\nremotecall_fetch(::Function, ::Distributed.Worker, ::Function, ::Vararg{Any,N} where N) at /Users/osx/buildbot/slave/package_osx64/build/usr/share/julia/stdlib/v0.7/Distributed/src/remotecall.jl:371\n#remotecall_fetch#152(::Base.Iterators.Pairs{Union{},Union{},Tuple{},NamedTuple{(),Tuple{}}}, ::Function, ::Function, ::Int64, ::Function, ::Vararg{Any,N} where N) at /Users/osx/buildbot/slave/package_osx64/build/usr/share/julia/stdlib/v0.7/Distributed/src/remotecall.jl:392\nremotecall_fetch(::Function, ::Int64, ::Function, ::Vararg{Any,N} where N) at /Users/osx/buildbot/slave/package_osx64/build/usr/share/julia/stdlib/v0.7/Distributed/src/remotecall.jl:392\nmacro expansion at /Users/sw2030/.julia/packages/DistributedArrays/oz7Z/src/darray.jl:87 [inlined]\n(::getfield(DistributedArrays, Symbol(\"##1#2\")){Tuple{Int64,Int64},getfield(Main, Symbol(\"##100#107\")){Reservoirmodel{DArray{Float64,3,Array{Float64,3}}},DArray{Float64,4,Array{Float64,4}},Tuple{Grid{Float64,3,1,DArray{Float64,3,Grid{Float64,3,7,Array{Float64,3}}}},Grid{Float64,3,1,DArray{Float64,3,Grid{Float64,3,7,Array{Float64,3}}}}},Tuple{Grid{Float64,3,1,DArray{Float64,3,Grid{Float64,3,7,Array{Float64,3}}}},Grid{Float64,3,1,DArray{Float64,3,Grid{Float64,3,7,Array{Float64,3}}}}}},Tuple{Int64,Int64,Int64},Array{Int64,3},Array{Tuple{UnitRange{Int64},UnitRange{Int64},UnitRange{Int64}},3},Array{Array{Int64,1},1},Channel{Any}})() at ./task.jl:262\n\n...and 1 more exception(s).\n",
     "output_type": "error",
     "traceback": [
      "On worker 2:\nDomainError with log:\n-0.2091253517977868 will only return a complex result if called with a complex argument. Try -0.2091253517977868(Complex(x)).\nthrow_complex_domainerror at ./math.jl:31\nlog at ./special/log.jl:285\np_cow at ./In[13]:8\n#res_f#146 at /Users/sw2030/Desktop/gitrep/Reservoirnew/src/res3d.jl:66\nres_f at /Users/sw2030/Desktop/gitrep/Reservoirnew/src/res3d.jl:3 [inlined]\nres_each at /Users/sw2030/Desktop/gitrep/Reservoirnew/src/res3d.jl:164\niterate at ./none:0 [inlined]\ncollect_to! at ./array.jl:631\ncollect_to_with_first! at ./array.jl:618\ncollect at ./array.jl:599\n#100 at /Users/sw2030/Desktop/gitrep/Reservoirnew/src/res3d.jl:176\n#construct_localparts#3 at /Users/sw2030/.julia/packages/DistributedArrays/oz7Z/src/darray.jl:110\nconstruct_localparts at /Users/sw2030/.julia/packages/DistributedArrays/oz7Z/src/darray.jl:110\n#112 at /Users/osx/buildbot/slave/package_osx64/build/usr/share/julia/stdlib/v0.7/Distributed/src/process_messages.jl:269\nrun_work_thunk at /Users/osx/buildbot/slave/package_osx64/build/usr/share/julia/stdlib/v0.7/Distributed/src/process_messages.jl:56\nmacro expansion at /Users/osx/buildbot/slave/package_osx64/build/usr/share/julia/stdlib/v0.7/Distributed/src/process_messages.jl:269 [inlined]\n#111 at ./task.jl:262\n#remotecall_fetch#149(::Base.Iterators.Pairs{Union{},Union{},Tuple{},NamedTuple{(),Tuple{}}}, ::Function, ::Function, ::Distributed.Worker, ::Function, ::Vararg{Any,N} where N) at /Users/osx/buildbot/slave/package_osx64/build/usr/share/julia/stdlib/v0.7/Distributed/src/remotecall.jl:379\nremotecall_fetch(::Function, ::Distributed.Worker, ::Function, ::Vararg{Any,N} where N) at /Users/osx/buildbot/slave/package_osx64/build/usr/share/julia/stdlib/v0.7/Distributed/src/remotecall.jl:371\n#remotecall_fetch#152(::Base.Iterators.Pairs{Union{},Union{},Tuple{},NamedTuple{(),Tuple{}}}, ::Function, ::Function, ::Int64, ::Function, ::Vararg{Any,N} where N) at /Users/osx/buildbot/slave/package_osx64/build/usr/share/julia/stdlib/v0.7/Distributed/src/remotecall.jl:392\nremotecall_fetch(::Function, ::Int64, ::Function, ::Vararg{Any,N} where N) at /Users/osx/buildbot/slave/package_osx64/build/usr/share/julia/stdlib/v0.7/Distributed/src/remotecall.jl:392\nmacro expansion at /Users/sw2030/.julia/packages/DistributedArrays/oz7Z/src/darray.jl:87 [inlined]\n(::getfield(DistributedArrays, Symbol(\"##1#2\")){Tuple{Int64,Int64},getfield(Main, Symbol(\"##100#107\")){Reservoirmodel{DArray{Float64,3,Array{Float64,3}}},DArray{Float64,4,Array{Float64,4}},Tuple{Grid{Float64,3,1,DArray{Float64,3,Grid{Float64,3,7,Array{Float64,3}}}},Grid{Float64,3,1,DArray{Float64,3,Grid{Float64,3,7,Array{Float64,3}}}}},Tuple{Grid{Float64,3,1,DArray{Float64,3,Grid{Float64,3,7,Array{Float64,3}}}},Grid{Float64,3,1,DArray{Float64,3,Grid{Float64,3,7,Array{Float64,3}}}}}},Tuple{Int64,Int64,Int64},Array{Int64,3},Array{Tuple{UnitRange{Int64},UnitRange{Int64},UnitRange{Int64}},3},Array{Array{Int64,1},1},Channel{Any}})() at ./task.jl:262\n\n...and 1 more exception(s).\n",
      "",
      "Stacktrace:",
      " [1] sync_end(::Array{Any,1}) at ./task.jl:229",
      " [2] macro expansion at /Users/sw2030/.julia/packages/DistributedArrays/oz7Z/src/darray.jl:83 [inlined]",
      " [3] macro expansion at ./task.jl:247 [inlined]",
      " [4] DArray(::Tuple{Int64,Int64}, ::Function, ::Tuple{Int64,Int64,Int64}, ::Array{Int64,3}, ::Array{Tuple{UnitRange{Int64},UnitRange{Int64},UnitRange{Int64}},3}, ::Array{Array{Int64,1},1}) at /Users/sw2030/.julia/packages/DistributedArrays/oz7Z/src/darray.jl:82",
      " [5] getresidual(::Reservoirmodel{DArray{Float64,3,Array{Float64,3}}}, ::DArray{Float64,4,Array{Float64,4}}, ::Tuple{Grid{Float64,3,1,DArray{Float64,3,Grid{Float64,3,7,Array{Float64,3}}}},Grid{Float64,3,1,DArray{Float64,3,Grid{Float64,3,7,Array{Float64,3}}}}}, ::Tuple{Grid{Float64,3,1,DArray{Float64,3,Grid{Float64,3,7,Array{Float64,3}}}},Grid{Float64,3,1,DArray{Float64,3,Grid{Float64,3,7,Array{Float64,3}}}}}) at /Users/sw2030/.julia/packages/DistributedArrays/oz7Z/src/darray.jl:241",
      " [6] #solveprec1#9(::Bool, ::Int64, ::Int64, ::Bool, ::Float64, ::typeof(make_P_E_precond_1), ::Function, ::Reservoirmodel{DArray{Float64,3,Array{Float64,3}}}, ::DArray{Float64,4,Array{Float64,4}}, ::Tuple{Grid{Float64,3,1,DArray{Float64,3,Grid{Float64,3,7,Array{Float64,3}}}},Grid{Float64,3,1,DArray{Float64,3,Grid{Float64,3,7,Array{Float64,3}}}}}, ::Int64) at /Users/sw2030/Desktop/gitrep/Reservoirnew/src/reservoirfunc.jl:223",
      " [7] (::getfield(Main, Symbol(\"#kw##solveprec1\")))(::NamedTuple{(:printt, :rstrt, :mi),Tuple{Bool,Int64,Int64}}, ::typeof(solveprec1), ::Reservoirmodel{DArray{Float64,3,Array{Float64,3}}}, ::DArray{Float64,4,Array{Float64,4}}, ::Tuple{Grid{Float64,3,1,DArray{Float64,3,Grid{Float64,3,7,Array{Float64,3}}}},Grid{Float64,3,1,DArray{Float64,3,Grid{Float64,3,7,Array{Float64,3}}}}}, ::Int64) at ./none:0",
      " [8] top-level scope at util.jl:156"
     ]
    }
   ],
   "source": [
    "@time solveprec1(model_d, q_d, g_guess_d, 3; printt=true, rstrt = 20, mi = 100);"
   ]
  },
  {
   "cell_type": "code",
   "execution_count": 30,
   "metadata": {},
   "outputs": [
    {
     "data": {
      "text/plain": [
       "fooG (generic function with 1 method)"
      ]
     },
     "execution_count": 30,
     "metadata": {},
     "output_type": "execute_result"
    }
   ],
   "source": [
    "function fooG(MG::MGrid{M,Tx,N,P,A}) where {M,Tx,N,P,A}\n",
    "    println(M)\n",
    "    println(Tx)\n",
    "    println(N)\n",
    "    println(P)\n",
    "    println(A)\n",
    "end"
   ]
  },
  {
   "cell_type": "code",
   "execution_count": 16,
   "metadata": {},
   "outputs": [
    {
     "data": {
      "text/plain": [
       "2×3×4 Array{Float64,3}:\n",
       "[:, :, 1] =\n",
       " 0.574376  0.901878  0.358498\n",
       " 0.645022  0.129307  0.39487 \n",
       "\n",
       "[:, :, 2] =\n",
       " 0.483133   0.633569  0.106495\n",
       " 0.0106925  0.972873  0.790728\n",
       "\n",
       "[:, :, 3] =\n",
       " 0.891113  0.402342  0.450345\n",
       " 0.494341  0.93613   0.921243\n",
       "\n",
       "[:, :, 4] =\n",
       " 0.782395  0.0833827  0.858091\n",
       " 0.54887   0.651681   0.947281"
      ]
     },
     "execution_count": 16,
     "metadata": {},
     "output_type": "execute_result"
    }
   ],
   "source": [
    "A = rand(2,3,4)"
   ]
  },
  {
   "cell_type": "code",
   "execution_count": 19,
   "metadata": {},
   "outputs": [
    {
     "data": {
      "text/plain": [
       "6"
      ]
     },
     "execution_count": 19,
     "metadata": {},
     "output_type": "execute_result"
    }
   ],
   "source": [
    "stride(A,3)"
   ]
  },
  {
   "cell_type": "code",
   "execution_count": null,
   "metadata": {},
   "outputs": [],
   "source": []
  },
  {
   "cell_type": "code",
   "execution_count": null,
   "metadata": {},
   "outputs": [],
   "source": []
  },
  {
   "cell_type": "code",
   "execution_count": 31,
   "metadata": {},
   "outputs": [
    {
     "name": "stdout",
     "output_type": "stream",
     "text": [
      "2\n",
      "Float64\n",
      "3\n",
      "1\n",
      "DArray{Float64,3,Grid{Float64,3,7,Array{Float64,3}}}\n"
     ]
    }
   ],
   "source": [
    "fooG(res_d)"
   ]
  },
  {
   "cell_type": "code",
   "execution_count": 11,
   "metadata": {},
   "outputs": [
    {
     "name": "stdout",
     "output_type": "stream",
     "text": [
      "day 1...\n",
      "day 2...\n",
      "day 3...\n",
      "day 4...\n",
      "day 5...\n",
      "day 6...\n",
      "day 7...\n",
      "day 8...\n",
      "day 9...\n"
     ]
    },
    {
     "data": {
      "text/plain": [
       "10-element Array{Tuple{Grid{Float64,3,7,Array{Float64,3}},Grid{Float64,3,7,Array{Float64,3}}},1}:\n",
       " ([6000.0 6000.0 … 6000.0 6000.0; 6000.0 6000.0 … 6000.0 6000.0; … ; 6000.0 6000.0 … 6000.0 6000.0; 6000.0 6000.0 … 6000.0 6000.0]\n",
       "\n",
       "[6000.0 6000.0 … 6000.0 6000.0; 6000.0 6000.0 … 6000.0 6000.0; … ; 6000.0 6000.0 … 6000.0 6000.0; 6000.0 6000.0 … 6000.0 6000.0]\n",
       "\n",
       "[6000.0 6000.0 … 6000.0 6000.0; 6000.0 6000.0 … 6000.0 6000.0; … ; 6000.0 6000.0 … 6000.0 6000.0; 6000.0 6000.0 … 6000.0 6000.0]\n",
       "\n",
       "...\n",
       "\n",
       "[6000.0 6000.0 … 6000.0 6000.0; 6000.0 6000.0 … 6000.0 6000.0; … ; 6000.0 6000.0 … 6000.0 6000.0; 6000.0 6000.0 … 6000.0 6000.0]\n",
       "\n",
       "[6000.0 6000.0 … 6000.0 6000.0; 6000.0 6000.0 … 6000.0 6000.0; … ; 6000.0 6000.0 … 6000.0 6000.0; 6000.0 6000.0 … 6000.0 6000.0]\n",
       "\n",
       "[6000.0 6000.0 … 6000.0 6000.0; 6000.0 6000.0 … 6000.0 6000.0; … ; 6000.0 6000.0 … 6000.0 6000.0; 6000.0 6000.0 … 6000.0 6000.0], [0.2 0.2 … 0.2 0.2; 0.2 0.2 … 0.2 0.2; … ; 0.2 0.2 … 0.2 0.2; 0.2 0.2 … 0.2 0.2]\n",
       "\n",
       "[0.2 0.2 … 0.2 0.2; 0.2 0.2 … 0.2 0.2; … ; 0.2 0.2 … 0.2 0.2; 0.2 0.2 … 0.2 0.2]\n",
       "\n",
       "[0.2 0.2 … 0.2 0.2; 0.2 0.2 … 0.2 0.2; … ; 0.2 0.2 … 0.2 0.2; 0.2 0.2 … 0.2 0.2]\n",
       "\n",
       "...\n",
       "\n",
       "[0.2 0.2 … 0.2 0.2; 0.2 0.2 … 0.2 0.2; … ; 0.2 0.2 … 0.2 0.2; 0.2 0.2 … 0.2 0.2]\n",
       "\n",
       "[0.2 0.2 … 0.2 0.2; 0.2 0.2 … 0.2 0.2; … ; 0.2 0.2 … 0.2 0.2; 0.2 0.2 … 0.2 0.2]\n",
       "\n",
       "[0.2 0.2 … 0.2 0.2; 0.2 0.2 … 0.2 0.2; … ; 0.2 0.2 … 0.2 0.2; 0.2 0.2 … 0.2 0.2])                                                                                                                                                                                                                                                                                                                                                                                                                                   \n",
       " ([5997.71 5999.89 … 6000.0 5999.89; 5999.67 5999.96 … 6000.0 6000.0; … ; 5998.92 5999.88 … 6000.0 6000.0; 5995.12 5999.58 … 6000.0 5999.79]\n",
       "\n",
       "[5999.1 5999.98 … 5999.99 5998.43; 5999.95 6000.0 … 6000.0 5999.97; … ; 6000.0 6000.0 … 6000.0 6000.0; 5999.86 6000.0 … 6000.0 6000.0]\n",
       "\n",
       "[5998.8 5999.88 … 5997.55 5987.21; 5999.92 5999.99 … 5999.13 5994.89; … ; 5999.35 5999.92 … 5999.95 5999.27; 5997.09 5999.8 … 5999.77 5996.45]\n",
       "\n",
       "...\n",
       "\n",
       "[5997.29 5999.87 … 5999.82 5997.07; 5999.69 5999.98 … 5999.95 5999.49; … ; 5998.63 5999.55 … 5998.37 5994.73; 5997.85 5999.79 … 5996.48 5986.79]\n",
       "\n",
       "[5998.85 5999.98 … 5999.93 5997.46; 5999.93 6000.0 … 5999.97 5999.53; … ; 5998.73 5999.94 … 5998.46 5995.1; 5995.6 5999.77 … 5999.02 5994.9]\n",
       "\n",
       "[5999.01 5999.98 … 6000.0 5999.7; 5999.93 6000.0 … 6000.0 5999.99; … ; 5999.95 6000.0 … 5999.96 5999.49; 5999.15 5999.99 … 5999.89 5997.3], [0.200001 0.2 … 0.2 0.2; 0.2 0.2 … 0.2 0.2; … ; 0.200001 0.2 … 0.2 0.2; 0.200003 0.2 … 0.2 0.2]\n",
       "\n",
       "[0.200001 0.2 … 0.2 0.200001; 0.2 0.2 … 0.2 0.2; … ; 0.2 0.2 … 0.2 0.2; 0.2 0.2 … 0.2 0.2]\n",
       "\n",
       "[0.200001 0.2 … 0.200001 0.200008; 0.2 0.2 … 0.200001 0.200003; … ; 0.2 0.2 … 0.2 0.2; 0.200002 0.2 … 0.2 0.200002]\n",
       "\n",
       "...\n",
       "\n",
       "[0.200002 0.2 … 0.2 0.200002; 0.2 0.2 … 0.2 0.2; … ; 0.200001 0.2 … 0.200001 0.200003; 0.200001 0.2 … 0.200002 0.200008]\n",
       "\n",
       "[0.200001 0.2 … 0.2 0.200002; 0.2 0.2 … 0.2 0.2; … ; 0.200001 0.2 … 0.200001 0.200003; 0.200003 0.2 … 0.200001 0.200003]\n",
       "\n",
       "[0.200001 0.2 … 0.2 0.2; 0.2 0.2 … 0.2 0.2; … ; 0.2 0.2 … 0.2 0.2; 0.200001 0.2 … 0.2 0.200002])                                                                                                                                                                                                    \n",
       " ([5995.87 5999.72 … 6000.0 5999.78; 5999.17 5999.88 … 6000.0 6000.0; … ; 5997.47 5999.61 … 6000.0 5999.99; 5991.43 5998.92 … 6000.0 5999.59]\n",
       "\n",
       "[5998.25 5999.95 … 5999.98 5997.15; 5999.85 5999.99 … 6000.0 5999.93; … ; 6000.0 6000.0 … 6000.0 6000.0; 5999.72 6000.0 … 6000.0 6000.0]\n",
       "\n",
       "[5997.7 5999.66 … 5994.49 5978.74; 5999.79 5999.97 … 5997.59 5989.24; … ; 5998.43 5999.75 … 5999.83 5998.2; 5994.86 5999.48 … 5999.4 5993.68]\n",
       "\n",
       "...\n",
       "\n",
       "[5994.93 5999.64 … 5999.55 5994.95; 5999.17 5999.93 … 5999.84 5998.79; … ; 5996.84 5998.79 … 5996.28 5990.06; 5995.86 5999.37 … 5993.33 5980.49]\n",
       "\n",
       "[5997.79 5999.94 … 5999.82 5995.31; 5999.8 5999.99 … 5999.91 5998.86; … ; 5996.98 5999.8 … 5996.41 5990.52; 5991.95 5999.39 … 5997.38 5990.27]\n",
       "\n",
       "[5998.1 5999.94 … 5999.99 5999.41; 5999.8 5999.99 … 6000.0 5999.98; … ; 5999.86 5999.99 … 5999.87 5998.73; 5998.37 5999.96 … 5999.71 5995.1], [0.200002 0.2 … 0.2 0.2; 0.2 0.2 … 0.2 0.2; … ; 0.200002 0.2 … 0.2 0.2; 0.200005 0.200001 … 0.2 0.2]\n",
       "\n",
       "[0.200001 0.2 … 0.2 0.200002; 0.2 0.2 … 0.2 0.2; … ; 0.2 0.2 … 0.2 0.2; 0.2 0.2 … 0.2 0.2]\n",
       "\n",
       "[0.200001 0.2 … 0.200003 0.200013; 0.2 0.2 … 0.200001 0.200006; … ; 0.200001 0.2 … 0.2 0.200001; 0.200003 0.2 … 0.2 0.200004]\n",
       "\n",
       "...\n",
       "\n",
       "[0.200003 0.2 … 0.2 0.200003; 0.2 0.2 … 0.2 0.200001; … ; 0.200002 0.200001 … 0.200002 0.200006; 0.200002 0.2 … 0.200004 0.200012]\n",
       "\n",
       "[0.200001 0.2 … 0.2 0.200003; 0.2 0.2 … 0.2 0.200001; … ; 0.200002 0.2 … 0.200002 0.200006; 0.200005 0.2 … 0.200002 0.200006]\n",
       "\n",
       "[0.200001 0.2 … 0.2 0.2; 0.2 0.2 … 0.2 0.2; … ; 0.2 0.2 … 0.2 0.200001; 0.200001 0.2 … 0.2 0.200003])                                                                                                                                                           \n",
       " ([5994.34 5999.51 … 6000.0 5999.67; 5998.6 5999.76 … 6000.0 5999.99; … ; 5995.95 5999.2 … 6000.0 5999.99; 5988.52 5998.12 … 5999.99 5999.39]\n",
       "\n",
       "[5997.45 5999.91 … 5999.95 5996.12; 5999.72 5999.98 … 6000.0 5999.87; … ; 5999.99 6000.0 … 6000.0 6000.0; 5999.59 6000.0 … 6000.0 6000.0]\n",
       "\n",
       "[5996.67 5999.36 … 5991.42 5972.43; 5999.6 5999.93 … 5995.67 5984.07; … ; 5997.42 5999.51 … 5999.64 5997.02; 5993.06 5999.1 … 5998.94 5991.43]\n",
       "\n",
       "...\n",
       "\n",
       "[5992.86 5999.35 … 5999.22 5993.26; 5998.52 5999.85 … 5999.69 5998.04; … ; 5995.08 5997.9 … 5994.2 5986.31; 5994.0 5998.79 … 5990.73 5976.45]\n",
       "\n",
       "[5996.79 5999.88 … 5999.67 5993.56; 5999.62 5999.99 … 5999.8 5998.11; … ; 5995.19 5999.59 … 5994.34 5986.78; 5988.85 5998.89 … 5995.45 5986.19]\n",
       "\n",
       "[5997.26 5999.89 … 5999.99 5999.14; 5999.63 5999.98 … 6000.0 5999.96; … ; 5999.75 5999.99 … 5999.72 5997.87; 5997.64 5999.92 … 5999.47 5993.24], [0.200003 0.2 … 0.2 0.2; 0.200001 0.2 … 0.2 0.2; … ; 0.200002 0.2 … 0.2 0.2; 0.200007 0.200001 … 0.2 0.2]\n",
       "\n",
       "[0.200002 0.2 … 0.2 0.200002; 0.2 0.2 … 0.2 0.2; … ; 0.2 0.2 … 0.2 0.2; 0.2 0.2 … 0.2 0.2]\n",
       "\n",
       "[0.200002 0.2 … 0.200005 0.200017; 0.2 0.2 … 0.200003 0.20001; … ; 0.200002 0.2 … 0.2 0.200002; 0.200004 0.200001 … 0.200001 0.200005]\n",
       "\n",
       "...\n",
       "\n",
       "[0.200004 0.2 … 0.2 0.200004; 0.200001 0.2 … 0.2 0.200001; … ; 0.200003 0.200001 … 0.200003 0.200008; 0.200004 0.200001 … 0.200006 0.200014]\n",
       "\n",
       "[0.200002 0.2 … 0.2 0.200004; 0.2 0.2 … 0.2 0.200001; … ; 0.200003 0.2 … 0.200003 0.200008; 0.200007 0.200001 … 0.200003 0.200008]\n",
       "\n",
       "[0.200002 0.2 … 0.2 0.200001; 0.2 0.2 … 0.2 0.2; … ; 0.2 0.2 … 0.2 0.200001; 0.200001 0.2 … 0.2 0.200004])                                                                                                                      \n",
       " ([5993.05 5999.28 … 6000.0 5999.56; 5998.01 5999.6 … 6000.0 5999.99; … ; 5994.46 5998.69 … 6000.0 5999.98; 5986.13 5997.24 … 5999.99 5999.2]\n",
       "\n",
       "[5996.69 5999.86 … 5999.93 5995.28; 5999.56 5999.97 … 5999.99 5999.8; … ; 5999.98 6000.0 … 6000.0 6000.0; 5999.45 5999.99 … 6000.0 6000.0]\n",
       "\n",
       "[5995.72 5999.01 … 5988.5 5967.35; 5999.38 5999.86 … 5993.58 5979.52; … ; 5996.41 5999.23 … 5999.4 5995.81; 5991.55 5998.68 … 5998.43 5989.53]\n",
       "\n",
       "...\n",
       "\n",
       "[5991.01 5999.0 … 5998.86 5991.86; 5997.8 5999.74 … 5999.49 5997.28; … ; 5993.48 5997.01 … 5992.25 5983.24; 5992.26 5998.1 … 5988.51 5973.38]\n",
       "\n",
       "[5995.85 5999.8 … 5999.49 5992.12; 5999.41 5999.98 … 5999.67 5997.36; … ; 5993.55 5999.31 … 5992.39 5983.71; 5986.17 5998.31 … 5993.45 5982.65]\n",
       "\n",
       "[5996.49 5999.83 … 5999.98 5998.87; 5999.43 5999.96 … 6000.0 5999.94; … ; 5999.61 5999.98 … 5999.54 5996.97; 5996.95 5999.88 … 5999.19 5991.64], [0.200004 0.2 … 0.2 0.2; 0.200001 0.2 … 0.2 0.2; … ; 0.200003 0.200001 … 0.2 0.2; 0.200008 0.200002 … 0.2 0.2]\n",
       "\n",
       "[0.200002 0.2 … 0.2 0.200003; 0.2 0.2 … 0.2 0.2; … ; 0.2 0.2 … 0.2 0.2; 0.2 0.2 … 0.2 0.2]\n",
       "\n",
       "[0.200003 0.200001 … 0.200007 0.20002; 0.2 0.2 … 0.200004 0.200012; … ; 0.200002 0.2 … 0.2 0.200003; 0.200005 0.200001 … 0.200001 0.200006]\n",
       "\n",
       "...\n",
       "\n",
       "[0.200005 0.200001 … 0.200001 0.200005; 0.200001 0.2 … 0.2 0.200002; … ; 0.200004 0.200002 … 0.200005 0.20001; 0.200005 0.200001 … 0.200007 0.200016]\n",
       "\n",
       "[0.200002 0.2 … 0.2 0.200005; 0.2 0.2 … 0.2 0.200002; … ; 0.200004 0.2 … 0.200005 0.20001; 0.200008 0.200001 … 0.200004 0.20001]\n",
       "\n",
       "[0.200002 0.2 … 0.2 0.200001; 0.2 0.2 … 0.2 0.2; … ; 0.2 0.2 … 0.2 0.200002; 0.200002 0.2 … 0.2 0.200005])                                                                                                    \n",
       " ([5991.95 5999.03 … 6000.0 5999.45; 5997.43 5999.43 … 6000.0 5999.98; … ; 5993.05 5998.09 … 6000.0 5999.96; 5984.1 5996.33 … 5999.99 5999.0]\n",
       "\n",
       "[5995.98 5999.8 … 5999.9 5994.59; 5999.38 5999.95 … 5999.99 5999.72; … ; 5999.98 6000.0 … 6000.0 6000.0; 5999.31 5999.99 … 6000.0 6000.0]\n",
       "\n",
       "[5994.83 5998.62 … 5985.78 5963.09; 5999.12 5999.78 … 5991.45 5975.52; … ; 5995.44 5998.91 … 5999.11 5994.63; 5990.25 5998.25 … 5997.89 5987.89]\n",
       "\n",
       "...\n",
       "\n",
       "[5989.35 5998.61 … 5998.49 5990.68; 5997.04 5999.6 … 5999.26 5996.54; … ; 5992.05 5996.15 … 5990.46 5980.65; 5990.63 5997.37 … 5986.56 5970.85]\n",
       "\n",
       "[5994.97 5999.71 … 5999.29 5990.89; 5999.16 5999.96 … 5999.5 5996.62; … ; 5992.06 5998.98 … 5990.58 5981.1; 5983.85 5997.68 … 5991.51 5979.6]\n",
       "\n",
       "[5995.77 5999.75 … 5999.97 5998.61; 5999.21 5999.93 … 5999.99 5999.92; … ; 5999.45 5999.96 … 5999.32 5996.07; 5996.31 5999.82 … 5998.88 5990.22], [0.200005 0.200001 … 0.2 0.2; 0.200002 0.2 … 0.2 0.2; … ; 0.200004 0.200001 … 0.2 0.2; 0.20001 0.200002 … 0.2 0.200001]\n",
       "\n",
       "[0.200002 0.2 … 0.2 0.200003; 0.2 0.2 … 0.2 0.2; … ; 0.2 0.2 … 0.2 0.2; 0.2 0.2 … 0.2 0.2]\n",
       "\n",
       "[0.200003 0.200001 … 0.200009 0.200022; 0.200001 0.2 … 0.200005 0.200015; … ; 0.200003 0.200001 … 0.200001 0.200003; 0.200006 0.200001 … 0.200001 0.200007]\n",
       "\n",
       "...\n",
       "\n",
       "[0.200006 0.200001 … 0.200001 0.200006; 0.200002 0.2 … 0.2 0.200002; … ; 0.200005 0.200002 … 0.200006 0.200012; 0.200006 0.200002 … 0.200008 0.200017]\n",
       "\n",
       "[0.200003 0.2 … 0.2 0.200005; 0.200001 0.2 … 0.2 0.200002; … ; 0.200005 0.200001 … 0.200006 0.200011; 0.20001 0.200001 … 0.200005 0.200012]\n",
       "\n",
       "[0.200003 0.2 … 0.2 0.200001; 0.2 0.2 … 0.2 0.2; … ; 0.2 0.2 … 0.2 0.200002; 0.200002 0.2 … 0.200001 0.200006])                                                        \n",
       " ([5990.99 5998.78 … 5999.99 5999.35; 5996.87 5999.24 … 6000.0 5999.97; … ; 5991.71 5997.42 … 6000.0 5999.95; 5982.34 5995.39 … 5999.98 5998.81]\n",
       "\n",
       "[5995.3 5999.73 … 5999.87 5994.02; 5999.18 5999.93 … 5999.99 5999.64; … ; 5999.97 6000.0 … 6000.0 6000.0; 5999.18 5999.99 … 6000.0 6000.0]\n",
       "\n",
       "[5994.0 5998.2 … 5983.26 5959.39; 5998.84 5999.68 … 5989.34 5971.97; … ; 5994.52 5998.57 … 5998.79 5993.5; 5989.1 5997.81 … 5997.33 5986.43]\n",
       "\n",
       "...\n",
       "\n",
       "[5987.84 5998.2 … 5998.12 5989.65; 5996.26 5999.43 … 5999.01 5995.83; … ; 5990.77 5995.35 … 5988.81 5978.4; 5989.13 5996.61 … 5984.82 5968.68]\n",
       "\n",
       "[5994.14 5999.61 … 5999.07 5989.83; 5998.89 5999.94 … 5999.31 5995.91; … ; 5990.74 5998.61 … 5988.92 5978.84; 5981.82 5997.02 … 5989.67 5976.94]\n",
       "\n",
       "[5995.09 5999.67 … 5999.96 5998.36; 5998.97 5999.9 … 5999.99 5999.89; … ; 5999.27 5999.95 … 5999.07 5995.19; 5995.71 5999.76 … 5998.55 5988.96], [0.200005 0.200001 … 0.2 0.2; 0.200002 0.2 … 0.2 0.2; … ; 0.200005 0.200002 … 0.2 0.2; 0.200011 0.200003 … 0.2 0.200001]\n",
       "\n",
       "[0.200003 0.2 … 0.2 0.200004; 0.2 0.2 … 0.2 0.2; … ; 0.2 0.2 … 0.2 0.2; 0.2 0.2 … 0.2 0.2]\n",
       "\n",
       "[0.200004 0.200001 … 0.20001 0.200024; 0.200001 0.2 … 0.200006 0.200017; … ; 0.200003 0.200001 … 0.200001 0.200004; 0.200007 0.200001 … 0.200002 0.200008]\n",
       "\n",
       "...\n",
       "\n",
       "[0.200007 0.200001 … 0.200001 0.200006; 0.200002 0.2 … 0.200001 0.200003; … ; 0.200006 0.200003 … 0.200007 0.200013; 0.200007 0.200002 … 0.200009 0.200019]\n",
       "\n",
       "[0.200004 0.2 … 0.200001 0.200006; 0.200001 0.2 … 0.2 0.200002; … ; 0.200006 0.200001 … 0.200007 0.200013; 0.200011 0.200002 … 0.200006 0.200014]\n",
       "\n",
       "[0.200003 0.2 … 0.2 0.200001; 0.200001 0.2 … 0.2 0.2; … ; 0.2 0.2 … 0.200001 0.200003; 0.200003 0.2 … 0.200001 0.200007])                                  \n",
       " ([5990.15 5998.53 … 5999.99 5999.24; 5996.34 5999.04 … 6000.0 5999.97; … ; 5990.44 5996.71 … 6000.0 5999.93; 5980.77 5994.45 … 5999.98 5998.63]\n",
       "\n",
       "[5994.66 5999.65 … 5999.83 5993.55; 5998.97 5999.9 … 5999.98 5999.55; … ; 5999.96 6000.0 … 6000.0 6000.0; 5999.05 5999.98 … 6000.0 6000.0]\n",
       "\n",
       "[5993.21 5997.75 … 5980.93 5956.14; 5998.54 5999.56 … 5987.29 5968.8; … ; 5993.66 5998.23 … 5998.43 5992.43; 5988.08 5997.37 … 5996.77 5985.12]\n",
       "\n",
       "...\n",
       "\n",
       "[5986.46 5997.77 … 5997.75 5988.73; 5995.48 5999.23 … 5998.74 5995.16; … ; 5989.63 5994.6 … 5987.28 5976.41; 5987.74 5995.87 … 5983.23 5966.76]\n",
       "\n",
       "[5993.35 5999.5 … 5998.85 5988.9; 5998.6 5999.91 … 5999.11 5995.24; … ; 5989.55 5998.2 … 5987.38 5976.84; 5980.03 5996.34 … 5987.95 5974.6]\n",
       "\n",
       "[5994.46 5999.58 … 5999.95 5998.12; 5998.72 5999.86 … 5999.99 5999.85; … ; 5999.09 5999.92 … 5998.81 5994.34; 5995.14 5999.7 … 5998.21 5987.81], [0.200006 0.200001 … 0.2 0.2; 0.200002 0.200001 … 0.2 0.2; … ; 0.200006 0.200002 … 0.2 0.2; 0.200012 0.200003 … 0.2 0.200001]\n",
       "\n",
       "[0.200003 0.2 … 0.2 0.200004; 0.200001 0.2 … 0.2 0.2; … ; 0.2 0.2 … 0.2 0.2; 0.200001 0.2 … 0.2 0.2]\n",
       "\n",
       "[0.200004 0.200001 … 0.200011 0.200026; 0.200001 0.2 … 0.200008 0.200019; … ; 0.200004 0.200001 … 0.200001 0.200005; 0.200007 0.200002 … 0.200002 0.200009]\n",
       "\n",
       "...\n",
       "\n",
       "[0.200008 0.200001 … 0.200001 0.200007; 0.200003 0.2 … 0.200001 0.200003; … ; 0.200006 0.200003 … 0.200008 0.200014; 0.200007 0.200002 … 0.20001 0.20002]\n",
       "\n",
       "[0.200004 0.2 … 0.200001 0.200007; 0.200001 0.2 … 0.200001 0.200003; … ; 0.200006 0.200001 … 0.200008 0.200014; 0.200012 0.200002 … 0.200007 0.200015]\n",
       "\n",
       "[0.200003 0.2 … 0.2 0.200001; 0.200001 0.2 … 0.2 0.2; … ; 0.200001 0.2 … 0.200001 0.200003; 0.200003 0.2 … 0.200001 0.200007])           \n",
       " ([5989.41 5998.28 … 5999.99 5999.14; 5995.83 5998.83 … 6000.0 5999.96; … ; 5989.24 5995.97 … 6000.0 5999.92; 5979.34 5993.52 … 5999.97 5998.44]\n",
       "\n",
       "[5994.05 5999.57 … 5999.8 5993.16; 5998.74 5999.87 … 5999.98 5999.46; … ; 5999.95 6000.0 … 6000.0 6000.0; 5998.92 5999.98 … 5999.99 6000.0]\n",
       "\n",
       "[5992.46 5997.29 … 5978.75 5953.22; 5998.23 5999.42 … 5985.33 5965.93; … ; 5992.85 5997.88 … 5998.06 5991.4; 5987.15 5996.94 … 5996.2 5983.93]\n",
       "\n",
       "...\n",
       "\n",
       "[5985.2 5997.32 … 5997.38 5987.92; 5994.71 5999.02 … 5998.46 5994.53; … ; 5988.6 5993.9 … 5985.86 5974.63; 5986.47 5995.14 … 5981.77 5965.03]\n",
       "\n",
       "[5992.6 5999.38 … 5998.61 5988.07; 5998.3 5999.88 … 5998.88 5994.61; … ; 5988.48 5997.77 … 5985.95 5975.05; 5978.45 5995.66 … 5986.36 5972.53]\n",
       "\n",
       "[5993.86 5999.48 … 5999.94 5997.89; 5998.45 5999.81 … 5999.98 5999.82; … ; 5998.9 5999.9 … 5998.53 5993.53; 5994.61 5999.63 … 5997.85 5986.75], [0.200006 0.200001 … 0.2 0.200001; 0.200003 0.200001 … 0.2 0.2; … ; 0.200006 0.200002 … 0.2 0.2; 0.200012 0.200004 … 0.2 0.200001]\n",
       "\n",
       "[0.200004 0.2 … 0.2 0.200004; 0.200001 0.2 … 0.2 0.2; … ; 0.2 0.2 … 0.2 0.2; 0.200001 0.2 … 0.2 0.2]\n",
       "\n",
       "[0.200005 0.200002 … 0.200013 0.200028; 0.200001 0.2 … 0.200009 0.20002; … ; 0.200004 0.200001 … 0.200001 0.200005; 0.200008 0.200002 … 0.200002 0.20001]\n",
       "\n",
       "...\n",
       "\n",
       "[0.200009 0.200002 … 0.200002 0.200007; 0.200003 0.200001 … 0.200001 0.200003; … ; 0.200007 0.200004 … 0.200008 0.200015; 0.200008 0.200003 … 0.200011 0.200021]\n",
       "\n",
       "[0.200004 0.2 … 0.200001 0.200007; 0.200001 0.2 … 0.200001 0.200003; … ; 0.200007 0.200001 … 0.200008 0.200015; 0.200013 0.200003 … 0.200008 0.200016]\n",
       "\n",
       "[0.200004 0.2 … 0.2 0.200001; 0.200001 0.2 … 0.2 0.2; … ; 0.200001 0.2 … 0.200001 0.200004; 0.200003 0.2 … 0.200001 0.200008]) \n",
       " ([5988.73 5998.03 … 5999.99 5999.04; 5995.36 5998.62 … 6000.0 5999.95; … ; 5988.1 5995.21 … 6000.0 5999.9; 5978.02 5992.59 … 5999.96 5998.26]\n",
       "\n",
       "[5993.47 5999.48 … 5999.76 5992.83; 5998.51 5999.83 … 5999.97 5999.37; … ; 5999.93 6000.0 … 6000.0 6000.0; 5998.79 5999.97 … 5999.99 6000.0]\n",
       "\n",
       "[5991.74 5996.82 … 5976.72 5950.58; 5997.91 5999.26 … 5983.46 5963.33; … ; 5992.09 5997.52 … 5997.67 5990.44; 5986.3 5996.51 … 5995.64 5982.83]\n",
       "\n",
       "...\n",
       "\n",
       "[5984.02 5996.87 … 5997.01 5987.17; 5993.95 5998.79 … 5998.18 5993.93; … ; 5987.66 5993.25 … 5984.54 5973.01; 5985.3 5994.45 … 5980.42 5963.47]\n",
       "\n",
       "[5991.89 5999.25 … 5998.36 5987.31; 5997.99 5999.85 … 5998.65 5994.01; … ; 5987.51 5997.32 … 5984.62 5973.42; 5977.04 5994.97 … 5984.88 5970.67]\n",
       "\n",
       "[5993.3 5999.38 … 5999.93 5997.66; 5998.18 5999.76 … 5999.98 5999.78; … ; 5998.7 5999.87 … 5998.23 5992.75; 5994.1 5999.55 … 5997.49 5985.78], [0.200007 0.200001 … 0.2 0.200001; 0.200003 0.200001 … 0.2 0.2; … ; 0.200007 0.200003 … 0.2 0.2; 0.200013 0.200004 … 0.2 0.200001]\n",
       "\n",
       "[0.200004 0.2 … 0.2 0.200004; 0.200001 0.2 … 0.2 0.2; … ; 0.2 0.2 … 0.2 0.2; 0.200001 0.2 … 0.2 0.2]\n",
       "\n",
       "[0.200005 0.200002 … 0.200014 0.20003; 0.200001 0.2 … 0.20001 0.200022; … ; 0.200005 0.200001 … 0.200001 0.200006; 0.200008 0.200002 … 0.200003 0.20001]\n",
       "\n",
       "...\n",
       "\n",
       "[0.20001 0.200002 … 0.200002 0.200008; 0.200004 0.200001 … 0.200001 0.200004; … ; 0.200007 0.200004 … 0.200009 0.200016; 0.200009 0.200003 … 0.200012 0.200022]\n",
       "\n",
       "[0.200005 0.2 … 0.200001 0.200008; 0.200001 0.2 … 0.200001 0.200004; … ; 0.200007 0.200002 … 0.200009 0.200016; 0.200014 0.200003 … 0.200009 0.200018]\n",
       "\n",
       "[0.200004 0.2 … 0.2 0.200001; 0.200001 0.2 … 0.2 0.2; … ; 0.200001 0.2 … 0.200001 0.200004; 0.200004 0.2 … 0.200002 0.200009])"
      ]
     },
     "execution_count": 11,
     "metadata": {},
     "output_type": "execute_result"
    }
   ],
   "source": [
    "solveprec1(model, q, g_guess, 10; printt=true, rstrt = 10, mi = 10)"
   ]
  },
  {
   "cell_type": "code",
   "execution_count": 14,
   "metadata": {},
   "outputs": [
    {
     "data": {
      "text/plain": [
       "MStencil{4,Float64,3,7,DArray{StencilPoint{Float64,3,7},3,Array{StencilPoint{Float64,3,7},3}}}((Stencil{Float64,3,7,DArray{StencilPoint{Float64,3,7},3,Array{StencilPoint{Float64,3,7},3}}}(StencilPoint{Float64,3,7}[StencilPoint{Float64,3,7}((0.0, 0.0, 0.0, -0.0212143, 0.0, 0.0, 0.0)) StencilPoint{Float64,3,7}((0.0, 0.0, 0.0, -0.0170778, 0.0, 0.0, 0.0)) … StencilPoint{Float64,3,7}((0.0, 0.0, 0.0, -0.0418616, 0.0, 0.0, 0.0)) StencilPoint{Float64,3,7}((0.0, 0.0, 0.0, -0.0381595, 0.0, 0.0, 0.0)); StencilPoint{Float64,3,7}((0.0, 0.0, 0.0, -0.0167709, 0.0, 0.0, 0.0)) StencilPoint{Float64,3,7}((0.0, 0.0, 0.0, -0.0128506, 0.0, 0.0, 0.0)) … StencilPoint{Float64,3,7}((0.0, 0.0, 0.0, -0.049566, 0.0, 0.0, 0.0)) StencilPoint{Float64,3,7}((0.0, 0.0, 0.0, -0.0481211, 0.0, 0.0, 0.0)); … ; StencilPoint{Float64,3,7}((0.0, 0.0, 0.0, -0.0102228, 0.0, 0.0, 0.0)) StencilPoint{Float64,3,7}((0.0, 0.0, 0.0, -0.0159477, 0.0, 0.0, 0.0)) … StencilPoint{Float64,3,7}((0.0, 0.0, 0.0, -0.0454901, 0.0, 0.0, 0.0)) StencilPoint{Float64,3,7}((0.0, 0.0, 0.0, -0.0487238, 0.0, 0.0, 0.0)); StencilPoint{Float64,3,7}((0.0, 0.0, 0.0, -0.0130558, 0.0, 0.0, 0.0)) StencilPoint{Float64,3,7}((0.0, 0.0, 0.0, -0.0166431, 0.0, 0.0, 0.0)) … StencilPoint{Float64,3,7}((0.0, 0.0, 0.0, -0.0359429, 0.0, 0.0, 0.0)) StencilPoint{Float64,3,7}((0.0, 0.0, 0.0, -0.043878, 0.0, 0.0, 0.0))]\n",
       "\n",
       "StencilPoint{Float64,3,7}[StencilPoint{Float64,3,7}((0.0, 0.0, 0.0, -0.0536962, 0.0, 0.0, 0.0)) StencilPoint{Float64,3,7}((0.0, 0.0, 0.0, -0.0439629, 0.0, 0.0, 0.0)) … StencilPoint{Float64,3,7}((0.0, 0.0, 0.0, -0.171875, 0.0, 0.0, 0.0)) StencilPoint{Float64,3,7}((0.0, 0.0, 0.0, -1.65398, 0.0, 0.0, 0.0)); StencilPoint{Float64,3,7}((0.0, 0.0, 0.0, -0.0690561, 0.0, 0.0, 0.0)) StencilPoint{Float64,3,7}((0.0, 0.0, 0.0, -0.0534531, 0.0, 0.0, 0.0)) … StencilPoint{Float64,3,7}((0.0, 0.0, 0.0, -0.0730154, 0.0, 0.0, 0.0)) StencilPoint{Float64,3,7}((0.0, 0.0, 0.0, -0.168179, 0.0, 0.0, 0.0)); … ; StencilPoint{Float64,3,7}((0.0, 0.0, 0.0, -0.0887523, 0.0, 0.0, 0.0)) StencilPoint{Float64,3,7}((0.0, 0.0, 0.0, -0.0553496, 0.0, 0.0, 0.0)) … StencilPoint{Float64,3,7}((0.0, 0.0, 0.0, -0.187725, 0.0, 0.0, 0.0)) StencilPoint{Float64,3,7}((0.0, 0.0, 0.0, -0.0256011, 0.0, 0.0, 0.0)); StencilPoint{Float64,3,7}((0.0, 0.0, 0.0, -0.0638543, 0.0, 0.0, 0.0)) StencilPoint{Float64,3,7}((0.0, 0.0, 0.0, -0.0608658, 0.0, 0.0, 0.0)) … StencilPoint{Float64,3,7}((0.0, 0.0, 0.0, -0.240806, 0.0, 0.0, 0.0)) StencilPoint{Float64,3,7}((0.0, 0.0, 0.0, -0.0256011, 0.0, 0.0, 0.0))]\n",
       "\n",
       "StencilPoint{Float64,3,7}[StencilPoint{Float64,3,7}((0.0, 0.0, 0.0, -0.0312913, 0.0, 0.0, 0.0)) StencilPoint{Float64,3,7}((0.0, 0.0, 0.0, -0.00901642, 0.0, 0.0, 0.0)) … StencilPoint{Float64,3,7}((0.0, 0.0, 0.0, -0.0100894, 0.0, 0.0, 0.0)) StencilPoint{Float64,3,7}((0.0, 0.0, 0.0, -0.00789619, 0.0, 0.0, 0.0)); StencilPoint{Float64,3,7}((0.0, 0.0, 0.0, -0.0316482, 0.0, 0.0, 0.0)) StencilPoint{Float64,3,7}((0.0, 0.0, 0.0, -0.0493642, 0.0, 0.0, 0.0)) … StencilPoint{Float64,3,7}((0.0, 0.0, 0.0, -0.0120669, 0.0, 0.0, 0.0)) StencilPoint{Float64,3,7}((0.0, 0.0, 0.0, -0.00724571, 0.0, 0.0, 0.0)); … ; StencilPoint{Float64,3,7}((0.0, 0.0, 0.0, -0.0135232, 0.0, 0.0, 0.0)) StencilPoint{Float64,3,7}((0.0, 0.0, 0.0, -0.0111415, 0.0, 0.0, 0.0)) … StencilPoint{Float64,3,7}((0.0, 0.0, 0.0, -0.0277714, 0.0, 0.0, 0.0)) StencilPoint{Float64,3,7}((0.0, 0.0, 0.0, -0.0206927, 0.0, 0.0, 0.0)); StencilPoint{Float64,3,7}((0.0, 0.0, 0.0, -0.0153653, 0.0, 0.0, 0.0)) StencilPoint{Float64,3,7}((0.0, 0.0, 0.0, -0.0147644, 0.0, 0.0, 0.0)) … StencilPoint{Float64,3,7}((0.0, 0.0, 0.0, -0.028977, 0.0, 0.0, 0.0)) StencilPoint{Float64,3,7}((0.0, 0.0, 0.0, -0.0249396, 0.0, 0.0, 0.0))]\n",
       "\n",
       "...\n",
       "\n",
       "StencilPoint{Float64,3,7}[StencilPoint{Float64,3,7}((0.0, 0.0, 0.0, -0.016647, 0.0, 0.0, 0.0)) StencilPoint{Float64,3,7}((0.0, 0.0, 0.0, -0.0166992, 0.0, 0.0, 0.0)) … StencilPoint{Float64,3,7}((0.0, 0.0, 0.0, -0.0150913, 0.0, 0.0, 0.0)) StencilPoint{Float64,3,7}((0.0, 0.0, 0.0, -0.0053468, 0.0, 0.0, 0.0)); StencilPoint{Float64,3,7}((0.0, 0.0, 0.0, -0.0184872, 0.0, 0.0, 0.0)) StencilPoint{Float64,3,7}((0.0, 0.0, 0.0, -0.0193989, 0.0, 0.0, 0.0)) … StencilPoint{Float64,3,7}((0.0, 0.0, 0.0, -0.0130403, 0.0, 0.0, 0.0)) StencilPoint{Float64,3,7}((0.0, 0.0, 0.0, -0.00235886, 0.0, 0.0, 0.0)); … ; StencilPoint{Float64,3,7}((0.0, 0.0, 0.0, -0.00186191, 0.0, 0.0, 0.0)) StencilPoint{Float64,3,7}((0.0, 0.0, 0.0, -0.00353348, 0.0, 0.0, 0.0)) … StencilPoint{Float64,3,7}((0.0, 0.0, 0.0, -0.000887094, 0.0, 0.0, 0.0)) StencilPoint{Float64,3,7}((0.0, 0.0, 0.0, -0.000730639, 0.0, 0.0, 0.0)); StencilPoint{Float64,3,7}((0.0, 0.0, 0.0, -0.0147432, 0.0, 0.0, 0.0)) StencilPoint{Float64,3,7}((0.0, 0.0, 0.0, -0.0115222, 0.0, 0.0, 0.0)) … StencilPoint{Float64,3,7}((0.0, 0.0, 0.0, -0.00387174, 0.0, 0.0, 0.0)) StencilPoint{Float64,3,7}((0.0, 0.0, 0.0, -0.00449683, 0.0, 0.0, 0.0))]\n",
       "\n",
       "StencilPoint{Float64,3,7}[StencilPoint{Float64,3,7}((0.0, 0.0, 0.0, -0.0311837, 0.0, 0.0, 0.0)) StencilPoint{Float64,3,7}((0.0, 0.0, 0.0, -0.037352, 0.0, 0.0, 0.0)) … StencilPoint{Float64,3,7}((0.0, 0.0, 0.0, -0.0263601, 0.0, 0.0, 0.0)) StencilPoint{Float64,3,7}((0.0, 0.0, 0.0, -0.0066294, 0.0, 0.0, 0.0)); StencilPoint{Float64,3,7}((0.0, 0.0, 0.0, -0.0330405, 0.0, 0.0, 0.0)) StencilPoint{Float64,3,7}((0.0, 0.0, 0.0, -0.0503595, 0.0, 0.0, 0.0)) … StencilPoint{Float64,3,7}((0.0, 0.0, 0.0, -0.0186892, 0.0, 0.0, 0.0)) StencilPoint{Float64,3,7}((0.0, 0.0, 0.0, -0.00276087, 0.0, 0.0, 0.0)); … ; StencilPoint{Float64,3,7}((0.0, 0.0, 0.0, -0.00316309, 0.0, 0.0, 0.0)) StencilPoint{Float64,3,7}((0.0, 0.0, 0.0, -0.0219673, 0.0, 0.0, 0.0)) … StencilPoint{Float64,3,7}((0.0, 0.0, 0.0, -0.000970365, 0.0, 0.0, 0.0)) StencilPoint{Float64,3,7}((0.0, 0.0, 0.0, -0.000775874, 0.0, 0.0, 0.0)); StencilPoint{Float64,3,7}((0.0, 0.0, 0.0, -0.0156709, 0.0, 0.0, 0.0)) StencilPoint{Float64,3,7}((0.0, 0.0, 0.0, -0.0208867, 0.0, 0.0, 0.0)) … StencilPoint{Float64,3,7}((0.0, 0.0, 0.0, -0.0110247, 0.0, 0.0, 0.0)) StencilPoint{Float64,3,7}((0.0, 0.0, 0.0, -0.0114631, 0.0, 0.0, 0.0))]\n",
       "\n",
       "StencilPoint{Float64,3,7}[StencilPoint{Float64,3,7}((0.0, 0.0, 0.0, -0.0271979, 0.0, 0.0, 0.0)) StencilPoint{Float64,3,7}((0.0, 0.0, 0.0, -0.0330062, 0.0, 0.0, 0.0)) … StencilPoint{Float64,3,7}((0.0, 0.0, 0.0, -0.0280867, 0.0, 0.0, 0.0)) StencilPoint{Float64,3,7}((0.0, 0.0, 0.0, -0.0480658, 0.0, 0.0, 0.0)); StencilPoint{Float64,3,7}((0.0, 0.0, 0.0, -0.0260202, 0.0, 0.0, 0.0)) StencilPoint{Float64,3,7}((0.0, 0.0, 0.0, -0.0300134, 0.0, 0.0, 0.0)) … StencilPoint{Float64,3,7}((0.0, 0.0, 0.0, -0.0315763, 0.0, 0.0, 0.0)) StencilPoint{Float64,3,7}((0.0, 0.0, 0.0, -0.0370916, 0.0, 0.0, 0.0)); … ; StencilPoint{Float64,3,7}((0.0, 0.0, 0.0, -0.0340712, 0.0, 0.0, 0.0)) StencilPoint{Float64,3,7}((0.0, 0.0, 0.0, -0.0381547, 0.0, 0.0, 0.0)) … StencilPoint{Float64,3,7}((0.0, 0.0, 0.0, -0.0220581, 0.0, 0.0, 0.0)) StencilPoint{Float64,3,7}((0.0, 0.0, 0.0, -0.0176859, 0.0, 0.0, 0.0)); StencilPoint{Float64,3,7}((0.0, 0.0, 0.0, -0.0405811, 0.0, 0.0, 0.0)) StencilPoint{Float64,3,7}((0.0, 0.0, 0.0, -0.0496006, 0.0, 0.0, 0.0)) … StencilPoint{Float64,3,7}((0.0, 0.0, 0.0, -0.034316, 0.0, 0.0, 0.0)) StencilPoint{Float64,3,7}((0.0, 0.0, 0.0, -0.0218593, 0.0, 0.0, 0.0))]), Stencil{Float64,3,7,DArray{StencilPoint{Float64,3,7},3,Array{StencilPoint{Float64,3,7},3}}}(StencilPoint{Float64,3,7}[StencilPoint{Float64,3,7}((0.0, 0.0, 0.0, -0.0256172, 0.0, 0.0, 0.0)) StencilPoint{Float64,3,7}((0.0, 0.0, 0.0, -0.0206222, 0.0, 0.0, 0.0)) … StencilPoint{Float64,3,7}((0.0, 0.0, 0.0, -0.0505498, 0.0, 0.0, 0.0)) StencilPoint{Float64,3,7}((0.0, 0.0, 0.0, -0.0460794, 0.0, 0.0, 0.0)); StencilPoint{Float64,3,7}((0.0, 0.0, 0.0, -0.0202517, 0.0, 0.0, 0.0)) StencilPoint{Float64,3,7}((0.0, 0.0, 0.0, -0.0155177, 0.0, 0.0, 0.0)) … StencilPoint{Float64,3,7}((0.0, 0.0, 0.0, -0.0598532, 0.0, 0.0, 0.0)) StencilPoint{Float64,3,7}((0.0, 0.0, 0.0, -0.0581084, 0.0, 0.0, 0.0)); … ; StencilPoint{Float64,3,7}((0.0, 0.0, 0.0, -0.0123445, 0.0, 0.0, 0.0)) StencilPoint{Float64,3,7}((0.0, 0.0, 0.0, -0.0192576, 0.0, 0.0, 0.0)) … StencilPoint{Float64,3,7}((0.0, 0.0, 0.0, -0.0549314, 0.0, 0.0, 0.0)) StencilPoint{Float64,3,7}((0.0, 0.0, 0.0, -0.0588363, 0.0, 0.0, 0.0)); StencilPoint{Float64,3,7}((0.0, 0.0, 0.0, -0.0157655, 0.0, 0.0, 0.0)) StencilPoint{Float64,3,7}((0.0, 0.0, 0.0, -0.0200973, 0.0, 0.0, 0.0)) … StencilPoint{Float64,3,7}((0.0, 0.0, 0.0, -0.0434027, 0.0, 0.0, 0.0)) StencilPoint{Float64,3,7}((0.0, 0.0, 0.0, -0.0529847, 0.0, 0.0, 0.0))]\n",
       "\n",
       "StencilPoint{Float64,3,7}[StencilPoint{Float64,3,7}((0.0, 0.0, 0.0, -0.0648406, 0.0, 0.0, 0.0)) StencilPoint{Float64,3,7}((0.0, 0.0, 0.0, -0.0530873, 0.0, 0.0, 0.0)) … StencilPoint{Float64,3,7}((0.0, 0.0, 0.0, -0.207548, 0.0, 0.0, 0.0)) StencilPoint{Float64,3,7}((0.0, 0.0, 0.0, -1.99726, 0.0, 0.0, 0.0)); StencilPoint{Float64,3,7}((0.0, 0.0, 0.0, -0.0833884, 0.0, 0.0, 0.0)) StencilPoint{Float64,3,7}((0.0, 0.0, 0.0, -0.0645471, 0.0, 0.0, 0.0)) … StencilPoint{Float64,3,7}((0.0, 0.0, 0.0, -0.0881695, 0.0, 0.0, 0.0)) StencilPoint{Float64,3,7}((0.0, 0.0, 0.0, -0.203084, 0.0, 0.0, 0.0)); … ; StencilPoint{Float64,3,7}((0.0, 0.0, 0.0, -0.107172, 0.0, 0.0, 0.0)) StencilPoint{Float64,3,7}((0.0, 0.0, 0.0, -0.0668372, 0.0, 0.0, 0.0)) … StencilPoint{Float64,3,7}((0.0, 0.0, 0.0, -0.226687, 0.0, 0.0, 0.0)) StencilPoint{Float64,3,7}((0.0, 0.0, 0.0, -0.0309145, 0.0, 0.0, 0.0)); StencilPoint{Float64,3,7}((0.0, 0.0, 0.0, -0.077107, 0.0, 0.0, 0.0)) StencilPoint{Float64,3,7}((0.0, 0.0, 0.0, -0.0734982, 0.0, 0.0, 0.0)) … StencilPoint{Float64,3,7}((0.0, 0.0, 0.0, -0.290784, 0.0, 0.0, 0.0)) StencilPoint{Float64,3,7}((0.0, 0.0, 0.0, -0.0309145, 0.0, 0.0, 0.0))]\n",
       "\n",
       "StencilPoint{Float64,3,7}[StencilPoint{Float64,3,7}((0.0, 0.0, 0.0, -0.0377857, 0.0, 0.0, 0.0)) StencilPoint{Float64,3,7}((0.0, 0.0, 0.0, -0.0108877, 0.0, 0.0, 0.0)) … StencilPoint{Float64,3,7}((0.0, 0.0, 0.0, -0.0121834, 0.0, 0.0, 0.0)) StencilPoint{Float64,3,7}((0.0, 0.0, 0.0, -0.00953502, 0.0, 0.0, 0.0)); StencilPoint{Float64,3,7}((0.0, 0.0, 0.0, -0.0382167, 0.0, 0.0, 0.0)) StencilPoint{Float64,3,7}((0.0, 0.0, 0.0, -0.0596095, 0.0, 0.0, 0.0)) … StencilPoint{Float64,3,7}((0.0, 0.0, 0.0, -0.0145713, 0.0, 0.0, 0.0)) StencilPoint{Float64,3,7}((0.0, 0.0, 0.0, -0.00874953, 0.0, 0.0, 0.0)); … ; StencilPoint{Float64,3,7}((0.0, 0.0, 0.0, -0.0163299, 0.0, 0.0, 0.0)) StencilPoint{Float64,3,7}((0.0, 0.0, 0.0, -0.0134539, 0.0, 0.0, 0.0)) … StencilPoint{Float64,3,7}((0.0, 0.0, 0.0, -0.0335353, 0.0, 0.0, 0.0)) StencilPoint{Float64,3,7}((0.0, 0.0, 0.0, -0.0249874, 0.0, 0.0, 0.0)); StencilPoint{Float64,3,7}((0.0, 0.0, 0.0, -0.0185543, 0.0, 0.0, 0.0)) StencilPoint{Float64,3,7}((0.0, 0.0, 0.0, -0.0178287, 0.0, 0.0, 0.0)) … StencilPoint{Float64,3,7}((0.0, 0.0, 0.0, -0.0349911, 0.0, 0.0, 0.0)) StencilPoint{Float64,3,7}((0.0, 0.0, 0.0, -0.0301157, 0.0, 0.0, 0.0))]\n",
       "\n",
       "...\n",
       "\n",
       "StencilPoint{Float64,3,7}[StencilPoint{Float64,3,7}((0.0, 0.0, 0.0, -0.020102, 0.0, 0.0, 0.0)) StencilPoint{Float64,3,7}((0.0, 0.0, 0.0, -0.020165, 0.0, 0.0, 0.0)) … StencilPoint{Float64,3,7}((0.0, 0.0, 0.0, -0.0182235, 0.0, 0.0, 0.0)) StencilPoint{Float64,3,7}((0.0, 0.0, 0.0, -0.00645651, 0.0, 0.0, 0.0)); StencilPoint{Float64,3,7}((0.0, 0.0, 0.0, -0.0223242, 0.0, 0.0, 0.0)) StencilPoint{Float64,3,7}((0.0, 0.0, 0.0, -0.0234251, 0.0, 0.0, 0.0)) … StencilPoint{Float64,3,7}((0.0, 0.0, 0.0, -0.0157467, 0.0, 0.0, 0.0)) StencilPoint{Float64,3,7}((0.0, 0.0, 0.0, -0.00284843, 0.0, 0.0, 0.0)); … ; StencilPoint{Float64,3,7}((0.0, 0.0, 0.0, -0.00224835, 0.0, 0.0, 0.0)) StencilPoint{Float64,3,7}((0.0, 0.0, 0.0, -0.00426684, 0.0, 0.0, 0.0)) … StencilPoint{Float64,3,7}((0.0, 0.0, 0.0, -0.00107121, 0.0, 0.0, 0.0)) StencilPoint{Float64,3,7}((0.0, 0.0, 0.0, -0.00088228, 0.0, 0.0, 0.0)); StencilPoint{Float64,3,7}((0.0, 0.0, 0.0, -0.0178031, 0.0, 0.0, 0.0)) StencilPoint{Float64,3,7}((0.0, 0.0, 0.0, -0.0139136, 0.0, 0.0, 0.0)) … StencilPoint{Float64,3,7}((0.0, 0.0, 0.0, -0.0046753, 0.0, 0.0, 0.0)) StencilPoint{Float64,3,7}((0.0, 0.0, 0.0, -0.00543013, 0.0, 0.0, 0.0))]\n",
       "\n",
       "StencilPoint{Float64,3,7}[StencilPoint{Float64,3,7}((0.0, 0.0, 0.0, -0.0376558, 0.0, 0.0, 0.0)) StencilPoint{Float64,3,7}((0.0, 0.0, 0.0, -0.0451043, 0.0, 0.0, 0.0)) … StencilPoint{Float64,3,7}((0.0, 0.0, 0.0, -0.031831, 0.0, 0.0, 0.0)) StencilPoint{Float64,3,7}((0.0, 0.0, 0.0, -0.00800531, 0.0, 0.0, 0.0)); StencilPoint{Float64,3,7}((0.0, 0.0, 0.0, -0.0398979, 0.0, 0.0, 0.0)) StencilPoint{Float64,3,7}((0.0, 0.0, 0.0, -0.0608114, 0.0, 0.0, 0.0)) … StencilPoint{Float64,3,7}((0.0, 0.0, 0.0, -0.0225681, 0.0, 0.0, 0.0)) StencilPoint{Float64,3,7}((0.0, 0.0, 0.0, -0.00333388, 0.0, 0.0, 0.0)); … ; StencilPoint{Float64,3,7}((0.0, 0.0, 0.0, -0.00381957, 0.0, 0.0, 0.0)) StencilPoint{Float64,3,7}((0.0, 0.0, 0.0, -0.0265265, 0.0, 0.0, 0.0)) … StencilPoint{Float64,3,7}((0.0, 0.0, 0.0, -0.00117176, 0.0, 0.0, 0.0)) StencilPoint{Float64,3,7}((0.0, 0.0, 0.0, -0.000936903, 0.0, 0.0, 0.0)); StencilPoint{Float64,3,7}((0.0, 0.0, 0.0, -0.0189233, 0.0, 0.0, 0.0)) StencilPoint{Float64,3,7}((0.0, 0.0, 0.0, -0.0252216, 0.0, 0.0, 0.0)) … StencilPoint{Float64,3,7}((0.0, 0.0, 0.0, -0.0133129, 0.0, 0.0, 0.0)) StencilPoint{Float64,3,7}((0.0, 0.0, 0.0, -0.0138422, 0.0, 0.0, 0.0))]\n",
       "\n",
       "StencilPoint{Float64,3,7}[StencilPoint{Float64,3,7}((0.0, 0.0, 0.0, -0.0328427, 0.0, 0.0, 0.0)) StencilPoint{Float64,3,7}((0.0, 0.0, 0.0, -0.0398565, 0.0, 0.0, 0.0)) … StencilPoint{Float64,3,7}((0.0, 0.0, 0.0, -0.033916, 0.0, 0.0, 0.0)) StencilPoint{Float64,3,7}((0.0, 0.0, 0.0, -0.0580416, 0.0, 0.0, 0.0)); StencilPoint{Float64,3,7}((0.0, 0.0, 0.0, -0.0314206, 0.0, 0.0, 0.0)) StencilPoint{Float64,3,7}((0.0, 0.0, 0.0, -0.0362426, 0.0, 0.0, 0.0)) … StencilPoint{Float64,3,7}((0.0, 0.0, 0.0, -0.0381298, 0.0, 0.0, 0.0)) StencilPoint{Float64,3,7}((0.0, 0.0, 0.0, -0.0447899, 0.0, 0.0, 0.0)); … ; StencilPoint{Float64,3,7}((0.0, 0.0, 0.0, -0.0411426, 0.0, 0.0, 0.0)) StencilPoint{Float64,3,7}((0.0, 0.0, 0.0, -0.0460735, 0.0, 0.0, 0.0)) … StencilPoint{Float64,3,7}((0.0, 0.0, 0.0, -0.0266361, 0.0, 0.0, 0.0)) StencilPoint{Float64,3,7}((0.0, 0.0, 0.0, -0.0213565, 0.0, 0.0, 0.0)); StencilPoint{Float64,3,7}((0.0, 0.0, 0.0, -0.0490035, 0.0, 0.0, 0.0)) StencilPoint{Float64,3,7}((0.0, 0.0, 0.0, -0.059895, 0.0, 0.0, 0.0)) … StencilPoint{Float64,3,7}((0.0, 0.0, 0.0, -0.0414382, 0.0, 0.0, 0.0)) StencilPoint{Float64,3,7}((0.0, 0.0, 0.0, -0.0263961, 0.0, 0.0, 0.0))]), Stencil{Float64,3,7,DArray{StencilPoint{Float64,3,7},3,Array{StencilPoint{Float64,3,7},3}}}(StencilPoint{Float64,3,7}[StencilPoint{Float64,3,7}((0.0, 0.0, 0.0, -7.04017e-8, 0.0, 0.0, 0.0)) StencilPoint{Float64,3,7}((0.0, 0.0, 0.0, -6.77677e-8, 0.0, 0.0, 0.0)) … StencilPoint{Float64,3,7}((0.0, 0.0, 0.0, -1.02414e-7, 0.0, 0.0, 0.0)) StencilPoint{Float64,3,7}((0.0, 0.0, 0.0, -9.29908e-8, 0.0, 0.0, 0.0)); StencilPoint{Float64,3,7}((0.0, 0.0, 0.0, -7.00664e-8, 0.0, 0.0, 0.0)) StencilPoint{Float64,3,7}((0.0, 0.0, 0.0, -6.6982e-8, 0.0, 0.0, 0.0)) … StencilPoint{Float64,3,7}((0.0, 0.0, 0.0, -1.23735e-7, 0.0, 0.0, 0.0)) StencilPoint{Float64,3,7}((0.0, 0.0, 0.0, -1.19727e-7, 0.0, 0.0, 0.0)); … ; StencilPoint{Float64,3,7}((0.0, 0.0, 0.0, -5.44947e-8, 0.0, 0.0, 0.0)) StencilPoint{Float64,3,7}((0.0, 0.0, 0.0, -5.7689e-8, 0.0, 0.0, 0.0)) … StencilPoint{Float64,3,7}((0.0, 0.0, 0.0, -1.13654e-7, 0.0, 0.0, 0.0)) StencilPoint{Float64,3,7}((0.0, 0.0, 0.0, -1.20149e-7, 0.0, 0.0, 0.0)); StencilPoint{Float64,3,7}((0.0, 0.0, 0.0, -5.08864e-8, 0.0, 0.0, 0.0)) StencilPoint{Float64,3,7}((0.0, 0.0, 0.0, -5.72473e-8, 0.0, 0.0, 0.0)) … StencilPoint{Float64,3,7}((0.0, 0.0, 0.0, -8.93046e-8, 0.0, 0.0, 0.0)) StencilPoint{Float64,3,7}((0.0, 0.0, 0.0, -1.07533e-7, 0.0, 0.0, 0.0))]\n",
       "\n",
       "StencilPoint{Float64,3,7}[StencilPoint{Float64,3,7}((0.0, 0.0, 0.0, -1.40685e-7, 0.0, 0.0, 0.0)) StencilPoint{Float64,3,7}((0.0, 0.0, 0.0, -1.17483e-7, 0.0, 0.0, 0.0)) … StencilPoint{Float64,3,7}((0.0, 0.0, 0.0, -4.34486e-7, 0.0, 0.0, 0.0)) StencilPoint{Float64,3,7}((0.0, 0.0, 0.0, -5.23153e-6, 0.0, 0.0, 0.0)); StencilPoint{Float64,3,7}((0.0, 0.0, 0.0, -1.97037e-7, 0.0, 0.0, 0.0)) StencilPoint{Float64,3,7}((0.0, 0.0, 0.0, -1.56384e-7, 0.0, 0.0, 0.0)) … StencilPoint{Float64,3,7}((0.0, 0.0, 0.0, -1.8189e-7, 0.0, 0.0, 0.0)) StencilPoint{Float64,3,7}((0.0, 0.0, 0.0, -4.29282e-7, 0.0, 0.0, 0.0)); … ; StencilPoint{Float64,3,7}((0.0, 0.0, 0.0, -2.19608e-7, 0.0, 0.0, 0.0)) StencilPoint{Float64,3,7}((0.0, 0.0, 0.0, -1.36399e-7, 0.0, 0.0, 0.0)) … StencilPoint{Float64,3,7}((0.0, 0.0, 0.0, -5.03343e-7, 0.0, 0.0, 0.0)) StencilPoint{Float64,3,7}((0.0, 0.0, 0.0, -6.14426e-8, 0.0, 0.0, 0.0)); StencilPoint{Float64,3,7}((0.0, 0.0, 0.0, -1.55459e-7, 0.0, 0.0, 0.0)) StencilPoint{Float64,3,7}((0.0, 0.0, 0.0, -1.49684e-7, 0.0, 0.0, 0.0)) … StencilPoint{Float64,3,7}((0.0, 0.0, 0.0, -6.19956e-7, 0.0, 0.0, 0.0)) StencilPoint{Float64,3,7}((0.0, 0.0, 0.0, -6.14426e-8, 0.0, 0.0, 0.0))]\n",
       "\n",
       "StencilPoint{Float64,3,7}[StencilPoint{Float64,3,7}((0.0, 0.0, 0.0, -8.50329e-8, 0.0, 0.0, 0.0)) StencilPoint{Float64,3,7}((0.0, 0.0, 0.0, -8.72637e-8, 0.0, 0.0, 0.0)) … StencilPoint{Float64,3,7}((0.0, 0.0, 0.0, -5.61302e-8, 0.0, 0.0, 0.0)) StencilPoint{Float64,3,7}((0.0, 0.0, 0.0, -4.77358e-8, 0.0, 0.0, 0.0)); StencilPoint{Float64,3,7}((0.0, 0.0, 0.0, -9.04727e-8, 0.0, 0.0, 0.0)) StencilPoint{Float64,3,7}((0.0, 0.0, 0.0, -1.41972e-7, 0.0, 0.0, 0.0)) … StencilPoint{Float64,3,7}((0.0, 0.0, 0.0, -6.49362e-8, 0.0, 0.0, 0.0)) StencilPoint{Float64,3,7}((0.0, 0.0, 0.0, -5.50665e-8, 0.0, 0.0, 0.0)); … ; StencilPoint{Float64,3,7}((0.0, 0.0, 0.0, -5.73179e-8, 0.0, 0.0, 0.0)) StencilPoint{Float64,3,7}((0.0, 0.0, 0.0, -6.01135e-8, 0.0, 0.0, 0.0)) … StencilPoint{Float64,3,7}((0.0, 0.0, 0.0, -9.82191e-8, 0.0, 0.0, 0.0)) StencilPoint{Float64,3,7}((0.0, 0.0, 0.0, -8.58083e-8, 0.0, 0.0, 0.0)); StencilPoint{Float64,3,7}((0.0, 0.0, 0.0, -5.8282e-8, 0.0, 0.0, 0.0)) StencilPoint{Float64,3,7}((0.0, 0.0, 0.0, -5.95852e-8, 0.0, 0.0, 0.0)) … StencilPoint{Float64,3,7}((0.0, 0.0, 0.0, -9.34249e-8, 0.0, 0.0, 0.0)) StencilPoint{Float64,3,7}((0.0, 0.0, 0.0, -9.20992e-8, 0.0, 0.0, 0.0))]\n",
       "\n",
       "...\n",
       "\n",
       "StencilPoint{Float64,3,7}[StencilPoint{Float64,3,7}((0.0, 0.0, 0.0, -4.90143e-8, 0.0, 0.0, 0.0)) StencilPoint{Float64,3,7}((0.0, 0.0, 0.0, -4.91192e-8, 0.0, 0.0, 0.0)) … StencilPoint{Float64,3,7}((0.0, 0.0, 0.0, -5.14664e-8, 0.0, 0.0, 0.0)) StencilPoint{Float64,3,7}((0.0, 0.0, 0.0, -5.51785e-8, 0.0, 0.0, 0.0)); StencilPoint{Float64,3,7}((0.0, 0.0, 0.0, -6.18701e-8, 0.0, 0.0, 0.0)) StencilPoint{Float64,3,7}((0.0, 0.0, 0.0, -6.35882e-8, 0.0, 0.0, 0.0)) … StencilPoint{Float64,3,7}((0.0, 0.0, 0.0, -5.24014e-8, 0.0, 0.0, 0.0)) StencilPoint{Float64,3,7}((0.0, 0.0, 0.0, -4.77656e-8, 0.0, 0.0, 0.0)); … ; StencilPoint{Float64,3,7}((0.0, 0.0, 0.0, -5.2961e-8, 0.0, 0.0, 0.0)) StencilPoint{Float64,3,7}((0.0, 0.0, 0.0, -4.83418e-8, 0.0, 0.0, 0.0)) … StencilPoint{Float64,3,7}((0.0, 0.0, 0.0, -5.72597e-8, 0.0, 0.0, 0.0)) StencilPoint{Float64,3,7}((0.0, 0.0, 0.0, -5.2894e-8, 0.0, 0.0, 0.0)); StencilPoint{Float64,3,7}((0.0, 0.0, 0.0, -5.13426e-8, 0.0, 0.0, 0.0)) StencilPoint{Float64,3,7}((0.0, 0.0, 0.0, -4.8601e-8, 0.0, 0.0, 0.0)) … StencilPoint{Float64,3,7}((0.0, 0.0, 0.0, -4.67974e-8, 0.0, 0.0, 0.0)) StencilPoint{Float64,3,7}((0.0, 0.0, 0.0, -5.38137e-8, 0.0, 0.0, 0.0))]\n",
       "\n",
       "StencilPoint{Float64,3,7}[StencilPoint{Float64,3,7}((0.0, 0.0, 0.0, -8.26975e-8, 0.0, 0.0, 0.0)) StencilPoint{Float64,3,7}((0.0, 0.0, 0.0, -9.65713e-8, 0.0, 0.0, 0.0)) … StencilPoint{Float64,3,7}((0.0, 0.0, 0.0, -7.6988e-8, 0.0, 0.0, 0.0)) StencilPoint{Float64,3,7}((0.0, 0.0, 0.0, -7.75661e-8, 0.0, 0.0, 0.0)); StencilPoint{Float64,3,7}((0.0, 0.0, 0.0, -9.37319e-8, 0.0, 0.0, 0.0)) StencilPoint{Float64,3,7}((0.0, 0.0, 0.0, -1.3428e-7, 0.0, 0.0, 0.0)) … StencilPoint{Float64,3,7}((0.0, 0.0, 0.0, -6.50513e-8, 0.0, 0.0, 0.0)) StencilPoint{Float64,3,7}((0.0, 0.0, 0.0, -6.28265e-8, 0.0, 0.0, 0.0)); … ; StencilPoint{Float64,3,7}((0.0, 0.0, 0.0, -6.40491e-8, 0.0, 0.0, 0.0)) StencilPoint{Float64,3,7}((0.0, 0.0, 0.0, -6.86762e-8, 0.0, 0.0, 0.0)) … StencilPoint{Float64,3,7}((0.0, 0.0, 0.0, -5.43029e-8, 0.0, 0.0, 0.0)) StencilPoint{Float64,3,7}((0.0, 0.0, 0.0, -5.42033e-8, 0.0, 0.0, 0.0)); StencilPoint{Float64,3,7}((0.0, 0.0, 0.0, -5.43068e-8, 0.0, 0.0, 0.0)) StencilPoint{Float64,3,7}((0.0, 0.0, 0.0, -6.24074e-8, 0.0, 0.0, 0.0)) … StencilPoint{Float64,3,7}((0.0, 0.0, 0.0, -6.00969e-8, 0.0, 0.0, 0.0)) StencilPoint{Float64,3,7}((0.0, 0.0, 0.0, -5.54546e-8, 0.0, 0.0, 0.0))]\n",
       "\n",
       "StencilPoint{Float64,3,7}[StencilPoint{Float64,3,7}((0.0, 0.0, 0.0, -7.36253e-8, 0.0, 0.0, 0.0)) StencilPoint{Float64,3,7}((0.0, 0.0, 0.0, -8.9718e-8, 0.0, 0.0, 0.0)) … StencilPoint{Float64,3,7}((0.0, 0.0, 0.0, -7.63179e-8, 0.0, 0.0, 0.0)) StencilPoint{Float64,3,7}((0.0, 0.0, 0.0, -1.21135e-7, 0.0, 0.0, 0.0)); StencilPoint{Float64,3,7}((0.0, 0.0, 0.0, -7.68923e-8, 0.0, 0.0, 0.0)) StencilPoint{Float64,3,7}((0.0, 0.0, 0.0, -8.74488e-8, 0.0, 0.0, 0.0)) … StencilPoint{Float64,3,7}((0.0, 0.0, 0.0, -9.01288e-8, 0.0, 0.0, 0.0)) StencilPoint{Float64,3,7}((0.0, 0.0, 0.0, -9.60503e-8, 0.0, 0.0, 0.0)); … ; StencilPoint{Float64,3,7}((0.0, 0.0, 0.0, -9.92341e-8, 0.0, 0.0, 0.0)) StencilPoint{Float64,3,7}((0.0, 0.0, 0.0, -1.07177e-7, 0.0, 0.0, 0.0)) … StencilPoint{Float64,3,7}((0.0, 0.0, 0.0, -8.23319e-8, 0.0, 0.0, 0.0)) StencilPoint{Float64,3,7}((0.0, 0.0, 0.0, -7.43017e-8, 0.0, 0.0, 0.0)); StencilPoint{Float64,3,7}((0.0, 0.0, 0.0, -1.08194e-7, 0.0, 0.0, 0.0)) StencilPoint{Float64,3,7}((0.0, 0.0, 0.0, -1.32294e-7, 0.0, 0.0, 0.0)) … StencilPoint{Float64,3,7}((0.0, 0.0, 0.0, -1.0742e-7, 0.0, 0.0, 0.0)) StencilPoint{Float64,3,7}((0.0, 0.0, 0.0, -7.42825e-8, 0.0, 0.0, 0.0))]), Stencil{Float64,3,7,DArray{StencilPoint{Float64,3,7},3,Array{StencilPoint{Float64,3,7},3}}}(StencilPoint{Float64,3,7}[StencilPoint{Float64,3,7}((0.0, 0.0, 0.0, 1.53703e-8, 0.0, 0.0, 0.0)) StencilPoint{Float64,3,7}((0.0, 0.0, 0.0, 1.23733e-8, 0.0, 0.0, 0.0)) … StencilPoint{Float64,3,7}((0.0, 0.0, 0.0, 3.03299e-8, 0.0, 0.0, 0.0)) StencilPoint{Float64,3,7}((0.0, 0.0, 0.0, 2.76476e-8, 0.0, 0.0, 0.0)); StencilPoint{Float64,3,7}((0.0, 0.0, 0.0, 1.2151e-8, 0.0, 0.0, 0.0)) StencilPoint{Float64,3,7}((0.0, 0.0, 0.0, 9.31059e-9, 0.0, 0.0, 0.0)) … StencilPoint{Float64,3,7}((0.0, 0.0, 0.0, 3.59119e-8, 0.0, 0.0, 0.0)) StencilPoint{Float64,3,7}((0.0, 0.0, 0.0, 3.4865e-8, 0.0, 0.0, 0.0)); … ; StencilPoint{Float64,3,7}((0.0, 0.0, 0.0, 7.40671e-9, 0.0, 0.0, 0.0)) StencilPoint{Float64,3,7}((0.0, 0.0, 0.0, 1.15545e-8, 0.0, 0.0, 0.0)) … StencilPoint{Float64,3,7}((0.0, 0.0, 0.0, 3.29588e-8, 0.0, 0.0, 0.0)) StencilPoint{Float64,3,7}((0.0, 0.0, 0.0, 3.53017e-8, 0.0, 0.0, 0.0)); StencilPoint{Float64,3,7}((0.0, 0.0, 0.0, 9.45927e-9, 0.0, 0.0, 0.0)) StencilPoint{Float64,3,7}((0.0, 0.0, 0.0, 1.20584e-8, 0.0, 0.0, 0.0)) … StencilPoint{Float64,3,7}((0.0, 0.0, 0.0, 2.60416e-8, 0.0, 0.0, 0.0)) StencilPoint{Float64,3,7}((0.0, 0.0, 0.0, 3.17908e-8, 0.0, 0.0, 0.0))]\n",
       "\n",
       "StencilPoint{Float64,3,7}[StencilPoint{Float64,3,7}((0.0, 0.0, 0.0, 3.89043e-8, 0.0, 0.0, 0.0)) StencilPoint{Float64,3,7}((0.0, 0.0, 0.0, 3.18523e-8, 0.0, 0.0, 0.0)) … StencilPoint{Float64,3,7}((0.0, 0.0, 0.0, 1.24528e-7, 0.0, 0.0, 0.0)) StencilPoint{Float64,3,7}((0.0, 0.0, 0.0, 1.19836e-6, 0.0, 0.0, 0.0)); StencilPoint{Float64,3,7}((0.0, 0.0, 0.0, 5.0033e-8, 0.0, 0.0, 0.0)) StencilPoint{Float64,3,7}((0.0, 0.0, 0.0, 3.87282e-8, 0.0, 0.0, 0.0)) … StencilPoint{Float64,3,7}((0.0, 0.0, 0.0, 5.29016e-8, 0.0, 0.0, 0.0)) StencilPoint{Float64,3,7}((0.0, 0.0, 0.0, 1.2185e-7, 0.0, 0.0, 0.0)); … ; StencilPoint{Float64,3,7}((0.0, 0.0, 0.0, 6.43034e-8, 0.0, 0.0, 0.0)) StencilPoint{Float64,3,7}((0.0, 0.0, 0.0, 4.01023e-8, 0.0, 0.0, 0.0)) … StencilPoint{Float64,3,7}((0.0, 0.0, 0.0, 1.36012e-7, 0.0, 0.0, 0.0)) StencilPoint{Float64,3,7}((0.0, 0.0, 0.0, 1.85487e-8, 0.0, 0.0, 0.0)); StencilPoint{Float64,3,7}((0.0, 0.0, 0.0, 4.62641e-8, 0.0, 0.0, 0.0)) StencilPoint{Float64,3,7}((0.0, 0.0, 0.0, 4.40989e-8, 0.0, 0.0, 0.0)) … StencilPoint{Float64,3,7}((0.0, 0.0, 0.0, 1.7447e-7, 0.0, 0.0, 0.0)) StencilPoint{Float64,3,7}((0.0, 0.0, 0.0, 1.85487e-8, 0.0, 0.0, 0.0))]\n",
       "\n",
       "StencilPoint{Float64,3,7}[StencilPoint{Float64,3,7}((0.0, 0.0, 0.0, 2.26714e-8, 0.0, 0.0, 0.0)) StencilPoint{Float64,3,7}((0.0, 0.0, 0.0, 6.53263e-9, 0.0, 0.0, 0.0)) … StencilPoint{Float64,3,7}((0.0, 0.0, 0.0, 7.31001e-9, 0.0, 0.0, 0.0)) StencilPoint{Float64,3,7}((0.0, 0.0, 0.0, 5.721e-9, 0.0, 0.0, 0.0)); StencilPoint{Float64,3,7}((0.0, 0.0, 0.0, 2.293e-8, 0.0, 0.0, 0.0)) StencilPoint{Float64,3,7}((0.0, 0.0, 0.0, 3.57656e-8, 0.0, 0.0, 0.0)) … StencilPoint{Float64,3,7}((0.0, 0.0, 0.0, 8.74276e-9, 0.0, 0.0, 0.0)) StencilPoint{Float64,3,7}((0.0, 0.0, 0.0, 5.24971e-9, 0.0, 0.0, 0.0)); … ; StencilPoint{Float64,3,7}((0.0, 0.0, 0.0, 9.79792e-9, 0.0, 0.0, 0.0)) StencilPoint{Float64,3,7}((0.0, 0.0, 0.0, 8.07233e-9, 0.0, 0.0, 0.0)) … StencilPoint{Float64,3,7}((0.0, 0.0, 0.0, 2.01211e-8, 0.0, 0.0, 0.0)) StencilPoint{Float64,3,7}((0.0, 0.0, 0.0, 1.49924e-8, 0.0, 0.0, 0.0)); StencilPoint{Float64,3,7}((0.0, 0.0, 0.0, 1.11325e-8, 0.0, 0.0, 0.0)) StencilPoint{Float64,3,7}((0.0, 0.0, 0.0, 1.06972e-8, 0.0, 0.0, 0.0)) … StencilPoint{Float64,3,7}((0.0, 0.0, 0.0, 2.09946e-8, 0.0, 0.0, 0.0)) StencilPoint{Float64,3,7}((0.0, 0.0, 0.0, 1.80694e-8, 0.0, 0.0, 0.0))]\n",
       "\n",
       "...\n",
       "\n",
       "StencilPoint{Float64,3,7}[StencilPoint{Float64,3,7}((0.0, 0.0, 0.0, 1.20612e-8, 0.0, 0.0, 0.0)) StencilPoint{Float64,3,7}((0.0, 0.0, 0.0, 1.2099e-8, 0.0, 0.0, 0.0)) … StencilPoint{Float64,3,7}((0.0, 0.0, 0.0, 1.09341e-8, 0.0, 0.0, 0.0)) StencilPoint{Float64,3,7}((0.0, 0.0, 0.0, 3.8739e-9, 0.0, 0.0, 0.0)); StencilPoint{Float64,3,7}((0.0, 0.0, 0.0, 1.33945e-8, 0.0, 0.0, 0.0)) StencilPoint{Float64,3,7}((0.0, 0.0, 0.0, 1.4055e-8, 0.0, 0.0, 0.0)) … StencilPoint{Float64,3,7}((0.0, 0.0, 0.0, 9.44802e-9, 0.0, 0.0, 0.0)) StencilPoint{Float64,3,7}((0.0, 0.0, 0.0, 1.70905e-9, 0.0, 0.0, 0.0)); … ; StencilPoint{Float64,3,7}((0.0, 0.0, 0.0, 1.34901e-9, 0.0, 0.0, 0.0)) StencilPoint{Float64,3,7}((0.0, 0.0, 0.0, 2.5601e-9, 0.0, 0.0, 0.0)) … StencilPoint{Float64,3,7}((0.0, 0.0, 0.0, 6.42723e-10, 0.0, 0.0, 0.0)) StencilPoint{Float64,3,7}((0.0, 0.0, 0.0, 5.29367e-10, 0.0, 0.0, 0.0)); StencilPoint{Float64,3,7}((0.0, 0.0, 0.0, 1.06818e-8, 0.0, 0.0, 0.0)) StencilPoint{Float64,3,7}((0.0, 0.0, 0.0, 8.34813e-9, 0.0, 0.0, 0.0)) … StencilPoint{Float64,3,7}((0.0, 0.0, 0.0, 2.80518e-9, 0.0, 0.0, 0.0)) StencilPoint{Float64,3,7}((0.0, 0.0, 0.0, 3.25807e-9, 0.0, 0.0, 0.0))]\n",
       "\n",
       "StencilPoint{Float64,3,7}[StencilPoint{Float64,3,7}((0.0, 0.0, 0.0, 2.25934e-8, 0.0, 0.0, 0.0)) StencilPoint{Float64,3,7}((0.0, 0.0, 0.0, 2.70625e-8, 0.0, 0.0, 0.0)) … StencilPoint{Float64,3,7}((0.0, 0.0, 0.0, 1.90986e-8, 0.0, 0.0, 0.0)) StencilPoint{Float64,3,7}((0.0, 0.0, 0.0, 4.80318e-9, 0.0, 0.0, 0.0)); StencilPoint{Float64,3,7}((0.0, 0.0, 0.0, 2.39387e-8, 0.0, 0.0, 0.0)) StencilPoint{Float64,3,7}((0.0, 0.0, 0.0, 3.64868e-8, 0.0, 0.0, 0.0)) … StencilPoint{Float64,3,7}((0.0, 0.0, 0.0, 1.35408e-8, 0.0, 0.0, 0.0)) StencilPoint{Float64,3,7}((0.0, 0.0, 0.0, 2.00033e-9, 0.0, 0.0, 0.0)); … ; StencilPoint{Float64,3,7}((0.0, 0.0, 0.0, 2.29174e-9, 0.0, 0.0, 0.0)) StencilPoint{Float64,3,7}((0.0, 0.0, 0.0, 1.59159e-8, 0.0, 0.0, 0.0)) … StencilPoint{Float64,3,7}((0.0, 0.0, 0.0, 7.03055e-10, 0.0, 0.0, 0.0)) StencilPoint{Float64,3,7}((0.0, 0.0, 0.0, 5.62141e-10, 0.0, 0.0, 0.0)); StencilPoint{Float64,3,7}((0.0, 0.0, 0.0, 1.13539e-8, 0.0, 0.0, 0.0)) StencilPoint{Float64,3,7}((0.0, 0.0, 0.0, 1.5133e-8, 0.0, 0.0, 0.0)) … StencilPoint{Float64,3,7}((0.0, 0.0, 0.0, 7.98772e-9, 0.0, 0.0, 0.0)) StencilPoint{Float64,3,7}((0.0, 0.0, 0.0, 8.3053e-9, 0.0, 0.0, 0.0))]\n",
       "\n",
       "StencilPoint{Float64,3,7}[StencilPoint{Float64,3,7}((0.0, 0.0, 0.0, 1.97056e-8, 0.0, 0.0, 0.0)) StencilPoint{Float64,3,7}((0.0, 0.0, 0.0, 2.39138e-8, 0.0, 0.0, 0.0)) … StencilPoint{Float64,3,7}((0.0, 0.0, 0.0, 2.03496e-8, 0.0, 0.0, 0.0)) StencilPoint{Float64,3,7}((0.0, 0.0, 0.0, 3.48249e-8, 0.0, 0.0, 0.0)); StencilPoint{Float64,3,7}((0.0, 0.0, 0.0, 1.88523e-8, 0.0, 0.0, 0.0)) StencilPoint{Float64,3,7}((0.0, 0.0, 0.0, 2.17455e-8, 0.0, 0.0, 0.0)) … StencilPoint{Float64,3,7}((0.0, 0.0, 0.0, 2.28778e-8, 0.0, 0.0, 0.0)) StencilPoint{Float64,3,7}((0.0, 0.0, 0.0, 2.68739e-8, 0.0, 0.0, 0.0)); … ; StencilPoint{Float64,3,7}((0.0, 0.0, 0.0, 2.46855e-8, 0.0, 0.0, 0.0)) StencilPoint{Float64,3,7}((0.0, 0.0, 0.0, 2.76441e-8, 0.0, 0.0, 0.0)) … StencilPoint{Float64,3,7}((0.0, 0.0, 0.0, 1.59817e-8, 0.0, 0.0, 0.0)) StencilPoint{Float64,3,7}((0.0, 0.0, 0.0, 1.28139e-8, 0.0, 0.0, 0.0)); StencilPoint{Float64,3,7}((0.0, 0.0, 0.0, 2.94021e-8, 0.0, 0.0, 0.0)) StencilPoint{Float64,3,7}((0.0, 0.0, 0.0, 3.59369e-8, 0.0, 0.0, 0.0)) … StencilPoint{Float64,3,7}((0.0, 0.0, 0.0, 2.48629e-8, 0.0, 0.0, 0.0)) StencilPoint{Float64,3,7}((0.0, 0.0, 0.0, 1.58376e-8, 0.0, 0.0, 0.0))])))"
      ]
     },
     "execution_count": 14,
     "metadata": {},
     "output_type": "execute_result"
    }
   ],
   "source": [
    "DMS = MStencil{4,Float64,3,7,typeof(pd[1])}(Tuple(Stencil{Float64,3,7,typeof(pd[1])}.(pd)))"
   ]
  },
  {
   "cell_type": "code",
   "execution_count": 15,
   "metadata": {},
   "outputs": [
    {
     "data": {
      "text/plain": [
       "foo (generic function with 1 method)"
      ]
     },
     "execution_count": 15,
     "metadata": {},
     "output_type": "execute_result"
    }
   ],
   "source": [
    "function foo(S::DMStencil)\n",
    "    println(typeof(S))\n",
    "end"
   ]
  },
  {
   "cell_type": "code",
   "execution_count": 16,
   "metadata": {},
   "outputs": [
    {
     "name": "stdout",
     "output_type": "stream",
     "text": [
      "MStencil{4,Float64,3,7,DArray{StencilPoint{Float64,3,7},3,Array{StencilPoint{Float64,3,7},3}}}\n"
     ]
    }
   ],
   "source": [
    "foo(DMS)"
   ]
  },
  {
   "cell_type": "code",
   "execution_count": 10,
   "metadata": {},
   "outputs": [],
   "source": [
    "@everywhere foo() = (randn(100,100), randn(100,100))\n",
    "rrs = [@spawnat p foo() for p in workers()];\n",
    "Ds = [DArray((200,200)) do I\n",
    "         fetch(rrs[myid() - 1])[i]\n",
    "         end for i in 1:2];"
   ]
  },
  {
   "cell_type": "code",
   "execution_count": 20,
   "metadata": {},
   "outputs": [
    {
     "data": {
      "text/html": [
       "getindex(r::<b>Future</b>, args...) in Distributed at <a href=\"file:///Users/osx/buildbot/slave/package_osx64/build/usr/share/julia/stdlib/v0.7/Distributed/src/remotecall.jl\" target=\"_blank\">/Users/osx/buildbot/slave/package_osx64/build/usr/share/julia/stdlib/v0.7/Distributed/src/remotecall.jl:588</a>"
      ],
      "text/plain": [
       "getindex(r::Future, args...) in Distributed at /Users/osx/buildbot/slave/package_osx64/build/usr/share/julia/stdlib/v0.7/Distributed/src/remotecall.jl:588"
      ]
     },
     "execution_count": 20,
     "metadata": {},
     "output_type": "execute_result"
    }
   ],
   "source": [
    "@which getindex(rrs[1], 1)"
   ]
  },
  {
   "cell_type": "code",
   "execution_count": null,
   "metadata": {},
   "outputs": [],
   "source": []
  },
  {
   "cell_type": "code",
   "execution_count": 86,
   "metadata": {},
   "outputs": [
    {
     "name": "stdout",
     "output_type": "stream",
     "text": [
      "  11.272 ms (0 allocations: 0 bytes)\n"
     ]
    }
   ],
   "source": [
    "@btime A_mul_B!(2, S, res, 3., rescopy);"
   ]
  },
  {
   "cell_type": "code",
   "execution_count": 87,
   "metadata": {},
   "outputs": [
    {
     "name": "stdout",
     "output_type": "stream",
     "text": [
      "  15.567 ms (4260 allocations: 347.30 KiB)\n"
     ]
    }
   ],
   "source": [
    "@btime A_mul_B!(2, S_d, res_d, 3., resdcopy);"
   ]
  },
  {
   "cell_type": "code",
   "execution_count": 16,
   "metadata": {},
   "outputs": [
    {
     "data": {
      "text/plain": [
       "([0.0 0.0 … 0.0 0.0; 0.0 0.0 … 0.0 0.0; … ; 0.0 0.0 … 0.0 0.0; 0.0 0.0 … 0.0 0.0]\n",
       "\n",
       "[0.0 0.0 … 0.0 0.0; 0.0 0.0 … 0.0 0.0; … ; 0.0 0.0 … 0.0 0.0; 0.0 0.0 … 0.0 0.0]\n",
       "\n",
       "[0.0 0.0 … 0.0 0.0; 0.0 0.0 … 0.0 0.0; … ; 0.0 0.0 … 0.0 0.0; 0.0 0.0 … 0.0 0.0]\n",
       "\n",
       "...\n",
       "\n",
       "[0.0 0.0 … 0.0 0.0; 0.0 0.0 … 0.0 0.0; … ; 0.0 0.0 … 0.0 0.0; 0.0 0.0 … 0.0 0.0]\n",
       "\n",
       "[0.0 0.0 … 0.0 0.0; 0.0 0.0 … 0.0 0.0; … ; 0.0 0.0 … 0.0 0.0; 0.0 0.0 … 0.0 0.0]\n",
       "\n",
       "[0.0 0.0 … 0.0 0.0; 0.0 0.0 … 0.0 0.0; … ; 0.0 0.0 … 0.0 0.0; 0.0 0.0 … 0.0 0.0], [-173.276 0.0 … 0.0 -4.86362; 0.0 0.0 … 0.0 0.0; … ; 0.0 0.0 … 0.0 0.0; -580.025 0.0 … 0.0 -7.77429]\n",
       "\n",
       "[-27.7364 0.0 … 0.0 -1.55729; 0.0 0.0 … 0.0 0.0; … ; 0.0 0.0 … 0.0 0.0; -3.58612 0.0 … 0.0 -1.23634e-9]\n",
       "\n",
       "[-62.8778 0.0 … 0.0 -2181.55; 0.0 0.0 … 0.0 0.0; … ; 0.0 0.0 … 0.0 0.0; -294.332 0.0 … 0.0 -222.52]\n",
       "\n",
       "...\n",
       "\n",
       "[-265.548 0.0 … 0.0 -436.773; 0.0 0.0 … 0.0 0.0; … ; 0.0 0.0 … 0.0 0.0; -207.731 0.0 … 0.0 -3559.94]\n",
       "\n",
       "[-60.4301 0.0 … 0.0 -112.86; 0.0 0.0 … 0.0 0.0; … ; 0.0 0.0 … 0.0 0.0; -434.496 0.0 … 0.0 -462.583]\n",
       "\n",
       "[-59.8856 0.0 … 0.0 -10.2464; 0.0 0.0 … 0.0 0.0; … ; 0.0 0.0 … 0.0 0.0; -34.2566 0.0 … 0.0 -195.15])"
      ]
     },
     "execution_count": 16,
     "metadata": {},
     "output_type": "execute_result"
    }
   ],
   "source": [
    "resdcopy = copy(res_d)\n",
    "LinearAlgebra.axpy!(1.0, res_d, resdcopy)"
   ]
  },
  {
   "cell_type": "code",
   "execution_count": 15,
   "metadata": {},
   "outputs": [],
   "source": [
    "function LinearAlgebra.axpy!(a::Number, g1::DGrid{T,N,P,S}, g2::DGrid{T,N,P,S}) where {T,N,P,S}\n",
    "    @sync begin\n",
    "        for id in procs(g1.A)\n",
    "            @async remotecall_fetch(id) do\n",
    "                LinearAlgebra.axpy!(a, localpart(g1.A), localpart(g2.A))\n",
    "                nothing\n",
    "            end\n",
    "        end\n",
    "    end\n",
    "    g2\n",
    "end"
   ]
  },
  {
   "cell_type": "code",
   "execution_count": 15,
   "metadata": {},
   "outputs": [
    {
     "data": {
      "text/plain": [
       "Tuple{Grid{Float64,3,1,DArray{Float64,3,Grid{Float64,3,7,Array{Float64,3}}}},Grid{Float64,3,1,DArray{Float64,3,Grid{Float64,3,7,Array{Float64,3}}}}}"
      ]
     },
     "execution_count": 15,
     "metadata": {},
     "output_type": "execute_result"
    }
   ],
   "source": [
    "typeof(resdcopy)"
   ]
  },
  {
   "cell_type": "code",
   "execution_count": 53,
   "metadata": {},
   "outputs": [
    {
     "name": "stdout",
     "output_type": "stream",
     "text": [
      "  69.680 μs (5 allocations: 422.05 KiB)\n"
     ]
    }
   ],
   "source": [
    "@btime norm(res);"
   ]
  },
  {
   "cell_type": "code",
   "execution_count": 54,
   "metadata": {},
   "outputs": [
    {
     "name": "stdout",
     "output_type": "stream",
     "text": [
      "  989.570 μs (897 allocations: 50.09 KiB)\n"
     ]
    }
   ],
   "source": [
    "@btime norm(res_d);"
   ]
  },
  {
   "cell_type": "code",
   "execution_count": 61,
   "metadata": {},
   "outputs": [],
   "source": [
    "copy(res_d[1].A);"
   ]
  },
  {
   "cell_type": "code",
   "execution_count": 57,
   "metadata": {},
   "outputs": [
    {
     "data": {
      "text/html": [
       "copy(a::<b>AbstractArray</b>) in Base at <a href=\"https://github.com/JuliaLang/julia/tree/b145832402429ee1c88709edb3e341067353d1b0/base/abstractarray.jl#L780\" target=\"_blank\">abstractarray.jl:780</a>"
      ],
      "text/plain": [
       "copy(a::AbstractArray) in Base at abstractarray.jl:780"
      ]
     },
     "execution_count": 57,
     "metadata": {},
     "output_type": "execute_result"
    }
   ],
   "source": [
    "A = distribute(randn(10, 10))\n",
    "@which copy(A)"
   ]
  },
  {
   "cell_type": "code",
   "execution_count": 64,
   "metadata": {},
   "outputs": [
    {
     "data": {
      "text/plain": [
       "Tuple{Grid{Float64,3,7,Array{Float64,3}},Grid{Float64,3,7,Array{Float64,3}}}"
      ]
     },
     "execution_count": 64,
     "metadata": {},
     "output_type": "execute_result"
    }
   ],
   "source": [
    "Distributed.remotecall_fetch(2) do\n",
    "    typeof(copy(localpart(res_d)))\n",
    "end"
   ]
  },
  {
   "cell_type": "code",
   "execution_count": 73,
   "metadata": {},
   "outputs": [
    {
     "data": {
      "text/plain": [
       "30×30×30 Grid{Float64,3,1,DArray{Float64,3,Grid{Float64,3,7,Array{Float64,3}}}}:\n",
       "[:, :, 1] =\n",
       " -65.6798  0.0  0.0  0.0  0.0  0.0  …  0.0  0.0  0.0  0.0  0.0  -11.1442  \n",
       "   0.0     0.0  0.0  0.0  0.0  0.0     0.0  0.0  0.0  0.0  0.0    0.0     \n",
       "   0.0     0.0  0.0  0.0  0.0  0.0     0.0  0.0  0.0  0.0  0.0    0.0     \n",
       "   0.0     0.0  0.0  0.0  0.0  0.0     0.0  0.0  0.0  0.0  0.0    0.0     \n",
       "   0.0     0.0  0.0  0.0  0.0  0.0     0.0  0.0  0.0  0.0  0.0    0.0     \n",
       "   0.0     0.0  0.0  0.0  0.0  0.0  …  0.0  0.0  0.0  0.0  0.0    0.0     \n",
       "   0.0     0.0  0.0  0.0  0.0  0.0     0.0  0.0  0.0  0.0  0.0    0.0     \n",
       "   0.0     0.0  0.0  0.0  0.0  0.0     0.0  0.0  0.0  0.0  0.0    0.0     \n",
       "   0.0     0.0  0.0  0.0  0.0  0.0     0.0  0.0  0.0  0.0  0.0    0.0     \n",
       "   0.0     0.0  0.0  0.0  0.0  0.0     0.0  0.0  0.0  0.0  0.0    0.0     \n",
       "   0.0     0.0  0.0  0.0  0.0  0.0  …  0.0  0.0  0.0  0.0  0.0    0.0     \n",
       "   0.0     0.0  0.0  0.0  0.0  0.0     0.0  0.0  0.0  0.0  0.0    0.0     \n",
       "   0.0     0.0  0.0  0.0  0.0  0.0     0.0  0.0  0.0  0.0  0.0    0.0     \n",
       "   ⋮                           ⋮    ⋱       ⋮                             \n",
       "   0.0     0.0  0.0  0.0  0.0  0.0     0.0  0.0  0.0  0.0  0.0    0.0     \n",
       "   0.0     0.0  0.0  0.0  0.0  0.0     0.0  0.0  0.0  0.0  0.0    0.0     \n",
       "   0.0     0.0  0.0  0.0  0.0  0.0  …  0.0  0.0  0.0  0.0  0.0    0.0     \n",
       "   0.0     0.0  0.0  0.0  0.0  0.0     0.0  0.0  0.0  0.0  0.0    0.0     \n",
       "   0.0     0.0  0.0  0.0  0.0  0.0     0.0  0.0  0.0  0.0  0.0    0.0     \n",
       "   0.0     0.0  0.0  0.0  0.0  0.0     0.0  0.0  0.0  0.0  0.0    0.0     \n",
       "   0.0     0.0  0.0  0.0  0.0  0.0     0.0  0.0  0.0  0.0  0.0    0.0     \n",
       "   0.0     0.0  0.0  0.0  0.0  0.0  …  0.0  0.0  0.0  0.0  0.0    0.0     \n",
       "   0.0     0.0  0.0  0.0  0.0  0.0     0.0  0.0  0.0  0.0  0.0    0.0     \n",
       "   0.0     0.0  0.0  0.0  0.0  0.0     0.0  0.0  0.0  0.0  0.0    0.0     \n",
       "   0.0     0.0  0.0  0.0  0.0  0.0     0.0  0.0  0.0  0.0  0.0    0.0     \n",
       " -27.895   0.0  0.0  0.0  0.0  0.0     0.0  0.0  0.0  0.0  0.0   -0.379177\n",
       "\n",
       "[:, :, 2] =\n",
       " -10.5134  0.0  0.0  0.0  0.0  0.0  …  0.0  0.0  0.0  0.0  0.0  -4.10925 \n",
       "   0.0     0.0  0.0  0.0  0.0  0.0     0.0  0.0  0.0  0.0  0.0   0.0     \n",
       "   0.0     0.0  0.0  0.0  0.0  0.0     0.0  0.0  0.0  0.0  0.0   0.0     \n",
       "   0.0     0.0  0.0  0.0  0.0  0.0     0.0  0.0  0.0  0.0  0.0   0.0     \n",
       "   0.0     0.0  0.0  0.0  0.0  0.0     0.0  0.0  0.0  0.0  0.0   0.0     \n",
       "   0.0     0.0  0.0  0.0  0.0  0.0  …  0.0  0.0  0.0  0.0  0.0   0.0     \n",
       "   0.0     0.0  0.0  0.0  0.0  0.0     0.0  0.0  0.0  0.0  0.0   0.0     \n",
       "   0.0     0.0  0.0  0.0  0.0  0.0     0.0  0.0  0.0  0.0  0.0   0.0     \n",
       "   0.0     0.0  0.0  0.0  0.0  0.0     0.0  0.0  0.0  0.0  0.0   0.0     \n",
       "   0.0     0.0  0.0  0.0  0.0  0.0     0.0  0.0  0.0  0.0  0.0   0.0     \n",
       "   0.0     0.0  0.0  0.0  0.0  0.0  …  0.0  0.0  0.0  0.0  0.0   0.0     \n",
       "   0.0     0.0  0.0  0.0  0.0  0.0     0.0  0.0  0.0  0.0  0.0   0.0     \n",
       "   0.0     0.0  0.0  0.0  0.0  0.0     0.0  0.0  0.0  0.0  0.0   0.0     \n",
       "   ⋮                           ⋮    ⋱       ⋮                            \n",
       "   0.0     0.0  0.0  0.0  0.0  0.0     0.0  0.0  0.0  0.0  0.0   0.0     \n",
       "   0.0     0.0  0.0  0.0  0.0  0.0     0.0  0.0  0.0  0.0  0.0   0.0     \n",
       "   0.0     0.0  0.0  0.0  0.0  0.0  …  0.0  0.0  0.0  0.0  0.0   0.0     \n",
       "   0.0     0.0  0.0  0.0  0.0  0.0     0.0  0.0  0.0  0.0  0.0   0.0     \n",
       "   0.0     0.0  0.0  0.0  0.0  0.0     0.0  0.0  0.0  0.0  0.0   0.0     \n",
       "   0.0     0.0  0.0  0.0  0.0  0.0     0.0  0.0  0.0  0.0  0.0   0.0     \n",
       "   0.0     0.0  0.0  0.0  0.0  0.0     0.0  0.0  0.0  0.0  0.0   0.0     \n",
       "   0.0     0.0  0.0  0.0  0.0  0.0  …  0.0  0.0  0.0  0.0  0.0   0.0     \n",
       "   0.0     0.0  0.0  0.0  0.0  0.0     0.0  0.0  0.0  0.0  0.0   0.0     \n",
       "   0.0     0.0  0.0  0.0  0.0  0.0     0.0  0.0  0.0  0.0  0.0   0.0     \n",
       "   0.0     0.0  0.0  0.0  0.0  0.0     0.0  0.0  0.0  0.0  0.0   0.0     \n",
       " -32.7917  0.0  0.0  0.0  0.0  0.0     0.0  0.0  0.0  0.0  0.0  -0.381059\n",
       "\n",
       "[:, :, 3] =\n",
       " -23.8337   0.0  0.0  0.0  0.0  0.0  …  0.0  0.0  0.0  0.0  0.0    -16.1129\n",
       "   0.0      0.0  0.0  0.0  0.0  0.0     0.0  0.0  0.0  0.0  0.0      0.0   \n",
       "   0.0      0.0  0.0  0.0  0.0  0.0     0.0  0.0  0.0  0.0  0.0      0.0   \n",
       "   0.0      0.0  0.0  0.0  0.0  0.0     0.0  0.0  0.0  0.0  0.0      0.0   \n",
       "   0.0      0.0  0.0  0.0  0.0  0.0     0.0  0.0  0.0  0.0  0.0      0.0   \n",
       "   0.0      0.0  0.0  0.0  0.0  0.0  …  0.0  0.0  0.0  0.0  0.0      0.0   \n",
       "   0.0      0.0  0.0  0.0  0.0  0.0     0.0  0.0  0.0  0.0  0.0      0.0   \n",
       "   0.0      0.0  0.0  0.0  0.0  0.0     0.0  0.0  0.0  0.0  0.0      0.0   \n",
       "   0.0      0.0  0.0  0.0  0.0  0.0     0.0  0.0  0.0  0.0  0.0      0.0   \n",
       "   0.0      0.0  0.0  0.0  0.0  0.0     0.0  0.0  0.0  0.0  0.0      0.0   \n",
       "   0.0      0.0  0.0  0.0  0.0  0.0  …  0.0  0.0  0.0  0.0  0.0      0.0   \n",
       "   0.0      0.0  0.0  0.0  0.0  0.0     0.0  0.0  0.0  0.0  0.0      0.0   \n",
       "   0.0      0.0  0.0  0.0  0.0  0.0     0.0  0.0  0.0  0.0  0.0      0.0   \n",
       "   ⋮                            ⋮    ⋱       ⋮                             \n",
       "   0.0      0.0  0.0  0.0  0.0  0.0     0.0  0.0  0.0  0.0  0.0      0.0   \n",
       "   0.0      0.0  0.0  0.0  0.0  0.0     0.0  0.0  0.0  0.0  0.0      0.0   \n",
       "   0.0      0.0  0.0  0.0  0.0  0.0  …  0.0  0.0  0.0  0.0  0.0      0.0   \n",
       "   0.0      0.0  0.0  0.0  0.0  0.0     0.0  0.0  0.0  0.0  0.0      0.0   \n",
       "   0.0      0.0  0.0  0.0  0.0  0.0     0.0  0.0  0.0  0.0  0.0      0.0   \n",
       "   0.0      0.0  0.0  0.0  0.0  0.0     0.0  0.0  0.0  0.0  0.0      0.0   \n",
       "   0.0      0.0  0.0  0.0  0.0  0.0     0.0  0.0  0.0  0.0  0.0      0.0   \n",
       "   0.0      0.0  0.0  0.0  0.0  0.0  …  0.0  0.0  0.0  0.0  0.0      0.0   \n",
       "   0.0      0.0  0.0  0.0  0.0  0.0     0.0  0.0  0.0  0.0  0.0      0.0   \n",
       "   0.0      0.0  0.0  0.0  0.0  0.0     0.0  0.0  0.0  0.0  0.0      0.0   \n",
       "   0.0      0.0  0.0  0.0  0.0  0.0     0.0  0.0  0.0  0.0  0.0      0.0   \n",
       "  -9.59843  0.0  0.0  0.0  0.0  0.0     0.0  0.0  0.0  0.0  0.0  -2441.72  \n",
       "\n",
       "...\n",
       "\n",
       "[:, :, 28] =\n",
       " -6.2439   0.0  0.0  0.0  0.0  0.0  0.0  …  0.0  0.0  0.0  0.0  0.0  -6.68319\n",
       "  0.0      0.0  0.0  0.0  0.0  0.0  0.0     0.0  0.0  0.0  0.0  0.0   0.0    \n",
       "  0.0      0.0  0.0  0.0  0.0  0.0  0.0     0.0  0.0  0.0  0.0  0.0   0.0    \n",
       "  0.0      0.0  0.0  0.0  0.0  0.0  0.0     0.0  0.0  0.0  0.0  0.0   0.0    \n",
       "  0.0      0.0  0.0  0.0  0.0  0.0  0.0     0.0  0.0  0.0  0.0  0.0   0.0    \n",
       "  0.0      0.0  0.0  0.0  0.0  0.0  0.0  …  0.0  0.0  0.0  0.0  0.0   0.0    \n",
       "  0.0      0.0  0.0  0.0  0.0  0.0  0.0     0.0  0.0  0.0  0.0  0.0   0.0    \n",
       "  0.0      0.0  0.0  0.0  0.0  0.0  0.0     0.0  0.0  0.0  0.0  0.0   0.0    \n",
       "  0.0      0.0  0.0  0.0  0.0  0.0  0.0     0.0  0.0  0.0  0.0  0.0   0.0    \n",
       "  0.0      0.0  0.0  0.0  0.0  0.0  0.0     0.0  0.0  0.0  0.0  0.0   0.0    \n",
       "  0.0      0.0  0.0  0.0  0.0  0.0  0.0  …  0.0  0.0  0.0  0.0  0.0   0.0    \n",
       "  0.0      0.0  0.0  0.0  0.0  0.0  0.0     0.0  0.0  0.0  0.0  0.0   0.0    \n",
       "  0.0      0.0  0.0  0.0  0.0  0.0  0.0     0.0  0.0  0.0  0.0  0.0   0.0    \n",
       "  ⋮                            ⋮         ⋱       ⋮                           \n",
       "  0.0      0.0  0.0  0.0  0.0  0.0  0.0     0.0  0.0  0.0  0.0  0.0   0.0    \n",
       "  0.0      0.0  0.0  0.0  0.0  0.0  0.0     0.0  0.0  0.0  0.0  0.0   0.0    \n",
       "  0.0      0.0  0.0  0.0  0.0  0.0  0.0  …  0.0  0.0  0.0  0.0  0.0   0.0    \n",
       "  0.0      0.0  0.0  0.0  0.0  0.0  0.0     0.0  0.0  0.0  0.0  0.0   0.0    \n",
       "  0.0      0.0  0.0  0.0  0.0  0.0  0.0     0.0  0.0  0.0  0.0  0.0   0.0    \n",
       "  0.0      0.0  0.0  0.0  0.0  0.0  0.0     0.0  0.0  0.0  0.0  0.0   0.0    \n",
       "  0.0      0.0  0.0  0.0  0.0  0.0  0.0     0.0  0.0  0.0  0.0  0.0   0.0    \n",
       "  0.0      0.0  0.0  0.0  0.0  0.0  0.0  …  0.0  0.0  0.0  0.0  0.0   0.0    \n",
       "  0.0      0.0  0.0  0.0  0.0  0.0  0.0     0.0  0.0  0.0  0.0  0.0   0.0    \n",
       "  0.0      0.0  0.0  0.0  0.0  0.0  0.0     0.0  0.0  0.0  0.0  0.0   0.0    \n",
       "  0.0      0.0  0.0  0.0  0.0  0.0  0.0     0.0  0.0  0.0  0.0  0.0   0.0    \n",
       " -9.01199  0.0  0.0  0.0  0.0  0.0  0.0     0.0  0.0  0.0  0.0  0.0  -1.22045\n",
       "\n",
       "[:, :, 29] =\n",
       "  -20.9228  0.0  0.0  0.0  0.0  0.0  …  0.0  0.0  0.0  0.0  0.0  -38.8888 \n",
       "    0.0     0.0  0.0  0.0  0.0  0.0     0.0  0.0  0.0  0.0  0.0    0.0    \n",
       "    0.0     0.0  0.0  0.0  0.0  0.0     0.0  0.0  0.0  0.0  0.0    0.0    \n",
       "    0.0     0.0  0.0  0.0  0.0  0.0     0.0  0.0  0.0  0.0  0.0    0.0    \n",
       "    0.0     0.0  0.0  0.0  0.0  0.0     0.0  0.0  0.0  0.0  0.0    0.0    \n",
       "    0.0     0.0  0.0  0.0  0.0  0.0  …  0.0  0.0  0.0  0.0  0.0    0.0    \n",
       "    0.0     0.0  0.0  0.0  0.0  0.0     0.0  0.0  0.0  0.0  0.0    0.0    \n",
       "    0.0     0.0  0.0  0.0  0.0  0.0     0.0  0.0  0.0  0.0  0.0    0.0    \n",
       "    0.0     0.0  0.0  0.0  0.0  0.0     0.0  0.0  0.0  0.0  0.0    0.0    \n",
       "    0.0     0.0  0.0  0.0  0.0  0.0     0.0  0.0  0.0  0.0  0.0    0.0    \n",
       "    0.0     0.0  0.0  0.0  0.0  0.0  …  0.0  0.0  0.0  0.0  0.0    0.0    \n",
       "    0.0     0.0  0.0  0.0  0.0  0.0     0.0  0.0  0.0  0.0  0.0    0.0    \n",
       "    0.0     0.0  0.0  0.0  0.0  0.0     0.0  0.0  0.0  0.0  0.0    0.0    \n",
       "    ⋮                           ⋮    ⋱       ⋮                            \n",
       "    0.0     0.0  0.0  0.0  0.0  0.0     0.0  0.0  0.0  0.0  0.0    0.0    \n",
       "    0.0     0.0  0.0  0.0  0.0  0.0     0.0  0.0  0.0  0.0  0.0    0.0    \n",
       "    0.0     0.0  0.0  0.0  0.0  0.0  …  0.0  0.0  0.0  0.0  0.0    0.0    \n",
       "    0.0     0.0  0.0  0.0  0.0  0.0     0.0  0.0  0.0  0.0  0.0    0.0    \n",
       "    0.0     0.0  0.0  0.0  0.0  0.0     0.0  0.0  0.0  0.0  0.0    0.0    \n",
       "    0.0     0.0  0.0  0.0  0.0  0.0     0.0  0.0  0.0  0.0  0.0    0.0    \n",
       "    0.0     0.0  0.0  0.0  0.0  0.0     0.0  0.0  0.0  0.0  0.0    0.0    \n",
       "    0.0     0.0  0.0  0.0  0.0  0.0  …  0.0  0.0  0.0  0.0  0.0    0.0    \n",
       "    0.0     0.0  0.0  0.0  0.0  0.0     0.0  0.0  0.0  0.0  0.0    0.0    \n",
       "    0.0     0.0  0.0  0.0  0.0  0.0     0.0  0.0  0.0  0.0  0.0    0.0    \n",
       "    0.0     0.0  0.0  0.0  0.0  0.0     0.0  0.0  0.0  0.0  0.0    0.0    \n",
       " -168.002   0.0  0.0  0.0  0.0  0.0     0.0  0.0  0.0  0.0  0.0   -1.95314\n",
       "\n",
       "[:, :, 30] =\n",
       "  -9.9144  0.0  0.0  0.0  0.0  0.0  …  0.0  0.0  0.0  0.0  0.0  -102.616 \n",
       "   0.0     0.0  0.0  0.0  0.0  0.0     0.0  0.0  0.0  0.0  0.0     0.0   \n",
       "   0.0     0.0  0.0  0.0  0.0  0.0     0.0  0.0  0.0  0.0  0.0     0.0   \n",
       "   0.0     0.0  0.0  0.0  0.0  0.0     0.0  0.0  0.0  0.0  0.0     0.0   \n",
       "   0.0     0.0  0.0  0.0  0.0  0.0     0.0  0.0  0.0  0.0  0.0     0.0   \n",
       "   0.0     0.0  0.0  0.0  0.0  0.0  …  0.0  0.0  0.0  0.0  0.0     0.0   \n",
       "   0.0     0.0  0.0  0.0  0.0  0.0     0.0  0.0  0.0  0.0  0.0     0.0   \n",
       "   0.0     0.0  0.0  0.0  0.0  0.0     0.0  0.0  0.0  0.0  0.0     0.0   \n",
       "   0.0     0.0  0.0  0.0  0.0  0.0     0.0  0.0  0.0  0.0  0.0     0.0   \n",
       "   0.0     0.0  0.0  0.0  0.0  0.0     0.0  0.0  0.0  0.0  0.0     0.0   \n",
       "   0.0     0.0  0.0  0.0  0.0  0.0  …  0.0  0.0  0.0  0.0  0.0     0.0   \n",
       "   0.0     0.0  0.0  0.0  0.0  0.0     0.0  0.0  0.0  0.0  0.0     0.0   \n",
       "   0.0     0.0  0.0  0.0  0.0  0.0     0.0  0.0  0.0  0.0  0.0     0.0   \n",
       "   ⋮                           ⋮    ⋱       ⋮                            \n",
       "   0.0     0.0  0.0  0.0  0.0  0.0     0.0  0.0  0.0  0.0  0.0     0.0   \n",
       "   0.0     0.0  0.0  0.0  0.0  0.0     0.0  0.0  0.0  0.0  0.0     0.0   \n",
       "   0.0     0.0  0.0  0.0  0.0  0.0  …  0.0  0.0  0.0  0.0  0.0     0.0   \n",
       "   0.0     0.0  0.0  0.0  0.0  0.0     0.0  0.0  0.0  0.0  0.0     0.0   \n",
       "   0.0     0.0  0.0  0.0  0.0  0.0     0.0  0.0  0.0  0.0  0.0     0.0   \n",
       "   0.0     0.0  0.0  0.0  0.0  0.0     0.0  0.0  0.0  0.0  0.0     0.0   \n",
       "   0.0     0.0  0.0  0.0  0.0  0.0     0.0  0.0  0.0  0.0  0.0     0.0   \n",
       "   0.0     0.0  0.0  0.0  0.0  0.0  …  0.0  0.0  0.0  0.0  0.0     0.0   \n",
       "   0.0     0.0  0.0  0.0  0.0  0.0     0.0  0.0  0.0  0.0  0.0     0.0   \n",
       "   0.0     0.0  0.0  0.0  0.0  0.0     0.0  0.0  0.0  0.0  0.0     0.0   \n",
       "   0.0     0.0  0.0  0.0  0.0  0.0     0.0  0.0  0.0  0.0  0.0     0.0   \n",
       " -54.3207  0.0  0.0  0.0  0.0  0.0     0.0  0.0  0.0  0.0  0.0    -1.0244"
      ]
     },
     "execution_count": 73,
     "metadata": {},
     "output_type": "execute_result"
    }
   ],
   "source": [
    "c1 = copy(res_d[1])\n",
    "c2 = copy(res_d[2])"
   ]
  },
  {
   "cell_type": "code",
   "execution_count": 76,
   "metadata": {},
   "outputs": [
    {
     "name": "stderr",
     "output_type": "stream",
     "text": [
      "┌ Warning: `copy!(dst::AbstractArray, src::AbstractArray)` is deprecated. You can either use `copyto!(dst, src)` or `Future.copy!(dst, src)` instead.\n",
      "│   caller = copy!(::Grid{Float64,3,7,Array{Float64,3}}, ::Grid{Float64,3,7,Array{Float64,3}}) at Stencil.jl:39\n",
      "└ @ Main ~/Desktop/gitrep/Reservoirnew/src/Stencil.jl:39\n",
      "┌ Warning: `copy!(dst::AbstractArray, src::AbstractArray)` is deprecated. You can either use `copyto!(dst, src)` or `Future.copy!(dst, src)` instead.\n",
      "│   caller = copy!(::Grid{Float64,3,7,Array{Float64,3}}, ::Grid{Float64,3,7,Array{Float64,3}}) at Stencil.jl:39\n",
      "└ @ Main ~/Desktop/gitrep/Reservoirnew/src/Stencil.jl:39\n",
      "┌ Warning: `copy!(dst::AbstractArray, src::AbstractArray)` is deprecated. You can either use `copyto!(dst, src)` or `Future.copy!(dst, src)` instead.\n",
      "│   caller = copy!(::Grid{Float64,3,7,Array{Float64,3}}, ::Grid{Float64,3,7,Array{Float64,3}}) at Stencil.jl:39\n",
      "└ @ Main ~/Desktop/gitrep/Reservoirnew/src/Stencil.jl:39\n",
      "┌ Warning: `copy!(dst::AbstractArray, src::AbstractArray)` is deprecated. You can either use `copyto!(dst, src)` or `Future.copy!(dst, src)` instead.\n",
      "│   caller = copy!(::Grid{Float64,3,7,Array{Float64,3}}, ::Grid{Float64,3,7,Array{Float64,3}}) at Stencil.jl:39\n",
      "└ @ Main ~/Desktop/gitrep/Reservoirnew/src/Stencil.jl:39\n"
     ]
    }
   ],
   "source": [
    "copy!(c1, c2)"
   ]
  },
  {
   "cell_type": "code",
   "execution_count": 69,
   "metadata": {},
   "outputs": [],
   "source": [
    "Base.copy(g::DGrid{T,N,P,S}) where {T,N,P,S} = DGrid{T,N,P,S}(DArray(I->copy(localpart(g)), g.A))"
   ]
  },
  {
   "cell_type": "code",
   "execution_count": 70,
   "metadata": {},
   "outputs": [
    {
     "data": {
      "text/html": [
       "copy<i>{T, N, P, S}</i>(g::<b>Grid{T,N,1,DArray{T,N,Grid{T,N,P,S}}}</b>) in Main at In[69]:1"
      ],
      "text/plain": [
       "copy(g::Grid{T,N,1,DArray{T,N,Grid{T,N,P,S}}}) where {T, N, P, S} in Main at In[69]:1"
      ]
     },
     "execution_count": 70,
     "metadata": {},
     "output_type": "execute_result"
    }
   ],
   "source": [
    "@which copy!(res_d[1])"
   ]
  },
  {
   "cell_type": "code",
   "execution_count": 75,
   "metadata": {},
   "outputs": [],
   "source": [
    "function Base.copyto!(g1::DGrid{T,N,P,S}, g2::DGrid{T,N,P,S}) where {T,N,P,S}\n",
    "    @sync begin\n",
    "        for id in procs(g1.A)\n",
    "            @async remotecall_fetch(copyto!, id, localpart(g1), localpart(g2))\n",
    "        end\n",
    "    end\n",
    "end"
   ]
  },
  {
   "cell_type": "code",
   "execution_count": 39,
   "metadata": {
    "scrolled": true
   },
   "outputs": [
    {
     "name": "stdout",
     "output_type": "stream",
     "text": [
      "  2.148 ms (1202 allocations: 79.95 KiB)\n"
     ]
    },
    {
     "data": {
      "text/plain": [
       "(1.453853857425114e9, 4.695344251886791e8)"
      ]
     },
     "execution_count": 39,
     "metadata": {},
     "output_type": "execute_result"
    }
   ],
   "source": [
    "@btime map(dot, res_d, res_d)"
   ]
  },
  {
   "cell_type": "code",
   "execution_count": 40,
   "metadata": {},
   "outputs": [
    {
     "name": "stdout",
     "output_type": "stream",
     "text": [
      "  2.151 ms (1200 allocations: 79.91 KiB)\n"
     ]
    },
    {
     "data": {
      "text/plain": [
       "1.923388282613793e9"
      ]
     },
     "execution_count": 40,
     "metadata": {},
     "output_type": "execute_result"
    }
   ],
   "source": [
    "@btime dot(res_d, res_d)"
   ]
  },
  {
   "cell_type": "code",
   "execution_count": 18,
   "metadata": {},
   "outputs": [
    {
     "data": {
      "text/plain": [
       "dot (generic function with 6 methods)"
      ]
     },
     "execution_count": 18,
     "metadata": {},
     "output_type": "execute_result"
    }
   ],
   "source": [
    "function dot(D1::DistributedArrays.DArray{T}, D2::DistributedArrays.DArray{T})::float(eltype(T)) where {T}\n",
    "    r = asyncmap(procs(D1)) do p\n",
    "        remotecall_fetch(p) do\n",
    "            LinearAlgebra.dot(localpart(D1), localpart(D2))\n",
    "        end\n",
    "    end\n",
    "    return sum(r)\n",
    "end"
   ]
  },
  {
   "cell_type": "code",
   "execution_count": 21,
   "metadata": {},
   "outputs": [
    {
     "data": {
      "text/plain": [
       "10×10 DistributedArrays.DArray{Float64,2,Array{Float64,2}}:\n",
       "  0.769126  -0.400798   0.130416  …   0.0101605  -0.0872368   1.34264 \n",
       "  0.734193  -1.81488   -2.28833      -0.692621    0.876304   -0.348194\n",
       " -2.40723    1.14639   -0.440189      0.508658    0.787517    1.23491 \n",
       " -0.825664   1.85021    0.473883      0.917719    0.213465   -2.76018 \n",
       " -0.144625   0.123101   2.09429       1.38314     2.25361     1.74453 \n",
       "  0.603789  -1.23814   -2.51793   …  -0.836202    0.954274    0.217877\n",
       " -0.961304  -1.21261    0.490579     -0.0499638  -1.02424    -0.755746\n",
       " -2.50013    0.12127   -2.46745      -0.0712724   1.20668     1.96839 \n",
       "  0.203384  -3.38854    0.275124      1.45901     0.160742    1.34257 \n",
       "  0.428939  -1.28279   -0.300866      1.09837     1.69305    -1.24481 "
      ]
     },
     "execution_count": 21,
     "metadata": {},
     "output_type": "execute_result"
    }
   ],
   "source": [
    "function dot(D1::DistributedArrays.DArray{T}, D2::DistributedArrays.DArray{T})::float(eltype(T)) where {T}\n",
    "    r = asyncmap(procs(D1)) do p\n",
    "        remotecall_fetch(p) do\n",
    "            LinearAlgebra.dot(localpart(D1), localpart(D2))\n",
    "        end\n",
    "    end\n",
    "    return sum(r)\n",
    "end"
   ]
  },
  {
   "cell_type": "code",
   "execution_count": 24,
   "metadata": {},
   "outputs": [
    {
     "ename": "LoadError",
     "evalue": "\u001b[91mMethodError: Cannot `convert` an object of type DistributedArrays.DArray{Float64,3,Array{Float64,3}} to an object of type DistributedArrays.DArray{Float64,3,Grid{Float64,3,7,Array{Float64,3}}}\nThis may have arisen from a call to the constructor DistributedArrays.DArray{Float64,3,Grid{Float64,3,7,Array{Float64,3}}}(...),\nsince type constructors fall back to convert methods.\u001b[39m",
     "output_type": "error",
     "traceback": [
      "\u001b[91mMethodError: Cannot `convert` an object of type DistributedArrays.DArray{Float64,3,Array{Float64,3}} to an object of type DistributedArrays.DArray{Float64,3,Grid{Float64,3,7,Array{Float64,3}}}\nThis may have arisen from a call to the constructor DistributedArrays.DArray{Float64,3,Grid{Float64,3,7,Array{Float64,3}}}(...),\nsince type constructors fall back to convert methods.\u001b[39m",
      "",
      "Stacktrace:",
      " [1] \u001b[1mmap\u001b[22m\u001b[22m\u001b[1m(\u001b[22m\u001b[22m::Base.#copy, ::Tuple{Grid{Float64,3,1,DistributedArrays.DArray{Float64,3,Grid{Float64,3,7,Array{Float64,3}}}},Grid{Float64,3,1,DistributedArrays.DArray{Float64,3,Grid{Float64,3,7,Array{Float64,3}}}}}\u001b[1m)\u001b[22m\u001b[22m at \u001b[1m./tuple.jl:159\u001b[22m\u001b[22m",
      " [2] \u001b[1mcopy\u001b[22m\u001b[22m\u001b[1m(\u001b[22m\u001b[22m::Tuple{Grid{Float64,3,1,DistributedArrays.DArray{Float64,3,Grid{Float64,3,7,Array{Float64,3}}}},Grid{Float64,3,1,DistributedArrays.DArray{Float64,3,Grid{Float64,3,7,Array{Float64,3}}}}}\u001b[1m)\u001b[22m\u001b[22m at \u001b[1m/Users/sw2030/Desktop/gitrep/Reservoirnew/src/Stencil.jl:45\u001b[22m\u001b[22m"
     ]
    }
   ],
   "source": [
    "typeof(copy(res_d))"
   ]
  },
  {
   "cell_type": "code",
   "execution_count": 61,
   "metadata": {},
   "outputs": [
    {
     "data": {
      "text/plain": [
       "10-element Array{Float64,1}:\n",
       " 1.0\n",
       " 1.0\n",
       " 1.0\n",
       " 1.0\n",
       " 1.0\n",
       " 1.0\n",
       " 1.0\n",
       " 1.0\n",
       " 1.0\n",
       " 1.0"
      ]
     },
     "execution_count": 61,
     "metadata": {},
     "output_type": "execute_result"
    }
   ],
   "source": [
    "svdvals(A)"
   ]
  },
  {
   "cell_type": "code",
   "execution_count": 57,
   "metadata": {},
   "outputs": [
    {
     "data": {
      "text/plain": [
       "10×10 Array{Float64,2}:\n",
       " 1.0  0.0  0.0  0.0  0.0  0.0  0.0  0.0  0.0  0.0\n",
       " 0.0  1.0  0.0  0.0  0.0  0.0  0.0  0.0  0.0  0.0\n",
       " 0.0  0.0  1.0  0.0  0.0  0.0  0.0  0.0  0.0  0.0\n",
       " 0.0  0.0  0.0  1.0  0.0  0.0  0.0  0.0  0.0  0.0\n",
       " 0.0  0.0  0.0  0.0  1.0  0.0  0.0  0.0  0.0  0.0\n",
       " 0.0  0.0  0.0  0.0  0.0  1.0  0.0  0.0  0.0  0.0\n",
       " 0.0  0.0  0.0  0.0  0.0  0.0  1.0  0.0  0.0  0.0\n",
       " 0.0  0.0  0.0  0.0  0.0  0.0  0.0  1.0  0.0  0.0\n",
       " 0.0  0.0  0.0  0.0  0.0  0.0  0.0  0.0  1.0  0.0\n",
       " 0.0  0.0  0.0  0.0  0.0  0.0  0.0  0.0  0.0  1.0"
      ]
     },
     "execution_count": 57,
     "metadata": {},
     "output_type": "execute_result"
    }
   ],
   "source": [
    "A = Matrix{Float64}(I,10,10)"
   ]
  },
  {
   "cell_type": "code",
   "execution_count": 63,
   "metadata": {},
   "outputs": [
    {
     "data": {
      "text/plain": [
       "3.1622776601683795"
      ]
     },
     "execution_count": 63,
     "metadata": {},
     "output_type": "execute_result"
    }
   ],
   "source": [
    "LinearAlgebra.norm(A)"
   ]
  },
  {
   "cell_type": "code",
   "execution_count": 51,
   "metadata": {},
   "outputs": [
    {
     "data": {
      "text/plain": [
       "10.0"
      ]
     },
     "execution_count": 51,
     "metadata": {},
     "output_type": "execute_result"
    }
   ],
   "source": [
    "LinearAlgebra.norm(A,2)"
   ]
  },
  {
   "cell_type": "code",
   "execution_count": 24,
   "metadata": {},
   "outputs": [],
   "source": [
    "@everywhere foo() = [1]"
   ]
  },
  {
   "cell_type": "code",
   "execution_count": 34,
   "metadata": {},
   "outputs": [
    {
     "ename": "RemoteException",
     "evalue": "\u001b[91mOn worker 2:\n\u001b[91mBoundsError: attempt to access 4×4 Array{Float64,2} at index [5, 1]\u001b[39m\ngetindex at ./array.jl:555\ngetlocalindex at /Users/sw2030/.julia/v0.6/DistributedArrays/src/darray.jl:541\n#106 at ./distributed/process_messages.jl:268 [inlined]\nrun_work_thunk at ./distributed/process_messages.jl:56\nmacro expansion at ./distributed/process_messages.jl:268 [inlined]\n#105 at ./event.jl:73\u001b[39m",
     "output_type": "error",
     "traceback": [
      "\u001b[91mOn worker 2:\n\u001b[91mBoundsError: attempt to access 4×4 Array{Float64,2} at index [5, 1]\u001b[39m\ngetindex at ./array.jl:555\ngetlocalindex at /Users/sw2030/.julia/v0.6/DistributedArrays/src/darray.jl:541\n#106 at ./distributed/process_messages.jl:268 [inlined]\nrun_work_thunk at ./distributed/process_messages.jl:56\nmacro expansion at ./distributed/process_messages.jl:268 [inlined]\n#105 at ./event.jl:73\u001b[39m",
      "",
      "Stacktrace:",
      " [1] \u001b[1m#remotecall_fetch#141\u001b[22m\u001b[22m\u001b[1m(\u001b[22m\u001b[22m::Array{Any,1}, ::Function, ::Function, ::Base.Distributed.Worker, ::DistributedArrays.DArray{Float64,2,Array{Float64,2}}, ::Vararg{Any,N} where N\u001b[1m)\u001b[22m\u001b[22m at \u001b[1m./distributed/remotecall.jl:354\u001b[22m\u001b[22m",
      " [2] \u001b[1mremotecall_fetch\u001b[22m\u001b[22m\u001b[1m(\u001b[22m\u001b[22m::Function, ::Base.Distributed.Worker, ::DistributedArrays.DArray{Float64,2,Array{Float64,2}}, ::Vararg{Any,N} where N\u001b[1m)\u001b[22m\u001b[22m at \u001b[1m./distributed/remotecall.jl:346\u001b[22m\u001b[22m",
      " [3] \u001b[1m#remotecall_fetch#144\u001b[22m\u001b[22m\u001b[1m(\u001b[22m\u001b[22m::Array{Any,1}, ::Function, ::Function, ::Int64, ::DistributedArrays.DArray{Float64,2,Array{Float64,2}}, ::Vararg{Any,N} where N\u001b[1m)\u001b[22m\u001b[22m at \u001b[1m./distributed/remotecall.jl:367\u001b[22m\u001b[22m",
      " [4] \u001b[1mremotecall_fetch\u001b[22m\u001b[22m\u001b[1m(\u001b[22m\u001b[22m::Function, ::Int64, ::DistributedArrays.DArray{Float64,2,Array{Float64,2}}, ::Vararg{Any,N} where N\u001b[1m)\u001b[22m\u001b[22m at \u001b[1m./distributed/remotecall.jl:367\u001b[22m\u001b[22m",
      " [5] \u001b[1mgetindex_tuple\u001b[22m\u001b[22m\u001b[1m(\u001b[22m\u001b[22m::DistributedArrays.DArray{Float64,2,Array{Float64,2}}, ::Tuple{Int64,Int64}\u001b[1m)\u001b[22m\u001b[22m at \u001b[1m/Users/sw2030/.julia/v0.6/DistributedArrays/src/darray.jl:547\u001b[22m\u001b[22m",
      " [6] \u001b[1mgetindex\u001b[22m\u001b[22m\u001b[1m(\u001b[22m\u001b[22m::DistributedArrays.DArray{Float64,2,Array{Float64,2}}, ::Int64, ::Int64\u001b[1m)\u001b[22m\u001b[22m at \u001b[1m/Users/sw2030/.julia/v0.6/DistributedArrays/src/darray.jl:551\u001b[22m\u001b[22m",
      " [7] \u001b[1misassigned\u001b[22m\u001b[22m\u001b[1m(\u001b[22m\u001b[22m::DistributedArrays.DArray{Float64,2,Array{Float64,2}}, ::Int64, ::Int64, ::Vararg{Int64,N} where N\u001b[1m)\u001b[22m\u001b[22m at \u001b[1m./abstractarray.jl:222\u001b[22m\u001b[22m",
      " [8] \u001b[1malignment\u001b[22m\u001b[22m\u001b[1m(\u001b[22m\u001b[22m::IOContext{Base.AbstractIOBuffer{Array{UInt8,1}}}, ::DistributedArrays.DArray{Float64,2,Array{Float64,2}}, ::Base.OneTo{Int64}, ::Base.OneTo{Int64}, ::Int64, ::Int64, ::Int64\u001b[1m)\u001b[22m\u001b[22m at \u001b[1m./show.jl:1353\u001b[22m\u001b[22m",
      " [9] \u001b[1mprint_matrix\u001b[22m\u001b[22m\u001b[1m(\u001b[22m\u001b[22m::IOContext{Base.AbstractIOBuffer{Array{UInt8,1}}}, ::DistributedArrays.DArray{Float64,2,Array{Float64,2}}, ::String, ::String, ::String, ::String, ::String, ::String, ::Int64, ::Int64\u001b[1m)\u001b[22m\u001b[22m at \u001b[1m./show.jl:1482\u001b[22m\u001b[22m",
      " [10] \u001b[1mprint_matrix\u001b[22m\u001b[22m\u001b[1m(\u001b[22m\u001b[22m::IOContext{Base.AbstractIOBuffer{Array{UInt8,1}}}, ::DistributedArrays.DArray{Float64,2,Array{Float64,2}}, ::String, ::String, ::String\u001b[1m)\u001b[22m\u001b[22m at \u001b[1m./show.jl:1455\u001b[22m\u001b[22m",
      " [11] \u001b[1m#showarray#263\u001b[22m\u001b[22m\u001b[1m(\u001b[22m\u001b[22m::Bool, ::Function, ::IOContext{Base.AbstractIOBuffer{Array{UInt8,1}}}, ::DistributedArrays.DArray{Float64,2,Array{Float64,2}}, ::Bool\u001b[1m)\u001b[22m\u001b[22m at \u001b[1m./show.jl:1704\u001b[22m\u001b[22m",
      " [12] \u001b[1mlimitstringmime\u001b[22m\u001b[22m\u001b[1m(\u001b[22m\u001b[22m::MIME{Symbol(\"text/plain\")}, ::DistributedArrays.DArray{Float64,2,Array{Float64,2}}\u001b[1m)\u001b[22m\u001b[22m at \u001b[1m/Users/sw2030/.julia/v0.6/IJulia/src/inline.jl:24\u001b[22m\u001b[22m",
      " [13] \u001b[1mdisplay_dict\u001b[22m\u001b[22m\u001b[1m(\u001b[22m\u001b[22m::DistributedArrays.DArray{Float64,2,Array{Float64,2}}\u001b[1m)\u001b[22m\u001b[22m at \u001b[1m/Users/sw2030/.julia/v0.6/IJulia/src/execute_request.jl:28\u001b[22m\u001b[22m",
      " [14] \u001b[1m(::Compat.#inner#14{Array{Any,1},IJulia.#display_dict,Tuple{DistributedArrays.DArray{Float64,2,Array{Float64,2}}}})\u001b[22m\u001b[22m\u001b[1m(\u001b[22m\u001b[22m\u001b[1m)\u001b[22m\u001b[22m at \u001b[1m/Users/sw2030/.julia/v0.6/Compat/src/Compat.jl:332\u001b[22m\u001b[22m",
      " [15] \u001b[1mexecute_request\u001b[22m\u001b[22m\u001b[1m(\u001b[22m\u001b[22m::ZMQ.Socket, ::IJulia.Msg\u001b[1m)\u001b[22m\u001b[22m at \u001b[1m/Users/sw2030/.julia/v0.6/IJulia/src/execute_request.jl:209\u001b[22m\u001b[22m",
      " [16] \u001b[1m(::Compat.#inner#14{Array{Any,1},IJulia.#execute_request,Tuple{ZMQ.Socket,IJulia.Msg}})\u001b[22m\u001b[22m\u001b[1m(\u001b[22m\u001b[22m\u001b[1m)\u001b[22m\u001b[22m at \u001b[1m/Users/sw2030/.julia/v0.6/Compat/src/Compat.jl:332\u001b[22m\u001b[22m",
      " [17] \u001b[1meventloop\u001b[22m\u001b[22m\u001b[1m(\u001b[22m\u001b[22m::ZMQ.Socket\u001b[1m)\u001b[22m\u001b[22m at \u001b[1m/Users/sw2030/.julia/v0.6/IJulia/src/eventloop.jl:8\u001b[22m\u001b[22m",
      " [18] \u001b[1m(::IJulia.##15#18)\u001b[22m\u001b[22m\u001b[1m(\u001b[22m\u001b[22m\u001b[1m)\u001b[22m\u001b[22m at \u001b[1m./task.jl:335\u001b[22m\u001b[22m"
     ]
    }
   ],
   "source": [
    "DArray(I->(randn(4,4)), (9,9), procs(A))"
   ]
  },
  {
   "cell_type": "code",
   "execution_count": 2,
   "metadata": {},
   "outputs": [
    {
     "data": {
      "text/plain": [
       "10×10 DistributedArrays.DArray{Float64,2,Array{Float64,2}}:\n",
       "  0.427942   0.0385143   1.80555    …   1.37371    0.00766917  -1.45792 \n",
       " -1.32463   -0.429835    0.426029      -0.883892  -1.07051     -0.305954\n",
       "  0.578912  -0.610096    0.0471534     -0.537095  -0.475942     0.551877\n",
       " -0.224741  -1.76746     0.223894       0.544298   0.316523    -1.13226 \n",
       " -0.79615    0.328359    0.974728       0.746285  -1.44491      0.558655\n",
       " -0.132108   0.671754   -0.261967   …   1.07551   -0.470111    -0.191039\n",
       "  0.28998   -1.88623     0.61943        0.440925  -0.415926     0.864246\n",
       " -0.612169  -0.144335    1.4304         0.675677   2.21688      0.888987\n",
       " -0.201718  -1.42182    -0.809351       0.763046   0.539245    -1.05557 \n",
       " -0.878114  -0.863897    1.69046       -1.73469    2.02812      1.01314 "
      ]
     },
     "execution_count": 2,
     "metadata": {},
     "output_type": "execute_result"
    }
   ],
   "source": [
    "A = distribute(randn(10, 10))"
   ]
  },
  {
   "cell_type": "code",
   "execution_count": 12,
   "metadata": {},
   "outputs": [
    {
     "data": {
      "text/plain": [
       "10×10 DistributedArrays.DArray{Float64,2,Grid{Float64,2,5,Array{Float64,2}}}:\n",
       "  0.427942   0.0385143   1.80555    …   1.37371    0.00766917  -1.45792 \n",
       " -1.32463   -0.429835    0.426029      -0.883892  -1.07051     -0.305954\n",
       "  0.578912  -0.610096    0.0471534     -0.537095  -0.475942     0.551877\n",
       " -0.224741  -1.76746     0.223894       0.544298   0.316523    -1.13226 \n",
       " -0.79615    0.328359    0.974728       0.746285  -1.44491      0.558655\n",
       " -0.132108   0.671754   -0.261967   …   1.07551   -0.470111    -0.191039\n",
       "  0.28998   -1.88623     0.61943        0.440925  -0.415926     0.864246\n",
       " -0.612169  -0.144335    1.4304         0.675677   2.21688      0.888987\n",
       " -0.201718  -1.42182    -0.809351       0.763046   0.539245    -1.05557 \n",
       " -0.878114  -0.863897    1.69046       -1.73469    2.02812      1.01314 "
      ]
     },
     "execution_count": 12,
     "metadata": {},
     "output_type": "execute_result"
    }
   ],
   "source": [
    "makegrid(A,5).A"
   ]
  },
  {
   "cell_type": "code",
   "execution_count": 24,
   "metadata": {},
   "outputs": [
    {
     "name": "stdout",
     "output_type": "stream",
     "text": [
      "  1.495 ms (829 allocations: 78.11 KiB)\n"
     ]
    }
   ],
   "source": [
    "@btime mapreduce(norm, +, initgrid);"
   ]
  },
  {
   "cell_type": "code",
   "execution_count": 33,
   "metadata": {
    "scrolled": true
   },
   "outputs": [
    {
     "name": "stdout",
     "output_type": "stream",
     "text": [
      "day 1...\n",
      "day 2...\n",
      "day 3...\n",
      "day 4...\n",
      "day 5...\n",
      "day 6...\n",
      "day 7...\n",
      "day 8...\n"
     ]
    },
    {
     "data": {
      "text/plain": [
       "10-element Array{Tuple{Grid{Float64,3,7,Array{Float64,3}},Grid{Float64,3,7,Array{Float64,3}}},1}:\n",
       " ([6000.0 6000.0 … 6000.0 6000.0; 6000.0 6000.0 … 6000.0 6000.0; … ; 6000.0 6000.0 … 6000.0 6000.0; 6000.0 6000.0 … 6000.0 6000.0]\n",
       "\n",
       "[6000.0 6000.0 … 6000.0 6000.0; 6000.0 6000.0 … 6000.0 6000.0; … ; 6000.0 6000.0 … 6000.0 6000.0; 6000.0 6000.0 … 6000.0 6000.0]\n",
       "\n",
       "[6000.0 6000.0 … 6000.0 6000.0; 6000.0 6000.0 … 6000.0 6000.0; … ; 6000.0 6000.0 … 6000.0 6000.0; 6000.0 6000.0 … 6000.0 6000.0]\n",
       "\n",
       "...\n",
       "\n",
       "[6000.0 6000.0 … 6000.0 6000.0; 6000.0 6000.0 … 6000.0 6000.0; … ; 6000.0 6000.0 … 6000.0 6000.0; 6000.0 6000.0 … 6000.0 6000.0]\n",
       "\n",
       "[6000.0 6000.0 … 6000.0 6000.0; 6000.0 6000.0 … 6000.0 6000.0; … ; 6000.0 6000.0 … 6000.0 6000.0; 6000.0 6000.0 … 6000.0 6000.0]\n",
       "\n",
       "[6000.0 6000.0 … 6000.0 6000.0; 6000.0 6000.0 … 6000.0 6000.0; … ; 6000.0 6000.0 … 6000.0 6000.0; 6000.0 6000.0 … 6000.0 6000.0], [0.2 0.2 … 0.2 0.2; 0.2 0.2 … 0.2 0.2; … ; 0.2 0.2 … 0.2 0.2; 0.2 0.2 … 0.2 0.2]\n",
       "\n",
       "[0.2 0.2 … 0.2 0.2; 0.2 0.2 … 0.2 0.2; … ; 0.2 0.2 … 0.2 0.2; 0.2 0.2 … 0.2 0.2]\n",
       "\n",
       "[0.2 0.2 … 0.2 0.2; 0.2 0.2 … 0.2 0.2; … ; 0.2 0.2 … 0.2 0.2; 0.2 0.2 … 0.2 0.2]\n",
       "\n",
       "...\n",
       "\n",
       "[0.2 0.2 … 0.2 0.2; 0.2 0.2 … 0.2 0.2; … ; 0.2 0.2 … 0.2 0.2; 0.2 0.2 … 0.2 0.2]\n",
       "\n",
       "[0.2 0.2 … 0.2 0.2; 0.2 0.2 … 0.2 0.2; … ; 0.2 0.2 … 0.2 0.2; 0.2 0.2 … 0.2 0.2]\n",
       "\n",
       "[0.2 0.2 … 0.2 0.2; 0.2 0.2 … 0.2 0.2; … ; 0.2 0.2 … 0.2 0.2; 0.2 0.2 … 0.2 0.2])                                                                                                                                                                                                                                                                                                                                                                                                                                                           \n",
       " ([5992.31 5999.04 … 5999.93 5997.74; 5997.59 5999.4 … 5999.99 5999.88; … ; 5992.46 5996.73 … 6000.0 5999.77; 5985.15 5996.14 … 5999.82 5999.53]\n",
       "\n",
       "[5996.1 5999.77 … 5999.96 5998.47; 5999.33 5999.93 … 5999.99 5999.9; … ; 5992.46 5996.81 … 5999.97 5995.45; 5984.93 5996.26 … 5996.36 5995.86]\n",
       "\n",
       "[5994.99 5998.54 … 5996.93 5987.36; 5999.05 5999.69 … 5997.8 5994.37; … ; 5999.24 5999.93 … 5978.18 5963.49; 5996.04 5999.75 … 5973.87 5959.27]\n",
       "\n",
       "...\n",
       "\n",
       "[5999.92 6000.0 … 6000.0 5999.99; 6000.0 6000.0 … 6000.0 6000.0; … ; 5969.92 5991.5 … 5991.28 5980.15; 5952.43 5986.49 … 5989.58 5970.47]\n",
       "\n",
       "[5999.89 6000.0 … 6000.0 5999.97; 6000.0 6000.0 … 6000.0 6000.0; … ; 5998.8 5999.34 … 5994.0 5991.57; 5994.29 5999.09 … 5987.0 5983.09]\n",
       "\n",
       "[5990.17 5998.01 … 6000.0 5999.83; 5995.64 5998.31 … 6000.0 6000.0; … ; 5999.2 5999.73 … 5988.72 5979.09; 5995.65 5999.54 … 5986.33 5969.47], [0.200005 0.200001 … 0.2 0.200001; 0.200001 0.2 … 0.2 0.2; … ; 0.200005 0.200002 … 0.2 0.2; 0.200009 0.200002 … 0.2 0.2]\n",
       "\n",
       "[0.200002 0.2 … 0.2 0.200001; 0.2 0.2 … 0.2 0.2; … ; 0.200005 0.200002 … 0.2 0.200003; 0.200009 0.200002 … 0.200002 0.200002]\n",
       "\n",
       "[0.200003 0.200001 … 0.200002 0.200008; 0.200001 0.2 … 0.200001 0.200003; … ; 0.2 0.2 … 0.200013 0.200022; 0.200002 0.2 … 0.200016 0.200024]\n",
       "\n",
       "...\n",
       "\n",
       "[0.2 0.2 … 0.2 0.2; 0.2 0.2 … 0.2 0.2; … ; 0.200018 0.200005 … 0.200005 0.200012; 0.200029 0.200008 … 0.200006 0.200018]\n",
       "\n",
       "[0.2 0.2 … 0.2 0.2; 0.2 0.2 … 0.2 0.2; … ; 0.200001 0.2 … 0.200004 0.200005; 0.200003 0.200001 … 0.200008 0.20001]\n",
       "\n",
       "[0.200006 0.200001 … 0.2 0.2; 0.200003 0.200001 … 0.2 0.2; … ; 0.2 0.2 … 0.200007 0.200013; 0.200003 0.2 … 0.200008 0.200018])                                                                                                            \n",
       " ([5987.67 5997.88 … 5999.79 5995.63; 5995.11 5998.5 … 5999.97 5999.65; … ; 5986.46 5992.99 … 5999.99 5999.31; 5977.45 5992.09 … 5999.46 5998.76]\n",
       "\n",
       "[5992.89 5999.38 … 5999.9 5997.13; 5998.33 5999.77 … 5999.98 5999.72; … ; 5986.41 5993.09 … 5999.91 5990.88; 5977.1 5992.21 … 5992.39 5991.61]\n",
       "\n",
       "[5990.97 5996.48 … 5994.07 5981.62; 5997.65 5999.06 … 5995.33 5990.16; … ; 5998.13 5999.76 … 5969.97 5955.08; 5992.89 5999.35 … 5965.66 5949.2]\n",
       "\n",
       "...\n",
       "\n",
       "[5999.84 6000.0 … 6000.0 5999.98; 6000.0 6000.0 … 6000.0 6000.0; … ; 5950.02 5980.71 … 5982.99 5967.58; 5929.56 5971.86 … 5980.72 5956.77]\n",
       "\n",
       "[5999.77 6000.0 … 6000.0 5999.95; 6000.0 6000.0 … 6000.0 6000.0; … ; 5997.73 5998.56 … 5988.29 5984.51; 5991.7 5998.14 … 5978.54 5973.84]\n",
       "\n",
       "[5984.71 5995.68 … 6000.0 5999.66; 5991.81 5996.19 … 6000.0 6000.0; … ; 5998.45 5999.36 … 5980.63 5969.32; 5993.12 5999.01 … 5977.76 5959.01], [0.200007 0.200001 … 0.2 0.200003; 0.200003 0.200001 … 0.2 0.2; … ; 0.200008 0.200004 … 0.2 0.2; 0.200014 0.200005 … 0.2 0.200001]\n",
       "\n",
       "[0.200004 0.2 … 0.2 0.200002; 0.200001 0.2 … 0.2 0.2; … ; 0.200008 0.200004 … 0.2 0.200005; 0.200014 0.200005 … 0.200005 0.200005]\n",
       "\n",
       "[0.200005 0.200002 … 0.200004 0.200011; 0.200001 0.200001 … 0.200003 0.200006; … ; 0.200001 0.2 … 0.200018 0.200027; 0.200004 0.2 … 0.200021 0.20003]\n",
       "\n",
       "...\n",
       "\n",
       "[0.2 0.2 … 0.2 0.2; 0.2 0.2 … 0.2 0.2; … ; 0.20003 0.200012 … 0.20001 0.200019; 0.200042 0.200017 … 0.200012 0.200026]\n",
       "\n",
       "[0.2 0.2 … 0.2 0.2; 0.2 0.2 … 0.2 0.2; … ; 0.200001 0.200001 … 0.200007 0.200009; 0.200005 0.200001 … 0.200013 0.200016]\n",
       "\n",
       "[0.200009 0.200003 … 0.2 0.2; 0.200005 0.200002 … 0.2 0.2; … ; 0.200001 0.2 … 0.200012 0.200018; 0.200004 0.200001 … 0.200013 0.200025])                                                                 \n",
       " ([5984.56 5996.73 … 5999.6 5993.64; 5992.99 5997.52 … 5999.94 5999.33; … ; 5981.84 5989.52 … 5999.99 5998.68; 5972.29 5988.43 … 5998.95 5997.76]\n",
       "\n",
       "[5990.2 5998.9 … 5999.81 5995.94; 5997.19 5999.54 … 5999.95 5999.49; … ; 5981.76 5989.62 … 5999.82 5986.86; 5971.9 5988.53 … 5988.77 5987.86]\n",
       "\n",
       "[5987.6 5994.2 … 5991.71 5978.15; 5996.04 5998.17 … 5993.14 5987.14; … ; 5996.9 5999.52 … 5966.18 5951.57; 5990.29 5998.86 … 5962.02 5945.32]\n",
       "\n",
       "...\n",
       "\n",
       "[5999.76 6000.0 … 6000.0 5999.97; 6000.0 6000.0 … 6000.0 6000.0; … ; 5936.42 5970.26 … 5975.56 5958.63; 5915.01 5958.71 … 5973.06 5947.61]\n",
       "\n",
       "[5999.66 6000.0 … 6000.0 5999.92; 6000.0 6000.0 … 6000.0 6000.0; … ; 5996.84 5997.81 … 5983.4 5978.89; 5990.22 5997.28 … 5972.43 5967.44]\n",
       "\n",
       "[5981.01 5993.42 … 6000.0 5999.49; 5988.72 5994.07 … 6000.0 6000.0; … ; 5997.85 5998.99 … 5974.54 5962.85; 5991.58 5998.51 … 5971.61 5952.49], [0.200009 0.200002 … 0.2 0.200004; 0.200004 0.200001 … 0.2 0.2; … ; 0.200011 0.200006 … 0.2 0.200001; 0.200017 0.200007 … 0.200001 0.200001]\n",
       "\n",
       "[0.200006 0.200001 … 0.2 0.200002; 0.200002 0.2 … 0.2 0.2; … ; 0.200011 0.200006 … 0.2 0.200008; 0.200017 0.200007 … 0.200007 0.200007]\n",
       "\n",
       "[0.200007 0.200003 … 0.200005 0.200013; 0.200002 0.200001 … 0.200004 0.200008; … ; 0.200002 0.2 … 0.20002 0.200029; 0.200006 0.200001 … 0.200023 0.200033]\n",
       "\n",
       "...\n",
       "\n",
       "[0.2 0.2 … 0.2 0.2; 0.2 0.2 … 0.2 0.2; … ; 0.200038 0.200018 … 0.200015 0.200025; 0.200051 0.200025 … 0.200016 0.200031]\n",
       "\n",
       "[0.2 0.2 … 0.2 0.2; 0.2 0.2 … 0.2 0.2; … ; 0.200002 0.200001 … 0.20001 0.200013; 0.200006 0.200002 … 0.200017 0.20002]\n",
       "\n",
       "[0.200011 0.200004 … 0.2 0.2; 0.200007 0.200004 … 0.2 0.2; … ; 0.200001 0.200001 … 0.200015 0.200022; 0.200005 0.200001 … 0.200017 0.200029])                                           \n",
       " ([5982.29 5995.66 … 5999.38 5991.76; 5991.23 5996.55 … 5999.88 5998.95; … ; 5978.09 5986.39 … 5999.97 5997.9; 5968.32 5985.19 … 5998.31 5996.59]\n",
       "\n",
       "[5987.9 5998.36 … 5999.71 5994.88; 5996.01 5999.23 … 5999.9 5999.21; … ; 5977.99 5986.49 … 5999.71 5983.45; 5967.91 5985.27 … 5985.62 5984.61]\n",
       "\n",
       "[5984.68 5991.91 … 5989.78 5975.68; 5994.36 5997.09 … 5991.28 5984.83; … ; 5995.63 5999.22 … 5963.92 5949.48; 5988.09 5998.32 … 5959.84 5943.12]\n",
       "\n",
       "...\n",
       "\n",
       "[5999.68 6000.0 … 6000.0 5999.96; 6000.0 6000.0 … 6000.0 6000.0; … ; 5926.2 5960.93 … 5968.57 5951.16; 5904.29 5947.44 … 5965.95 5940.1]\n",
       "\n",
       "[5999.55 6000.0 … 6000.0 5999.89; 5999.99 6000.0 … 6000.0 6000.0; … ; 5996.04 5997.1 … 5979.09 5974.15; 5989.19 5996.49 … 5967.44 5962.34]\n",
       "\n",
       "[5978.17 5991.31 … 6000.0 5999.32; 5986.16 5992.06 … 6000.0 6000.0; … ; 5997.38 5998.65 … 5969.49 5957.66; 5990.58 5998.07 … 5966.58 5947.34], [0.200011 0.200003 … 0.2 0.200005; 0.200005 0.200002 … 0.2 0.200001; … ; 0.200013 0.200008 … 0.2 0.200001; 0.200019 0.200009 … 0.200001 0.200002]\n",
       "\n",
       "[0.200007 0.200001 … 0.2 0.200003; 0.200002 0.2 … 0.2 0.2; … ; 0.200013 0.200008 … 0.2 0.20001; 0.200019 0.200009 … 0.200009 0.200009]\n",
       "\n",
       "[0.200009 0.200005 … 0.200006 0.200015; 0.200003 0.200002 … 0.200005 0.200009; … ; 0.200003 0.2 … 0.200022 0.20003; 0.200007 0.200001 … 0.200024 0.200034]\n",
       "\n",
       "...\n",
       "\n",
       "[0.2 0.2 … 0.2 0.2; 0.2 0.2 … 0.2 0.2; … ; 0.200044 0.200023 … 0.200019 0.200029; 0.200057 0.200032 … 0.20002 0.200036]\n",
       "\n",
       "[0.2 0.2 … 0.2 0.2; 0.2 0.2 … 0.2 0.2; … ; 0.200002 0.200002 … 0.200013 0.200016; 0.200006 0.200002 … 0.20002 0.200023]\n",
       "\n",
       "[0.200013 0.200005 … 0.2 0.2; 0.200008 0.200005 … 0.2 0.2; … ; 0.200002 0.200001 … 0.200018 0.200025; 0.200006 0.200001 … 0.20002 0.200032])                                     \n",
       " ([5980.53 5994.68 … 5999.11 5989.99; 5989.75 5995.64 … 5999.81 5998.5; … ; 5974.88 5983.58 … 5999.96 5997.02; 5965.01 5982.31 … 5997.57 5995.29]\n",
       "\n",
       "[5985.89 5997.78 … 5999.59 5993.92; 5994.85 5998.88 … 5999.85 5998.91; … ; 5974.77 5983.68 … 5999.58 5980.55; 5964.59 5982.36 … 5982.91 5981.81]\n",
       "\n",
       "[5982.07 5989.69 … 5988.17 5973.75; 5992.67 5995.9 … 5989.7 5982.97; … ; 5994.4 5998.87 … 5962.33 5947.99; 5986.18 5997.75 … 5958.29 5941.58]\n",
       "\n",
       "...\n",
       "\n",
       "[5999.61 6000.0 … 6000.0 5999.94; 6000.0 6000.0 … 6000.0 6000.0; … ; 5917.96 5952.77 … 5961.78 5944.32; 5895.74 5937.86 … 5959.09 5933.24]\n",
       "\n",
       "[5999.44 6000.0 … 6000.0 5999.87; 5999.99 6000.0 … 6000.0 6000.0; … ; 5995.3 5996.42 … 5975.13 5969.94; 5988.34 5995.76 … 5963.05 5957.95]\n",
       "\n",
       "[5975.81 5989.35 … 6000.0 5999.16; 5983.95 5990.19 … 6000.0 6000.0; … ; 5996.98 5998.34 … 5965.05 5953.17; 5989.88 5997.7 … 5962.18 5942.89], [0.200012 0.200003 … 0.200001 0.200006; 0.200006 0.200003 … 0.2 0.200001; … ; 0.200015 0.20001 … 0.2 0.200002; 0.200021 0.200011 … 0.200001 0.200003]\n",
       "\n",
       "[0.200008 0.200001 … 0.2 0.200004; 0.200003 0.200001 … 0.2 0.200001; … ; 0.200015 0.20001 … 0.2 0.200012; 0.200021 0.200011 … 0.20001 0.200011]\n",
       "\n",
       "[0.200011 0.200006 … 0.200007 0.200016; 0.200004 0.200002 … 0.200006 0.20001; … ; 0.200003 0.200001 … 0.200023 0.200031; 0.200008 0.200001 … 0.200025 0.200035]\n",
       "\n",
       "...\n",
       "\n",
       "[0.2 0.2 … 0.2 0.2; 0.2 0.2 … 0.2 0.2; … ; 0.200049 0.200028 … 0.200023 0.200033; 0.200063 0.200037 … 0.200025 0.20004]\n",
       "\n",
       "[0.2 0.2 … 0.2 0.2; 0.2 0.2 … 0.2 0.2; … ; 0.200003 0.200002 … 0.200015 0.200018; 0.200007 0.200003 … 0.200022 0.200025]\n",
       "\n",
       "[0.200015 0.200006 … 0.2 0.200001; 0.20001 0.200006 … 0.2 0.2; … ; 0.200002 0.200001 … 0.200021 0.200028; 0.200006 0.200001 … 0.200023 0.200034])             \n",
       " ([5979.09 5993.78 … 5998.82 5988.32; 5988.48 5994.79 … 5999.72 5998.01; … ; 5972.05 5981.02 … 5999.93 5996.06; 5962.13 5979.7 … 5996.76 5993.9]\n",
       "\n",
       "[5984.13 5997.17 … 5999.46 5993.06; 5993.74 5998.48 … 5999.78 5998.58; … ; 5971.93 5981.11 … 5999.44 5978.08; 5961.7 5979.74 … 5980.58 5979.36]\n",
       "\n",
       "[5979.7 5987.58 … 5986.8 5972.15; 5991.01 5994.65 … 5988.33 5981.41; … ; 5993.2 5998.48 … 5961.11 5946.83; 5984.49 5997.16 … 5957.09 5940.4]\n",
       "\n",
       "...\n",
       "\n",
       "[5999.53 6000.0 … 6000.0 5999.93; 5999.99 6000.0 … 6000.0 6000.0; … ; 5911.04 5945.67 … 5955.09 5937.75; 5888.6 5929.69 … 5952.35 5926.67]\n",
       "\n",
       "[5999.33 6000.0 … 6000.0 5999.84; 5999.98 6000.0 … 6000.0 6000.0; … ; 5994.6 5995.76 … 5971.43 5966.06; 5987.58 5995.07 … 5959.06 5953.97]\n",
       "\n",
       "[5973.76 5987.54 … 6000.0 5998.99; 5981.99 5988.44 … 6000.0 6000.0; … ; 5996.64 5998.05 … 5961.03 5949.13; 5989.37 5997.37 … 5958.18 5938.89], [0.200013 0.200004 … 0.200001 0.200007; 0.200007 0.200003 … 0.2 0.200001; … ; 0.200017 0.200011 … 0.2 0.200002; 0.200023 0.200012 … 0.200002 0.200004]\n",
       "\n",
       "[0.20001 0.200002 … 0.2 0.200004; 0.200004 0.200001 … 0.2 0.200001; … ; 0.200017 0.200011 … 0.2 0.200013; 0.200023 0.200012 … 0.200012 0.200012]\n",
       "\n",
       "[0.200012 0.200007 … 0.200008 0.200017; 0.200005 0.200003 … 0.200007 0.200011; … ; 0.200004 0.200001 … 0.200023 0.200032; 0.200009 0.200002 … 0.200026 0.200036]\n",
       "\n",
       "...\n",
       "\n",
       "[0.2 0.2 … 0.2 0.2; 0.2 0.2 … 0.2 0.2; … ; 0.200053 0.200033 … 0.200027 0.200037; 0.200067 0.200042 … 0.200029 0.200044]\n",
       "\n",
       "[0.2 0.2 … 0.2 0.2; 0.2 0.2 … 0.2 0.2; … ; 0.200003 0.200003 … 0.200017 0.20002; 0.200007 0.200003 … 0.200025 0.200028]\n",
       "\n",
       "[0.200016 0.200007 … 0.2 0.200001; 0.200011 0.200007 … 0.2 0.2; … ; 0.200002 0.200001 … 0.200023 0.200031; 0.200006 0.200002 … 0.200025 0.200037])           \n",
       " ([5977.88 5992.96 … 5998.51 5986.72; 5987.38 5994.0 … 5999.61 5997.48; … ; 5969.5 5978.67 … 5999.9 5995.05; 5959.54 5977.31 … 5995.9 5992.46]\n",
       "\n",
       "[5982.56 5996.56 … 5999.32 5992.28; 5992.67 5998.06 … 5999.71 5998.24; … ; 5969.38 5978.76 … 5999.28 5975.96; 5959.11 5977.34 … 5978.57 5977.2]\n",
       "\n",
       "[5977.53 5985.61 … 5985.6 5970.78; 5989.39 5993.38 … 5987.13 5980.06; … ; 5992.06 5998.06 … 5960.11 5945.88; 5982.97 5996.57 … 5956.11 5939.43]\n",
       "\n",
       "...\n",
       "\n",
       "[5999.45 6000.0 … 6000.0 5999.92; 5999.99 6000.0 … 6000.0 6000.0; … ; 5905.07 5939.45 … 5948.46 5931.31; 5882.47 5922.65 … 5945.68 5920.25]\n",
       "\n",
       "[5999.21 6000.0 … 6000.0 5999.82; 5999.98 6000.0 … 6000.0 6000.0; … ; 5993.91 5995.1 … 5967.91 5962.42; 5986.85 5994.39 … 5955.34 5950.27]\n",
       "\n",
       "[5971.92 5985.85 … 5999.99 5998.82; 5980.22 5986.81 … 6000.0 6000.0; … ; 5996.33 5997.77 … 5957.31 5945.41; 5988.95 5997.06 … 5954.46 5935.2], [0.200013 0.200004 … 0.200001 0.200008; 0.200008 0.200004 … 0.2 0.200002; … ; 0.200018 0.200013 … 0.2 0.200003; 0.200024 0.200014 … 0.200002 0.200005]\n",
       "\n",
       "[0.20001 0.200002 … 0.2 0.200005; 0.200004 0.200001 … 0.2 0.200001; … ; 0.200018 0.200013 … 0.2 0.200014; 0.200025 0.200014 … 0.200013 0.200014]\n",
       "\n",
       "[0.200013 0.200009 … 0.200009 0.200018; 0.200006 0.200004 … 0.200008 0.200012; … ; 0.200005 0.200001 … 0.200024 0.200032; 0.20001 0.200002 … 0.200026 0.200036]\n",
       "\n",
       "...\n",
       "\n",
       "[0.2 0.2 … 0.2 0.2; 0.2 0.2 … 0.2 0.2; … ; 0.200057 0.200036 … 0.200031 0.200041; 0.200071 0.200046 … 0.200033 0.200048]\n",
       "\n",
       "[0.2 0.2 … 0.2 0.2; 0.2 0.2 … 0.2 0.2; … ; 0.200004 0.200003 … 0.200019 0.200023; 0.200008 0.200003 … 0.200027 0.20003]\n",
       "\n",
       "[0.200017 0.200008 … 0.2 0.200001; 0.200012 0.200008 … 0.2 0.2; … ; 0.200002 0.200001 … 0.200026 0.200033; 0.200007 0.200002 … 0.200027 0.200039])          \n",
       " ([5976.84 5992.21 … 5998.18 5985.21; 5986.4 5993.26 … 5999.49 5996.92; … ; 5967.17 5976.5 … 5999.87 5994.0; 5957.19 5975.1 … 5994.99 5990.99]\n",
       "\n",
       "[5981.14 5995.94 … 5999.18 5991.56; 5991.66 5997.61 … 5999.62 5997.89; … ; 5967.04 5976.58 … 5999.1 5974.12; 5956.76 5975.13 … 5976.83 5975.27]\n",
       "\n",
       "[5975.51 5983.77 … 5984.53 5969.58; 5987.82 5992.11 … 5986.06 5978.86; … ; 5990.97 5997.63 … 5959.28 5945.08; 5981.59 5995.98 … 5955.29 5938.62]\n",
       "\n",
       "...\n",
       "\n",
       "[5999.38 6000.0 … 6000.0 5999.91; 5999.99 6000.0 … 6000.0 6000.0; … ; 5899.8 5933.95 … 5941.89 5924.95; 5877.09 5916.51 … 5939.08 5913.91]\n",
       "\n",
       "[5999.11 5999.99 … 6000.0 5999.79; 5999.97 6000.0 … 6000.0 6000.0; … ; 5993.23 5994.45 … 5964.55 5958.96; 5986.15 5993.72 … 5951.85 5946.78]\n",
       "\n",
       "[5970.25 5984.27 … 5999.99 5998.65; 5978.59 5985.27 … 6000.0 6000.0; … ; 5996.04 5997.49 … 5953.83 5941.93; 5988.6 5996.77 … 5950.97 5931.74], [0.200014 0.200005 … 0.200001 0.200009; 0.200008 0.200004 … 0.2 0.200002; … ; 0.20002 0.200014 … 0.2 0.200004; 0.200026 0.200015 … 0.200003 0.200005]\n",
       "\n",
       "[0.200011 0.200002 … 0.2 0.200005; 0.200005 0.200001 … 0.2 0.200001; … ; 0.20002 0.200014 … 0.200001 0.200016; 0.200026 0.200015 … 0.200014 0.200015]\n",
       "\n",
       "[0.200015 0.20001 … 0.200009 0.200018; 0.200007 0.200005 … 0.200008 0.200013; … ; 0.200005 0.200001 … 0.200024 0.200033; 0.200011 0.200002 … 0.200027 0.200037]\n",
       "\n",
       "...\n",
       "\n",
       "[0.2 0.2 … 0.2 0.2; 0.2 0.2 … 0.2 0.2; … ; 0.20006 0.20004 … 0.200035 0.200045; 0.200074 0.20005 … 0.200037 0.200052]\n",
       "\n",
       "[0.200001 0.2 … 0.2 0.2; 0.2 0.2 … 0.2 0.2; … ; 0.200004 0.200003 … 0.200021 0.200025; 0.200008 0.200004 … 0.200029 0.200032]\n",
       "\n",
       "[0.200018 0.200009 … 0.2 0.200001; 0.200013 0.200009 … 0.2 0.2; … ; 0.200002 0.200002 … 0.200028 0.200035; 0.200007 0.200002 … 0.200029 0.200041]) \n",
       " ([5975.91 5991.51 … 5997.83 5983.77; 5985.53 5992.58 … 5999.34 5996.34; … ; 5965.01 5974.47 … 5999.82 5992.93; 5955.02 5973.05 … 5994.06 5989.49]\n",
       "\n",
       "[5979.86 5995.33 … 5999.02 5990.89; 5990.71 5997.16 … 5999.53 5997.53; … ; 5964.88 5974.55 … 5998.92 5972.51; 5954.59 5973.06 … 5975.3 5973.52]\n",
       "\n",
       "[5973.63 5982.05 … 5983.57 5968.51; 5986.3 5990.86 … 5985.09 5977.79; … ; 5989.94 5997.18 … 5958.57 5944.4; 5980.32 5995.39 … 5954.58 5937.93]\n",
       "\n",
       "...\n",
       "\n",
       "[5999.3 6000.0 … 6000.0 5999.9; 5999.99 6000.0 … 6000.0 6000.0; … ; 5895.11 5929.04 … 5935.38 5918.65; 5872.3 5911.1 … 5932.55 5907.63]\n",
       "\n",
       "[5999.0 5999.99 … 6000.0 5999.76; 5999.97 6000.0 … 6000.0 6000.0; … ; 5992.55 5993.8 … 5961.3 5955.64; 5985.46 5993.05 … 5948.52 5943.43]\n",
       "\n",
       "[5968.7 5982.78 … 5999.99 5998.49; 5977.08 5983.82 … 6000.0 6000.0; … ; 5995.75 5997.22 … 5950.53 5938.64; 5988.28 5996.49 … 5947.65 5928.48], [0.200014 0.200005 … 0.200001 0.20001; 0.200009 0.200004 … 0.2 0.200002; … ; 0.200021 0.200015 … 0.2 0.200004; 0.200027 0.200016 … 0.200004 0.200006]\n",
       "\n",
       "[0.200012 0.200003 … 0.200001 0.200005; 0.200006 0.200002 … 0.2 0.200001; … ; 0.200021 0.200015 … 0.200001 0.200016; 0.200027 0.200016 … 0.200015 0.200016]\n",
       "\n",
       "[0.200016 0.200011 … 0.20001 0.200019; 0.200008 0.200005 … 0.200009 0.200013; … ; 0.200006 0.200002 … 0.200025 0.200033; 0.200012 0.200003 … 0.200027 0.200037]\n",
       "\n",
       "...\n",
       "\n",
       "[0.2 0.2 … 0.2 0.2; 0.2 0.2 … 0.2 0.2; … ; 0.200063 0.200043 … 0.200039 0.200049; 0.200077 0.200053 … 0.20004 0.200055]\n",
       "\n",
       "[0.200001 0.2 … 0.2 0.2; 0.2 0.2 … 0.2 0.2; … ; 0.200004 0.200004 … 0.200023 0.200027; 0.200009 0.200004 … 0.200031 0.200034]\n",
       "\n",
       "[0.200019 0.20001 … 0.2 0.200001; 0.200014 0.20001 … 0.2 0.2; … ; 0.200003 0.200002 … 0.20003 0.200037; 0.200007 0.200002 … 0.200031 0.200043])"
      ]
     },
     "execution_count": 33,
     "metadata": {},
     "output_type": "execute_result"
    },
    {
     "name": "stdout",
     "output_type": "stream",
     "text": [
      "day 9...\n"
     ]
    }
   ],
   "source": [
    "result = solveprec1(model, q, initgrid, 10; printt=true, gmrestol = 1e-8)"
   ]
  },
  {
   "cell_type": "code",
   "execution_count": 11,
   "metadata": {},
   "outputs": [
    {
     "data": {
      "text/plain": [
       "4-element Array{Float64,1}:\n",
       " 5.0\n",
       " 4.0\n",
       " 6.0\n",
       " 9.3"
      ]
     },
     "execution_count": 11,
     "metadata": {},
     "output_type": "execute_result"
    }
   ],
   "source": [
    "map(+, [1,2,3,4.], [4,2,3,5.3])"
   ]
  },
  {
   "cell_type": "code",
   "execution_count": 15,
   "metadata": {},
   "outputs": [
    {
     "data": {
      "text/plain": [
       "addall (generic function with 1 method)"
      ]
     },
     "execution_count": 15,
     "metadata": {},
     "output_type": "execute_result"
    }
   ],
   "source": [
    "addall(a, b, c) = a+b+c"
   ]
  },
  {
   "cell_type": "code",
   "execution_count": 17,
   "metadata": {},
   "outputs": [
    {
     "data": {
      "text/plain": [
       "(6, 8, 10, 12.0)"
      ]
     },
     "execution_count": 17,
     "metadata": {},
     "output_type": "execute_result"
    }
   ],
   "source": [
    "map((2,3,4,5.), (3,4,5,6.)) do x, y\n",
    "    addall(1, x, y)\n",
    "end\n",
    "    "
   ]
  },
  {
   "cell_type": "code",
   "execution_count": 2,
   "metadata": {},
   "outputs": [
    {
     "data": {
      "text/plain": [
       "([2.16374 -0.590798 … -1.57274 -0.151937; -0.792915 -0.384265 … -0.0255847 -0.981127; … ; 0.361295 0.191603 … 0.0346843 1.51891; -1.15252 -1.71776 … -0.319337 0.772145], [-0.796522 0.606002 … -1.75443 0.755605; -0.205931 1.35199 … -1.83387 0.775004; … ; 2.37306 -0.679775 … 1.25063 -2.06704; 1.26222 -0.64876 … 0.656421 -0.12513])"
      ]
     },
     "execution_count": 2,
     "metadata": {},
     "output_type": "execute_result"
    }
   ],
   "source": [
    "a, b = distribute(randn(6,6)), distribute(randn(6,6))"
   ]
  },
  {
   "cell_type": "code",
   "execution_count": 4,
   "metadata": {},
   "outputs": [],
   "source": [
    "da, db = makegrid(a,5), makegrid(b,5);"
   ]
  },
  {
   "cell_type": "code",
   "execution_count": 9,
   "metadata": {},
   "outputs": [
    {
     "data": {
      "text/plain": [
       "([2.16374 -0.590798 … -1.57274 -0.151937; -0.792915 -0.384265 … -0.0255847 -0.981127; … ; 0.361295 0.191603 … 0.0346843 1.51891; -1.15252 -1.71776 … -0.319337 0.772145], [-0.796522 0.606002 … -1.75443 0.755605; -0.205931 1.35199 … -1.83387 0.775004; … ; 2.37306 -0.679775 … 1.25063 -2.06704; 1.26222 -0.64876 … 0.656421 -0.12513])"
      ]
     },
     "execution_count": 9,
     "metadata": {},
     "output_type": "execute_result"
    }
   ],
   "source": [
    "DMg = (da,db)"
   ]
  },
  {
   "cell_type": "code",
   "execution_count": 24,
   "metadata": {},
   "outputs": [],
   "source": [
    "nn = 10\n",
    "Sa = Array{Any,1}(undef,4)\n",
    "Sa[1] = Array{StencilPoint{Float64,3,7},3}(undef,nn,nn,nn)\n",
    "Sa[2] = Array{StencilPoint{Float64,3,7},3}(undef,nn,nn,nn)\n",
    "Sa[3] = Array{StencilPoint{Float64,3,7},3}(undef,nn,nn,nn)\n",
    "Sa[4] = Array{StencilPoint{Float64,3,7},3}(undef,nn,nn,nn)\n",
    "for i in 1:nn, j in 1:nn, lk in 1:nn\n",
    "    for c in 1:4\n",
    "        Sa[c][i,j,lk] = StencilPoint{Float64,3,7}(Tuple(randn(7)))\n",
    "    end\n",
    "end\n",
    "for c in 1:4\n",
    "    Sa[c] = distribute(Sa[c])\n",
    "end\n",
    "MS = MStencil{4,Float64,3,7,typeof(Sa[1])}(Tuple(Stencil{Float64,3,7,typeof(Sa[1])}.(Sa)))\n",
    "mg = randn(nn,nn,nn)\n",
    "dmg = distribute(mg)\n",
    "MG = DMGrid{2,Float64,3,7,Array{Float64,3}}(Tuple([makegrid(dmg,7) for i in 1:2]));\n",
    "MG2 = DMGrid{2,Float64,3,7,Array{Float64,3}}(Tuple([makegrid(dmg,7) for i in 1:2]));"
   ]
  },
  {
   "cell_type": "code",
   "execution_count": 2,
   "metadata": {},
   "outputs": [
    {
     "data": {
      "text/plain": [
       "makeMat (generic function with 1 method)"
      ]
     },
     "execution_count": 2,
     "metadata": {},
     "output_type": "execute_result"
    }
   ],
   "source": [
    "function makeMat(SS, res)\n",
    "    Nx, Ny, Nz = size(SS)\n",
    "    N = Nx*Ny*Nz\n",
    "    Nxy = Nx*Ny\n",
    "    A = spzeros(2N,2N)\n",
    "    b = zeros(2N)\n",
    "    for i in 1:Nx, j in 1:Ny, k in 1:Nz\n",
    "        nd = (k-1)*Nxy+(j-1)*Nx+i\n",
    "        A[(2*nd-1):2*nd, (2*nd-1):2*nd] .= [SS[(ix-1)*2+jy][i,j,k].value[4] for ix = 1:2, jy in 1:2]\n",
    "        if i!=1  \n",
    "            A[(2*nd-1):2*nd, (2*nd-3):(2*nd-2)]           .= [SS[(ix-1)*2+jy][i,j,k].value[1] for ix = 1:2, jy in 1:2]\n",
    "        end\n",
    "        if j!=1  \n",
    "            A[(2*nd-1):2*nd, (2*nd-2*Nx-1):(2*nd-2*Nx)]   .= [SS[(ix-1)*2+jy][i,j,k].value[2] for ix = 1:2, jy in 1:2]\n",
    "        end  \n",
    "        if k!=1  \n",
    "            A[(2*nd-1):2*nd, (2*nd-2*Nxy-1):(2*nd-2*Nxy)] .= [SS[(ix-1)*2+jy][i,j,k].value[3] for ix = 1:2, jy in 1:2]\n",
    "        end\n",
    "        if k!=Nz \n",
    "            A[(2*nd-1):2*nd, (2*nd+2*Nxy-1):(2*nd+2*Nxy)] .= [SS[(ix-1)*2+jy][i,j,k].value[5] for ix = 1:2, jy in 1:2]\n",
    "        end\n",
    "        if j!=Ny \n",
    "            A[(2*nd-1):2*nd, (2*nd+2*Nx-1):(2*nd+2*Nx)]   .= [SS[(ix-1)*2+jy][i,j,k].value[6] for ix = 1:2, jy in 1:2] \n",
    "        end\n",
    "        if i!=Nx \n",
    "            A[(2*nd-1):2*nd, (2*nd+1):(2*nd+2)]           .= [SS[(ix-1)*2+jy][i,j,k].value[7] for ix = 1:2, jy in 1:2] \n",
    "        end\n",
    "        b[(2*nd-1):(2*nd)] .= res[i,j,k]\n",
    "        if (j==1)&&(k==1) print(i) end\n",
    "    end    \n",
    "    return A, b\n",
    "end"
   ]
  },
  {
   "cell_type": "code",
   "execution_count": 19,
   "metadata": {},
   "outputs": [
    {
     "data": {
      "text/plain": [
       "Stencil{Float64,3,7,Array{StencilPoint{Float64,3,7},3}}(StencilPoint{Float64,3,7}[StencilPoint{Float64,3,7}((0.0, 0.0, 0.0, 2.95164e6, 0.0, 0.0, 0.0)) StencilPoint{Float64,3,7}((0.0, 0.0, 0.0, 3.1452e6, 0.0, 0.0, 0.0)) … StencilPoint{Float64,3,7}((0.0, 0.0, 0.0, 2.0075e6, 0.0, 0.0, 0.0)) StencilPoint{Float64,3,7}((0.0, 0.0, 0.0, 2.62255e6, 0.0, 0.0, 0.0)); StencilPoint{Float64,3,7}((0.0, 0.0, 0.0, 3.0622e6, 0.0, 0.0, 0.0)) StencilPoint{Float64,3,7}((0.0, 0.0, 0.0, 3.28508e6, 0.0, 0.0, 0.0)) … StencilPoint{Float64,3,7}((0.0, 0.0, 0.0, 2.12577e6, 0.0, 0.0, 0.0)) StencilPoint{Float64,3,7}((0.0, 0.0, 0.0, 3.01956e6, 0.0, 0.0, 0.0)); … ; StencilPoint{Float64,3,7}((0.0, 0.0, 0.0, 3.56241e6, 0.0, 0.0, 0.0)) StencilPoint{Float64,3,7}((0.0, 0.0, 0.0, 3.61212e6, 0.0, 0.0, 0.0)) … StencilPoint{Float64,3,7}((0.0, 0.0, 0.0, 1.03938e6, 0.0, 0.0, 0.0)) StencilPoint{Float64,3,7}((0.0, 0.0, 0.0, 8.77611e5, 0.0, 0.0, 0.0)); StencilPoint{Float64,3,7}((0.0, 0.0, 0.0, 3.8002e6, 0.0, 0.0, 0.0)) StencilPoint{Float64,3,7}((0.0, 0.0, 0.0, 3.87534e6, 0.0, 0.0, 0.0)) … StencilPoint{Float64,3,7}((0.0, 0.0, 0.0, 1.29624e6, 0.0, 0.0, 0.0)) StencilPoint{Float64,3,7}((0.0, 0.0, 0.0, 1.16228e6, 0.0, 0.0, 0.0))]\n",
       "\n",
       "StencilPoint{Float64,3,7}[StencilPoint{Float64,3,7}((0.0, 0.0, 0.0, 1.41913e6, 0.0, 0.0, 0.0)) StencilPoint{Float64,3,7}((0.0, 0.0, 0.0, 1.70561e6, 0.0, 0.0, 0.0)) … StencilPoint{Float64,3,7}((0.0, 0.0, 0.0, 9.27466e5, 0.0, 0.0, 0.0)) StencilPoint{Float64,3,7}((0.0, 0.0, 0.0, 1.27186e6, 0.0, 0.0, 0.0)); StencilPoint{Float64,3,7}((0.0, 0.0, 0.0, 1.02893e6, 0.0, 0.0, 0.0)) StencilPoint{Float64,3,7}((0.0, 0.0, 0.0, 1.30201e6, 0.0, 0.0, 0.0)) … StencilPoint{Float64,3,7}((0.0, 0.0, 0.0, 1.15548e6, 0.0, 0.0, 0.0)) StencilPoint{Float64,3,7}((0.0, 0.0, 0.0, 1.38295e6, 0.0, 0.0, 0.0)); … ; StencilPoint{Float64,3,7}((0.0, 0.0, 0.0, 2.31243e6, 0.0, 0.0, 0.0)) StencilPoint{Float64,3,7}((0.0, 0.0, 0.0, 1.88442e6, 0.0, 0.0, 0.0)) … StencilPoint{Float64,3,7}((0.0, 0.0, 0.0, 826558.0, 0.0, 0.0, 0.0)) StencilPoint{Float64,3,7}((0.0, 0.0, 0.0, 1.70954e6, 0.0, 0.0, 0.0)); StencilPoint{Float64,3,7}((0.0, 0.0, 0.0, 2.42124e6, 0.0, 0.0, 0.0)) StencilPoint{Float64,3,7}((0.0, 0.0, 0.0, 2.46935e6, 0.0, 0.0, 0.0)) … StencilPoint{Float64,3,7}((0.0, 0.0, 0.0, 76227.9, 0.0, 0.0, 0.0)) StencilPoint{Float64,3,7}((0.0, 0.0, 0.0, 8.9686e5, 0.0, 0.0, 0.0))]\n",
       "\n",
       "StencilPoint{Float64,3,7}[StencilPoint{Float64,3,7}((0.0, 0.0, 0.0, 2.3637e6, 0.0, 0.0, 0.0)) StencilPoint{Float64,3,7}((0.0, 0.0, 0.0, 2.64769e6, 0.0, 0.0, 0.0)) … StencilPoint{Float64,3,7}((0.0, 0.0, 0.0, 2.1421e6, 0.0, 0.0, 0.0)) StencilPoint{Float64,3,7}((0.0, 0.0, 0.0, 1.66038e6, 0.0, 0.0, 0.0)); StencilPoint{Float64,3,7}((0.0, 0.0, 0.0, 2.24161e6, 0.0, 0.0, 0.0)) StencilPoint{Float64,3,7}((0.0, 0.0, 0.0, 1.42998e6, 0.0, 0.0, 0.0)) … StencilPoint{Float64,3,7}((0.0, 0.0, 0.0, 2.82898e6, 0.0, 0.0, 0.0)) StencilPoint{Float64,3,7}((0.0, 0.0, 0.0, 2.1509e6, 0.0, 0.0, 0.0)); … ; StencilPoint{Float64,3,7}((0.0, 0.0, 0.0, 1.61289e6, 0.0, 0.0, 0.0)) StencilPoint{Float64,3,7}((0.0, 0.0, 0.0, 1.69607e6, 0.0, 0.0, 0.0)) … StencilPoint{Float64,3,7}((0.0, 0.0, 0.0, 4.41657e6, 0.0, 0.0, 0.0)) StencilPoint{Float64,3,7}((0.0, 0.0, 0.0, 3.95671e6, 0.0, 0.0, 0.0)); StencilPoint{Float64,3,7}((0.0, 0.0, 0.0, 1.59428e6, 0.0, 0.0, 0.0)) StencilPoint{Float64,3,7}((0.0, 0.0, 0.0, 1.55052e6, 0.0, 0.0, 0.0)) … StencilPoint{Float64,3,7}((0.0, 0.0, 0.0, 4.21892e6, 0.0, 0.0, 0.0)) StencilPoint{Float64,3,7}((0.0, 0.0, 0.0, 4.473e6, 0.0, 0.0, 0.0))]\n",
       "\n",
       "...\n",
       "\n",
       "StencilPoint{Float64,3,7}[StencilPoint{Float64,3,7}((0.0, 0.0, 0.0, 1.18942e6, 0.0, 0.0, 0.0)) StencilPoint{Float64,3,7}((0.0, 0.0, 0.0, 2.4279e6, 0.0, 0.0, 0.0)) … StencilPoint{Float64,3,7}((0.0, 0.0, 0.0, 1.17043e6, 0.0, 0.0, 0.0)) StencilPoint{Float64,3,7}((0.0, 0.0, 0.0, 1.63746e6, 0.0, 0.0, 0.0)); StencilPoint{Float64,3,7}((0.0, 0.0, 0.0, 8.58059e5, 0.0, 0.0, 0.0)) StencilPoint{Float64,3,7}((0.0, 0.0, 0.0, 2.11943e6, 0.0, 0.0, 0.0)) … StencilPoint{Float64,3,7}((0.0, 0.0, 0.0, 7.35394e5, 0.0, 0.0, 0.0)) StencilPoint{Float64,3,7}((0.0, 0.0, 0.0, 1.30415e6, 0.0, 0.0, 0.0)); … ; StencilPoint{Float64,3,7}((0.0, 0.0, 0.0, 1.47977e6, 0.0, 0.0, 0.0)) StencilPoint{Float64,3,7}((0.0, 0.0, 0.0, 8.917e5, 0.0, 0.0, 0.0)) … StencilPoint{Float64,3,7}((0.0, 0.0, 0.0, 3.68073e5, 0.0, 0.0, 0.0)) StencilPoint{Float64,3,7}((0.0, 0.0, 0.0, 2.62708e5, 0.0, 0.0, 0.0)); StencilPoint{Float64,3,7}((0.0, 0.0, 0.0, 1.86415e6, 0.0, 0.0, 0.0)) StencilPoint{Float64,3,7}((0.0, 0.0, 0.0, 1.58868e6, 0.0, 0.0, 0.0)) … StencilPoint{Float64,3,7}((0.0, 0.0, 0.0, 1.0855e6, 0.0, 0.0, 0.0)) StencilPoint{Float64,3,7}((0.0, 0.0, 0.0, 1.21797e6, 0.0, 0.0, 0.0))]\n",
       "\n",
       "StencilPoint{Float64,3,7}[StencilPoint{Float64,3,7}((0.0, 0.0, 0.0, 2.41129e6, 0.0, 0.0, 0.0)) StencilPoint{Float64,3,7}((0.0, 0.0, 0.0, 3.1087e6, 0.0, 0.0, 0.0)) … StencilPoint{Float64,3,7}((0.0, 0.0, 0.0, 4.23951e6, 0.0, 0.0, 0.0)) StencilPoint{Float64,3,7}((0.0, 0.0, 0.0, 3.84056e6, 0.0, 0.0, 0.0)); StencilPoint{Float64,3,7}((0.0, 0.0, 0.0, 2.86208e6, 0.0, 0.0, 0.0)) StencilPoint{Float64,3,7}((0.0, 0.0, 0.0, 3.24556e6, 0.0, 0.0, 0.0)) … StencilPoint{Float64,3,7}((0.0, 0.0, 0.0, 4.04682e6, 0.0, 0.0, 0.0)) StencilPoint{Float64,3,7}((0.0, 0.0, 0.0, 3.59202e6, 0.0, 0.0, 0.0)); … ; StencilPoint{Float64,3,7}((0.0, 0.0, 0.0, 3.21545e6, 0.0, 0.0, 0.0)) StencilPoint{Float64,3,7}((0.0, 0.0, 0.0, 3.7512e6, 0.0, 0.0, 0.0)) … StencilPoint{Float64,3,7}((0.0, 0.0, 0.0, 1.0046e6, 0.0, 0.0, 0.0)) StencilPoint{Float64,3,7}((0.0, 0.0, 0.0, 1.56986e6, 0.0, 0.0, 0.0)); StencilPoint{Float64,3,7}((0.0, 0.0, 0.0, 3.70029e6, 0.0, 0.0, 0.0)) StencilPoint{Float64,3,7}((0.0, 0.0, 0.0, 3.65736e6, 0.0, 0.0, 0.0)) … StencilPoint{Float64,3,7}((0.0, 0.0, 0.0, 8.29385e5, 0.0, 0.0, 0.0)) StencilPoint{Float64,3,7}((0.0, 0.0, 0.0, 1.42296e6, 0.0, 0.0, 0.0))]\n",
       "\n",
       "StencilPoint{Float64,3,7}[StencilPoint{Float64,3,7}((0.0, 0.0, 0.0, 1.77137e6, 0.0, 0.0, 0.0)) StencilPoint{Float64,3,7}((0.0, 0.0, 0.0, 1.35924e6, 0.0, 0.0, 0.0)) … StencilPoint{Float64,3,7}((0.0, 0.0, 0.0, 4.51724e6, 0.0, 0.0, 0.0)) StencilPoint{Float64,3,7}((0.0, 0.0, 0.0, 3.52164e6, 0.0, 0.0, 0.0)); StencilPoint{Float64,3,7}((0.0, 0.0, 0.0, 1.88295e6, 0.0, 0.0, 0.0)) StencilPoint{Float64,3,7}((0.0, 0.0, 0.0, 2.2499e6, 0.0, 0.0, 0.0)) … StencilPoint{Float64,3,7}((0.0, 0.0, 0.0, 3.99406e6, 0.0, 0.0, 0.0)) StencilPoint{Float64,3,7}((0.0, 0.0, 0.0, 3.73489e6, 0.0, 0.0, 0.0)); … ; StencilPoint{Float64,3,7}((0.0, 0.0, 0.0, 3.62752e6, 0.0, 0.0, 0.0)) StencilPoint{Float64,3,7}((0.0, 0.0, 0.0, 3.06883e6, 0.0, 0.0, 0.0)) … StencilPoint{Float64,3,7}((0.0, 0.0, 0.0, 2.18567e6, 0.0, 0.0, 0.0)) StencilPoint{Float64,3,7}((0.0, 0.0, 0.0, 1.36459e6, 0.0, 0.0, 0.0)); StencilPoint{Float64,3,7}((0.0, 0.0, 0.0, 3.27337e6, 0.0, 0.0, 0.0)) StencilPoint{Float64,3,7}((0.0, 0.0, 0.0, 3.10993e6, 0.0, 0.0, 0.0)) … StencilPoint{Float64,3,7}((0.0, 0.0, 0.0, 1.53726e6, 0.0, 0.0, 0.0)) StencilPoint{Float64,3,7}((0.0, 0.0, 0.0, 1.2992e6, 0.0, 0.0, 0.0))])"
      ]
     },
     "execution_count": 19,
     "metadata": {},
     "output_type": "execute_result"
    }
   ],
   "source": [
    "S[4]"
   ]
  },
  {
   "cell_type": "code",
   "execution_count": 3,
   "metadata": {},
   "outputs": [
    {
     "name": "stdout",
     "output_type": "stream",
     "text": [
      "12"
     ]
    },
    {
     "name": "stderr",
     "output_type": "stream",
     "text": [
      "WARNING: Base.spzeros is deprecated: it has been moved to the standard library package `SparseArrays`.\n",
      "Add `using SparseArrays` to your imports.\n",
      "  likely near In[3]:14\n",
      "WARNING: Base.spzeros is deprecated: it has been moved to the standard library package `SparseArrays`.\n",
      "Add `using SparseArrays` to your imports.\n",
      "  likely near In[3]:14\n",
      "WARNING: Base.spzeros is deprecated: it has been moved to the standard library package `SparseArrays`.\n",
      "Add `using SparseArrays` to your imports.\n",
      "  likely near In[3]:14\n"
     ]
    },
    {
     "name": "stdout",
     "output_type": "stream",
     "text": [
      "3456789101112131415161718192021222324252627282930"
     ]
    }
   ],
   "source": [
    "nn = 30\n",
    "Sa = Array{Any,1}(undef,4)\n",
    "Sa[1] = Array{StencilPoint{Float64,3,7},3}(undef,nn,nn,nn)\n",
    "Sa[2] = Array{StencilPoint{Float64,3,7},3}(undef,nn,nn,nn)\n",
    "Sa[3] = Array{StencilPoint{Float64,3,7},3}(undef,nn,nn,nn)\n",
    "Sa[4] = Array{StencilPoint{Float64,3,7},3}(undef,nn,nn,nn)\n",
    "for i in 1:nn, j in 1:nn, kl in 1:nn\n",
    "    for c in 1:4\n",
    "        Sa[c][i,j,kl] = StencilPoint{Float64,3,7}(Tuple(randn(7)))\n",
    "    end\n",
    "end\n",
    "MS = MStencil{4,Float64,3,7,typeof(Sa[1])}(Tuple(Stencil{Float64,3,7,typeof(Sa[1])}.(Sa)))\n",
    "MG = MGrid{2,Float64,3,7,Array{Float64,3}}(Tuple([makegrid(randn(nn,nn,nn),7) for i in 1:2]))\n",
    "A, b = makeMat(MS,MG);"
   ]
  },
  {
   "cell_type": "code",
   "execution_count": 14,
   "metadata": {
    "scrolled": true
   },
   "outputs": [
    {
     "name": "stdout",
     "output_type": "stream",
     "text": [
      "\n",
      "; Function A_mul_B!\n",
      "; Location: /Users/sw2030/Desktop/gitrep/Reservoirnew/src/Stencil.jl:158\n",
      "define nonnull %jl_value_t addrspace(10)* @\"japi1_A_mul_B!_33580\"(%jl_value_t addrspace(10)*, %jl_value_t addrspace(10)**, i32) #0 {\n",
      "top:\n",
      "  %3 = alloca %jl_value_t addrspace(10)**, align 8\n",
      "  store volatile %jl_value_t addrspace(10)** %1, %jl_value_t addrspace(10)*** %3, align 8\n",
      "  %4 = alloca { [7 x double] }, align 8\n",
      "  %5 = load %jl_value_t addrspace(10)*, %jl_value_t addrspace(10)** %1, align 8\n",
      "  %6 = getelementptr inbounds %jl_value_t addrspace(10)*, %jl_value_t addrspace(10)** %1, i64 2\n",
      "  %7 = load %jl_value_t addrspace(10)*, %jl_value_t addrspace(10)** %6, align 8\n",
      "; Function getproperty; {\n",
      "; Location: sysimg.jl:18\n",
      "  %8 = addrspacecast %jl_value_t addrspace(10)* %5 to %jl_value_t addrspace(11)*\n",
      "  %9 = bitcast %jl_value_t addrspace(11)* %8 to %jl_value_t addrspace(10)* addrspace(11)*\n",
      "  %10 = load %jl_value_t addrspace(10)*, %jl_value_t addrspace(10)* addrspace(11)* %9, align 8\n",
      ";}\n",
      "; Function size; {\n",
      "; Location: array.jl:132\n",
      "; Function ntuple; {\n",
      "; Location: tuple.jl:158\n",
      "; Function #65; {\n",
      "; Location: array.jl:132\n",
      "; Function size; {\n",
      "; Location: array.jl:129\n",
      "  %11 = addrspacecast %jl_value_t addrspace(10)* %10 to %jl_value_t addrspace(11)*\n",
      "  %12 = bitcast %jl_value_t addrspace(11)* %11 to %jl_value_t addrspace(10)* addrspace(11)*\n",
      "  %13 = getelementptr inbounds %jl_value_t addrspace(10)*, %jl_value_t addrspace(10)* addrspace(11)* %12, i64 5\n",
      "  %14 = bitcast %jl_value_t addrspace(10)* addrspace(11)* %13 to i64 addrspace(11)*\n",
      "  %15 = load i64, i64 addrspace(11)* %14, align 8\n",
      ";}}}}\n",
      "; Function Colon; {\n",
      "; Location: range.jl:5\n",
      "; Function Type; {\n",
      "; Location: range.jl:183\n",
      "; Function unitrange_last; {\n",
      "; Location: range.jl:188\n",
      "; Function >=; {\n",
      "; Location: operators.jl:333\n",
      "; Function <=; {\n",
      "; Location: int.jl:428\n",
      "  %16 = icmp sgt i64 %15, 0\n",
      ";}}}}}\n",
      "  br i1 %16, label %L12.L17_crit_edge, label %L140\n",
      "\n",
      "L12.L17_crit_edge:                                ; preds = %top\n",
      "  %17 = getelementptr inbounds %jl_value_t addrspace(10)*, %jl_value_t addrspace(10)** %1, i64 1\n",
      "  %18 = load %jl_value_t addrspace(10)*, %jl_value_t addrspace(10)** %17, align 8\n",
      "  %19 = bitcast { [7 x double] }* %4 to i64*\n",
      "  %.fca.0.1.gep = getelementptr inbounds { [7 x double] }, { [7 x double] }* %4, i64 0, i32 0, i64 1\n",
      "  %20 = bitcast double* %.fca.0.1.gep to i64*\n",
      "  %.fca.0.2.gep = getelementptr inbounds { [7 x double] }, { [7 x double] }* %4, i64 0, i32 0, i64 2\n",
      "  %21 = bitcast double* %.fca.0.2.gep to i64*\n",
      "  %.fca.0.3.gep = getelementptr inbounds { [7 x double] }, { [7 x double] }* %4, i64 0, i32 0, i64 3\n",
      "  %22 = bitcast double* %.fca.0.3.gep to i64*\n",
      "  %.fca.0.4.gep = getelementptr inbounds { [7 x double] }, { [7 x double] }* %4, i64 0, i32 0, i64 4\n",
      "  %23 = bitcast double* %.fca.0.4.gep to i64*\n",
      "  %.fca.0.5.gep = getelementptr inbounds { [7 x double] }, { [7 x double] }* %4, i64 0, i32 0, i64 5\n",
      "  %24 = bitcast double* %.fca.0.5.gep to i64*\n",
      "  %.fca.0.6.gep = getelementptr inbounds { [7 x double] }, { [7 x double] }* %4, i64 0, i32 0, i64 6\n",
      "  %25 = bitcast double* %.fca.0.6.gep to i64*\n",
      "  %26 = addrspacecast %jl_value_t addrspace(10)* %18 to %jl_value_t addrspace(11)*\n",
      "  %27 = bitcast %jl_value_t addrspace(11)* %26 to %jl_value_t addrspace(10)* addrspace(11)*\n",
      "  %28 = addrspacecast %jl_value_t addrspace(10)* %7 to %jl_value_t addrspace(11)*\n",
      "  %29 = bitcast %jl_value_t addrspace(11)* %28 to %jl_value_t addrspace(10)* addrspace(11)*\n",
      "  %.phi.trans.insert338 = addrspacecast %jl_value_t addrspace(10)* %10 to %jl_value_t addrspace(11)*\n",
      "  %.phi.trans.insert339 = bitcast %jl_value_t addrspace(11)* %.phi.trans.insert338 to %jl_value_t addrspace(10)* addrspace(11)*\n",
      "  %.phi.trans.insert340 = getelementptr inbounds %jl_value_t addrspace(10)*, %jl_value_t addrspace(10)* addrspace(11)* %.phi.trans.insert339, i64 4\n",
      "  %.phi.trans.insert341 = bitcast %jl_value_t addrspace(10)* addrspace(11)* %.phi.trans.insert340 to i64 addrspace(11)*\n",
      "; Location: /Users/sw2030/Desktop/gitrep/Reservoirnew/src/Stencil.jl:159\n",
      "; Function size; {\n",
      "; Location: array.jl:132\n",
      "; Function ntuple; {\n",
      "; Location: tuple.jl:158\n",
      "; Function #65; {\n",
      "; Location: array.jl:132\n",
      "; Function size; {\n",
      "; Location: array.jl:129\n",
      "  %.pre342 = load i64, i64 addrspace(11)* %.phi.trans.insert341, align 8\n",
      ";}}}}\n",
      "; Location: /Users/sw2030/Desktop/gitrep/Reservoirnew/src/Stencil.jl:158\n",
      "  br label %L17\n",
      "\n",
      "L17:                                              ; preds = %L12.L17_crit_edge, %L139\n",
      "; Location: /Users/sw2030/Desktop/gitrep/Reservoirnew/src/Stencil.jl:159\n",
      "; Function size; {\n",
      "; Location: array.jl:132\n",
      "; Function ntuple; {\n",
      "; Location: tuple.jl:158\n",
      "; Function #65; {\n",
      "; Location: array.jl:132\n",
      "; Function size; {\n",
      "; Location: array.jl:129\n",
      "  %30 = phi i64 [ %.pre342, %L12.L17_crit_edge ], [ %61, %L139 ]\n",
      "  %value_phi3 = phi i64 [ 1, %L12.L17_crit_edge ], [ %63, %L139 ]\n",
      ";}}}}\n",
      "; Function Colon; {\n",
      "; Location: range.jl:5\n",
      "; Function Type; {\n",
      "; Location: range.jl:183\n",
      "; Function unitrange_last; {\n",
      "; Location: range.jl:188\n",
      "; Function >=; {\n",
      "; Location: operators.jl:333\n",
      "; Function <=; {\n",
      "; Location: int.jl:428\n",
      "  %31 = icmp sgt i64 %30, 0\n",
      ";}}}}}\n",
      "  br i1 %31, label %L30.L35_crit_edge, label %L129\n",
      "\n",
      "L30.L35_crit_edge:                                ; preds = %L17\n",
      "  %32 = add i64 %value_phi3, -1\n",
      "  %33 = add i64 %value_phi3, 1\n",
      "  %.phi.trans.insert = addrspacecast %jl_value_t addrspace(10)* %10 to %jl_value_t addrspace(11)*\n",
      "  %.phi.trans.insert335 = bitcast %jl_value_t addrspace(11)* %.phi.trans.insert to %jl_value_t addrspace(10)* addrspace(11)*\n",
      "  %.phi.trans.insert336 = getelementptr inbounds %jl_value_t addrspace(10)*, %jl_value_t addrspace(10)* addrspace(11)* %.phi.trans.insert335, i64 3\n",
      "  %.phi.trans.insert337 = bitcast %jl_value_t addrspace(10)* addrspace(11)* %.phi.trans.insert336 to i64 addrspace(11)*\n",
      "; Location: /Users/sw2030/Desktop/gitrep/Reservoirnew/src/Stencil.jl:160\n",
      "; Function size; {\n",
      "; Location: array.jl:132\n",
      "; Function ntuple; {\n",
      "; Location: tuple.jl:158\n",
      "; Function #65; {\n",
      "; Location: array.jl:132\n",
      "; Function size; {\n",
      "; Location: array.jl:129\n",
      "  %.pre = load i64, i64 addrspace(11)* %.phi.trans.insert337, align 8\n",
      ";}}}}\n",
      "; Location: /Users/sw2030/Desktop/gitrep/Reservoirnew/src/Stencil.jl:159\n",
      "  br label %L35\n",
      "\n",
      "L35:                                              ; preds = %L30.L35_crit_edge, %L128\n",
      "  %34 = phi i64 [ %30, %L30.L35_crit_edge ], [ %58, %L128 ]\n",
      "  %value_phi8 = phi i64 [ 1, %L30.L35_crit_edge ], [ %60, %L128 ]\n",
      "; Location: /Users/sw2030/Desktop/gitrep/Reservoirnew/src/Stencil.jl:160\n",
      "; Function Colon; {\n",
      "; Location: range.jl:5\n",
      "; Function Type; {\n",
      "; Location: range.jl:183\n",
      "; Function unitrange_last; {\n",
      "; Location: range.jl:188\n",
      "; Function >=; {\n",
      "; Location: operators.jl:333\n",
      "; Function <=; {\n",
      "; Location: int.jl:428\n",
      "  %35 = icmp sgt i64 %.pre, 0\n",
      ";}}}}}\n",
      "  br i1 %35, label %ib.lr.ph, label %L118\n",
      "\n",
      "ib.lr.ph:                                         ; preds = %L35\n",
      "  %36 = add i64 %value_phi8, -1\n",
      "  %37 = add i64 %value_phi8, 1\n",
      "; Location: /Users/sw2030/Desktop/gitrep/Reservoirnew/src/Stencil.jl:162\n",
      "; Function getindex; {\n",
      "; Location: /Users/sw2030/Desktop/gitrep/Reservoirnew/src/Stencil.jl:55\n",
      "; Function getindex; {\n",
      "; Location: array.jl:707\n",
      "  br label %ib\n",
      "\n",
      "L53:                                              ; preds = %idxend34\n",
      "  %38 = icmp ult i64 %value_phi13181, %.pre\n",
      "  br i1 %38, label %ib, label %oob\n",
      "\n",
      "L94:                                              ; preds = %idxend22\n",
      ";}}\n",
      "; Location: /Users/sw2030/Desktop/gitrep/Reservoirnew/src/Stencil.jl:164\n",
      "; Function iterate; {\n",
      "; Location: essentials.jl:818\n",
      "; Function next; {\n",
      "; Location: /Users/sw2030/Desktop/gitrep/Reservoirnew/src/Stencil.jl:31\n",
      "; Function getindex; {\n",
      "; Location: tuple.jl:24\n",
      "  %39 = add nsw i64 %value_phi18162, -1\n",
      "  %40 = getelementptr inbounds { [7 x double] }, { [7 x double] }* %4, i64 0, i32 0, i64 %39\n",
      ";}\n",
      "; Function +; {\n",
      "; Location: int.jl:53\n",
      "  %41 = add nuw nsw i64 %value_phi18162, 1\n",
      ";}}\n",
      "  %.sroa.071.0..sroa_idx = getelementptr inbounds [7 x [3 x i64]], [7 x [3 x i64]]* @0, i64 0, i64 %39, i64 0\n",
      "  %.sroa.071.0.copyload = load i64, i64* %.sroa.071.0..sroa_idx, align 8\n",
      "  %.sroa.4.0..sroa_idx73 = getelementptr inbounds [7 x [3 x i64]], [7 x [3 x i64]]* @0, i64 0, i64 %39, i64 1\n",
      "  %.sroa.4.0.copyload = load i64, i64* %.sroa.4.0..sroa_idx73, align 8\n",
      "  %.sroa.5.0..sroa_idx75 = getelementptr inbounds [7 x [3 x i64]], [7 x [3 x i64]]* @0, i64 0, i64 %39, i64 2\n",
      "  %.sroa.5.0.copyload = load i64, i64* %.sroa.5.0..sroa_idx75, align 8\n",
      "  %42 = load double, double* %40, align 8\n",
      ";}\n",
      "; Function +; {\n",
      "; Location: int.jl:53\n",
      "  %43 = add i64 %.sroa.071.0.copyload, %value_phi13181\n",
      "  %44 = add i64 %.sroa.4.0.copyload, %value_phi8\n",
      "  %45 = add i64 %.sroa.5.0.copyload, %value_phi3\n",
      ";}\n",
      "; Function getindex; {\n",
      "; Location: /Users/sw2030/Desktop/gitrep/Reservoirnew/src/Stencil.jl:49\n",
      "; Function +; {\n",
      "; Location: int.jl:53\n",
      "  %46 = add i64 %43, 1\n",
      "  %47 = add i64 %44, 1\n",
      "  %48 = add i64 %45, 1\n",
      ";}\n",
      "; Function getindex; {\n",
      "; Location: array.jl:707\n",
      "  %49 = icmp ult i64 %43, %101\n",
      "  br i1 %49, label %ib19, label %oob21\n",
      "\n",
      "L95:                                              ; preds = %idxend22\n",
      ";}}\n",
      "; Location: /Users/sw2030/Desktop/gitrep/Reservoirnew/src/Stencil.jl:166\n",
      "; Function getindex; {\n",
      "; Location: /Users/sw2030/Desktop/gitrep/Reservoirnew/src/Stencil.jl:49\n",
      "; Function getproperty; {\n",
      "; Location: sysimg.jl:18\n",
      "  %50 = load %jl_value_t addrspace(10)*, %jl_value_t addrspace(10)* addrspace(11)* %29, align 8\n",
      ";}\n",
      "; Function +; {\n",
      "; Location: int.jl:53\n",
      "  %51 = add i64 %value_phi13181, 1\n",
      ";}\n",
      "; Function getindex; {\n",
      "; Location: array.jl:707\n",
      "  %52 = addrspacecast %jl_value_t addrspace(10)* %50 to %jl_value_t addrspace(11)*\n",
      "  %53 = bitcast %jl_value_t addrspace(11)* %52 to %jl_value_t addrspace(10)* addrspace(11)*\n",
      "  %54 = getelementptr inbounds %jl_value_t addrspace(10)*, %jl_value_t addrspace(10)* addrspace(11)* %53, i64 3\n",
      "  %55 = bitcast %jl_value_t addrspace(10)* addrspace(11)* %54 to i64 addrspace(11)*\n",
      "  %56 = load i64, i64 addrspace(11)* %55, align 8\n",
      "  %57 = icmp ult i64 %value_phi13181, %56\n",
      "  br i1 %57, label %ib27, label %oob29\n",
      "\n",
      "L118:                                             ; preds = %idxend34, %L35\n",
      "  %58 = phi i64 [ %34, %L35 ], [ %68, %idxend34 ]\n",
      ";}}\n",
      "; Function iterate; {\n",
      "; Location: range.jl:484\n",
      "; Function ==; {\n",
      "; Location: promotion.jl:425\n",
      "  %59 = icmp eq i64 %value_phi8, %30\n",
      ";}}\n",
      "  br i1 %59, label %L129, label %L128\n",
      "\n",
      "L128:                                             ; preds = %L118\n",
      "; Function iterate; {\n",
      "; Location: range.jl:485\n",
      "; Function +; {\n",
      "; Location: int.jl:53\n",
      "  %60 = add i64 %value_phi8, 1\n",
      ";}}\n",
      "  br label %L35\n",
      "\n",
      "L129:                                             ; preds = %L118, %L17\n",
      "  %61 = phi i64 [ %30, %L17 ], [ %58, %L118 ]\n",
      "; Function iterate; {\n",
      "; Location: range.jl:484\n",
      "; Function ==; {\n",
      "; Location: promotion.jl:425\n",
      "  %62 = icmp eq i64 %value_phi3, %15\n",
      ";}}\n",
      "  br i1 %62, label %L140, label %L139\n",
      "\n",
      "L139:                                             ; preds = %L129\n",
      "; Function iterate; {\n",
      "; Location: range.jl:485\n",
      "; Function +; {\n",
      "; Location: int.jl:53\n",
      "  %63 = add i64 %value_phi3, 1\n",
      ";}}\n",
      "  br label %L17\n",
      "\n",
      "L140:                                             ; preds = %L129, %top\n",
      "; Location: /Users/sw2030/Desktop/gitrep/Reservoirnew/src/Stencil.jl:170\n",
      "  ret %jl_value_t addrspace(10)* %7\n",
      "\n",
      "ib:                                               ; preds = %ib.lr.ph, %L53\n",
      "  %64 = phi i64 [ 0, %ib.lr.ph ], [ %value_phi13181, %L53 ]\n",
      "  %value_phi13181 = phi i64 [ 1, %ib.lr.ph ], [ %51, %L53 ]\n",
      "; Location: /Users/sw2030/Desktop/gitrep/Reservoirnew/src/Stencil.jl:162\n",
      "; Function getindex; {\n",
      "; Location: /Users/sw2030/Desktop/gitrep/Reservoirnew/src/Stencil.jl:55\n",
      "; Function getindex; {\n",
      "; Location: array.jl:707\n",
      "  %.in = addrspacecast %jl_value_t addrspace(10)* %10 to %jl_value_t addrspace(11)*\n",
      "  %65 = bitcast %jl_value_t addrspace(11)* %.in to %jl_value_t addrspace(10)* addrspace(11)*\n",
      "  %66 = getelementptr inbounds %jl_value_t addrspace(10)*, %jl_value_t addrspace(10)* addrspace(11)* %65, i64 4\n",
      "  %67 = bitcast %jl_value_t addrspace(10)* addrspace(11)* %66 to i64 addrspace(11)*\n",
      "  %68 = load i64, i64 addrspace(11)* %67, align 8\n",
      "  %69 = icmp ult i64 %36, %68\n",
      "  br i1 %69, label %ib15, label %oob\n",
      "\n",
      "ib15:                                             ; preds = %ib\n",
      "  %70 = getelementptr inbounds %jl_value_t addrspace(10)*, %jl_value_t addrspace(10)* addrspace(11)* %65, i64 5\n",
      "  %71 = bitcast %jl_value_t addrspace(10)* addrspace(11)* %70 to i64 addrspace(11)*\n",
      "  %72 = load i64, i64 addrspace(11)* %71, align 8\n",
      "  %73 = icmp ult i64 %32, %72\n",
      "  br i1 %73, label %idxend, label %oob\n",
      "\n",
      "oob:                                              ; preds = %L53, %ib, %ib15\n",
      "  %value_phi13.lcssa = phi i64 [ %value_phi13181, %ib15 ], [ %value_phi13181, %ib ], [ %51, %L53 ]\n",
      "  %74 = alloca [3 x i64], align 8\n",
      "  %.sub = getelementptr inbounds [3 x i64], [3 x i64]* %74, i64 0, i64 0\n",
      "  store i64 %value_phi13.lcssa, i64* %.sub, align 8\n",
      "  %75 = getelementptr inbounds [3 x i64], [3 x i64]* %74, i64 0, i64 1\n",
      "  store i64 %value_phi8, i64* %75, align 8\n",
      "  %76 = getelementptr inbounds [3 x i64], [3 x i64]* %74, i64 0, i64 2\n",
      "  store i64 %value_phi3, i64* %76, align 8\n",
      "  %77 = addrspacecast %jl_value_t addrspace(10)* %10 to %jl_value_t addrspace(12)*\n",
      "  call void @jl_bounds_error_ints(%jl_value_t addrspace(12)* %77, i64* nonnull %.sub, i64 3)\n",
      "  unreachable\n",
      "\n",
      "idxend:                                           ; preds = %ib15\n",
      "  %78 = mul i64 %68, %32\n",
      "  %reass.add = add i64 %78, %36\n",
      "  %reass.mul = mul i64 %reass.add, %.pre\n",
      "  %79 = add i64 %64, %reass.mul\n",
      "  %80 = bitcast %jl_value_t addrspace(11)* %.in to { [7 x double] }* addrspace(11)*\n",
      "  %81 = load { [7 x double] }*, { [7 x double] }* addrspace(11)* %80, align 8\n",
      "  %.unpack.elt = getelementptr inbounds { [7 x double] }, { [7 x double] }* %81, i64 %79, i32 0, i64 0\n",
      "  %82 = bitcast double* %.unpack.elt to i64*\n",
      "  %.unpack.unpack98 = load i64, i64* %82, align 8\n",
      "  %83 = getelementptr inbounds { [7 x double] }, { [7 x double] }* %81, i64 %79, i32 0, i64 1\n",
      "  %84 = bitcast double* %83 to i64*\n",
      "  %.unpack.unpack8097 = load i64, i64* %84, align 8\n",
      "  %85 = getelementptr inbounds { [7 x double] }, { [7 x double] }* %81, i64 %79, i32 0, i64 2\n",
      "  %86 = bitcast double* %85 to i64*\n",
      "  %.unpack.unpack8296 = load i64, i64* %86, align 8\n",
      "  %87 = getelementptr inbounds { [7 x double] }, { [7 x double] }* %81, i64 %79, i32 0, i64 3\n",
      "  %88 = bitcast double* %87 to i64*\n",
      "  %.unpack.unpack8495 = load i64, i64* %88, align 8\n",
      "  %89 = getelementptr inbounds { [7 x double] }, { [7 x double] }* %81, i64 %79, i32 0, i64 4\n",
      "  %90 = bitcast double* %89 to i64*\n",
      "  %.unpack.unpack8694 = load i64, i64* %90, align 8\n",
      "  %91 = getelementptr inbounds { [7 x double] }, { [7 x double] }* %81, i64 %79, i32 0, i64 5\n",
      "  %92 = bitcast double* %91 to i64*\n",
      "  %.unpack.unpack8893 = load i64, i64* %92, align 8\n",
      "  %93 = getelementptr inbounds { [7 x double] }, { [7 x double] }* %81, i64 %79, i32 0, i64 6\n",
      "  %94 = bitcast double* %93 to i64*\n",
      "  %.unpack.unpack9092 = load i64, i64* %94, align 8\n",
      "  store i64 %.unpack.unpack98, i64* %19, align 8\n",
      "  store i64 %.unpack.unpack8097, i64* %20, align 8\n",
      "  store i64 %.unpack.unpack8296, i64* %21, align 8\n",
      "  store i64 %.unpack.unpack8495, i64* %22, align 8\n",
      "  store i64 %.unpack.unpack8694, i64* %23, align 8\n",
      "  store i64 %.unpack.unpack8893, i64* %24, align 8\n",
      "  store i64 %.unpack.unpack9092, i64* %25, align 8\n",
      ";}}\n",
      "; Location: /Users/sw2030/Desktop/gitrep/Reservoirnew/src/Stencil.jl:164\n",
      "; Function +; {\n",
      "; Location: int.jl:53\n",
      "  %95 = add i64 %value_phi13181, -1\n",
      ";}\n",
      "; Function getindex; {\n",
      "; Location: /Users/sw2030/Desktop/gitrep/Reservoirnew/src/Stencil.jl:49\n",
      "; Function getproperty; {\n",
      "; Location: sysimg.jl:18\n",
      "  %96 = load %jl_value_t addrspace(10)*, %jl_value_t addrspace(10)* addrspace(11)* %27, align 8\n",
      ";}\n",
      "; Function getindex; {\n",
      "; Location: array.jl:707\n",
      "  %97 = addrspacecast %jl_value_t addrspace(10)* %96 to %jl_value_t addrspace(11)*\n",
      "  %98 = bitcast %jl_value_t addrspace(11)* %97 to %jl_value_t addrspace(10)* addrspace(11)*\n",
      "  %99 = getelementptr inbounds %jl_value_t addrspace(10)*, %jl_value_t addrspace(10)* addrspace(11)* %98, i64 3\n",
      "  %100 = bitcast %jl_value_t addrspace(10)* addrspace(11)* %99 to i64 addrspace(11)*\n",
      "  %101 = load i64, i64 addrspace(11)* %100, align 8\n",
      "  %102 = icmp ult i64 %95, %101\n",
      "  br i1 %102, label %ib19.lr.ph, label %oob21\n",
      "\n",
      "ib19.lr.ph:                                       ; preds = %idxend\n",
      "  %103 = bitcast i64 %.unpack.unpack98 to double\n",
      "  %104 = addrspacecast %jl_value_t addrspace(10)* %96 to %jl_value_t addrspace(11)*\n",
      "  %105 = bitcast %jl_value_t addrspace(11)* %104 to %jl_value_t addrspace(10)* addrspace(11)*\n",
      "  br label %ib19\n",
      "\n",
      "ib19:                                             ; preds = %ib19.lr.ph, %L94\n",
      "  %106 = phi %jl_value_t addrspace(10)* addrspace(11)* [ %98, %ib19.lr.ph ], [ %105, %L94 ]\n",
      "  %107 = phi %jl_value_t addrspace(11)* [ %97, %ib19.lr.ph ], [ %104, %L94 ]\n",
      "  %108 = phi i64 [ %33, %ib19.lr.ph ], [ %48, %L94 ]\n",
      "  %109 = phi i64 [ %37, %ib19.lr.ph ], [ %47, %L94 ]\n",
      "  %110 = phi i64 [ %value_phi13181, %ib19.lr.ph ], [ %46, %L94 ]\n",
      "  %111 = phi i64 [ %value_phi3, %ib19.lr.ph ], [ %45, %L94 ]\n",
      "  %112 = phi i64 [ %value_phi8, %ib19.lr.ph ], [ %44, %L94 ]\n",
      "  %113 = phi i64 [ %95, %ib19.lr.ph ], [ %43, %L94 ]\n",
      "  %value_phi18162 = phi i64 [ 2, %ib19.lr.ph ], [ %41, %L94 ]\n",
      "  %value_phi17161 = phi double [ %103, %ib19.lr.ph ], [ %42, %L94 ]\n",
      "  %value_phi16160 = phi double [ 0.000000e+00, %ib19.lr.ph ], [ %133, %L94 ]\n",
      "  %114 = getelementptr inbounds %jl_value_t addrspace(10)*, %jl_value_t addrspace(10)* addrspace(11)* %106, i64 4\n",
      "  %115 = bitcast %jl_value_t addrspace(10)* addrspace(11)* %114 to i64 addrspace(11)*\n",
      "  %116 = load i64, i64 addrspace(11)* %115, align 8\n",
      "  %117 = icmp ult i64 %112, %116\n",
      "  br i1 %117, label %ib20, label %oob21\n",
      "\n",
      "ib20:                                             ; preds = %ib19\n",
      "  %118 = getelementptr inbounds %jl_value_t addrspace(10)*, %jl_value_t addrspace(10)* addrspace(11)* %106, i64 5\n",
      "  %119 = bitcast %jl_value_t addrspace(10)* addrspace(11)* %118 to i64 addrspace(11)*\n",
      "  %120 = load i64, i64 addrspace(11)* %119, align 8\n",
      "  %121 = icmp ult i64 %111, %120\n",
      "  br i1 %121, label %idxend22, label %oob21\n",
      "\n",
      "oob21:                                            ; preds = %idxend, %L94, %ib19, %ib20\n",
      "  %.lcssa114 = phi i64 [ %110, %ib20 ], [ %110, %ib19 ], [ %46, %L94 ], [ %value_phi13181, %idxend ]\n",
      "  %.lcssa112 = phi i64 [ %109, %ib20 ], [ %109, %ib19 ], [ %47, %L94 ], [ %37, %idxend ]\n",
      "  %.lcssa = phi i64 [ %108, %ib20 ], [ %108, %ib19 ], [ %48, %L94 ], [ %33, %idxend ]\n",
      "  %122 = alloca [3 x i64], align 8\n",
      "  %.sub99 = getelementptr inbounds [3 x i64], [3 x i64]* %122, i64 0, i64 0\n",
      "  store i64 %.lcssa114, i64* %.sub99, align 8\n",
      "  %123 = getelementptr inbounds [3 x i64], [3 x i64]* %122, i64 0, i64 1\n",
      "  store i64 %.lcssa112, i64* %123, align 8\n",
      "  %124 = getelementptr inbounds [3 x i64], [3 x i64]* %122, i64 0, i64 2\n",
      "  store i64 %.lcssa, i64* %124, align 8\n",
      "  %125 = addrspacecast %jl_value_t addrspace(10)* %96 to %jl_value_t addrspace(12)*\n",
      "  call void @jl_bounds_error_ints(%jl_value_t addrspace(12)* %125, i64* nonnull %.sub99, i64 3)\n",
      "  unreachable\n",
      "\n",
      "idxend22:                                         ; preds = %ib20\n",
      "  %126 = mul i64 %116, %111\n",
      "  %reass.add105 = add i64 %126, %112\n",
      "  %reass.mul106 = mul i64 %reass.add105, %101\n",
      "  %127 = add i64 %113, %reass.mul106\n",
      "  %128 = bitcast %jl_value_t addrspace(11)* %107 to double* addrspace(11)*\n",
      "  %129 = load double*, double* addrspace(11)* %128, align 8\n",
      "  %130 = getelementptr inbounds double, double* %129, i64 %127\n",
      "  %131 = load double, double* %130, align 8\n",
      ";}}\n",
      "; Function *; {\n",
      "; Location: float.jl:399\n",
      "  %132 = fmul double %value_phi17161, %131\n",
      ";}\n",
      "; Function +; {\n",
      "; Location: float.jl:395\n",
      "  %133 = fadd double %value_phi16160, %132\n",
      ";}\n",
      "; Function iterate; {\n",
      "; Location: essentials.jl:817\n",
      "; Function done; {\n",
      "; Location: /Users/sw2030/Desktop/gitrep/Reservoirnew/src/Stencil.jl:32\n",
      "; Function >; {\n",
      "; Location: operators.jl:286\n",
      "; Function <; {\n",
      "; Location: int.jl:49\n",
      "  %134 = icmp ult i64 %value_phi18162, 8\n",
      ";}}}\n",
      "  br i1 %134, label %L94, label %L95\n",
      "\n",
      "ib27:                                             ; preds = %L95\n",
      ";}\n",
      "; Location: /Users/sw2030/Desktop/gitrep/Reservoirnew/src/Stencil.jl:166\n",
      "; Function getindex; {\n",
      "; Location: /Users/sw2030/Desktop/gitrep/Reservoirnew/src/Stencil.jl:49\n",
      "; Function getindex; {\n",
      "; Location: array.jl:707\n",
      "  %135 = getelementptr inbounds %jl_value_t addrspace(10)*, %jl_value_t addrspace(10)* addrspace(11)* %53, i64 4\n",
      "  %136 = bitcast %jl_value_t addrspace(10)* addrspace(11)* %135 to i64 addrspace(11)*\n",
      "  %137 = load i64, i64 addrspace(11)* %136, align 8\n",
      "  %138 = icmp ult i64 %value_phi8, %137\n",
      "  br i1 %138, label %ib28, label %oob29\n",
      "\n",
      "ib28:                                             ; preds = %ib27\n",
      "  %139 = getelementptr inbounds %jl_value_t addrspace(10)*, %jl_value_t addrspace(10)* addrspace(11)* %53, i64 5\n",
      "  %140 = bitcast %jl_value_t addrspace(10)* addrspace(11)* %139 to i64 addrspace(11)*\n",
      "  %141 = load i64, i64 addrspace(11)* %140, align 8\n",
      "  %142 = icmp ult i64 %value_phi3, %141\n",
      "  br i1 %142, label %idxend34, label %oob29\n",
      "\n",
      "oob29:                                            ; preds = %ib28, %ib27, %L95\n",
      "  %143 = alloca [3 x i64], align 8\n",
      "  %.sub100 = getelementptr inbounds [3 x i64], [3 x i64]* %143, i64 0, i64 0\n",
      "  store i64 %51, i64* %.sub100, align 8\n",
      "  %144 = getelementptr inbounds [3 x i64], [3 x i64]* %143, i64 0, i64 1\n",
      "  store i64 %37, i64* %144, align 8\n",
      "  %145 = getelementptr inbounds [3 x i64], [3 x i64]* %143, i64 0, i64 2\n",
      "  store i64 %33, i64* %145, align 8\n",
      "  %146 = addrspacecast %jl_value_t addrspace(10)* %50 to %jl_value_t addrspace(12)*\n",
      "  call void @jl_bounds_error_ints(%jl_value_t addrspace(12)* %146, i64* nonnull %.sub100, i64 3)\n",
      "  unreachable\n",
      "\n",
      "idxend34:                                         ; preds = %ib28\n",
      "  %147 = mul i64 %137, %value_phi3\n",
      "  %reass.add107 = add i64 %147, %value_phi8\n",
      "  %reass.mul108 = mul i64 %reass.add107, %56\n",
      "  %148 = add i64 %reass.mul108, %value_phi13181\n",
      "  %149 = bitcast %jl_value_t addrspace(11)* %52 to double* addrspace(11)*\n",
      "  %150 = load double*, double* addrspace(11)* %149, align 8\n",
      "  %151 = getelementptr inbounds double, double* %150, i64 %148\n",
      "  %152 = load double, double* %151, align 8\n",
      ";}}\n",
      "; Function +; {\n",
      "; Location: float.jl:395\n",
      "  %153 = fadd double %133, %152\n",
      ";}\n",
      "; Function setindex!; {\n",
      "; Location: /Users/sw2030/Desktop/gitrep/Reservoirnew/src/Stencil.jl:62\n",
      "; Function setindex!; {\n",
      "; Location: array.jl:746\n",
      "  store double %153, double* %151, align 8\n",
      ";}}\n",
      "; Function iterate; {\n",
      "; Location: range.jl:484\n",
      "; Function ==; {\n",
      "; Location: promotion.jl:425\n",
      "  %154 = icmp eq i64 %value_phi13181, %.pre\n",
      ";}}\n",
      "  br i1 %154, label %L118, label %L53\n",
      "}\n"
     ]
    }
   ],
   "source": [
    "@code_llvm A_mul_B!(MS[1], MG[1], zero(MG[1]))"
   ]
  },
  {
   "cell_type": "code",
   "execution_count": 12,
   "metadata": {},
   "outputs": [
    {
     "name": "stdout",
     "output_type": "stream",
     "text": [
      "\n",
      "; Function *\n",
      "; Location: /Users/sw2030/Desktop/gitrep/Reservoirnew/src/Stencil.jl:191\n",
      "define nonnull %jl_value_t addrspace(10)* @\"japi1_*_33643\"(%jl_value_t addrspace(10)*, %jl_value_t addrspace(10)**, i32) #0 {\n",
      "top:\n",
      "  %3 = alloca %jl_value_t addrspace(10)*, i32 3\n",
      "  %gcframe = alloca %jl_value_t addrspace(10)*, i32 5\n",
      "  %4 = bitcast %jl_value_t addrspace(10)** %gcframe to i8*\n",
      "  call void @llvm.memset.p0i8.i32(i8* %4, i8 0, i32 40, i32 0, i1 false)\n",
      "  %5 = alloca %jl_value_t addrspace(10)**, align 8\n",
      "  store volatile %jl_value_t addrspace(10)** %1, %jl_value_t addrspace(10)*** %5, align 8\n",
      "  %6 = call %jl_value_t*** inttoptr (i64 4354463648 to %jl_value_t*** ()*)() #3\n",
      "  %7 = getelementptr %jl_value_t addrspace(10)*, %jl_value_t addrspace(10)** %gcframe, i32 0\n",
      "  %8 = bitcast %jl_value_t addrspace(10)** %7 to i64*\n",
      "  store i64 6, i64* %8\n",
      "  %9 = getelementptr %jl_value_t**, %jl_value_t*** %6, i32 0\n",
      "  %10 = load %jl_value_t**, %jl_value_t*** %9\n",
      "  %11 = getelementptr %jl_value_t addrspace(10)*, %jl_value_t addrspace(10)** %gcframe, i32 1\n",
      "  %12 = bitcast %jl_value_t addrspace(10)** %11 to %jl_value_t***\n",
      "  store %jl_value_t** %10, %jl_value_t*** %12\n",
      "  %13 = bitcast %jl_value_t*** %9 to %jl_value_t addrspace(10)***\n",
      "  store %jl_value_t addrspace(10)** %gcframe, %jl_value_t addrspace(10)*** %13\n",
      "  %14 = load %jl_value_t addrspace(10)*, %jl_value_t addrspace(10)** %1, align 8\n",
      "  %15 = getelementptr inbounds %jl_value_t addrspace(10)*, %jl_value_t addrspace(10)** %1, i64 1\n",
      "  %16 = load %jl_value_t addrspace(10)*, %jl_value_t addrspace(10)** %15, align 8\n",
      "; Function zero; {\n",
      "; Location: /Users/sw2030/Desktop/gitrep/Reservoirnew/src/Stencil.jl:72\n",
      "; Function getindex; {\n",
      "; Location: tuple.jl:24\n",
      "  %17 = addrspacecast %jl_value_t addrspace(10)* %16 to %jl_value_t addrspace(11)*\n",
      "  %18 = bitcast %jl_value_t addrspace(11)* %17 to %jl_value_t addrspace(10)* addrspace(11)*\n",
      "  %19 = load %jl_value_t addrspace(10)*, %jl_value_t addrspace(10)* addrspace(11)* %18, align 8\n",
      ";}\n",
      "; Function zero; {\n",
      "; Location: /Users/sw2030/Desktop/gitrep/Reservoirnew/src/Stencil.jl:71\n",
      "; Function getproperty; {\n",
      "; Location: sysimg.jl:18\n",
      "  %20 = addrspacecast %jl_value_t addrspace(10)* %19 to %jl_value_t addrspace(11)*\n",
      "  %21 = bitcast %jl_value_t addrspace(11)* %20 to %jl_value_t addrspace(10)* addrspace(11)*\n",
      "  %22 = load %jl_value_t addrspace(10)*, %jl_value_t addrspace(10)* addrspace(11)* %21, align 8\n",
      ";}\n",
      "; Function zero; {\n",
      "; Location: abstractarray.jl:835\n",
      "; Function similar; {\n",
      "; Location: abstractarray.jl:579\n",
      "; Function similar; {\n",
      "; Location: abstractarray.jl:580\n",
      "; Function axes; {\n",
      "; Location: abstractarray.jl:83\n",
      "; Function size; {\n",
      "; Location: array.jl:132\n",
      "; Function ntuple; {\n",
      "; Location: tuple.jl:158\n",
      "; Function #65; {\n",
      "; Location: array.jl:132\n",
      "; Function size; {\n",
      "; Location: array.jl:129\n",
      "  %23 = addrspacecast %jl_value_t addrspace(10)* %22 to %jl_value_t addrspace(11)*\n",
      "  %24 = bitcast %jl_value_t addrspace(11)* %23 to %jl_value_t addrspace(10)* addrspace(11)*\n",
      "  %25 = getelementptr inbounds %jl_value_t addrspace(10)*, %jl_value_t addrspace(10)* addrspace(11)* %24, i64 3\n",
      "  %26 = bitcast %jl_value_t addrspace(10)* addrspace(11)* %25 to i64 addrspace(11)*\n",
      "  %27 = load i64, i64 addrspace(11)* %26, align 8\n",
      "  %28 = getelementptr inbounds %jl_value_t addrspace(10)*, %jl_value_t addrspace(10)* addrspace(11)* %24, i64 4\n",
      "  %29 = bitcast %jl_value_t addrspace(10)* addrspace(11)* %28 to i64 addrspace(11)*\n",
      "  %30 = load i64, i64 addrspace(11)* %29, align 8\n",
      "  %31 = getelementptr inbounds %jl_value_t addrspace(10)*, %jl_value_t addrspace(10)* addrspace(11)* %24, i64 5\n",
      "  %32 = bitcast %jl_value_t addrspace(10)* addrspace(11)* %31 to i64 addrspace(11)*\n",
      "  %33 = load i64, i64 addrspace(11)* %32, align 8\n",
      ";}}}}\n",
      "; Function map; {\n",
      "; Location: tuple.jl:164\n",
      "; Function Type; {\n",
      "; Location: range.jl:226\n",
      "; Function Type; {\n",
      "; Location: range.jl:217\n",
      "; Function max; {\n",
      "; Location: promotion.jl:436\n",
      "  %34 = icmp sgt i64 %27, 0\n",
      "  %35 = select i1 %34, i64 %27, i64 0\n",
      "  %36 = icmp sgt i64 %30, 0\n",
      "  %37 = select i1 %36, i64 %30, i64 0\n",
      "  %38 = icmp sgt i64 %33, 0\n",
      "  %39 = select i1 %38, i64 %33, i64 0\n",
      ";}}}}}\n",
      "; Function similar; {\n",
      "; Location: array.jl:307\n",
      "; Function Type; {\n",
      "; Location: boot.jl:405\n",
      "; Function Type; {\n",
      "; Location: boot.jl:398\n",
      "  %40 = call %jl_value_t addrspace(10)* inttoptr (i64 4354307776 to %jl_value_t addrspace(10)* (%jl_value_t addrspace(10)*, i64, i64, i64)*)(%jl_value_t addrspace(10)* addrspacecast (%jl_value_t* inttoptr (i64 4503494944 to %jl_value_t*) to %jl_value_t addrspace(10)*), i64 %35, i64 %37, i64 %39)\n",
      "  %41 = getelementptr %jl_value_t addrspace(10)*, %jl_value_t addrspace(10)** %gcframe, i32 2\n",
      "  store %jl_value_t addrspace(10)* %40, %jl_value_t addrspace(10)** %41\n",
      ";}}}}}\n",
      "  %42 = call nonnull %jl_value_t addrspace(10)* @\"julia_fill!_33449\"(%jl_value_t addrspace(10)* %40, double 0.000000e+00)\n",
      ";}\n",
      "; Function Type; {\n",
      "; Location: /Users/sw2030/Desktop/gitrep/Reservoirnew/src/Stencil.jl:18\n",
      "  %43 = bitcast %jl_value_t*** %6 to i8*\n",
      "  %44 = getelementptr %jl_value_t addrspace(10)*, %jl_value_t addrspace(10)** %gcframe, i32 2\n",
      "  store %jl_value_t addrspace(10)* %42, %jl_value_t addrspace(10)** %44\n",
      "  %45 = call noalias nonnull %jl_value_t addrspace(10)* @jl_gc_pool_alloc(i8* %43, i32 1376, i32 16) #1\n",
      "  %46 = bitcast %jl_value_t addrspace(10)* %45 to %jl_value_t addrspace(10)* addrspace(10)*\n",
      "  %47 = getelementptr %jl_value_t addrspace(10)*, %jl_value_t addrspace(10)* addrspace(10)* %46, i64 -1\n",
      "  store %jl_value_t addrspace(10)* addrspacecast (%jl_value_t* inttoptr (i64 4615390320 to %jl_value_t*) to %jl_value_t addrspace(10)*), %jl_value_t addrspace(10)* addrspace(10)* %47\n",
      "  %48 = bitcast %jl_value_t addrspace(10)* %45 to %jl_value_t addrspace(10)* addrspace(10)*\n",
      "  store %jl_value_t addrspace(10)* %42, %jl_value_t addrspace(10)* addrspace(10)* %48, align 8\n",
      ";}}\n",
      "; Function getindex; {\n",
      "; Location: tuple.jl:24\n",
      "  %49 = load %jl_value_t addrspace(10)*, %jl_value_t addrspace(10)* addrspace(11)* %18, align 8\n",
      ";}\n",
      "; Function zero; {\n",
      "; Location: /Users/sw2030/Desktop/gitrep/Reservoirnew/src/Stencil.jl:71\n",
      "; Function getproperty; {\n",
      "; Location: sysimg.jl:18\n",
      "  %50 = addrspacecast %jl_value_t addrspace(10)* %49 to %jl_value_t addrspace(11)*\n",
      "  %51 = bitcast %jl_value_t addrspace(11)* %50 to %jl_value_t addrspace(10)* addrspace(11)*\n",
      "  %52 = load %jl_value_t addrspace(10)*, %jl_value_t addrspace(10)* addrspace(11)* %51, align 8\n",
      ";}\n",
      "; Function zero; {\n",
      "; Location: abstractarray.jl:835\n",
      "; Function similar; {\n",
      "; Location: abstractarray.jl:579\n",
      "; Function similar; {\n",
      "; Location: abstractarray.jl:580\n",
      "; Function axes; {\n",
      "; Location: abstractarray.jl:83\n",
      "; Function size; {\n",
      "; Location: array.jl:132\n",
      "; Function ntuple; {\n",
      "; Location: tuple.jl:158\n",
      "; Function #65; {\n",
      "; Location: array.jl:132\n",
      "; Function size; {\n",
      "; Location: array.jl:129\n",
      "  %53 = addrspacecast %jl_value_t addrspace(10)* %52 to %jl_value_t addrspace(11)*\n",
      "  %54 = bitcast %jl_value_t addrspace(11)* %53 to %jl_value_t addrspace(10)* addrspace(11)*\n",
      "  %55 = getelementptr inbounds %jl_value_t addrspace(10)*, %jl_value_t addrspace(10)* addrspace(11)* %54, i64 3\n",
      "  %56 = bitcast %jl_value_t addrspace(10)* addrspace(11)* %55 to i64 addrspace(11)*\n",
      "  %57 = load i64, i64 addrspace(11)* %56, align 8\n",
      "  %58 = getelementptr inbounds %jl_value_t addrspace(10)*, %jl_value_t addrspace(10)* addrspace(11)* %54, i64 4\n",
      "  %59 = bitcast %jl_value_t addrspace(10)* addrspace(11)* %58 to i64 addrspace(11)*\n",
      "  %60 = load i64, i64 addrspace(11)* %59, align 8\n",
      "  %61 = getelementptr inbounds %jl_value_t addrspace(10)*, %jl_value_t addrspace(10)* addrspace(11)* %54, i64 5\n",
      "  %62 = bitcast %jl_value_t addrspace(10)* addrspace(11)* %61 to i64 addrspace(11)*\n",
      "  %63 = load i64, i64 addrspace(11)* %62, align 8\n",
      ";}}}}\n",
      "; Function map; {\n",
      "; Location: tuple.jl:164\n",
      "; Function Type; {\n",
      "; Location: range.jl:226\n",
      "; Function Type; {\n",
      "; Location: range.jl:217\n",
      "; Function max; {\n",
      "; Location: promotion.jl:436\n",
      "  %64 = icmp sgt i64 %57, 0\n",
      "  %65 = select i1 %64, i64 %57, i64 0\n",
      "  %66 = icmp sgt i64 %60, 0\n",
      "  %67 = select i1 %66, i64 %60, i64 0\n",
      "  %68 = icmp sgt i64 %63, 0\n",
      "  %69 = select i1 %68, i64 %63, i64 0\n",
      "  %70 = getelementptr %jl_value_t addrspace(10)*, %jl_value_t addrspace(10)** %gcframe, i32 3\n",
      "  store %jl_value_t addrspace(10)* %45, %jl_value_t addrspace(10)** %70\n",
      ";}}}}}\n",
      "; Function similar; {\n",
      "; Location: array.jl:307\n",
      "; Function Type; {\n",
      "; Location: boot.jl:405\n",
      "; Function Type; {\n",
      "; Location: boot.jl:398\n",
      "  %71 = call %jl_value_t addrspace(10)* inttoptr (i64 4354307776 to %jl_value_t addrspace(10)* (%jl_value_t addrspace(10)*, i64, i64, i64)*)(%jl_value_t addrspace(10)* addrspacecast (%jl_value_t* inttoptr (i64 4503494944 to %jl_value_t*) to %jl_value_t addrspace(10)*), i64 %65, i64 %67, i64 %69)\n",
      "  %72 = getelementptr %jl_value_t addrspace(10)*, %jl_value_t addrspace(10)** %gcframe, i32 2\n",
      "  store %jl_value_t addrspace(10)* %71, %jl_value_t addrspace(10)** %72\n",
      ";}}}}}\n",
      "  %73 = call nonnull %jl_value_t addrspace(10)* @\"julia_fill!_33449\"(%jl_value_t addrspace(10)* %71, double 0.000000e+00)\n",
      "  %74 = getelementptr %jl_value_t addrspace(10)*, %jl_value_t addrspace(10)** %gcframe, i32 2\n",
      "  store %jl_value_t addrspace(10)* %73, %jl_value_t addrspace(10)** %74\n",
      ";}\n",
      "; Function Type; {\n",
      "; Location: /Users/sw2030/Desktop/gitrep/Reservoirnew/src/Stencil.jl:18\n",
      "  %75 = call noalias nonnull %jl_value_t addrspace(10)* @jl_gc_pool_alloc(i8* %43, i32 1376, i32 16) #1\n",
      "  %76 = bitcast %jl_value_t addrspace(10)* %75 to %jl_value_t addrspace(10)* addrspace(10)*\n",
      "  %77 = getelementptr %jl_value_t addrspace(10)*, %jl_value_t addrspace(10)* addrspace(10)* %76, i64 -1\n",
      "  store %jl_value_t addrspace(10)* addrspacecast (%jl_value_t* inttoptr (i64 4615390320 to %jl_value_t*) to %jl_value_t addrspace(10)*), %jl_value_t addrspace(10)* addrspace(10)* %77\n",
      "  %78 = bitcast %jl_value_t addrspace(10)* %75 to %jl_value_t addrspace(10)* addrspace(10)*\n",
      "  store %jl_value_t addrspace(10)* %73, %jl_value_t addrspace(10)* addrspace(10)* %78, align 8\n",
      "  %79 = getelementptr %jl_value_t addrspace(10)*, %jl_value_t addrspace(10)** %gcframe, i32 2\n",
      "  store %jl_value_t addrspace(10)* %75, %jl_value_t addrspace(10)** %79\n",
      ";}}\n",
      "  %80 = call noalias nonnull %jl_value_t addrspace(10)* @jl_gc_pool_alloc(i8* %43, i32 1400, i32 32) #1\n",
      "  %81 = bitcast %jl_value_t addrspace(10)* %80 to %jl_value_t addrspace(10)* addrspace(10)*\n",
      "  %82 = getelementptr %jl_value_t addrspace(10)*, %jl_value_t addrspace(10)* addrspace(10)* %81, i64 -1\n",
      "  store %jl_value_t addrspace(10)* addrspacecast (%jl_value_t* inttoptr (i64 4615393344 to %jl_value_t*) to %jl_value_t addrspace(10)*), %jl_value_t addrspace(10)* addrspace(10)* %82\n",
      "  %83 = addrspacecast %jl_value_t addrspace(10)* %80 to %jl_value_t addrspace(11)*\n",
      "  %84 = bitcast %jl_value_t addrspace(10)* %80 to %jl_value_t addrspace(10)* addrspace(10)*\n",
      "  %85 = bitcast %jl_value_t addrspace(11)* %83 to i8 addrspace(11)*\n",
      "  store %jl_value_t addrspace(10)* %45, %jl_value_t addrspace(10)* addrspace(10)* %84, align 8\n",
      "  %86 = getelementptr inbounds i8, i8 addrspace(11)* %85, i64 8\n",
      "  %87 = bitcast i8 addrspace(11)* %86 to %jl_value_t addrspace(10)* addrspace(11)*\n",
      "  store %jl_value_t addrspace(10)* %75, %jl_value_t addrspace(10)* addrspace(11)* %87, align 8\n",
      ";}\n",
      "; Function A_mul_B!; {\n",
      "; Location: /Users/sw2030/Desktop/gitrep/Reservoirnew/src/Stencil.jl:183\n",
      "; Function getindex; {\n",
      "; Location: /Users/sw2030/Desktop/gitrep/Reservoirnew/src/Stencil.jl:56\n",
      "; Function getproperty; {\n",
      "; Location: sysimg.jl:18\n",
      "  %88 = addrspacecast %jl_value_t addrspace(10)* %14 to %jl_value_t addrspace(11)*\n",
      "  %89 = bitcast %jl_value_t addrspace(11)* %88 to %jl_value_t addrspace(10)* addrspace(11)*\n",
      "  %90 = load %jl_value_t addrspace(10)*, %jl_value_t addrspace(10)* addrspace(11)* %89, align 8\n",
      ";}\n",
      "; Function getindex; {\n",
      "; Location: tuple.jl:24\n",
      "  %91 = addrspacecast %jl_value_t addrspace(10)* %90 to %jl_value_t addrspace(11)*\n",
      "  %92 = bitcast %jl_value_t addrspace(11)* %91 to %jl_value_t addrspace(10)* addrspace(11)*\n",
      "  %93 = load %jl_value_t addrspace(10)*, %jl_value_t addrspace(10)* addrspace(11)* %92, align 8\n",
      ";}}\n",
      "; Function getindex; {\n",
      "; Location: tuple.jl:24\n",
      "  %94 = load %jl_value_t addrspace(10)*, %jl_value_t addrspace(10)* addrspace(11)* %18, align 8\n",
      "  %95 = getelementptr %jl_value_t addrspace(10)*, %jl_value_t addrspace(10)** %gcframe, i32 4\n",
      "  store %jl_value_t addrspace(10)* %80, %jl_value_t addrspace(10)** %95\n",
      ";}\n",
      "  %96 = getelementptr %jl_value_t addrspace(10)*, %jl_value_t addrspace(10)** %3, i32 0\n",
      "  store %jl_value_t addrspace(10)* %93, %jl_value_t addrspace(10)** %96\n",
      "  %97 = getelementptr %jl_value_t addrspace(10)*, %jl_value_t addrspace(10)** %3, i32 1\n",
      "  store %jl_value_t addrspace(10)* %94, %jl_value_t addrspace(10)** %97\n",
      "  %98 = getelementptr %jl_value_t addrspace(10)*, %jl_value_t addrspace(10)** %3, i32 2\n",
      "  store %jl_value_t addrspace(10)* %45, %jl_value_t addrspace(10)** %98\n",
      "  %99 = call nonnull %jl_value_t addrspace(10)* @\"japi1_A_mul_B!_33580\"(%jl_value_t addrspace(10)* addrspacecast (%jl_value_t* inttoptr (i64 4577247880 to %jl_value_t*) to %jl_value_t addrspace(10)*), %jl_value_t addrspace(10)** %3, i32 3)\n",
      "; Location: /Users/sw2030/Desktop/gitrep/Reservoirnew/src/Stencil.jl:184\n",
      "; Function getindex; {\n",
      "; Location: /Users/sw2030/Desktop/gitrep/Reservoirnew/src/Stencil.jl:56\n",
      "; Function getproperty; {\n",
      "; Location: sysimg.jl:18\n",
      "  %100 = load %jl_value_t addrspace(10)*, %jl_value_t addrspace(10)* addrspace(11)* %89, align 8\n",
      ";}\n",
      "; Function getindex; {\n",
      "; Location: tuple.jl:24\n",
      "  %101 = addrspacecast %jl_value_t addrspace(10)* %100 to %jl_value_t addrspace(11)*\n",
      "  %102 = bitcast %jl_value_t addrspace(11)* %101 to i8 addrspace(11)*\n",
      "  %103 = getelementptr inbounds i8, i8 addrspace(11)* %102, i64 8\n",
      "  %104 = bitcast i8 addrspace(11)* %103 to %jl_value_t addrspace(10)* addrspace(11)*\n",
      "  %105 = load %jl_value_t addrspace(10)*, %jl_value_t addrspace(10)* addrspace(11)* %104, align 8\n",
      ";}}\n",
      "; Function getindex; {\n",
      "; Location: tuple.jl:24\n",
      "  %106 = bitcast %jl_value_t addrspace(11)* %17 to i8 addrspace(11)*\n",
      "  %107 = getelementptr inbounds i8, i8 addrspace(11)* %106, i64 8\n",
      "  %108 = bitcast i8 addrspace(11)* %107 to %jl_value_t addrspace(10)* addrspace(11)*\n",
      "  %109 = load %jl_value_t addrspace(10)*, %jl_value_t addrspace(10)* addrspace(11)* %108, align 8\n",
      ";}\n",
      "  %110 = getelementptr %jl_value_t addrspace(10)*, %jl_value_t addrspace(10)** %3, i32 0\n",
      "  store %jl_value_t addrspace(10)* %105, %jl_value_t addrspace(10)** %110\n",
      "  %111 = getelementptr %jl_value_t addrspace(10)*, %jl_value_t addrspace(10)** %3, i32 1\n",
      "  store %jl_value_t addrspace(10)* %109, %jl_value_t addrspace(10)** %111\n",
      "  %112 = getelementptr %jl_value_t addrspace(10)*, %jl_value_t addrspace(10)** %3, i32 2\n",
      "  store %jl_value_t addrspace(10)* %45, %jl_value_t addrspace(10)** %112\n",
      "  %113 = call nonnull %jl_value_t addrspace(10)* @\"japi1_A_mul_B!_33580\"(%jl_value_t addrspace(10)* addrspacecast (%jl_value_t* inttoptr (i64 4577247880 to %jl_value_t*) to %jl_value_t addrspace(10)*), %jl_value_t addrspace(10)** %3, i32 3)\n",
      "; Location: /Users/sw2030/Desktop/gitrep/Reservoirnew/src/Stencil.jl:185\n",
      "; Function getindex; {\n",
      "; Location: /Users/sw2030/Desktop/gitrep/Reservoirnew/src/Stencil.jl:56\n",
      "; Function getproperty; {\n",
      "; Location: sysimg.jl:18\n",
      "  %114 = load %jl_value_t addrspace(10)*, %jl_value_t addrspace(10)* addrspace(11)* %89, align 8\n",
      ";}\n",
      "; Function getindex; {\n",
      "; Location: tuple.jl:24\n",
      "  %115 = addrspacecast %jl_value_t addrspace(10)* %114 to %jl_value_t addrspace(11)*\n",
      "  %116 = bitcast %jl_value_t addrspace(11)* %115 to i8 addrspace(11)*\n",
      "  %117 = getelementptr inbounds i8, i8 addrspace(11)* %116, i64 16\n",
      "  %118 = bitcast i8 addrspace(11)* %117 to %jl_value_t addrspace(10)* addrspace(11)*\n",
      "  %119 = load %jl_value_t addrspace(10)*, %jl_value_t addrspace(10)* addrspace(11)* %118, align 8\n",
      ";}}\n",
      "; Function getindex; {\n",
      "; Location: tuple.jl:24\n",
      "  %120 = load %jl_value_t addrspace(10)*, %jl_value_t addrspace(10)* addrspace(11)* %18, align 8\n",
      ";}\n",
      "  %121 = getelementptr %jl_value_t addrspace(10)*, %jl_value_t addrspace(10)** %3, i32 0\n",
      "  store %jl_value_t addrspace(10)* %119, %jl_value_t addrspace(10)** %121\n",
      "  %122 = getelementptr %jl_value_t addrspace(10)*, %jl_value_t addrspace(10)** %3, i32 1\n",
      "  store %jl_value_t addrspace(10)* %120, %jl_value_t addrspace(10)** %122\n",
      "  %123 = getelementptr %jl_value_t addrspace(10)*, %jl_value_t addrspace(10)** %3, i32 2\n",
      "  store %jl_value_t addrspace(10)* %75, %jl_value_t addrspace(10)** %123\n",
      "  %124 = call nonnull %jl_value_t addrspace(10)* @\"japi1_A_mul_B!_33580\"(%jl_value_t addrspace(10)* addrspacecast (%jl_value_t* inttoptr (i64 4577247880 to %jl_value_t*) to %jl_value_t addrspace(10)*), %jl_value_t addrspace(10)** %3, i32 3)\n",
      "; Location: /Users/sw2030/Desktop/gitrep/Reservoirnew/src/Stencil.jl:186\n",
      "; Function getindex; {\n",
      "; Location: /Users/sw2030/Desktop/gitrep/Reservoirnew/src/Stencil.jl:56\n",
      "; Function getproperty; {\n",
      "; Location: sysimg.jl:18\n",
      "  %125 = load %jl_value_t addrspace(10)*, %jl_value_t addrspace(10)* addrspace(11)* %89, align 8\n",
      ";}\n",
      "; Function getindex; {\n",
      "; Location: tuple.jl:24\n",
      "  %126 = addrspacecast %jl_value_t addrspace(10)* %125 to %jl_value_t addrspace(11)*\n",
      "  %127 = bitcast %jl_value_t addrspace(11)* %126 to i8 addrspace(11)*\n",
      "  %128 = getelementptr inbounds i8, i8 addrspace(11)* %127, i64 24\n",
      "  %129 = bitcast i8 addrspace(11)* %128 to %jl_value_t addrspace(10)* addrspace(11)*\n",
      "  %130 = load %jl_value_t addrspace(10)*, %jl_value_t addrspace(10)* addrspace(11)* %129, align 8\n",
      ";}}\n",
      "; Function getindex; {\n",
      "; Location: tuple.jl:24\n",
      "  %131 = load %jl_value_t addrspace(10)*, %jl_value_t addrspace(10)* addrspace(11)* %108, align 8\n",
      ";}\n",
      "  %132 = getelementptr %jl_value_t addrspace(10)*, %jl_value_t addrspace(10)** %3, i32 0\n",
      "  store %jl_value_t addrspace(10)* %130, %jl_value_t addrspace(10)** %132\n",
      "  %133 = getelementptr %jl_value_t addrspace(10)*, %jl_value_t addrspace(10)** %3, i32 1\n",
      "  store %jl_value_t addrspace(10)* %131, %jl_value_t addrspace(10)** %133\n",
      "  %134 = getelementptr %jl_value_t addrspace(10)*, %jl_value_t addrspace(10)** %3, i32 2\n",
      "  store %jl_value_t addrspace(10)* %75, %jl_value_t addrspace(10)** %134\n",
      "  %135 = call nonnull %jl_value_t addrspace(10)* @\"japi1_A_mul_B!_33580\"(%jl_value_t addrspace(10)* addrspacecast (%jl_value_t* inttoptr (i64 4577247880 to %jl_value_t*) to %jl_value_t addrspace(10)*), %jl_value_t addrspace(10)** %3, i32 3)\n",
      ";}\n",
      "  %136 = getelementptr %jl_value_t addrspace(10)*, %jl_value_t addrspace(10)** %gcframe, i32 1\n",
      "  %137 = load %jl_value_t addrspace(10)*, %jl_value_t addrspace(10)** %136\n",
      "  %138 = getelementptr %jl_value_t**, %jl_value_t*** %6, i32 0\n",
      "  %139 = bitcast %jl_value_t*** %138 to %jl_value_t addrspace(10)**\n",
      "  store %jl_value_t addrspace(10)* %137, %jl_value_t addrspace(10)** %139\n",
      "  ret %jl_value_t addrspace(10)* %80\n",
      "}\n"
     ]
    }
   ],
   "source": [
    "@code_llvm MS*MG"
   ]
  },
  {
   "cell_type": "code",
   "execution_count": 5,
   "metadata": {},
   "outputs": [
    {
     "name": "stdout",
     "output_type": "stream",
     "text": [
      "  2.407 ms (7 allocations: 512.22 KiB)\n"
     ]
    }
   ],
   "source": [
    "@btime MS*MG;"
   ]
  },
  {
   "cell_type": "code",
   "execution_count": 6,
   "metadata": {},
   "outputs": [
    {
     "name": "stdout",
     "output_type": "stream",
     "text": [
      "  969.756 μs (2 allocations: 421.95 KiB)\n"
     ]
    }
   ],
   "source": [
    "@btime A*b;"
   ]
  },
  {
   "cell_type": "code",
   "execution_count": 37,
   "metadata": {},
   "outputs": [
    {
     "data": {
      "text/html": [
       "*<i>{MM, M, TS, Tx, N, P, A}</i>(MS::<b>MStencil{MM,TS,N,P,A} where A</b>, x::<b>Tuple{Vararg{Grid{Tx,N,P,A},M}}</b>) in Main at <a href=\"https://github.com/sw2030/Reservoirnew/tree/6655ac9c5e16b7e276b64629a95b9aa27d80b835//src/Stencil.jl#L187\" target=\"_blank\">/Users/sw2030/Desktop/gitrep/Reservoirnew/src/Stencil.jl:187</a>"
      ],
      "text/plain": [
       "*(MS::MStencil{MM,TS,N,P,A} where A, x::Tuple{Vararg{Grid{Tx,N,P,A},M}}) where {MM, M, TS, Tx, N, P, A} in Main at /Users/sw2030/Desktop/gitrep/Reservoirnew/src/Stencil.jl:187"
      ]
     },
     "execution_count": 37,
     "metadata": {},
     "output_type": "execute_result"
    }
   ],
   "source": [
    "@which MS*MG"
   ]
  },
  {
   "cell_type": "code",
   "execution_count": 38,
   "metadata": {},
   "outputs": [
    {
     "data": {
      "text/plain": [
       "(MStencil{4,Float64,3,7,Array{StencilPoint{Float64,3,7},3}}, Tuple{Grid{Float64,3,7,Array{Float64,3}},Grid{Float64,3,7,Array{Float64,3}}}, SparseArrays.SparseMatrixCSC{Float64,Int64}, Array{Float64,1})"
      ]
     },
     "execution_count": 38,
     "metadata": {},
     "output_type": "execute_result"
    }
   ],
   "source": [
    "typeof(MS), typeof(MG), typeof(A), typeof(b)"
   ]
  },
  {
   "cell_type": "code",
   "execution_count": 41,
   "metadata": {},
   "outputs": [
    {
     "data": {
      "text/plain": [
       "(756000, 734400)"
      ]
     },
     "execution_count": 41,
     "metadata": {},
     "output_type": "execute_result"
    }
   ],
   "source": [
    "30*30*30*7*4, length(A.nzval)"
   ]
  },
  {
   "cell_type": "code",
   "execution_count": 39,
   "metadata": {},
   "outputs": [
    {
     "data": {
      "text/plain": [
       "10×10 DistributedArrays.DArray{Float64,2,Array{Float64,2}}:\n",
       " -0.784395  -0.481218   -1.08791    …  -0.899642   0.377278   -1.53498  \n",
       "  0.595257  -1.14459     1.25262       -0.236447   0.187379   -1.21553  \n",
       " -0.601469  -1.10021    -0.311997      -0.194515  -0.363821   -0.0785939\n",
       "  1.83899    1.23555    -1.0343         0.920368  -1.24938    -0.719919 \n",
       "  2.46319    0.230752    0.732375      -0.612451   1.0745     -0.543622 \n",
       "  1.59389    2.79584    -0.0880325  …  -0.875582  -0.935552    0.227139 \n",
       "  1.40783    0.731496    1.56522       -0.760221   1.23455    -0.863488 \n",
       " -0.738505  -1.07671    -0.149068      -0.401678   0.808909   -1.30096  \n",
       " -0.263783  -1.627      -0.0786282     -0.193035   0.707922   -0.668441 \n",
       " -0.739329   0.0959268   0.0621859     -0.589742   0.0616305  -2.31241  "
      ]
     },
     "execution_count": 39,
     "metadata": {},
     "output_type": "execute_result"
    }
   ],
   "source": [
    "d = distribute(randn(10, 10))"
   ]
  },
  {
   "cell_type": "code",
   "execution_count": 5,
   "metadata": {},
   "outputs": [
    {
     "data": {
      "text/plain": [
       "Grid{Float64,2,1,DistributedArrays.DArray{Float64,2,Grid{Float64,2,5,Array{Float64,2}}}}"
      ]
     },
     "execution_count": 5,
     "metadata": {},
     "output_type": "execute_result"
    }
   ],
   "source": [
    "typeof(da)"
   ]
  },
  {
   "cell_type": "code",
   "execution_count": 11,
   "metadata": {},
   "outputs": [
    {
     "data": {
      "text/plain": [
       "foo (generic function with 1 method)"
      ]
     },
     "execution_count": 11,
     "metadata": {},
     "output_type": "execute_result"
    }
   ],
   "source": [
    "function foo(A::DMGrid)\n",
    "    println(\"hi\")\n",
    "end\n"
   ]
  },
  {
   "cell_type": "code",
   "execution_count": 12,
   "metadata": {},
   "outputs": [
    {
     "name": "stdout",
     "output_type": "stream",
     "text": [
      "hi\n"
     ]
    }
   ],
   "source": [
    "foo(DMg)"
   ]
  },
  {
   "cell_type": "code",
   "execution_count": 43,
   "metadata": {},
   "outputs": [
    {
     "data": {
      "text/plain": [
       "2×2 Array{Float64,2}:\n",
       "  1.08934    0.0156532\n",
       " -0.472086  -0.48689  "
      ]
     },
     "execution_count": 43,
     "metadata": {},
     "output_type": "execute_result"
    }
   ],
   "source": [
    "a = randn(2, 2,)"
   ]
  },
  {
   "cell_type": "code",
   "execution_count": 44,
   "metadata": {},
   "outputs": [
    {
     "ename": "LoadError",
     "evalue": "\u001b[91mMethodError: no method matching foo(::Array{Float64,2})\u001b[0m\nClosest candidates are:\n  foo(\u001b[91m::DistributedArrays.DArray\u001b[39m) at In[41]:2\u001b[39m",
     "output_type": "error",
     "traceback": [
      "\u001b[91mMethodError: no method matching foo(::Array{Float64,2})\u001b[0m\nClosest candidates are:\n  foo(\u001b[91m::DistributedArrays.DArray\u001b[39m) at In[41]:2\u001b[39m",
      ""
     ]
    }
   ],
   "source": [
    "foo(a)"
   ]
  },
  {
   "cell_type": "code",
   "execution_count": 22,
   "metadata": {
    "collapsed": true
   },
   "outputs": [],
   "source": [
    "res = getresidual(model,q,g_guess,initgrid);"
   ]
  },
  {
   "cell_type": "code",
   "execution_count": 23,
   "metadata": {
    "collapsed": true
   },
   "outputs": [],
   "source": [
    "S = getstencil(model,q,g_guess,initgrid);"
   ]
  },
  {
   "cell_type": "code",
   "execution_count": 13,
   "metadata": {},
   "outputs": [
    {
     "name": "stdout",
     "output_type": "stream",
     "text": [
      "123456789101112131415161718192021222324252627282930\n",
      "0.3602941176470588\n"
     ]
    }
   ],
   "source": [
    "A, b = makeMat(S, res)\n",
    "println();\n",
    "println(length(A.nzval)/(Nx*Ny*Nz*7-6*Nx*Ny)/4)"
   ]
  },
  {
   "cell_type": "code",
   "execution_count": 14,
   "metadata": {},
   "outputs": [
    {
     "name": "stdout",
     "output_type": "stream",
     "text": [
      "1234567891011121314151617181920212223242526"
     ]
    },
    {
     "data": {
      "text/plain": [
       "54000×2 Array{Float64,2}:\n",
       "  4.78253       4.78313    \n",
       " -2.86951e-6   -2.86987e-6 \n",
       "  1.14268       1.14295    \n",
       " -6.85609e-7   -6.8577e-7  \n",
       "  0.343885      0.344342   \n",
       " -2.06331e-7   -2.06605e-7 \n",
       "  0.117228      0.117362   \n",
       " -7.03368e-8   -7.04169e-8 \n",
       "  0.0360739     0.0361355  \n",
       " -2.16443e-8   -2.16813e-8 \n",
       "  0.00653548    0.00654705 \n",
       " -3.92128e-9   -3.92822e-9 \n",
       "  0.000938688   0.00095946 \n",
       "  ⋮                        \n",
       " -4.38444e-9    5.06654e-9 \n",
       "  2.63066e-15  -3.03992e-15\n",
       " -7.21307e-7    5.70432e-8 \n",
       "  4.32783e-13  -3.42259e-14\n",
       "  1.99896e-6    1.84447e-6 \n",
       " -1.19938e-12  -1.10668e-12\n",
       "  0.000109339   9.40314e-5 \n",
       " -6.56031e-11  -5.64188e-11\n",
       "  0.00463688    0.00463704 \n",
       " -2.78213e-9   -2.78222e-9 \n",
       "  0.255999      0.256048   \n",
       " -1.53599e-7   -1.53629e-7 "
      ]
     },
     "execution_count": 14,
     "metadata": {},
     "output_type": "execute_result"
    },
    {
     "name": "stdout",
     "output_type": "stream",
     "text": [
      "27282930"
     ]
    }
   ],
   "source": [
    "P, E = make_P_E_precond_1(S)\n",
    "[makeMat(S,stencilgmres(S, res, 50;maxiter = 100, M=(t->precond_1(P,E,t)))[1])[2] A\\b]"
   ]
  },
  {
   "cell_type": "code",
   "execution_count": 15,
   "metadata": {
    "collapsed": true
   },
   "outputs": [],
   "source": [
    "@btime A\\b;"
   ]
  },
  {
   "cell_type": "code",
   "execution_count": 16,
   "metadata": {},
   "outputs": [
    {
     "name": "stdout",
     "output_type": "stream",
     "text": [
      "  2.227 s (71 allocations: 401.71 MiB)\n",
      "  222.405 ms (4923 allocations: 205.58 MiB)\n"
     ]
    }
   ],
   "source": [
    "@btime stencilgmres(S, res, 50;maxiter = 100, M=(t->precond_1(P,E,t)))[1];"
   ]
  },
  {
   "cell_type": "code",
   "execution_count": 27,
   "metadata": {},
   "outputs": [
    {
     "data": {
      "text/plain": [
       "10×10×10 Array{StencilPoint{Float64,3,7},3}:\n",
       "[:, :, 1] =\n",
       " StencilPoint{Float64,3,7}((0.0, 0.0, 0.0, 0.0, 0.0, 0.0, 0.0))       …  StencilPoint{Float64,3,7}((0.0, 0.0, 0.0, -69.1686, 0.0, 0.0, 0.0))\n",
       " StencilPoint{Float64,3,7}((0.0, 0.0, 0.0, -59.9034, 0.0, 0.0, 0.0))     StencilPoint{Float64,3,7}((0.0, 0.0, 0.0, -54.1214, 0.0, 0.0, 0.0))\n",
       " StencilPoint{Float64,3,7}((0.0, 0.0, 0.0, -49.7132, 0.0, 0.0, 0.0))     StencilPoint{Float64,3,7}((0.0, 0.0, 0.0, -65.2503, 0.0, 0.0, 0.0))\n",
       " StencilPoint{Float64,3,7}((0.0, 0.0, 0.0, -47.2708, 0.0, 0.0, 0.0))     StencilPoint{Float64,3,7}((0.0, 0.0, 0.0, -69.0186, 0.0, 0.0, 0.0))\n",
       " StencilPoint{Float64,3,7}((0.0, 0.0, 0.0, -38.4883, 0.0, 0.0, 0.0))     StencilPoint{Float64,3,7}((0.0, 0.0, 0.0, -53.204, 0.0, 0.0, 0.0)) \n",
       " StencilPoint{Float64,3,7}((0.0, 0.0, 0.0, -35.1894, 0.0, 0.0, 0.0))  …  StencilPoint{Float64,3,7}((0.0, 0.0, 0.0, -32.2274, 0.0, 0.0, 0.0))\n",
       " StencilPoint{Float64,3,7}((0.0, 0.0, 0.0, -38.7386, 0.0, 0.0, 0.0))     StencilPoint{Float64,3,7}((0.0, 0.0, 0.0, -58.0834, 0.0, 0.0, 0.0))\n",
       " StencilPoint{Float64,3,7}((0.0, 0.0, 0.0, -33.5539, 0.0, 0.0, 0.0))     StencilPoint{Float64,3,7}((0.0, 0.0, 0.0, -60.8977, 0.0, 0.0, 0.0))\n",
       " StencilPoint{Float64,3,7}((0.0, 0.0, 0.0, -33.6211, 0.0, 0.0, 0.0))     StencilPoint{Float64,3,7}((0.0, 0.0, 0.0, -41.3673, 0.0, 0.0, 0.0))\n",
       " StencilPoint{Float64,3,7}((0.0, 0.0, 0.0, -31.3252, 0.0, 0.0, 0.0))     StencilPoint{Float64,3,7}((0.0, 0.0, 0.0, -27.7204, 0.0, 0.0, 0.0))\n",
       "\n",
       "[:, :, 2] =\n",
       " StencilPoint{Float64,3,7}((0.0, 0.0, 0.0, -27.7613, 0.0, 0.0, 0.0))  …  StencilPoint{Float64,3,7}((0.0, 0.0, 0.0, -53.109, 0.0, 0.0, 0.0)) \n",
       " StencilPoint{Float64,3,7}((0.0, 0.0, 0.0, -20.1282, 0.0, 0.0, 0.0))     StencilPoint{Float64,3,7}((0.0, 0.0, 0.0, -48.5592, 0.0, 0.0, 0.0))\n",
       " StencilPoint{Float64,3,7}((0.0, 0.0, 0.0, -23.7096, 0.0, 0.0, 0.0))     StencilPoint{Float64,3,7}((0.0, 0.0, 0.0, -57.4363, 0.0, 0.0, 0.0))\n",
       " StencilPoint{Float64,3,7}((0.0, 0.0, 0.0, -22.8137, 0.0, 0.0, 0.0))     StencilPoint{Float64,3,7}((0.0, 0.0, 0.0, -48.3801, 0.0, 0.0, 0.0))\n",
       " StencilPoint{Float64,3,7}((0.0, 0.0, 0.0, -27.1773, 0.0, 0.0, 0.0))     StencilPoint{Float64,3,7}((0.0, 0.0, 0.0, -48.1411, 0.0, 0.0, 0.0))\n",
       " StencilPoint{Float64,3,7}((0.0, 0.0, 0.0, -27.9954, 0.0, 0.0, 0.0))  …  StencilPoint{Float64,3,7}((0.0, 0.0, 0.0, -34.2213, 0.0, 0.0, 0.0))\n",
       " StencilPoint{Float64,3,7}((0.0, 0.0, 0.0, -18.2192, 0.0, 0.0, 0.0))     StencilPoint{Float64,3,7}((0.0, 0.0, 0.0, -31.3802, 0.0, 0.0, 0.0))\n",
       " StencilPoint{Float64,3,7}((0.0, 0.0, 0.0, -12.801, 0.0, 0.0, 0.0))      StencilPoint{Float64,3,7}((0.0, 0.0, 0.0, -27.1029, 0.0, 0.0, 0.0))\n",
       " StencilPoint{Float64,3,7}((0.0, 0.0, 0.0, -6.93064, 0.0, 0.0, 0.0))     StencilPoint{Float64,3,7}((0.0, 0.0, 0.0, -32.2855, 0.0, 0.0, 0.0))\n",
       " StencilPoint{Float64,3,7}((0.0, 0.0, 0.0, -28.9325, 0.0, 0.0, 0.0))     StencilPoint{Float64,3,7}((0.0, 0.0, 0.0, -38.0915, 0.0, 0.0, 0.0))\n",
       "\n",
       "[:, :, 3] =\n",
       " StencilPoint{Float64,3,7}((0.0, 0.0, 0.0, -46.2393, 0.0, 0.0, 0.0))  …  StencilPoint{Float64,3,7}((0.0, 0.0, 0.0, -61.048, 0.0, 0.0, 0.0)) \n",
       " StencilPoint{Float64,3,7}((0.0, 0.0, 0.0, -43.8509, 0.0, 0.0, 0.0))     StencilPoint{Float64,3,7}((0.0, 0.0, 0.0, -55.0723, 0.0, 0.0, 0.0))\n",
       " StencilPoint{Float64,3,7}((0.0, 0.0, 0.0, -40.9232, 0.0, 0.0, 0.0))     StencilPoint{Float64,3,7}((0.0, 0.0, 0.0, -42.9344, 0.0, 0.0, 0.0))\n",
       " StencilPoint{Float64,3,7}((0.0, 0.0, 0.0, -34.7566, 0.0, 0.0, 0.0))     StencilPoint{Float64,3,7}((0.0, 0.0, 0.0, -60.5868, 0.0, 0.0, 0.0))\n",
       " StencilPoint{Float64,3,7}((0.0, 0.0, 0.0, -35.4438, 0.0, 0.0, 0.0))     StencilPoint{Float64,3,7}((0.0, 0.0, 0.0, -54.7826, 0.0, 0.0, 0.0))\n",
       " StencilPoint{Float64,3,7}((0.0, 0.0, 0.0, -47.902, 0.0, 0.0, 0.0))   …  StencilPoint{Float64,3,7}((0.0, 0.0, 0.0, -74.5974, 0.0, 0.0, 0.0))\n",
       " StencilPoint{Float64,3,7}((0.0, 0.0, 0.0, -46.0655, 0.0, 0.0, 0.0))     StencilPoint{Float64,3,7}((0.0, 0.0, 0.0, -63.3916, 0.0, 0.0, 0.0))\n",
       " StencilPoint{Float64,3,7}((0.0, 0.0, 0.0, -45.1827, 0.0, 0.0, 0.0))     StencilPoint{Float64,3,7}((0.0, 0.0, 0.0, -59.7546, 0.0, 0.0, 0.0))\n",
       " StencilPoint{Float64,3,7}((0.0, 0.0, 0.0, -42.1119, 0.0, 0.0, 0.0))     StencilPoint{Float64,3,7}((0.0, 0.0, 0.0, -51.5984, 0.0, 0.0, 0.0))\n",
       " StencilPoint{Float64,3,7}((0.0, 0.0, 0.0, -36.0453, 0.0, 0.0, 0.0))     StencilPoint{Float64,3,7}((0.0, 0.0, 0.0, -40.9673, 0.0, 0.0, 0.0))\n",
       "\n",
       "[:, :, 4] =\n",
       " StencilPoint{Float64,3,7}((0.0, 0.0, 0.0, -75.908, 0.0, 0.0, 0.0))   …  StencilPoint{Float64,3,7}((0.0, 0.0, 0.0, -73.2222, 0.0, 0.0, 0.0))\n",
       " StencilPoint{Float64,3,7}((0.0, 0.0, 0.0, -81.7743, 0.0, 0.0, 0.0))     StencilPoint{Float64,3,7}((0.0, 0.0, 0.0, -60.3108, 0.0, 0.0, 0.0))\n",
       " StencilPoint{Float64,3,7}((0.0, 0.0, 0.0, -57.2825, 0.0, 0.0, 0.0))     StencilPoint{Float64,3,7}((0.0, 0.0, 0.0, -65.7656, 0.0, 0.0, 0.0))\n",
       " StencilPoint{Float64,3,7}((0.0, 0.0, 0.0, -36.0056, 0.0, 0.0, 0.0))     StencilPoint{Float64,3,7}((0.0, 0.0, 0.0, -69.3192, 0.0, 0.0, 0.0))\n",
       " StencilPoint{Float64,3,7}((0.0, 0.0, 0.0, -18.707, 0.0, 0.0, 0.0))      StencilPoint{Float64,3,7}((0.0, 0.0, 0.0, -60.8927, 0.0, 0.0, 0.0))\n",
       " StencilPoint{Float64,3,7}((0.0, 0.0, 0.0, -22.2375, 0.0, 0.0, 0.0))  …  StencilPoint{Float64,3,7}((0.0, 0.0, 0.0, -43.5481, 0.0, 0.0, 0.0))\n",
       " StencilPoint{Float64,3,7}((0.0, 0.0, 0.0, -21.5416, 0.0, 0.0, 0.0))     StencilPoint{Float64,3,7}((0.0, 0.0, 0.0, -46.1493, 0.0, 0.0, 0.0))\n",
       " StencilPoint{Float64,3,7}((0.0, 0.0, 0.0, -41.017, 0.0, 0.0, 0.0))      StencilPoint{Float64,3,7}((0.0, 0.0, 0.0, -42.2716, 0.0, 0.0, 0.0))\n",
       " StencilPoint{Float64,3,7}((0.0, 0.0, 0.0, -50.4063, 0.0, 0.0, 0.0))     StencilPoint{Float64,3,7}((0.0, 0.0, 0.0, -39.0877, 0.0, 0.0, 0.0))\n",
       " StencilPoint{Float64,3,7}((0.0, 0.0, 0.0, -42.8872, 0.0, 0.0, 0.0))     StencilPoint{Float64,3,7}((0.0, 0.0, 0.0, -37.5365, 0.0, 0.0, 0.0))\n",
       "\n",
       "[:, :, 5] =\n",
       " StencilPoint{Float64,3,7}((0.0, 0.0, 0.0, -47.7211, 0.0, 0.0, 0.0))  …  StencilPoint{Float64,3,7}((0.0, 0.0, 0.0, -23.1103, 0.0, 0.0, 0.0))\n",
       " StencilPoint{Float64,3,7}((0.0, 0.0, 0.0, -53.5568, 0.0, 0.0, 0.0))     StencilPoint{Float64,3,7}((0.0, 0.0, 0.0, -33.1161, 0.0, 0.0, 0.0))\n",
       " StencilPoint{Float64,3,7}((0.0, 0.0, 0.0, -61.763, 0.0, 0.0, 0.0))      StencilPoint{Float64,3,7}((0.0, 0.0, 0.0, -41.5626, 0.0, 0.0, 0.0))\n",
       " StencilPoint{Float64,3,7}((0.0, 0.0, 0.0, -58.6259, 0.0, 0.0, 0.0))     StencilPoint{Float64,3,7}((0.0, 0.0, 0.0, -39.6567, 0.0, 0.0, 0.0))\n",
       " StencilPoint{Float64,3,7}((0.0, 0.0, 0.0, -56.8176, 0.0, 0.0, 0.0))     StencilPoint{Float64,3,7}((0.0, 0.0, 0.0, -45.3702, 0.0, 0.0, 0.0))\n",
       " StencilPoint{Float64,3,7}((0.0, 0.0, 0.0, -61.5292, 0.0, 0.0, 0.0))  …  StencilPoint{Float64,3,7}((0.0, 0.0, 0.0, -49.2644, 0.0, 0.0, 0.0))\n",
       " StencilPoint{Float64,3,7}((0.0, 0.0, 0.0, -60.298, 0.0, 0.0, 0.0))      StencilPoint{Float64,3,7}((0.0, 0.0, 0.0, -46.4596, 0.0, 0.0, 0.0))\n",
       " StencilPoint{Float64,3,7}((0.0, 0.0, 0.0, -46.2671, 0.0, 0.0, 0.0))     StencilPoint{Float64,3,7}((0.0, 0.0, 0.0, -69.5567, 0.0, 0.0, 0.0))\n",
       " StencilPoint{Float64,3,7}((0.0, 0.0, 0.0, -48.5701, 0.0, 0.0, 0.0))     StencilPoint{Float64,3,7}((0.0, 0.0, 0.0, -87.7493, 0.0, 0.0, 0.0))\n",
       " StencilPoint{Float64,3,7}((0.0, 0.0, 0.0, -50.5488, 0.0, 0.0, 0.0))     StencilPoint{Float64,3,7}((0.0, 0.0, 0.0, -86.5835, 0.0, 0.0, 0.0))\n",
       "\n",
       "[:, :, 6] =\n",
       " StencilPoint{Float64,3,7}((0.0, 0.0, 0.0, -35.2197, 0.0, 0.0, 0.0))  …  StencilPoint{Float64,3,7}((0.0, 0.0, 0.0, -75.628, 0.0, 0.0, 0.0)) \n",
       " StencilPoint{Float64,3,7}((0.0, 0.0, 0.0, -55.4701, 0.0, 0.0, 0.0))     StencilPoint{Float64,3,7}((0.0, 0.0, 0.0, -80.5347, 0.0, 0.0, 0.0))\n",
       " StencilPoint{Float64,3,7}((0.0, 0.0, 0.0, -32.718, 0.0, 0.0, 0.0))      StencilPoint{Float64,3,7}((0.0, 0.0, 0.0, -69.0783, 0.0, 0.0, 0.0))\n",
       " StencilPoint{Float64,3,7}((0.0, 0.0, 0.0, -27.7513, 0.0, 0.0, 0.0))     StencilPoint{Float64,3,7}((0.0, 0.0, 0.0, -82.2965, 0.0, 0.0, 0.0))\n",
       " StencilPoint{Float64,3,7}((0.0, 0.0, 0.0, -41.412, 0.0, 0.0, 0.0))      StencilPoint{Float64,3,7}((0.0, 0.0, 0.0, -80.1009, 0.0, 0.0, 0.0))\n",
       " StencilPoint{Float64,3,7}((0.0, 0.0, 0.0, -56.0329, 0.0, 0.0, 0.0))  …  StencilPoint{Float64,3,7}((0.0, 0.0, 0.0, -68.4261, 0.0, 0.0, 0.0))\n",
       " StencilPoint{Float64,3,7}((0.0, 0.0, 0.0, -55.9651, 0.0, 0.0, 0.0))     StencilPoint{Float64,3,7}((0.0, 0.0, 0.0, -51.1172, 0.0, 0.0, 0.0))\n",
       " StencilPoint{Float64,3,7}((0.0, 0.0, 0.0, -48.7448, 0.0, 0.0, 0.0))     StencilPoint{Float64,3,7}((0.0, 0.0, 0.0, -39.0474, 0.0, 0.0, 0.0))\n",
       " StencilPoint{Float64,3,7}((0.0, 0.0, 0.0, -52.4152, 0.0, 0.0, 0.0))     StencilPoint{Float64,3,7}((0.0, 0.0, 0.0, -28.2719, 0.0, 0.0, 0.0))\n",
       " StencilPoint{Float64,3,7}((0.0, 0.0, 0.0, -62.0326, 0.0, 0.0, 0.0))     StencilPoint{Float64,3,7}((0.0, 0.0, 0.0, -45.2399, 0.0, 0.0, 0.0))\n",
       "\n",
       "[:, :, 7] =\n",
       " StencilPoint{Float64,3,7}((0.0, 0.0, 0.0, -6.80283, 0.0, 0.0, 0.0))  …  StencilPoint{Float64,3,7}((0.0, 0.0, 0.0, -30.828, 0.0, 0.0, 0.0)) \n",
       " StencilPoint{Float64,3,7}((0.0, 0.0, 0.0, -27.3398, 0.0, 0.0, 0.0))     StencilPoint{Float64,3,7}((0.0, 0.0, 0.0, -11.5076, 0.0, 0.0, 0.0))\n",
       " StencilPoint{Float64,3,7}((0.0, 0.0, 0.0, -41.7326, 0.0, 0.0, 0.0))     StencilPoint{Float64,3,7}((0.0, 0.0, 0.0, -2.25803, 0.0, 0.0, 0.0))\n",
       " StencilPoint{Float64,3,7}((0.0, 0.0, 0.0, -46.5558, 0.0, 0.0, 0.0))     StencilPoint{Float64,3,7}((0.0, 0.0, 0.0, -21.5978, 0.0, 0.0, 0.0))\n",
       " StencilPoint{Float64,3,7}((0.0, 0.0, 0.0, -37.0818, 0.0, 0.0, 0.0))     StencilPoint{Float64,3,7}((0.0, 0.0, 0.0, -9.90645, 0.0, 0.0, 0.0))\n",
       " StencilPoint{Float64,3,7}((0.0, 0.0, 0.0, -22.5859, 0.0, 0.0, 0.0))  …  StencilPoint{Float64,3,7}((0.0, 0.0, 0.0, -10.7377, 0.0, 0.0, 0.0))\n",
       " StencilPoint{Float64,3,7}((0.0, 0.0, 0.0, -62.4973, 0.0, 0.0, 0.0))     StencilPoint{Float64,3,7}((0.0, 0.0, 0.0, -18.5804, 0.0, 0.0, 0.0))\n",
       " StencilPoint{Float64,3,7}((0.0, 0.0, 0.0, -62.4973, 0.0, 0.0, 0.0))     StencilPoint{Float64,3,7}((0.0, 0.0, 0.0, -16.9649, 0.0, 0.0, 0.0))\n",
       " StencilPoint{Float64,3,7}((0.0, 0.0, 0.0, -13.1713, 0.0, 0.0, 0.0))     StencilPoint{Float64,3,7}((0.0, 0.0, 0.0, -16.4977, 0.0, 0.0, 0.0))\n",
       " StencilPoint{Float64,3,7}((0.0, 0.0, 0.0, -8.87837, 0.0, 0.0, 0.0))     StencilPoint{Float64,3,7}((0.0, 0.0, 0.0, -62.4973, 0.0, 0.0, 0.0))\n",
       "\n",
       "[:, :, 8] =\n",
       " StencilPoint{Float64,3,7}((0.0, 0.0, 0.0, -44.6146, 0.0, 0.0, 0.0))  …  StencilPoint{Float64,3,7}((0.0, 0.0, 0.0, -25.8451, 0.0, 0.0, 0.0))\n",
       " StencilPoint{Float64,3,7}((0.0, 0.0, 0.0, -41.8494, 0.0, 0.0, 0.0))     StencilPoint{Float64,3,7}((0.0, 0.0, 0.0, -18.4486, 0.0, 0.0, 0.0))\n",
       " StencilPoint{Float64,3,7}((0.0, 0.0, 0.0, -30.3987, 0.0, 0.0, 0.0))     StencilPoint{Float64,3,7}((0.0, 0.0, 0.0, -21.7072, 0.0, 0.0, 0.0))\n",
       " StencilPoint{Float64,3,7}((0.0, 0.0, 0.0, -34.2895, 0.0, 0.0, 0.0))     StencilPoint{Float64,3,7}((0.0, 0.0, 0.0, -13.1944, 0.0, 0.0, 0.0))\n",
       " StencilPoint{Float64,3,7}((0.0, 0.0, 0.0, -37.8484, 0.0, 0.0, 0.0))     StencilPoint{Float64,3,7}((0.0, 0.0, 0.0, -13.596, 0.0, 0.0, 0.0)) \n",
       " StencilPoint{Float64,3,7}((0.0, 0.0, 0.0, -23.538, 0.0, 0.0, 0.0))   …  StencilPoint{Float64,3,7}((0.0, 0.0, 0.0, -16.3199, 0.0, 0.0, 0.0))\n",
       " StencilPoint{Float64,3,7}((0.0, 0.0, 0.0, -37.075, 0.0, 0.0, 0.0))      StencilPoint{Float64,3,7}((0.0, 0.0, 0.0, -38.7943, 0.0, 0.0, 0.0))\n",
       " StencilPoint{Float64,3,7}((0.0, 0.0, 0.0, -45.1062, 0.0, 0.0, 0.0))     StencilPoint{Float64,3,7}((0.0, 0.0, 0.0, -50.7681, 0.0, 0.0, 0.0))\n",
       " StencilPoint{Float64,3,7}((0.0, 0.0, 0.0, -61.7823, 0.0, 0.0, 0.0))     StencilPoint{Float64,3,7}((0.0, 0.0, 0.0, -64.3263, 0.0, 0.0, 0.0))\n",
       " StencilPoint{Float64,3,7}((0.0, 0.0, 0.0, -67.3674, 0.0, 0.0, 0.0))     StencilPoint{Float64,3,7}((0.0, 0.0, 0.0, -67.5693, 0.0, 0.0, 0.0))\n",
       "\n",
       "[:, :, 9] =\n",
       " StencilPoint{Float64,3,7}((0.0, 0.0, 0.0, -62.4414, 0.0, 0.0, 0.0))  …  StencilPoint{Float64,3,7}((0.0, 0.0, 0.0, -34.9751, 0.0, 0.0, 0.0))\n",
       " StencilPoint{Float64,3,7}((0.0, 0.0, 0.0, -69.2208, 0.0, 0.0, 0.0))     StencilPoint{Float64,3,7}((0.0, 0.0, 0.0, -56.3701, 0.0, 0.0, 0.0))\n",
       " StencilPoint{Float64,3,7}((0.0, 0.0, 0.0, -52.9387, 0.0, 0.0, 0.0))     StencilPoint{Float64,3,7}((0.0, 0.0, 0.0, -43.8653, 0.0, 0.0, 0.0))\n",
       " StencilPoint{Float64,3,7}((0.0, 0.0, 0.0, -73.0753, 0.0, 0.0, 0.0))     StencilPoint{Float64,3,7}((0.0, 0.0, 0.0, -60.8111, 0.0, 0.0, 0.0))\n",
       " StencilPoint{Float64,3,7}((0.0, 0.0, 0.0, -67.4237, 0.0, 0.0, 0.0))     StencilPoint{Float64,3,7}((0.0, 0.0, 0.0, -69.9254, 0.0, 0.0, 0.0))\n",
       " StencilPoint{Float64,3,7}((0.0, 0.0, 0.0, -67.2943, 0.0, 0.0, 0.0))  …  StencilPoint{Float64,3,7}((0.0, 0.0, 0.0, -79.2241, 0.0, 0.0, 0.0))\n",
       " StencilPoint{Float64,3,7}((0.0, 0.0, 0.0, -62.8192, 0.0, 0.0, 0.0))     StencilPoint{Float64,3,7}((0.0, 0.0, 0.0, -71.2494, 0.0, 0.0, 0.0))\n",
       " StencilPoint{Float64,3,7}((0.0, 0.0, 0.0, -59.3803, 0.0, 0.0, 0.0))     StencilPoint{Float64,3,7}((0.0, 0.0, 0.0, -46.0396, 0.0, 0.0, 0.0))\n",
       " StencilPoint{Float64,3,7}((0.0, 0.0, 0.0, -62.8757, 0.0, 0.0, 0.0))     StencilPoint{Float64,3,7}((0.0, 0.0, 0.0, -66.2437, 0.0, 0.0, 0.0))\n",
       " StencilPoint{Float64,3,7}((0.0, 0.0, 0.0, -52.3484, 0.0, 0.0, 0.0))     StencilPoint{Float64,3,7}((0.0, 0.0, 0.0, -65.3294, 0.0, 0.0, 0.0))\n",
       "\n",
       "[:, :, 10] =\n",
       " StencilPoint{Float64,3,7}((0.0, 0.0, 0.0, -42.566, 0.0, 0.0, 0.0))   …  StencilPoint{Float64,3,7}((0.0, 0.0, 0.0, -41.0157, 0.0, 0.0, 0.0))\n",
       " StencilPoint{Float64,3,7}((0.0, 0.0, 0.0, -32.398, 0.0, 0.0, 0.0))      StencilPoint{Float64,3,7}((0.0, 0.0, 0.0, -30.6468, 0.0, 0.0, 0.0))\n",
       " StencilPoint{Float64,3,7}((0.0, 0.0, 0.0, -28.8497, 0.0, 0.0, 0.0))     StencilPoint{Float64,3,7}((0.0, 0.0, 0.0, -24.2861, 0.0, 0.0, 0.0))\n",
       " StencilPoint{Float64,3,7}((0.0, 0.0, 0.0, -56.0801, 0.0, 0.0, 0.0))     StencilPoint{Float64,3,7}((0.0, 0.0, 0.0, -28.5053, 0.0, 0.0, 0.0))\n",
       " StencilPoint{Float64,3,7}((0.0, 0.0, 0.0, -58.7725, 0.0, 0.0, 0.0))     StencilPoint{Float64,3,7}((0.0, 0.0, 0.0, -36.1891, 0.0, 0.0, 0.0))\n",
       " StencilPoint{Float64,3,7}((0.0, 0.0, 0.0, -41.1804, 0.0, 0.0, 0.0))  …  StencilPoint{Float64,3,7}((0.0, 0.0, 0.0, -35.811, 0.0, 0.0, 0.0)) \n",
       " StencilPoint{Float64,3,7}((0.0, 0.0, 0.0, -22.5012, 0.0, 0.0, 0.0))     StencilPoint{Float64,3,7}((0.0, 0.0, 0.0, -30.569, 0.0, 0.0, 0.0)) \n",
       " StencilPoint{Float64,3,7}((0.0, 0.0, 0.0, -12.9654, 0.0, 0.0, 0.0))     StencilPoint{Float64,3,7}((0.0, 0.0, 0.0, -44.2181, 0.0, 0.0, 0.0))\n",
       " StencilPoint{Float64,3,7}((0.0, 0.0, 0.0, -8.55526, 0.0, 0.0, 0.0))     StencilPoint{Float64,3,7}((0.0, 0.0, 0.0, -59.7681, 0.0, 0.0, 0.0))\n",
       " StencilPoint{Float64,3,7}((0.0, 0.0, 0.0, -26.7588, 0.0, 0.0, 0.0))     StencilPoint{Float64,3,7}((0.0, 0.0, 0.0, -62.9932, 0.0, 0.0, 0.0))"
      ]
     },
     "execution_count": 27,
     "metadata": {},
     "output_type": "execute_result"
    }
   ],
   "source": [
    "copy(S.stencils[1].v)"
   ]
  },
  {
   "cell_type": "code",
   "execution_count": 14,
   "metadata": {},
   "outputs": [
    {
     "name": "stdout",
     "output_type": "stream",
     "text": [
      "Maxiter1234567891011121314151617181920212223242526272829303132333435363738394041424344454647484950Maxiter"
     ]
    },
    {
     "data": {
      "text/plain": [
       "(([1.20221 0.0155233 … 0.0002062 0.216146; 0.0508008 0.00132094 … 2.38001e-6 0.00162351; … ; 0.00677367 5.60053e-5 … 2.92822e-9 0.000244327; 0.517697 0.00282254 … 5.5633e-7 0.00773988]\n",
       "\n",
       "[0.21167 0.000446788 … 6.14339e-5 0.0832938; 0.000960587 2.65519e-6 … 2.6e-7 0.000260355; … ; 0.0121484 8.55462e-5 … 1.46207e-5 0.19853; 0.62753 0.00515055 … -2.79422e-5 0.00794715]\n",
       "\n",
       "[0.462681 0.00945582 … 0.00108315 0.318598; 0.00489233 3.88565e-5 … 4.38265e-5 0.00439446; … ; 0.00119033 2.95777e-6 … 2.4271 11.0862; 0.191957 0.000338699 … 4.19743 22.2826]\n",
       "\n",
       "...\n",
       "\n",
       "[0.126915 0.000284819 … 0.000133136 0.134086; 0.000482181 1.22562e-5 … 2.74754e-7 0.000364434; … ; 0.000790004 6.09342e-7 … 1.44982e-9 1.11458e-5; 0.17955 0.000225184 … 4.02452e-6 0.0248586]\n",
       "\n",
       "[0.403002 0.00226058 … 0.0224684 0.711456; 0.0062423 8.43763e-5 … 0.000829331 0.0167447; … ; 0.152178 0.00588768 … 1.75186e-8 5.78982e-5; 2.25291 0.0654098 … 1.04825e-5 0.0394993]\n",
       "\n",
       "[0.197113 0.000331293 … 0.033743 1.75657; 0.00135765 3.76227e-6 … 0.00677994 0.126882; … ; 0.0981741 0.00223085 … 1.01424e-8 1.57537e-5; 1.63366 0.0134848 … 5.30052e-6 0.0208102], [-1.69664e-5 -4.48677e-7 … -9.85588e-9 -3.8537e-6; -1.49783e-6 -5.88401e-8 … -1.75552e-10 -5.16593e-8; … ; -1.77907e-7 -2.36301e-9 … -7.46322e-13 -4.95483e-8; -5.4002e-6 -6.80862e-8 … -4.38152e-11 -9.65234e-7]\n",
       "\n",
       "[-6.8113e-6 -2.58395e-8 … -6.48709e-9 1.17472e-6; -9.23178e-8 -3.27103e-10 … -3.71074e-11 1.79874e-6; … ; -4.99302e-7 -7.06958e-9 … -3.13129e-9 -1.21418e-5; -1.1296e-5 -1.98945e-7 … 2.73558e-5 -4.1983e-7]\n",
       "\n",
       "[-1.03921e-5 -4.35194e-7 … -4.90076e-8 -9.1323e-6; -2.10586e-7 -5.03023e-9 … -2.42771e-9 -1.96552e-7; … ; -7.24833e-8 -2.64643e-10 … -4.29938e-5 -0.000111959; -4.77913e-6 2.24687e-6 … -5.81267e-5 -6.16182e-5]\n",
       "\n",
       "...\n",
       "\n",
       "[-4.90342e-6 -1.21751e-8 … -1.12691e-8 -3.72601e-6; -5.67633e-8 -1.03671e-9 … -7.17895e-11 -2.75166e-8; … ; -5.88543e-8 -1.12495e-10 … -6.22848e-13 1.25603e-7; 1.41226e-6 -1.38115e-8 … -3.69274e-10 -9.39945e-7]\n",
       "\n",
       "[-7.33481e-6 -6.87359e-8 … -5.13784e-7 -2.37912e-6; -2.07435e-7 -3.97146e-9 … -3.28813e-8 -4.33403e-7; … ; -3.60327e-6 -1.9706e-7 … -2.80077e-12 3.30264e-8; -2.11838e-5 -1.44414e-6 … -1.25701e-9 -1.42256e-6]\n",
       "\n",
       "[-5.02922e-6 -1.06437e-7 … -5.84147e-7 -1.48182e-5; -4.34163e-8 -2.64564e-10 … -2.15916e-7 -2.85142e-6; … ; -2.68617e-6 -1.22355e-7 … -7.42661e-13 4.02508e-9; -2.37987e-5 -4.43511e-7 … -8.40901e-10 -3.14165e-6]), true, 50, 0.24164683269715112)"
      ]
     },
     "execution_count": 14,
     "metadata": {},
     "output_type": "execute_result"
    }
   ],
   "source": [
    "stencilgmres(S, res, 10; maxiter = 2);\n",
    "stencilgmres(S, res, 50; maxiter = 50, ifprint = true)"
   ]
  },
  {
   "cell_type": "code",
   "execution_count": 12,
   "metadata": {},
   "outputs": [
    {
     "ename": "LoadError",
     "evalue": "\u001b[91mtype Array has no field stencils\u001b[39m",
     "output_type": "error",
     "traceback": [
      "\u001b[91mtype Array has no field stencils\u001b[39m",
      "",
      "Stacktrace:",
      " [1] \u001b[1msize\u001b[22m\u001b[22m\u001b[1m(\u001b[22m\u001b[22m::MStencil{4,Float64,3,7,Array{StencilPoint{Float64,3,7},3}}\u001b[1m)\u001b[22m\u001b[22m at \u001b[1m/Users/sw2030/Desktop/gitrep/Reservoirnew/src/Stencil.jl:90\u001b[22m\u001b[22m"
     ]
    }
   ],
   "source": [
    "size(MS)"
   ]
  },
  {
   "cell_type": "code",
   "execution_count": 4,
   "metadata": {},
   "outputs": [
    {
     "name": "stdout",
     "output_type": "stream",
     "text": [
      "1err = 0.9997939012500243\n",
      "err = 0.9954068258048525\n",
      "err = 0.9951458361638809\n",
      "err = 0.9936307687403124\n",
      "err = 0.9928169581880413\n",
      "err = 0.9926474750995732\n",
      "err = 0.9915639948315504\n",
      "err = 0.9914440431844781\n",
      "err = 0.9914378991429444\n",
      "err = 0.9910615062012847\n",
      "err = 0.9908541087416148\n",
      "err = 0.9907517287817268\n",
      "err = 0.9897773992503682\n",
      "err = 0.9895015118621919\n",
      "err = 0.9894971613853115\n",
      "err = 0.9883965149022487\n",
      "err = 0.9883963917655052\n",
      "err = 0.9882258980322327\n",
      "err = 0.9882224422805925\n",
      "err = 0.9879986370989304\n",
      "i = 20\n",
      "2err = 0.9879985374062222\n",
      "err = 0.9879978344085032\n",
      "err = 0.9879973993260532\n",
      "err = 0.9879970410903276\n",
      "err = 0.9879937077731804\n",
      "err = 0.9879903528514292\n",
      "err = 0.9879874531687651\n",
      "err = 0.9879852831049356\n",
      "err = 0.9879852669430024\n",
      "err = 0.9879851508620324\n",
      "err = 0.9879723723154112\n",
      "err = 0.9879720688754997\n",
      "err = 0.9879687325591583\n",
      "err = 0.9879250564746404\n",
      "err = 0.9879250478711832\n",
      "err = 0.9878872065958169\n",
      "err = 0.9878330395702917\n",
      "err = 0.9877650415809099\n",
      "err = 0.9877649647588866\n",
      "err = 0.9877649626059143\n",
      "i = 20\n",
      "3err = 0.987764962605463\n",
      "err = 0.9877649625991141\n",
      "err = 0.9877649443973051\n",
      "err = 0.9877646940888101\n",
      "err = 0.9877637172267334\n",
      "err = 0.9877629410308966\n",
      "err = 0.9877627231895836\n",
      "err = 0.9877626096173738\n",
      "err = 0.9877618136732927\n",
      "err = 0.9877610191507653\n",
      "err = 0.9877609951655313\n",
      "err = 0.9877595095781041\n",
      "err = 0.987757420218472\n",
      "err = 0.9877571995187371\n",
      "err = 0.9877546963357019\n",
      "err = 0.9877496151386227\n",
      "err = 0.9877493532831741\n",
      "err = 0.987749343678409\n",
      "err = 0.9877493403793294\n",
      "err = 0.9877466490794565\n",
      "i = 20\n",
      "4err = 0.9877466482017251\n",
      "err = 0.987746643394366\n",
      "err = 0.9877466338063863\n",
      "err = 0.9877466311774007\n",
      "err = 0.9877466170221298\n",
      "err = 0.9877465234174242\n",
      "err = 0.9877463335311897\n",
      "err = 0.9877463176746639\n",
      "err = 0.9877463160774825\n",
      "err = 0.987746316075926\n",
      "err = 0.9877462614066755\n",
      "err = 0.9877461905290075\n",
      "err = 0.987746186188268\n",
      "err = 0.9877461331535956\n",
      "err = 0.9877460962809214\n",
      "err = 0.9877458987265311\n",
      "err = 0.98774540351263\n",
      "err = 0.9877448240191045\n",
      "err = 0.9877448240136689\n",
      "err = 0.9877448238489417\n",
      "i = 20\n",
      "5err = 0.9877448238488886\n",
      "err = 0.9877448238485695\n",
      "err = 0.9877448236045065\n",
      "err = 0.9877448208654498\n",
      "err = 0.9877448122707654\n",
      "err = 0.9877448074555943\n",
      "err = 0.9877448065621816\n",
      "err = 0.9877448048881307\n",
      "err = 0.9877447908005181\n",
      "err = 0.987744782069539\n",
      "err = 0.9877447820525582\n",
      "err = 0.9877447701112119\n",
      "err = 0.9877447642478363\n",
      "err = 0.9877447591530986\n",
      "err = 0.9877447291511099\n",
      "err = 0.9877446984664707\n",
      "err = 0.9877446982502806\n",
      "err = 0.9877446978274397\n",
      "err = 0.9877446940634111\n",
      "err = 0.9877446176957505\n",
      "i = 20\n",
      "6err = 0.9877446176702364\n",
      "err = 0.9877446175147174\n",
      "err = 0.9877446171743195\n",
      "err = 0.9877446170787798\n",
      "err = 0.9877446169206237\n",
      "err = 0.9877446156252779\n",
      "err = 0.9877446121609448\n",
      "err = 0.9877446116802626\n",
      "err = 0.9877446116700629\n",
      "err = 0.9877446116161261\n",
      "err = 0.9877446112902233\n",
      "err = 0.987744609551985\n",
      "err = 0.9877446093398183\n",
      "err = 0.9877446093214787\n",
      "err = 0.9877446083612632\n",
      "err = 0.9877446073831535\n",
      "err = 0.9877446019017334\n",
      "err = 0.9877445922887744\n",
      "err = 0.9877445921168979\n",
      "err = 0.9877445920920833\n",
      "i = 20\n",
      "7err = 0.9877445920920751\n",
      "err = 0.9877445920920719\n",
      "err = 0.9877445920860802\n",
      "err = 0.9877445920349158\n",
      "err = 0.987744591919676\n",
      "err = 0.9877445918759765\n",
      "err = 0.9877445918666167\n",
      "err = 0.9877445918065771\n",
      "err = 0.9877445915266746\n",
      "err = 0.9877445914288352\n",
      "err = 0.9877445914150951\n",
      "err = 0.9877445912557683\n",
      "err = 0.9877445912447455\n",
      "err = 0.9877445910853005\n",
      "err = 0.9877445906391166\n",
      "err = 0.9877445904097559\n",
      "err = 0.9877445904034956\n",
      "err = 0.9877445904028885\n",
      "err = 0.9877445901739055\n",
      "err = 0.9877445886921086\n",
      "i = 20\n",
      "8err = 0.9877445886916109\n",
      "err = 0.9877445886881312\n",
      "err = 0.9877445886797183\n",
      "err = 0.9877445886766446\n",
      "err = 0.9877445886741423\n",
      "err = 0.9877445886545586\n",
      "err = 0.9877445885896184\n",
      "err = 0.9877445885742451\n",
      "err = 0.9877445885742432\n",
      "err = 0.9877445885712053\n",
      "err = 0.9877445885697322\n",
      "err = 0.9877445885358777\n",
      "err = 0.9877445885209373\n",
      "err = 0.9877445885195392\n",
      "err = 0.9877445885021822\n",
      "err = 0.987744588497755\n",
      "err = 0.9877445884233437\n",
      "err = 0.9877445882344352\n",
      "err = 0.98774458821932\n",
      "err = 0.9877445882191384\n",
      "i = 20\n",
      "9err = 0.9877445882191376\n",
      "err = 0.987744588219134\n",
      "err = 0.9877445882189321\n",
      "err = 0.987744588217736\n",
      "err = 0.9877445882157314\n",
      "err = 0.9877445882151072\n",
      "err = 0.9877445882148377\n",
      "err = 0.9877445882128355\n",
      "err = 0.9877445882071024\n",
      "err = 0.9877445882059022\n",
      "err = 0.9877445882052187\n",
      "err = 0.9877445882027778\n",
      "err = 0.9877445882027563\n",
      "err = 0.987744588198352\n",
      "err = 0.9877445881906758\n",
      "err = 0.9877445881886476\n",
      "err = 0.9877445881883055\n",
      "err = 0.987744588188211\n",
      "err = 0.9877445881799799\n",
      "err = 0.987744588151163\n",
      "i = 20\n",
      "10err = 0.9877445881511534\n",
      "err = 0.9877445881510777\n",
      "err = 0.9877445881508781\n",
      "err = 0.987744588150785\n",
      "err = 0.9877445881507296\n",
      "err = 0.9877445881503797\n",
      "err = 0.9877445881490671\n",
      "err = 0.9877445881486165\n",
      "err = 0.9877445881486119\n",
      "err = 0.9877445881485251\n",
      "err = 0.9877445881485232\n",
      "err = 0.9877445881478838\n",
      "err = 0.9877445881473866\n",
      "err = 0.9877445881472734\n",
      "err = 0.987744588146996\n",
      "err = 0.9877445881469799\n",
      "err = 0.98774458814579\n",
      "err = 0.9877445881418312\n",
      "err = 0.9877445881411655\n",
      "err = 0.9877445881411626\n",
      "i = 20\n",
      "Maxiter12345678910"
     ]
    },
    {
     "data": {
      "text/plain": [
       "2000-element Array{Float64,1}:\n",
       " -0.0749149 \n",
       " -0.0422493 \n",
       "  0.0841599 \n",
       "  0.0207504 \n",
       "  0.00321868\n",
       "  0.00777148\n",
       " -0.0223852 \n",
       " -0.0188686 \n",
       "  0.00595329\n",
       " -0.0237498 \n",
       " -0.0843836 \n",
       "  0.0937775 \n",
       "  0.00776936\n",
       "  ⋮         \n",
       " -0.0180669 \n",
       "  0.0380765 \n",
       " -0.0202584 \n",
       " -0.0417904 \n",
       " -0.0212453 \n",
       "  0.0145253 \n",
       " -0.0333214 \n",
       " -0.0213456 \n",
       "  0.00623446\n",
       " -0.0175035 \n",
       "  0.0078331 \n",
       " -0.0265742 "
      ]
     },
     "execution_count": 4,
     "metadata": {},
     "output_type": "execute_result"
    }
   ],
   "source": [
    "makeMat(MS,stencilgmres(MS, MG, 20;maxiter = 10, ifprint = true)[1])[2]"
   ]
  },
  {
   "cell_type": "code",
   "execution_count": 57,
   "metadata": {},
   "outputs": [
    {
     "data": {
      "text/plain": [
       "NTuple{4,Stencil{Float64,3,7,Array{StencilPoint{Float64,3,7},3}}}"
      ]
     },
     "execution_count": 57,
     "metadata": {},
     "output_type": "execute_result"
    }
   ],
   "source": [
    "typeof(copy.(MS.stencils))"
   ]
  },
  {
   "cell_type": "code",
   "execution_count": 51,
   "metadata": {},
   "outputs": [
    {
     "data": {
      "text/plain": [
       "([-1.31923 -0.123991 … 0.534291 -2.0578; -0.814667 -0.249064 … 0.591402 -0.490671; … ; -0.65574 0.760428 … -0.546413 1.72392; 1.48862 0.0218855 … 0.583777 -1.33209], [-1.88802, -0.188801, -1.63993, 1.1481, -0.418581, 0.455082, -0.527945, -0.315263, -0.957555, 0.0059597])"
      ]
     },
     "execution_count": 51,
     "metadata": {},
     "output_type": "execute_result"
    }
   ],
   "source": [
    "AA, bb = randn(10, 10), randn(10)"
   ]
  },
  {
   "cell_type": "code",
   "execution_count": 52,
   "metadata": {},
   "outputs": [
    {
     "data": {
      "text/plain": [
       "10×2 Array{Float64,2}:\n",
       " -1.93898    -1.93898  \n",
       " -2.77214    -2.77214  \n",
       " -2.27786    -2.27786  \n",
       "  3.42226     3.42226  \n",
       " -4.4766     -4.4766   \n",
       "  3.10701     3.10701  \n",
       " -5.96119    -5.96119  \n",
       " -1.82043    -1.82043  \n",
       " -2.29521    -2.29521  \n",
       "  0.0259148   0.0259148"
      ]
     },
     "execution_count": 52,
     "metadata": {},
     "output_type": "execute_result"
    }
   ],
   "source": [
    "[gmres(AA,bb) AA\\bb]"
   ]
  },
  {
   "cell_type": "code",
   "execution_count": 53,
   "metadata": {},
   "outputs": [
    {
     "data": {
      "text/plain": [
       "([-1.93898, -2.77214, -2.27786, 3.42226, -4.4766, 3.10701, -5.96119, -1.82043, -2.29521, 0.0259148], Converged after 10 iterations.)"
      ]
     },
     "execution_count": 53,
     "metadata": {},
     "output_type": "execute_result"
    }
   ],
   "source": [
    "g = gmres(AA,bb,log=true)"
   ]
  },
  {
   "cell_type": "code",
   "execution_count": 78,
   "metadata": {},
   "outputs": [
    {
     "data": {
      "text/plain": [
       "(0.0, 0.0, 0.0, 0.0, 0.0, 0.0, 0.0)"
      ]
     },
     "execution_count": 78,
     "metadata": {},
     "output_type": "execute_result"
    }
   ],
   "source": [
    "zero.(MS.stencils[1].v[1,1,1].value)"
   ]
  },
  {
   "cell_type": "code",
   "execution_count": 73,
   "metadata": {},
   "outputs": [
    {
     "ename": "LoadError",
     "evalue": "\u001b[91mMethodError: no method matching zero(::Type{StencilPoint{Float64,3,7}})\u001b[0m\nClosest candidates are:\n  zero(\u001b[91m::Type{Base.LibGit2.GitHash}\u001b[39m) at libgit2/oid.jl:106\n  zero(\u001b[91m::Type{Base.Pkg.Resolve.VersionWeights.VWPreBuildItem}\u001b[39m) at pkg/resolve/versionweight.jl:82\n  zero(\u001b[91m::Type{Base.Pkg.Resolve.VersionWeights.VWPreBuild}\u001b[39m) at pkg/resolve/versionweight.jl:124\n  ...\u001b[39m",
     "output_type": "error",
     "traceback": [
      "\u001b[91mMethodError: no method matching zero(::Type{StencilPoint{Float64,3,7}})\u001b[0m\nClosest candidates are:\n  zero(\u001b[91m::Type{Base.LibGit2.GitHash}\u001b[39m) at libgit2/oid.jl:106\n  zero(\u001b[91m::Type{Base.Pkg.Resolve.VersionWeights.VWPreBuildItem}\u001b[39m) at pkg/resolve/versionweight.jl:82\n  zero(\u001b[91m::Type{Base.Pkg.Resolve.VersionWeights.VWPreBuild}\u001b[39m) at pkg/resolve/versionweight.jl:124\n  ...\u001b[39m",
      "",
      "Stacktrace:",
      " [1] \u001b[1mzero\u001b[22m\u001b[22m\u001b[1m(\u001b[22m\u001b[22m::Array{StencilPoint{Float64,3,7},3}\u001b[1m)\u001b[22m\u001b[22m at \u001b[1m./abstractarray.jl:751\u001b[22m\u001b[22m"
     ]
    }
   ],
   "source": [
    "zero(MS.stencils[1].v)"
   ]
  },
  {
   "cell_type": "code",
   "execution_count": 13,
   "metadata": {},
   "outputs": [
    {
     "name": "stdout",
     "output_type": "stream",
     "text": [
      "  879.155 μs (7 allocations: 512.22 KiB)\n"
     ]
    }
   ],
   "source": [
    "@btime MS*MG;"
   ]
  },
  {
   "cell_type": "code",
   "execution_count": 14,
   "metadata": {},
   "outputs": [
    {
     "name": "stdout",
     "output_type": "stream",
     "text": [
      "  1.284 ms (3 allocations: 512.09 KiB)\n"
     ]
    }
   ],
   "source": [
    "@btime S*res;"
   ]
  },
  {
   "cell_type": "code",
   "execution_count": 15,
   "metadata": {},
   "outputs": [
    {
     "name": "stdout",
     "output_type": "stream",
     "text": [
      "  1.066 ms (2 allocations: 421.95 KiB)\n"
     ]
    }
   ],
   "source": [
    "@btime A*b;"
   ]
  },
  {
   "cell_type": "code",
   "execution_count": 12,
   "metadata": {},
   "outputs": [
    {
     "data": {
      "text/plain": [
       "foo (generic function with 1 method)"
      ]
     },
     "execution_count": 12,
     "metadata": {},
     "output_type": "execute_result"
    }
   ],
   "source": [
    "function foo()\n",
    "    return @SMatrix randn(2,2)\n",
    "end"
   ]
  },
  {
   "cell_type": "code",
   "execution_count": 14,
   "metadata": {},
   "outputs": [
    {
     "data": {
      "text/plain": [
       "10×10 Array{Array{Float64,1},2}:\n",
       " [0.314401, -0.0799212]  [0.505599, 0.0175951]  …  [0.254485, 0.322601]  \n",
       " [0.157529, -0.119121]   [0.0383127, -1.73656]     [0.972311, -0.469056] \n",
       " [0.500642, 1.7119]      [0.178486, 1.42389]       [0.986214, 1.37098]   \n",
       " [0.892355, 0.0504945]   [0.358363, -1.18361]      [0.797798, 0.549769]  \n",
       " [0.0617927, -0.849304]  [0.711402, -0.593403]     [0.280364, 0.847639]  \n",
       " [0.106406, 0.397941]    [0.305274, 0.389831]   …  [0.337157, 0.189709]  \n",
       " [0.677132, 0.7204]      [0.187651, 0.124382]      [0.322896, -0.0136615]\n",
       " [0.2235, 0.0771046]     [0.475923, 0.318287]      [0.975416, 0.612834]  \n",
       " [0.740718, -1.3764]     [0.443906, -0.70001]      [0.632388, -1.66328]  \n",
       " [0.279127, -0.113086]   [0.891373, 0.862388]      [0.699649, 2.55048]   "
      ]
     },
     "execution_count": 14,
     "metadata": {},
     "output_type": "execute_result"
    }
   ],
   "source": [
    "[[rand(), randn()] for i in 1:10, j in 1:10]"
   ]
  },
  {
   "cell_type": "code",
   "execution_count": 20,
   "metadata": {},
   "outputs": [
    {
     "ename": "LoadError",
     "evalue": "\u001b[91mMethodError: no method matching -(::Tuple{Int64,Int64,Int64}, ::Tuple{Int64,Int64,Int64})\u001b[39m",
     "output_type": "error",
     "traceback": [
      "\u001b[91mMethodError: no method matching -(::Tuple{Int64,Int64,Int64}, ::Tuple{Int64,Int64,Int64})\u001b[39m",
      "",
      "Stacktrace:",
      " [1] \u001b[1mcolon\u001b[22m\u001b[22m\u001b[1m(\u001b[22m\u001b[22m::Tuple{Int64,Int64,Int64}, ::Tuple{Int64,Int64,Int64}\u001b[1m)\u001b[22m\u001b[22m at \u001b[1m./range.jl:9\u001b[22m\u001b[22m",
      " [2] \u001b[1manonymous\u001b[22m\u001b[22m at \u001b[1m./<missing>:?\u001b[22m\u001b[22m"
     ]
    }
   ],
   "source": [
    "for i in (1,1,1):size(x)\n",
    "    println(i)\n",
    "end"
   ]
  },
  {
   "cell_type": "code",
   "execution_count": 8,
   "metadata": {},
   "outputs": [
    {
     "name": "stderr",
     "output_type": "stream",
     "text": [
      "┌ Warning: Deprecated syntax `parametric method syntax fullm{TS}(S::Stencil{TS, 3, 7}, G)` around In[8]:2.\n",
      "│ Use `fullm(S::Stencil{TS, 3, 7}, G) where TS` instead.\n",
      "└ @ In[8]:2\n"
     ]
    },
    {
     "data": {
      "text/plain": [
       "fullm (generic function with 1 method)"
      ]
     },
     "execution_count": 8,
     "metadata": {},
     "output_type": "execute_result"
    }
   ],
   "source": [
    "function fullm{TS}(S::Stencil{TS,3,7}, G)\n",
    "    nx, ny, nz = size(S)\n",
    "    SS = spzeros(nx*ny*nz, nx*ny*nz)\n",
    "    GG = zeros(nx*ny*nz)\n",
    "    for i in 1:nx, j in 1:ny, k in 1:nz\n",
    "        nd = (i-1)*ny*nz+(j-1)*nz+k\n",
    "        Sv = S.v[i,j,k]\n",
    "        SS[nd,nd] += Sv.value[4]\n",
    "        GG[nd] += G[i,j,k]\n",
    "        if i!=1  SS[nd,nd-ny*nz] = Sv.value[1] end\n",
    "        if i!=nx SS[nd,nd+ny*nz] = Sv.value[7] end\n",
    "        if j!=1  SS[nd,nd-nz] = Sv.value[2] end\n",
    "        if j!=nx SS[nd,nd+nz] = Sv.value[6] end\n",
    "        if k!=1  SS[nd,nd-1]  = Sv.value[3] end\n",
    "        if k!=ny SS[nd,nd+1]  = Sv.value[5] end\n",
    "    end\n",
    "    return SS, GG\n",
    "end"
   ]
  },
  {
   "cell_type": "code",
   "execution_count": 3,
   "metadata": {
    "collapsed": true
   },
   "outputs": [],
   "source": [
    "N = 50\n",
    "Sarray = Array{StencilPoint{Float64,3,7},3}(N, N, N);\n",
    "for i in 1:N, j in 1:N, k in 1:N\n",
    "    spt = randn(7).*rand([zeros(1);1.0],7)\n",
    "    if i==1 spt[1] = 0.0 end\n",
    "    if j==1 spt[2] = 0.0 end\n",
    "    if k==1 spt[3] = 0.0 end\n",
    "    if k==N spt[5] = 0.0 end\n",
    "    if j==N spt[6] = 0.0 end\n",
    "    if i==N spt[7] = 0.0 end\n",
    "    sindex = Int64[] \n",
    "    for m in 1:7\n",
    "        if spt[m] != 0.0 push!(sindex,m) end\n",
    "    end\n",
    "    si = Tuple(sindex)\n",
    "    spt = Tuple(spt)\n",
    "    Sarray[i,j,k] = StencilPoint{Float64,3,7}(spt)#,si,length(sindex))\n",
    "end\n",
    "S1 = Stencil{Float64,3,7,typeof(Sarray)}(Sarray);\n",
    "G1 = makegrid(randn(N,N,N),7)\n",
    "SA, GA = fullm(S1, G1);"
   ]
  },
  {
   "cell_type": "code",
   "execution_count": 4,
   "metadata": {
    "collapsed": true
   },
   "outputs": [],
   "source": [
    "S = MStencil{4,Float64,3,7,Array{StencilPoint{Float64,3,7},3}}((S1,copy(S1),copy(S1),copy(S1)));"
   ]
  },
  {
   "cell_type": "code",
   "execution_count": 5,
   "metadata": {
    "collapsed": true,
    "scrolled": true
   },
   "outputs": [],
   "source": [
    "G = MGrid{2,Float64,3,7,Array{Float64,3}}((G1, copy(G1)));\n",
    "G_zero = MGrid{2,Float64,3,7,Array{Float64,3}}((makegrid(zeros(N,N,N),7),makegrid(zeros(N,N,N),7)));"
   ]
  },
  {
   "cell_type": "code",
   "execution_count": 6,
   "metadata": {},
   "outputs": [
    {
     "name": "stdout",
     "output_type": "stream",
     "text": [
      "  3.971 ms (0 allocations: 0 bytes)\n"
     ]
    }
   ],
   "source": [
    "@btime A_mul_B!(S, G, G_zero);"
   ]
  },
  {
   "cell_type": "code",
   "execution_count": 7,
   "metadata": {},
   "outputs": [
    {
     "name": "stdout",
     "output_type": "stream",
     "text": [
      "  4.149 ms (7 allocations: 2.15 MiB)\n"
     ]
    }
   ],
   "source": [
    "@btime S*G;"
   ]
  },
  {
   "cell_type": "code",
   "execution_count": 8,
   "metadata": {},
   "outputs": [
    {
     "name": "stdout",
     "output_type": "stream",
     "text": [
      "  186.582 μs (7 allocations: 2.15 MiB)\n"
     ]
    }
   ],
   "source": [
    "@btime zero(G);"
   ]
  },
  {
   "cell_type": "code",
   "execution_count": 7,
   "metadata": {},
   "outputs": [
    {
     "name": "stdout",
     "output_type": "stream",
     "text": [
      "  1.087 ms (3 allocations: 1.07 MiB)\n"
     ]
    }
   ],
   "source": [
    "@btime S1*G1;"
   ]
  },
  {
   "cell_type": "code",
   "execution_count": 30,
   "metadata": {},
   "outputs": [
    {
     "name": "stdout",
     "output_type": "stream",
     "text": [
      "  1.489 ms (2 allocations: 976.64 KiB)\n"
     ]
    }
   ],
   "source": [
    "@btime (SA*GA);"
   ]
  },
  {
   "cell_type": "code",
   "execution_count": 8,
   "metadata": {},
   "outputs": [
    {
     "data": {
      "text/html": [
       "zero<i>{T, N, P, S}</i>(x::<b>Tuple{Vararg{Grid{T,N,P,S},2}}</b>) at <a href=\"https://github.com/sw2030/Reservoirnew/tree/331132d643b976f6c0591ee439adc15a474e41eb//src/Stencil.jl#L74\" target=\"_blank\">/Users/sw2030/Desktop/gitrep/Reservoirnew/src/Stencil.jl:74</a>"
      ],
      "text/plain": [
       "zero(x::Tuple{Vararg{Grid{T,N,P,S},2}}) where {T, N, P, S} in Main at /Users/sw2030/Desktop/gitrep/Reservoirnew/src/Stencil.jl:74"
      ]
     },
     "execution_count": 8,
     "metadata": {},
     "output_type": "execute_result"
    }
   ],
   "source": [
    "@which zero(G)"
   ]
  },
  {
   "cell_type": "code",
   "execution_count": 7,
   "metadata": {
    "collapsed": true
   },
   "outputs": [],
   "source": [
    "Base.zero(x::MGrid{2,Float64,3,7,Array{Float64,3}})      = MGrid{M,T,N,P,S}(zero(x[1]), zero(x[1]))\n"
   ]
  },
  {
   "cell_type": "code",
   "execution_count": 10,
   "metadata": {},
   "outputs": [
    {
     "data": {
      "text/plain": [
       "Tuple{Grid{Float64,3,7,Array{Float64,3}},Grid{Float64,3,7,Array{Float64,3}}}"
      ]
     },
     "execution_count": 10,
     "metadata": {},
     "output_type": "execute_result"
    }
   ],
   "source": [
    "typeof(G)"
   ]
  },
  {
   "cell_type": "markdown",
   "metadata": {},
   "source": [
    "# Back to original , Float64"
   ]
  },
  {
   "cell_type": "code",
   "execution_count": 9,
   "metadata": {},
   "outputs": [
    {
     "name": "stderr",
     "output_type": "stream",
     "text": [
      "WARNING: Base.spzeros is deprecated: it has been moved to the standard library package `SparseArrays`.\n",
      "Add `using SparseArrays` to your imports.\n",
      "  likely near In[9]:16\n",
      "WARNING: Base.spzeros is deprecated: it has been moved to the standard library package `SparseArrays`.\n",
      "Add `using SparseArrays` to your imports.\n",
      "  likely near In[9]:16\n",
      "WARNING: Base.spzeros is deprecated: it has been moved to the standard library package `SparseArrays`.\n",
      "Add `using SparseArrays` to your imports.\n",
      "  likely near In[9]:16\n"
     ]
    },
    {
     "data": {
      "text/plain": [
       "0.49933255813953487"
      ]
     },
     "execution_count": 9,
     "metadata": {},
     "output_type": "execute_result"
    }
   ],
   "source": [
    "N = 50\n",
    "Sarray = Array{StencilPoint{Float64,3,7},3}(undef, N, N, N);\n",
    "for i in 1:N, j in 1:N, k in 1:N\n",
    "    spt = randn(7).*rand([zeros(1);1.0],7)\n",
    "    if i==1 spt[1] = 0.0 end\n",
    "    if j==1 spt[2] = 0.0 end\n",
    "    if k==1 spt[3] = 0.0 end\n",
    "    if k==N spt[5] = 0.0 end\n",
    "    if j==N spt[6] = 0.0 end\n",
    "    if i==N spt[7] = 0.0 end\n",
    "    spt = Tuple(spt)\n",
    "    Sarray[i,j,k] = StencilPoint{Float64,3,7}(spt)\n",
    "end\n",
    "S1 = Stencil{Float64,3,7,typeof(Sarray)}(Sarray);\n",
    "G1 = makegrid(randn(N,N,N),7)\n",
    "SA, GA = fullm(S1, G1);\n",
    "length(SA.nzval)/(N*N*N*7-6*N*N)"
   ]
  },
  {
   "cell_type": "code",
   "execution_count": 10,
   "metadata": {},
   "outputs": [
    {
     "name": "stdout",
     "output_type": "stream",
     "text": [
      "  2.817 ms (3 allocations: 1.07 MiB)\n"
     ]
    }
   ],
   "source": [
    "@btime S1*G1;"
   ]
  },
  {
   "cell_type": "code",
   "execution_count": 11,
   "metadata": {},
   "outputs": [
    {
     "name": "stdout",
     "output_type": "stream",
     "text": [
      "  1.348 ms (2 allocations: 976.64 KiB)\n"
     ]
    }
   ],
   "source": [
    "@btime SA*GA;"
   ]
  },
  {
   "cell_type": "code",
   "execution_count": 74,
   "metadata": {},
   "outputs": [
    {
     "data": {
      "text/plain": [
       "(429451, 125000)"
      ]
     },
     "execution_count": 74,
     "metadata": {},
     "output_type": "execute_result"
    }
   ],
   "source": [
    "length(SA.nzval), length(GA)"
   ]
  },
  {
   "cell_type": "markdown",
   "metadata": {},
   "source": [
    "# Compare 4dim with 3dim-Sparse"
   ]
  },
  {
   "cell_type": "code",
   "execution_count": 2,
   "metadata": {},
   "outputs": [
    {
     "data": {
      "text/plain": [
       "makeMat (generic function with 1 method)"
      ]
     },
     "execution_count": 2,
     "metadata": {},
     "output_type": "execute_result"
    }
   ],
   "source": [
    "function makeMat(S, res)\n",
    "    Nx, Ny, Nz = size(S)\n",
    "    N = Nx*Ny*Nz\n",
    "    Nxy = Nx*Ny\n",
    "    A = spzeros(2N,2N)\n",
    "    b = zeros(2N)\n",
    "    for i in 1:Nx, j in 1:Ny, k in 1:Nz\n",
    "        nd = (k-1)*Nxy+(j-1)*Nx+i\n",
    "        A[(2*nd-1):2*nd, (2*nd-1):2*nd] .= S[i,j,k].value[4]\n",
    "        if i!=1  \n",
    "            A[(2*nd-1):2*nd, (2*nd-3):(2*nd-2)]           .= S[i,j,k].value[1] \n",
    "        end\n",
    "        if j!=1  \n",
    "            A[(2*nd-1):2*nd, (2*nd-2*Nx-1):(2*nd-2*Nx)]   .= S[i,j,k].value[2]\n",
    "        end  \n",
    "        if k!=1  \n",
    "            A[(2*nd-1):2*nd, (2*nd-2*Nxy-1):(2*nd-2*Nxy)] .= S[i,j,k].value[3] \n",
    "        end\n",
    "        if k!=Nz \n",
    "            A[(2*nd-1):2*nd, (2*nd+2*Nxy-1):(2*nd+2*Nxy)] .= S[i,j,k].value[5] \n",
    "        end\n",
    "        if j!=Ny \n",
    "            A[(2*nd-1):2*nd, (2*nd+2*Nx-1):(2*nd+2*Nx)]   .= S[i,j,k].value[6] \n",
    "        end\n",
    "        if i!=Nx \n",
    "            A[(2*nd-1):2*nd, (2*nd+1):(2*nd+2)]           .= S[i,j,k].value[7] \n",
    "        end\n",
    "        b[(2*nd-1):(2*nd)] = res[i,j,k]\n",
    "        if (j==1)&&(k==1) print(i) end\n",
    "    end    \n",
    "    return A, b\n",
    "end"
   ]
  },
  {
   "cell_type": "code",
   "execution_count": 3,
   "metadata": {},
   "outputs": [
    {
     "data": {
      "text/plain": [
       "(30, 30, 30)"
      ]
     },
     "execution_count": 3,
     "metadata": {},
     "output_type": "execute_result"
    }
   ],
   "source": [
    "mm = 30\n",
    "Nx, Ny, Nz = mm, mm, mm"
   ]
  },
  {
   "cell_type": "code",
   "execution_count": 4,
   "metadata": {
    "collapsed": true
   },
   "outputs": [],
   "source": [
    "fullstencilarray = Array{StencilPoint{StaticArrays.SArray{Tuple{2,2},Float64,2,4},3,7}, 3}(Nx, Ny, Nz);\n",
    "for i in 1:Nx, j in 1:Ny, k in 1:Nz\n",
    "    ss = [randn(2,2).*rand([zeros(1);ones(2)],2,2) for m in 1:7]\n",
    "    ss = Tuple(SMatrix{2,2}.(ss))\n",
    "    fullstencilarray[i,j,k] = StencilPoint{StaticArrays.SArray{Tuple{2,2},Float64,2,4},3,7}(ss)\n",
    "end\n",
    "fullS = Stencil{StaticArrays.SArray{Tuple{2,2},Float64,2,4},3,7,typeof(fullstencilarray)}(fullstencilarray)\n",
    "fullresarray = [@SVector randn(2) for i in 1:Nx, j in 1:Ny, k in 1:Nz]\n",
    "fullres = makegrid(fullresarray, 7);\n",
    "fullres_copy = makegrid(fullresarray,7);"
   ]
  },
  {
   "cell_type": "code",
   "execution_count": 25,
   "metadata": {},
   "outputs": [
    {
     "ename": "LoadError",
     "evalue": "\u001b[91mMethodError: Cannot `convert` an object of type Array{MStencilPoint{4,Float64,3,7},3} to an object of type NTuple{4,Stencil{Float64,3,7,Array{MStencilPoint{4,Float64,3,7},3}}}\nThis may have arisen from a call to the constructor NTuple{4,Stencil{Float64,3,7,Array{MStencilPoint{4,Float64,3,7},3}}}(...),\nsince type constructors fall back to convert methods.\u001b[39m",
     "output_type": "error",
     "traceback": [
      "\u001b[91mMethodError: Cannot `convert` an object of type Array{MStencilPoint{4,Float64,3,7},3} to an object of type NTuple{4,Stencil{Float64,3,7,Array{MStencilPoint{4,Float64,3,7},3}}}\nThis may have arisen from a call to the constructor NTuple{4,Stencil{Float64,3,7,Array{MStencilPoint{4,Float64,3,7},3}}}(...),\nsince type constructors fall back to convert methods.\u001b[39m",
      "",
      "Stacktrace:",
      " [1] \u001b[1mMStencil{4,Float64,3,7,Array{MStencilPoint{4,Float64,3,7},3}}\u001b[22m\u001b[22m\u001b[1m(\u001b[22m\u001b[22m::Array{MStencilPoint{4,Float64,3,7},3}\u001b[1m)\u001b[22m\u001b[22m at \u001b[1m/Users/sw2030/Desktop/gitrep/Reservoirnew/src/Stencil.jl:32\u001b[22m\u001b[22m"
     ]
    }
   ],
   "source": [
    "fullmstencilarray = Array{MStencilPoint{4,Float64,3,7}, 3}(Nx, Ny, Nz);\n",
    "for i in 1:Nx, j in 1:Ny, k in 1:Nz\n",
    "    ss = [StencilPoint{Float64,3,7}(Tuple(randn(7))) for dim in 1:4]\n",
    "    ss = Tuple(ss)\n",
    "    fullmstencilarray[i,j,k] = MStencilPoint{4,Float64,3,7}(ss)\n",
    "end\n",
    "fullmS = MStencil{4,Float64,3,7,typeof(fullmstencilarray)}(fullmstencilarray);"
   ]
  },
  {
   "cell_type": "code",
   "execution_count": 26,
   "metadata": {
    "collapsed": true
   },
   "outputs": [],
   "source": [
    "rA1, rA2 = randn(Nx, Ny, Nz), randn(Nx, Ny, Nz)\n",
    "rAz1, rAz2 = zeros(Nx, Ny, Nz), zeros(Nx, Ny, Nz)\n",
    "mres = (makegrid(rA1,7),makegrid(rA2,7));\n",
    "mres_zero = (makegrid(rAz1,7), makegrid(rAz2,7));"
   ]
  },
  {
   "cell_type": "code",
   "execution_count": 27,
   "metadata": {},
   "outputs": [
    {
     "ename": "LoadError",
     "evalue": "\u001b[91mUndefVarError: fullmS not defined\u001b[39m",
     "output_type": "error",
     "traceback": [
      "\u001b[91mUndefVarError: fullmS not defined\u001b[39m",
      "",
      "Stacktrace:",
      " [1] \u001b[1m##core#739\u001b[22m\u001b[22m\u001b[1m(\u001b[22m\u001b[22m\u001b[1m)\u001b[22m\u001b[22m at \u001b[1m/Users/sw2030/.julia/v0.6/BenchmarkTools/src/execution.jl:316\u001b[22m\u001b[22m",
      " [2] \u001b[1m##sample#740\u001b[22m\u001b[22m\u001b[1m(\u001b[22m\u001b[22m::BenchmarkTools.Parameters\u001b[1m)\u001b[22m\u001b[22m at \u001b[1m/Users/sw2030/.julia/v0.6/BenchmarkTools/src/execution.jl:322\u001b[22m\u001b[22m",
      " [3] \u001b[1m#_run#118\u001b[22m\u001b[22m\u001b[1m(\u001b[22m\u001b[22m::Bool, ::String, ::Array{Any,1}, ::Function, ::BenchmarkTools.Benchmark{Symbol(\"##benchmark#738\")}, ::BenchmarkTools.Parameters\u001b[1m)\u001b[22m\u001b[22m at \u001b[1m/Users/sw2030/.julia/v0.6/BenchmarkTools/src/execution.jl:350\u001b[22m\u001b[22m",
      " [4] \u001b[1m(::BenchmarkTools.#kw##_run)\u001b[22m\u001b[22m\u001b[1m(\u001b[22m\u001b[22m::Array{Any,1}, ::BenchmarkTools.#_run, ::BenchmarkTools.Benchmark{Symbol(\"##benchmark#738\")}, ::BenchmarkTools.Parameters\u001b[1m)\u001b[22m\u001b[22m at \u001b[1m./<missing>:0\u001b[22m\u001b[22m",
      " [5] \u001b[1manonymous\u001b[22m\u001b[22m at \u001b[1m./<missing>:?\u001b[22m\u001b[22m",
      " [6] \u001b[1m#run_result#19\u001b[22m\u001b[22m\u001b[1m(\u001b[22m\u001b[22m::Array{Any,1}, ::Function, ::BenchmarkTools.Benchmark{Symbol(\"##benchmark#738\")}, ::BenchmarkTools.Parameters\u001b[1m)\u001b[22m\u001b[22m at \u001b[1m/Users/sw2030/.julia/v0.6/BenchmarkTools/src/execution.jl:44\u001b[22m\u001b[22m",
      " [7] \u001b[1m(::BenchmarkTools.#kw##run_result)\u001b[22m\u001b[22m\u001b[1m(\u001b[22m\u001b[22m::Array{Any,1}, ::BenchmarkTools.#run_result, ::BenchmarkTools.Benchmark{Symbol(\"##benchmark#738\")}, ::BenchmarkTools.Parameters\u001b[1m)\u001b[22m\u001b[22m at \u001b[1m./<missing>:0\u001b[22m\u001b[22m",
      " [8] \u001b[1m#run#21\u001b[22m\u001b[22m\u001b[1m(\u001b[22m\u001b[22m::Array{Any,1}, ::Function, ::BenchmarkTools.Benchmark{Symbol(\"##benchmark#738\")}, ::BenchmarkTools.Parameters\u001b[1m)\u001b[22m\u001b[22m at \u001b[1m/Users/sw2030/.julia/v0.6/BenchmarkTools/src/execution.jl:67\u001b[22m\u001b[22m",
      " [9] \u001b[1m(::Base.#kw##run)\u001b[22m\u001b[22m\u001b[1m(\u001b[22m\u001b[22m::Array{Any,1}, ::Base.#run, ::BenchmarkTools.Benchmark{Symbol(\"##benchmark#738\")}, ::BenchmarkTools.Parameters\u001b[1m)\u001b[22m\u001b[22m at \u001b[1m./<missing>:0\u001b[22m\u001b[22m",
      " [10] \u001b[1mwarmup\u001b[22m\u001b[22m\u001b[1m(\u001b[22m\u001b[22m::BenchmarkTools.Benchmark{Symbol(\"##benchmark#738\")}\u001b[1m)\u001b[22m\u001b[22m at \u001b[1m/Users/sw2030/.julia/v0.6/BenchmarkTools/src/execution.jl:100\u001b[22m\u001b[22m"
     ]
    }
   ],
   "source": [
    "@btime A_mul_B!(1.0, fullmS, mres, 0.0, mres_zero);"
   ]
  },
  {
   "cell_type": "code",
   "execution_count": 32,
   "metadata": {},
   "outputs": [
    {
     "name": "stdout",
     "output_type": "stream",
     "text": [
      "123456789101112131415161718192021222324252627282930\n",
      "0.6476441798941799\n"
     ]
    }
   ],
   "source": [
    "fullA, fullb, fullA2, fullb2 = makeMat(fullS,fullres);\n",
    "println()\n",
    "println(length(fullA.nzval)/(mm*mm*mm*4*7))"
   ]
  },
  {
   "cell_type": "code",
   "execution_count": 33,
   "metadata": {},
   "outputs": [
    {
     "name": "stdout",
     "output_type": "stream",
     "text": [
      "  1.264 ms (3 allocations: 512.09 KiB)\n"
     ]
    }
   ],
   "source": [
    "@btime fullS*fullres;"
   ]
  },
  {
   "cell_type": "code",
   "execution_count": 34,
   "metadata": {},
   "outputs": [
    {
     "name": "stdout",
     "output_type": "stream",
     "text": [
      "  964.724 μs (2 allocations: 421.95 KiB)\n"
     ]
    }
   ],
   "source": [
    "@btime fullA*fullb;"
   ]
  },
  {
   "cell_type": "code",
   "execution_count": 73,
   "metadata": {},
   "outputs": [
    {
     "data": {
      "text/plain": [
       "(367659, 54000)"
      ]
     },
     "execution_count": 73,
     "metadata": {},
     "output_type": "execute_result"
    }
   ],
   "source": [
    "length(fullA.nzval), length(fullb)"
   ]
  },
  {
   "cell_type": "code",
   "execution_count": 22,
   "metadata": {},
   "outputs": [
    {
     "data": {
      "text/plain": [
       "NTuple{4,Int64}"
      ]
     },
     "execution_count": 22,
     "metadata": {},
     "output_type": "execute_result"
    }
   ],
   "source": [
    "typeof((1,2, 3, 4))"
   ]
  },
  {
   "cell_type": "code",
   "execution_count": 80,
   "metadata": {},
   "outputs": [
    {
     "data": {
      "text/plain": [
       "4-element Array{Int64,1}:\n",
       "  1\n",
       "  4\n",
       "  9\n",
       " 16"
      ]
     },
     "execution_count": 80,
     "metadata": {},
     "output_type": "execute_result"
    }
   ],
   "source": [
    "a = [i^2 for i in 1:4]"
   ]
  },
  {
   "cell_type": "code",
   "execution_count": 79,
   "metadata": {},
   "outputs": [
    {
     "ename": "LoadError",
     "evalue": "\u001b[91mMethodError: no method matching getindex(::Base.Generator{UnitRange{Int64},##124#125}, ::Int64)\u001b[39m",
     "output_type": "error",
     "traceback": [
      "\u001b[91mMethodError: no method matching getindex(::Base.Generator{UnitRange{Int64},##124#125}, ::Int64)\u001b[39m",
      ""
     ]
    }
   ],
   "source": [
    "a[1]"
   ]
  },
  {
   "cell_type": "code",
   "execution_count": 41,
   "metadata": {},
   "outputs": [
    {
     "data": {
      "text/plain": [
       "2-element StaticArrays.SArray{Tuple{2},Float64,1,2}:\n",
       " -0.81267\n",
       "  1.07531"
      ]
     },
     "execution_count": 41,
     "metadata": {},
     "output_type": "execute_result"
    }
   ],
   "source": [
    "@SVector randn(2)"
   ]
  },
  {
   "cell_type": "code",
   "execution_count": 14,
   "metadata": {},
   "outputs": [
    {
     "data": {
      "text/html": [
       "*(A::<b>StaticArrays.StaticArray{Tuple{N,M},T,2} where T where M where N</b>, B::<b>StaticArrays.StaticArray{Tuple{N},T,1} where T where N</b>) at <a href=\"https://github.com/JuliaArrays/StaticArrays.jl/tree/b454bc9131333da153f49182c7829c385fb2a6f5//src/matrix_multiply.jl#L39\" target=\"_blank\">/Users/sw2030/.julia/v0.6/StaticArrays/src/matrix_multiply.jl:39</a>"
      ],
      "text/plain": [
       "*(A::StaticArrays.StaticArray{Tuple{N,M},T,2} where T where M where N, B::StaticArrays.StaticArray{Tuple{N},T,1} where T where N) in StaticArrays at /Users/sw2030/.julia/v0.6/StaticArrays/src/matrix_multiply.jl:39"
      ]
     },
     "execution_count": 14,
     "metadata": {},
     "output_type": "execute_result"
    }
   ],
   "source": [
    "@which @SMatrix(randn(2,2))*@SVector(rand(2))"
   ]
  },
  {
   "cell_type": "code",
   "execution_count": 41,
   "metadata": {
    "collapsed": true
   },
   "outputs": [],
   "source": [
    "sa = [@SMatrix(randn(2,2)).*@SMatrix(eye(2)) for i in 1:1000, j in 1:1000];\n",
    "a = [sa[i,j]*eye(2) for i in 1:1000, j in 1:1000];\n",
    "spa = sparse.(a);"
   ]
  },
  {
   "cell_type": "code",
   "execution_count": 29,
   "metadata": {},
   "outputs": [
    {
     "data": {
      "text/plain": [
       "foo (generic function with 1 method)"
      ]
     },
     "execution_count": 29,
     "metadata": {},
     "output_type": "execute_result"
    }
   ],
   "source": [
    "function foo(A)\n",
    "    r = 0\n",
    "    for i in 1:1000, j in 1:1000\n",
    "        tmp = A[i,j]\n",
    "        for k in 1:4\n",
    "            r += tmp[k]\n",
    "        end\n",
    "    end\n",
    "    return r\n",
    "end"
   ]
  },
  {
   "cell_type": "code",
   "execution_count": 44,
   "metadata": {},
   "outputs": [
    {
     "name": "stdout",
     "output_type": "stream",
     "text": [
      "  195.200 ms (12000000 allocations: 183.11 MiB)\n"
     ]
    },
    {
     "data": {
      "text/plain": [
       "-653.1241589310317"
      ]
     },
     "execution_count": 44,
     "metadata": {},
     "output_type": "execute_result"
    }
   ],
   "source": [
    "@btime foo(a)"
   ]
  },
  {
   "cell_type": "code",
   "execution_count": 45,
   "metadata": {},
   "outputs": [
    {
     "name": "stdout",
     "output_type": "stream",
     "text": [
      "  125.438 ms (12000000 allocations: 183.11 MiB)\n"
     ]
    },
    {
     "data": {
      "text/plain": [
       "-653.1241589310317"
      ]
     },
     "execution_count": 45,
     "metadata": {},
     "output_type": "execute_result"
    }
   ],
   "source": [
    "@btime foo(sa)"
   ]
  },
  {
   "cell_type": "code",
   "execution_count": 46,
   "metadata": {},
   "outputs": [
    {
     "name": "stdout",
     "output_type": "stream",
     "text": [
      "  442.056 ms (12000000 allocations: 183.11 MiB)\n"
     ]
    },
    {
     "data": {
      "text/plain": [
       "-653.1241589310317"
      ]
     },
     "execution_count": 46,
     "metadata": {},
     "output_type": "execute_result"
    }
   ],
   "source": [
    "@btime foo(spa)"
   ]
  },
  {
   "cell_type": "code",
   "execution_count": 27,
   "metadata": {},
   "outputs": [
    {
     "data": {
      "text/plain": [
       "foo3 (generic function with 1 method)"
      ]
     },
     "execution_count": 27,
     "metadata": {},
     "output_type": "execute_result"
    }
   ],
   "source": [
    "function foo1(a,n)\n",
    "    tmp = 0.0\n",
    "    for i in 1:n, j in 1:n, k in 1:n\n",
    "        tmp += a[i,j,k]\n",
    "    end\n",
    "    return tmp;\n",
    "end\n",
    "function foo2(a,n)\n",
    "    tmp = 0.0\n",
    "    for k in 1:n, j in 1:n, i in 1:n\n",
    "        tmp += a[i,j,k]\n",
    "    end\n",
    "    return tmp;\n",
    "end\n",
    "function foo3(a,n)\n",
    "    tmp = 0.0\n",
    "    for i in 1:n\n",
    "        tmp += a[i]\n",
    "    end\n",
    "    return tmp;\n",
    "end\n",
    "    "
   ]
  },
  {
   "cell_type": "code",
   "execution_count": 18,
   "metadata": {
    "collapsed": true
   },
   "outputs": [],
   "source": [
    "mya = randn(100, 100, 100);"
   ]
  },
  {
   "cell_type": "code",
   "execution_count": 29,
   "metadata": {},
   "outputs": [
    {
     "name": "stdout",
     "output_type": "stream",
     "text": [
      "  2.839 ms (1 allocation: 16 bytes)\n"
     ]
    },
    {
     "data": {
      "text/plain": [
       "-1504.7182898589022"
      ]
     },
     "execution_count": 29,
     "metadata": {},
     "output_type": "execute_result"
    }
   ],
   "source": [
    "@btime foo1(mya,100)"
   ]
  },
  {
   "cell_type": "code",
   "execution_count": 30,
   "metadata": {},
   "outputs": [
    {
     "name": "stdout",
     "output_type": "stream",
     "text": [
      "  946.720 μs (1 allocation: 16 bytes)\n"
     ]
    },
    {
     "data": {
      "text/plain": [
       "-1504.718289858917"
      ]
     },
     "execution_count": 30,
     "metadata": {},
     "output_type": "execute_result"
    }
   ],
   "source": [
    "@btime foo2(mya,100)"
   ]
  },
  {
   "cell_type": "code",
   "execution_count": 31,
   "metadata": {},
   "outputs": [
    {
     "name": "stdout",
     "output_type": "stream",
     "text": [
      "  936.017 μs (1 allocation: 16 bytes)\n"
     ]
    },
    {
     "data": {
      "text/plain": [
       "-1504.718289858917"
      ]
     },
     "execution_count": 31,
     "metadata": {},
     "output_type": "execute_result"
    }
   ],
   "source": [
    "@btime foo3(mya, 1000000)"
   ]
  },
  {
   "cell_type": "code",
   "execution_count": null,
   "metadata": {
    "collapsed": true
   },
   "outputs": [],
   "source": []
  },
  {
   "cell_type": "code",
   "execution_count": null,
   "metadata": {
    "collapsed": true
   },
   "outputs": [],
   "source": []
  },
  {
   "cell_type": "code",
   "execution_count": null,
   "metadata": {
    "collapsed": true
   },
   "outputs": [],
   "source": []
  },
  {
   "cell_type": "code",
   "execution_count": null,
   "metadata": {
    "collapsed": true
   },
   "outputs": [],
   "source": []
  },
  {
   "cell_type": "code",
   "execution_count": 35,
   "metadata": {
    "collapsed": true
   },
   "outputs": [],
   "source": [
    "permdata = open(\"spe_perm.dat\")\n",
    "phidata  = open(\"spe_phi.dat\")\n",
    "raw1 = readdlm(phidata)\n",
    "raw2 = readdlm(permdata)\n",
    "close(permdata)\n",
    "close(phidata)\n",
    "porosity = reshape(raw1', 60, 220, 85)\n",
    "lineperm = reshape(raw2', 3366000, 1)\n",
    "kx = reshape(lineperm[1:1122000]', 60, 220, 85)\n",
    "ky = reshape(lineperm[1122001:2244000]', 60, 220, 85)\n",
    "kz = reshape(lineperm[2244001:end]', 60, 220, 85)\n",
    "savepor = copy(porosity)\n",
    "## Porosity pre-processing\n",
    "for id in eachindex(porosity)\n",
    "    if abs(porosity[id])<1e-3\n",
    "        porosity[id] = 0.2\n",
    "        kx[id], ky[id], kz[id] = 1e-10, 1e-10, 1e-10\n",
    "    end\n",
    "end\n",
    "kraw = [SVector{3,Float64}([kx[i,j,k], ky[i,j,k], kz[i,j,k]]) for i in 1:60, j in 1:220, k in 1:85];"
   ]
  },
  {
   "cell_type": "code",
   "execution_count": 37,
   "metadata": {
    "collapsed": true
   },
   "outputs": [],
   "source": [
    "Nx = 30\n",
    "Ny = 30\n",
    "Nz = 30\n",
    "offsetx = 1\n",
    "offsety = 1\n",
    "offsetz = 1;"
   ]
  },
  {
   "cell_type": "code",
   "execution_count": 38,
   "metadata": {
    "collapsed": true
   },
   "outputs": [],
   "source": [
    "p_ref = 14.7 \n",
    "C_r   = 3e-6\n",
    "ϕ_ref = 0.2\n",
    "#=everywhere=# ϕ     = porosity[offsetx:(Nx+offsetx-1), offsety:(Ny+offsety-1), offsetz:(Nz+offsetz-1)]\n",
    "S_wc, S_or = 0.2, 0.2\n",
    "k_r_w(x)   = ((x-S_wc)/(1-S_wc-S_or))^2\n",
    "k_r_o(x)   = (1 - (x-S_wc)/(1-S_wc-S_or))^2\n",
    "p_cow(x)   = 0\n",
    "C_water    = 3e-6\n",
    "C_oil      = 3e-6\n",
    "ρ_water(p) = 64.0*exp(C_water*(p-p_ref)) \n",
    "ρ_oil(p)   = 53.0*exp(C_oil*(p-p_ref))   \n",
    "μ_water = 0.3 # cp\n",
    "μ_oil   = 3.0; # cp\n",
    "saveper = (kx.+ky.+kz)./3\n",
    "saveper = saveper[offsetx:(Nx+offsetx-1), offsety:(Ny+offsety-1), offsetz:(Nz+offsetz-1)];"
   ]
  },
  {
   "cell_type": "code",
   "execution_count": 39,
   "metadata": {
    "collapsed": true
   },
   "outputs": [],
   "source": [
    "## 3d model\n",
    "Lx = 1200\n",
    "Ly = 2200\n",
    "Lz = 170\n",
    "Δt = 0.01\n",
    "Tf = 2000.0\n",
    "Δx = (fill(Lx/Nx, Nx, Ny, Nz))\n",
    "Δy = (fill(Ly/Ny, Nx, Ny, Nz))\n",
    "Δz = fill(Lz/Nz, Nx, Ny, Nz)\n",
    "z  = fill(12000.0, Nx, Ny, Nz)\n",
    "k = makegrid(kraw[offsetx:(Nx+offsetx-1), offsety:(Ny+offsety-1), offsetz:(Nz+offsetz-1)],7)\n",
    "model = Reservoirmodel(Δt, Tf, (Δx, Δy, Δz), z, k, p_ref, C_r, ϕ_ref, ϕ, \n",
    "                k_r_w, k_r_o, p_cow, C_water, C_oil, ρ_water, ρ_oil, μ_water, μ_oil);"
   ]
  },
  {
   "cell_type": "code",
   "execution_count": 40,
   "metadata": {
    "collapsed": true
   },
   "outputs": [],
   "source": [
    "## Porosity proportional control\n",
    "Total = 40.0*Nx\n",
    "q = zeros(Nx, Ny, Nz, 2)\n",
    "for i in (1,Nx), j in (1,Ny), k in 1:Nz\n",
    "    q[i,j,k,2] = Total*(saveper[i,j,k]/sum(saveper[i,j,:]))/4\n",
    "end\n",
    "halfx, halfy = round(Int, Nx/2),round(Int, Ny/2)\n",
    "for k in 1:Nz\n",
    "    q[halfx,halfy,k,1] = -Total*(saveper[halfx,halfy,k]/sum(saveper[halfx,halfy,:]))\n",
    "end \n",
    "#=## Constant rate well control\n",
    "Total = 1000.0\n",
    "q = zeros(Nx, Ny, Nz, 2)\n",
    "for x in (1,Nx), y in (1,Ny), z in 1:Nz\n",
    "    q[x, y, z, 1] = Total/4/Nz\n",
    "end\n",
    "for z in 1:Nz\n",
    "    q[round(Int, Nx/2),round(Int, Ny/2),z,2] = -Total/Nz\n",
    "end\n",
    "q_d = distribute(q);=#"
   ]
  },
  {
   "cell_type": "code",
   "execution_count": 41,
   "metadata": {
    "collapsed": true
   },
   "outputs": [],
   "source": [
    "init       = [SVector{2,Float64}([6000.0,0.2]) for i in 1:Nx, j in 1:Ny, k in 1:Nz]\n",
    "initrand = [SVector{2,Float64}([6000.0,0.2]+randn(2)) for i in 1:Nx, j in 1:Ny, k in 1:Nz]\n",
    "testgrid   = makegrid(init, 7);\n",
    "randg = makegrid(initrand, 7)\n",
    "g_guess   = testgrid;"
   ]
  },
  {
   "cell_type": "code",
   "execution_count": 42,
   "metadata": {
    "collapsed": true
   },
   "outputs": [],
   "source": [
    "S   = getstencil(model, q, g_guess, testgrid)\n",
    "randS = getstencil(model, q, randg, randg)\n",
    "res = getresidual(model, q, g_guess, testgrid);\n",
    "copyres = getresidual(model, q, g_guess, testgrid);"
   ]
  },
  {
   "cell_type": "code",
   "execution_count": 43,
   "metadata": {},
   "outputs": [
    {
     "name": "stdout",
     "output_type": "stream",
     "text": [
      "123456789101112131415161718192021222324252627282930"
     ]
    }
   ],
   "source": [
    "A, b, A2, b2 = makeMat(S, res);\n",
    "b2copy = copy(b2)\n",
    "bcopy = copy(b);"
   ]
  },
  {
   "cell_type": "code",
   "execution_count": 50,
   "metadata": {},
   "outputs": [
    {
     "name": "stdout",
     "output_type": "stream",
     "text": [
      "123456789101112131415161718192021222324252627282930"
     ]
    }
   ],
   "source": [
    "A2, b2 = makeMat(randS, res);"
   ]
  },
  {
   "cell_type": "code",
   "execution_count": 44,
   "metadata": {},
   "outputs": [
    {
     "name": "stdout",
     "output_type": "stream",
     "text": [
      "  1.262 ms (3 allocations: 512.09 KiB)\n"
     ]
    }
   ],
   "source": [
    "@btime S*res; # Stencil-grid Multiplication"
   ]
  },
  {
   "cell_type": "code",
   "execution_count": 45,
   "metadata": {},
   "outputs": [
    {
     "name": "stdout",
     "output_type": "stream",
     "text": [
      "  479.433 μs (2 allocations: 421.95 KiB)\n"
     ]
    }
   ],
   "source": [
    "@btime A*b; # Sparse Matrix-vector multiplication"
   ]
  },
  {
   "cell_type": "code",
   "execution_count": 47,
   "metadata": {},
   "outputs": [
    {
     "data": {
      "text/plain": [
       "0.3602941176470588"
      ]
     },
     "execution_count": 47,
     "metadata": {},
     "output_type": "execute_result"
    }
   ],
   "source": [
    "length(A.nzval)/(4*Nx*Ny*Nz*7-6*Nx*Ny*4)"
   ]
  },
  {
   "cell_type": "code",
   "execution_count": 51,
   "metadata": {},
   "outputs": [
    {
     "data": {
      "text/plain": [
       "0.7867647058823529"
      ]
     },
     "execution_count": 51,
     "metadata": {},
     "output_type": "execute_result"
    }
   ],
   "source": [
    "length(A2.nzval)/(4*Nx*Ny*Nz*7-6*Nx*Ny*4)"
   ]
  },
  {
   "cell_type": "code",
   "execution_count": 16,
   "metadata": {},
   "outputs": [
    {
     "name": "stdout",
     "output_type": "stream",
     "text": [
      "  106.443 μs (0 allocations: 0 bytes)\n"
     ]
    }
   ],
   "source": [
    "@btime A_mul_B!(1, A, b, 2, bcopy); # Sparse Matrix-vector A_mul_B!"
   ]
  },
  {
   "cell_type": "code",
   "execution_count": 31,
   "metadata": {},
   "outputs": [
    {
     "data": {
      "text/plain": [
       "Stencil{SparseMatrixCSC{Float64,Int64},3,7,Array{StencilPoint{SparseMatrixCSC{Float64,Int64},3,7},3}}(StencilPoint{SparseMatrixCSC{Float64,Int64},3,7}[StencilPoint{SparseMatrixCSC{Float64,Int64},3,7}((2×2 SparseMatrixCSC{Float64,Int64} with 0 stored entries, 2×2 SparseMatrixCSC{Float64,Int64} with 0 stored entries, 2×2 SparseMatrixCSC{Float64,Int64} with 0 stored entries, \n",
       "  [1, 1]  =  -7.2176\n",
       "  [2, 1]  =  -33.0592\n",
       "  [1, 2]  =  -1.20293e7\n",
       "  [2, 2]  =  9.96179e6, \n",
       "  [2, 1]  =  0.0104494, \n",
       "  [2, 1]  =  2.10831, \n",
       "  [2, 1]  =  6.95011)) StencilPoint{SparseMatrixCSC{Float64,Int64},3,7}((2×2 SparseMatrixCSC{Float64,Int64} with 0 stored entries, \n",
       "  [2, 1]  =  2.10831, 2×2 SparseMatrixCSC{Float64,Int64} with 0 stored entries, \n",
       "  [1, 1]  =  -7.6909\n",
       "  [2, 1]  =  -42.1224\n",
       "  [1, 2]  =  -1.28182e7\n",
       "  [2, 2]  =  1.0615e7, \n",
       "  [2, 1]  =  0.011521, \n",
       "  [2, 1]  =  3.06131, \n",
       "  [2, 1]  =  11.4651)) … StencilPoint{SparseMatrixCSC{Float64,Int64},3,7}((2×2 SparseMatrixCSC{Float64,Int64} with 0 stored entries, \n",
       "  [2, 1]  =  0.0440007, 2×2 SparseMatrixCSC{Float64,Int64} with 0 stored entries, \n",
       "  [1, 1]  =  -4.70473\n",
       "  [2, 1]  =  -15.8864\n",
       "  [1, 2]  =  -7.84122e6\n",
       "  [2, 2]  =  6.49351e6, \n",
       "  [2, 1]  =  0.000874506, \n",
       "  [2, 1]  =  0.0602924, \n",
       "  [2, 1]  =  0.196763)) StencilPoint{SparseMatrixCSC{Float64,Int64},3,7}((2×2 SparseMatrixCSC{Float64,Int64} with 0 stored entries, \n",
       "  [2, 1]  =  0.0602924, 2×2 SparseMatrixCSC{Float64,Int64} with 0 stored entries, \n",
       "  [1, 1]  =  -5.17749\n",
       "  [2, 1]  =  -17.4141\n",
       "  [1, 2]  =  -8.62914e6\n",
       "  [2, 2]  =  7.14601e6, \n",
       "  [2, 1]  =  0.000444426, 2×2 SparseMatrixCSC{Float64,Int64} with 0 stored entries, \n",
       "  [2, 1]  =  0.200619)); StencilPoint{SparseMatrixCSC{Float64,Int64},3,7}((\n",
       "  [2, 1]  =  6.95011, 2×2 SparseMatrixCSC{Float64,Int64} with 0 stored entries, 2×2 SparseMatrixCSC{Float64,Int64} with 0 stored entries, \n",
       "  [1, 1]  =  -7.48794\n",
       "  [2, 1]  =  -43.1777\n",
       "  [1, 2]  =  -1.24799e7\n",
       "  [2, 2]  =  1.03349e7, \n",
       "  [2, 1]  =  0.00518722, \n",
       "  [2, 1]  =  3.3063, \n",
       "  [2, 1]  =  8.11233)) StencilPoint{SparseMatrixCSC{Float64,Int64},3,7}((\n",
       "  [2, 1]  =  11.4651, \n",
       "  [2, 1]  =  3.3063, 2×2 SparseMatrixCSC{Float64,Int64} with 0 stored entries, \n",
       "  [1, 1]  =  -8.03296\n",
       "  [2, 1]  =  -57.7903\n",
       "  [1, 2]  =  -1.33883e7\n",
       "  [2, 2]  =  1.10872e7, \n",
       "  [2, 1]  =  0.00909396, \n",
       "  [2, 1]  =  3.92757, \n",
       "  [2, 1]  =  12.4731)) … StencilPoint{SparseMatrixCSC{Float64,Int64},3,7}((\n",
       "  [2, 1]  =  0.196763, \n",
       "  [2, 1]  =  0.0432307, 2×2 SparseMatrixCSC{Float64,Int64} with 0 stored entries, \n",
       "  [1, 1]  =  -3.90945\n",
       "  [2, 1]  =  -13.47\n",
       "  [1, 2]  =  -6.51575e6\n",
       "  [2, 2]  =  5.39586e6, \n",
       "  [2, 1]  =  0.00081995, \n",
       "  [2, 1]  =  0.0579715, \n",
       "  [2, 1]  =  0.221182)) StencilPoint{SparseMatrixCSC{Float64,Int64},3,7}((\n",
       "  [2, 1]  =  0.200619, \n",
       "  [2, 1]  =  0.0579715, 2×2 SparseMatrixCSC{Float64,Int64} with 0 stored entries, \n",
       "  [1, 1]  =  -4.03769\n",
       "  [2, 1]  =  -13.8655\n",
       "  [1, 2]  =  -6.72948e6\n",
       "  [2, 2]  =  5.57285e6, \n",
       "  [2, 1]  =  0.000699501, 2×2 SparseMatrixCSC{Float64,Int64} with 0 stored entries, \n",
       "  [2, 1]  =  0.231381)); … ; StencilPoint{SparseMatrixCSC{Float64,Int64},3,7}((\n",
       "  [2, 1]  =  20.5924, 2×2 SparseMatrixCSC{Float64,Int64} with 0 stored entries, 2×2 SparseMatrixCSC{Float64,Int64} with 0 stored entries, \n",
       "  [1, 1]  =  -9.89636\n",
       "  [2, 1]  =  -72.812\n",
       "  [1, 2]  =  -1.64939e7\n",
       "  [2, 2]  =  1.3659e7, \n",
       "  [2, 1]  =  0.00075411, \n",
       "  [2, 1]  =  2.69264, \n",
       "  [2, 1]  =  16.7446)) StencilPoint{SparseMatrixCSC{Float64,Int64},3,7}((\n",
       "  [2, 1]  =  3.45079, \n",
       "  [2, 1]  =  2.69264, 2×2 SparseMatrixCSC{Float64,Int64} with 0 stored entries, \n",
       "  [1, 1]  =  -8.92093\n",
       "  [2, 1]  =  -44.54\n",
       "  [1, 2]  =  -1.48682e7\n",
       "  [2, 2]  =  1.23127e7, \n",
       "  [2, 1]  =  0.00121223, \n",
       "  [2, 1]  =  0.736851, \n",
       "  [2, 1]  =  8.10797)) … StencilPoint{SparseMatrixCSC{Float64,Int64},3,7}((\n",
       "  [2, 1]  =  0.10065, \n",
       "  [2, 1]  =  0.0897442, 2×2 SparseMatrixCSC{Float64,Int64} with 0 stored entries, \n",
       "  [1, 1]  =  -4.2569\n",
       "  [2, 1]  =  -14.6793\n",
       "  [1, 2]  =  -7.09483e6\n",
       "  [2, 2]  =  5.87541e6, \n",
       "  [2, 1]  =  0.0016106, \n",
       "  [2, 1]  =  0.0614207, \n",
       "  [2, 1]  =  0.324873)) StencilPoint{SparseMatrixCSC{Float64,Int64},3,7}((\n",
       "  [2, 1]  =  0.0935676, \n",
       "  [2, 1]  =  0.0614207, 2×2 SparseMatrixCSC{Float64,Int64} with 0 stored entries, \n",
       "  [1, 1]  =  -4.01652\n",
       "  [2, 1]  =  -13.6701\n",
       "  [1, 2]  =  -6.6942e6\n",
       "  [2, 2]  =  5.54363e6, \n",
       "  [2, 1]  =  3.10551e-9, 2×2 SparseMatrixCSC{Float64,Int64} with 0 stored entries, \n",
       "  [2, 1]  =  0.210448)); StencilPoint{SparseMatrixCSC{Float64,Int64},3,7}((\n",
       "  [2, 1]  =  16.7446, 2×2 SparseMatrixCSC{Float64,Int64} with 0 stored entries, 2×2 SparseMatrixCSC{Float64,Int64} with 0 stored entries, \n",
       "  [1, 1]  =  -10.218\n",
       "  [2, 1]  =  -54.968\n",
       "  [1, 2]  =  -1.703e7\n",
       "  [2, 2]  =  1.4103e7, \n",
       "  [2, 1]  =  0.00135111, \n",
       "  [2, 1]  =  4.10021, 2×2 SparseMatrixCSC{Float64,Int64} with 0 stored entries)) StencilPoint{SparseMatrixCSC{Float64,Int64},3,7}((\n",
       "  [2, 1]  =  8.10797, \n",
       "  [2, 1]  =  4.10021, 2×2 SparseMatrixCSC{Float64,Int64} with 0 stored entries, \n",
       "  [1, 1]  =  -8.92417\n",
       "  [2, 1]  =  -42.3675\n",
       "  [1, 2]  =  -1.48736e7\n",
       "  [2, 2]  =  1.23172e7, \n",
       "  [2, 1]  =  0.00181903, \n",
       "  [2, 1]  =  0.596193, 2×2 SparseMatrixCSC{Float64,Int64} with 0 stored entries)) … StencilPoint{SparseMatrixCSC{Float64,Int64},3,7}((\n",
       "  [2, 1]  =  0.324873, \n",
       "  [2, 1]  =  0.206176, 2×2 SparseMatrixCSC{Float64,Int64} with 0 stored entries, \n",
       "  [1, 1]  =  -5.41173\n",
       "  [2, 1]  =  -18.5585\n",
       "  [1, 2]  =  -9.01956e6\n",
       "  [2, 2]  =  7.46932e6, \n",
       "  [2, 1]  =  0.00139812, \n",
       "  [2, 1]  =  0.0996416, 2×2 SparseMatrixCSC{Float64,Int64} with 0 stored entries)) StencilPoint{SparseMatrixCSC{Float64,Int64},3,7}((\n",
       "  [2, 1]  =  0.210448, \n",
       "  [2, 1]  =  0.0996416, 2×2 SparseMatrixCSC{Float64,Int64} with 0 stored entries, \n",
       "  [1, 1]  =  -4.48232\n",
       "  [2, 1]  =  -15.1615\n",
       "  [1, 2]  =  -7.47053e6\n",
       "  [2, 2]  =  6.18653e6, \n",
       "  [2, 1]  =  3.10551e-9, 2×2 SparseMatrixCSC{Float64,Int64} with 0 stored entries, 2×2 SparseMatrixCSC{Float64,Int64} with 0 stored entries))]\n",
       "\n",
       "StencilPoint{SparseMatrixCSC{Float64,Int64},3,7}[StencilPoint{SparseMatrixCSC{Float64,Int64},3,7}((2×2 SparseMatrixCSC{Float64,Int64} with 0 stored entries, 2×2 SparseMatrixCSC{Float64,Int64} with 0 stored entries, \n",
       "  [2, 1]  =  0.0104494, \n",
       "  [1, 1]  =  -3.47017\n",
       "  [2, 1]  =  -12.5487\n",
       "  [1, 2]  =  -5.78362e6\n",
       "  [2, 2]  =  4.78956e6, \n",
       "  [2, 1]  =  0.00725133, \n",
       "  [2, 1]  =  0.327203, \n",
       "  [2, 1]  =  0.695717)) StencilPoint{SparseMatrixCSC{Float64,Int64},3,7}((2×2 SparseMatrixCSC{Float64,Int64} with 0 stored entries, \n",
       "  [2, 1]  =  0.327203, \n",
       "  [2, 1]  =  0.011521, \n",
       "  [1, 1]  =  -4.17069\n",
       "  [2, 1]  =  -15.3831\n",
       "  [1, 2]  =  -6.95115e6\n",
       "  [2, 2]  =  5.75642e6, \n",
       "  [2, 1]  =  0.0115201, \n",
       "  [2, 1]  =  0.197383, \n",
       "  [2, 1]  =  1.02002)) … StencilPoint{SparseMatrixCSC{Float64,Int64},3,7}((2×2 SparseMatrixCSC{Float64,Int64} with 0 stored entries, \n",
       "  [2, 1]  =  0.0204588, \n",
       "  [2, 1]  =  0.000874506, \n",
       "  [1, 1]  =  -1.11605\n",
       "  [2, 1]  =  -3.89395\n",
       "  [1, 2]  =  -1.86008e6\n",
       "  [2, 2]  =  1.54038e6, \n",
       "  [2, 1]  =  0.00143087, \n",
       "  [2, 1]  =  0.0248459, \n",
       "  [2, 1]  =  0.149425)) StencilPoint{SparseMatrixCSC{Float64,Int64},3,7}((2×2 SparseMatrixCSC{Float64,Int64} with 0 stored entries, \n",
       "  [2, 1]  =  0.0248459, \n",
       "  [2, 1]  =  0.000444426, \n",
       "  [1, 1]  =  -0.0964024\n",
       "  [2, 1]  =  -0.420852\n",
       "  [1, 2]  =  -1.60671e5\n",
       "  [2, 2]  =  1.33055e5, \n",
       "  [2, 1]  =  0.000586727, 2×2 SparseMatrixCSC{Float64,Int64} with 0 stored entries, \n",
       "  [2, 1]  =  0.0749053)); StencilPoint{SparseMatrixCSC{Float64,Int64},3,7}((\n",
       "  [2, 1]  =  0.695717, 2×2 SparseMatrixCSC{Float64,Int64} with 0 stored entries, \n",
       "  [2, 1]  =  0.00518722, \n",
       "  [1, 1]  =  -2.51603\n",
       "  [2, 1]  =  -9.90848\n",
       "  [1, 2]  =  -4.19339e6\n",
       "  [2, 2]  =  3.47265e6, \n",
       "  [2, 1]  =  0.00366965, \n",
       "  [2, 1]  =  0.197235, \n",
       "  [2, 1]  =  0.672322)) StencilPoint{SparseMatrixCSC{Float64,Int64},3,7}((\n",
       "  [2, 1]  =  1.02002, \n",
       "  [2, 1]  =  0.197235, \n",
       "  [2, 1]  =  0.00909396, \n",
       "  [1, 1]  =  -3.18378\n",
       "  [2, 1]  =  -12.856\n",
       "  [1, 2]  =  -5.3063e6\n",
       "  [2, 2]  =  4.39428e6, \n",
       "  [2, 1]  =  0.00366996, \n",
       "  [2, 1]  =  0.23969, \n",
       "  [2, 1]  =  0.84004)) … StencilPoint{SparseMatrixCSC{Float64,Int64},3,7}((\n",
       "  [2, 1]  =  0.149425, \n",
       "  [2, 1]  =  0.0252644, \n",
       "  [2, 1]  =  0.00081995, \n",
       "  [1, 1]  =  -2.65841\n",
       "  [2, 1]  =  -9.1403\n",
       "  [1, 2]  =  -4.43068e6\n",
       "  [2, 2]  =  3.66916e6, \n",
       "  [2, 1]  =  0.00155222, \n",
       "  [2, 1]  =  0.0368773, \n",
       "  [2, 1]  =  0.120387)) StencilPoint{SparseMatrixCSC{Float64,Int64},3,7}((\n",
       "  [2, 1]  =  0.0749053, \n",
       "  [2, 1]  =  0.0368773, \n",
       "  [2, 1]  =  0.000699501, \n",
       "  [1, 1]  =  -1.13167\n",
       "  [2, 1]  =  -3.9869\n",
       "  [1, 2]  =  -1.88612e6\n",
       "  [2, 2]  =  1.56194e6, \n",
       "  [2, 1]  =  0.0010257, 2×2 SparseMatrixCSC{Float64,Int64} with 0 stored entries, \n",
       "  [2, 1]  =  0.124723)); … ; StencilPoint{SparseMatrixCSC{Float64,Int64},3,7}((\n",
       "  [2, 1]  =  0.0993999, 2×2 SparseMatrixCSC{Float64,Int64} with 0 stored entries, \n",
       "  [2, 1]  =  0.00075411, \n",
       "  [1, 1]  =  -2.19893\n",
       "  [2, 1]  =  -7.50977\n",
       "  [1, 2]  =  -3.66489e6\n",
       "  [2, 2]  =  3.03499e6, \n",
       "  [2, 1]  =  0.000750728, \n",
       "  [2, 1]  =  0.0277597, \n",
       "  [2, 1]  =  0.0971324)) StencilPoint{SparseMatrixCSC{Float64,Int64},3,7}((\n",
       "  [2, 1]  =  0.0994622, \n",
       "  [2, 1]  =  0.0277597, \n",
       "  [2, 1]  =  0.00121223, \n",
       "  [1, 1]  =  -3.53755\n",
       "  [2, 1]  =  -12.0322\n",
       "  [1, 2]  =  -5.89592e6\n",
       "  [2, 2]  =  4.88256e6, \n",
       "  [2, 1]  =  0.00120233, \n",
       "  [2, 1]  =  0.0384197, \n",
       "  [2, 1]  =  0.145995)) … StencilPoint{SparseMatrixCSC{Float64,Int64},3,7}((\n",
       "  [2, 1]  =  0.16112, \n",
       "  [2, 1]  =  0.0636748, \n",
       "  [2, 1]  =  0.0016106, \n",
       "  [1, 1]  =  -0.974062\n",
       "  [2, 1]  =  -3.60472\n",
       "  [1, 2]  =  -1.62344e6\n",
       "  [2, 2]  =  1.34441e6, \n",
       "  [2, 1]  =  0.00150915, \n",
       "  [2, 1]  =  1.85432e-11, \n",
       "  [2, 1]  =  0.150229)) StencilPoint{SparseMatrixCSC{Float64,Int64},3,7}((\n",
       "  [2, 1]  =  6.23259e-11, \n",
       "  [2, 1]  =  1.85432e-11, \n",
       "  [2, 1]  =  3.10551e-9, \n",
       "  [1, 1]  =  -7.81218\n",
       "  [2, 1]  =  -25.8779\n",
       "  [1, 2]  =  -1.30203e7\n",
       "  [2, 2]  =  1.07824e7, \n",
       "  [2, 1]  =  3.10551e-9, 2×2 SparseMatrixCSC{Float64,Int64} with 0 stored entries, \n",
       "  [2, 1]  =  3.11629e-11)); StencilPoint{SparseMatrixCSC{Float64,Int64},3,7}((\n",
       "  [2, 1]  =  0.0971324, 2×2 SparseMatrixCSC{Float64,Int64} with 0 stored entries, \n",
       "  [2, 1]  =  0.00135111, \n",
       "  [1, 1]  =  -3.09644\n",
       "  [2, 1]  =  -10.4048\n",
       "  [1, 2]  =  -5.16073e6\n",
       "  [2, 2]  =  4.27373e6, \n",
       "  [2, 1]  =  0.00133485, \n",
       "  [2, 1]  =  0.046292, 2×2 SparseMatrixCSC{Float64,Int64} with 0 stored entries)) StencilPoint{SparseMatrixCSC{Float64,Int64},3,7}((\n",
       "  [2, 1]  =  0.145995, \n",
       "  [2, 1]  =  0.046292, \n",
       "  [2, 1]  =  0.00181903, \n",
       "  [1, 1]  =  -3.22229\n",
       "  [2, 1]  =  -10.9373\n",
       "  [1, 2]  =  -5.37049e6\n",
       "  [2, 2]  =  4.44743e6, \n",
       "  [2, 1]  =  0.00179355, \n",
       "  [2, 1]  =  0.0675737, 2×2 SparseMatrixCSC{Float64,Int64} with 0 stored entries)) … StencilPoint{SparseMatrixCSC{Float64,Int64},3,7}((\n",
       "  [2, 1]  =  0.150229, \n",
       "  [2, 1]  =  0.0360569, \n",
       "  [2, 1]  =  0.00139812, \n",
       "  [1, 1]  =  -0.78489\n",
       "  [2, 1]  =  -2.78899\n",
       "  [1, 2]  =  -1.30815e6\n",
       "  [2, 2]  =  1.08331e6, \n",
       "  [2, 1]  =  0.00135794, \n",
       "  [2, 1]  =  1.85432e-11, 2×2 SparseMatrixCSC{Float64,Int64} with 0 stored entries)) StencilPoint{SparseMatrixCSC{Float64,Int64},3,7}((\n",
       "  [2, 1]  =  3.11629e-11, \n",
       "  [2, 1]  =  1.85432e-11, \n",
       "  [2, 1]  =  3.10551e-9, \n",
       "  [1, 1]  =  -7.81218\n",
       "  [2, 1]  =  -25.8779\n",
       "  [1, 2]  =  -1.30203e7\n",
       "  [2, 2]  =  1.07824e7, \n",
       "  [2, 1]  =  3.10551e-9, 2×2 SparseMatrixCSC{Float64,Int64} with 0 stored entries, 2×2 SparseMatrixCSC{Float64,Int64} with 0 stored entries))]\n",
       "\n",
       "StencilPoint{SparseMatrixCSC{Float64,Int64},3,7}[StencilPoint{SparseMatrixCSC{Float64,Int64},3,7}((2×2 SparseMatrixCSC{Float64,Int64} with 0 stored entries, 2×2 SparseMatrixCSC{Float64,Int64} with 0 stored entries, \n",
       "  [2, 1]  =  0.00725133, \n",
       "  [1, 1]  =  -5.77992\n",
       "  [2, 1]  =  -21.6785\n",
       "  [1, 2]  =  -9.6332e6\n",
       "  [2, 2]  =  7.9775e6, \n",
       "  [2, 1]  =  0.0236885, \n",
       "  [2, 1]  =  0.82597, \n",
       "  [2, 1]  =  1.64585)) StencilPoint{SparseMatrixCSC{Float64,Int64},3,7}((2×2 SparseMatrixCSC{Float64,Int64} with 0 stored entries, \n",
       "  [2, 1]  =  0.82597, \n",
       "  [2, 1]  =  0.0115201, \n",
       "  [1, 1]  =  -6.47435\n",
       "  [2, 1]  =  -86.4849\n",
       "  [1, 2]  =  -1.07906e7\n",
       "  [2, 2]  =  8.93595e6, \n",
       "  [2, 1]  =  61.9219, \n",
       "  [2, 1]  =  1.23724, \n",
       "  [2, 1]  =  1.04202)) … StencilPoint{SparseMatrixCSC{Float64,Int64},3,7}((2×2 SparseMatrixCSC{Float64,Int64} with 0 stored entries, \n",
       "  [2, 1]  =  13.3252, \n",
       "  [2, 1]  =  0.00143087, \n",
       "  [1, 1]  =  -9.64883\n",
       "  [2, 1]  =  -74.0887\n",
       "  [1, 2]  =  -1.60814e7\n",
       "  [2, 2]  =  1.33174e7, \n",
       "  [2, 1]  =  0.316785, \n",
       "  [2, 1]  =  14.3623, \n",
       "  [2, 1]  =  14.1212)) StencilPoint{SparseMatrixCSC{Float64,Int64},3,7}((2×2 SparseMatrixCSC{Float64,Int64} with 0 stored entries, \n",
       "  [2, 1]  =  14.3623, \n",
       "  [2, 1]  =  0.000586727, \n",
       "  [1, 1]  =  -11.4343\n",
       "  [2, 1]  =  -95.4075\n",
       "  [1, 2]  =  -1.90572e7\n",
       "  [2, 2]  =  1.57818e7, \n",
       "  [2, 1]  =  0.30226, 2×2 SparseMatrixCSC{Float64,Int64} with 0 stored entries, \n",
       "  [2, 1]  =  41.8334)); StencilPoint{SparseMatrixCSC{Float64,Int64},3,7}((\n",
       "  [2, 1]  =  1.64585, 2×2 SparseMatrixCSC{Float64,Int64} with 0 stored entries, \n",
       "  [2, 1]  =  0.00366965, \n",
       "  [1, 1]  =  -5.48138\n",
       "  [2, 1]  =  -21.6273\n",
       "  [1, 2]  =  -9.13563e6\n",
       "  [2, 2]  =  7.56545e6, \n",
       "  [2, 1]  =  0.0125423, \n",
       "  [2, 1]  =  0.246484, \n",
       "  [2, 1]  =  1.56172)) StencilPoint{SparseMatrixCSC{Float64,Int64},3,7}((\n",
       "  [2, 1]  =  1.04202, \n",
       "  [2, 1]  =  0.246484, \n",
       "  [2, 1]  =  0.00366996, \n",
       "  [1, 1]  =  -3.49669\n",
       "  [2, 1]  =  -13.8802\n",
       "  [1, 2]  =  -5.82782e6\n",
       "  [2, 2]  =  4.82617e6, \n",
       "  [2, 1]  =  0.00615279, \n",
       "  [2, 1]  =  0.266279, \n",
       "  [2, 1]  =  0.732753)) … StencilPoint{SparseMatrixCSC{Float64,Int64},3,7}((\n",
       "  [2, 1]  =  14.1212, \n",
       "  [2, 1]  =  3.90675, \n",
       "  [2, 1]  =  0.00155222, \n",
       "  [1, 1]  =  -8.31298\n",
       "  [2, 1]  =  -61.7439\n",
       "  [1, 2]  =  -1.3855e7\n",
       "  [2, 2]  =  1.14737e7, \n",
       "  [2, 1]  =  0.39499, \n",
       "  [2, 1]  =  4.02031, \n",
       "  [2, 1]  =  11.7624)) StencilPoint{SparseMatrixCSC{Float64,Int64},3,7}((\n",
       "  [2, 1]  =  41.8334, \n",
       "  [2, 1]  =  4.02031, \n",
       "  [2, 1]  =  0.0010257, \n",
       "  [1, 1]  =  -10.0987\n",
       "  [2, 1]  =  -105.929\n",
       "  [1, 2]  =  -1.68311e7\n",
       "  [2, 2]  =  1.39382e7, \n",
       "  [2, 1]  =  0.0789689, 2×2 SparseMatrixCSC{Float64,Int64} with 0 stored entries, \n",
       "  [2, 1]  =  26.5435)); … ; StencilPoint{SparseMatrixCSC{Float64,Int64},3,7}((\n",
       "  [2, 1]  =  5.19063, 2×2 SparseMatrixCSC{Float64,Int64} with 0 stored entries, \n",
       "  [2, 1]  =  0.000750728, \n",
       "  [1, 1]  =  -9.16986\n",
       "  [2, 1]  =  -53.6436\n",
       "  [1, 2]  =  -1.52831e7\n",
       "  [2, 2]  =  1.26563e7, \n",
       "  [2, 1]  =  0.016162, \n",
       "  [2, 1]  =  4.67548, \n",
       "  [2, 1]  =  13.3854)) StencilPoint{SparseMatrixCSC{Float64,Int64},3,7}((\n",
       "  [2, 1]  =  13.7034, \n",
       "  [2, 1]  =  4.67548, \n",
       "  [2, 1]  =  0.00120233, \n",
       "  [1, 1]  =  -8.98225\n",
       "  [2, 1]  =  -66.8895\n",
       "  [1, 2]  =  -1.49704e7\n",
       "  [2, 2]  =  1.23974e7, \n",
       "  [2, 1]  =  0.00782553, \n",
       "  [2, 1]  =  5.00785, \n",
       "  [2, 1]  =  13.74)) … StencilPoint{SparseMatrixCSC{Float64,Int64},3,7}((\n",
       "  [2, 1]  =  2.84731, \n",
       "  [2, 1]  =  1.05679, \n",
       "  [2, 1]  =  0.00150915, \n",
       "  [1, 1]  =  -5.22276\n",
       "  [2, 1]  =  -25.4942\n",
       "  [1, 2]  =  -8.7046e6\n",
       "  [2, 2]  =  7.20849e6, \n",
       "  [2, 1]  =  0.0211675, \n",
       "  [2, 1]  =  1.0868, \n",
       "  [2, 1]  =  3.18029)) StencilPoint{SparseMatrixCSC{Float64,Int64},3,7}((\n",
       "  [2, 1]  =  5.54613, \n",
       "  [2, 1]  =  1.0868, \n",
       "  [2, 1]  =  3.10551e-9, \n",
       "  [1, 1]  =  -6.1085\n",
       "  [2, 1]  =  -34.9616\n",
       "  [1, 2]  =  -1.01808e7\n",
       "  [2, 2]  =  8.43101e6, \n",
       "  [2, 1]  =  0.0651812, 2×2 SparseMatrixCSC{Float64,Int64} with 0 stored entries, \n",
       "  [2, 1]  =  8.02912)); StencilPoint{SparseMatrixCSC{Float64,Int64},3,7}((\n",
       "  [2, 1]  =  13.3854, 2×2 SparseMatrixCSC{Float64,Int64} with 0 stored entries, \n",
       "  [2, 1]  =  0.00133485, \n",
       "  [1, 1]  =  -8.88874\n",
       "  [2, 1]  =  -46.535\n",
       "  [1, 2]  =  -1.48146e7\n",
       "  [2, 2]  =  1.22683e7, \n",
       "  [2, 1]  =  0.0168589, \n",
       "  [2, 1]  =  3.54808, 2×2 SparseMatrixCSC{Float64,Int64} with 0 stored entries)) StencilPoint{SparseMatrixCSC{Float64,Int64},3,7}((\n",
       "  [2, 1]  =  13.74, \n",
       "  [2, 1]  =  3.54808, \n",
       "  [2, 1]  =  0.00179355, \n",
       "  [1, 1]  =  -8.76633\n",
       "  [2, 1]  =  -48.8299\n",
       "  [1, 2]  =  -1.46105e7\n",
       "  [2, 2]  =  1.20994e7, \n",
       "  [2, 1]  =  0.00970972, \n",
       "  [2, 1]  =  2.49183, 2×2 SparseMatrixCSC{Float64,Int64} with 0 stored entries)) … StencilPoint{SparseMatrixCSC{Float64,Int64},3,7}((\n",
       "  [2, 1]  =  3.18029, \n",
       "  [2, 1]  =  1.1371, \n",
       "  [2, 1]  =  0.00135794, \n",
       "  [1, 1]  =  -5.41462\n",
       "  [2, 1]  =  -24.0947\n",
       "  [1, 2]  =  -9.02437e6\n",
       "  [2, 2]  =  7.47331e6, \n",
       "  [2, 1]  =  0.0393474, \n",
       "  [2, 1]  =  1.8007, 2×2 SparseMatrixCSC{Float64,Int64} with 0 stored entries)) StencilPoint{SparseMatrixCSC{Float64,Int64},3,7}((\n",
       "  [2, 1]  =  8.02912, \n",
       "  [2, 1]  =  1.8007, \n",
       "  [2, 1]  =  3.10551e-9, \n",
       "  [1, 1]  =  -5.60419\n",
       "  [2, 1]  =  -28.5643\n",
       "  [1, 2]  =  -9.34031e6\n",
       "  [2, 2]  =  7.73495e6, \n",
       "  [2, 1]  =  0.0652789, 2×2 SparseMatrixCSC{Float64,Int64} with 0 stored entries, 2×2 SparseMatrixCSC{Float64,Int64} with 0 stored entries))]\n",
       "\n",
       "...\n",
       "\n",
       "StencilPoint{SparseMatrixCSC{Float64,Int64},3,7}[StencilPoint{SparseMatrixCSC{Float64,Int64},3,7}((2×2 SparseMatrixCSC{Float64,Int64} with 0 stored entries, 2×2 SparseMatrixCSC{Float64,Int64} with 0 stored entries, \n",
       "  [2, 1]  =  0.014147, \n",
       "  [1, 1]  =  -10.1691\n",
       "  [2, 1]  =  -41.325\n",
       "  [1, 2]  =  -1.69485e7\n",
       "  [2, 2]  =  1.40355e7, \n",
       "  [2, 1]  =  0.0227658, \n",
       "  [2, 1]  =  2.34763, \n",
       "  [2, 1]  =  5.12963)) StencilPoint{SparseMatrixCSC{Float64,Int64},3,7}((2×2 SparseMatrixCSC{Float64,Int64} with 0 stored entries, \n",
       "  [2, 1]  =  2.34763, \n",
       "  [2, 1]  =  0.0256087, \n",
       "  [1, 1]  =  -10.1456\n",
       "  [2, 1]  =  -41.189\n",
       "  [1, 2]  =  -1.69094e7\n",
       "  [2, 2]  =  1.40031e7, \n",
       "  [2, 1]  =  0.0107018, \n",
       "  [2, 1]  =  1.16387, \n",
       "  [2, 1]  =  4.0337)) … StencilPoint{SparseMatrixCSC{Float64,Int64},3,7}((2×2 SparseMatrixCSC{Float64,Int64} with 0 stored entries, \n",
       "  [2, 1]  =  3.03856, \n",
       "  [2, 1]  =  0.0170976, \n",
       "  [1, 1]  =  -9.9139\n",
       "  [2, 1]  =  -46.6643\n",
       "  [1, 2]  =  -1.65232e7\n",
       "  [2, 2]  =  1.36832e7, \n",
       "  [2, 1]  =  0.0863678, \n",
       "  [2, 1]  =  3.21901, \n",
       "  [2, 1]  =  7.46347)) StencilPoint{SparseMatrixCSC{Float64,Int64},3,7}((2×2 SparseMatrixCSC{Float64,Int64} with 0 stored entries, \n",
       "  [2, 1]  =  3.21901, \n",
       "  [2, 1]  =  0.0259937, \n",
       "  [1, 1]  =  -10.2763\n",
       "  [2, 1]  =  -146.372\n",
       "  [1, 2]  =  -1.71272e7\n",
       "  [2, 2]  =  1.41835e7, \n",
       "  [2, 1]  =  88.1527, 2×2 SparseMatrixCSC{Float64,Int64} with 0 stored entries, \n",
       "  [2, 1]  =  20.7275)); StencilPoint{SparseMatrixCSC{Float64,Int64},3,7}((\n",
       "  [2, 1]  =  5.12963, 2×2 SparseMatrixCSC{Float64,Int64} with 0 stored entries, \n",
       "  [2, 1]  =  0.0166557, \n",
       "  [1, 1]  =  -8.22342\n",
       "  [2, 1]  =  -37.9845\n",
       "  [1, 2]  =  -1.37057e7\n",
       "  [2, 2]  =  1.135e7, \n",
       "  [2, 1]  =  0.00890022, \n",
       "  [2, 1]  =  0.941148, \n",
       "  [2, 1]  =  4.64813)) StencilPoint{SparseMatrixCSC{Float64,Int64},3,7}((\n",
       "  [2, 1]  =  4.0337, \n",
       "  [2, 1]  =  0.941148, \n",
       "  [2, 1]  =  0.0279176, \n",
       "  [1, 1]  =  -7.97581\n",
       "  [2, 1]  =  -36.0843\n",
       "  [1, 2]  =  -1.3293e7\n",
       "  [2, 2]  =  1.10083e7, \n",
       "  [2, 1]  =  0.00307796, \n",
       "  [2, 1]  =  0.808196, \n",
       "  [2, 1]  =  3.85042)) … StencilPoint{SparseMatrixCSC{Float64,Int64},3,7}((\n",
       "  [2, 1]  =  7.46347, \n",
       "  [2, 1]  =  2.74401, \n",
       "  [2, 1]  =  0.0243638, \n",
       "  [1, 1]  =  -9.96257\n",
       "  [2, 1]  =  -55.255\n",
       "  [1, 2]  =  -1.66043e7\n",
       "  [2, 2]  =  1.37504e7, \n",
       "  [2, 1]  =  0.0652102, \n",
       "  [2, 1]  =  3.31297, \n",
       "  [2, 1]  =  8.64398)) StencilPoint{SparseMatrixCSC{Float64,Int64},3,7}((\n",
       "  [2, 1]  =  20.7275, \n",
       "  [2, 1]  =  3.31297, \n",
       "  [2, 1]  =  0.0243525, \n",
       "  [1, 1]  =  -12.1999\n",
       "  [2, 1]  =  -340.968\n",
       "  [1, 2]  =  -2.03331e7\n",
       "  [2, 2]  =  1.68383e7, \n",
       "  [2, 1]  =  243.713, 2×2 SparseMatrixCSC{Float64,Int64} with 0 stored entries, \n",
       "  [2, 1]  =  32.7781)); … ; StencilPoint{SparseMatrixCSC{Float64,Int64},3,7}((\n",
       "  [2, 1]  =  16.1054, 2×2 SparseMatrixCSC{Float64,Int64} with 0 stored entries, \n",
       "  [2, 1]  =  158.155, \n",
       "  [1, 1]  =  -11.0951\n",
       "  [2, 1]  =  -435.583\n",
       "  [1, 2]  =  -1.84918e7\n",
       "  [2, 2]  =  1.53135e7, \n",
       "  [2, 1]  =  204.706, \n",
       "  [2, 1]  =  8.11931, \n",
       "  [2, 1]  =  11.7456)) StencilPoint{SparseMatrixCSC{Float64,Int64},3,7}((\n",
       "  [2, 1]  =  24.4065, \n",
       "  [2, 1]  =  8.11931, \n",
       "  [2, 1]  =  124.245, \n",
       "  [1, 1]  =  -11.8902\n",
       "  [2, 1]  =  -224.519\n",
       "  [1, 2]  =  -1.9817e7\n",
       "  [2, 2]  =  1.64109e7, \n",
       "  [2, 1]  =  0.0250539, \n",
       "  [2, 1]  =  9.29976, \n",
       "  [2, 1]  =  19.0373)) … StencilPoint{SparseMatrixCSC{Float64,Int64},3,7}((\n",
       "  [2, 1]  =  50.2928, \n",
       "  [2, 1]  =  17.2787, \n",
       "  [2, 1]  =  0.00575915, \n",
       "  [1, 1]  =  -10.3821\n",
       "  [2, 1]  =  -924.929\n",
       "  [1, 2]  =  -1.73035e7\n",
       "  [2, 2]  =  1.43294e7, \n",
       "  [2, 1]  =  729.605, \n",
       "  [2, 1]  =  17.3935, \n",
       "  [2, 1]  =  75.9623)) StencilPoint{SparseMatrixCSC{Float64,Int64},3,7}((\n",
       "  [2, 1]  =  22.2315, \n",
       "  [2, 1]  =  17.3935, \n",
       "  [2, 1]  =  0.00546743, \n",
       "  [1, 1]  =  -11.2502\n",
       "  [2, 1]  =  -1124.11\n",
       "  [1, 2]  =  -1.87503e7\n",
       "  [2, 2]  =  1.55276e7, \n",
       "  [2, 1]  =  953.27, 2×2 SparseMatrixCSC{Float64,Int64} with 0 stored entries, \n",
       "  [2, 1]  =  93.9432)); StencilPoint{SparseMatrixCSC{Float64,Int64},3,7}((\n",
       "  [2, 1]  =  11.7456, 2×2 SparseMatrixCSC{Float64,Int64} with 0 stored entries, \n",
       "  [2, 1]  =  0.0262187, \n",
       "  [1, 1]  =  -9.9687\n",
       "  [2, 1]  =  -47.9148\n",
       "  [1, 2]  =  -1.66145e7\n",
       "  [2, 2]  =  1.37589e7, \n",
       "  [2, 1]  =  0.0782508, \n",
       "  [2, 1]  =  2.94507, 2×2 SparseMatrixCSC{Float64,Int64} with 0 stored entries)) StencilPoint{SparseMatrixCSC{Float64,Int64},3,7}((\n",
       "  [2, 1]  =  19.0373, \n",
       "  [2, 1]  =  2.94507, \n",
       "  [2, 1]  =  0.0314638, \n",
       "  [1, 1]  =  -10.808\n",
       "  [2, 1]  =  -62.9218\n",
       "  [1, 2]  =  -1.80134e7\n",
       "  [2, 2]  =  1.49173e7, \n",
       "  [2, 1]  =  0.0437572, \n",
       "  [2, 1]  =  5.06265, 2×2 SparseMatrixCSC{Float64,Int64} with 0 stored entries)) … StencilPoint{SparseMatrixCSC{Float64,Int64},3,7}((\n",
       "  [2, 1]  =  75.9623, \n",
       "  [2, 1]  =  42.7615, \n",
       "  [2, 1]  =  0.00916513, \n",
       "  [1, 1]  =  -12.2149\n",
       "  [2, 1]  =  -203.775\n",
       "  [1, 2]  =  -2.03582e7\n",
       "  [2, 2]  =  1.68591e7, \n",
       "  [2, 1]  =  0.199486, \n",
       "  [2, 1]  =  44.3803, 2×2 SparseMatrixCSC{Float64,Int64} with 0 stored entries)) StencilPoint{SparseMatrixCSC{Float64,Int64},3,7}((\n",
       "  [2, 1]  =  93.9432, \n",
       "  [2, 1]  =  44.3803, \n",
       "  [2, 1]  =  0.0124685, \n",
       "  [1, 1]  =  -10.6173\n",
       "  [2, 1]  =  -175.365\n",
       "  [1, 2]  =  -1.76954e7\n",
       "  [2, 2]  =  1.4654e7, \n",
       "  [2, 1]  =  0.174275, 2×2 SparseMatrixCSC{Float64,Int64} with 0 stored entries, 2×2 SparseMatrixCSC{Float64,Int64} with 0 stored entries))]\n",
       "\n",
       "StencilPoint{SparseMatrixCSC{Float64,Int64},3,7}[StencilPoint{SparseMatrixCSC{Float64,Int64},3,7}((2×2 SparseMatrixCSC{Float64,Int64} with 0 stored entries, 2×2 SparseMatrixCSC{Float64,Int64} with 0 stored entries, \n",
       "  [2, 1]  =  0.0227658, \n",
       "  [1, 1]  =  -5.91671\n",
       "  [2, 1]  =  -21.6566\n",
       "  [1, 2]  =  -9.86119e6\n",
       "  [2, 2]  =  8.1663e6, \n",
       "  [2, 1]  =  0.0113323, \n",
       "  [2, 1]  =  0.434705, \n",
       "  [2, 1]  =  1.56003)) StencilPoint{SparseMatrixCSC{Float64,Int64},3,7}((2×2 SparseMatrixCSC{Float64,Int64} with 0 stored entries, \n",
       "  [2, 1]  =  0.434705, \n",
       "  [2, 1]  =  0.0107018, \n",
       "  [1, 1]  =  -5.04276\n",
       "  [2, 1]  =  -17.9948\n",
       "  [1, 2]  =  -8.40461e6\n",
       "  [2, 2]  =  6.96007e6, \n",
       "  [2, 1]  =  0.00602448, \n",
       "  [2, 1]  =  0.314541, \n",
       "  [2, 1]  =  0.524672)) … StencilPoint{SparseMatrixCSC{Float64,Int64},3,7}((2×2 SparseMatrixCSC{Float64,Int64} with 0 stored entries, \n",
       "  [2, 1]  =  0.881496, \n",
       "  [2, 1]  =  0.0863678, \n",
       "  [1, 1]  =  -6.46525\n",
       "  [2, 1]  =  -26.0619\n",
       "  [1, 2]  =  -1.07754e7\n",
       "  [2, 2]  =  8.92339e6, \n",
       "  [2, 1]  =  0.0259944, \n",
       "  [2, 1]  =  0.765632, \n",
       "  [2, 1]  =  2.88629)) StencilPoint{SparseMatrixCSC{Float64,Int64},3,7}((2×2 SparseMatrixCSC{Float64,Int64} with 0 stored entries, \n",
       "  [2, 1]  =  0.765632, \n",
       "  [2, 1]  =  88.1527, \n",
       "  [1, 1]  =  -7.35802\n",
       "  [2, 1]  =  -118.824\n",
       "  [1, 2]  =  -1.22634e7\n",
       "  [2, 2]  =  1.01556e7, \n",
       "  [2, 1]  =  0.00386033, 2×2 SparseMatrixCSC{Float64,Int64} with 0 stored entries, \n",
       "  [2, 1]  =  5.47465)); StencilPoint{SparseMatrixCSC{Float64,Int64},3,7}((\n",
       "  [2, 1]  =  1.56003, 2×2 SparseMatrixCSC{Float64,Int64} with 0 stored entries, \n",
       "  [2, 1]  =  0.00890022, \n",
       "  [1, 1]  =  -5.28373\n",
       "  [2, 1]  =  -20.6884\n",
       "  [1, 2]  =  -8.80622e6\n",
       "  [2, 2]  =  7.29265e6, \n",
       "  [2, 1]  =  0.00777744, \n",
       "  [2, 1]  =  0.159739, \n",
       "  [2, 1]  =  1.44956)) StencilPoint{SparseMatrixCSC{Float64,Int64},3,7}((\n",
       "  [2, 1]  =  0.524672, \n",
       "  [2, 1]  =  0.159739, \n",
       "  [2, 1]  =  0.00307796, \n",
       "  [1, 1]  =  -3.64751\n",
       "  [2, 1]  =  -13.4237\n",
       "  [1, 2]  =  -6.07918e6\n",
       "  [2, 2]  =  5.03432e6, \n",
       "  [2, 1]  =  0.0029328, \n",
       "  [2, 1]  =  0.0858402, \n",
       "  [2, 1]  =  0.565074)) … StencilPoint{SparseMatrixCSC{Float64,Int64},3,7}((\n",
       "  [2, 1]  =  2.88629, \n",
       "  [2, 1]  =  1.00127, \n",
       "  [2, 1]  =  0.0652102, \n",
       "  [1, 1]  =  -7.86734\n",
       "  [2, 1]  =  -37.7953\n",
       "  [1, 2]  =  -1.31122e7\n",
       "  [2, 2]  =  1.08586e7, \n",
       "  [2, 1]  =  0.0126279, \n",
       "  [2, 1]  =  2.11713, \n",
       "  [2, 1]  =  5.65221)) StencilPoint{SparseMatrixCSC{Float64,Int64},3,7}((\n",
       "  [2, 1]  =  5.47465, \n",
       "  [2, 1]  =  2.11713, \n",
       "  [2, 1]  =  243.713, \n",
       "  [1, 1]  =  -9.30478\n",
       "  [2, 1]  =  -292.245\n",
       "  [1, 2]  =  -1.5508e7\n",
       "  [2, 2]  =  1.28425e7, \n",
       "  [2, 1]  =  0.00546958, 2×2 SparseMatrixCSC{Float64,Int64} with 0 stored entries, \n",
       "  [2, 1]  =  10.1131)); … ; StencilPoint{SparseMatrixCSC{Float64,Int64},3,7}((\n",
       "  [2, 1]  =  6.67529, 2×2 SparseMatrixCSC{Float64,Int64} with 0 stored entries, \n",
       "  [2, 1]  =  204.706, \n",
       "  [1, 1]  =  -9.09823\n",
       "  [2, 1]  =  -254.275\n",
       "  [1, 2]  =  -1.51637e7\n",
       "  [2, 2]  =  1.25574e7, \n",
       "  [2, 1]  =  0.0142669, \n",
       "  [2, 1]  =  1.18807, \n",
       "  [2, 1]  =  11.554)) StencilPoint{SparseMatrixCSC{Float64,Int64},3,7}((\n",
       "  [2, 1]  =  2.11551, \n",
       "  [2, 1]  =  1.18807, \n",
       "  [2, 1]  =  0.0250539, \n",
       "  [1, 1]  =  -7.3299\n",
       "  [2, 1]  =  -31.6281\n",
       "  [1, 2]  =  -1.22165e7\n",
       "  [2, 2]  =  1.01168e7, \n",
       "  [2, 1]  =  0.00737025, \n",
       "  [2, 1]  =  0.81417, \n",
       "  [2, 1]  =  3.19761)) … StencilPoint{SparseMatrixCSC{Float64,Int64},3,7}((\n",
       "  [2, 1]  =  28.6035, \n",
       "  [2, 1]  =  5.48692, \n",
       "  [2, 1]  =  729.605, \n",
       "  [1, 1]  =  -10.9319\n",
       "  [2, 1]  =  -844.364\n",
       "  [1, 2]  =  -1.82199e7\n",
       "  [2, 2]  =  1.50884e7, \n",
       "  [2, 1]  =  0.0576358, \n",
       "  [2, 1]  =  15.6068, \n",
       "  [2, 1]  =  28.7917)) StencilPoint{SparseMatrixCSC{Float64,Int64},3,7}((\n",
       "  [2, 1]  =  26.541, \n",
       "  [2, 1]  =  15.6068, \n",
       "  [2, 1]  =  953.27, \n",
       "  [1, 1]  =  -10.9752\n",
       "  [2, 1]  =  -1058.26\n",
       "  [1, 2]  =  -1.8292e7\n",
       "  [2, 2]  =  1.5148e7, \n",
       "  [2, 1]  =  0.096887, 2×2 SparseMatrixCSC{Float64,Int64} with 0 stored entries, \n",
       "  [2, 1]  =  26.3868)); StencilPoint{SparseMatrixCSC{Float64,Int64},3,7}((\n",
       "  [2, 1]  =  11.554, 2×2 SparseMatrixCSC{Float64,Int64} with 0 stored entries, \n",
       "  [2, 1]  =  0.0782508, \n",
       "  [1, 1]  =  -9.41778\n",
       "  [2, 1]  =  -45.0459\n",
       "  [1, 2]  =  -1.56963e7\n",
       "  [2, 2]  =  1.29985e7, \n",
       "  [2, 1]  =  0.0129062, \n",
       "  [2, 1]  =  1.99865, 2×2 SparseMatrixCSC{Float64,Int64} with 0 stored entries)) StencilPoint{SparseMatrixCSC{Float64,Int64},3,7}((\n",
       "  [2, 1]  =  3.19761, \n",
       "  [2, 1]  =  1.99865, \n",
       "  [2, 1]  =  0.0437572, \n",
       "  [1, 1]  =  -8.00647\n",
       "  [2, 1]  =  -33.0181\n",
       "  [1, 2]  =  -1.33441e7\n",
       "  [2, 2]  =  1.10506e7, \n",
       "  [2, 1]  =  0.0061119, \n",
       "  [2, 1]  =  1.25056, 2×2 SparseMatrixCSC{Float64,Int64} with 0 stored entries)) … StencilPoint{SparseMatrixCSC{Float64,Int64},3,7}((\n",
       "  [2, 1]  =  28.7917, \n",
       "  [2, 1]  =  3.3114, \n",
       "  [2, 1]  =  0.199486, \n",
       "  [1, 1]  =  -8.99393\n",
       "  [2, 1]  =  -67.6671\n",
       "  [1, 2]  =  -1.49899e7\n",
       "  [2, 2]  =  1.24135e7, \n",
       "  [2, 1]  =  0.0178594, \n",
       "  [2, 1]  =  5.55423, 2×2 SparseMatrixCSC{Float64,Int64} with 0 stored entries)) StencilPoint{SparseMatrixCSC{Float64,Int64},3,7}((\n",
       "  [2, 1]  =  26.3868, \n",
       "  [2, 1]  =  5.55423, \n",
       "  [2, 1]  =  0.174275, \n",
       "  [1, 1]  =  -9.62582\n",
       "  [2, 1]  =  -64.2715\n",
       "  [1, 2]  =  -1.6043e7\n",
       "  [2, 2]  =  1.32856e7, \n",
       "  [2, 1]  =  0.0517101, 2×2 SparseMatrixCSC{Float64,Int64} with 0 stored entries, 2×2 SparseMatrixCSC{Float64,Int64} with 0 stored entries))]\n",
       "\n",
       "StencilPoint{SparseMatrixCSC{Float64,Int64},3,7}[StencilPoint{SparseMatrixCSC{Float64,Int64},3,7}((2×2 SparseMatrixCSC{Float64,Int64} with 0 stored entries, 2×2 SparseMatrixCSC{Float64,Int64} with 0 stored entries, \n",
       "  [2, 1]  =  0.0113323, \n",
       "  [1, 1]  =  -6.67082\n",
       "  [2, 1]  =  -24.9239\n",
       "  [1, 2]  =  -1.1118e7\n",
       "  [2, 2]  =  9.20713e6, 2×2 SparseMatrixCSC{Float64,Int64} with 0 stored entries, \n",
       "  [2, 1]  =  0.510903, \n",
       "  [2, 1]  =  2.27616)) StencilPoint{SparseMatrixCSC{Float64,Int64},3,7}((2×2 SparseMatrixCSC{Float64,Int64} with 0 stored entries, \n",
       "  [2, 1]  =  0.510903, \n",
       "  [2, 1]  =  0.00602448, \n",
       "  [1, 1]  =  -5.47837\n",
       "  [2, 1]  =  -20.5533\n",
       "  [1, 2]  =  -9.13062e6\n",
       "  [2, 2]  =  7.56129e6, 2×2 SparseMatrixCSC{Float64,Int64} with 0 stored entries, \n",
       "  [2, 1]  =  0.276515, \n",
       "  [2, 1]  =  1.6127)) … StencilPoint{SparseMatrixCSC{Float64,Int64},3,7}((2×2 SparseMatrixCSC{Float64,Int64} with 0 stored entries, \n",
       "  [2, 1]  =  0.886801, \n",
       "  [2, 1]  =  0.0259944, \n",
       "  [1, 1]  =  -6.43986\n",
       "  [2, 1]  =  -24.1516\n",
       "  [1, 2]  =  -1.07331e7\n",
       "  [2, 2]  =  8.88834e6, 2×2 SparseMatrixCSC{Float64,Int64} with 0 stored entries, \n",
       "  [2, 1]  =  0.200716, \n",
       "  [2, 1]  =  1.70606)) StencilPoint{SparseMatrixCSC{Float64,Int64},3,7}((2×2 SparseMatrixCSC{Float64,Int64} with 0 stored entries, \n",
       "  [2, 1]  =  0.200716, \n",
       "  [2, 1]  =  0.00386033, \n",
       "  [1, 1]  =  -4.0007\n",
       "  [2, 1]  =  -13.9159\n",
       "  [1, 2]  =  -6.66783e6\n",
       "  [2, 2]  =  5.5218e6, 2×2 SparseMatrixCSC{Float64,Int64} with 0 stored entries, 2×2 SparseMatrixCSC{Float64,Int64} with 0 stored entries, \n",
       "  [2, 1]  =  0.454201)); StencilPoint{SparseMatrixCSC{Float64,Int64},3,7}((\n",
       "  [2, 1]  =  2.27616, 2×2 SparseMatrixCSC{Float64,Int64} with 0 stored entries, \n",
       "  [2, 1]  =  0.00777744, \n",
       "  [1, 1]  =  -6.48618\n",
       "  [2, 1]  =  -26.4549\n",
       "  [1, 2]  =  -1.08103e7\n",
       "  [2, 2]  =  8.95228e6, 2×2 SparseMatrixCSC{Float64,Int64} with 0 stored entries, \n",
       "  [2, 1]  =  0.623642, \n",
       "  [2, 1]  =  2.06187)) StencilPoint{SparseMatrixCSC{Float64,Int64},3,7}((\n",
       "  [2, 1]  =  1.6127, \n",
       "  [2, 1]  =  0.623642, \n",
       "  [2, 1]  =  0.0029328, \n",
       "  [1, 1]  =  -5.68954\n",
       "  [2, 1]  =  -22.8802\n",
       "  [1, 2]  =  -9.48256e6\n",
       "  [2, 2]  =  7.85274e6, 2×2 SparseMatrixCSC{Float64,Int64} with 0 stored entries, \n",
       "  [2, 1]  =  0.501905, \n",
       "  [2, 1]  =  1.29243)) … StencilPoint{SparseMatrixCSC{Float64,Int64},3,7}((\n",
       "  [2, 1]  =  1.70606, \n",
       "  [2, 1]  =  0.436725, \n",
       "  [2, 1]  =  0.0126279, \n",
       "  [1, 1]  =  -5.50083\n",
       "  [2, 1]  =  -21.6708\n",
       "  [1, 2]  =  -9.16805e6\n",
       "  [2, 2]  =  7.59229e6, 2×2 SparseMatrixCSC{Float64,Int64} with 0 stored entries, \n",
       "  [2, 1]  =  0.227895, \n",
       "  [2, 1]  =  1.06602)) StencilPoint{SparseMatrixCSC{Float64,Int64},3,7}((\n",
       "  [2, 1]  =  0.454201, \n",
       "  [2, 1]  =  0.227895, \n",
       "  [2, 1]  =  0.00546958, \n",
       "  [1, 1]  =  -5.07163\n",
       "  [2, 1]  =  -18.1265\n",
       "  [1, 2]  =  -8.45272e6\n",
       "  [2, 2]  =  6.99991e6, 2×2 SparseMatrixCSC{Float64,Int64} with 0 stored entries, 2×2 SparseMatrixCSC{Float64,Int64} with 0 stored entries, \n",
       "  [2, 1]  =  0.639202)); … ; StencilPoint{SparseMatrixCSC{Float64,Int64},3,7}((\n",
       "  [2, 1]  =  1.81238, 2×2 SparseMatrixCSC{Float64,Int64} with 0 stored entries, \n",
       "  [2, 1]  =  0.0142669, \n",
       "  [1, 1]  =  -5.01351\n",
       "  [2, 1]  =  -20.1539\n",
       "  [1, 2]  =  -8.35585e6\n",
       "  [2, 2]  =  6.91969e6, 2×2 SparseMatrixCSC{Float64,Int64} with 0 stored entries, \n",
       "  [2, 1]  =  0.360014, \n",
       "  [2, 1]  =  1.36001)) StencilPoint{SparseMatrixCSC{Float64,Int64},3,7}((\n",
       "  [2, 1]  =  1.14513, \n",
       "  [2, 1]  =  0.360014, \n",
       "  [2, 1]  =  0.00737025, \n",
       "  [1, 1]  =  -4.6129\n",
       "  [2, 1]  =  -17.8844\n",
       "  [1, 2]  =  -7.68817e6\n",
       "  [2, 2]  =  6.36676e6, 2×2 SparseMatrixCSC{Float64,Int64} with 0 stored entries, \n",
       "  [2, 1]  =  0.243163, \n",
       "  [2, 1]  =  0.848488)) … StencilPoint{SparseMatrixCSC{Float64,Int64},3,7}((\n",
       "  [2, 1]  =  4.05075, \n",
       "  [2, 1]  =  2.34329, \n",
       "  [2, 1]  =  0.0576358, \n",
       "  [1, 1]  =  -6.27834\n",
       "  [2, 1]  =  -32.3437\n",
       "  [1, 2]  =  -1.04639e7\n",
       "  [2, 2]  =  8.66542e6, 2×2 SparseMatrixCSC{Float64,Int64} with 0 stored entries, \n",
       "  [2, 1]  =  2.15793, \n",
       "  [2, 1]  =  2.93714)) StencilPoint{SparseMatrixCSC{Float64,Int64},3,7}((\n",
       "  [2, 1]  =  6.92178, \n",
       "  [2, 1]  =  2.15793, \n",
       "  [2, 1]  =  0.096887, \n",
       "  [1, 1]  =  -7.06604\n",
       "  [2, 1]  =  -40.9726\n",
       "  [1, 2]  =  -1.17767e7\n",
       "  [2, 2]  =  9.75261e6, 2×2 SparseMatrixCSC{Float64,Int64} with 0 stored entries, 2×2 SparseMatrixCSC{Float64,Int64} with 0 stored entries, \n",
       "  [2, 1]  =  8.38972)); StencilPoint{SparseMatrixCSC{Float64,Int64},3,7}((\n",
       "  [2, 1]  =  1.36001, 2×2 SparseMatrixCSC{Float64,Int64} with 0 stored entries, \n",
       "  [2, 1]  =  0.0129062, \n",
       "  [1, 1]  =  -4.52685\n",
       "  [2, 1]  =  -16.6579\n",
       "  [1, 2]  =  -7.54475e6\n",
       "  [2, 2]  =  6.24799e6, 2×2 SparseMatrixCSC{Float64,Int64} with 0 stored entries, \n",
       "  [2, 1]  =  0.273596, 2×2 SparseMatrixCSC{Float64,Int64} with 0 stored entries)) StencilPoint{SparseMatrixCSC{Float64,Int64},3,7}((\n",
       "  [2, 1]  =  0.848488, \n",
       "  [2, 1]  =  0.273596, \n",
       "  [2, 1]  =  0.0061119, \n",
       "  [1, 1]  =  -3.70247\n",
       "  [2, 1]  =  -13.6298\n",
       "  [1, 2]  =  -6.17078e6\n",
       "  [2, 2]  =  5.11018e6, 2×2 SparseMatrixCSC{Float64,Int64} with 0 stored entries, \n",
       "  [2, 1]  =  0.237164, 2×2 SparseMatrixCSC{Float64,Int64} with 0 stored entries)) … StencilPoint{SparseMatrixCSC{Float64,Int64},3,7}((\n",
       "  [2, 1]  =  2.93714, \n",
       "  [2, 1]  =  0.844998, \n",
       "  [2, 1]  =  0.0178594, \n",
       "  [1, 1]  =  -4.68715\n",
       "  [2, 1]  =  -20.2508\n",
       "  [1, 2]  =  -7.81192e6\n",
       "  [2, 2]  =  6.46925e6, 2×2 SparseMatrixCSC{Float64,Int64} with 0 stored entries, \n",
       "  [2, 1]  =  0.924586, 2×2 SparseMatrixCSC{Float64,Int64} with 0 stored entries)) StencilPoint{SparseMatrixCSC{Float64,Int64},3,7}((\n",
       "  [2, 1]  =  8.38972, \n",
       "  [2, 1]  =  0.924586, \n",
       "  [2, 1]  =  0.0517101, \n",
       "  [1, 1]  =  -6.86515\n",
       "  [2, 1]  =  -32.1992\n",
       "  [1, 2]  =  -1.14419e7\n",
       "  [2, 2]  =  9.47534e6, 2×2 SparseMatrixCSC{Float64,Int64} with 0 stored entries, 2×2 SparseMatrixCSC{Float64,Int64} with 0 stored entries, 2×2 SparseMatrixCSC{Float64,Int64} with 0 stored entries))])"
      ]
     },
     "execution_count": 31,
     "metadata": {},
     "output_type": "execute_result"
    }
   ],
   "source": [
    "sparseSarray = Array{StencilPoint{typeof(a),3,7},3}(Nx, Ny, Nz)\n",
    "for i in 1:Nx, j in 1:Ny, k in 1:Nz\n",
    "    sparseSarray[i,j,k] = StencilPoint{typeof(a),3,7}(Tuple([S[i,j,k].value[t] for t in 1:7]))\n",
    "end\n",
    "sparseS = Stencil{typeof(a),3,7,typeof(sparseSarray)}(sparseSarray)"
   ]
  },
  {
   "cell_type": "code",
   "execution_count": 70,
   "metadata": {
    "collapsed": true
   },
   "outputs": [],
   "source": [
    "b3raw = map(t->sparse(t),res.A)\n",
    "b3 = Grid{eltype(b3raw),3,7,typeof(b3raw)}(b3raw)\n",
    "b3copy = Grid{eltype(b3raw),3,7,typeof(b3raw)}(b3raw);"
   ]
  },
  {
   "cell_type": "code",
   "execution_count": 73,
   "metadata": {},
   "outputs": [
    {
     "ename": "LoadError",
     "evalue": "\u001b[91mMethodError: no method matching zero(::Type{SparseMatrixCSC{Float64,Int64}})\u001b[0m\nClosest candidates are:\n  zero(\u001b[91m::Type{Base.LibGit2.GitHash}\u001b[39m) at libgit2/oid.jl:106\n  zero(\u001b[91m::Type{Base.Pkg.Resolve.VersionWeights.VWPreBuildItem}\u001b[39m) at pkg/resolve/versionweight.jl:82\n  zero(\u001b[91m::Type{Base.Pkg.Resolve.VersionWeights.VWPreBuild}\u001b[39m) at pkg/resolve/versionweight.jl:124\n  ...\u001b[39m",
     "output_type": "error",
     "traceback": [
      "\u001b[91mMethodError: no method matching zero(::Type{SparseMatrixCSC{Float64,Int64}})\u001b[0m\nClosest candidates are:\n  zero(\u001b[91m::Type{Base.LibGit2.GitHash}\u001b[39m) at libgit2/oid.jl:106\n  zero(\u001b[91m::Type{Base.Pkg.Resolve.VersionWeights.VWPreBuildItem}\u001b[39m) at pkg/resolve/versionweight.jl:82\n  zero(\u001b[91m::Type{Base.Pkg.Resolve.VersionWeights.VWPreBuild}\u001b[39m) at pkg/resolve/versionweight.jl:124\n  ...\u001b[39m",
      "",
      "Stacktrace:",
      " [1] \u001b[1mA_mul_B!\u001b[22m\u001b[22m\u001b[1m(\u001b[22m\u001b[22m::Int64, ::Stencil{SparseMatrixCSC{Float64,Int64},3,7,Array{StencilPoint{SparseMatrixCSC{Float64,Int64},3,7},3}}, ::Grid{SparseVector{Float64,Int64},3,7,Array{SparseVector{Float64,Int64},3}}, ::Int64, ::Grid{SparseVector{Float64,Int64},3,7,Array{SparseVector{Float64,Int64},3}}\u001b[1m)\u001b[22m\u001b[22m at \u001b[1m/Users/sw2030/Desktop/gitrep/Reservoirnew/src/Stencil.jl:142\u001b[22m\u001b[22m",
      " [2] \u001b[1m##core#763\u001b[22m\u001b[22m\u001b[1m(\u001b[22m\u001b[22m\u001b[1m)\u001b[22m\u001b[22m at \u001b[1m/Users/sw2030/.julia/v0.6/BenchmarkTools/src/execution.jl:316\u001b[22m\u001b[22m",
      " [3] \u001b[1m##sample#764\u001b[22m\u001b[22m\u001b[1m(\u001b[22m\u001b[22m::BenchmarkTools.Parameters\u001b[1m)\u001b[22m\u001b[22m at \u001b[1m/Users/sw2030/.julia/v0.6/BenchmarkTools/src/execution.jl:322\u001b[22m\u001b[22m",
      " [4] \u001b[1m#_run#146\u001b[22m\u001b[22m\u001b[1m(\u001b[22m\u001b[22m::Bool, ::String, ::Array{Any,1}, ::Function, ::BenchmarkTools.Benchmark{Symbol(\"##benchmark#762\")}, ::BenchmarkTools.Parameters\u001b[1m)\u001b[22m\u001b[22m at \u001b[1m/Users/sw2030/.julia/v0.6/BenchmarkTools/src/execution.jl:350\u001b[22m\u001b[22m",
      " [5] \u001b[1m(::BenchmarkTools.#kw##_run)\u001b[22m\u001b[22m\u001b[1m(\u001b[22m\u001b[22m::Array{Any,1}, ::BenchmarkTools.#_run, ::BenchmarkTools.Benchmark{Symbol(\"##benchmark#762\")}, ::BenchmarkTools.Parameters\u001b[1m)\u001b[22m\u001b[22m at \u001b[1m./<missing>:0\u001b[22m\u001b[22m",
      " [6] \u001b[1manonymous\u001b[22m\u001b[22m at \u001b[1m./<missing>:?\u001b[22m\u001b[22m",
      " [7] \u001b[1m#run_result#19\u001b[22m\u001b[22m\u001b[1m(\u001b[22m\u001b[22m::Array{Any,1}, ::Function, ::BenchmarkTools.Benchmark{Symbol(\"##benchmark#762\")}, ::BenchmarkTools.Parameters\u001b[1m)\u001b[22m\u001b[22m at \u001b[1m/Users/sw2030/.julia/v0.6/BenchmarkTools/src/execution.jl:44\u001b[22m\u001b[22m",
      " [8] \u001b[1m(::BenchmarkTools.#kw##run_result)\u001b[22m\u001b[22m\u001b[1m(\u001b[22m\u001b[22m::Array{Any,1}, ::BenchmarkTools.#run_result, ::BenchmarkTools.Benchmark{Symbol(\"##benchmark#762\")}, ::BenchmarkTools.Parameters\u001b[1m)\u001b[22m\u001b[22m at \u001b[1m./<missing>:0\u001b[22m\u001b[22m",
      " [9] \u001b[1m#run#21\u001b[22m\u001b[22m\u001b[1m(\u001b[22m\u001b[22m::Array{Any,1}, ::Function, ::BenchmarkTools.Benchmark{Symbol(\"##benchmark#762\")}, ::BenchmarkTools.Parameters\u001b[1m)\u001b[22m\u001b[22m at \u001b[1m/Users/sw2030/.julia/v0.6/BenchmarkTools/src/execution.jl:67\u001b[22m\u001b[22m",
      " [10] \u001b[1m(::Base.#kw##run)\u001b[22m\u001b[22m\u001b[1m(\u001b[22m\u001b[22m::Array{Any,1}, ::Base.#run, ::BenchmarkTools.Benchmark{Symbol(\"##benchmark#762\")}, ::BenchmarkTools.Parameters\u001b[1m)\u001b[22m\u001b[22m at \u001b[1m./<missing>:0\u001b[22m\u001b[22m",
      " [11] \u001b[1mwarmup\u001b[22m\u001b[22m\u001b[1m(\u001b[22m\u001b[22m::BenchmarkTools.Benchmark{Symbol(\"##benchmark#762\")}\u001b[1m)\u001b[22m\u001b[22m at \u001b[1m/Users/sw2030/.julia/v0.6/BenchmarkTools/src/execution.jl:100\u001b[22m\u001b[22m"
     ]
    }
   ],
   "source": [
    "@btime A_mul_B!(1,sparseS,b3,2,b3copy)"
   ]
  },
  {
   "cell_type": "code",
   "execution_count": 51,
   "metadata": {},
   "outputs": [
    {
     "data": {
      "text/plain": [
       "10×10 SparseMatrixCSC{Float64,Int64} with 10 stored entries:\n",
       "  [1 ,  1]  =  1.0\n",
       "  [2 ,  2]  =  1.0\n",
       "  [3 ,  3]  =  1.0\n",
       "  [4 ,  4]  =  1.0\n",
       "  [5 ,  5]  =  1.0\n",
       "  [6 ,  6]  =  1.0\n",
       "  [7 ,  7]  =  1.0\n",
       "  [8 ,  8]  =  1.0\n",
       "  [9 ,  9]  =  1.0\n",
       "  [10, 10]  =  1.0"
      ]
     },
     "execution_count": 51,
     "metadata": {},
     "output_type": "execute_result"
    }
   ],
   "source": [
    "ss"
   ]
  },
  {
   "cell_type": "code",
   "execution_count": 69,
   "metadata": {},
   "outputs": [
    {
     "data": {
      "text/plain": [
       "22×22×22 Array{SparseVector{Float64,Int64},3}:\n",
       "[:, :, 1] =\n",
       " 2-element SparseVector{Float64,Int64} with 0 stored entries  …  2-element SparseVector{Float64,Int64} with 0 stored entries\n",
       " 2-element SparseVector{Float64,Int64} with 0 stored entries     2-element SparseVector{Float64,Int64} with 0 stored entries\n",
       " 2-element SparseVector{Float64,Int64} with 0 stored entries     2-element SparseVector{Float64,Int64} with 0 stored entries\n",
       " 2-element SparseVector{Float64,Int64} with 0 stored entries     2-element SparseVector{Float64,Int64} with 0 stored entries\n",
       " 2-element SparseVector{Float64,Int64} with 0 stored entries     2-element SparseVector{Float64,Int64} with 0 stored entries\n",
       " 2-element SparseVector{Float64,Int64} with 0 stored entries  …  2-element SparseVector{Float64,Int64} with 0 stored entries\n",
       " 2-element SparseVector{Float64,Int64} with 0 stored entries     2-element SparseVector{Float64,Int64} with 0 stored entries\n",
       " 2-element SparseVector{Float64,Int64} with 0 stored entries     2-element SparseVector{Float64,Int64} with 0 stored entries\n",
       " 2-element SparseVector{Float64,Int64} with 0 stored entries     2-element SparseVector{Float64,Int64} with 0 stored entries\n",
       " 2-element SparseVector{Float64,Int64} with 0 stored entries     2-element SparseVector{Float64,Int64} with 0 stored entries\n",
       " 2-element SparseVector{Float64,Int64} with 0 stored entries  …  2-element SparseVector{Float64,Int64} with 0 stored entries\n",
       " 2-element SparseVector{Float64,Int64} with 0 stored entries     2-element SparseVector{Float64,Int64} with 0 stored entries\n",
       " 2-element SparseVector{Float64,Int64} with 0 stored entries     2-element SparseVector{Float64,Int64} with 0 stored entries\n",
       " 2-element SparseVector{Float64,Int64} with 0 stored entries     2-element SparseVector{Float64,Int64} with 0 stored entries\n",
       " 2-element SparseVector{Float64,Int64} with 0 stored entries     2-element SparseVector{Float64,Int64} with 0 stored entries\n",
       " 2-element SparseVector{Float64,Int64} with 0 stored entries  …  2-element SparseVector{Float64,Int64} with 0 stored entries\n",
       " 2-element SparseVector{Float64,Int64} with 0 stored entries     2-element SparseVector{Float64,Int64} with 0 stored entries\n",
       " 2-element SparseVector{Float64,Int64} with 0 stored entries     2-element SparseVector{Float64,Int64} with 0 stored entries\n",
       " 2-element SparseVector{Float64,Int64} with 0 stored entries     2-element SparseVector{Float64,Int64} with 0 stored entries\n",
       " 2-element SparseVector{Float64,Int64} with 0 stored entries     2-element SparseVector{Float64,Int64} with 0 stored entries\n",
       " 2-element SparseVector{Float64,Int64} with 0 stored entries  …  2-element SparseVector{Float64,Int64} with 0 stored entries\n",
       " 2-element SparseVector{Float64,Int64} with 0 stored entries     2-element SparseVector{Float64,Int64} with 0 stored entries\n",
       "\n",
       "[:, :, 2] =\n",
       " 2-element SparseVector{Float64,Int64} with 0 stored entries  …  2-element SparseVector{Float64,Int64} with 0 stored entries\n",
       " 2-element SparseVector{Float64,Int64} with 0 stored entries     2-element SparseVector{Float64,Int64} with 0 stored entries\n",
       " 2-element SparseVector{Float64,Int64} with 0 stored entries     2-element SparseVector{Float64,Int64} with 0 stored entries\n",
       " 2-element SparseVector{Float64,Int64} with 0 stored entries     2-element SparseVector{Float64,Int64} with 0 stored entries\n",
       " 2-element SparseVector{Float64,Int64} with 0 stored entries     2-element SparseVector{Float64,Int64} with 0 stored entries\n",
       " 2-element SparseVector{Float64,Int64} with 0 stored entries  …  2-element SparseVector{Float64,Int64} with 0 stored entries\n",
       " 2-element SparseVector{Float64,Int64} with 0 stored entries     2-element SparseVector{Float64,Int64} with 0 stored entries\n",
       " 2-element SparseVector{Float64,Int64} with 0 stored entries     2-element SparseVector{Float64,Int64} with 0 stored entries\n",
       " 2-element SparseVector{Float64,Int64} with 0 stored entries     2-element SparseVector{Float64,Int64} with 0 stored entries\n",
       " 2-element SparseVector{Float64,Int64} with 0 stored entries     2-element SparseVector{Float64,Int64} with 0 stored entries\n",
       " 2-element SparseVector{Float64,Int64} with 0 stored entries  …  2-element SparseVector{Float64,Int64} with 0 stored entries\n",
       " 2-element SparseVector{Float64,Int64} with 0 stored entries     2-element SparseVector{Float64,Int64} with 0 stored entries\n",
       " 2-element SparseVector{Float64,Int64} with 0 stored entries     2-element SparseVector{Float64,Int64} with 0 stored entries\n",
       " 2-element SparseVector{Float64,Int64} with 0 stored entries     2-element SparseVector{Float64,Int64} with 0 stored entries\n",
       " 2-element SparseVector{Float64,Int64} with 0 stored entries     2-element SparseVector{Float64,Int64} with 0 stored entries\n",
       " 2-element SparseVector{Float64,Int64} with 0 stored entries  …  2-element SparseVector{Float64,Int64} with 0 stored entries\n",
       " 2-element SparseVector{Float64,Int64} with 0 stored entries     2-element SparseVector{Float64,Int64} with 0 stored entries\n",
       " 2-element SparseVector{Float64,Int64} with 0 stored entries     2-element SparseVector{Float64,Int64} with 0 stored entries\n",
       " 2-element SparseVector{Float64,Int64} with 0 stored entries     2-element SparseVector{Float64,Int64} with 0 stored entries\n",
       " 2-element SparseVector{Float64,Int64} with 0 stored entries     2-element SparseVector{Float64,Int64} with 0 stored entries\n",
       " 2-element SparseVector{Float64,Int64} with 0 stored entries  …  2-element SparseVector{Float64,Int64} with 0 stored entries\n",
       " 2-element SparseVector{Float64,Int64} with 0 stored entries     2-element SparseVector{Float64,Int64} with 0 stored entries\n",
       "\n",
       "[:, :, 3] =\n",
       " 2-element SparseVector{Float64,Int64} with 0 stored entries  …  2-element SparseVector{Float64,Int64} with 0 stored entries\n",
       " 2-element SparseVector{Float64,Int64} with 0 stored entries     2-element SparseVector{Float64,Int64} with 0 stored entries\n",
       " 2-element SparseVector{Float64,Int64} with 0 stored entries     2-element SparseVector{Float64,Int64} with 0 stored entries\n",
       " 2-element SparseVector{Float64,Int64} with 0 stored entries     2-element SparseVector{Float64,Int64} with 0 stored entries\n",
       " 2-element SparseVector{Float64,Int64} with 0 stored entries     2-element SparseVector{Float64,Int64} with 0 stored entries\n",
       " 2-element SparseVector{Float64,Int64} with 0 stored entries  …  2-element SparseVector{Float64,Int64} with 0 stored entries\n",
       " 2-element SparseVector{Float64,Int64} with 0 stored entries     2-element SparseVector{Float64,Int64} with 0 stored entries\n",
       " 2-element SparseVector{Float64,Int64} with 0 stored entries     2-element SparseVector{Float64,Int64} with 0 stored entries\n",
       " 2-element SparseVector{Float64,Int64} with 0 stored entries     2-element SparseVector{Float64,Int64} with 0 stored entries\n",
       " 2-element SparseVector{Float64,Int64} with 0 stored entries     2-element SparseVector{Float64,Int64} with 0 stored entries\n",
       " 2-element SparseVector{Float64,Int64} with 0 stored entries  …  2-element SparseVector{Float64,Int64} with 0 stored entries\n",
       " 2-element SparseVector{Float64,Int64} with 0 stored entries     2-element SparseVector{Float64,Int64} with 0 stored entries\n",
       " 2-element SparseVector{Float64,Int64} with 0 stored entries     2-element SparseVector{Float64,Int64} with 0 stored entries\n",
       " 2-element SparseVector{Float64,Int64} with 0 stored entries     2-element SparseVector{Float64,Int64} with 0 stored entries\n",
       " 2-element SparseVector{Float64,Int64} with 0 stored entries     2-element SparseVector{Float64,Int64} with 0 stored entries\n",
       " 2-element SparseVector{Float64,Int64} with 0 stored entries  …  2-element SparseVector{Float64,Int64} with 0 stored entries\n",
       " 2-element SparseVector{Float64,Int64} with 0 stored entries     2-element SparseVector{Float64,Int64} with 0 stored entries\n",
       " 2-element SparseVector{Float64,Int64} with 0 stored entries     2-element SparseVector{Float64,Int64} with 0 stored entries\n",
       " 2-element SparseVector{Float64,Int64} with 0 stored entries     2-element SparseVector{Float64,Int64} with 0 stored entries\n",
       " 2-element SparseVector{Float64,Int64} with 0 stored entries     2-element SparseVector{Float64,Int64} with 0 stored entries\n",
       " 2-element SparseVector{Float64,Int64} with 0 stored entries  …  2-element SparseVector{Float64,Int64} with 0 stored entries\n",
       " 2-element SparseVector{Float64,Int64} with 0 stored entries     2-element SparseVector{Float64,Int64} with 0 stored entries\n",
       "\n",
       "...\n",
       "\n",
       "[:, :, 20] =\n",
       " 2-element SparseVector{Float64,Int64} with 0 stored entries  …  2-element SparseVector{Float64,Int64} with 0 stored entries\n",
       " 2-element SparseVector{Float64,Int64} with 0 stored entries     2-element SparseVector{Float64,Int64} with 0 stored entries\n",
       " 2-element SparseVector{Float64,Int64} with 0 stored entries     2-element SparseVector{Float64,Int64} with 0 stored entries\n",
       " 2-element SparseVector{Float64,Int64} with 0 stored entries     2-element SparseVector{Float64,Int64} with 0 stored entries\n",
       " 2-element SparseVector{Float64,Int64} with 0 stored entries     2-element SparseVector{Float64,Int64} with 0 stored entries\n",
       " 2-element SparseVector{Float64,Int64} with 0 stored entries  …  2-element SparseVector{Float64,Int64} with 0 stored entries\n",
       " 2-element SparseVector{Float64,Int64} with 0 stored entries     2-element SparseVector{Float64,Int64} with 0 stored entries\n",
       " 2-element SparseVector{Float64,Int64} with 0 stored entries     2-element SparseVector{Float64,Int64} with 0 stored entries\n",
       " 2-element SparseVector{Float64,Int64} with 0 stored entries     2-element SparseVector{Float64,Int64} with 0 stored entries\n",
       " 2-element SparseVector{Float64,Int64} with 0 stored entries     2-element SparseVector{Float64,Int64} with 0 stored entries\n",
       " 2-element SparseVector{Float64,Int64} with 0 stored entries  …  2-element SparseVector{Float64,Int64} with 0 stored entries\n",
       " 2-element SparseVector{Float64,Int64} with 0 stored entries     2-element SparseVector{Float64,Int64} with 0 stored entries\n",
       " 2-element SparseVector{Float64,Int64} with 0 stored entries     2-element SparseVector{Float64,Int64} with 0 stored entries\n",
       " 2-element SparseVector{Float64,Int64} with 0 stored entries     2-element SparseVector{Float64,Int64} with 0 stored entries\n",
       " 2-element SparseVector{Float64,Int64} with 0 stored entries     2-element SparseVector{Float64,Int64} with 0 stored entries\n",
       " 2-element SparseVector{Float64,Int64} with 0 stored entries  …  2-element SparseVector{Float64,Int64} with 0 stored entries\n",
       " 2-element SparseVector{Float64,Int64} with 0 stored entries     2-element SparseVector{Float64,Int64} with 0 stored entries\n",
       " 2-element SparseVector{Float64,Int64} with 0 stored entries     2-element SparseVector{Float64,Int64} with 0 stored entries\n",
       " 2-element SparseVector{Float64,Int64} with 0 stored entries     2-element SparseVector{Float64,Int64} with 0 stored entries\n",
       " 2-element SparseVector{Float64,Int64} with 0 stored entries     2-element SparseVector{Float64,Int64} with 0 stored entries\n",
       " 2-element SparseVector{Float64,Int64} with 0 stored entries  …  2-element SparseVector{Float64,Int64} with 0 stored entries\n",
       " 2-element SparseVector{Float64,Int64} with 0 stored entries     2-element SparseVector{Float64,Int64} with 0 stored entries\n",
       "\n",
       "[:, :, 21] =\n",
       " 2-element SparseVector{Float64,Int64} with 0 stored entries  …  2-element SparseVector{Float64,Int64} with 0 stored entries\n",
       " 2-element SparseVector{Float64,Int64} with 0 stored entries     2-element SparseVector{Float64,Int64} with 0 stored entries\n",
       " 2-element SparseVector{Float64,Int64} with 0 stored entries     2-element SparseVector{Float64,Int64} with 0 stored entries\n",
       " 2-element SparseVector{Float64,Int64} with 0 stored entries     2-element SparseVector{Float64,Int64} with 0 stored entries\n",
       " 2-element SparseVector{Float64,Int64} with 0 stored entries     2-element SparseVector{Float64,Int64} with 0 stored entries\n",
       " 2-element SparseVector{Float64,Int64} with 0 stored entries  …  2-element SparseVector{Float64,Int64} with 0 stored entries\n",
       " 2-element SparseVector{Float64,Int64} with 0 stored entries     2-element SparseVector{Float64,Int64} with 0 stored entries\n",
       " 2-element SparseVector{Float64,Int64} with 0 stored entries     2-element SparseVector{Float64,Int64} with 0 stored entries\n",
       " 2-element SparseVector{Float64,Int64} with 0 stored entries     2-element SparseVector{Float64,Int64} with 0 stored entries\n",
       " 2-element SparseVector{Float64,Int64} with 0 stored entries     2-element SparseVector{Float64,Int64} with 0 stored entries\n",
       " 2-element SparseVector{Float64,Int64} with 0 stored entries  …  2-element SparseVector{Float64,Int64} with 0 stored entries\n",
       " 2-element SparseVector{Float64,Int64} with 0 stored entries     2-element SparseVector{Float64,Int64} with 0 stored entries\n",
       " 2-element SparseVector{Float64,Int64} with 0 stored entries     2-element SparseVector{Float64,Int64} with 0 stored entries\n",
       " 2-element SparseVector{Float64,Int64} with 0 stored entries     2-element SparseVector{Float64,Int64} with 0 stored entries\n",
       " 2-element SparseVector{Float64,Int64} with 0 stored entries     2-element SparseVector{Float64,Int64} with 0 stored entries\n",
       " 2-element SparseVector{Float64,Int64} with 0 stored entries  …  2-element SparseVector{Float64,Int64} with 0 stored entries\n",
       " 2-element SparseVector{Float64,Int64} with 0 stored entries     2-element SparseVector{Float64,Int64} with 0 stored entries\n",
       " 2-element SparseVector{Float64,Int64} with 0 stored entries     2-element SparseVector{Float64,Int64} with 0 stored entries\n",
       " 2-element SparseVector{Float64,Int64} with 0 stored entries     2-element SparseVector{Float64,Int64} with 0 stored entries\n",
       " 2-element SparseVector{Float64,Int64} with 0 stored entries     2-element SparseVector{Float64,Int64} with 0 stored entries\n",
       " 2-element SparseVector{Float64,Int64} with 0 stored entries  …  2-element SparseVector{Float64,Int64} with 0 stored entries\n",
       " 2-element SparseVector{Float64,Int64} with 0 stored entries     2-element SparseVector{Float64,Int64} with 0 stored entries\n",
       "\n",
       "[:, :, 22] =\n",
       " 2-element SparseVector{Float64,Int64} with 0 stored entries  …  2-element SparseVector{Float64,Int64} with 0 stored entries\n",
       " 2-element SparseVector{Float64,Int64} with 0 stored entries     2-element SparseVector{Float64,Int64} with 0 stored entries\n",
       " 2-element SparseVector{Float64,Int64} with 0 stored entries     2-element SparseVector{Float64,Int64} with 0 stored entries\n",
       " 2-element SparseVector{Float64,Int64} with 0 stored entries     2-element SparseVector{Float64,Int64} with 0 stored entries\n",
       " 2-element SparseVector{Float64,Int64} with 0 stored entries     2-element SparseVector{Float64,Int64} with 0 stored entries\n",
       " 2-element SparseVector{Float64,Int64} with 0 stored entries  …  2-element SparseVector{Float64,Int64} with 0 stored entries\n",
       " 2-element SparseVector{Float64,Int64} with 0 stored entries     2-element SparseVector{Float64,Int64} with 0 stored entries\n",
       " 2-element SparseVector{Float64,Int64} with 0 stored entries     2-element SparseVector{Float64,Int64} with 0 stored entries\n",
       " 2-element SparseVector{Float64,Int64} with 0 stored entries     2-element SparseVector{Float64,Int64} with 0 stored entries\n",
       " 2-element SparseVector{Float64,Int64} with 0 stored entries     2-element SparseVector{Float64,Int64} with 0 stored entries\n",
       " 2-element SparseVector{Float64,Int64} with 0 stored entries  …  2-element SparseVector{Float64,Int64} with 0 stored entries\n",
       " 2-element SparseVector{Float64,Int64} with 0 stored entries     2-element SparseVector{Float64,Int64} with 0 stored entries\n",
       " 2-element SparseVector{Float64,Int64} with 0 stored entries     2-element SparseVector{Float64,Int64} with 0 stored entries\n",
       " 2-element SparseVector{Float64,Int64} with 0 stored entries     2-element SparseVector{Float64,Int64} with 0 stored entries\n",
       " 2-element SparseVector{Float64,Int64} with 0 stored entries     2-element SparseVector{Float64,Int64} with 0 stored entries\n",
       " 2-element SparseVector{Float64,Int64} with 0 stored entries  …  2-element SparseVector{Float64,Int64} with 0 stored entries\n",
       " 2-element SparseVector{Float64,Int64} with 0 stored entries     2-element SparseVector{Float64,Int64} with 0 stored entries\n",
       " 2-element SparseVector{Float64,Int64} with 0 stored entries     2-element SparseVector{Float64,Int64} with 0 stored entries\n",
       " 2-element SparseVector{Float64,Int64} with 0 stored entries     2-element SparseVector{Float64,Int64} with 0 stored entries\n",
       " 2-element SparseVector{Float64,Int64} with 0 stored entries     2-element SparseVector{Float64,Int64} with 0 stored entries\n",
       " 2-element SparseVector{Float64,Int64} with 0 stored entries  …  2-element SparseVector{Float64,Int64} with 0 stored entries\n",
       " 2-element SparseVector{Float64,Int64} with 0 stored entries     2-element SparseVector{Float64,Int64} with 0 stored entries"
      ]
     },
     "execution_count": 69,
     "metadata": {},
     "output_type": "execute_result"
    }
   ],
   "source": [
    "b3rawcopy = copy(b3)"
   ]
  },
  {
   "cell_type": "code",
   "execution_count": 24,
   "metadata": {},
   "outputs": [
    {
     "name": "stdout",
     "output_type": "stream",
     "text": [
      "  24.285 ns (0 allocations: 0 bytes)\n"
     ]
    },
    {
     "data": {
      "text/plain": [
       "true"
      ]
     },
     "execution_count": 24,
     "metadata": {},
     "output_type": "execute_result"
    }
   ],
   "source": [
    "@btime t!=zt"
   ]
  },
  {
   "cell_type": "code",
   "execution_count": 25,
   "metadata": {},
   "outputs": [
    {
     "name": "stdout",
     "output_type": "stream",
     "text": [
      "  28.748 ns (1 allocation: 32 bytes)\n"
     ]
    }
   ],
   "source": [
    "@btime t*tv;"
   ]
  },
  {
   "cell_type": "code",
   "execution_count": 79,
   "metadata": {},
   "outputs": [
    {
     "data": {
      "text/plain": [
       "2×2 StaticArrays.SArray{Tuple{2,2},Float64,2,4}:\n",
       " 0.0      0.0\n",
       " 1.17347  0.0"
      ]
     },
     "execution_count": 79,
     "metadata": {},
     "output_type": "execute_result"
    }
   ],
   "source": [
    "t = @SMatrix [0.0 0.0;randn() 0.0]"
   ]
  },
  {
   "cell_type": "code",
   "execution_count": 38,
   "metadata": {},
   "outputs": [
    {
     "data": {
      "text/plain": [
       "2-element SparseVector{Float64,Int64} with 2 stored entries:\n",
       "  [1]  =  -0.771793\n",
       "  [2]  =  -0.113713"
      ]
     },
     "execution_count": 38,
     "metadata": {},
     "output_type": "execute_result"
    }
   ],
   "source": [
    "tsp = sparse(t)\n",
    "tspv = sparse(tv)"
   ]
  },
  {
   "cell_type": "code",
   "execution_count": 39,
   "metadata": {},
   "outputs": [
    {
     "name": "stdout",
     "output_type": "stream",
     "text": [
      "  154.476 ns (4 allocations: 320 bytes)\n"
     ]
    }
   ],
   "source": [
    "@btime tsp*tspv;"
   ]
  },
  {
   "cell_type": "code",
   "execution_count": 70,
   "metadata": {},
   "outputs": [
    {
     "data": {
      "text/plain": [
       "4"
      ]
     },
     "execution_count": 70,
     "metadata": {},
     "output_type": "execute_result"
    }
   ],
   "source": [
    "sum(A2[4] .== zt)"
   ]
  },
  {
   "cell_type": "code",
   "execution_count": 87,
   "metadata": {
    "collapsed": true
   },
   "outputs": [],
   "source": [
    "a = [sum(A2.nzval[i] .== zt) for i in 1:length(A2.nzval)];"
   ]
  },
  {
   "cell_type": "code",
   "execution_count": 90,
   "metadata": {},
   "outputs": [
    {
     "data": {
      "text/plain": [
       "0.6380597014925373"
      ]
     },
     "execution_count": 90,
     "metadata": {},
     "output_type": "execute_result"
    }
   ],
   "source": [
    "sum(a)/(length(a)*4) ## rate of zero entries"
   ]
  },
  {
   "cell_type": "code",
   "execution_count": 94,
   "metadata": {},
   "outputs": [
    {
     "data": {
      "text/plain": [
       "0.14925373134328357"
      ]
     },
     "execution_count": 94,
     "metadata": {},
     "output_type": "execute_result"
    }
   ],
   "source": [
    "sum(a .== 0)/length(a) ## rate of zero entries - 2,2 matrixwise"
   ]
  },
  {
   "cell_type": "code",
   "execution_count": 118,
   "metadata": {
    "collapsed": true
   },
   "outputs": [],
   "source": [
    "testA = sparse(Float64.([(i%2==1)&&(j%2==1) for i in 1:1000, j in 1:1000]))\n",
    "testA2 = [@SMatrix [1.0 0.0;0.0 0.0] for i in 1:500, j in 1:500]\n",
    "testb = randn(1000)\n",
    "testb2 = [@SVector randn(2) for i in 1:500];"
   ]
  },
  {
   "cell_type": "code",
   "execution_count": 119,
   "metadata": {},
   "outputs": [
    {
     "name": "stdout",
     "output_type": "stream",
     "text": [
      "  250.161 μs (1 allocation: 7.94 KiB)\n"
     ]
    }
   ],
   "source": [
    "@btime testA*testb;"
   ]
  },
  {
   "cell_type": "code",
   "execution_count": 120,
   "metadata": {},
   "outputs": [
    {
     "name": "stdout",
     "output_type": "stream",
     "text": [
      "  601.425 μs (1 allocation: 7.94 KiB)\n"
     ]
    }
   ],
   "source": [
    "@btime testA2*testb2;"
   ]
  },
  {
   "cell_type": "code",
   "execution_count": 115,
   "metadata": {
    "collapsed": true
   },
   "outputs": [],
   "source": [
    "testA = randn(1000, 1000)\n",
    "testA2 = [@SMatrix randn(2,2) for i in 1:500, j in 1:500]\n",
    "testb = randn(1000)\n",
    "testb2 = [@SVector randn(2) for i in 1:500];"
   ]
  },
  {
   "cell_type": "code",
   "execution_count": 116,
   "metadata": {},
   "outputs": [
    {
     "name": "stdout",
     "output_type": "stream",
     "text": [
      "  349.568 μs (1 allocation: 7.94 KiB)\n"
     ]
    }
   ],
   "source": [
    "@btime testA*testb;"
   ]
  },
  {
   "cell_type": "code",
   "execution_count": 117,
   "metadata": {},
   "outputs": [
    {
     "name": "stdout",
     "output_type": "stream",
     "text": [
      "  600.323 μs (1 allocation: 7.94 KiB)\n"
     ]
    }
   ],
   "source": [
    "@btime testA2*testb2;"
   ]
  },
  {
   "cell_type": "code",
   "execution_count": 16,
   "metadata": {},
   "outputs": [
    {
     "data": {
      "text/plain": [
       ":(1 + 2 + 3)"
      ]
     },
     "execution_count": 16,
     "metadata": {},
     "output_type": "execute_result"
    }
   ],
   "source": [
    "a = \"1+2+3\"\n",
    "exa = parse(a)"
   ]
  },
  {
   "cell_type": "code",
   "execution_count": 17,
   "metadata": {},
   "outputs": [
    {
     "name": "stdout",
     "output_type": "stream",
     "text": [
      "Expr\n",
      "  head: Symbol call\n",
      "  args: Array{Any}((4,))\n",
      "    1: Symbol +\n",
      "    2: Int64 1\n",
      "    3: Int64 2\n",
      "    4: Int64 3\n",
      "  typ: Any\n"
     ]
    }
   ],
   "source": [
    "dump(exa)"
   ]
  },
  {
   "cell_type": "code",
   "execution_count": 19,
   "metadata": {},
   "outputs": [
    {
     "data": {
      "text/plain": [
       ":+"
      ]
     },
     "execution_count": 19,
     "metadata": {},
     "output_type": "execute_result"
    }
   ],
   "source": [
    ":+"
   ]
  },
  {
   "cell_type": "code",
   "execution_count": 21,
   "metadata": {},
   "outputs": [
    {
     "data": {
      "text/plain": [
       ":ab"
      ]
     },
     "execution_count": 21,
     "metadata": {},
     "output_type": "execute_result"
    }
   ],
   "source": [
    "Symbol(:a,:b)"
   ]
  },
  {
   "cell_type": "code",
   "execution_count": 25,
   "metadata": {},
   "outputs": [
    {
     "data": {
      "text/plain": [
       "Symbol"
      ]
     },
     "execution_count": 25,
     "metadata": {},
     "output_type": "execute_result"
    }
   ],
   "source": [
    "typeof(:(ab))"
   ]
  },
  {
   "cell_type": "code",
   "execution_count": 28,
   "metadata": {},
   "outputs": [
    {
     "data": {
      "text/plain": [
       "Expr"
      ]
     },
     "execution_count": 28,
     "metadata": {},
     "output_type": "execute_result"
    }
   ],
   "source": [
    "typeof(:(abbsdasd+aaaaa))"
   ]
  },
  {
   "cell_type": "code",
   "execution_count": 29,
   "metadata": {},
   "outputs": [
    {
     "data": {
      "text/plain": [
       "1"
      ]
     },
     "execution_count": 29,
     "metadata": {},
     "output_type": "execute_result"
    }
   ],
   "source": [
    "a = 1"
   ]
  },
  {
   "cell_type": "code",
   "execution_count": 39,
   "metadata": {},
   "outputs": [
    {
     "data": {
      "text/plain": [
       ":foo1"
      ]
     },
     "execution_count": 39,
     "metadata": {},
     "output_type": "execute_result"
    }
   ],
   "source": [
    "parse(\"foo$a\")"
   ]
  },
  {
   "cell_type": "code",
   "execution_count": 44,
   "metadata": {},
   "outputs": [
    {
     "data": {
      "text/plain": [
       ":(a in (1, 2, 3))"
      ]
     },
     "execution_count": 44,
     "metadata": {},
     "output_type": "execute_result"
    }
   ],
   "source": [
    "ex = :(a in ((1,2,3)) )"
   ]
  },
  {
   "cell_type": "code",
   "execution_count": 45,
   "metadata": {},
   "outputs": [
    {
     "data": {
      "text/plain": [
       "true"
      ]
     },
     "execution_count": 45,
     "metadata": {},
     "output_type": "execute_result"
    }
   ],
   "source": [
    "eval(ex)"
   ]
  },
  {
   "cell_type": "code",
   "execution_count": 46,
   "metadata": {},
   "outputs": [
    {
     "data": {
      "text/plain": [
       "true"
      ]
     },
     "execution_count": 46,
     "metadata": {},
     "output_type": "execute_result"
    }
   ],
   "source": [
    "a in (1,2,3)"
   ]
  },
  {
   "cell_type": "code",
   "execution_count": 49,
   "metadata": {},
   "outputs": [
    {
     "data": {
      "text/plain": [
       "2×2 StaticArrays.SArray{Tuple{2,2},Float64,2,4}:\n",
       " -0.229593   0.0378973\n",
       "  3.02738   -1.19659  "
      ]
     },
     "execution_count": 49,
     "metadata": {},
     "output_type": "execute_result"
    }
   ],
   "source": [
    "a = @SMatrix(randn(2,2))"
   ]
  },
  {
   "cell_type": "code",
   "execution_count": 50,
   "metadata": {},
   "outputs": [
    {
     "name": "stdout",
     "output_type": "stream",
     "text": [
      "StaticArrays.SArray{Tuple{2,2},Float64,2,4}\n",
      "  data: NTuple{4,Float64}\n",
      "    1: Float64 -0.22959306083882405\n",
      "    2: Float64 3.027375425307845\n",
      "    3: Float64 0.037897297520506294\n",
      "    4: Float64 -1.1965870528922127\n"
     ]
    }
   ],
   "source": [
    "dump(a)"
   ]
  },
  {
   "cell_type": "code",
   "execution_count": 77,
   "metadata": {},
   "outputs": [
    {
     "data": {
      "text/plain": [
       "10×2 Array{Float64,2}:\n",
       " -4.78025   4.78025 \n",
       " -3.59192   4.31612 \n",
       " -3.45372   3.59192 \n",
       " -1.89987   3.45372 \n",
       " -1.39092   2.58074 \n",
       " -0.408588  1.89987 \n",
       "  0.318351  1.39092 \n",
       "  0.955172  0.955172\n",
       "  2.58074   0.408588\n",
       "  4.31612   0.318351"
      ]
     },
     "execution_count": 77,
     "metadata": {},
     "output_type": "execute_result"
    }
   ],
   "source": [
    "A = Symmetric(randn(10, 10))\n",
    "[eigvals(A) svdvals(A)]"
   ]
  },
  {
   "cell_type": "code",
   "execution_count": 83,
   "metadata": {},
   "outputs": [
    {
     "data": {
      "text/plain": [
       "([4.31612 3.98293e-15 … -2.2034e-16 -9.3308e-17; 0.0 -4.78025 … -9.67055e-17 -2.14638e-16; … ; 0.0 0.0 … -0.408588 -3.13644e-16; 0.0 0.0 … 0.0 0.318351], [0.326727 0.513806 … 0.597057 0.0565144; 0.117019 -0.117675 … 0.00244206 -0.14982; … ; -0.186687 -0.0144037 … -0.183923 -0.0599389; -0.317938 0.128143 … 0.26456 0.00727487], [4.31612, -4.78025, 2.58074, -3.59192, -3.45372, -1.89987, -1.39092, 0.955172, -0.408588, 0.318351])"
      ]
     },
     "execution_count": 83,
     "metadata": {},
     "output_type": "execute_result"
    }
   ],
   "source": [
    "T, Q = schur(A)"
   ]
  },
  {
   "cell_type": "code",
   "execution_count": 86,
   "metadata": {},
   "outputs": [
    {
     "data": {
      "text/plain": [
       "([-0.513806 -0.326727 … -0.597057 -0.0565144; 0.117675 -0.117019 … -0.00244206 0.14982; … ; 0.0144037 0.186687 … 0.183923 0.0599389; -0.128143 0.317938 … -0.26456 -0.00727487], [4.78025, 4.31612, 3.59192, 3.45372, 2.58074, 1.89987, 1.39092, 0.955172, 0.408588, 0.318351], [0.513806 -0.326727 … 0.597057 -0.0565144; -0.117675 -0.117019 … 0.00244206 0.14982; … ; -0.0144037 0.186687 … -0.183923 0.0599389; 0.128143 0.317938 … 0.26456 -0.00727487])"
      ]
     },
     "execution_count": 86,
     "metadata": {},
     "output_type": "execute_result"
    }
   ],
   "source": [
    "U, S, V = svd(full(A))"
   ]
  },
  {
   "cell_type": "code",
   "execution_count": 87,
   "metadata": {},
   "outputs": [
    {
     "data": {
      "text/plain": [
       "10×10 Array{Float64,2}:\n",
       " -0.513806   -0.326727   -0.332352    0.120852   …  -0.597057    -0.0565144 \n",
       "  0.117675   -0.117019    0.381236   -0.227295      -0.00244206   0.14982   \n",
       " -0.410548    0.469442    0.420008   -0.133801      -0.110102     0.220126  \n",
       "  0.349518   -0.489178    0.206846   -0.121111      -0.176057    -0.0359544 \n",
       " -0.578735   -0.38757     0.35881    -0.169867       0.392435    -0.376776  \n",
       " -0.0732659  -0.0132263  -0.083953   -0.693528   …  -0.359825     0.305369  \n",
       "  0.261917   -0.0216469   0.521329    0.0312179     -0.44679     -0.314171  \n",
       " -0.076897   -0.364821    0.22079     0.323456       0.116097     0.766194  \n",
       "  0.0144037   0.186687   -0.0603224  -0.356398       0.183923     0.0599389 \n",
       " -0.128143    0.317938    0.255041    0.398381      -0.26456     -0.00727487"
      ]
     },
     "execution_count": 87,
     "metadata": {},
     "output_type": "execute_result"
    }
   ],
   "source": [
    "U"
   ]
  },
  {
   "cell_type": "code",
   "execution_count": 93,
   "metadata": {},
   "outputs": [
    {
     "data": {
      "text/plain": [
       "10-element Array{Float64,1}:\n",
       " -1.0\n",
       "  1.0\n",
       " -1.0\n",
       " -1.0\n",
       "  1.0\n",
       " -1.0\n",
       " -1.0\n",
       "  1.0\n",
       " -1.0\n",
       "  1.0"
      ]
     },
     "execution_count": 93,
     "metadata": {},
     "output_type": "execute_result"
    }
   ],
   "source": [
    "diag(V'*U)"
   ]
  },
  {
   "cell_type": "code",
   "execution_count": 94,
   "metadata": {},
   "outputs": [
    {
     "data": {
      "text/plain": [
       "10×10 Array{Float64,2}:\n",
       " -0.513806   -0.326727   -0.332352    0.120852   …  -0.597057    -0.0565144 \n",
       "  0.117675   -0.117019    0.381236   -0.227295      -0.00244206   0.14982   \n",
       " -0.410548    0.469442    0.420008   -0.133801      -0.110102     0.220126  \n",
       "  0.349518   -0.489178    0.206846   -0.121111      -0.176057    -0.0359544 \n",
       " -0.578735   -0.38757     0.35881    -0.169867       0.392435    -0.376776  \n",
       " -0.0732659  -0.0132263  -0.083953   -0.693528   …  -0.359825     0.305369  \n",
       "  0.261917   -0.0216469   0.521329    0.0312179     -0.44679     -0.314171  \n",
       " -0.076897   -0.364821    0.22079     0.323456       0.116097     0.766194  \n",
       "  0.0144037   0.186687   -0.0603224  -0.356398       0.183923     0.0599389 \n",
       " -0.128143    0.317938    0.255041    0.398381      -0.26456     -0.00727487"
      ]
     },
     "execution_count": 94,
     "metadata": {},
     "output_type": "execute_result"
    }
   ],
   "source": [
    "U"
   ]
  },
  {
   "cell_type": "code",
   "execution_count": 106,
   "metadata": {},
   "outputs": [
    {
     "data": {
      "text/plain": [
       "9-element Array{Int64,1}:\n",
       " 1\n",
       " 4\n",
       " 2\n",
       " 5\n",
       " 6\n",
       " 9\n",
       " 8\n",
       " 3\n",
       " 7"
      ]
     },
     "execution_count": 106,
     "metadata": {},
     "output_type": "execute_result"
    }
   ],
   "source": [
    "r = [1, 4, 2, 5, 6,9, 8, 3, 7]"
   ]
  },
  {
   "cell_type": "code",
   "execution_count": 108,
   "metadata": {},
   "outputs": [
    {
     "data": {
      "text/plain": [
       "9×9 Array{Float64,2}:\n",
       " 1.0  0.0  0.0  0.0  0.0  0.0  0.0  0.0  0.0\n",
       " 0.0  0.0  0.0  1.0  0.0  0.0  0.0  0.0  0.0\n",
       " 0.0  1.0  0.0  0.0  0.0  0.0  0.0  0.0  0.0\n",
       " 0.0  0.0  0.0  0.0  1.0  0.0  0.0  0.0  0.0\n",
       " 0.0  0.0  0.0  0.0  0.0  1.0  0.0  0.0  0.0\n",
       " 0.0  0.0  0.0  0.0  0.0  0.0  0.0  0.0  1.0\n",
       " 0.0  0.0  0.0  0.0  0.0  0.0  0.0  1.0  0.0\n",
       " 0.0  0.0  1.0  0.0  0.0  0.0  0.0  0.0  0.0\n",
       " 0.0  0.0  0.0  0.0  0.0  0.0  1.0  0.0  0.0"
      ]
     },
     "execution_count": 108,
     "metadata": {},
     "output_type": "execute_result"
    }
   ],
   "source": [
    "A = eye(9)\n",
    "P = A[r,:]"
   ]
  },
  {
   "cell_type": "code",
   "execution_count": 109,
   "metadata": {},
   "outputs": [
    {
     "data": {
      "text/plain": [
       "9-element Array{Float64,1}:\n",
       " 1.0\n",
       " 1.0\n",
       " 1.0\n",
       " 1.0\n",
       " 1.0\n",
       " 1.0\n",
       " 1.0\n",
       " 1.0\n",
       " 1.0"
      ]
     },
     "execution_count": 109,
     "metadata": {},
     "output_type": "execute_result"
    }
   ],
   "source": [
    "svdvals(P)"
   ]
  },
  {
   "cell_type": "code",
   "execution_count": 110,
   "metadata": {},
   "outputs": [
    {
     "data": {
      "text/plain": [
       "9-element Array{Complex{Float64},1}:\n",
       "        -1.0+0.0im     \n",
       "   -0.707107+0.707107im\n",
       "   -0.707107-0.707107im\n",
       " 5.55112e-17+1.0im     \n",
       " 5.55112e-17-1.0im     \n",
       "         1.0+0.0im     \n",
       "    0.707107+0.707107im\n",
       "    0.707107-0.707107im\n",
       "         1.0+0.0im     "
      ]
     },
     "execution_count": 110,
     "metadata": {},
     "output_type": "execute_result"
    }
   ],
   "source": [
    "eigvals(P)"
   ]
  },
  {
   "cell_type": "code",
   "execution_count": 113,
   "metadata": {},
   "outputs": [
    {
     "data": {
      "text/plain": [
       "9×9 Array{Float64,2}:\n",
       " 1.0  0.0  0.0  0.0  0.0  0.0  0.0  0.0  0.0\n",
       " 0.0  1.0  0.0  0.0  0.0  0.0  0.0  0.0  0.0\n",
       " 0.0  0.0  1.0  0.0  0.0  0.0  0.0  0.0  0.0\n",
       " 0.0  0.0  0.0  1.0  0.0  0.0  0.0  0.0  0.0\n",
       " 0.0  0.0  0.0  0.0  1.0  0.0  0.0  0.0  0.0\n",
       " 0.0  0.0  0.0  0.0  0.0  1.0  0.0  0.0  0.0\n",
       " 0.0  0.0  0.0  0.0  0.0  0.0  1.0  0.0  0.0\n",
       " 0.0  0.0  0.0  0.0  0.0  0.0  0.0  1.0  0.0\n",
       " 0.0  0.0  0.0  0.0  0.0  0.0  0.0  0.0  1.0"
      ]
     },
     "execution_count": 113,
     "metadata": {},
     "output_type": "execute_result"
    }
   ],
   "source": [
    "P*P'"
   ]
  },
  {
   "cell_type": "code",
   "execution_count": 115,
   "metadata": {},
   "outputs": [
    {
     "data": {
      "text/plain": [
       "10×2 Array{Float64,2}:\n",
       " 39.6837      0.0311234\n",
       " 10.8274      0.842241 \n",
       "  8.03439     2.85715  \n",
       "  4.09693     4.09693  \n",
       "  0.0311234   4.83631  \n",
       "  0.842241    8.03439  \n",
       "  2.85715    10.8274   \n",
       "  4.83631    16.1385   \n",
       " 16.1385     32.2991   \n",
       " 32.2991     39.6837   "
      ]
     },
     "execution_count": 115,
     "metadata": {},
     "output_type": "execute_result"
    }
   ],
   "source": [
    "A = Symmetric(randn(10, 10))\n",
    "[eigvals(A).^2 eigvals(A^2)]"
   ]
  },
  {
   "cell_type": "code",
   "execution_count": 118,
   "metadata": {},
   "outputs": [
    {
     "data": {
      "text/plain": [
       "10×2 Array{Complex{Float64},2}:\n",
       "   2.69842+0.0im          1.34921+0.0im     \n",
       " -0.733857+2.82589im    -0.366928+1.41295im \n",
       " -0.733857-2.82589im    -0.366928-1.41295im \n",
       " -0.146715+2.52283im   -0.0733577+1.26141im \n",
       " -0.146715-2.52283im   -0.0733577-1.26141im \n",
       "   1.72333+0.0im         0.861667+0.0im     \n",
       "  -1.55767+1.00956im    -0.778833+0.504782im\n",
       "  -1.55767-1.00956im    -0.778833-0.504782im\n",
       " -0.191126+0.474468im  -0.0955628+0.237234im\n",
       " -0.191126-0.474468im  -0.0955628-0.237234im"
      ]
     },
     "execution_count": 118,
     "metadata": {},
     "output_type": "execute_result"
    }
   ],
   "source": [
    "A = randn(10, 10)\n",
    "[eigvals(A) eigvals(A./2)]"
   ]
  },
  {
   "cell_type": "code",
   "execution_count": 132,
   "metadata": {},
   "outputs": [
    {
     "data": {
      "text/plain": [
       "10×3 Array{Float64,2}:\n",
       "  0.00957834   0.0197622   2.025  \n",
       "  0.347036     0.398295    5.25898\n",
       "  1.66477      1.2964      5.78577\n",
       "  3.13296      2.74001     9.14635\n",
       "  5.75518      4.08976    10.2345 \n",
       "  8.06947      4.58248    13.425  \n",
       " 10.5624       8.58728    21.2079 \n",
       " 18.3935      10.283      32.8119 \n",
       " 23.3322      15.1936     36.7215 \n",
       " 31.5516      28.6285     42.0209 "
      ]
     },
     "execution_count": 132,
     "metadata": {},
     "output_type": "execute_result"
    }
   ],
   "source": [
    "rA, rB = randn(10, 10), randn(10, 10)\n",
    "A, B = rA'*rA, rB'*rB\n",
    "[eigvals(A) eigvals(B) eigvals(A+B)]"
   ]
  },
  {
   "cell_type": "code",
   "execution_count": 133,
   "metadata": {},
   "outputs": [
    {
     "data": {
      "text/plain": [
       "10×2 Array{Float64,2}:\n",
       "  0.00957834  31.5516    \n",
       "  0.347036    23.3322    \n",
       "  1.66477     18.3935    \n",
       "  3.13296     10.5624    \n",
       "  5.75518      8.06947   \n",
       "  8.06947      5.75518   \n",
       " 10.5624       3.13296   \n",
       " 18.3935       1.66477   \n",
       " 23.3322       0.347036  \n",
       " 31.5516       0.00957834"
      ]
     },
     "execution_count": 133,
     "metadata": {},
     "output_type": "execute_result"
    }
   ],
   "source": [
    "[eigvals(A) svdvals(A)]"
   ]
  },
  {
   "cell_type": "code",
   "execution_count": 137,
   "metadata": {},
   "outputs": [
    {
     "data": {
      "text/plain": [
       "10-element Array{Complex{Float64},1}:\n",
       "   20.1472+0.0im    \n",
       "  -9.25913+8.24222im\n",
       "  -9.25913-8.24222im\n",
       "   1.10722+6.35052im\n",
       "   1.10722-6.35052im\n",
       "   5.65754+0.0im    \n",
       " -0.178154+2.34957im\n",
       " -0.178154-2.34957im\n",
       "   -3.6296+3.03555im\n",
       "   -3.6296-3.03555im"
      ]
     },
     "execution_count": 137,
     "metadata": {},
     "output_type": "execute_result"
    }
   ],
   "source": [
    "A = randn(10, 20)\n",
    "B = randn(20, 10)\n",
    "eigvals(A*B)"
   ]
  },
  {
   "cell_type": "code",
   "execution_count": 138,
   "metadata": {},
   "outputs": [
    {
     "data": {
      "text/plain": [
       "20-element Array{Complex{Float64},1}:\n",
       "      20.1472+0.0im        \n",
       "     -9.25913+8.24222im    \n",
       "     -9.25913-8.24222im    \n",
       "      5.65754+0.0im        \n",
       "      1.10722+6.35052im    \n",
       "      1.10722-6.35052im    \n",
       "      -3.6296+3.03555im    \n",
       "      -3.6296-3.03555im    \n",
       "    -0.178154+2.34957im    \n",
       "    -0.178154-2.34957im    \n",
       "  6.80483e-15+2.87185e-15im\n",
       "  6.80483e-15-2.87185e-15im\n",
       " -1.03777e-15+5.44837e-15im\n",
       " -1.03777e-15-5.44837e-15im\n",
       "  3.15256e-15+0.0im        \n",
       " -3.46054e-15+1.08813e-15im\n",
       " -3.46054e-15-1.08813e-15im\n",
       " -2.92835e-15+0.0im        \n",
       " -1.88622e-15+0.0im        \n",
       " -2.12843e-16+0.0im        "
      ]
     },
     "execution_count": 138,
     "metadata": {},
     "output_type": "execute_result"
    }
   ],
   "source": [
    "eigvals(B*A)"
   ]
  },
  {
   "cell_type": "code",
   "execution_count": 148,
   "metadata": {},
   "outputs": [
    {
     "data": {
      "text/plain": [
       "9.834366663178063"
      ]
     },
     "execution_count": 148,
     "metadata": {},
     "output_type": "execute_result"
    }
   ],
   "source": [
    "A = randn(10,10)\n",
    "sum(svdvals(A)[1:2])"
   ]
  },
  {
   "cell_type": "code",
   "execution_count": 149,
   "metadata": {},
   "outputs": [
    {
     "data": {
      "text/plain": [
       "9.677631868561125"
      ]
     },
     "execution_count": 149,
     "metadata": {},
     "output_type": "execute_result"
    }
   ],
   "source": [
    "vecnorm(A)"
   ]
  },
  {
   "cell_type": "code",
   "execution_count": 151,
   "metadata": {
    "collapsed": true
   },
   "outputs": [],
   "source": [
    "U, V = qr(randn(10, 10))[1], qr(randn(10,10))[1];"
   ]
  },
  {
   "cell_type": "code",
   "execution_count": 154,
   "metadata": {},
   "outputs": [
    {
     "data": {
      "text/plain": [
       "(-1.7761331379207927, 2.1197316443656025)"
      ]
     },
     "execution_count": 154,
     "metadata": {},
     "output_type": "execute_result"
    }
   ],
   "source": [
    "A = randn(10, 10)\n",
    "trace(A), trace(A*V)"
   ]
  },
  {
   "cell_type": "code",
   "execution_count": 155,
   "metadata": {},
   "outputs": [
    {
     "data": {
      "text/plain": [
       "(-6.832554957102512, -6.832554957102515)"
      ]
     },
     "execution_count": 155,
     "metadata": {},
     "output_type": "execute_result"
    }
   ],
   "source": [
    "A, B = randn(10, 10), randn(10, 10)\n",
    "trace(A*B'), vecdot(A,B)"
   ]
  },
  {
   "cell_type": "code",
   "execution_count": 163,
   "metadata": {},
   "outputs": [
    {
     "data": {
      "text/plain": [
       "10×10 Hermitian{Complex{Float64},Array{Complex{Float64},2}}:\n",
       "  -0.309936-0.0im       0.00726934+0.64292im   …      -1.1067+0.534202im\n",
       " 0.00726934-0.64292im    -0.735486-0.0im             0.780974-1.44785im \n",
       "   0.597884-0.510625im    -1.13475+0.214722im       0.0991063+1.49566im \n",
       "    0.62895-0.539703im   0.0932377+0.49976im         0.102793-0.410981im\n",
       " 0.00138657-2.08862im     0.405413+0.089748im         1.15295-0.78525im \n",
       "  -0.658657+0.781003im       1.293-0.418925im  …  0.000571159-0.576463im\n",
       "   0.613113+0.364119im   -0.552403+1.98613im         0.797137-0.678387im\n",
       "  -0.854072+1.01967im     0.059274+0.833375im         1.27009+1.59088im \n",
       "    2.61566-0.46828im    -0.500156+0.745255im        -1.25115-0.401258im\n",
       "    -1.1067-0.534202im    0.780974+1.44785im         0.498957-0.0im     "
      ]
     },
     "execution_count": 163,
     "metadata": {},
     "output_type": "execute_result"
    }
   ],
   "source": [
    "A = Hermitian(triu(randn(10, 10)+im*(randn(10,10)),1)+diagm(randn(10)))\n",
    "B = Hermitian(triu(randn(10, 10)+im*(randn(10,10)),1)+diagm(randn(10)))"
   ]
  },
  {
   "cell_type": "code",
   "execution_count": 165,
   "metadata": {},
   "outputs": [
    {
     "data": {
      "text/plain": [
       "(-2.212681326493844, -2.2126813264938447 + 0.0im)"
      ]
     },
     "execution_count": 165,
     "metadata": {},
     "output_type": "execute_result"
    }
   ],
   "source": [
    "trace(A)-trace(B), trace(A-B)"
   ]
  },
  {
   "cell_type": "code",
   "execution_count": 169,
   "metadata": {},
   "outputs": [
    {
     "data": {
      "text/plain": [
       "10×3 Array{Float64,2}:\n",
       " -7.76806   -6.23907   -11.187   \n",
       " -5.01508   -3.43165    -6.77867 \n",
       " -4.10336   -2.90265    -6.4635  \n",
       " -2.66754   -2.43949    -3.41453 \n",
       " -1.47921   -0.837876   -2.06711 \n",
       "  0.210909   1.39523     0.233635\n",
       "  2.43808    1.97964     3.4492  \n",
       "  3.88669    3.31478     5.91461 \n",
       "  6.0259     4.82807     8.16713 \n",
       "  7.61779    5.69183     9.93358 "
      ]
     },
     "execution_count": 169,
     "metadata": {},
     "output_type": "execute_result"
    }
   ],
   "source": [
    "[sort(eigvals(A)) sort(eigvals(B)) eigvals(A-B)]"
   ]
  },
  {
   "cell_type": "code",
   "execution_count": 207,
   "metadata": {},
   "outputs": [
    {
     "data": {
      "text/plain": [
       "1.1146788990825687"
      ]
     },
     "execution_count": 207,
     "metadata": {},
     "output_type": "execute_result"
    }
   ],
   "source": [
    "ans*9"
   ]
  },
  {
   "cell_type": "code",
   "execution_count": null,
   "metadata": {
    "collapsed": true
   },
   "outputs": [],
   "source": [
    "Base.start(S::StencilPoint)                               = 1\n",
    "@inbounds Base.next{T,N,P}(S::StencilPoint{T,N,P}, state) = ((Sindx{N,P}()()[state], S.value[state]), state + 1)\n",
    "Base.done{T,N,P}(S::StencilPoint{T,N,P}, state)           = state > P"
   ]
  },
  {
   "cell_type": "code",
   "execution_count": 40,
   "metadata": {
    "collapsed": true
   },
   "outputs": [],
   "source": [
    "struct foo\n",
    "    a::Tuple\n",
    "    b::Tuple\n",
    "end"
   ]
  },
  {
   "cell_type": "code",
   "execution_count": 41,
   "metadata": {},
   "outputs": [
    {
     "name": "stdout",
     "output_type": "stream",
     "text": [
      "search: \u001b[1mN\u001b[22m\u001b[1mT\u001b[22m\u001b[1mu\u001b[22m\u001b[1mp\u001b[22m\u001b[1ml\u001b[22m\u001b[1me\u001b[22m \u001b[1mn\u001b[22m\u001b[1mt\u001b[22m\u001b[1mu\u001b[22m\u001b[1mp\u001b[22m\u001b[1ml\u001b[22m\u001b[1me\u001b[22m\n",
      "\n"
     ]
    },
    {
     "data": {
      "text/markdown": [
       "```\n",
       "NTuple{N, T}\n",
       "```\n",
       "\n",
       "A compact way of representing the type for a tuple of length `N` where all elements are of type `T`.\n",
       "\n",
       "```jldoctest\n",
       "julia> isa((1, 2, 3, 4, 5, 6), NTuple{6, Int})\n",
       "true\n",
       "```\n"
      ],
      "text/plain": [
       "```\n",
       "NTuple{N, T}\n",
       "```\n",
       "\n",
       "A compact way of representing the type for a tuple of length `N` where all elements are of type `T`.\n",
       "\n",
       "```jldoctest\n",
       "julia> isa((1, 2, 3, 4, 5, 6), NTuple{6, Int})\n",
       "true\n",
       "```\n"
      ]
     },
     "execution_count": 41,
     "metadata": {},
     "output_type": "execute_result"
    }
   ],
   "source": [
    "? NTuple"
   ]
  },
  {
   "cell_type": "code",
   "execution_count": 66,
   "metadata": {
    "collapsed": true
   },
   "outputs": [],
   "source": [
    "struct mytup{N} \n",
    "    a::NTuple{N, Float64}\n",
    "end"
   ]
  },
  {
   "cell_type": "code",
   "execution_count": 96,
   "metadata": {},
   "outputs": [
    {
     "data": {
      "text/plain": [
       "mymatvec (generic function with 1 method)"
      ]
     },
     "execution_count": 96,
     "metadata": {},
     "output_type": "execute_result"
    }
   ],
   "source": [
    "function mymatvec(A::mytup{4}, B::NTuple{2,Float64})\n",
    "    return B#A.a[1]#(A.a[1]*B[1]+A.a[2]*B[2],A.a[3]*B[1]+A.a[4]*B[2])\n",
    "end"
   ]
  },
  {
   "cell_type": "code",
   "execution_count": 97,
   "metadata": {
    "collapsed": true
   },
   "outputs": [],
   "source": [
    "A1 = mytup(Tuple(randn(4)))\n",
    "A2 = @SMatrix randn(2,2)\n",
    "b1 = Tuple(randn(2))\n",
    "b2 = randn(2);"
   ]
  },
  {
   "cell_type": "code",
   "execution_count": 98,
   "metadata": {},
   "outputs": [
    {
     "name": "stdout",
     "output_type": "stream",
     "text": [
      "  26.074 ns (1 allocation: 32 bytes)\n"
     ]
    }
   ],
   "source": [
    "@btime mymatvec(A1, b1);"
   ]
  },
  {
   "cell_type": "code",
   "execution_count": 89,
   "metadata": {},
   "outputs": [
    {
     "name": "stdout",
     "output_type": "stream",
     "text": [
      "  30.047 ns (1 allocation: 32 bytes)\n"
     ]
    }
   ],
   "source": [
    "@btime A2*b2;"
   ]
  },
  {
   "cell_type": "code",
   "execution_count": 100,
   "metadata": {},
   "outputs": [
    {
     "ename": "LoadError",
     "evalue": "\u001b[91mtype mytup is immutable\u001b[39m",
     "output_type": "error",
     "traceback": [
      "\u001b[91mtype mytup is immutable\u001b[39m",
      ""
     ]
    }
   ],
   "source": [
    "A1.a = (1., 2., 3., 4.)"
   ]
  },
  {
   "cell_type": "code",
   "execution_count": null,
   "metadata": {
    "collapsed": true
   },
   "outputs": [],
   "source": []
  },
  {
   "cell_type": "code",
   "execution_count": 44,
   "metadata": {},
   "outputs": [
    {
     "data": {
      "text/html": [
       "*(A::<b>StaticArrays.StaticArray{Tuple{N,M},T,2} where T where M where N</b>, B::<b>StaticArrays.StaticArray{Tuple{N},T,1} where T where N</b>) at <a href=\"https://github.com/JuliaArrays/StaticArrays.jl/tree/b454bc9131333da153f49182c7829c385fb2a6f5//src/matrix_multiply.jl#L39\" target=\"_blank\">/Users/sw2030/.julia/v0.6/StaticArrays/src/matrix_multiply.jl:39</a>"
      ],
      "text/plain": [
       "*(A::StaticArrays.StaticArray{Tuple{N,M},T,2} where T where M where N, B::StaticArrays.StaticArray{Tuple{N},T,1} where T where N) in StaticArrays at /Users/sw2030/.julia/v0.6/StaticArrays/src/matrix_multiply.jl:39"
      ]
     },
     "execution_count": 44,
     "metadata": {},
     "output_type": "execute_result"
    }
   ],
   "source": [
    "s1 = @SMatrix randn(2,2)\n",
    "s2 = @SArray randn(2)\n",
    "@which s1*s2"
   ]
  },
  {
   "cell_type": "code",
   "execution_count": null,
   "metadata": {
    "collapsed": true
   },
   "outputs": [],
   "source": []
  },
  {
   "cell_type": "code",
   "execution_count": null,
   "metadata": {
    "collapsed": true
   },
   "outputs": [],
   "source": []
  }
 ],
 "metadata": {
  "kernelspec": {
   "display_name": "Julia 1.0.0",
   "language": "julia",
   "name": "julia-1.0"
  },
  "language_info": {
   "file_extension": ".jl",
   "mimetype": "application/julia",
   "name": "julia",
   "version": "1.0.0"
  }
 },
 "nbformat": 4,
 "nbformat_minor": 2
}
