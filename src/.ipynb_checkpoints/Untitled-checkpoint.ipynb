{
 "cells": [
  {
   "cell_type": "code",
   "execution_count": 1,
   "metadata": {},
   "outputs": [],
   "source": [
    "using Distributed\n",
    "addprocs(4)\n",
    "using DistributedArrays\n",
    "@everywhere using DistributedArrays"
   ]
  },
  {
   "cell_type": "code",
   "execution_count": 3,
   "metadata": {},
   "outputs": [
    {
     "data": {
      "text/plain": [
       "10×10×10 Array{Float64,3}:\n",
       "[:, :, 1] =\n",
       " -0.0409832   1.72166    -2.38709   …   3.63609      2.64336     1.82197 \n",
       "  1.58234     1.58094     0.968004     -1.16226     -3.21535     2.63946 \n",
       " -1.82082    -3.45105     2.1374       -1.46386     -3.70531     1.26548 \n",
       " -2.47365    -0.773779   -2.60785       3.13287      0.590605    1.08037 \n",
       " -0.609409    0.900781   -2.19902       1.57927      1.01494     0.383455\n",
       "  2.20027    -1.15406    -0.401498  …  -0.704025     2.69769     0.357408\n",
       " -2.10146    -1.14539     1.46708      -0.00797727  -0.0738407   1.26238 \n",
       " -1.25496    -3.0961     -0.852853     -0.491323     0.996524    1.6279  \n",
       " -0.758842   -0.0250304   3.00527      -2.53242     -1.32862     3.48178 \n",
       "  0.413059   -2.37475     2.54607      -2.6448       0.320078   -1.21115 \n",
       "\n",
       "[:, :, 2] =\n",
       " -0.40749    0.217374    1.39938   …  -1.29291    -1.68053   -0.84219  \n",
       " -0.569343   1.12838     0.289832      0.808526   -1.18661   -0.0359026\n",
       " -4.4796    -0.699172   -0.540982     -0.127484    1.22363   -0.491045 \n",
       " -3.93803    1.95829    -0.333659      0.501017    1.11531   -3.0436   \n",
       "  2.18484    0.911355    1.24775       3.02118    -2.8508     1.37789  \n",
       "  1.75071   -1.76844     0.768775  …   2.3479     -2.95024    0.431883 \n",
       "  3.26149   -1.84286     4.43991       0.77851    -1.348     -2.63437  \n",
       "  0.69463    1.79374     2.30593      -3.04582     0.244543  -0.58056  \n",
       " -3.78092    0.0741604  -0.401645     -0.386599    1.25873    5.2986   \n",
       " -0.922775  -0.667606    0.181291     -0.0194025  -0.792116  -0.118293 \n",
       "\n",
       "[:, :, 3] =\n",
       "  1.35251   -0.318539   3.0498    …   2.06878     -5.61844    3.11634 \n",
       " -0.585909   4.08326    0.330077      3.14525     -0.865298   0.226194\n",
       " -1.56183    0.601888  -3.27124      -1.88939     -1.4042     3.34037 \n",
       "  1.76134   -0.409778   1.56937      -2.63178     -0.595799   0.808133\n",
       "  0.268992   0.235196  -1.81769       2.44146     -3.70692   -0.617913\n",
       " -2.30842   -1.4422     0.858617  …  -0.331219    -2.62571   -1.42429 \n",
       " -3.79051    0.648306   0.846424      0.00693706   1.0741     0.44204 \n",
       "  2.47191    2.06666   -0.128848     -1.58769      3.6316    -3.45926 \n",
       "  1.52061   -2.92321    1.23123      -1.79424     -0.666653   2.10308 \n",
       " -1.51273   -0.213221   0.58244       1.51728      4.73848    0.830742\n",
       "\n",
       "[:, :, 4] =\n",
       " -2.45525   -1.01775    1.85939    …  -0.914307    2.58161   -2.33648 \n",
       "  2.85673   -2.85799   -0.48904        2.13478     2.88176   -2.07342 \n",
       "  1.47383    1.53001   -0.878399       2.93485     2.31486   -1.74258 \n",
       "  2.00558    1.95442    0.0702114      1.85969    -3.4837    -0.756844\n",
       "  0.756279   0.871464   1.04882        1.58295    -0.025315  -2.39768 \n",
       "  2.14556   -3.03265    1.62595    …  -0.0451588   0.277111   0.310645\n",
       "  1.13671    0.947239  -2.04264        1.79747     0.321649  -1.7863  \n",
       "  3.85628   -4.69625   -4.80536        1.12441    -3.93683    1.08785 \n",
       " -5.7689    -1.61222   -1.25653       -0.732372   -1.85598    1.30632 \n",
       " -2.1595     0.728222   2.93903       -1.13096    -1.57108   -0.141598\n",
       "\n",
       "[:, :, 5] =\n",
       " -1.91676     1.31712    2.88051   …   0.648963   1.78634    0.8713  \n",
       " -0.0340505  -1.44318    5.46796      -2.91708    1.10792    0.398933\n",
       " -0.46698     1.43625    0.495458     -1.31878    0.384539  -3.69375 \n",
       "  0.236061    0.395592  -3.08352       0.819405  -2.3136     1.94278 \n",
       "  1.94274     4.02523   -0.965566     -0.906582  -0.232326   0.256423\n",
       "  1.76258     2.22942    0.931201  …  -1.04183   -1.51051    3.23167 \n",
       "  3.78946     2.81836    3.07661      -1.32331    1.57815   -0.683007\n",
       " -0.436934   -1.55985    2.74956       1.65528   -0.903405  -1.27824 \n",
       " -0.744083    3.09222    5.23901      -0.206476  -0.546094  -1.58718 \n",
       " -0.668862    2.31896    0.537104     -0.505458   4.38479    2.57515 \n",
       "\n",
       "[:, :, 6] =\n",
       "  1.63443   -0.109449     1.62609    …   3.70212     1.43327    2.27346  \n",
       " -1.41817    1.87097      0.102523      -2.07661     0.867576  -0.0971333\n",
       " -0.92011    1.68308     -1.97671        0.596181    0.788402   1.31689  \n",
       "  3.57583   -0.590333     1.12494        0.745324   -4.79267   -0.48118  \n",
       "  1.0186    -0.576835     2.69458        2.54981    -1.11869   -1.98587  \n",
       " -2.04354   -1.32925     -4.08794    …   0.0826503  -2.0247    -2.0169   \n",
       "  2.12231    0.00248343  -1.15888        0.083188   -2.97089   -2.56591  \n",
       " -0.691799   1.857        1.06911        0.388062    1.34494    3.6647   \n",
       " -0.447894  -1.68068     -0.0114932     -1.57091    -2.55482   -0.932137 \n",
       " -1.79483   -3.08081     -2.56621       -0.994892   -0.169419  -2.95433  \n",
       "\n",
       "[:, :, 7] =\n",
       "  1.22269    -1.91712     1.36126   …   3.21609     0.682485  -0.93866  \n",
       " -0.989709    0.696536    1.97403       1.73371    -1.16874   -1.38218  \n",
       " -1.73499    -1.60213     1.33564       3.1189     -2.24398    2.12474  \n",
       "  0.927126    0.0132033   1.03981      -0.998438    1.74818   -0.233672 \n",
       "  0.912905   -3.36346    -3.58059       1.96478     3.07604   -0.0308977\n",
       " -0.722277    3.18207     1.86155   …  -0.0567525  -2.1894     2.39066  \n",
       " -0.0568355   0.287498    1.25907      -0.631194    1.97027    1.2875   \n",
       " -0.655393    0.19608    -2.56363       0.390216   -2.11219   -2.07998  \n",
       "  2.53334    -0.235197   -0.347012     -2.33242     0.110572  -0.138875 \n",
       " -0.466076   -2.34777     1.04159       1.1663      0.220515   4.86559  \n",
       "\n",
       "[:, :, 8] =\n",
       "  0.218356  -1.10782     0.919413  …   0.610917  -1.94975    -1.63766 \n",
       " -1.8948    -3.51268    -0.957182      0.761387   0.692564   -2.54785 \n",
       " -0.33929   -2.48592    -1.04882       1.78639    3.18521    -0.451822\n",
       " -0.462528   1.19259    -1.5599        2.88483   -0.0478353   1.44113 \n",
       " -2.1676    -0.792012    1.479        -1.05238   -0.666209    0.447878\n",
       " -1.78375   -1.86652     0.424947  …  -0.801801  -2.79933    -0.161492\n",
       "  1.41153    0.0151586   2.68799       1.43927   -1.91478    -4.18886 \n",
       " -0.703361  -2.05746    -1.29486      -0.923357  -2.61126    -0.192216\n",
       " -3.0438    -1.81017     4.22737      -0.286657  -1.60663    -1.53516 \n",
       "  1.23994   -2.79129     1.62586      -0.988999  -3.51429     1.06267 \n",
       "\n",
       "[:, :, 9] =\n",
       " -1.7308     0.599672   0.445462  …  -0.076013   1.07547   -1.65461 \n",
       " -1.51063    0.285333   1.79071      -1.52029    2.94993    4.02314 \n",
       "  0.345668  -0.234141   1.86991      -0.268908  -2.77746   -6.11407 \n",
       "  0.222802   1.02345    1.29093       1.41997    3.54039    3.22734 \n",
       " -1.89614    0.914222  -0.476346     -1.79671    0.671533   0.810338\n",
       "  2.77941   -0.4275    -2.19306   …  -2.21311   -0.151367  -0.300342\n",
       "  0.419754  -4.55427    1.55537       0.991042  -1.00129    1.05104 \n",
       " -4.39531   -2.48262    0.772606      2.16908    0.363042   0.974648\n",
       " -2.02923   -1.56856   -0.99303       3.28971    1.88425    2.99745 \n",
       "  1.05285    3.42899   -2.36466      -1.62833   -1.30288    2.38043 \n",
       "\n",
       "[:, :, 10] =\n",
       "  5.41328    1.04925    -3.27551   …  -0.344572  -4.02514    1.75726   \n",
       " -2.17782    2.36771     1.84879       3.92398    3.16946   -0.240549  \n",
       " -3.68818    0.413017    1.81561       1.48659    0.280208  -6.24211   \n",
       "  1.55761   -0.0671391   0.696195     -0.601269   2.81795    0.00424306\n",
       "  0.42593   -2.25756     3.38929      -4.31559   -1.75775    3.49831   \n",
       " -1.846      0.215623   -2.01083   …   0.155996   5.08969    4.49512   \n",
       "  0.414155   2.21107     0.194822      6.00084    1.83322    1.78441   \n",
       " -0.646233   1.43878     1.35533      -1.03727   -0.457329   0.272614  \n",
       " -0.162093  -0.425106   -2.81534      -0.870193   0.552604   1.66262   \n",
       " -3.67621    2.37663    -1.02084       1.03918    1.90214   -2.87156   "
      ]
     },
     "execution_count": 3,
     "metadata": {},
     "output_type": "execute_result"
    }
   ],
   "source": [
    "using LinearAlgebra\n",
    "rmul!(randn(10, 10, 10), 2.)"
   ]
  },
  {
   "cell_type": "code",
   "execution_count": null,
   "metadata": {},
   "outputs": [],
   "source": []
  },
  {
   "cell_type": "code",
   "execution_count": 11,
   "metadata": {},
   "outputs": [],
   "source": [
    "A = distribute(randn(10000, 10000))\n",
    "B = randn(10000, 10000);"
   ]
  },
  {
   "cell_type": "code",
   "execution_count": 5,
   "metadata": {},
   "outputs": [],
   "source": [
    "using LinearAlgebra"
   ]
  },
  {
   "cell_type": "code",
   "execution_count": 12,
   "metadata": {},
   "outputs": [
    {
     "name": "stdout",
     "output_type": "stream",
     "text": [
      "  39.605 ms (425 allocations: 24.45 KiB)\n"
     ]
    },
    {
     "data": {
      "text/plain": [
       "10000.510522206916"
      ]
     },
     "execution_count": 12,
     "metadata": {},
     "output_type": "execute_result"
    }
   ],
   "source": [
    "@btime norm(A)"
   ]
  },
  {
   "cell_type": "code",
   "execution_count": 13,
   "metadata": {},
   "outputs": [
    {
     "name": "stdout",
     "output_type": "stream",
     "text": [
      "  63.357 ms (1 allocation: 16 bytes)\n"
     ]
    },
    {
     "data": {
      "text/plain": [
       "9999.298606911796"
      ]
     },
     "execution_count": 13,
     "metadata": {},
     "output_type": "execute_result"
    }
   ],
   "source": [
    "@btime norm(B)"
   ]
  },
  {
   "cell_type": "code",
   "execution_count": 8,
   "metadata": {},
   "outputs": [],
   "source": [
    "using BenchmarkTools\n",
    "@everywhere using BenchmarkTools"
   ]
  },
  {
   "cell_type": "code",
   "execution_count": 2,
   "metadata": {},
   "outputs": [
    {
     "data": {
      "text/plain": [
       "10×10 Array{Float64,2}:\n",
       " -0.594113   -2.24281     0.505796   …  -0.828289     0.18915     0.626793 \n",
       "  1.26993    -0.114881   -1.8201        -0.429123     1.27505    -1.00783  \n",
       " -0.774282    1.07919     0.546917       0.505418    -1.52856     0.470614 \n",
       "  0.46806    -0.589547   -0.413958       0.820947    -2.0608      1.4184   \n",
       "  0.629722    1.04029    -2.16801       -1.81441     -0.0358865  -0.767294 \n",
       "  1.05313    -0.547697    1.08938    …   0.213157    -0.0633711   0.696929 \n",
       "  1.37844     0.0606405   0.699346       0.760126     1.37084     0.663026 \n",
       " -0.810094    1.66506     0.0145721     -0.966727    -0.458008   -0.0214406\n",
       "  1.37412    -1.18952     1.89976        0.00840181   1.04143     1.10589  \n",
       " -0.0107313   2.23822     0.826986      -0.184753     0.381358   -1.0692   "
      ]
     },
     "execution_count": 2,
     "metadata": {},
     "output_type": "execute_result"
    }
   ],
   "source": [
    "A = randn(10, 10)\n",
    "B = randn(10, 10)\n",
    "copyto!(A, B)"
   ]
  },
  {
   "cell_type": "code",
   "execution_count": 8,
   "metadata": {},
   "outputs": [
    {
     "name": "stderr",
     "output_type": "stream",
     "text": [
      "┌ Warning: `scale!(A::AbstractArray, b::Number)` is deprecated, use `rmul!(A, b)` instead.\n",
      "│   caller = top-level scope at none:0\n",
      "└ @ Core none:0\n"
     ]
    },
    {
     "data": {
      "text/plain": [
       "10×10 Array{Float64,2}:\n",
       " -2.37645    -8.97123    2.02318    …  -3.31316     0.7566     2.50717  \n",
       "  5.07971    -0.459524  -7.28041       -1.71649     5.10019   -4.03134  \n",
       " -3.09713     4.31676    2.18767        2.02167    -6.11425    1.88245  \n",
       "  1.87224    -2.35819   -1.65583        3.28379    -8.24321    5.67361  \n",
       "  2.51889     4.16117   -8.67206       -7.25766    -0.143546  -3.06918  \n",
       "  4.21252    -2.19079    4.35751    …   0.852629   -0.253484   2.78772  \n",
       "  5.51377     0.242562   2.79738        3.04051     5.48335    2.6521   \n",
       " -3.24038     6.66025    0.0582886     -3.86691    -1.83203   -0.0857624\n",
       "  5.49649    -4.75808    7.59904        0.0336072   4.16574    4.42354  \n",
       " -0.0429253   8.95288    3.30794       -0.739011    1.52543   -4.27682  "
      ]
     },
     "execution_count": 8,
     "metadata": {},
     "output_type": "execute_result"
    }
   ],
   "source": [
    "LinearAlgebra.scale!(A, 2.)"
   ]
  },
  {
   "cell_type": "code",
   "execution_count": 7,
   "metadata": {},
   "outputs": [
    {
     "name": "stderr",
     "output_type": "stream",
     "text": [
      "WARNING: Base.mean is deprecated: it has been moved to the standard library package `Statistics`.\n",
      "Add `using Statistics` to your imports.\n",
      "  likely near In[7]:2\n"
     ]
    },
    {
     "data": {
      "text/plain": [
       "0.19304140875275638"
      ]
     },
     "execution_count": 7,
     "metadata": {},
     "output_type": "execute_result"
    }
   ],
   "source": [
    "using LinearAlgebra\n",
    "mean(A)"
   ]
  },
  {
   "cell_type": "code",
   "execution_count": 10,
   "metadata": {},
   "outputs": [
    {
     "data": {
      "text/plain": [
       "10×10×10 Array{Float64,3}:\n",
       "[:, :, 1] =\n",
       " NaN             NaN             …  NaN             NaN           \n",
       "   6.93804e-310  NaN                  4.94066e-324    1.71273e-314\n",
       " NaN             NaN                NaN             NaN           \n",
       "   1.947e-308      9.76118e-313     NaN               6.93804e-310\n",
       " NaN             NaN                NaN             NaN           \n",
       " NaN               6.93804e-310  …    6.93804e-310    0.0         \n",
       " NaN             NaN                NaN             NaN           \n",
       "   3.51138e-308    0.0                6.89924e-310    6.93804e-310\n",
       " NaN             NaN                NaN             NaN           \n",
       "   6.93804e-310  NaN                NaN               0.0         \n",
       "\n",
       "[:, :, 2] =\n",
       " NaN             NaN             …  NaN             NaN           \n",
       " NaN               6.93787e-310       9.88131e-324  NaN           \n",
       " NaN               6.93804e-310     NaN             NaN           \n",
       " NaN               0.0              NaN               0.0         \n",
       " NaN             NaN                NaN             NaN           \n",
       "   6.93804e-310    6.93787e-310  …    6.93787e-310    8.39912e-323\n",
       " NaN             NaN                NaN             NaN           \n",
       "   0.0           NaN                NaN               6.93804e-310\n",
       " NaN             NaN                NaN             NaN           \n",
       "   6.93804e-310  NaN                  6.93804e-310    9.57435e-308\n",
       "\n",
       "[:, :, 3] =\n",
       " NaN             NaN             …  NaN             NaN           \n",
       "   0.0             4.94066e-324       4.94066e-324    6.93804e-310\n",
       " NaN             NaN                NaN             NaN           \n",
       "   6.93787e-310    4.94066e-324       4.94066e-324    1.97626e-323\n",
       " NaN             NaN                NaN             NaN           \n",
       "   2.122e-314    NaN             …  NaN               4.94066e-324\n",
       " NaN             NaN                NaN             NaN           \n",
       "   6.93804e-310    8.48798e-314       0.0             0.0         \n",
       " NaN             NaN                NaN             NaN           \n",
       "   1.97626e-323    6.93787e-310       0.0           NaN           \n",
       "\n",
       "[:, :, 4] =\n",
       " NaN             NaN             …  NaN             NaN           \n",
       "   0.0             6.93804e-310       4.94066e-324    1.97626e-323\n",
       " NaN             NaN                NaN             NaN           \n",
       "   6.93804e-310  NaN                NaN               4.94066e-324\n",
       " NaN             NaN                NaN             NaN           \n",
       "   0.0             6.93804e-310  …    6.93787e-310    4.94066e-324\n",
       " NaN             NaN                NaN             NaN           \n",
       "   6.93804e-310  NaN                  6.93804e-310  NaN           \n",
       " NaN             NaN                NaN             NaN           \n",
       "   0.0             6.93804e-310     NaN             NaN           \n",
       "\n",
       "[:, :, 5] =\n",
       " NaN             NaN             …  NaN             NaN           \n",
       "   6.93804e-310  NaN                  0.0             0.0         \n",
       " NaN             NaN                NaN             NaN           \n",
       "   0.0             2.25974e-314       6.93804e-310  NaN           \n",
       " NaN             NaN                NaN             NaN           \n",
       "   0.0             6.93787e-310  …    0.0           NaN           \n",
       " NaN             NaN                NaN               0.0         \n",
       " NaN               6.93787e-310       6.93804e-310    6.93804e-310\n",
       " NaN             NaN                NaN               6.93804e-310\n",
       "   6.93804e-310    6.93804e-310       0.0             6.93804e-310\n",
       "\n",
       "[:, :, 6] =\n",
       "   6.93803e-310    0.0    0.0  …    0.0    0.0  NaN    NaN           \n",
       "   0.0             0.0    0.0       0.0    0.0    0.0    6.93804e-310\n",
       "   4.94066e-324    0.0    0.0       0.0    0.0    0.0    6.93804e-310\n",
       " NaN               0.0    0.0     NaN      0.0    0.0    3.95253e-323\n",
       "   0.0           NaN    NaN         0.0  NaN      0.0  NaN           \n",
       "   0.0             0.0  NaN    …    0.0    0.0  NaN      0.0         \n",
       "   0.0             0.0    0.0       0.0    0.0    0.0  NaN           \n",
       "   0.0             0.0    0.0       0.0    0.0    0.0    6.36599e-314\n",
       " NaN               0.0    0.0     NaN      0.0    0.0  NaN           \n",
       "   0.0           NaN      0.0     NaN      0.0    0.0    6.93804e-310\n",
       "\n",
       "[:, :, 7] =\n",
       " NaN             NaN             …  NaN             NaN           \n",
       "   0.0             6.93804e-310       0.0             2.122e-314  \n",
       " NaN             NaN                NaN             NaN           \n",
       "   6.93804e-310    6.93787e-310       0.0             6.93787e-310\n",
       "   6.93804e-310  NaN                NaN             NaN           \n",
       "   7.90505e-323    6.95293e-310  …    6.93804e-310    6.95293e-310\n",
       " NaN             NaN                NaN             NaN           \n",
       "   6.93804e-310    9.88131e-324       0.0             6.93787e-310\n",
       " NaN               6.93804e-310     NaN             NaN           \n",
       "   0.0             6.93787e-310       6.93804e-310    6.93787e-310\n",
       "\n",
       "[:, :, 8] =\n",
       " NaN             NaN             …  NaN             NaN           \n",
       "   6.93787e-310    6.93804e-310       6.93804e-310    0.0         \n",
       " NaN             NaN                NaN             NaN           \n",
       "   6.93804e-310    0.0                0.0             6.93804e-310\n",
       " NaN             NaN                NaN             NaN           \n",
       "   0.0             0.0           …    6.93804e-310    6.93787e-310\n",
       " NaN             NaN                NaN             NaN           \n",
       "   6.93804e-310    6.36599e-314       0.0             6.93787e-310\n",
       " NaN             NaN                NaN             NaN           \n",
       "   0.0             6.93804e-310       0.0             6.93787e-310\n",
       "\n",
       "[:, :, 9] =\n",
       " NaN             NaN             …  NaN               6.93804e-310  NaN\n",
       "   6.93804e-310    6.93804e-310       6.93804e-310  NaN             NaN\n",
       " NaN             NaN                NaN               6.93804e-310  NaN\n",
       "   6.93787e-310    0.0                6.93787e-310  NaN             NaN\n",
       " NaN             NaN                NaN             NaN             NaN\n",
       "   6.93787e-310    6.93804e-310  …    0.0           NaN             NaN\n",
       " NaN             NaN                NaN             NaN             NaN\n",
       "   6.93804e-310    0.0                6.93787e-310  NaN             NaN\n",
       " NaN             NaN                NaN             NaN             NaN\n",
       "   0.0             6.93804e-310       6.93804e-310  NaN             NaN\n",
       "\n",
       "[:, :, 10] =\n",
       " NaN  NaN             NaN  …  NaN  NaN             NaN           \n",
       " NaN  NaN             NaN     NaN  NaN               6.93804e-310\n",
       " NaN  NaN             NaN     NaN  NaN             NaN           \n",
       " NaN  NaN             NaN     NaN  NaN             NaN           \n",
       " NaN  NaN             NaN     NaN  NaN             NaN           \n",
       " NaN  NaN             NaN  …  NaN  NaN             NaN           \n",
       " NaN  NaN             NaN     NaN  NaN               6.93804e-310\n",
       " NaN  NaN             NaN     NaN  NaN               6.93804e-310\n",
       " NaN  NaN             NaN     NaN  NaN             NaN           \n",
       " NaN    6.93804e-310  NaN     NaN    6.93804e-310  NaN           "
      ]
     },
     "execution_count": 10,
     "metadata": {},
     "output_type": "execute_result"
    }
   ],
   "source": [
    "A = Array{Float64,3}(undef,10, 10, 10)"
   ]
  },
  {
   "cell_type": "code",
   "execution_count": 2,
   "metadata": {},
   "outputs": [
    {
     "data": {
      "text/plain": [
       "5×5×5 Array{Int64,3}:\n",
       "[:, :, 1] =\n",
       " 3  4  5   6   7\n",
       " 4  5  6   7   8\n",
       " 5  6  7   8   9\n",
       " 6  7  8   9  10\n",
       " 7  8  9  10  11\n",
       "\n",
       "[:, :, 2] =\n",
       " 4  5   6   7   8\n",
       " 5  6   7   8   9\n",
       " 6  7   8   9  10\n",
       " 7  8   9  10  11\n",
       " 8  9  10  11  12\n",
       "\n",
       "[:, :, 3] =\n",
       " 5   6   7   8   9\n",
       " 6   7   8   9  10\n",
       " 7   8   9  10  11\n",
       " 8   9  10  11  12\n",
       " 9  10  11  12  13\n",
       "\n",
       "[:, :, 4] =\n",
       "  6   7   8   9  10\n",
       "  7   8   9  10  11\n",
       "  8   9  10  11  12\n",
       "  9  10  11  12  13\n",
       " 10  11  12  13  14\n",
       "\n",
       "[:, :, 5] =\n",
       "  7   8   9  10  11\n",
       "  8   9  10  11  12\n",
       "  9  10  11  12  13\n",
       " 10  11  12  13  14\n",
       " 11  12  13  14  15"
      ]
     },
     "execution_count": 2,
     "metadata": {},
     "output_type": "execute_result"
    }
   ],
   "source": [
    "A = [i+j+k for i in 1:5, j in 1:5, k in 1:5]"
   ]
  },
  {
   "cell_type": "code",
   "execution_count": 5,
   "metadata": {},
   "outputs": [
    {
     "name": "stderr",
     "output_type": "stream",
     "text": [
      "┌ Warning: omitting indices for non-singleton trailing dimensions is deprecated. Add `1`s as trailing indices or use `reshape(A, Val(2))` to make the dimensionality of the array match the number of indices.\n",
      "│   caller = top-level scope at none:0\n",
      "└ @ Core none:0\n"
     ]
    },
    {
     "data": {
      "text/plain": [
       "7"
      ]
     },
     "execution_count": 5,
     "metadata": {},
     "output_type": "execute_result"
    }
   ],
   "source": [
    "A[1,5]"
   ]
  },
  {
   "cell_type": "code",
   "execution_count": null,
   "metadata": {},
   "outputs": [],
   "source": []
  },
  {
   "cell_type": "code",
   "execution_count": null,
   "metadata": {},
   "outputs": [],
   "source": []
  },
  {
   "cell_type": "code",
   "execution_count": null,
   "metadata": {},
   "outputs": [],
   "source": []
  },
  {
   "cell_type": "code",
   "execution_count": null,
   "metadata": {},
   "outputs": [],
   "source": []
  },
  {
   "cell_type": "code",
   "execution_count": 8,
   "metadata": {},
   "outputs": [
    {
     "name": "stderr",
     "output_type": "stream",
     "text": [
      "┌ Warning: `ind2sub(dims, ind)` is deprecated, use `Tuple(CartesianIndices(dims)[ind])` for a direct replacement. In many cases, the conversion to `Tuple` is not necessary.\n",
      "│   caller = top-level scope at none:0\n",
      "└ @ Core none:0\n"
     ]
    },
    {
     "data": {
      "text/plain": [
       "(10, 5)"
      ]
     },
     "execution_count": 8,
     "metadata": {},
     "output_type": "execute_result"
    }
   ],
   "source": [
    "A = randn(10, 10)\n",
    "ind2sub(size(A), 50)"
   ]
  },
  {
   "cell_type": "code",
   "execution_count": 27,
   "metadata": {},
   "outputs": [
    {
     "name": "stderr",
     "output_type": "stream",
     "text": [
      "┌ Warning: `sub2ind(dims::DimsInteger, I::Integer...)` is deprecated, use `(LinearIndices(dims))[I...]` instead.\n",
      "│   caller = top-level scope at none:0\n",
      "└ @ Core none:0\n"
     ]
    },
    {
     "data": {
      "text/plain": [
       "50"
      ]
     },
     "execution_count": 27,
     "metadata": {},
     "output_type": "execute_result"
    }
   ],
   "source": [
    "sub2ind(size(A), 10, 5)"
   ]
  },
  {
   "cell_type": "code",
   "execution_count": 34,
   "metadata": {},
   "outputs": [
    {
     "data": {
      "text/plain": [
       "51.5"
      ]
     },
     "execution_count": 34,
     "metadata": {},
     "output_type": "execute_result"
    }
   ],
   "source": [
    "using Statistics\n",
    "Statistics.mean([101., 2.])"
   ]
  },
  {
   "cell_type": "code",
   "execution_count": 17,
   "metadata": {},
   "outputs": [
    {
     "name": "stderr",
     "output_type": "stream",
     "text": [
      "┌ Warning: `ind2sub(dims, ind)` is deprecated, use `Tuple(CartesianIndices(dims)[ind])` for a direct replacement. In many cases, the conversion to `Tuple` is not necessary.\n",
      "│   caller = top-level scope at none:0\n",
      "└ @ Core none:0\n"
     ]
    },
    {
     "data": {
      "text/plain": [
       "(10, 4)"
      ]
     },
     "execution_count": 17,
     "metadata": {},
     "output_type": "execute_result"
    }
   ],
   "source": [
    "ind2sub((10,10), 40)"
   ]
  },
  {
   "cell_type": "code",
   "execution_count": null,
   "metadata": {},
   "outputs": [],
   "source": [
    "Tuple(CartesianIndices((10,10)))"
   ]
  },
  {
   "cell_type": "code",
   "execution_count": 25,
   "metadata": {},
   "outputs": [
    {
     "data": {
      "text/plain": [
       "CartesianIndex(10, 4)"
      ]
     },
     "execution_count": 25,
     "metadata": {},
     "output_type": "execute_result"
    }
   ],
   "source": [
    "CartesianIndices((10,10))[40]"
   ]
  },
  {
   "cell_type": "code",
   "execution_count": 2,
   "metadata": {},
   "outputs": [
    {
     "name": "stdout",
     "output_type": "stream",
     "text": [
      "search: \u001b[0m\u001b[1mf\u001b[22m\u001b[0m\u001b[1mi\u001b[22m\u001b[0m\u001b[1mn\u001b[22m\u001b[0m\u001b[1md\u001b[22m\u001b[0m\u001b[1mf\u001b[22m\u001b[0m\u001b[1mi\u001b[22m\u001b[0m\u001b[1mr\u001b[22m\u001b[0m\u001b[1ms\u001b[22m\u001b[0m\u001b[1mt\u001b[22m\n",
      "\n"
     ]
    },
    {
     "data": {
      "text/markdown": [
       "```\n",
       "findfirst(A)\n",
       "```\n",
       "\n",
       "Return the index or key of the first `true` value in `A`. Return `nothing` if no such value is found. To search for other kinds of values, pass a predicate as the first argument.\n",
       "\n",
       "Indices or keys are of the same type as those returned by [`keys(A)`](@ref) and [`pairs(A)`](@ref).\n",
       "\n",
       "# Examples\n",
       "\n",
       "```jldoctest\n",
       "julia> A = [false, false, true, false]\n",
       "4-element Array{Bool,1}:\n",
       " false\n",
       " false\n",
       "  true\n",
       " false\n",
       "\n",
       "julia> findfirst(A)\n",
       "3\n",
       "\n",
       "julia> findfirst(falses(3)) # returns nothing, but not printed in the REPL\n",
       "\n",
       "julia> A = [false false; true false]\n",
       "2×2 Array{Bool,2}:\n",
       " false  false\n",
       "  true  false\n",
       "\n",
       "julia> findfirst(A)\n",
       "CartesianIndex(2, 1)\n",
       "```\n",
       "\n",
       "---\n",
       "\n",
       "```\n",
       "findfirst(predicate::Function, A)\n",
       "```\n",
       "\n",
       "Return the index or key of the first element of `A` for which `predicate` returns `true`. Return `nothing` if there is no such element.\n",
       "\n",
       "Indices or keys are of the same type as those returned by [`keys(A)`](@ref) and [`pairs(A)`](@ref).\n",
       "\n",
       "# Examples\n",
       "\n",
       "```jldoctest\n",
       "julia> A = [1, 4, 2, 2]\n",
       "4-element Array{Int64,1}:\n",
       " 1\n",
       " 4\n",
       " 2\n",
       " 2\n",
       "\n",
       "julia> findfirst(iseven, A)\n",
       "2\n",
       "\n",
       "julia> findfirst(x -> x>10, A) # returns nothing, but not printed in the REPL\n",
       "\n",
       "julia> findfirst(isequal(4), A)\n",
       "2\n",
       "\n",
       "julia> A = [1 4; 2 2]\n",
       "2×2 Array{Int64,2}:\n",
       " 1  4\n",
       " 2  2\n",
       "\n",
       "julia> findfirst(iseven, A)\n",
       "CartesianIndex(2, 1)\n",
       "```\n",
       "\n",
       "---\n",
       "\n",
       "```\n",
       "findfirst(pattern::AbstractString, string::AbstractString)\n",
       "findfirst(pattern::Regex, string::String)\n",
       "```\n",
       "\n",
       "Find the first occurrence of `pattern` in `string`. Equivalent to [`findnext(pattern, string, firstindex(s))`](@ref).\n",
       "\n",
       "# Examples\n",
       "\n",
       "```jldoctest\n",
       "julia> findfirst(\"z\", \"Hello to the world\") # returns nothing, but not printed in the REPL\n",
       "\n",
       "julia> findfirst(\"Julia\", \"JuliaLang\")\n",
       "1:5\n",
       "```\n"
      ],
      "text/plain": [
       "\u001b[36m  findfirst(A)\u001b[39m\n",
       "\n",
       "  Return the index or key of the first \u001b[36mtrue\u001b[39m value in \u001b[36mA\u001b[39m. Return \u001b[36mnothing\u001b[39m if no\n",
       "  such value is found. To search for other kinds of values, pass a predicate\n",
       "  as the first argument.\n",
       "\n",
       "  Indices or keys are of the same type as those returned by \u001b[36mkeys(A)\u001b[39m and\n",
       "  \u001b[36mpairs(A)\u001b[39m.\n",
       "\n",
       "\u001b[1m  Examples\u001b[22m\n",
       "\u001b[1m  ≡≡≡≡≡≡≡≡≡≡\u001b[22m\n",
       "\n",
       "\u001b[36m  julia> A = [false, false, true, false]\u001b[39m\n",
       "\u001b[36m  4-element Array{Bool,1}:\u001b[39m\n",
       "\u001b[36m   false\u001b[39m\n",
       "\u001b[36m   false\u001b[39m\n",
       "\u001b[36m    true\u001b[39m\n",
       "\u001b[36m   false\u001b[39m\n",
       "\u001b[36m  \u001b[39m\n",
       "\u001b[36m  julia> findfirst(A)\u001b[39m\n",
       "\u001b[36m  3\u001b[39m\n",
       "\u001b[36m  \u001b[39m\n",
       "\u001b[36m  julia> findfirst(falses(3)) # returns nothing, but not printed in the REPL\u001b[39m\n",
       "\u001b[36m  \u001b[39m\n",
       "\u001b[36m  julia> A = [false false; true false]\u001b[39m\n",
       "\u001b[36m  2×2 Array{Bool,2}:\u001b[39m\n",
       "\u001b[36m   false  false\u001b[39m\n",
       "\u001b[36m    true  false\u001b[39m\n",
       "\u001b[36m  \u001b[39m\n",
       "\u001b[36m  julia> findfirst(A)\u001b[39m\n",
       "\u001b[36m  CartesianIndex(2, 1)\u001b[39m\n",
       "\n",
       "  ────────────────────────────────────────────────────────────────────────────\n",
       "\n",
       "\u001b[36m  findfirst(predicate::Function, A)\u001b[39m\n",
       "\n",
       "  Return the index or key of the first element of \u001b[36mA\u001b[39m for which \u001b[36mpredicate\u001b[39m\n",
       "  returns \u001b[36mtrue\u001b[39m. Return \u001b[36mnothing\u001b[39m if there is no such element.\n",
       "\n",
       "  Indices or keys are of the same type as those returned by \u001b[36mkeys(A)\u001b[39m and\n",
       "  \u001b[36mpairs(A)\u001b[39m.\n",
       "\n",
       "\u001b[1m  Examples\u001b[22m\n",
       "\u001b[1m  ≡≡≡≡≡≡≡≡≡≡\u001b[22m\n",
       "\n",
       "\u001b[36m  julia> A = [1, 4, 2, 2]\u001b[39m\n",
       "\u001b[36m  4-element Array{Int64,1}:\u001b[39m\n",
       "\u001b[36m   1\u001b[39m\n",
       "\u001b[36m   4\u001b[39m\n",
       "\u001b[36m   2\u001b[39m\n",
       "\u001b[36m   2\u001b[39m\n",
       "\u001b[36m  \u001b[39m\n",
       "\u001b[36m  julia> findfirst(iseven, A)\u001b[39m\n",
       "\u001b[36m  2\u001b[39m\n",
       "\u001b[36m  \u001b[39m\n",
       "\u001b[36m  julia> findfirst(x -> x>10, A) # returns nothing, but not printed in the REPL\u001b[39m\n",
       "\u001b[36m  \u001b[39m\n",
       "\u001b[36m  julia> findfirst(isequal(4), A)\u001b[39m\n",
       "\u001b[36m  2\u001b[39m\n",
       "\u001b[36m  \u001b[39m\n",
       "\u001b[36m  julia> A = [1 4; 2 2]\u001b[39m\n",
       "\u001b[36m  2×2 Array{Int64,2}:\u001b[39m\n",
       "\u001b[36m   1  4\u001b[39m\n",
       "\u001b[36m   2  2\u001b[39m\n",
       "\u001b[36m  \u001b[39m\n",
       "\u001b[36m  julia> findfirst(iseven, A)\u001b[39m\n",
       "\u001b[36m  CartesianIndex(2, 1)\u001b[39m\n",
       "\n",
       "  ────────────────────────────────────────────────────────────────────────────\n",
       "\n",
       "\u001b[36m  findfirst(pattern::AbstractString, string::AbstractString)\u001b[39m\n",
       "\u001b[36m  findfirst(pattern::Regex, string::String)\u001b[39m\n",
       "\n",
       "  Find the first occurrence of \u001b[36mpattern\u001b[39m in \u001b[36mstring\u001b[39m. Equivalent to\n",
       "  \u001b[36mfindnext(pattern, string, firstindex(s))\u001b[39m.\n",
       "\n",
       "\u001b[1m  Examples\u001b[22m\n",
       "\u001b[1m  ≡≡≡≡≡≡≡≡≡≡\u001b[22m\n",
       "\n",
       "\u001b[36m  julia> findfirst(\"z\", \"Hello to the world\") # returns nothing, but not printed in the REPL\u001b[39m\n",
       "\u001b[36m  \u001b[39m\n",
       "\u001b[36m  julia> findfirst(\"Julia\", \"JuliaLang\")\u001b[39m\n",
       "\u001b[36m  1:5\u001b[39m"
      ]
     },
     "execution_count": 2,
     "metadata": {},
     "output_type": "execute_result"
    }
   ],
   "source": [
    "? findfirst"
   ]
  },
  {
   "cell_type": "code",
   "execution_count": 3,
   "metadata": {},
   "outputs": [
    {
     "name": "stdout",
     "output_type": "stream",
     "text": [
      "search: \u001b[0m\u001b[1ms\u001b[22m\u001b[0m\u001b[1mo\u001b[22m\u001b[0m\u001b[1mm\u001b[22m\u001b[0m\u001b[1me\u001b[22m\u001b[0m\u001b[1mt\u001b[22m\u001b[0m\u001b[1mh\u001b[22m\u001b[0m\u001b[1mi\u001b[22m\u001b[0m\u001b[1mn\u001b[22m\u001b[0m\u001b[1mg\u001b[22m\n",
      "\n"
     ]
    },
    {
     "data": {
      "text/markdown": [
       "```\n",
       "something(x, y...)\n",
       "```\n",
       "\n",
       "Return the first value in the arguments which is not equal to [`nothing`](@ref), if any. Otherwise throw an error. Arguments of type [`Some`](@ref) are unwrapped.\n",
       "\n",
       "# Examples\n",
       "\n",
       "```jldoctest\n",
       "julia> something(nothing, 1)\n",
       "1\n",
       "\n",
       "julia> something(Some(1), nothing)\n",
       "1\n",
       "\n",
       "julia> something(missing, nothing)\n",
       "missing\n",
       "\n",
       "julia> something(nothing, nothing)\n",
       "ERROR: ArgumentError: No value arguments present\n",
       "```\n"
      ],
      "text/plain": [
       "\u001b[36m  something(x, y...)\u001b[39m\n",
       "\n",
       "  Return the first value in the arguments which is not equal to \u001b[36mnothing\u001b[39m, if\n",
       "  any. Otherwise throw an error. Arguments of type \u001b[36mSome\u001b[39m are unwrapped.\n",
       "\n",
       "\u001b[1m  Examples\u001b[22m\n",
       "\u001b[1m  ≡≡≡≡≡≡≡≡≡≡\u001b[22m\n",
       "\n",
       "\u001b[36m  julia> something(nothing, 1)\u001b[39m\n",
       "\u001b[36m  1\u001b[39m\n",
       "\u001b[36m  \u001b[39m\n",
       "\u001b[36m  julia> something(Some(1), nothing)\u001b[39m\n",
       "\u001b[36m  1\u001b[39m\n",
       "\u001b[36m  \u001b[39m\n",
       "\u001b[36m  julia> something(missing, nothing)\u001b[39m\n",
       "\u001b[36m  missing\u001b[39m\n",
       "\u001b[36m  \u001b[39m\n",
       "\u001b[36m  julia> something(nothing, nothing)\u001b[39m\n",
       "\u001b[36m  ERROR: ArgumentError: No value arguments present\u001b[39m"
      ]
     },
     "execution_count": 3,
     "metadata": {},
     "output_type": "execute_result"
    }
   ],
   "source": [
    "? something"
   ]
  },
  {
   "cell_type": "code",
   "execution_count": null,
   "metadata": {},
   "outputs": [],
   "source": []
  }
 ],
 "metadata": {
  "kernelspec": {
   "display_name": "Julia 0.7.0-beta2",
   "language": "julia",
   "name": "julia-0.7"
  },
  "language_info": {
   "file_extension": ".jl",
   "mimetype": "application/julia",
   "name": "julia",
   "version": "0.7.0"
  }
 },
 "nbformat": 4,
 "nbformat_minor": 2
}
