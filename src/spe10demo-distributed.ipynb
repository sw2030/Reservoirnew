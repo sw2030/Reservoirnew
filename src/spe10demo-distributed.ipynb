{
 "cells": [
  {
   "cell_type": "markdown",
   "metadata": {},
   "source": [
    "# SPE10 Demo - Distributed version"
   ]
  },
  {
   "cell_type": "code",
   "execution_count": 1,
   "metadata": {
    "collapsed": true
   },
   "outputs": [],
   "source": [
    "addprocs(4);\n",
    "using DistributedArrays\n",
    "@everywhere using DistributedArrays\n",
    "using ForwardDiff\n",
    "@everywhere using ForwardDiff\n",
    "using StaticArrays\n",
    "@everywhere using StaticArrays\n",
    "@everywhere include(\"Stencil.jl\")\n",
    "@everywhere include(\"stencilgmres.jl\")\n",
    "@everywhere include(\"reservoirfunc.jl\")\n",
    "@everywhere include(\"distributed.jl\")\n",
    "@everywhere include(\"res3d.jl\")\n",
    "@everywhere include(\"preconditioning.jl\")\n",
    "using BenchmarkTools"
   ]
  },
  {
   "cell_type": "code",
   "execution_count": 2,
   "metadata": {
    "collapsed": true
   },
   "outputs": [],
   "source": [
    "permdata = open(\"spe_perm.dat\")\n",
    "phidata  = open(\"spe_phi.dat\")\n",
    "raw1 = readdlm(phidata)\n",
    "raw2 = readdlm(permdata)\n",
    "close(permdata)\n",
    "close(phidata)\n",
    "porosity = reshape(raw1', 60, 220, 85)\n",
    "lineperm = reshape(raw2', 3366000, 1)\n",
    "kx = reshape(lineperm[1:1122000]', 60, 220, 85)\n",
    "ky = reshape(lineperm[1122001:2244000]', 60, 220, 85)\n",
    "kz = reshape(lineperm[2244001:end]', 60, 220, 85)\n",
    "savepor = copy(porosity)\n",
    "## Porosity pre-processing\n",
    "for id in eachindex(porosity)\n",
    "    if abs(porosity[id])<1e-3\n",
    "        porosity[id] = 0.2\n",
    "        kx[id], ky[id], kz[id] = 1e-10, 1e-10, 1e-10\n",
    "    end\n",
    "end\n",
    "kraw = [SVector{3,Float64}([kx[i,j,k], ky[i,j,k], kz[i,j,k]]) for i in 1:60, j in 1:220, k in 1:85];"
   ]
  },
  {
   "cell_type": "code",
   "execution_count": 3,
   "metadata": {
    "collapsed": true
   },
   "outputs": [],
   "source": [
    "Nx = 30\n",
    "Ny = 30\n",
    "Nz = 30\n",
    "offsetx = 1\n",
    "offsety = 1\n",
    "offsetz = 1;"
   ]
  },
  {
   "cell_type": "code",
   "execution_count": 4,
   "metadata": {
    "collapsed": true
   },
   "outputs": [],
   "source": [
    "@everywhere p_ref = 14.7 \n",
    "@everywhere C_r   = 3e-6\n",
    "@everywhere ϕ_ref = 0.2\n",
    "#=everywhere=# ϕ     = porosity[offsetx:(Nx+offsetx-1), offsety:(Ny+offsety-1), offsetz:(Nz+offsetz-1)]\n",
    "@everywhere S_wc, S_or = 0.2, 0.2\n",
    "@everywhere k_r_w(x)   = ((x-S_wc)/(1-S_wc-S_or))^2\n",
    "@everywhere k_r_o(x)   = (1 - (x-S_wc)/(1-S_wc-S_or))^2\n",
    "@everywhere p_cow(x)   = 0\n",
    "@everywhere C_water    = 3e-6\n",
    "@everywhere C_oil      = 3e-6\n",
    "@everywhere ρ_water(p) = 64.0*exp(C_water*(p-p_ref)) \n",
    "@everywhere ρ_oil(p)   = 53.0*exp(C_oil*(p-p_ref))   \n",
    "@everywhere μ_water = 0.3 # cp\n",
    "@everywhere μ_oil   = 3.0; # cp\n",
    "saveper = (kx.+ky.+kz)./3\n",
    "saveper = saveper[offsetx:(Nx+offsetx-1), offsety:(Ny+offsety-1), offsetz:(Nz+offsetz-1)];"
   ]
  },
  {
   "cell_type": "code",
   "execution_count": 5,
   "metadata": {
    "collapsed": true
   },
   "outputs": [],
   "source": [
    "## 3d model\n",
    "Lx = 1200\n",
    "Ly = 2200\n",
    "Lz = 170\n",
    "Δt = 1.0\n",
    "Tf = 2000.0\n",
    "Δx_d = distribute(fill(Lx/Nx, Nx, Ny, Nz))\n",
    "Δy_d = distribute(fill(Ly/Ny, Nx, Ny, Nz), Δx_d)\n",
    "Δz_d = distribute(fill(Lz/Nz, Nx, Ny, Nz), Δx_d)\n",
    "z_d  = distribute(fill(12000.0, Nx, Ny, Nz), Δx_d)\n",
    "ϕ_d = distribute(ϕ, Δx_d)\n",
    "k_d = makegrid(distribute(kraw[offsetx:(Nx+offsetx-1), offsety:(Ny+offsety-1), offsetz:(Nz+offsetz-1)],Δx_d),7)\n",
    "model = Reservoirmodel(Δt, Tf, (Δx_d, Δy_d, Δz_d), z_d, k_d, p_ref, C_r, ϕ_ref, ϕ_d, \n",
    "                k_r_w, k_r_o, p_cow, C_water, C_oil, ρ_water, ρ_oil, μ_water, μ_oil);"
   ]
  },
  {
   "cell_type": "code",
   "execution_count": 6,
   "metadata": {
    "collapsed": true
   },
   "outputs": [],
   "source": [
    "## Porosity proportional control\n",
    "Total = 40.0*Nx\n",
    "q = zeros(Nx, Ny, Nz, 2)\n",
    "for i in (1,Nx), j in (1,Ny), k in 1:Nz\n",
    "    q[i,j,k,2] = Total*(saveper[i,j,k]/sum(saveper[i,j,:]))/4\n",
    "end\n",
    "halfx, halfy = round(Int, Nx/2),round(Int, Ny/2)\n",
    "for k in 1:Nz\n",
    "    q[halfx,halfy,k,1] = -Total*(saveper[halfx,halfy,k]/sum(saveper[halfx,halfy,:]))\n",
    "end \n",
    "q_d = distribute(q);"
   ]
  },
  {
   "cell_type": "code",
   "execution_count": 7,
   "metadata": {
    "collapsed": true
   },
   "outputs": [],
   "source": [
    "init_d      = distribute([SVector{2,Float64}([6000.0,0.2]) for i in 1:Nx, j in 1:Ny, k in 1:Nz],Δx_d)\n",
    "testgrid_d   = makegrid(init_d, 7);\n",
    "g_guess_d   = testgrid_d;"
   ]
  },
  {
   "cell_type": "code",
   "execution_count": 8,
   "metadata": {
    "collapsed": true
   },
   "outputs": [],
   "source": [
    "S_d   = getstencil(model, q_d, g_guess_d, testgrid_d)\n",
    "res_d = getresidual(model, q_d, g_guess_d, testgrid_d);"
   ]
  },
  {
   "cell_type": "markdown",
   "metadata": {},
   "source": [
    "# Parallel benchmark (residual, jacobian)"
   ]
  },
  {
   "cell_type": "code",
   "execution_count": 9,
   "metadata": {},
   "outputs": [
    {
     "name": "stdout",
     "output_type": "stream",
     "text": [
      "  1.633 s (1194 allocations: 74.33 KiB)\n"
     ]
    }
   ],
   "source": [
    "@btime getstencil(model, q_d, g_guess_d, testgrid_d);"
   ]
  },
  {
   "cell_type": "code",
   "execution_count": 10,
   "metadata": {},
   "outputs": [
    {
     "name": "stdout",
     "output_type": "stream",
     "text": [
      "  390.331 ms (2348 allocations: 179.45 KiB)\n"
     ]
    }
   ],
   "source": [
    "@btime getresidual(model, q_d, g_guess_d, testgrid_d);"
   ]
  }
 ],
 "metadata": {
  "kernelspec": {
   "display_name": "Julia 0.6.2",
   "language": "julia",
   "name": "julia-0.6"
  },
  "language_info": {
   "file_extension": ".jl",
   "mimetype": "application/julia",
   "name": "julia",
   "version": "0.6.2"
  }
 },
 "nbformat": 4,
 "nbformat_minor": 2
}
